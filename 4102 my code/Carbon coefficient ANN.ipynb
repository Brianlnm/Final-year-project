{
 "cells": [
  {
   "cell_type": "markdown",
   "source": [
    "# Import necessary libraries"
   ],
   "metadata": {
    "collapsed": false
   },
   "id": "3f10e177330d9417"
  },
  {
   "cell_type": "code",
   "execution_count": 1,
   "outputs": [
    {
     "name": "stdout",
     "output_type": "stream",
     "text": [
      "WARNING:tensorflow:From C:\\Users\\leeno\\anaconda3\\Lib\\site-packages\\keras\\src\\losses.py:2976: The name tf.losses.sparse_softmax_cross_entropy is deprecated. Please use tf.compat.v1.losses.sparse_softmax_cross_entropy instead.\n"
     ]
    }
   ],
   "source": [
    "# Libraries to help with reading and manipulating data\n",
    "import numpy as np\n",
    "import pandas as pd\n",
    "# libaries to help with data visualization\n",
    "import plotly.express as px\n",
    "import plotly.graph_objects as go\n",
    "import matplotlib.pyplot as plt\n",
    "import seaborn as sns\n",
    "# Library to split data\n",
    "from sklearn.model_selection import train_test_split\n",
    "# library to import to standardize the data\n",
    "from sklearn.preprocessing import MinMaxScaler\n",
    "#To import different metrics\n",
    "from sklearn.metrics import explained_variance_score, mean_squared_error, r2_score, mean_absolute_error\n",
    "#Importing classback API\n",
    "from keras import callbacks\n",
    "# Importing tensorflow library\n",
    "import tensorflow as tf\n",
    "# importing different functions to build models\n",
    "from tensorflow.keras.layers import Dense, Dropout,InputLayer\n",
    "from tensorflow.keras.models import Sequential\n",
    "# Importing Batch Normalization\n",
    "from keras.layers import BatchNormalization\n",
    "# Importing backend\n",
    "from tensorflow.keras import backend\n",
    "# Importing shffule\n",
    "import random\n",
    "from random import shuffle\n",
    "from keras.callbacks import ModelCheckpoint\n",
    "# Importing optimizers\n",
    "from tensorflow.keras.optimizers import Adam\n",
    "from tensorflow.keras.optimizers import RMSprop\n",
    "from  tensorflow.keras.optimizers import SGD\n",
    "\n",
    "from sklearn.neural_network import MLPRegressor\n",
    "from sklearn.model_selection import GridSearchCV, RandomizedSearchCV\n",
    "\n",
    "\n",
    "#Import Shap\n",
    "import shap\n",
    "\n",
    "\n",
    "#Scipy functions\n",
    "from scipy.stats import randint, uniform\n",
    "\n",
    "# Library to avoid the warnings\n",
    "import warnings\n",
    "warnings.filterwarnings(\"ignore\")"
   ],
   "metadata": {
    "collapsed": false,
    "ExecuteTime": {
     "end_time": "2024-01-29T08:34:56.347980400Z",
     "start_time": "2024-01-29T08:34:43.411172300Z"
    }
   },
   "id": "initial_id"
  },
  {
   "cell_type": "markdown",
   "source": [
    "# Load data"
   ],
   "metadata": {
    "collapsed": false
   },
   "id": "d6fe6da4977fe2fd"
  },
  {
   "cell_type": "code",
   "execution_count": 2,
   "outputs": [
    {
     "data": {
      "text/plain": "      Number          Data source Selected Mix number in literature  \\\n0        NaN       2. Yunusa 2014      NaN                    PC-40   \n1        NaN       2. Yunusa 2014      NaN                    PC-50   \n2        NaN       2. Yunusa 2014      NaN                    PC-60   \n3        NaN       2. Yunusa 2014      NaN                    PC-75   \n4        NaN       2. Yunusa 2014      NaN                    FA-40   \n...      ...                  ...      ...                      ...   \n1983     NaN  J48. Farahani, 2015      NaN                     W3-4   \n1984     NaN  J48. Farahani, 2015      NaN                     W4-1   \n1985     NaN  J48. Farahani, 2015      NaN                     W4-2   \n1986     NaN  J48. Farahani, 2015      NaN                     W4-3   \n1987     NaN  J48. Farahani, 2015      NaN                     W4-4   \n\n      ASTM type 1 ordinary Portland Cement content (kg/m^3)  \\\n0                                                   0.0       \n1                                                   0.0       \n2                                                   0.0       \n3                                                   0.0       \n4                                                   0.0       \n...                                                 ...       \n1983                                              350.0       \n1984                                              380.0       \n1985                                              370.0       \n1986                                              360.0       \n1987                                              350.0       \n\n      CEM I 42.5N ordinary Portland Cement content (kg/m^3)  \\\n0                                                   0.0       \n1                                                   0.0       \n2                                                   0.0       \n3                                                   0.0       \n4                                                   0.0       \n...                                                 ...       \n1983                                                0.0       \n1984                                                0.0       \n1985                                                0.0       \n1986                                                0.0       \n1987                                                0.0       \n\n      CEM I 52.5N ordinary Portland Cement content (kg/m^3)  \\\n0                                                 450.0       \n1                                                 400.0       \n2                                                 350.0       \n3                                                 300.0       \n4                                                 315.0       \n...                                                 ...       \n1983                                                0.0       \n1984                                                0.0       \n1985                                                0.0       \n1986                                                0.0       \n1987                                                0.0       \n\n      Class C Fly ash content (kg/m^3)  Class F Fly ash content (kg/m^3)  \\\n0                                  0.0                               0.0   \n1                                  0.0                               0.0   \n2                                  0.0                               0.0   \n3                                  0.0                               0.0   \n4                                  0.0                             135.0   \n...                                ...                               ...   \n1983                               0.0                               0.0   \n1984                               0.0                               0.0   \n1985                               0.0                               0.0   \n1986                               0.0                               0.0   \n1987                               0.0                               0.0   \n\n      Slag content (kg/m^3)  ...  \\\n0                       0.0  ...   \n1                       0.0  ...   \n2                       0.0  ...   \n3                       0.0  ...   \n4                       0.0  ...   \n...                     ...  ...   \n1983                    0.0  ...   \n1984                    0.0  ...   \n1985                    0.0  ...   \n1986                    0.0  ...   \n1987                    0.0  ...   \n\n      Annual average temperature of exposed environment (Celsius degree)  \\\n0                                                  24.3                    \n1                                                  24.3                    \n2                                                  24.3                    \n3                                                  24.3                    \n4                                                  24.3                    \n...                                                 ...                    \n1983                                                NaN                    \n1984                                                NaN                    \n1985                                                NaN                    \n1986                                                NaN                    \n1987                                                NaN                    \n\n      Annual wetting times/rainy days of exposed environment (d)  \\\n0                                                   0.0            \n1                                                   0.0            \n2                                                   0.0            \n3                                                   0.0            \n4                                                   0.0            \n...                                                 ...            \n1983                                                NaN            \n1984                                                NaN            \n1985                                                NaN            \n1986                                                NaN            \n1987                                                NaN            \n\n      Annual average precipitation of exposed environment (mm)  Slump (mm)  \\\n0                                                   0.0               30.0   \n1                                                   0.0               60.0   \n2                                                   0.0              100.0   \n3                                                   0.0              140.0   \n4                                                   0.0               40.0   \n...                                                 ...                ...   \n1983                                                NaN                NaN   \n1984                                                NaN                NaN   \n1985                                                NaN                NaN   \n1986                                                NaN                NaN   \n1987                                                NaN                NaN   \n\n      Average 28-day compressive strength (Mpa)  \\\n0                                         75.93   \n1                                         64.50   \n2                                         49.23   \n3                                         36.00   \n4                                         62.80   \n...                                         ...   \n1983                                        NaN   \n1984                                        NaN   \n1985                                        NaN   \n1986                                        NaN   \n1987                                        NaN   \n\n      Average 28-day split strength (Mpa)  \\\n0                                     NaN   \n1                                     NaN   \n2                                     NaN   \n3                                     NaN   \n4                                     NaN   \n...                                   ...   \n1983                                  NaN   \n1984                                  NaN   \n1985                                  NaN   \n1986                                  NaN   \n1987                                  NaN   \n\n     Chloride diffusion coefficient (10-12 m2/s)  \\\n0                                            NaN   \n1                                            NaN   \n2                                            NaN   \n3                                            NaN   \n4                                            NaN   \n...                                          ...   \n1983                                       1.550   \n1984                                       3.375   \n1985                                       1.000   \n1986                                       0.500   \n1987                                       0.825   \n\n      Average carbonation coefficient (mm/year^0.5)  Specimen size  \\\n0                                             3.139            NaN   \n1                                             4.022            NaN   \n2                                             6.670            NaN   \n3                                             7.945            NaN   \n4                                             6.052            NaN   \n...                                             ...            ...   \n1983                                            NaN    150*150*150   \n1984                                            NaN    150*150*150   \n1985                                            NaN    150*150*150   \n1986                                            NaN    150*150*150   \n1987                                            NaN    150*150*150   \n\n                                                   Note  \n0     No significant effect of initial water curing ...  \n1                                                   NaN  \n2                                                   NaN  \n3                                                   NaN  \n4                                                   NaN  \n...                                                 ...  \n1983                                                NaN  \n1984                                                NaN  \n1985                                                NaN  \n1986                                                NaN  \n1987                                                NaN  \n\n[1988 rows x 34 columns]",
      "text/html": "<div>\n<style scoped>\n    .dataframe tbody tr th:only-of-type {\n        vertical-align: middle;\n    }\n\n    .dataframe tbody tr th {\n        vertical-align: top;\n    }\n\n    .dataframe thead th {\n        text-align: right;\n    }\n</style>\n<table border=\"1\" class=\"dataframe\">\n  <thead>\n    <tr style=\"text-align: right;\">\n      <th></th>\n      <th>Number</th>\n      <th>Data source</th>\n      <th>Selected</th>\n      <th>Mix number in literature</th>\n      <th>ASTM type 1 ordinary Portland Cement content (kg/m^3)</th>\n      <th>CEM I 42.5N ordinary Portland Cement content (kg/m^3)</th>\n      <th>CEM I 52.5N ordinary Portland Cement content (kg/m^3)</th>\n      <th>Class C Fly ash content (kg/m^3)</th>\n      <th>Class F Fly ash content (kg/m^3)</th>\n      <th>Slag content (kg/m^3)</th>\n      <th>...</th>\n      <th>Annual average temperature of exposed environment (Celsius degree)</th>\n      <th>Annual wetting times/rainy days of exposed environment (d)</th>\n      <th>Annual average precipitation of exposed environment (mm)</th>\n      <th>Slump (mm)</th>\n      <th>Average 28-day compressive strength (Mpa)</th>\n      <th>Average 28-day split strength (Mpa)</th>\n      <th>Chloride diffusion coefficient (10-12 m2/s)</th>\n      <th>Average carbonation coefficient (mm/year^0.5)</th>\n      <th>Specimen size</th>\n      <th>Note</th>\n    </tr>\n  </thead>\n  <tbody>\n    <tr>\n      <th>0</th>\n      <td>NaN</td>\n      <td>2. Yunusa 2014</td>\n      <td>NaN</td>\n      <td>PC-40</td>\n      <td>0.0</td>\n      <td>0.0</td>\n      <td>450.0</td>\n      <td>0.0</td>\n      <td>0.0</td>\n      <td>0.0</td>\n      <td>...</td>\n      <td>24.3</td>\n      <td>0.0</td>\n      <td>0.0</td>\n      <td>30.0</td>\n      <td>75.93</td>\n      <td>NaN</td>\n      <td>NaN</td>\n      <td>3.139</td>\n      <td>NaN</td>\n      <td>No significant effect of initial water curing ...</td>\n    </tr>\n    <tr>\n      <th>1</th>\n      <td>NaN</td>\n      <td>2. Yunusa 2014</td>\n      <td>NaN</td>\n      <td>PC-50</td>\n      <td>0.0</td>\n      <td>0.0</td>\n      <td>400.0</td>\n      <td>0.0</td>\n      <td>0.0</td>\n      <td>0.0</td>\n      <td>...</td>\n      <td>24.3</td>\n      <td>0.0</td>\n      <td>0.0</td>\n      <td>60.0</td>\n      <td>64.50</td>\n      <td>NaN</td>\n      <td>NaN</td>\n      <td>4.022</td>\n      <td>NaN</td>\n      <td>NaN</td>\n    </tr>\n    <tr>\n      <th>2</th>\n      <td>NaN</td>\n      <td>2. Yunusa 2014</td>\n      <td>NaN</td>\n      <td>PC-60</td>\n      <td>0.0</td>\n      <td>0.0</td>\n      <td>350.0</td>\n      <td>0.0</td>\n      <td>0.0</td>\n      <td>0.0</td>\n      <td>...</td>\n      <td>24.3</td>\n      <td>0.0</td>\n      <td>0.0</td>\n      <td>100.0</td>\n      <td>49.23</td>\n      <td>NaN</td>\n      <td>NaN</td>\n      <td>6.670</td>\n      <td>NaN</td>\n      <td>NaN</td>\n    </tr>\n    <tr>\n      <th>3</th>\n      <td>NaN</td>\n      <td>2. Yunusa 2014</td>\n      <td>NaN</td>\n      <td>PC-75</td>\n      <td>0.0</td>\n      <td>0.0</td>\n      <td>300.0</td>\n      <td>0.0</td>\n      <td>0.0</td>\n      <td>0.0</td>\n      <td>...</td>\n      <td>24.3</td>\n      <td>0.0</td>\n      <td>0.0</td>\n      <td>140.0</td>\n      <td>36.00</td>\n      <td>NaN</td>\n      <td>NaN</td>\n      <td>7.945</td>\n      <td>NaN</td>\n      <td>NaN</td>\n    </tr>\n    <tr>\n      <th>4</th>\n      <td>NaN</td>\n      <td>2. Yunusa 2014</td>\n      <td>NaN</td>\n      <td>FA-40</td>\n      <td>0.0</td>\n      <td>0.0</td>\n      <td>315.0</td>\n      <td>0.0</td>\n      <td>135.0</td>\n      <td>0.0</td>\n      <td>...</td>\n      <td>24.3</td>\n      <td>0.0</td>\n      <td>0.0</td>\n      <td>40.0</td>\n      <td>62.80</td>\n      <td>NaN</td>\n      <td>NaN</td>\n      <td>6.052</td>\n      <td>NaN</td>\n      <td>NaN</td>\n    </tr>\n    <tr>\n      <th>...</th>\n      <td>...</td>\n      <td>...</td>\n      <td>...</td>\n      <td>...</td>\n      <td>...</td>\n      <td>...</td>\n      <td>...</td>\n      <td>...</td>\n      <td>...</td>\n      <td>...</td>\n      <td>...</td>\n      <td>...</td>\n      <td>...</td>\n      <td>...</td>\n      <td>...</td>\n      <td>...</td>\n      <td>...</td>\n      <td>...</td>\n      <td>...</td>\n      <td>...</td>\n      <td>...</td>\n    </tr>\n    <tr>\n      <th>1983</th>\n      <td>NaN</td>\n      <td>J48. Farahani, 2015</td>\n      <td>NaN</td>\n      <td>W3-4</td>\n      <td>350.0</td>\n      <td>0.0</td>\n      <td>0.0</td>\n      <td>0.0</td>\n      <td>0.0</td>\n      <td>0.0</td>\n      <td>...</td>\n      <td>NaN</td>\n      <td>NaN</td>\n      <td>NaN</td>\n      <td>NaN</td>\n      <td>NaN</td>\n      <td>NaN</td>\n      <td>1.550</td>\n      <td>NaN</td>\n      <td>150*150*150</td>\n      <td>NaN</td>\n    </tr>\n    <tr>\n      <th>1984</th>\n      <td>NaN</td>\n      <td>J48. Farahani, 2015</td>\n      <td>NaN</td>\n      <td>W4-1</td>\n      <td>380.0</td>\n      <td>0.0</td>\n      <td>0.0</td>\n      <td>0.0</td>\n      <td>0.0</td>\n      <td>0.0</td>\n      <td>...</td>\n      <td>NaN</td>\n      <td>NaN</td>\n      <td>NaN</td>\n      <td>NaN</td>\n      <td>NaN</td>\n      <td>NaN</td>\n      <td>3.375</td>\n      <td>NaN</td>\n      <td>150*150*150</td>\n      <td>NaN</td>\n    </tr>\n    <tr>\n      <th>1985</th>\n      <td>NaN</td>\n      <td>J48. Farahani, 2015</td>\n      <td>NaN</td>\n      <td>W4-2</td>\n      <td>370.0</td>\n      <td>0.0</td>\n      <td>0.0</td>\n      <td>0.0</td>\n      <td>0.0</td>\n      <td>0.0</td>\n      <td>...</td>\n      <td>NaN</td>\n      <td>NaN</td>\n      <td>NaN</td>\n      <td>NaN</td>\n      <td>NaN</td>\n      <td>NaN</td>\n      <td>1.000</td>\n      <td>NaN</td>\n      <td>150*150*150</td>\n      <td>NaN</td>\n    </tr>\n    <tr>\n      <th>1986</th>\n      <td>NaN</td>\n      <td>J48. Farahani, 2015</td>\n      <td>NaN</td>\n      <td>W4-3</td>\n      <td>360.0</td>\n      <td>0.0</td>\n      <td>0.0</td>\n      <td>0.0</td>\n      <td>0.0</td>\n      <td>0.0</td>\n      <td>...</td>\n      <td>NaN</td>\n      <td>NaN</td>\n      <td>NaN</td>\n      <td>NaN</td>\n      <td>NaN</td>\n      <td>NaN</td>\n      <td>0.500</td>\n      <td>NaN</td>\n      <td>150*150*150</td>\n      <td>NaN</td>\n    </tr>\n    <tr>\n      <th>1987</th>\n      <td>NaN</td>\n      <td>J48. Farahani, 2015</td>\n      <td>NaN</td>\n      <td>W4-4</td>\n      <td>350.0</td>\n      <td>0.0</td>\n      <td>0.0</td>\n      <td>0.0</td>\n      <td>0.0</td>\n      <td>0.0</td>\n      <td>...</td>\n      <td>NaN</td>\n      <td>NaN</td>\n      <td>NaN</td>\n      <td>NaN</td>\n      <td>NaN</td>\n      <td>NaN</td>\n      <td>0.825</td>\n      <td>NaN</td>\n      <td>150*150*150</td>\n      <td>NaN</td>\n    </tr>\n  </tbody>\n</table>\n<p>1988 rows × 34 columns</p>\n</div>"
     },
     "execution_count": 2,
     "metadata": {},
     "output_type": "execute_result"
    }
   ],
   "source": [
    "All = pd.ExcelFile('allData.xls')\n",
    "data = pd.read_excel(All, 'Data')\n",
    "data"
   ],
   "metadata": {
    "collapsed": false,
    "ExecuteTime": {
     "end_time": "2024-01-29T08:34:56.484995400Z",
     "start_time": "2024-01-29T08:34:56.326521800Z"
    }
   },
   "id": "5821cba9bd12784e"
  },
  {
   "cell_type": "code",
   "execution_count": 3,
   "outputs": [
    {
     "name": "stdout",
     "output_type": "stream",
     "text": [
      "<class 'pandas.core.frame.DataFrame'>\n",
      "RangeIndex: 1988 entries, 0 to 1987\n",
      "Data columns (total 34 columns):\n",
      " #   Column                                                              Non-Null Count  Dtype  \n",
      "---  ------                                                              --------------  -----  \n",
      " 0   Number                                                              0 non-null      float64\n",
      " 1   Data source                                                         1988 non-null   object \n",
      " 2   Selected                                                            194 non-null    object \n",
      " 3   Mix number in literature                                            1988 non-null   object \n",
      " 4   ASTM type 1 ordinary Portland Cement content (kg/m^3)               1988 non-null   float64\n",
      " 5   CEM I 42.5N ordinary Portland Cement content (kg/m^3)               1988 non-null   float64\n",
      " 6   CEM I 52.5N ordinary Portland Cement content (kg/m^3)               1988 non-null   float64\n",
      " 7   Class C Fly ash content (kg/m^3)                                    1988 non-null   float64\n",
      " 8   Class F Fly ash content (kg/m^3)                                    1988 non-null   float64\n",
      " 9   Slag content (kg/m^3)                                               1988 non-null   float64\n",
      " 10  Silica fume content (kg/m^3)                                        1988 non-null   float64\n",
      " 11  Water content (kg/m^3)                                              1988 non-null   float64\n",
      " 12  Superplasticizer content (kg/m^3)                                   1988 non-null   float64\n",
      " 13  Maximum coarse aggregate size (mm)                                  1988 non-null   float64\n",
      " 14  Coarse aggregate content (kg/m^3)                                   1983 non-null   float64\n",
      " 15  Fine aggregate content (kg/m^3)                                     1983 non-null   float64\n",
      " 16  Curing method                                                       1980 non-null   object \n",
      " 17  Curing temperature (Celsius degree)                                 1980 non-null   float64\n",
      " 18  Curing humidity (%)                                                 1980 non-null   float64\n",
      " 19  Curing day                                                          1978 non-null   float64\n",
      " 20  Location                                                            1946 non-null   object \n",
      " 21  Exposure environment                                                1946 non-null   object \n",
      " 22  Annual average CO2 concentration of exposed environment (%)         1107 non-null   float64\n",
      " 23  Annual average humidity of exposed environment (%)                  1225 non-null   float64\n",
      " 24  Annual average temperature of exposed environment (Celsius degree)  1428 non-null   float64\n",
      " 25  Annual wetting times/rainy days of exposed environment (d)          1107 non-null   float64\n",
      " 26  Annual average precipitation of exposed environment (mm)            1107 non-null   float64\n",
      " 27  Slump (mm)                                                          820 non-null    float64\n",
      " 28  Average 28-day compressive strength (Mpa)                           1942 non-null   float64\n",
      " 29  Average 28-day split strength (Mpa)                                 62 non-null     float64\n",
      " 30  Chloride diffusion coefficient (10-12 m2/s)                         66 non-null     float64\n",
      " 31  Average carbonation coefficient (mm/year^0.5)                       1095 non-null   float64\n",
      " 32  Specimen size                                                       873 non-null    object \n",
      " 33  Note                                                                3 non-null      object \n",
      "dtypes: float64(26), object(8)\n",
      "memory usage: 528.2+ KB\n"
     ]
    }
   ],
   "source": [
    "data.info()"
   ],
   "metadata": {
    "collapsed": false,
    "ExecuteTime": {
     "end_time": "2024-01-29T08:34:56.509609400Z",
     "start_time": "2024-01-29T08:34:56.482975800Z"
    }
   },
   "id": "f67fa24e5b51f8b2"
  },
  {
   "cell_type": "code",
   "execution_count": 4,
   "outputs": [
    {
     "data": {
      "text/plain": "                                                     count         mean  \\\nNumber                                                 0.0          NaN   \nASTM type 1 ordinary Portland Cement content (k...  1988.0    39.317656   \nCEM I 42.5N ordinary Portland Cement content (k...  1988.0    95.567020   \nCEM I 52.5N ordinary Portland Cement content (k...  1988.0   147.092807   \nClass C Fly ash content (kg/m^3)                    1988.0     6.120221   \nClass F Fly ash content (kg/m^3)                    1988.0    35.497918   \nSlag content (kg/m^3)                               1988.0    34.629970   \nSilica fume content (kg/m^3)                        1988.0     7.592819   \nWater content (kg/m^3)                              1988.0   172.241112   \nSuperplasticizer content (kg/m^3)                   1988.0     2.335606   \nMaximum coarse aggregate size (mm)                  1988.0    18.122485   \nCoarse aggregate content (kg/m^3)                   1983.0  1005.263947   \nFine aggregate content (kg/m^3)                     1983.0   814.084454   \nCuring temperature (Celsius degree)                 1980.0    21.535354   \nCuring humidity (%)                                 1980.0    95.006566   \nCuring day                                          1978.0    25.849343   \nAnnual average CO2 concentration of exposed env...  1107.0     0.038797   \nAnnual average humidity of exposed environment (%)  1225.0    66.540408   \nAnnual average temperature of exposed environme...  1428.0    20.539706   \nAnnual wetting times/rainy days of exposed envi...  1107.0    89.622403   \nAnnual average precipitation of exposed environ...  1107.0   860.356820   \nSlump (mm)                                           820.0   105.309756   \nAverage 28-day compressive strength (Mpa)           1942.0    51.545375   \nAverage 28-day split strength (Mpa)                   62.0     3.679032   \nChloride diffusion coefficient (10-12 m2/s)           66.0     5.239591   \nAverage carbonation coefficient (mm/year^0.5)       1095.0     3.718963   \n\n                                                           std     min  \\\nNumber                                                     NaN     NaN   \nASTM type 1 ordinary Portland Cement content (k...  106.825528    0.00   \nCEM I 42.5N ordinary Portland Cement content (k...  146.591457    0.00   \nCEM I 52.5N ordinary Portland Cement content (k...  152.375401    0.00   \nClass C Fly ash content (kg/m^3)                     28.791545    0.00   \nClass F Fly ash content (kg/m^3)                     65.744896    0.00   \nSlag content (kg/m^3)                                73.837709    0.00   \nSilica fume content (kg/m^3)                         21.082168    0.00   \nWater content (kg/m^3)                               28.371606  105.00   \nSuperplasticizer content (kg/m^3)                     4.726357    0.00   \nMaximum coarse aggregate size (mm)                    3.828674    9.50   \nCoarse aggregate content (kg/m^3)                   163.277663  276.00   \nFine aggregate content (kg/m^3)                     142.479664  279.00   \nCuring temperature (Celsius degree)                   2.892248   13.00   \nCuring humidity (%)                                  12.285983   25.00   \nCuring day                                           23.381716    1.00   \nAnnual average CO2 concentration of exposed env...    0.008814    0.01   \nAnnual average humidity of exposed environment (%)   10.979263   30.00   \nAnnual average temperature of exposed environme...    6.432118    6.40   \nAnnual wetting times/rainy days of exposed envi...   55.766192    0.00   \nAnnual average precipitation of exposed environ...  584.884613    0.00   \nSlump (mm)                                           57.098701    0.00   \nAverage 28-day compressive strength (Mpa)            20.912439    5.00   \nAverage 28-day split strength (Mpa)                   1.113884    0.96   \nChloride diffusion coefficient (10-12 m2/s)           6.094627    0.50   \nAverage carbonation coefficient (mm/year^0.5)         2.691309    0.00   \n\n                                                           25%          50%  \\\nNumber                                                     NaN          NaN   \nASTM type 1 ordinary Portland Cement content (k...    0.000000     0.000000   \nCEM I 42.5N ordinary Portland Cement content (k...    0.000000     0.000000   \nCEM I 52.5N ordinary Portland Cement content (k...    0.000000   155.000000   \nClass C Fly ash content (kg/m^3)                      0.000000     0.000000   \nClass F Fly ash content (kg/m^3)                      0.000000     0.000000   \nSlag content (kg/m^3)                                 0.000000     0.000000   \nSilica fume content (kg/m^3)                          0.000000     0.000000   \nWater content (kg/m^3)                              153.000000   170.000000   \nSuperplasticizer content (kg/m^3)                     0.000000     0.000000   \nMaximum coarse aggregate size (mm)                   16.000000    20.000000   \nCoarse aggregate content (kg/m^3)                   879.000000  1015.000000   \nFine aggregate content (kg/m^3)                     696.000000   800.000000   \nCuring temperature (Celsius degree)                  20.000000    20.000000   \nCuring humidity (%)                                  95.000000   100.000000   \nCuring day                                           14.000000    28.000000   \nAnnual average CO2 concentration of exposed env...    0.035000     0.040000   \nAnnual average humidity of exposed environment (%)   65.000000    70.000000   \nAnnual average temperature of exposed environme...   17.000000    20.000000   \nAnnual wetting times/rainy days of exposed envi...   44.000000    93.000000   \nAnnual average precipitation of exposed environ...  214.000000  1000.000000   \nSlump (mm)                                           70.000000   100.000000   \nAverage 28-day compressive strength (Mpa)            37.500000    49.428571   \nAverage 28-day split strength (Mpa)                   2.910000     3.570000   \nChloride diffusion coefficient (10-12 m2/s)           2.093750     3.143500   \nAverage carbonation coefficient (mm/year^0.5)         1.719319     3.193376   \n\n                                                            75%        max  \nNumber                                                      NaN        NaN  \nASTM type 1 ordinary Portland Cement content (k...     0.000000   702.0000  \nCEM I 42.5N ordinary Portland Cement content (k...   210.000000   547.0000  \nCEM I 52.5N ordinary Portland Cement content (k...   280.000000   660.0000  \nClass C Fly ash content (kg/m^3)                       0.000000   225.0000  \nClass F Fly ash content (kg/m^3)                      56.500000   544.0000  \nSlag content (kg/m^3)                                  0.000000   440.0000  \nSilica fume content (kg/m^3)                           0.000000   150.0000  \nWater content (kg/m^3)                               186.000000   295.0000  \nSuperplasticizer content (kg/m^3)                      2.702500    35.1000  \nMaximum coarse aggregate size (mm)                    20.000000    30.0000  \nCoarse aggregate content (kg/m^3)                   1115.000000  1388.6000  \nFine aggregate content (kg/m^3)                      928.500000  1293.0000  \nCuring temperature (Celsius degree)                   22.000000    38.0000  \nCuring humidity (%)                                  100.000000   100.0000  \nCuring day                                            28.000000   191.0000  \nAnnual average CO2 concentration of exposed env...     0.041000     0.0625  \nAnnual average humidity of exposed environment (%)    73.200000    83.0000  \nAnnual average temperature of exposed environme...    25.000000    36.0000  \nAnnual wetting times/rainy days of exposed envi...   142.000000   192.0000  \nAnnual average precipitation of exposed environ...  1400.000000  2305.0000  \nSlump (mm)                                           130.000000   260.0000  \nAverage 28-day compressive strength (Mpa)             62.800000   443.0000  \nAverage 28-day split strength (Mpa)                    4.390000     6.1800  \nChloride diffusion coefficient (10-12 m2/s)            5.920000    37.0300  \nAverage carbonation coefficient (mm/year^0.5)          5.097573    18.4770  ",
      "text/html": "<div>\n<style scoped>\n    .dataframe tbody tr th:only-of-type {\n        vertical-align: middle;\n    }\n\n    .dataframe tbody tr th {\n        vertical-align: top;\n    }\n\n    .dataframe thead th {\n        text-align: right;\n    }\n</style>\n<table border=\"1\" class=\"dataframe\">\n  <thead>\n    <tr style=\"text-align: right;\">\n      <th></th>\n      <th>count</th>\n      <th>mean</th>\n      <th>std</th>\n      <th>min</th>\n      <th>25%</th>\n      <th>50%</th>\n      <th>75%</th>\n      <th>max</th>\n    </tr>\n  </thead>\n  <tbody>\n    <tr>\n      <th>Number</th>\n      <td>0.0</td>\n      <td>NaN</td>\n      <td>NaN</td>\n      <td>NaN</td>\n      <td>NaN</td>\n      <td>NaN</td>\n      <td>NaN</td>\n      <td>NaN</td>\n    </tr>\n    <tr>\n      <th>ASTM type 1 ordinary Portland Cement content (kg/m^3)</th>\n      <td>1988.0</td>\n      <td>39.317656</td>\n      <td>106.825528</td>\n      <td>0.00</td>\n      <td>0.000000</td>\n      <td>0.000000</td>\n      <td>0.000000</td>\n      <td>702.0000</td>\n    </tr>\n    <tr>\n      <th>CEM I 42.5N ordinary Portland Cement content (kg/m^3)</th>\n      <td>1988.0</td>\n      <td>95.567020</td>\n      <td>146.591457</td>\n      <td>0.00</td>\n      <td>0.000000</td>\n      <td>0.000000</td>\n      <td>210.000000</td>\n      <td>547.0000</td>\n    </tr>\n    <tr>\n      <th>CEM I 52.5N ordinary Portland Cement content (kg/m^3)</th>\n      <td>1988.0</td>\n      <td>147.092807</td>\n      <td>152.375401</td>\n      <td>0.00</td>\n      <td>0.000000</td>\n      <td>155.000000</td>\n      <td>280.000000</td>\n      <td>660.0000</td>\n    </tr>\n    <tr>\n      <th>Class C Fly ash content (kg/m^3)</th>\n      <td>1988.0</td>\n      <td>6.120221</td>\n      <td>28.791545</td>\n      <td>0.00</td>\n      <td>0.000000</td>\n      <td>0.000000</td>\n      <td>0.000000</td>\n      <td>225.0000</td>\n    </tr>\n    <tr>\n      <th>Class F Fly ash content (kg/m^3)</th>\n      <td>1988.0</td>\n      <td>35.497918</td>\n      <td>65.744896</td>\n      <td>0.00</td>\n      <td>0.000000</td>\n      <td>0.000000</td>\n      <td>56.500000</td>\n      <td>544.0000</td>\n    </tr>\n    <tr>\n      <th>Slag content (kg/m^3)</th>\n      <td>1988.0</td>\n      <td>34.629970</td>\n      <td>73.837709</td>\n      <td>0.00</td>\n      <td>0.000000</td>\n      <td>0.000000</td>\n      <td>0.000000</td>\n      <td>440.0000</td>\n    </tr>\n    <tr>\n      <th>Silica fume content (kg/m^3)</th>\n      <td>1988.0</td>\n      <td>7.592819</td>\n      <td>21.082168</td>\n      <td>0.00</td>\n      <td>0.000000</td>\n      <td>0.000000</td>\n      <td>0.000000</td>\n      <td>150.0000</td>\n    </tr>\n    <tr>\n      <th>Water content (kg/m^3)</th>\n      <td>1988.0</td>\n      <td>172.241112</td>\n      <td>28.371606</td>\n      <td>105.00</td>\n      <td>153.000000</td>\n      <td>170.000000</td>\n      <td>186.000000</td>\n      <td>295.0000</td>\n    </tr>\n    <tr>\n      <th>Superplasticizer content (kg/m^3)</th>\n      <td>1988.0</td>\n      <td>2.335606</td>\n      <td>4.726357</td>\n      <td>0.00</td>\n      <td>0.000000</td>\n      <td>0.000000</td>\n      <td>2.702500</td>\n      <td>35.1000</td>\n    </tr>\n    <tr>\n      <th>Maximum coarse aggregate size (mm)</th>\n      <td>1988.0</td>\n      <td>18.122485</td>\n      <td>3.828674</td>\n      <td>9.50</td>\n      <td>16.000000</td>\n      <td>20.000000</td>\n      <td>20.000000</td>\n      <td>30.0000</td>\n    </tr>\n    <tr>\n      <th>Coarse aggregate content (kg/m^3)</th>\n      <td>1983.0</td>\n      <td>1005.263947</td>\n      <td>163.277663</td>\n      <td>276.00</td>\n      <td>879.000000</td>\n      <td>1015.000000</td>\n      <td>1115.000000</td>\n      <td>1388.6000</td>\n    </tr>\n    <tr>\n      <th>Fine aggregate content (kg/m^3)</th>\n      <td>1983.0</td>\n      <td>814.084454</td>\n      <td>142.479664</td>\n      <td>279.00</td>\n      <td>696.000000</td>\n      <td>800.000000</td>\n      <td>928.500000</td>\n      <td>1293.0000</td>\n    </tr>\n    <tr>\n      <th>Curing temperature (Celsius degree)</th>\n      <td>1980.0</td>\n      <td>21.535354</td>\n      <td>2.892248</td>\n      <td>13.00</td>\n      <td>20.000000</td>\n      <td>20.000000</td>\n      <td>22.000000</td>\n      <td>38.0000</td>\n    </tr>\n    <tr>\n      <th>Curing humidity (%)</th>\n      <td>1980.0</td>\n      <td>95.006566</td>\n      <td>12.285983</td>\n      <td>25.00</td>\n      <td>95.000000</td>\n      <td>100.000000</td>\n      <td>100.000000</td>\n      <td>100.0000</td>\n    </tr>\n    <tr>\n      <th>Curing day</th>\n      <td>1978.0</td>\n      <td>25.849343</td>\n      <td>23.381716</td>\n      <td>1.00</td>\n      <td>14.000000</td>\n      <td>28.000000</td>\n      <td>28.000000</td>\n      <td>191.0000</td>\n    </tr>\n    <tr>\n      <th>Annual average CO2 concentration of exposed environment (%)</th>\n      <td>1107.0</td>\n      <td>0.038797</td>\n      <td>0.008814</td>\n      <td>0.01</td>\n      <td>0.035000</td>\n      <td>0.040000</td>\n      <td>0.041000</td>\n      <td>0.0625</td>\n    </tr>\n    <tr>\n      <th>Annual average humidity of exposed environment (%)</th>\n      <td>1225.0</td>\n      <td>66.540408</td>\n      <td>10.979263</td>\n      <td>30.00</td>\n      <td>65.000000</td>\n      <td>70.000000</td>\n      <td>73.200000</td>\n      <td>83.0000</td>\n    </tr>\n    <tr>\n      <th>Annual average temperature of exposed environment (Celsius degree)</th>\n      <td>1428.0</td>\n      <td>20.539706</td>\n      <td>6.432118</td>\n      <td>6.40</td>\n      <td>17.000000</td>\n      <td>20.000000</td>\n      <td>25.000000</td>\n      <td>36.0000</td>\n    </tr>\n    <tr>\n      <th>Annual wetting times/rainy days of exposed environment (d)</th>\n      <td>1107.0</td>\n      <td>89.622403</td>\n      <td>55.766192</td>\n      <td>0.00</td>\n      <td>44.000000</td>\n      <td>93.000000</td>\n      <td>142.000000</td>\n      <td>192.0000</td>\n    </tr>\n    <tr>\n      <th>Annual average precipitation of exposed environment (mm)</th>\n      <td>1107.0</td>\n      <td>860.356820</td>\n      <td>584.884613</td>\n      <td>0.00</td>\n      <td>214.000000</td>\n      <td>1000.000000</td>\n      <td>1400.000000</td>\n      <td>2305.0000</td>\n    </tr>\n    <tr>\n      <th>Slump (mm)</th>\n      <td>820.0</td>\n      <td>105.309756</td>\n      <td>57.098701</td>\n      <td>0.00</td>\n      <td>70.000000</td>\n      <td>100.000000</td>\n      <td>130.000000</td>\n      <td>260.0000</td>\n    </tr>\n    <tr>\n      <th>Average 28-day compressive strength (Mpa)</th>\n      <td>1942.0</td>\n      <td>51.545375</td>\n      <td>20.912439</td>\n      <td>5.00</td>\n      <td>37.500000</td>\n      <td>49.428571</td>\n      <td>62.800000</td>\n      <td>443.0000</td>\n    </tr>\n    <tr>\n      <th>Average 28-day split strength (Mpa)</th>\n      <td>62.0</td>\n      <td>3.679032</td>\n      <td>1.113884</td>\n      <td>0.96</td>\n      <td>2.910000</td>\n      <td>3.570000</td>\n      <td>4.390000</td>\n      <td>6.1800</td>\n    </tr>\n    <tr>\n      <th>Chloride diffusion coefficient (10-12 m2/s)</th>\n      <td>66.0</td>\n      <td>5.239591</td>\n      <td>6.094627</td>\n      <td>0.50</td>\n      <td>2.093750</td>\n      <td>3.143500</td>\n      <td>5.920000</td>\n      <td>37.0300</td>\n    </tr>\n    <tr>\n      <th>Average carbonation coefficient (mm/year^0.5)</th>\n      <td>1095.0</td>\n      <td>3.718963</td>\n      <td>2.691309</td>\n      <td>0.00</td>\n      <td>1.719319</td>\n      <td>3.193376</td>\n      <td>5.097573</td>\n      <td>18.4770</td>\n    </tr>\n  </tbody>\n</table>\n</div>"
     },
     "execution_count": 4,
     "metadata": {},
     "output_type": "execute_result"
    }
   ],
   "source": [
    "data.describe().T"
   ],
   "metadata": {
    "collapsed": false,
    "ExecuteTime": {
     "end_time": "2024-01-29T08:34:56.676171300Z",
     "start_time": "2024-01-29T08:34:56.498024600Z"
    }
   },
   "id": "39df703aa7a5ec32"
  },
  {
   "cell_type": "code",
   "execution_count": 5,
   "outputs": [
    {
     "data": {
      "text/plain": "0"
     },
     "execution_count": 5,
     "metadata": {},
     "output_type": "execute_result"
    }
   ],
   "source": [
    "data.duplicated().sum()"
   ],
   "metadata": {
    "collapsed": false,
    "ExecuteTime": {
     "end_time": "2024-01-29T08:34:56.677177200Z",
     "start_time": "2024-01-29T08:34:56.552553Z"
    }
   },
   "id": "e14012a435cb696a"
  },
  {
   "cell_type": "code",
   "execution_count": 6,
   "outputs": [
    {
     "data": {
      "text/plain": "Number                                                                1988\nData source                                                              0\nSelected                                                              1794\nMix number in literature                                                 0\nASTM type 1 ordinary Portland Cement content (kg/m^3)                    0\nCEM I 42.5N ordinary Portland Cement content (kg/m^3)                    0\nCEM I 52.5N ordinary Portland Cement content (kg/m^3)                    0\nClass C Fly ash content (kg/m^3)                                         0\nClass F Fly ash content (kg/m^3)                                         0\nSlag content (kg/m^3)                                                    0\nSilica fume content (kg/m^3)                                             0\nWater content (kg/m^3)                                                   0\nSuperplasticizer content (kg/m^3)                                        0\nMaximum coarse aggregate size (mm)                                       0\nCoarse aggregate content (kg/m^3)                                        5\nFine aggregate content (kg/m^3)                                          5\nCuring method                                                            8\nCuring temperature (Celsius degree)                                      8\nCuring humidity (%)                                                      8\nCuring day                                                              10\nLocation                                                                42\nExposure environment                                                    42\nAnnual average CO2 concentration of exposed environment (%)            881\nAnnual average humidity of exposed environment (%)                     763\nAnnual average temperature of exposed environment (Celsius degree)     560\nAnnual wetting times/rainy days of exposed environment (d)             881\nAnnual average precipitation of exposed environment (mm)               881\nSlump (mm)                                                            1168\nAverage 28-day compressive strength (Mpa)                               46\nAverage 28-day split strength (Mpa)                                   1926\nChloride diffusion coefficient (10-12 m2/s)                           1922\nAverage carbonation coefficient (mm/year^0.5)                          893\nSpecimen size                                                         1115\nNote                                                                  1985\ndtype: int64"
     },
     "execution_count": 6,
     "metadata": {},
     "output_type": "execute_result"
    }
   ],
   "source": [
    "data.isnull().sum()"
   ],
   "metadata": {
    "collapsed": false,
    "ExecuteTime": {
     "end_time": "2024-01-29T08:34:56.678177Z",
     "start_time": "2024-01-29T08:34:56.565173400Z"
    }
   },
   "id": "185f2828ff4de6c1"
  },
  {
   "cell_type": "code",
   "execution_count": 7,
   "outputs": [
    {
     "data": {
      "text/plain": "      ASTM type 1 ordinary Portland Cement content (kg/m^3)  \\\n0                                                   0.0       \n1                                                   0.0       \n2                                                   0.0       \n3                                                   0.0       \n4                                                   0.0       \n...                                                 ...       \n1983                                              350.0       \n1984                                              380.0       \n1985                                              370.0       \n1986                                              360.0       \n1987                                              350.0       \n\n      CEM I 42.5N ordinary Portland Cement content (kg/m^3)  \\\n0                                                   0.0       \n1                                                   0.0       \n2                                                   0.0       \n3                                                   0.0       \n4                                                   0.0       \n...                                                 ...       \n1983                                                0.0       \n1984                                                0.0       \n1985                                                0.0       \n1986                                                0.0       \n1987                                                0.0       \n\n      CEM I 52.5N ordinary Portland Cement content (kg/m^3)  \\\n0                                                 450.0       \n1                                                 400.0       \n2                                                 350.0       \n3                                                 300.0       \n4                                                 315.0       \n...                                                 ...       \n1983                                                0.0       \n1984                                                0.0       \n1985                                                0.0       \n1986                                                0.0       \n1987                                                0.0       \n\n      Class C Fly ash content (kg/m^3)  Class F Fly ash content (kg/m^3)  \\\n0                                  0.0                               0.0   \n1                                  0.0                               0.0   \n2                                  0.0                               0.0   \n3                                  0.0                               0.0   \n4                                  0.0                             135.0   \n...                                ...                               ...   \n1983                               0.0                               0.0   \n1984                               0.0                               0.0   \n1985                               0.0                               0.0   \n1986                               0.0                               0.0   \n1987                               0.0                               0.0   \n\n      Slag content (kg/m^3)  Silica fume content (kg/m^3)  \\\n0                       0.0                           0.0   \n1                       0.0                           0.0   \n2                       0.0                           0.0   \n3                       0.0                           0.0   \n4                       0.0                           0.0   \n...                     ...                           ...   \n1983                    0.0                          50.0   \n1984                    0.0                          20.0   \n1985                    0.0                          30.0   \n1986                    0.0                          40.0   \n1987                    0.0                          50.0   \n\n      Water content (kg/m^3)  Superplasticizer content (kg/m^3)  \\\n0                      180.0                               4.00   \n1                      200.0                               3.25   \n2                      210.0                               0.00   \n3                      225.0                               0.00   \n4                      180.0                               1.75   \n...                      ...                                ...   \n1983                   180.0                               2.00   \n1984                   200.0                               0.80   \n1985                   200.0                               1.20   \n1986                   200.0                               1.80   \n1987                   200.0                               2.00   \n\n      Maximum coarse aggregate size (mm)  ...  Curing method  \\\n0                                   20.0  ...      Submerged   \n1                                   20.0  ...      Submerged   \n2                                   20.0  ...      Submerged   \n3                                   20.0  ...      Submerged   \n4                                   20.0  ...      Submerged   \n...                                  ...  ...            ...   \n1983                                20.0  ...      Submerged   \n1984                                20.0  ...      Submerged   \n1985                                20.0  ...      Submerged   \n1986                                20.0  ...      Submerged   \n1987                                20.0  ...      Submerged   \n\n      Curing temperature (Celsius degree) Curing humidity (%)  Curing day  \\\n0                                    20.0               100.0         3.0   \n1                                    20.0               100.0         3.0   \n2                                    20.0               100.0         3.0   \n3                                    20.0               100.0         3.0   \n4                                    20.0               100.0         3.0   \n...                                   ...                 ...         ...   \n1983                                 21.0               100.0        28.0   \n1984                                 21.0               100.0        28.0   \n1985                                 21.0               100.0        28.0   \n1986                                 21.0               100.0        28.0   \n1987                                 21.0               100.0        28.0   \n\n      Slump (mm)  Average 28-day compressive strength (Mpa)  \\\n0           30.0                                      75.93   \n1           60.0                                      64.50   \n2          100.0                                      49.23   \n3          140.0                                      36.00   \n4           40.0                                      62.80   \n...          ...                                        ...   \n1983         NaN                                        NaN   \n1984         NaN                                        NaN   \n1985         NaN                                        NaN   \n1986         NaN                                        NaN   \n1987         NaN                                        NaN   \n\n      Average 28-day split strength (Mpa)  \\\n0                                     NaN   \n1                                     NaN   \n2                                     NaN   \n3                                     NaN   \n4                                     NaN   \n...                                   ...   \n1983                                  NaN   \n1984                                  NaN   \n1985                                  NaN   \n1986                                  NaN   \n1987                                  NaN   \n\n      Chloride diffusion coefficient (10-12 m2/s)  \\\n0                                             NaN   \n1                                             NaN   \n2                                             NaN   \n3                                             NaN   \n4                                             NaN   \n...                                           ...   \n1983                                        1.550   \n1984                                        3.375   \n1985                                        1.000   \n1986                                        0.500   \n1987                                        0.825   \n\n      Average carbonation coefficient (mm/year^0.5)  Specimen size  \n0                                             3.139            NaN  \n1                                             4.022            NaN  \n2                                             6.670            NaN  \n3                                             7.945            NaN  \n4                                             6.052            NaN  \n...                                             ...            ...  \n1983                                            NaN    150*150*150  \n1984                                            NaN    150*150*150  \n1985                                            NaN    150*150*150  \n1986                                            NaN    150*150*150  \n1987                                            NaN    150*150*150  \n\n[1988 rows x 22 columns]",
      "text/html": "<div>\n<style scoped>\n    .dataframe tbody tr th:only-of-type {\n        vertical-align: middle;\n    }\n\n    .dataframe tbody tr th {\n        vertical-align: top;\n    }\n\n    .dataframe thead th {\n        text-align: right;\n    }\n</style>\n<table border=\"1\" class=\"dataframe\">\n  <thead>\n    <tr style=\"text-align: right;\">\n      <th></th>\n      <th>ASTM type 1 ordinary Portland Cement content (kg/m^3)</th>\n      <th>CEM I 42.5N ordinary Portland Cement content (kg/m^3)</th>\n      <th>CEM I 52.5N ordinary Portland Cement content (kg/m^3)</th>\n      <th>Class C Fly ash content (kg/m^3)</th>\n      <th>Class F Fly ash content (kg/m^3)</th>\n      <th>Slag content (kg/m^3)</th>\n      <th>Silica fume content (kg/m^3)</th>\n      <th>Water content (kg/m^3)</th>\n      <th>Superplasticizer content (kg/m^3)</th>\n      <th>Maximum coarse aggregate size (mm)</th>\n      <th>...</th>\n      <th>Curing method</th>\n      <th>Curing temperature (Celsius degree)</th>\n      <th>Curing humidity (%)</th>\n      <th>Curing day</th>\n      <th>Slump (mm)</th>\n      <th>Average 28-day compressive strength (Mpa)</th>\n      <th>Average 28-day split strength (Mpa)</th>\n      <th>Chloride diffusion coefficient (10-12 m2/s)</th>\n      <th>Average carbonation coefficient (mm/year^0.5)</th>\n      <th>Specimen size</th>\n    </tr>\n  </thead>\n  <tbody>\n    <tr>\n      <th>0</th>\n      <td>0.0</td>\n      <td>0.0</td>\n      <td>450.0</td>\n      <td>0.0</td>\n      <td>0.0</td>\n      <td>0.0</td>\n      <td>0.0</td>\n      <td>180.0</td>\n      <td>4.00</td>\n      <td>20.0</td>\n      <td>...</td>\n      <td>Submerged</td>\n      <td>20.0</td>\n      <td>100.0</td>\n      <td>3.0</td>\n      <td>30.0</td>\n      <td>75.93</td>\n      <td>NaN</td>\n      <td>NaN</td>\n      <td>3.139</td>\n      <td>NaN</td>\n    </tr>\n    <tr>\n      <th>1</th>\n      <td>0.0</td>\n      <td>0.0</td>\n      <td>400.0</td>\n      <td>0.0</td>\n      <td>0.0</td>\n      <td>0.0</td>\n      <td>0.0</td>\n      <td>200.0</td>\n      <td>3.25</td>\n      <td>20.0</td>\n      <td>...</td>\n      <td>Submerged</td>\n      <td>20.0</td>\n      <td>100.0</td>\n      <td>3.0</td>\n      <td>60.0</td>\n      <td>64.50</td>\n      <td>NaN</td>\n      <td>NaN</td>\n      <td>4.022</td>\n      <td>NaN</td>\n    </tr>\n    <tr>\n      <th>2</th>\n      <td>0.0</td>\n      <td>0.0</td>\n      <td>350.0</td>\n      <td>0.0</td>\n      <td>0.0</td>\n      <td>0.0</td>\n      <td>0.0</td>\n      <td>210.0</td>\n      <td>0.00</td>\n      <td>20.0</td>\n      <td>...</td>\n      <td>Submerged</td>\n      <td>20.0</td>\n      <td>100.0</td>\n      <td>3.0</td>\n      <td>100.0</td>\n      <td>49.23</td>\n      <td>NaN</td>\n      <td>NaN</td>\n      <td>6.670</td>\n      <td>NaN</td>\n    </tr>\n    <tr>\n      <th>3</th>\n      <td>0.0</td>\n      <td>0.0</td>\n      <td>300.0</td>\n      <td>0.0</td>\n      <td>0.0</td>\n      <td>0.0</td>\n      <td>0.0</td>\n      <td>225.0</td>\n      <td>0.00</td>\n      <td>20.0</td>\n      <td>...</td>\n      <td>Submerged</td>\n      <td>20.0</td>\n      <td>100.0</td>\n      <td>3.0</td>\n      <td>140.0</td>\n      <td>36.00</td>\n      <td>NaN</td>\n      <td>NaN</td>\n      <td>7.945</td>\n      <td>NaN</td>\n    </tr>\n    <tr>\n      <th>4</th>\n      <td>0.0</td>\n      <td>0.0</td>\n      <td>315.0</td>\n      <td>0.0</td>\n      <td>135.0</td>\n      <td>0.0</td>\n      <td>0.0</td>\n      <td>180.0</td>\n      <td>1.75</td>\n      <td>20.0</td>\n      <td>...</td>\n      <td>Submerged</td>\n      <td>20.0</td>\n      <td>100.0</td>\n      <td>3.0</td>\n      <td>40.0</td>\n      <td>62.80</td>\n      <td>NaN</td>\n      <td>NaN</td>\n      <td>6.052</td>\n      <td>NaN</td>\n    </tr>\n    <tr>\n      <th>...</th>\n      <td>...</td>\n      <td>...</td>\n      <td>...</td>\n      <td>...</td>\n      <td>...</td>\n      <td>...</td>\n      <td>...</td>\n      <td>...</td>\n      <td>...</td>\n      <td>...</td>\n      <td>...</td>\n      <td>...</td>\n      <td>...</td>\n      <td>...</td>\n      <td>...</td>\n      <td>...</td>\n      <td>...</td>\n      <td>...</td>\n      <td>...</td>\n      <td>...</td>\n      <td>...</td>\n    </tr>\n    <tr>\n      <th>1983</th>\n      <td>350.0</td>\n      <td>0.0</td>\n      <td>0.0</td>\n      <td>0.0</td>\n      <td>0.0</td>\n      <td>0.0</td>\n      <td>50.0</td>\n      <td>180.0</td>\n      <td>2.00</td>\n      <td>20.0</td>\n      <td>...</td>\n      <td>Submerged</td>\n      <td>21.0</td>\n      <td>100.0</td>\n      <td>28.0</td>\n      <td>NaN</td>\n      <td>NaN</td>\n      <td>NaN</td>\n      <td>1.550</td>\n      <td>NaN</td>\n      <td>150*150*150</td>\n    </tr>\n    <tr>\n      <th>1984</th>\n      <td>380.0</td>\n      <td>0.0</td>\n      <td>0.0</td>\n      <td>0.0</td>\n      <td>0.0</td>\n      <td>0.0</td>\n      <td>20.0</td>\n      <td>200.0</td>\n      <td>0.80</td>\n      <td>20.0</td>\n      <td>...</td>\n      <td>Submerged</td>\n      <td>21.0</td>\n      <td>100.0</td>\n      <td>28.0</td>\n      <td>NaN</td>\n      <td>NaN</td>\n      <td>NaN</td>\n      <td>3.375</td>\n      <td>NaN</td>\n      <td>150*150*150</td>\n    </tr>\n    <tr>\n      <th>1985</th>\n      <td>370.0</td>\n      <td>0.0</td>\n      <td>0.0</td>\n      <td>0.0</td>\n      <td>0.0</td>\n      <td>0.0</td>\n      <td>30.0</td>\n      <td>200.0</td>\n      <td>1.20</td>\n      <td>20.0</td>\n      <td>...</td>\n      <td>Submerged</td>\n      <td>21.0</td>\n      <td>100.0</td>\n      <td>28.0</td>\n      <td>NaN</td>\n      <td>NaN</td>\n      <td>NaN</td>\n      <td>1.000</td>\n      <td>NaN</td>\n      <td>150*150*150</td>\n    </tr>\n    <tr>\n      <th>1986</th>\n      <td>360.0</td>\n      <td>0.0</td>\n      <td>0.0</td>\n      <td>0.0</td>\n      <td>0.0</td>\n      <td>0.0</td>\n      <td>40.0</td>\n      <td>200.0</td>\n      <td>1.80</td>\n      <td>20.0</td>\n      <td>...</td>\n      <td>Submerged</td>\n      <td>21.0</td>\n      <td>100.0</td>\n      <td>28.0</td>\n      <td>NaN</td>\n      <td>NaN</td>\n      <td>NaN</td>\n      <td>0.500</td>\n      <td>NaN</td>\n      <td>150*150*150</td>\n    </tr>\n    <tr>\n      <th>1987</th>\n      <td>350.0</td>\n      <td>0.0</td>\n      <td>0.0</td>\n      <td>0.0</td>\n      <td>0.0</td>\n      <td>0.0</td>\n      <td>50.0</td>\n      <td>200.0</td>\n      <td>2.00</td>\n      <td>20.0</td>\n      <td>...</td>\n      <td>Submerged</td>\n      <td>21.0</td>\n      <td>100.0</td>\n      <td>28.0</td>\n      <td>NaN</td>\n      <td>NaN</td>\n      <td>NaN</td>\n      <td>0.825</td>\n      <td>NaN</td>\n      <td>150*150*150</td>\n    </tr>\n  </tbody>\n</table>\n<p>1988 rows × 22 columns</p>\n</div>"
     },
     "execution_count": 7,
     "metadata": {},
     "output_type": "execute_result"
    }
   ],
   "source": [
    "Excess_col_indices =list(range(0, 4)) + list(range(20, 27)) + [33]\n",
    "semi_df = data.iloc[:, [col for col in range(data.shape[1]) if col not in Excess_col_indices]]\n",
    "semi_df"
   ],
   "metadata": {
    "collapsed": false,
    "ExecuteTime": {
     "end_time": "2024-01-29T08:34:56.744625400Z",
     "start_time": "2024-01-29T08:34:56.576973300Z"
    }
   },
   "id": "696caac8fd1bdfee"
  },
  {
   "cell_type": "markdown",
   "source": [
    "# Feature Engineering "
   ],
   "metadata": {
    "collapsed": false
   },
   "id": "699bf4bd7b8c9e1b"
  },
  {
   "cell_type": "markdown",
   "source": [
    "## Quick fix"
   ],
   "metadata": {
    "collapsed": false
   },
   "id": "d6da6b5728c8ed49"
  },
  {
   "cell_type": "code",
   "execution_count": 8,
   "outputs": [
    {
     "data": {
      "text/plain": "                                                     count         mean  \\\nASTM type 1 ordinary Portland Cement content (k...  1988.0    39.317656   \nCEM I 42.5N ordinary Portland Cement content (k...  1988.0    95.567020   \nCEM I 52.5N ordinary Portland Cement content (k...  1988.0   147.092807   \nClass C Fly ash content (kg/m^3)                    1988.0     6.120221   \nClass F Fly ash content (kg/m^3)                    1988.0    35.497918   \nSlag content (kg/m^3)                               1988.0    34.629970   \nSilica fume content (kg/m^3)                        1988.0     7.592819   \nWater content (kg/m^3)                              1988.0   172.241112   \nSuperplasticizer content (kg/m^3)                   1988.0     2.335606   \nMaximum coarse aggregate size (mm)                  1988.0    18.122485   \nCoarse aggregate content (kg/m^3)                   1983.0  1005.263947   \nFine aggregate content (kg/m^3)                     1983.0   814.084454   \nCuring temperature (Celsius degree)                 1980.0    21.535354   \nCuring humidity (%)                                 1980.0    95.006566   \nCuring day                                          1978.0    25.849343   \nSlump (mm)                                           820.0   105.309756   \nAverage 28-day compressive strength (Mpa)           1942.0    51.340071   \nAverage 28-day split strength (Mpa)                   62.0     3.679032   \nChloride diffusion coefficient (10-12 m2/s)           66.0     5.239591   \nAverage carbonation coefficient (mm/year^0.5)       1095.0     3.718963   \n\n                                                           std     min  \\\nASTM type 1 ordinary Portland Cement content (k...  106.825528    0.00   \nCEM I 42.5N ordinary Portland Cement content (k...  146.591457    0.00   \nCEM I 52.5N ordinary Portland Cement content (k...  152.375401    0.00   \nClass C Fly ash content (kg/m^3)                     28.791545    0.00   \nClass F Fly ash content (kg/m^3)                     65.744896    0.00   \nSlag content (kg/m^3)                                73.837709    0.00   \nSilica fume content (kg/m^3)                         21.082168    0.00   \nWater content (kg/m^3)                               28.371606  105.00   \nSuperplasticizer content (kg/m^3)                     4.726357    0.00   \nMaximum coarse aggregate size (mm)                    3.828674    9.50   \nCoarse aggregate content (kg/m^3)                   163.277663  276.00   \nFine aggregate content (kg/m^3)                     142.479664  279.00   \nCuring temperature (Celsius degree)                   2.892248   13.00   \nCuring humidity (%)                                  12.285983   25.00   \nCuring day                                           23.381716    1.00   \nSlump (mm)                                           57.098701    0.00   \nAverage 28-day compressive strength (Mpa)            18.930602    5.00   \nAverage 28-day split strength (Mpa)                   1.113884    0.96   \nChloride diffusion coefficient (10-12 m2/s)           6.094627    0.50   \nAverage carbonation coefficient (mm/year^0.5)         2.691309    0.00   \n\n                                                           25%          50%  \\\nASTM type 1 ordinary Portland Cement content (k...    0.000000     0.000000   \nCEM I 42.5N ordinary Portland Cement content (k...    0.000000     0.000000   \nCEM I 52.5N ordinary Portland Cement content (k...    0.000000   155.000000   \nClass C Fly ash content (kg/m^3)                      0.000000     0.000000   \nClass F Fly ash content (kg/m^3)                      0.000000     0.000000   \nSlag content (kg/m^3)                                 0.000000     0.000000   \nSilica fume content (kg/m^3)                          0.000000     0.000000   \nWater content (kg/m^3)                              153.000000   170.000000   \nSuperplasticizer content (kg/m^3)                     0.000000     0.000000   \nMaximum coarse aggregate size (mm)                   16.000000    20.000000   \nCoarse aggregate content (kg/m^3)                   879.000000  1015.000000   \nFine aggregate content (kg/m^3)                     696.000000   800.000000   \nCuring temperature (Celsius degree)                  20.000000    20.000000   \nCuring humidity (%)                                  95.000000   100.000000   \nCuring day                                           14.000000    28.000000   \nSlump (mm)                                           70.000000   100.000000   \nAverage 28-day compressive strength (Mpa)            37.500000    49.428571   \nAverage 28-day split strength (Mpa)                   2.910000     3.570000   \nChloride diffusion coefficient (10-12 m2/s)           2.093750     3.143500   \nAverage carbonation coefficient (mm/year^0.5)         1.719319     3.193376   \n\n                                                            75%       max  \nASTM type 1 ordinary Portland Cement content (k...     0.000000   702.000  \nCEM I 42.5N ordinary Portland Cement content (k...   210.000000   547.000  \nCEM I 52.5N ordinary Portland Cement content (k...   280.000000   660.000  \nClass C Fly ash content (kg/m^3)                       0.000000   225.000  \nClass F Fly ash content (kg/m^3)                      56.500000   544.000  \nSlag content (kg/m^3)                                  0.000000   440.000  \nSilica fume content (kg/m^3)                           0.000000   150.000  \nWater content (kg/m^3)                               186.000000   295.000  \nSuperplasticizer content (kg/m^3)                      2.702500    35.100  \nMaximum coarse aggregate size (mm)                    20.000000    30.000  \nCoarse aggregate content (kg/m^3)                   1115.000000  1388.600  \nFine aggregate content (kg/m^3)                      928.500000  1293.000  \nCuring temperature (Celsius degree)                   22.000000    38.000  \nCuring humidity (%)                                  100.000000   100.000  \nCuring day                                            28.000000   191.000  \nSlump (mm)                                           130.000000   260.000  \nAverage 28-day compressive strength (Mpa)             62.800000   125.000  \nAverage 28-day split strength (Mpa)                    4.390000     6.180  \nChloride diffusion coefficient (10-12 m2/s)            5.920000    37.030  \nAverage carbonation coefficient (mm/year^0.5)          5.097573    18.477  ",
      "text/html": "<div>\n<style scoped>\n    .dataframe tbody tr th:only-of-type {\n        vertical-align: middle;\n    }\n\n    .dataframe tbody tr th {\n        vertical-align: top;\n    }\n\n    .dataframe thead th {\n        text-align: right;\n    }\n</style>\n<table border=\"1\" class=\"dataframe\">\n  <thead>\n    <tr style=\"text-align: right;\">\n      <th></th>\n      <th>count</th>\n      <th>mean</th>\n      <th>std</th>\n      <th>min</th>\n      <th>25%</th>\n      <th>50%</th>\n      <th>75%</th>\n      <th>max</th>\n    </tr>\n  </thead>\n  <tbody>\n    <tr>\n      <th>ASTM type 1 ordinary Portland Cement content (kg/m^3)</th>\n      <td>1988.0</td>\n      <td>39.317656</td>\n      <td>106.825528</td>\n      <td>0.00</td>\n      <td>0.000000</td>\n      <td>0.000000</td>\n      <td>0.000000</td>\n      <td>702.000</td>\n    </tr>\n    <tr>\n      <th>CEM I 42.5N ordinary Portland Cement content (kg/m^3)</th>\n      <td>1988.0</td>\n      <td>95.567020</td>\n      <td>146.591457</td>\n      <td>0.00</td>\n      <td>0.000000</td>\n      <td>0.000000</td>\n      <td>210.000000</td>\n      <td>547.000</td>\n    </tr>\n    <tr>\n      <th>CEM I 52.5N ordinary Portland Cement content (kg/m^3)</th>\n      <td>1988.0</td>\n      <td>147.092807</td>\n      <td>152.375401</td>\n      <td>0.00</td>\n      <td>0.000000</td>\n      <td>155.000000</td>\n      <td>280.000000</td>\n      <td>660.000</td>\n    </tr>\n    <tr>\n      <th>Class C Fly ash content (kg/m^3)</th>\n      <td>1988.0</td>\n      <td>6.120221</td>\n      <td>28.791545</td>\n      <td>0.00</td>\n      <td>0.000000</td>\n      <td>0.000000</td>\n      <td>0.000000</td>\n      <td>225.000</td>\n    </tr>\n    <tr>\n      <th>Class F Fly ash content (kg/m^3)</th>\n      <td>1988.0</td>\n      <td>35.497918</td>\n      <td>65.744896</td>\n      <td>0.00</td>\n      <td>0.000000</td>\n      <td>0.000000</td>\n      <td>56.500000</td>\n      <td>544.000</td>\n    </tr>\n    <tr>\n      <th>Slag content (kg/m^3)</th>\n      <td>1988.0</td>\n      <td>34.629970</td>\n      <td>73.837709</td>\n      <td>0.00</td>\n      <td>0.000000</td>\n      <td>0.000000</td>\n      <td>0.000000</td>\n      <td>440.000</td>\n    </tr>\n    <tr>\n      <th>Silica fume content (kg/m^3)</th>\n      <td>1988.0</td>\n      <td>7.592819</td>\n      <td>21.082168</td>\n      <td>0.00</td>\n      <td>0.000000</td>\n      <td>0.000000</td>\n      <td>0.000000</td>\n      <td>150.000</td>\n    </tr>\n    <tr>\n      <th>Water content (kg/m^3)</th>\n      <td>1988.0</td>\n      <td>172.241112</td>\n      <td>28.371606</td>\n      <td>105.00</td>\n      <td>153.000000</td>\n      <td>170.000000</td>\n      <td>186.000000</td>\n      <td>295.000</td>\n    </tr>\n    <tr>\n      <th>Superplasticizer content (kg/m^3)</th>\n      <td>1988.0</td>\n      <td>2.335606</td>\n      <td>4.726357</td>\n      <td>0.00</td>\n      <td>0.000000</td>\n      <td>0.000000</td>\n      <td>2.702500</td>\n      <td>35.100</td>\n    </tr>\n    <tr>\n      <th>Maximum coarse aggregate size (mm)</th>\n      <td>1988.0</td>\n      <td>18.122485</td>\n      <td>3.828674</td>\n      <td>9.50</td>\n      <td>16.000000</td>\n      <td>20.000000</td>\n      <td>20.000000</td>\n      <td>30.000</td>\n    </tr>\n    <tr>\n      <th>Coarse aggregate content (kg/m^3)</th>\n      <td>1983.0</td>\n      <td>1005.263947</td>\n      <td>163.277663</td>\n      <td>276.00</td>\n      <td>879.000000</td>\n      <td>1015.000000</td>\n      <td>1115.000000</td>\n      <td>1388.600</td>\n    </tr>\n    <tr>\n      <th>Fine aggregate content (kg/m^3)</th>\n      <td>1983.0</td>\n      <td>814.084454</td>\n      <td>142.479664</td>\n      <td>279.00</td>\n      <td>696.000000</td>\n      <td>800.000000</td>\n      <td>928.500000</td>\n      <td>1293.000</td>\n    </tr>\n    <tr>\n      <th>Curing temperature (Celsius degree)</th>\n      <td>1980.0</td>\n      <td>21.535354</td>\n      <td>2.892248</td>\n      <td>13.00</td>\n      <td>20.000000</td>\n      <td>20.000000</td>\n      <td>22.000000</td>\n      <td>38.000</td>\n    </tr>\n    <tr>\n      <th>Curing humidity (%)</th>\n      <td>1980.0</td>\n      <td>95.006566</td>\n      <td>12.285983</td>\n      <td>25.00</td>\n      <td>95.000000</td>\n      <td>100.000000</td>\n      <td>100.000000</td>\n      <td>100.000</td>\n    </tr>\n    <tr>\n      <th>Curing day</th>\n      <td>1978.0</td>\n      <td>25.849343</td>\n      <td>23.381716</td>\n      <td>1.00</td>\n      <td>14.000000</td>\n      <td>28.000000</td>\n      <td>28.000000</td>\n      <td>191.000</td>\n    </tr>\n    <tr>\n      <th>Slump (mm)</th>\n      <td>820.0</td>\n      <td>105.309756</td>\n      <td>57.098701</td>\n      <td>0.00</td>\n      <td>70.000000</td>\n      <td>100.000000</td>\n      <td>130.000000</td>\n      <td>260.000</td>\n    </tr>\n    <tr>\n      <th>Average 28-day compressive strength (Mpa)</th>\n      <td>1942.0</td>\n      <td>51.340071</td>\n      <td>18.930602</td>\n      <td>5.00</td>\n      <td>37.500000</td>\n      <td>49.428571</td>\n      <td>62.800000</td>\n      <td>125.000</td>\n    </tr>\n    <tr>\n      <th>Average 28-day split strength (Mpa)</th>\n      <td>62.0</td>\n      <td>3.679032</td>\n      <td>1.113884</td>\n      <td>0.96</td>\n      <td>2.910000</td>\n      <td>3.570000</td>\n      <td>4.390000</td>\n      <td>6.180</td>\n    </tr>\n    <tr>\n      <th>Chloride diffusion coefficient (10-12 m2/s)</th>\n      <td>66.0</td>\n      <td>5.239591</td>\n      <td>6.094627</td>\n      <td>0.50</td>\n      <td>2.093750</td>\n      <td>3.143500</td>\n      <td>5.920000</td>\n      <td>37.030</td>\n    </tr>\n    <tr>\n      <th>Average carbonation coefficient (mm/year^0.5)</th>\n      <td>1095.0</td>\n      <td>3.718963</td>\n      <td>2.691309</td>\n      <td>0.00</td>\n      <td>1.719319</td>\n      <td>3.193376</td>\n      <td>5.097573</td>\n      <td>18.477</td>\n    </tr>\n  </tbody>\n</table>\n</div>"
     },
     "execution_count": 8,
     "metadata": {},
     "output_type": "execute_result"
    }
   ],
   "source": [
    "filtered_row = semi_df[semi_df['Average 28-day compressive strength (Mpa)'] > 400]\n",
    "\n",
    "if len(filtered_row) == 1:\n",
    "    value_to_divide = filtered_row['Average 28-day compressive strength (Mpa)'].values[0]\n",
    "    updated_value = value_to_divide / 10\n",
    "\n",
    "    # Update the value in the DataFrame\n",
    "    semi_df.loc[semi_df['Average 28-day compressive strength (Mpa)'] > 400, 'Average 28-day compressive strength (Mpa)'] = updated_value\n",
    "else:\n",
    "    print(\"No rows or multiple rows matching the condition.\")\n",
    "\n",
    "semi_df.describe().T"
   ],
   "metadata": {
    "collapsed": false,
    "ExecuteTime": {
     "end_time": "2024-01-29T08:34:56.756822900Z",
     "start_time": "2024-01-29T08:34:56.607738500Z"
    }
   },
   "id": "a2c2db239cf841ea"
  },
  {
   "cell_type": "markdown",
   "source": [
    "## Curing method"
   ],
   "metadata": {
    "collapsed": false
   },
   "id": "ad7a0753bac21e38"
  },
  {
   "cell_type": "code",
   "execution_count": 9,
   "outputs": [],
   "source": [
    "num_df = semi_df.select_dtypes(include=np.number)\n",
    "obj_df = semi_df.select_dtypes(include=['object'])"
   ],
   "metadata": {
    "collapsed": false,
    "ExecuteTime": {
     "end_time": "2024-01-29T08:34:56.756822900Z",
     "start_time": "2024-01-29T08:34:56.646637700Z"
    }
   },
   "id": "ec493a2f1871e245"
  },
  {
   "cell_type": "code",
   "execution_count": 10,
   "outputs": [
    {
     "name": "stdout",
     "output_type": "stream",
     "text": [
      "Column 'Curing method':\n",
      "Submerged    837\n",
      "Moist        503\n",
      "Sealed       456\n",
      "Air          184\n",
      "Name: Curing method, dtype: int64\n",
      "\n",
      "Column 'Specimen size':\n",
      "150*150*150    461\n",
      "200h*100r      215\n",
      "100*100*100    158\n",
      "100*100*300     22\n",
      "300h*150r       12\n",
      "100h*100r        5\n",
      "Name: Specimen size, dtype: int64\n"
     ]
    }
   ],
   "source": [
    "for col in obj_df.columns:\n",
    "    value_counts = obj_df[col].value_counts()\n",
    "    print(f\"Column '{col}':\")\n",
    "    print(value_counts)\n",
    "    print()"
   ],
   "metadata": {
    "collapsed": false,
    "ExecuteTime": {
     "end_time": "2024-01-29T08:34:56.757466700Z",
     "start_time": "2024-01-29T08:34:56.649357600Z"
    }
   },
   "id": "5bb6ce8f718bedcc"
  },
  {
   "cell_type": "code",
   "execution_count": 11,
   "outputs": [
    {
     "data": {
      "text/plain": "8"
     },
     "execution_count": 11,
     "metadata": {},
     "output_type": "execute_result"
    }
   ],
   "source": [
    "semi_df['Curing method'].isnull().sum()"
   ],
   "metadata": {
    "collapsed": false,
    "ExecuteTime": {
     "end_time": "2024-01-29T08:34:56.757466700Z",
     "start_time": "2024-01-29T08:34:56.657680100Z"
    }
   },
   "id": "af808ced6624388a"
  },
  {
   "cell_type": "code",
   "execution_count": 12,
   "outputs": [
    {
     "data": {
      "text/plain": "      ASTM type 1 ordinary Portland Cement content (kg/m^3)  \\\n1946                                                0.0       \n1947                                                0.0       \n1948                                                0.0       \n1949                                                0.0       \n1950                                                0.0       \n1951                                                0.0       \n1952                                                0.0       \n1953                                                0.0       \n\n      CEM I 42.5N ordinary Portland Cement content (kg/m^3)  \\\n1946                                              450.0       \n1947                                              405.0       \n1948                                              337.5       \n1949                                              292.5       \n1950                                              225.0       \n1951                                              180.0       \n1952                                              135.0       \n1953                                               90.0       \n\n      CEM I 52.5N ordinary Portland Cement content (kg/m^3)  \\\n1946                                                0.0       \n1947                                                0.0       \n1948                                                0.0       \n1949                                                0.0       \n1950                                                0.0       \n1951                                                0.0       \n1952                                                0.0       \n1953                                                0.0       \n\n      Class C Fly ash content (kg/m^3)  Class F Fly ash content (kg/m^3)  \\\n1946                               0.0                               0.0   \n1947                               0.0                               0.0   \n1948                               0.0                               0.0   \n1949                               0.0                               0.0   \n1950                               0.0                               0.0   \n1951                               0.0                               0.0   \n1952                               0.0                               0.0   \n1953                               0.0                               0.0   \n\n      Slag content (kg/m^3)  Silica fume content (kg/m^3)  \\\n1946                    0.0                           0.0   \n1947                    0.0                          45.0   \n1948                  112.5                           0.0   \n1949                  112.5                          45.0   \n1950                  225.0                           0.0   \n1951                  225.0                          45.0   \n1952                  315.0                           0.0   \n1953                  315.0                          45.0   \n\n      Water content (kg/m^3)  Superplasticizer content (kg/m^3)  \\\n1946                   171.0                              5.130   \n1947                   171.0                              5.850   \n1948                   171.0                              5.850   \n1949                   171.0                              5.895   \n1950                   171.0                              5.400   \n1951                   171.0                              5.850   \n1952                   171.0                              4.230   \n1953                   171.0                              5.850   \n\n      Maximum coarse aggregate size (mm)  ...  Curing method  \\\n1946                                 9.5  ...            NaN   \n1947                                 9.5  ...            NaN   \n1948                                 9.5  ...            NaN   \n1949                                 9.5  ...            NaN   \n1950                                 9.5  ...            NaN   \n1951                                 9.5  ...            NaN   \n1952                                 9.5  ...            NaN   \n1953                                 9.5  ...            NaN   \n\n      Curing temperature (Celsius degree) Curing humidity (%)  Curing day  \\\n1946                                  NaN                 NaN         NaN   \n1947                                  NaN                 NaN         NaN   \n1948                                  NaN                 NaN         NaN   \n1949                                  NaN                 NaN         NaN   \n1950                                  NaN                 NaN         NaN   \n1951                                  NaN                 NaN         NaN   \n1952                                  NaN                 NaN         NaN   \n1953                                  NaN                 NaN         NaN   \n\n      Slump (mm)  Average 28-day compressive strength (Mpa)  \\\n1946        65.0                                        NaN   \n1947        85.0                                        NaN   \n1948       200.0                                        NaN   \n1949        90.0                                        NaN   \n1950        35.0                                        NaN   \n1951       130.0                                        NaN   \n1952       155.0                                        NaN   \n1953       110.0                                        NaN   \n\n      Average 28-day split strength (Mpa)  \\\n1946                                  NaN   \n1947                                  NaN   \n1948                                  NaN   \n1949                                  NaN   \n1950                                  NaN   \n1951                                  NaN   \n1952                                  NaN   \n1953                                  NaN   \n\n      Chloride diffusion coefficient (10-12 m2/s)  \\\n1946                                          NaN   \n1947                                          NaN   \n1948                                          NaN   \n1949                                          NaN   \n1950                                          NaN   \n1951                                          NaN   \n1952                                          NaN   \n1953                                          NaN   \n\n      Average carbonation coefficient (mm/year^0.5)  Specimen size  \n1946                                            NaN            NaN  \n1947                                            NaN            NaN  \n1948                                            NaN            NaN  \n1949                                            NaN            NaN  \n1950                                            NaN            NaN  \n1951                                            NaN            NaN  \n1952                                            NaN            NaN  \n1953                                            NaN            NaN  \n\n[8 rows x 22 columns]",
      "text/html": "<div>\n<style scoped>\n    .dataframe tbody tr th:only-of-type {\n        vertical-align: middle;\n    }\n\n    .dataframe tbody tr th {\n        vertical-align: top;\n    }\n\n    .dataframe thead th {\n        text-align: right;\n    }\n</style>\n<table border=\"1\" class=\"dataframe\">\n  <thead>\n    <tr style=\"text-align: right;\">\n      <th></th>\n      <th>ASTM type 1 ordinary Portland Cement content (kg/m^3)</th>\n      <th>CEM I 42.5N ordinary Portland Cement content (kg/m^3)</th>\n      <th>CEM I 52.5N ordinary Portland Cement content (kg/m^3)</th>\n      <th>Class C Fly ash content (kg/m^3)</th>\n      <th>Class F Fly ash content (kg/m^3)</th>\n      <th>Slag content (kg/m^3)</th>\n      <th>Silica fume content (kg/m^3)</th>\n      <th>Water content (kg/m^3)</th>\n      <th>Superplasticizer content (kg/m^3)</th>\n      <th>Maximum coarse aggregate size (mm)</th>\n      <th>...</th>\n      <th>Curing method</th>\n      <th>Curing temperature (Celsius degree)</th>\n      <th>Curing humidity (%)</th>\n      <th>Curing day</th>\n      <th>Slump (mm)</th>\n      <th>Average 28-day compressive strength (Mpa)</th>\n      <th>Average 28-day split strength (Mpa)</th>\n      <th>Chloride diffusion coefficient (10-12 m2/s)</th>\n      <th>Average carbonation coefficient (mm/year^0.5)</th>\n      <th>Specimen size</th>\n    </tr>\n  </thead>\n  <tbody>\n    <tr>\n      <th>1946</th>\n      <td>0.0</td>\n      <td>450.0</td>\n      <td>0.0</td>\n      <td>0.0</td>\n      <td>0.0</td>\n      <td>0.0</td>\n      <td>0.0</td>\n      <td>171.0</td>\n      <td>5.130</td>\n      <td>9.5</td>\n      <td>...</td>\n      <td>NaN</td>\n      <td>NaN</td>\n      <td>NaN</td>\n      <td>NaN</td>\n      <td>65.0</td>\n      <td>NaN</td>\n      <td>NaN</td>\n      <td>NaN</td>\n      <td>NaN</td>\n      <td>NaN</td>\n    </tr>\n    <tr>\n      <th>1947</th>\n      <td>0.0</td>\n      <td>405.0</td>\n      <td>0.0</td>\n      <td>0.0</td>\n      <td>0.0</td>\n      <td>0.0</td>\n      <td>45.0</td>\n      <td>171.0</td>\n      <td>5.850</td>\n      <td>9.5</td>\n      <td>...</td>\n      <td>NaN</td>\n      <td>NaN</td>\n      <td>NaN</td>\n      <td>NaN</td>\n      <td>85.0</td>\n      <td>NaN</td>\n      <td>NaN</td>\n      <td>NaN</td>\n      <td>NaN</td>\n      <td>NaN</td>\n    </tr>\n    <tr>\n      <th>1948</th>\n      <td>0.0</td>\n      <td>337.5</td>\n      <td>0.0</td>\n      <td>0.0</td>\n      <td>0.0</td>\n      <td>112.5</td>\n      <td>0.0</td>\n      <td>171.0</td>\n      <td>5.850</td>\n      <td>9.5</td>\n      <td>...</td>\n      <td>NaN</td>\n      <td>NaN</td>\n      <td>NaN</td>\n      <td>NaN</td>\n      <td>200.0</td>\n      <td>NaN</td>\n      <td>NaN</td>\n      <td>NaN</td>\n      <td>NaN</td>\n      <td>NaN</td>\n    </tr>\n    <tr>\n      <th>1949</th>\n      <td>0.0</td>\n      <td>292.5</td>\n      <td>0.0</td>\n      <td>0.0</td>\n      <td>0.0</td>\n      <td>112.5</td>\n      <td>45.0</td>\n      <td>171.0</td>\n      <td>5.895</td>\n      <td>9.5</td>\n      <td>...</td>\n      <td>NaN</td>\n      <td>NaN</td>\n      <td>NaN</td>\n      <td>NaN</td>\n      <td>90.0</td>\n      <td>NaN</td>\n      <td>NaN</td>\n      <td>NaN</td>\n      <td>NaN</td>\n      <td>NaN</td>\n    </tr>\n    <tr>\n      <th>1950</th>\n      <td>0.0</td>\n      <td>225.0</td>\n      <td>0.0</td>\n      <td>0.0</td>\n      <td>0.0</td>\n      <td>225.0</td>\n      <td>0.0</td>\n      <td>171.0</td>\n      <td>5.400</td>\n      <td>9.5</td>\n      <td>...</td>\n      <td>NaN</td>\n      <td>NaN</td>\n      <td>NaN</td>\n      <td>NaN</td>\n      <td>35.0</td>\n      <td>NaN</td>\n      <td>NaN</td>\n      <td>NaN</td>\n      <td>NaN</td>\n      <td>NaN</td>\n    </tr>\n    <tr>\n      <th>1951</th>\n      <td>0.0</td>\n      <td>180.0</td>\n      <td>0.0</td>\n      <td>0.0</td>\n      <td>0.0</td>\n      <td>225.0</td>\n      <td>45.0</td>\n      <td>171.0</td>\n      <td>5.850</td>\n      <td>9.5</td>\n      <td>...</td>\n      <td>NaN</td>\n      <td>NaN</td>\n      <td>NaN</td>\n      <td>NaN</td>\n      <td>130.0</td>\n      <td>NaN</td>\n      <td>NaN</td>\n      <td>NaN</td>\n      <td>NaN</td>\n      <td>NaN</td>\n    </tr>\n    <tr>\n      <th>1952</th>\n      <td>0.0</td>\n      <td>135.0</td>\n      <td>0.0</td>\n      <td>0.0</td>\n      <td>0.0</td>\n      <td>315.0</td>\n      <td>0.0</td>\n      <td>171.0</td>\n      <td>4.230</td>\n      <td>9.5</td>\n      <td>...</td>\n      <td>NaN</td>\n      <td>NaN</td>\n      <td>NaN</td>\n      <td>NaN</td>\n      <td>155.0</td>\n      <td>NaN</td>\n      <td>NaN</td>\n      <td>NaN</td>\n      <td>NaN</td>\n      <td>NaN</td>\n    </tr>\n    <tr>\n      <th>1953</th>\n      <td>0.0</td>\n      <td>90.0</td>\n      <td>0.0</td>\n      <td>0.0</td>\n      <td>0.0</td>\n      <td>315.0</td>\n      <td>45.0</td>\n      <td>171.0</td>\n      <td>5.850</td>\n      <td>9.5</td>\n      <td>...</td>\n      <td>NaN</td>\n      <td>NaN</td>\n      <td>NaN</td>\n      <td>NaN</td>\n      <td>110.0</td>\n      <td>NaN</td>\n      <td>NaN</td>\n      <td>NaN</td>\n      <td>NaN</td>\n      <td>NaN</td>\n    </tr>\n  </tbody>\n</table>\n<p>8 rows × 22 columns</p>\n</div>"
     },
     "execution_count": 12,
     "metadata": {},
     "output_type": "execute_result"
    }
   ],
   "source": [
    "missing = semi_df['Curing method'].isnull()\n",
    "semi_df[missing]"
   ],
   "metadata": {
    "collapsed": false,
    "ExecuteTime": {
     "end_time": "2024-01-29T08:34:56.973099600Z",
     "start_time": "2024-01-29T08:34:56.667622400Z"
    }
   },
   "id": "f530155965d6977"
  },
  {
   "cell_type": "code",
   "execution_count": 13,
   "outputs": [
    {
     "data": {
      "text/plain": "0"
     },
     "execution_count": 13,
     "metadata": {},
     "output_type": "execute_result"
    }
   ],
   "source": [
    "semi_df = semi_df.dropna(subset = ['Curing method'])\n",
    "semi_df['Curing method'].isnull().sum()"
   ],
   "metadata": {
    "collapsed": false,
    "ExecuteTime": {
     "end_time": "2024-01-29T08:34:56.973099600Z",
     "start_time": "2024-01-29T08:34:56.691764700Z"
    }
   },
   "id": "1152c496431abf72"
  },
  {
   "cell_type": "code",
   "execution_count": 14,
   "outputs": [
    {
     "data": {
      "text/plain": "   ASTM type 1 ordinary Portland Cement content (kg/m^3)  \\\n0                                                0.0       \n1                                                0.0       \n2                                                0.0       \n3                                                0.0       \n4                                                0.0       \n\n   CEM I 42.5N ordinary Portland Cement content (kg/m^3)  \\\n0                                                0.0       \n1                                                0.0       \n2                                                0.0       \n3                                                0.0       \n4                                                0.0       \n\n   CEM I 52.5N ordinary Portland Cement content (kg/m^3)  \\\n0                                              450.0       \n1                                              400.0       \n2                                              350.0       \n3                                              300.0       \n4                                              315.0       \n\n   Class C Fly ash content (kg/m^3)  Class F Fly ash content (kg/m^3)  \\\n0                               0.0                               0.0   \n1                               0.0                               0.0   \n2                               0.0                               0.0   \n3                               0.0                               0.0   \n4                               0.0                             135.0   \n\n   Slag content (kg/m^3)  Silica fume content (kg/m^3)  \\\n0                    0.0                           0.0   \n1                    0.0                           0.0   \n2                    0.0                           0.0   \n3                    0.0                           0.0   \n4                    0.0                           0.0   \n\n   Water content (kg/m^3)  Superplasticizer content (kg/m^3)  \\\n0                   180.0                               4.00   \n1                   200.0                               3.25   \n2                   210.0                               0.00   \n3                   225.0                               0.00   \n4                   180.0                               1.75   \n\n   Maximum coarse aggregate size (mm)  ...  Slump (mm)  \\\n0                                20.0  ...        30.0   \n1                                20.0  ...        60.0   \n2                                20.0  ...       100.0   \n3                                20.0  ...       140.0   \n4                                20.0  ...        40.0   \n\n   Average 28-day compressive strength (Mpa)  \\\n0                                      75.93   \n1                                      64.50   \n2                                      49.23   \n3                                      36.00   \n4                                      62.80   \n\n  Average 28-day split strength (Mpa)  \\\n0                                 NaN   \n1                                 NaN   \n2                                 NaN   \n3                                 NaN   \n4                                 NaN   \n\n   Chloride diffusion coefficient (10-12 m2/s)  \\\n0                                          NaN   \n1                                          NaN   \n2                                          NaN   \n3                                          NaN   \n4                                          NaN   \n\n   Average carbonation coefficient (mm/year^0.5)  Specimen size  Air  Moist  \\\n0                                          3.139            NaN    0      0   \n1                                          4.022            NaN    0      0   \n2                                          6.670            NaN    0      0   \n3                                          7.945            NaN    0      0   \n4                                          6.052            NaN    0      0   \n\n   Sealed  Submerged  \n0       0          1  \n1       0          1  \n2       0          1  \n3       0          1  \n4       0          1  \n\n[5 rows x 26 columns]",
      "text/html": "<div>\n<style scoped>\n    .dataframe tbody tr th:only-of-type {\n        vertical-align: middle;\n    }\n\n    .dataframe tbody tr th {\n        vertical-align: top;\n    }\n\n    .dataframe thead th {\n        text-align: right;\n    }\n</style>\n<table border=\"1\" class=\"dataframe\">\n  <thead>\n    <tr style=\"text-align: right;\">\n      <th></th>\n      <th>ASTM type 1 ordinary Portland Cement content (kg/m^3)</th>\n      <th>CEM I 42.5N ordinary Portland Cement content (kg/m^3)</th>\n      <th>CEM I 52.5N ordinary Portland Cement content (kg/m^3)</th>\n      <th>Class C Fly ash content (kg/m^3)</th>\n      <th>Class F Fly ash content (kg/m^3)</th>\n      <th>Slag content (kg/m^3)</th>\n      <th>Silica fume content (kg/m^3)</th>\n      <th>Water content (kg/m^3)</th>\n      <th>Superplasticizer content (kg/m^3)</th>\n      <th>Maximum coarse aggregate size (mm)</th>\n      <th>...</th>\n      <th>Slump (mm)</th>\n      <th>Average 28-day compressive strength (Mpa)</th>\n      <th>Average 28-day split strength (Mpa)</th>\n      <th>Chloride diffusion coefficient (10-12 m2/s)</th>\n      <th>Average carbonation coefficient (mm/year^0.5)</th>\n      <th>Specimen size</th>\n      <th>Air</th>\n      <th>Moist</th>\n      <th>Sealed</th>\n      <th>Submerged</th>\n    </tr>\n  </thead>\n  <tbody>\n    <tr>\n      <th>0</th>\n      <td>0.0</td>\n      <td>0.0</td>\n      <td>450.0</td>\n      <td>0.0</td>\n      <td>0.0</td>\n      <td>0.0</td>\n      <td>0.0</td>\n      <td>180.0</td>\n      <td>4.00</td>\n      <td>20.0</td>\n      <td>...</td>\n      <td>30.0</td>\n      <td>75.93</td>\n      <td>NaN</td>\n      <td>NaN</td>\n      <td>3.139</td>\n      <td>NaN</td>\n      <td>0</td>\n      <td>0</td>\n      <td>0</td>\n      <td>1</td>\n    </tr>\n    <tr>\n      <th>1</th>\n      <td>0.0</td>\n      <td>0.0</td>\n      <td>400.0</td>\n      <td>0.0</td>\n      <td>0.0</td>\n      <td>0.0</td>\n      <td>0.0</td>\n      <td>200.0</td>\n      <td>3.25</td>\n      <td>20.0</td>\n      <td>...</td>\n      <td>60.0</td>\n      <td>64.50</td>\n      <td>NaN</td>\n      <td>NaN</td>\n      <td>4.022</td>\n      <td>NaN</td>\n      <td>0</td>\n      <td>0</td>\n      <td>0</td>\n      <td>1</td>\n    </tr>\n    <tr>\n      <th>2</th>\n      <td>0.0</td>\n      <td>0.0</td>\n      <td>350.0</td>\n      <td>0.0</td>\n      <td>0.0</td>\n      <td>0.0</td>\n      <td>0.0</td>\n      <td>210.0</td>\n      <td>0.00</td>\n      <td>20.0</td>\n      <td>...</td>\n      <td>100.0</td>\n      <td>49.23</td>\n      <td>NaN</td>\n      <td>NaN</td>\n      <td>6.670</td>\n      <td>NaN</td>\n      <td>0</td>\n      <td>0</td>\n      <td>0</td>\n      <td>1</td>\n    </tr>\n    <tr>\n      <th>3</th>\n      <td>0.0</td>\n      <td>0.0</td>\n      <td>300.0</td>\n      <td>0.0</td>\n      <td>0.0</td>\n      <td>0.0</td>\n      <td>0.0</td>\n      <td>225.0</td>\n      <td>0.00</td>\n      <td>20.0</td>\n      <td>...</td>\n      <td>140.0</td>\n      <td>36.00</td>\n      <td>NaN</td>\n      <td>NaN</td>\n      <td>7.945</td>\n      <td>NaN</td>\n      <td>0</td>\n      <td>0</td>\n      <td>0</td>\n      <td>1</td>\n    </tr>\n    <tr>\n      <th>4</th>\n      <td>0.0</td>\n      <td>0.0</td>\n      <td>315.0</td>\n      <td>0.0</td>\n      <td>135.0</td>\n      <td>0.0</td>\n      <td>0.0</td>\n      <td>180.0</td>\n      <td>1.75</td>\n      <td>20.0</td>\n      <td>...</td>\n      <td>40.0</td>\n      <td>62.80</td>\n      <td>NaN</td>\n      <td>NaN</td>\n      <td>6.052</td>\n      <td>NaN</td>\n      <td>0</td>\n      <td>0</td>\n      <td>0</td>\n      <td>1</td>\n    </tr>\n  </tbody>\n</table>\n<p>5 rows × 26 columns</p>\n</div>"
     },
     "execution_count": 14,
     "metadata": {},
     "output_type": "execute_result"
    }
   ],
   "source": [
    "new_df = semi_df.copy()\n",
    "new_df = pd.concat([semi_df, pd.get_dummies(semi_df['Curing method'])], axis=1)\n",
    "new_df.head()"
   ],
   "metadata": {
    "collapsed": false,
    "ExecuteTime": {
     "end_time": "2024-01-29T08:34:56.975130400Z",
     "start_time": "2024-01-29T08:34:56.702130100Z"
    }
   },
   "id": "79ba78eee3785a60"
  },
  {
   "cell_type": "code",
   "execution_count": 15,
   "outputs": [
    {
     "name": "stdout",
     "output_type": "stream",
     "text": [
      "<class 'pandas.core.frame.DataFrame'>\n",
      "Int64Index: 1980 entries, 0 to 1987\n",
      "Data columns (total 26 columns):\n",
      " #   Column                                                 Non-Null Count  Dtype  \n",
      "---  ------                                                 --------------  -----  \n",
      " 0   ASTM type 1 ordinary Portland Cement content (kg/m^3)  1980 non-null   float64\n",
      " 1   CEM I 42.5N ordinary Portland Cement content (kg/m^3)  1980 non-null   float64\n",
      " 2   CEM I 52.5N ordinary Portland Cement content (kg/m^3)  1980 non-null   float64\n",
      " 3   Class C Fly ash content (kg/m^3)                       1980 non-null   float64\n",
      " 4   Class F Fly ash content (kg/m^3)                       1980 non-null   float64\n",
      " 5   Slag content (kg/m^3)                                  1980 non-null   float64\n",
      " 6   Silica fume content (kg/m^3)                           1980 non-null   float64\n",
      " 7   Water content (kg/m^3)                                 1980 non-null   float64\n",
      " 8   Superplasticizer content (kg/m^3)                      1980 non-null   float64\n",
      " 9   Maximum coarse aggregate size (mm)                     1980 non-null   float64\n",
      " 10  Coarse aggregate content (kg/m^3)                      1975 non-null   float64\n",
      " 11  Fine aggregate content (kg/m^3)                        1975 non-null   float64\n",
      " 12  Curing method                                          1980 non-null   object \n",
      " 13  Curing temperature (Celsius degree)                    1980 non-null   float64\n",
      " 14  Curing humidity (%)                                    1980 non-null   float64\n",
      " 15  Curing day                                             1978 non-null   float64\n",
      " 16  Slump (mm)                                             812 non-null    float64\n",
      " 17  Average 28-day compressive strength (Mpa)              1942 non-null   float64\n",
      " 18  Average 28-day split strength (Mpa)                    62 non-null     float64\n",
      " 19  Chloride diffusion coefficient (10-12 m2/s)            66 non-null     float64\n",
      " 20  Average carbonation coefficient (mm/year^0.5)          1095 non-null   float64\n",
      " 21  Specimen size                                          873 non-null    object \n",
      " 22  Air                                                    1980 non-null   uint8  \n",
      " 23  Moist                                                  1980 non-null   uint8  \n",
      " 24  Sealed                                                 1980 non-null   uint8  \n",
      " 25  Submerged                                              1980 non-null   uint8  \n",
      "dtypes: float64(20), object(2), uint8(4)\n",
      "memory usage: 363.5+ KB\n"
     ]
    }
   ],
   "source": [
    "new_df.info()"
   ],
   "metadata": {
    "collapsed": false,
    "ExecuteTime": {
     "end_time": "2024-01-29T08:34:56.976140800Z",
     "start_time": "2024-01-29T08:34:56.723287400Z"
    }
   },
   "id": "7b66e52f302bebe4"
  },
  {
   "cell_type": "code",
   "execution_count": 16,
   "outputs": [
    {
     "name": "stdout",
     "output_type": "stream",
     "text": [
      "<class 'pandas.core.frame.DataFrame'>\n",
      "Int64Index: 1980 entries, 0 to 1987\n",
      "Data columns (total 18 columns):\n",
      " #   Column                                                 Non-Null Count  Dtype  \n",
      "---  ------                                                 --------------  -----  \n",
      " 0   ASTM type 1 ordinary Portland Cement content (kg/m^3)  1980 non-null   float64\n",
      " 1   CEM I 42.5N ordinary Portland Cement content (kg/m^3)  1980 non-null   float64\n",
      " 2   CEM I 52.5N ordinary Portland Cement content (kg/m^3)  1980 non-null   float64\n",
      " 3   Class C Fly ash content (kg/m^3)                       1980 non-null   float64\n",
      " 4   Class F Fly ash content (kg/m^3)                       1980 non-null   float64\n",
      " 5   Slag content (kg/m^3)                                  1980 non-null   float64\n",
      " 6   Silica fume content (kg/m^3)                           1980 non-null   float64\n",
      " 7   Water content (kg/m^3)                                 1980 non-null   float64\n",
      " 8   Superplasticizer content (kg/m^3)                      1980 non-null   float64\n",
      " 9   Maximum coarse aggregate size (mm)                     1980 non-null   float64\n",
      " 10  Coarse aggregate content (kg/m^3)                      1975 non-null   float64\n",
      " 11  Fine aggregate content (kg/m^3)                        1975 non-null   float64\n",
      " 12  Curing temperature (Celsius degree)                    1980 non-null   float64\n",
      " 13  Average carbonation coefficient (mm/year^0.5)          1095 non-null   float64\n",
      " 14  Air                                                    1980 non-null   uint8  \n",
      " 15  Moist                                                  1980 non-null   uint8  \n",
      " 16  Sealed                                                 1980 non-null   uint8  \n",
      " 17  Submerged                                              1980 non-null   uint8  \n",
      "dtypes: float64(14), uint8(4)\n",
      "memory usage: 239.8 KB\n"
     ]
    }
   ],
   "source": [
    "new_df = new_df.drop(['Curing humidity (%)', 'Curing day','Slump (mm)', 'Chloride diffusion coefficient (10-12 m2/s)', 'Average 28-day split strength (Mpa)', 'Average 28-day compressive strength (Mpa)', 'Curing method', 'Specimen size',], axis = 1)\n",
    "new_df.info()"
   ],
   "metadata": {
    "collapsed": false,
    "ExecuteTime": {
     "end_time": "2024-01-29T08:34:56.977138300Z",
     "start_time": "2024-01-29T08:34:56.730512900Z"
    }
   },
   "id": "bd0e1656afc64294"
  },
  {
   "cell_type": "code",
   "execution_count": 17,
   "outputs": [
    {
     "data": {
      "text/plain": "ASTM type 1 ordinary Portland Cement content (kg/m^3)    0\nCEM I 42.5N ordinary Portland Cement content (kg/m^3)    0\nCEM I 52.5N ordinary Portland Cement content (kg/m^3)    0\nClass C Fly ash content (kg/m^3)                         0\nClass F Fly ash content (kg/m^3)                         0\nSlag content (kg/m^3)                                    0\nSilica fume content (kg/m^3)                             0\nWater content (kg/m^3)                                   0\nSuperplasticizer content (kg/m^3)                        0\nMaximum coarse aggregate size (mm)                       0\nCoarse aggregate content (kg/m^3)                        0\nFine aggregate content (kg/m^3)                          0\nCuring temperature (Celsius degree)                      0\nAverage carbonation coefficient (mm/year^0.5)            0\nAir                                                      0\nMoist                                                    0\nSealed                                                   0\nSubmerged                                                0\ndtype: int64"
     },
     "execution_count": 17,
     "metadata": {},
     "output_type": "execute_result"
    }
   ],
   "source": [
    "new_df = new_df.dropna()\n",
    "new_df.isnull().sum()"
   ],
   "metadata": {
    "collapsed": false,
    "ExecuteTime": {
     "end_time": "2024-01-29T08:34:57.005324500Z",
     "start_time": "2024-01-29T08:34:56.745154600Z"
    }
   },
   "id": "8bd77c40f2d5ee05"
  },
  {
   "cell_type": "markdown",
   "source": [
    "# Train-test split"
   ],
   "metadata": {
    "collapsed": false
   },
   "id": "2ce0319f7746e1bd"
  },
  {
   "cell_type": "code",
   "execution_count": 18,
   "outputs": [],
   "source": [
    "X = new_df.drop('Average carbonation coefficient (mm/year^0.5)', axis=1)\n",
    "Y = new_df[['Average carbonation coefficient (mm/year^0.5)']]"
   ],
   "metadata": {
    "collapsed": false,
    "ExecuteTime": {
     "end_time": "2024-01-29T08:34:57.058527400Z",
     "start_time": "2024-01-29T08:34:56.758450100Z"
    }
   },
   "id": "2608b0ac74514ca7"
  },
  {
   "cell_type": "code",
   "execution_count": 19,
   "outputs": [],
   "source": [
    "X_big, X_test, y_big, y_test = train_test_split(X,Y, test_size = 0.1, random_state = 42,shuffle = True)\n",
    "X_train, X_val, y_train, y_val = train_test_split(X_big,y_big, test_size = 0.2, random_state = 42,shuffle = True)"
   ],
   "metadata": {
    "collapsed": false,
    "ExecuteTime": {
     "end_time": "2024-01-29T08:34:57.087226500Z",
     "start_time": "2024-01-29T08:34:56.758450100Z"
    }
   },
   "id": "cf15df25111521a6"
  },
  {
   "cell_type": "code",
   "execution_count": 20,
   "outputs": [
    {
     "name": "stdout",
     "output_type": "stream",
     "text": [
      "(788, 17)\n",
      "(197, 17)\n",
      "(110, 17)\n"
     ]
    }
   ],
   "source": [
    "print(X_train.shape)\n",
    "print(X_val.shape)\n",
    "print(X_test.shape)"
   ],
   "metadata": {
    "collapsed": false,
    "ExecuteTime": {
     "end_time": "2024-01-29T08:34:57.109152600Z",
     "start_time": "2024-01-29T08:34:56.771867300Z"
    }
   },
   "id": "2887c2a008960045"
  },
  {
   "cell_type": "markdown",
   "source": [
    "## Min Max Scaler"
   ],
   "metadata": {
    "collapsed": false
   },
   "id": "a4d692b4174ec9de"
  },
  {
   "cell_type": "code",
   "execution_count": 21,
   "outputs": [],
   "source": [
    "scaler = MinMaxScaler()\n",
    "X_train_scaled = scaler.fit_transform(X_train)\n",
    "X_val_scaled = scaler.fit_transform(X_val)\n",
    "X_test_scaled = scaler.fit_transform(X_test)"
   ],
   "metadata": {
    "collapsed": false,
    "ExecuteTime": {
     "end_time": "2024-01-29T08:34:57.109152600Z",
     "start_time": "2024-01-29T08:34:56.778107300Z"
    }
   },
   "id": "b766c5ae2900c639"
  },
  {
   "cell_type": "markdown",
   "source": [
    "# Model evaluation\n",
    "\n",
    "* MAE, MSE, R-square, and Adjusted R-square"
   ],
   "metadata": {
    "collapsed": false
   },
   "id": "8f9043f6ce80b588"
  },
  {
   "cell_type": "code",
   "execution_count": 22,
   "outputs": [],
   "source": [
    "def adj_r2_score(predictors, targets, predictions):\n",
    "    r2 = r2_score(targets, predictions)\n",
    "    n = predictors.shape[0]\n",
    "    k = predictors.shape[1]\n",
    "    return 1 - ((1 - r2) * (n - 1) / (n - k - 1))\n",
    "def model_performance_regression(predictors,target,pred):\n",
    "    r2 = r2_score(target, pred)  # to compute R-squared\n",
    "    adjr2 = adj_r2_score(predictors, target, pred)  # to compute adjusted R-squared\n",
    "    rmse = np.sqrt(mean_squared_error(target, pred))  # to compute RMSE\n",
    "    mae = mean_absolute_error(target, pred)  # to compute MAE\n",
    "\n",
    "    df_perf = pd.DataFrame(\n",
    "        {\n",
    "            \"RMSE\": rmse,\n",
    "            \"MAE\": mae,\n",
    "            \"R-squared\": r2,\n",
    "            \"Adj. R-squared\": adjr2,\n",
    "        },\n",
    "        index=[0],\n",
    "    )\n",
    "\n",
    "    return df_perf"
   ],
   "metadata": {
    "collapsed": false,
    "ExecuteTime": {
     "end_time": "2024-01-29T08:34:57.139924300Z",
     "start_time": "2024-01-29T08:34:56.795146800Z"
    }
   },
   "id": "fd240b1ad57e17ed"
  },
  {
   "cell_type": "markdown",
   "source": [
    "# Model 1"
   ],
   "metadata": {
    "collapsed": false
   },
   "id": "4d727b0bc1f8166e"
  },
  {
   "cell_type": "code",
   "execution_count": 23,
   "outputs": [
    {
     "name": "stdout",
     "output_type": "stream",
     "text": [
      "WARNING:tensorflow:From C:\\Users\\leeno\\anaconda3\\Lib\\site-packages\\keras\\src\\backend.py:277: The name tf.reset_default_graph is deprecated. Please use tf.compat.v1.reset_default_graph instead.\n"
     ]
    }
   ],
   "source": [
    "backend.clear_session()\n",
    "#Fixing the seed for random number generators so that we can ensure we receive the same output everytime\n",
    "np.random.seed(42)\n",
    "random.seed(42)\n",
    "tf.random.set_seed(42)"
   ],
   "metadata": {
    "collapsed": false,
    "ExecuteTime": {
     "end_time": "2024-01-29T08:34:57.375343300Z",
     "start_time": "2024-01-29T08:34:56.798475700Z"
    }
   },
   "id": "c54f86de90738883"
  },
  {
   "cell_type": "code",
   "execution_count": 24,
   "outputs": [
    {
     "name": "stdout",
     "output_type": "stream",
     "text": [
      "Model: \"sequential\"\n",
      "_________________________________________________________________\n",
      " Layer (type)                Output Shape              Param #   \n",
      "=================================================================\n",
      " dense (Dense)               (None, 64)                1152      \n",
      "                                                                 \n",
      " dense_1 (Dense)             (None, 32)                2080      \n",
      "                                                                 \n",
      " dense_2 (Dense)             (None, 32)                1056      \n",
      "                                                                 \n",
      " dense_3 (Dense)             (None, 1)                 33        \n",
      "                                                                 \n",
      "=================================================================\n",
      "Total params: 4321 (16.88 KB)\n",
      "Trainable params: 4321 (16.88 KB)\n",
      "Non-trainable params: 0 (0.00 Byte)\n",
      "_________________________________________________________________\n"
     ]
    }
   ],
   "source": [
    "model = Sequential()\n",
    "model.add(Dense(64, activation='relu',kernel_initializer='he_uniform', input_shape=(17,)))\n",
    "\n",
    "model.add(Dense(32, activation='relu',kernel_initializer='he_uniform'))\n",
    "\n",
    "model.add(Dense(32, activation='relu',kernel_initializer='he_uniform'))\n",
    "\n",
    "model.add(Dense(1, activation='linear'))\n",
    "\n",
    "model.summary()"
   ],
   "metadata": {
    "collapsed": false,
    "ExecuteTime": {
     "end_time": "2024-01-29T08:34:57.725326500Z",
     "start_time": "2024-01-29T08:34:56.991558700Z"
    }
   },
   "id": "6edc7f22c6eecb89"
  },
  {
   "cell_type": "code",
   "execution_count": 25,
   "outputs": [
    {
     "name": "stdout",
     "output_type": "stream",
     "text": [
      "Epoch 1/50\n",
      "WARNING:tensorflow:From C:\\Users\\leeno\\anaconda3\\Lib\\site-packages\\keras\\src\\utils\\tf_utils.py:492: The name tf.ragged.RaggedTensorValue is deprecated. Please use tf.compat.v1.ragged.RaggedTensorValue instead.\n",
      "WARNING:tensorflow:From C:\\Users\\leeno\\anaconda3\\Lib\\site-packages\\keras\\src\\engine\\base_layer_utils.py:384: The name tf.executing_eagerly_outside_functions is deprecated. Please use tf.compat.v1.executing_eagerly_outside_functions instead.\n",
      "25/25 [==============================] - 1s 10ms/step - loss: 10.1615 - mae: 2.3451 - val_loss: 8.5442 - val_mae: 2.1413\n",
      "Epoch 2/50\n",
      "25/25 [==============================] - 0s 4ms/step - loss: 6.2630 - mae: 1.9207 - val_loss: 7.3060 - val_mae: 1.9611\n",
      "Epoch 3/50\n",
      "25/25 [==============================] - 0s 4ms/step - loss: 5.6232 - mae: 1.8122 - val_loss: 6.7108 - val_mae: 1.8307\n",
      "Epoch 4/50\n",
      "25/25 [==============================] - 0s 4ms/step - loss: 5.1727 - mae: 1.7221 - val_loss: 6.2072 - val_mae: 1.7262\n",
      "Epoch 5/50\n",
      "25/25 [==============================] - 0s 4ms/step - loss: 4.7210 - mae: 1.6524 - val_loss: 6.0001 - val_mae: 1.6283\n",
      "Epoch 6/50\n",
      "25/25 [==============================] - 0s 3ms/step - loss: 4.4604 - mae: 1.5960 - val_loss: 5.6223 - val_mae: 1.5660\n",
      "Epoch 7/50\n",
      "25/25 [==============================] - 0s 4ms/step - loss: 4.1437 - mae: 1.5375 - val_loss: 5.1322 - val_mae: 1.5020\n",
      "Epoch 8/50\n",
      "25/25 [==============================] - 0s 5ms/step - loss: 3.9039 - mae: 1.4767 - val_loss: 4.6790 - val_mae: 1.4254\n",
      "Epoch 9/50\n",
      "25/25 [==============================] - 0s 4ms/step - loss: 3.7224 - mae: 1.4395 - val_loss: 5.6551 - val_mae: 1.6055\n",
      "Epoch 10/50\n",
      "25/25 [==============================] - 0s 5ms/step - loss: 3.5400 - mae: 1.3986 - val_loss: 5.9288 - val_mae: 1.6930\n",
      "Epoch 11/50\n",
      "25/25 [==============================] - 0s 3ms/step - loss: 3.4357 - mae: 1.3748 - val_loss: 4.4521 - val_mae: 1.4491\n",
      "Epoch 12/50\n",
      "25/25 [==============================] - 0s 3ms/step - loss: 3.3819 - mae: 1.3757 - val_loss: 4.9917 - val_mae: 1.5159\n",
      "Epoch 13/50\n",
      "25/25 [==============================] - 0s 4ms/step - loss: 3.3538 - mae: 1.3498 - val_loss: 5.1697 - val_mae: 1.5935\n",
      "Epoch 14/50\n",
      "25/25 [==============================] - 0s 4ms/step - loss: 3.2326 - mae: 1.3321 - val_loss: 4.1667 - val_mae: 1.4208\n",
      "Epoch 15/50\n",
      "25/25 [==============================] - 0s 3ms/step - loss: 3.1679 - mae: 1.3123 - val_loss: 5.3897 - val_mae: 1.6749\n",
      "Epoch 16/50\n",
      "25/25 [==============================] - 0s 3ms/step - loss: 3.1370 - mae: 1.3139 - val_loss: 3.8263 - val_mae: 1.3633\n",
      "Epoch 17/50\n",
      "25/25 [==============================] - 0s 4ms/step - loss: 3.0482 - mae: 1.2971 - val_loss: 5.4781 - val_mae: 1.6654\n",
      "Epoch 18/50\n",
      "25/25 [==============================] - 0s 3ms/step - loss: 3.0428 - mae: 1.2924 - val_loss: 4.3000 - val_mae: 1.4674\n",
      "Epoch 19/50\n",
      "25/25 [==============================] - 0s 3ms/step - loss: 3.0383 - mae: 1.2909 - val_loss: 5.1084 - val_mae: 1.6337\n",
      "Epoch 20/50\n",
      "25/25 [==============================] - 0s 3ms/step - loss: 2.9275 - mae: 1.2536 - val_loss: 3.9767 - val_mae: 1.4654\n",
      "Epoch 21/50\n",
      "25/25 [==============================] - 0s 3ms/step - loss: 2.9848 - mae: 1.2688 - val_loss: 5.0235 - val_mae: 1.6477\n",
      "Epoch 22/50\n",
      "25/25 [==============================] - 0s 3ms/step - loss: 2.8467 - mae: 1.2552 - val_loss: 5.5488 - val_mae: 1.7513\n",
      "Epoch 23/50\n",
      "25/25 [==============================] - 0s 3ms/step - loss: 2.8748 - mae: 1.2522 - val_loss: 3.4983 - val_mae: 1.3386\n",
      "Epoch 24/50\n",
      "25/25 [==============================] - 0s 3ms/step - loss: 2.8184 - mae: 1.2492 - val_loss: 4.9526 - val_mae: 1.6271\n",
      "Epoch 25/50\n",
      "25/25 [==============================] - 0s 3ms/step - loss: 2.7913 - mae: 1.2349 - val_loss: 7.0568 - val_mae: 2.0536\n",
      "Epoch 26/50\n",
      "25/25 [==============================] - 0s 3ms/step - loss: 2.7814 - mae: 1.2336 - val_loss: 6.0508 - val_mae: 1.8660\n",
      "Epoch 27/50\n",
      "25/25 [==============================] - 0s 4ms/step - loss: 2.7636 - mae: 1.2211 - val_loss: 4.8402 - val_mae: 1.6179\n",
      "Epoch 28/50\n",
      "25/25 [==============================] - 0s 4ms/step - loss: 2.6982 - mae: 1.2114 - val_loss: 5.3589 - val_mae: 1.7131\n",
      "Epoch 29/50\n",
      "25/25 [==============================] - 0s 3ms/step - loss: 2.7414 - mae: 1.2187 - val_loss: 4.4052 - val_mae: 1.5096\n",
      "Epoch 30/50\n",
      "25/25 [==============================] - 0s 3ms/step - loss: 2.6256 - mae: 1.1907 - val_loss: 6.6231 - val_mae: 1.9679\n",
      "Epoch 31/50\n",
      "25/25 [==============================] - 0s 3ms/step - loss: 2.6163 - mae: 1.1903 - val_loss: 4.3314 - val_mae: 1.5493\n",
      "Epoch 32/50\n",
      "25/25 [==============================] - 0s 3ms/step - loss: 2.6412 - mae: 1.2134 - val_loss: 5.3893 - val_mae: 1.7382\n",
      "Epoch 33/50\n",
      "25/25 [==============================] - 0s 3ms/step - loss: 2.5947 - mae: 1.1922 - val_loss: 6.4789 - val_mae: 1.9402\n",
      "Epoch 34/50\n",
      "25/25 [==============================] - 0s 4ms/step - loss: 2.5728 - mae: 1.1944 - val_loss: 6.3988 - val_mae: 1.9289\n",
      "Epoch 35/50\n",
      "25/25 [==============================] - 0s 4ms/step - loss: 2.6327 - mae: 1.2063 - val_loss: 4.6539 - val_mae: 1.5628\n",
      "Epoch 36/50\n",
      "25/25 [==============================] - 0s 4ms/step - loss: 2.5249 - mae: 1.1780 - val_loss: 6.2384 - val_mae: 1.8864\n",
      "Epoch 37/50\n",
      "25/25 [==============================] - 0s 3ms/step - loss: 2.5228 - mae: 1.1794 - val_loss: 5.3337 - val_mae: 1.7336\n",
      "Epoch 38/50\n",
      "25/25 [==============================] - 0s 3ms/step - loss: 2.5504 - mae: 1.1863 - val_loss: 5.2621 - val_mae: 1.7098\n",
      "Epoch 39/50\n",
      "25/25 [==============================] - 0s 3ms/step - loss: 2.5025 - mae: 1.1744 - val_loss: 3.8277 - val_mae: 1.3991\n",
      "Epoch 40/50\n",
      "25/25 [==============================] - 0s 3ms/step - loss: 2.4965 - mae: 1.1873 - val_loss: 4.6438 - val_mae: 1.6154\n",
      "Epoch 41/50\n",
      "25/25 [==============================] - 0s 3ms/step - loss: 2.4674 - mae: 1.1619 - val_loss: 5.3559 - val_mae: 1.7596\n",
      "Epoch 42/50\n",
      "25/25 [==============================] - 0s 3ms/step - loss: 2.4104 - mae: 1.1454 - val_loss: 6.1365 - val_mae: 1.8896\n",
      "Epoch 43/50\n",
      "25/25 [==============================] - 0s 4ms/step - loss: 2.4099 - mae: 1.1498 - val_loss: 4.4778 - val_mae: 1.5298\n",
      "Epoch 44/50\n",
      "25/25 [==============================] - 0s 3ms/step - loss: 2.4629 - mae: 1.1561 - val_loss: 5.2748 - val_mae: 1.7243\n",
      "Epoch 45/50\n",
      "25/25 [==============================] - 0s 3ms/step - loss: 2.4172 - mae: 1.1490 - val_loss: 6.6079 - val_mae: 1.9843\n",
      "Epoch 46/50\n",
      "25/25 [==============================] - 0s 4ms/step - loss: 2.4147 - mae: 1.1422 - val_loss: 5.6811 - val_mae: 1.7943\n",
      "Epoch 47/50\n",
      "25/25 [==============================] - 0s 3ms/step - loss: 2.3972 - mae: 1.1382 - val_loss: 3.5881 - val_mae: 1.3631\n",
      "Epoch 48/50\n",
      "25/25 [==============================] - 0s 4ms/step - loss: 2.3455 - mae: 1.1316 - val_loss: 6.6400 - val_mae: 2.0127\n",
      "Epoch 49/50\n",
      "25/25 [==============================] - 0s 3ms/step - loss: 2.3155 - mae: 1.1297 - val_loss: 4.3534 - val_mae: 1.5695\n",
      "Epoch 50/50\n",
      "25/25 [==============================] - 0s 3ms/step - loss: 2.3608 - mae: 1.1304 - val_loss: 4.6939 - val_mae: 1.5878\n"
     ]
    }
   ],
   "source": [
    "optimizer = RMSprop( learning_rate=0.001)\n",
    "model.compile(loss='mse',\n",
    "              optimizer=optimizer,\n",
    "              metrics=['mae'])\n",
    "history = model.fit(X_train_scaled, y_train, validation_data=(X_val_scaled, y_val), epochs=50)"
   ],
   "metadata": {
    "collapsed": false,
    "ExecuteTime": {
     "end_time": "2024-01-29T08:35:02.696457400Z",
     "start_time": "2024-01-29T08:34:57.161788900Z"
    }
   },
   "id": "2bcc1d44d4509678"
  },
  {
   "cell_type": "code",
   "execution_count": 26,
   "outputs": [
    {
     "data": {
      "text/plain": "<Figure size 640x480 with 1 Axes>",
      "image/png": "[encoded data removed]"
     },
     "metadata": {},
     "output_type": "display_data"
    }
   ],
   "source": [
    "plt.title('Loss / Mean Squared Error')\n",
    "plt.plot(history.history['loss'], label='train')\n",
    "plt.plot(history.history['val_loss'], label='validate')\n",
    "plt.legend()\n",
    "plt.show()"
   ],
   "metadata": {
    "collapsed": false,
    "ExecuteTime": {
     "end_time": "2024-01-29T08:35:02.888217Z",
     "start_time": "2024-01-29T08:35:02.690779700Z"
    }
   },
   "id": "cb03b5d435e78397"
  },
  {
   "cell_type": "code",
   "execution_count": 27,
   "outputs": [
    {
     "name": "stdout",
     "output_type": "stream",
     "text": [
      "7/7 [==============================] - 0s 1ms/step\n",
      "Validation Performance\n"
     ]
    },
    {
     "data": {
      "text/plain": "       RMSE       MAE  R-squared  Adj. R-squared\n0  2.166537  1.587813   0.451792        0.399727",
      "text/html": "<div>\n<style scoped>\n    .dataframe tbody tr th:only-of-type {\n        vertical-align: middle;\n    }\n\n    .dataframe tbody tr th {\n        vertical-align: top;\n    }\n\n    .dataframe thead th {\n        text-align: right;\n    }\n</style>\n<table border=\"1\" class=\"dataframe\">\n  <thead>\n    <tr style=\"text-align: right;\">\n      <th></th>\n      <th>RMSE</th>\n      <th>MAE</th>\n      <th>R-squared</th>\n      <th>Adj. R-squared</th>\n    </tr>\n  </thead>\n  <tbody>\n    <tr>\n      <th>0</th>\n      <td>2.166537</td>\n      <td>1.587813</td>\n      <td>0.451792</td>\n      <td>0.399727</td>\n    </tr>\n  </tbody>\n</table>\n</div>"
     },
     "execution_count": 27,
     "metadata": {},
     "output_type": "execute_result"
    }
   ],
   "source": [
    "y_result = model.predict(X_val_scaled)\n",
    "print(\"Validation Performance\\n\")\n",
    "ANN_train = model_performance_regression(X_val_scaled,y_val, y_result)\n",
    "ANN_train"
   ],
   "metadata": {
    "collapsed": false,
    "ExecuteTime": {
     "end_time": "2024-01-29T08:35:03.055688700Z",
     "start_time": "2024-01-29T08:35:02.887217500Z"
    }
   },
   "id": "3d1bfc45840b82db"
  },
  {
   "cell_type": "code",
   "execution_count": 28,
   "outputs": [
    {
     "name": "stdout",
     "output_type": "stream",
     "text": [
      "4/4 [==============================] - 0s 3ms/step\n",
      "Test set Performance\n"
     ]
    },
    {
     "data": {
      "text/plain": "       RMSE       MAE  R-squared  Adj. R-squared\n0  2.396613  1.827099   0.290018        0.158825",
      "text/html": "<div>\n<style scoped>\n    .dataframe tbody tr th:only-of-type {\n        vertical-align: middle;\n    }\n\n    .dataframe tbody tr th {\n        vertical-align: top;\n    }\n\n    .dataframe thead th {\n        text-align: right;\n    }\n</style>\n<table border=\"1\" class=\"dataframe\">\n  <thead>\n    <tr style=\"text-align: right;\">\n      <th></th>\n      <th>RMSE</th>\n      <th>MAE</th>\n      <th>R-squared</th>\n      <th>Adj. R-squared</th>\n    </tr>\n  </thead>\n  <tbody>\n    <tr>\n      <th>0</th>\n      <td>2.396613</td>\n      <td>1.827099</td>\n      <td>0.290018</td>\n      <td>0.158825</td>\n    </tr>\n  </tbody>\n</table>\n</div>"
     },
     "execution_count": 28,
     "metadata": {},
     "output_type": "execute_result"
    }
   ],
   "source": [
    "y_test_result = model.predict(X_test_scaled)\n",
    "ANN_test = model_performance_regression(X_test_scaled, y_test, y_test_result)\n",
    "print(\"Test set Performance\\n\")\n",
    "ANN_test"
   ],
   "metadata": {
    "collapsed": false,
    "ExecuteTime": {
     "end_time": "2024-01-29T08:35:03.220413Z",
     "start_time": "2024-01-29T08:35:03.049118800Z"
    }
   },
   "id": "f6e4f6f07adeaa37"
  },
  {
   "cell_type": "markdown",
   "source": [
    "# Model 2 (Early stopping)"
   ],
   "metadata": {
    "collapsed": false
   },
   "id": "69de95b606e9e1"
  },
  {
   "cell_type": "code",
   "execution_count": 29,
   "outputs": [],
   "source": [
    "backend.clear_session()\n",
    "#Fixing the seed for random number generators so that we can ensure we receive the same output everytime\n",
    "np.random.seed(42)\n",
    "random.seed(42)\n",
    "tf.random.set_seed(42)"
   ],
   "metadata": {
    "collapsed": false,
    "ExecuteTime": {
     "end_time": "2024-01-29T08:35:03.226602700Z",
     "start_time": "2024-01-29T08:35:03.126546900Z"
    }
   },
   "id": "b088567fec417bad"
  },
  {
   "cell_type": "code",
   "execution_count": 30,
   "outputs": [
    {
     "name": "stdout",
     "output_type": "stream",
     "text": [
      "Model: \"sequential\"\n",
      "_________________________________________________________________\n",
      " Layer (type)                Output Shape              Param #   \n",
      "=================================================================\n",
      " dense (Dense)               (None, 64)                1152      \n",
      "                                                                 \n",
      " dense_1 (Dense)             (None, 32)                2080      \n",
      "                                                                 \n",
      " dense_2 (Dense)             (None, 32)                1056      \n",
      "                                                                 \n",
      " dense_3 (Dense)             (None, 1)                 33        \n",
      "                                                                 \n",
      "=================================================================\n",
      "Total params: 4321 (16.88 KB)\n",
      "Trainable params: 4321 (16.88 KB)\n",
      "Non-trainable params: 0 (0.00 Byte)\n",
      "_________________________________________________________________\n"
     ]
    }
   ],
   "source": [
    "# Initializing the model\n",
    "model_ES = Sequential()\n",
    "# Adding input layer with 64 neurons, relu as activation function and, he_uniform as weight initializer.\n",
    "model_ES.add(Dense(64, activation='relu',kernel_initializer='he_uniform', input_shape=(17,)))\n",
    "# Adding the first hidden layer with 32 neurons, relu as activation function and, he_uniform as weight initializer\n",
    "model_ES.add(Dense(32, activation='relu',kernel_initializer='he_uniform'))\n",
    "# Adding the second hidden layer with 32 neurons, relu as activation function and, he_uniform as weight initializer\n",
    "model_ES.add(Dense(32, activation='relu',kernel_initializer='he_uniform'))\n",
    "# Adding the output layer with one neuron and linear as activation\n",
    "model_ES.add(Dense(1, activation='linear'))\n",
    "\n",
    "model_ES.summary()"
   ],
   "metadata": {
    "collapsed": false,
    "ExecuteTime": {
     "end_time": "2024-01-29T08:35:03.350441400Z",
     "start_time": "2024-01-29T08:35:03.143016100Z"
    }
   },
   "id": "c47c733cadb26624"
  },
  {
   "cell_type": "code",
   "execution_count": 31,
   "outputs": [
    {
     "name": "stdout",
     "output_type": "stream",
     "text": [
      "Epoch 1/50\n",
      "25/25 [==============================] - 1s 8ms/step - loss: 12.9403 - mae: 2.6764 - val_loss: 9.6879 - val_mae: 2.2176\n",
      "Epoch 2/50\n",
      "25/25 [==============================] - 0s 4ms/step - loss: 6.9041 - mae: 2.0585 - val_loss: 7.8781 - val_mae: 2.1491\n",
      "Epoch 3/50\n",
      "25/25 [==============================] - 0s 4ms/step - loss: 6.1254 - mae: 1.9026 - val_loss: 7.0819 - val_mae: 1.9737\n",
      "Epoch 4/50\n",
      "25/25 [==============================] - 0s 4ms/step - loss: 5.6668 - mae: 1.8128 - val_loss: 6.4081 - val_mae: 1.8440\n",
      "Epoch 5/50\n",
      "25/25 [==============================] - 0s 3ms/step - loss: 5.2127 - mae: 1.7397 - val_loss: 6.1921 - val_mae: 1.7448\n",
      "Epoch 6/50\n",
      "25/25 [==============================] - 0s 3ms/step - loss: 4.8593 - mae: 1.6777 - val_loss: 5.6962 - val_mae: 1.6546\n",
      "Epoch 7/50\n",
      "25/25 [==============================] - 0s 3ms/step - loss: 4.5100 - mae: 1.6259 - val_loss: 5.1802 - val_mae: 1.5507\n",
      "Epoch 8/50\n",
      "25/25 [==============================] - 0s 3ms/step - loss: 4.1249 - mae: 1.5270 - val_loss: 4.8501 - val_mae: 1.4635\n",
      "Epoch 9/50\n",
      "25/25 [==============================] - 0s 3ms/step - loss: 3.7994 - mae: 1.4675 - val_loss: 4.9234 - val_mae: 1.4593\n",
      "Epoch 10/50\n",
      "25/25 [==============================] - 0s 3ms/step - loss: 3.6741 - mae: 1.4134 - val_loss: 4.3786 - val_mae: 1.4104\n",
      "Epoch 11/50\n",
      "25/25 [==============================] - 0s 3ms/step - loss: 3.5395 - mae: 1.4091 - val_loss: 4.8285 - val_mae: 1.5024\n",
      "Epoch 12/50\n",
      "25/25 [==============================] - 0s 3ms/step - loss: 3.4039 - mae: 1.3696 - val_loss: 4.5257 - val_mae: 1.4612\n",
      "Epoch 13/50\n",
      "25/25 [==============================] - 0s 3ms/step - loss: 3.2528 - mae: 1.3348 - val_loss: 4.4829 - val_mae: 1.4537\n",
      "Epoch 14/50\n",
      "25/25 [==============================] - 0s 3ms/step - loss: 3.2188 - mae: 1.3460 - val_loss: 4.2890 - val_mae: 1.4370\n",
      "Epoch 15/50\n",
      "25/25 [==============================] - 0s 3ms/step - loss: 3.2177 - mae: 1.3419 - val_loss: 4.5247 - val_mae: 1.4889\n",
      "Epoch 16/50\n",
      "25/25 [==============================] - 0s 3ms/step - loss: 3.1615 - mae: 1.3275 - val_loss: 5.3585 - val_mae: 1.6825\n",
      "Epoch 17/50\n",
      "25/25 [==============================] - 0s 3ms/step - loss: 3.0141 - mae: 1.2890 - val_loss: 4.7069 - val_mae: 1.5491\n",
      "Epoch 18/50\n",
      "25/25 [==============================] - 0s 3ms/step - loss: 3.0011 - mae: 1.2807 - val_loss: 4.1937 - val_mae: 1.4603\n",
      "Epoch 19/50\n",
      "25/25 [==============================] - 0s 3ms/step - loss: 2.9338 - mae: 1.2726 - val_loss: 5.2537 - val_mae: 1.6751\n",
      "Epoch 20/50\n",
      "25/25 [==============================] - 0s 3ms/step - loss: 2.8880 - mae: 1.2549 - val_loss: 4.7064 - val_mae: 1.5815\n",
      "Epoch 21/50\n",
      "25/25 [==============================] - 0s 4ms/step - loss: 2.9761 - mae: 1.2821 - val_loss: 4.0068 - val_mae: 1.4393\n",
      "Epoch 22/50\n",
      "25/25 [==============================] - 0s 3ms/step - loss: 2.8459 - mae: 1.2579 - val_loss: 5.0074 - val_mae: 1.6389\n",
      "Epoch 23/50\n",
      "25/25 [==============================] - 0s 3ms/step - loss: 2.7245 - mae: 1.2194 - val_loss: 4.4227 - val_mae: 1.5102\n",
      "Epoch 24/50\n",
      "25/25 [==============================] - 0s 3ms/step - loss: 2.7255 - mae: 1.2272 - val_loss: 5.4519 - val_mae: 1.7475\n",
      "Epoch 25/50\n",
      "25/25 [==============================] - 0s 3ms/step - loss: 2.7128 - mae: 1.2164 - val_loss: 4.5617 - val_mae: 1.5462\n",
      "Epoch 26/50\n",
      "25/25 [==============================] - 0s 3ms/step - loss: 2.6364 - mae: 1.2000 - val_loss: 4.7644 - val_mae: 1.6038\n"
     ]
    }
   ],
   "source": [
    "# Initializing the Optimizer\n",
    "optimizer = Adam(0.001)\n",
    "# Compiling the model with 'mse' as loss function and metrics\n",
    "model_ES.compile(loss='mse',\n",
    "                 optimizer=optimizer,\n",
    "                 metrics=['mae'])\n",
    "# Defining Early stopping\n",
    "es_cb = callbacks.EarlyStopping(monitor='val_loss', min_delta=0.001, patience=5)\n",
    "# Fitting the model on train and validation with 50 epochs\n",
    "history_ES = model_ES.fit(X_train_scaled, y_train, validation_data=(X_val_scaled, y_val), epochs=50,callbacks=es_cb)"
   ],
   "metadata": {
    "collapsed": false,
    "ExecuteTime": {
     "end_time": "2024-01-29T08:35:06.262872700Z",
     "start_time": "2024-01-29T08:35:03.210611700Z"
    }
   },
   "id": "9422d1dc0bc441c8"
  },
  {
   "cell_type": "code",
   "execution_count": 32,
   "outputs": [
    {
     "data": {
      "text/plain": "<Figure size 640x480 with 1 Axes>",
      "image/png": "[encoded data removed]"
     },
     "metadata": {},
     "output_type": "display_data"
    }
   ],
   "source": [
    "plt.title('Loss / Mean Squared Error')\n",
    "plt.plot(history_ES.history['loss'], label='train')\n",
    "plt.plot(history_ES.history['val_loss'], label='validate')\n",
    "plt.legend()\n",
    "plt.show()"
   ],
   "metadata": {
    "collapsed": false,
    "ExecuteTime": {
     "end_time": "2024-01-29T08:35:06.408547600Z",
     "start_time": "2024-01-29T08:35:06.250028200Z"
    }
   },
   "id": "8c41dd57296bd9cc"
  },
  {
   "cell_type": "code",
   "execution_count": 33,
   "outputs": [
    {
     "name": "stdout",
     "output_type": "stream",
     "text": [
      "7/7 [==============================] - 0s 2ms/step\n",
      "Validation Performance\n"
     ]
    },
    {
     "data": {
      "text/plain": "       RMSE      MAE  R-squared  Adj. R-squared\n0  2.182744  1.60378   0.443559        0.390713",
      "text/html": "<div>\n<style scoped>\n    .dataframe tbody tr th:only-of-type {\n        vertical-align: middle;\n    }\n\n    .dataframe tbody tr th {\n        vertical-align: top;\n    }\n\n    .dataframe thead th {\n        text-align: right;\n    }\n</style>\n<table border=\"1\" class=\"dataframe\">\n  <thead>\n    <tr style=\"text-align: right;\">\n      <th></th>\n      <th>RMSE</th>\n      <th>MAE</th>\n      <th>R-squared</th>\n      <th>Adj. R-squared</th>\n    </tr>\n  </thead>\n  <tbody>\n    <tr>\n      <th>0</th>\n      <td>2.182744</td>\n      <td>1.60378</td>\n      <td>0.443559</td>\n      <td>0.390713</td>\n    </tr>\n  </tbody>\n</table>\n</div>"
     },
     "execution_count": 33,
     "metadata": {},
     "output_type": "execute_result"
    }
   ],
   "source": [
    "y_result_ES = model_ES.predict(X_val_scaled)\n",
    "print(\"Validation Performance\\n\")\n",
    "ES_train = model_performance_regression(X_val_scaled,y_val, y_result_ES)\n",
    "ES_train"
   ],
   "metadata": {
    "collapsed": false,
    "ExecuteTime": {
     "end_time": "2024-01-29T08:35:06.572018Z",
     "start_time": "2024-01-29T08:35:06.408547600Z"
    }
   },
   "id": "879d52875101f4cd"
  },
  {
   "cell_type": "code",
   "execution_count": 34,
   "outputs": [
    {
     "name": "stdout",
     "output_type": "stream",
     "text": [
      "4/4 [==============================] - 0s 1ms/step\n",
      "Test set Performance\n"
     ]
    },
    {
     "data": {
      "text/plain": "       RMSE       MAE  R-squared  Adj. R-squared\n0  2.270068  1.657738   0.363015        0.245311",
      "text/html": "<div>\n<style scoped>\n    .dataframe tbody tr th:only-of-type {\n        vertical-align: middle;\n    }\n\n    .dataframe tbody tr th {\n        vertical-align: top;\n    }\n\n    .dataframe thead th {\n        text-align: right;\n    }\n</style>\n<table border=\"1\" class=\"dataframe\">\n  <thead>\n    <tr style=\"text-align: right;\">\n      <th></th>\n      <th>RMSE</th>\n      <th>MAE</th>\n      <th>R-squared</th>\n      <th>Adj. R-squared</th>\n    </tr>\n  </thead>\n  <tbody>\n    <tr>\n      <th>0</th>\n      <td>2.270068</td>\n      <td>1.657738</td>\n      <td>0.363015</td>\n      <td>0.245311</td>\n    </tr>\n  </tbody>\n</table>\n</div>"
     },
     "execution_count": 34,
     "metadata": {},
     "output_type": "execute_result"
    }
   ],
   "source": [
    "y_result_ES_test = model_ES.predict(X_test_scaled)\n",
    "print(\"Test set Performance\\n\")\n",
    "ES_test = model_performance_regression(X_test_scaled,y_test, y_result_ES_test)\n",
    "ES_test"
   ],
   "metadata": {
    "collapsed": false,
    "ExecuteTime": {
     "end_time": "2024-01-29T08:35:06.718771700Z",
     "start_time": "2024-01-29T08:35:06.549234800Z"
    }
   },
   "id": "8c02e21fe5aa179b"
  },
  {
   "cell_type": "markdown",
   "source": [
    "* Better than model 1"
   ],
   "metadata": {
    "collapsed": false
   },
   "id": "ce1a74f4ff87e5f7"
  },
  {
   "cell_type": "markdown",
   "source": [
    "# Model 3 (Dropout with early stop)"
   ],
   "metadata": {
    "collapsed": false
   },
   "id": "dc4d07381e1d05e9"
  },
  {
   "cell_type": "code",
   "execution_count": 35,
   "outputs": [],
   "source": [
    "backend.clear_session()\n",
    "#Fixing the seed for random number generators so that we can ensure we receive the same output everytime\n",
    "np.random.seed(42)\n",
    "random.seed(42)\n",
    "tf.random.set_seed(42)"
   ],
   "metadata": {
    "collapsed": false,
    "ExecuteTime": {
     "end_time": "2024-01-29T08:35:06.718771700Z",
     "start_time": "2024-01-29T08:35:06.642482500Z"
    }
   },
   "id": "680c5639600c0391"
  },
  {
   "cell_type": "code",
   "execution_count": 36,
   "outputs": [
    {
     "name": "stdout",
     "output_type": "stream",
     "text": [
      "Model: \"sequential\"\n",
      "_________________________________________________________________\n",
      " Layer (type)                Output Shape              Param #   \n",
      "=================================================================\n",
      " dense (Dense)               (None, 64)                1152      \n",
      "                                                                 \n",
      " dropout (Dropout)           (None, 64)                0         \n",
      "                                                                 \n",
      " dense_1 (Dense)             (None, 32)                2080      \n",
      "                                                                 \n",
      " dropout_1 (Dropout)         (None, 32)                0         \n",
      "                                                                 \n",
      " dense_2 (Dense)             (None, 32)                1056      \n",
      "                                                                 \n",
      " dense_3 (Dense)             (None, 1)                 33        \n",
      "                                                                 \n",
      "=================================================================\n",
      "Total params: 4321 (16.88 KB)\n",
      "Trainable params: 4321 (16.88 KB)\n",
      "Non-trainable params: 0 (0.00 Byte)\n",
      "_________________________________________________________________\n"
     ]
    }
   ],
   "source": [
    "model_DO = Sequential()\n",
    "model_DO.add(Dense(64, activation='relu',kernel_initializer='he_uniform', input_shape=(17,)))\n",
    "# Adding Dropout with 20%\n",
    "model_DO.add(Dropout(0.2))\n",
    "model_DO.add(Dense(32, activation='relu',kernel_initializer='he_uniform'))\n",
    "model_DO.add(Dropout(0.2))\n",
    "model_DO.add(Dense(32, activation='relu',kernel_initializer='he_uniform'))\n",
    "model_DO.add(Dense(1, activation='linear'))\n",
    "\n",
    "model_DO.summary()"
   ],
   "metadata": {
    "collapsed": false,
    "ExecuteTime": {
     "end_time": "2024-01-29T08:35:06.891281400Z",
     "start_time": "2024-01-29T08:35:06.657564900Z"
    }
   },
   "id": "a9717988454fb708"
  },
  {
   "cell_type": "code",
   "execution_count": 37,
   "outputs": [
    {
     "name": "stdout",
     "output_type": "stream",
     "text": [
      "Epoch 1/50\n",
      "25/25 [==============================] - 1s 9ms/step - loss: 12.9100 - mae: 2.6644 - val_loss: 9.9285 - val_mae: 2.2216\n",
      "Epoch 2/50\n",
      "25/25 [==============================] - 0s 4ms/step - loss: 7.9157 - mae: 2.1637 - val_loss: 8.0840 - val_mae: 2.1172\n",
      "Epoch 3/50\n",
      "25/25 [==============================] - 0s 4ms/step - loss: 7.1161 - mae: 2.0376 - val_loss: 7.5866 - val_mae: 1.9947\n",
      "Epoch 4/50\n",
      "25/25 [==============================] - 0s 4ms/step - loss: 6.4777 - mae: 1.9472 - val_loss: 6.8667 - val_mae: 1.9084\n",
      "Epoch 5/50\n",
      "25/25 [==============================] - 0s 3ms/step - loss: 6.1107 - mae: 1.8606 - val_loss: 6.9940 - val_mae: 1.8797\n",
      "Epoch 6/50\n",
      "25/25 [==============================] - 0s 4ms/step - loss: 5.9819 - mae: 1.8666 - val_loss: 6.3447 - val_mae: 1.8092\n",
      "Epoch 7/50\n",
      "25/25 [==============================] - 0s 4ms/step - loss: 5.7337 - mae: 1.8209 - val_loss: 5.8469 - val_mae: 1.7411\n",
      "Epoch 8/50\n",
      "25/25 [==============================] - 0s 4ms/step - loss: 5.6156 - mae: 1.8126 - val_loss: 5.7903 - val_mae: 1.6916\n",
      "Epoch 9/50\n",
      "25/25 [==============================] - 0s 3ms/step - loss: 5.2245 - mae: 1.7625 - val_loss: 5.4546 - val_mae: 1.6287\n",
      "Epoch 10/50\n",
      "25/25 [==============================] - 0s 3ms/step - loss: 5.3732 - mae: 1.7377 - val_loss: 5.4787 - val_mae: 1.6096\n",
      "Epoch 11/50\n",
      "25/25 [==============================] - 0s 3ms/step - loss: 5.2087 - mae: 1.7171 - val_loss: 5.0888 - val_mae: 1.5377\n",
      "Epoch 12/50\n",
      "25/25 [==============================] - 0s 3ms/step - loss: 4.9113 - mae: 1.6736 - val_loss: 5.3637 - val_mae: 1.5548\n",
      "Epoch 13/50\n",
      "25/25 [==============================] - 0s 3ms/step - loss: 4.6898 - mae: 1.6353 - val_loss: 5.1237 - val_mae: 1.5094\n",
      "Epoch 14/50\n",
      "25/25 [==============================] - 0s 3ms/step - loss: 4.6425 - mae: 1.6365 - val_loss: 4.9932 - val_mae: 1.4826\n",
      "Epoch 15/50\n",
      "25/25 [==============================] - 0s 3ms/step - loss: 4.4714 - mae: 1.5788 - val_loss: 4.3722 - val_mae: 1.4111\n",
      "Epoch 16/50\n",
      "25/25 [==============================] - 0s 4ms/step - loss: 4.4829 - mae: 1.5779 - val_loss: 4.6754 - val_mae: 1.4357\n",
      "Epoch 17/50\n",
      "25/25 [==============================] - 0s 3ms/step - loss: 4.4594 - mae: 1.5891 - val_loss: 4.7010 - val_mae: 1.4450\n",
      "Epoch 18/50\n",
      "25/25 [==============================] - 0s 3ms/step - loss: 4.3020 - mae: 1.5329 - val_loss: 4.4049 - val_mae: 1.4008\n",
      "Epoch 19/50\n",
      "25/25 [==============================] - 0s 3ms/step - loss: 4.2842 - mae: 1.5722 - val_loss: 4.5503 - val_mae: 1.4380\n",
      "Epoch 20/50\n",
      "25/25 [==============================] - 0s 4ms/step - loss: 3.9904 - mae: 1.4986 - val_loss: 4.5974 - val_mae: 1.4413\n"
     ]
    }
   ],
   "source": [
    "optimizer = Adam(0.001)\n",
    "model_DO.compile(loss='mse',\n",
    "                 optimizer=optimizer,\n",
    "                 metrics=['mae'])\n",
    "# Defining Early stopping\n",
    "es_cb = callbacks.EarlyStopping(monitor='val_loss', min_delta=0.001, patience=5)\n",
    "history_DO = model_DO.fit(X_train_scaled, y_train, validation_data=(X_val_scaled, y_val), epochs=50,callbacks=es_cb)"
   ],
   "metadata": {
    "collapsed": false,
    "ExecuteTime": {
     "end_time": "2024-01-29T08:35:09.339664500Z",
     "start_time": "2024-01-29T08:35:06.728399700Z"
    }
   },
   "id": "d97be652982dc50d"
  },
  {
   "cell_type": "code",
   "execution_count": 38,
   "outputs": [
    {
     "data": {
      "text/plain": "<Figure size 640x480 with 1 Axes>",
      "image/png": "[encoded data removed]"
     },
     "metadata": {},
     "output_type": "display_data"
    }
   ],
   "source": [
    "plt.title('Loss / Mean Squared Error')\n",
    "plt.plot(history_DO.history['loss'], label='train')\n",
    "plt.plot(history_DO.history['val_loss'], label='validate')\n",
    "plt.legend()\n",
    "plt.show()"
   ],
   "metadata": {
    "collapsed": false,
    "ExecuteTime": {
     "end_time": "2024-01-29T08:35:09.485257800Z",
     "start_time": "2024-01-29T08:35:09.328357400Z"
    }
   },
   "id": "2661044f59ad813e"
  },
  {
   "cell_type": "code",
   "execution_count": 39,
   "outputs": [
    {
     "name": "stdout",
     "output_type": "stream",
     "text": [
      "7/7 [==============================] - 0s 2ms/step\n",
      "Validation Performance\n"
     ]
    },
    {
     "data": {
      "text/plain": "      RMSE       MAE  R-squared  Adj. R-squared\n0  2.14415  1.441259   0.463063        0.412069",
      "text/html": "<div>\n<style scoped>\n    .dataframe tbody tr th:only-of-type {\n        vertical-align: middle;\n    }\n\n    .dataframe tbody tr th {\n        vertical-align: top;\n    }\n\n    .dataframe thead th {\n        text-align: right;\n    }\n</style>\n<table border=\"1\" class=\"dataframe\">\n  <thead>\n    <tr style=\"text-align: right;\">\n      <th></th>\n      <th>RMSE</th>\n      <th>MAE</th>\n      <th>R-squared</th>\n      <th>Adj. R-squared</th>\n    </tr>\n  </thead>\n  <tbody>\n    <tr>\n      <th>0</th>\n      <td>2.14415</td>\n      <td>1.441259</td>\n      <td>0.463063</td>\n      <td>0.412069</td>\n    </tr>\n  </tbody>\n</table>\n</div>"
     },
     "execution_count": 39,
     "metadata": {},
     "output_type": "execute_result"
    }
   ],
   "source": [
    "y_result_DO = model_DO.predict(X_val_scaled)\n",
    "print(\"Validation Performance\\n\")\n",
    "DO_train = model_performance_regression(X_val_scaled,y_val, y_result_DO)\n",
    "DO_train"
   ],
   "metadata": {
    "collapsed": false,
    "ExecuteTime": {
     "end_time": "2024-01-29T08:35:09.675296800Z",
     "start_time": "2024-01-29T08:35:09.485257800Z"
    }
   },
   "id": "42088a1d08df490e"
  },
  {
   "cell_type": "code",
   "execution_count": 40,
   "outputs": [
    {
     "name": "stdout",
     "output_type": "stream",
     "text": [
      "4/4 [==============================] - 0s 0s/step\n",
      "Test set Performance\n"
     ]
    },
    {
     "data": {
      "text/plain": "       RMSE       MAE  R-squared  Adj. R-squared\n0  2.116742  1.458152   0.446156        0.343816",
      "text/html": "<div>\n<style scoped>\n    .dataframe tbody tr th:only-of-type {\n        vertical-align: middle;\n    }\n\n    .dataframe tbody tr th {\n        vertical-align: top;\n    }\n\n    .dataframe thead th {\n        text-align: right;\n    }\n</style>\n<table border=\"1\" class=\"dataframe\">\n  <thead>\n    <tr style=\"text-align: right;\">\n      <th></th>\n      <th>RMSE</th>\n      <th>MAE</th>\n      <th>R-squared</th>\n      <th>Adj. R-squared</th>\n    </tr>\n  </thead>\n  <tbody>\n    <tr>\n      <th>0</th>\n      <td>2.116742</td>\n      <td>1.458152</td>\n      <td>0.446156</td>\n      <td>0.343816</td>\n    </tr>\n  </tbody>\n</table>\n</div>"
     },
     "execution_count": 40,
     "metadata": {},
     "output_type": "execute_result"
    }
   ],
   "source": [
    "y_result_DO_test = model_DO.predict(X_test_scaled)\n",
    "print(\"Test set Performance\\n\")\n",
    "DO_test = model_performance_regression(X_test_scaled,y_test, y_result_DO_test)\n",
    "DO_test"
   ],
   "metadata": {
    "collapsed": false,
    "ExecuteTime": {
     "end_time": "2024-01-29T08:35:09.775289Z",
     "start_time": "2024-01-29T08:35:09.609325200Z"
    }
   },
   "id": "3f242eaf11386187"
  },
  {
   "cell_type": "markdown",
   "source": [
    "* Better than model 2"
   ],
   "metadata": {
    "collapsed": false
   },
   "id": "a0e18dbf7f178b04"
  },
  {
   "cell_type": "markdown",
   "source": [
    "# Model 4 (Batch Normalization)"
   ],
   "metadata": {
    "collapsed": false
   },
   "id": "496692363de78e27"
  },
  {
   "cell_type": "code",
   "execution_count": 41,
   "outputs": [],
   "source": [
    "backend.clear_session()\n",
    "#Fixing the seed for random number generators so that we can ensure we receive the same output everytime\n",
    "np.random.seed(42)\n",
    "random.seed(42)\n",
    "tf.random.set_seed(42)"
   ],
   "metadata": {
    "collapsed": false,
    "ExecuteTime": {
     "end_time": "2024-01-29T08:35:09.779487300Z",
     "start_time": "2024-01-29T08:35:09.695474600Z"
    }
   },
   "id": "97898004e19b8710"
  },
  {
   "cell_type": "code",
   "execution_count": 42,
   "outputs": [
    {
     "name": "stdout",
     "output_type": "stream",
     "text": [
      "Model: \"sequential\"\n",
      "_________________________________________________________________\n",
      " Layer (type)                Output Shape              Param #   \n",
      "=================================================================\n",
      " dense (Dense)               (None, 64)                1152      \n",
      "                                                                 \n",
      " dense_1 (Dense)             (None, 32)                2080      \n",
      "                                                                 \n",
      " batch_normalization (Batch  (None, 32)                128       \n",
      " Normalization)                                                  \n",
      "                                                                 \n",
      " dense_2 (Dense)             (None, 32)                1056      \n",
      "                                                                 \n",
      " dense_3 (Dense)             (None, 1)                 33        \n",
      "                                                                 \n",
      "=================================================================\n",
      "Total params: 4449 (17.38 KB)\n",
      "Trainable params: 4385 (17.13 KB)\n",
      "Non-trainable params: 64 (256.00 Byte)\n",
      "_________________________________________________________________\n"
     ]
    }
   ],
   "source": [
    "# Initializing the model\n",
    "model_BN = Sequential()\n",
    "# Adding input layer with 64 neurons, relu as activation function and, he_uniform as weight initializer.\n",
    "model_BN.add(Dense(64, activation='relu',kernel_initializer='he_uniform', input_shape=(17,)))\n",
    "# Adding the first hidden layer with 32 neurons, relu as activation function and, he_uniform as weight initializer\n",
    "model_BN.add(Dense(32, activation='relu',kernel_initializer='he_uniform'))\n",
    "# Adding Batch Normalization\n",
    "model_BN.add(BatchNormalization())\n",
    "# Adding the second hidden layer with 32 neurons, relu as activation function and, he_uniform as weight initializer\n",
    "model_BN.add(Dense(32, activation='relu',kernel_initializer='he_uniform'))\n",
    "# Adding the output layer with one neuron and linear as activation\n",
    "model_BN.add(Dense(1, activation='linear'))\n",
    "\n",
    "model_BN.summary()"
   ],
   "metadata": {
    "collapsed": false,
    "ExecuteTime": {
     "end_time": "2024-01-29T08:35:09.919536400Z",
     "start_time": "2024-01-29T08:35:09.712594700Z"
    }
   },
   "id": "964a9276f1384cd5"
  },
  {
   "cell_type": "code",
   "execution_count": 43,
   "outputs": [
    {
     "name": "stdout",
     "output_type": "stream",
     "text": [
      "Epoch 1/50\n",
      "25/25 [==============================] - 1s 10ms/step - loss: 11.3246 - mae: 2.4895 - val_loss: 16.8301 - val_mae: 2.9686\n",
      "Epoch 2/50\n",
      "25/25 [==============================] - 0s 4ms/step - loss: 6.2833 - mae: 1.8242 - val_loss: 13.5802 - val_mae: 2.5565\n",
      "Epoch 3/50\n",
      "25/25 [==============================] - 0s 4ms/step - loss: 4.8540 - mae: 1.6321 - val_loss: 12.0095 - val_mae: 2.3847\n",
      "Epoch 4/50\n",
      "25/25 [==============================] - 0s 4ms/step - loss: 4.1116 - mae: 1.5043 - val_loss: 11.3545 - val_mae: 2.3275\n",
      "Epoch 5/50\n",
      "25/25 [==============================] - 0s 4ms/step - loss: 3.5072 - mae: 1.3846 - val_loss: 10.3412 - val_mae: 2.2043\n",
      "Epoch 6/50\n",
      "25/25 [==============================] - 0s 4ms/step - loss: 3.3902 - mae: 1.3638 - val_loss: 9.8844 - val_mae: 2.1705\n",
      "Epoch 7/50\n",
      "25/25 [==============================] - 0s 4ms/step - loss: 3.0923 - mae: 1.3110 - val_loss: 9.1531 - val_mae: 2.0705\n",
      "Epoch 8/50\n",
      "25/25 [==============================] - 0s 4ms/step - loss: 2.9185 - mae: 1.2525 - val_loss: 8.7590 - val_mae: 2.0449\n",
      "Epoch 9/50\n",
      "25/25 [==============================] - 0s 3ms/step - loss: 2.8188 - mae: 1.2489 - val_loss: 8.6433 - val_mae: 2.0492\n",
      "Epoch 10/50\n",
      "25/25 [==============================] - 0s 4ms/step - loss: 2.7641 - mae: 1.2201 - val_loss: 7.2754 - val_mae: 1.7954\n",
      "Epoch 11/50\n",
      "25/25 [==============================] - 0s 4ms/step - loss: 2.7949 - mae: 1.2464 - val_loss: 7.7422 - val_mae: 1.9303\n",
      "Epoch 12/50\n",
      "25/25 [==============================] - 0s 3ms/step - loss: 2.6486 - mae: 1.2063 - val_loss: 7.0841 - val_mae: 1.7878\n",
      "Epoch 13/50\n",
      "25/25 [==============================] - 0s 3ms/step - loss: 2.5800 - mae: 1.2026 - val_loss: 7.1604 - val_mae: 1.8708\n",
      "Epoch 14/50\n",
      "25/25 [==============================] - 0s 4ms/step - loss: 2.5091 - mae: 1.1739 - val_loss: 6.7369 - val_mae: 1.7682\n",
      "Epoch 15/50\n",
      "25/25 [==============================] - 0s 3ms/step - loss: 2.4611 - mae: 1.1672 - val_loss: 7.0767 - val_mae: 1.8963\n",
      "Epoch 16/50\n",
      "25/25 [==============================] - 0s 3ms/step - loss: 2.5530 - mae: 1.1845 - val_loss: 5.8734 - val_mae: 1.6720\n",
      "Epoch 17/50\n",
      "25/25 [==============================] - 0s 3ms/step - loss: 2.6152 - mae: 1.2006 - val_loss: 6.4471 - val_mae: 1.7791\n",
      "Epoch 18/50\n",
      "25/25 [==============================] - 0s 3ms/step - loss: 2.5175 - mae: 1.1599 - val_loss: 7.1451 - val_mae: 1.9743\n",
      "Epoch 19/50\n",
      "25/25 [==============================] - 0s 3ms/step - loss: 2.4110 - mae: 1.1449 - val_loss: 6.5407 - val_mae: 1.8353\n",
      "Epoch 20/50\n",
      "25/25 [==============================] - 0s 3ms/step - loss: 2.2873 - mae: 1.1164 - val_loss: 6.9947 - val_mae: 1.9893\n",
      "Epoch 21/50\n",
      "25/25 [==============================] - 0s 3ms/step - loss: 2.4571 - mae: 1.1359 - val_loss: 6.6079 - val_mae: 1.9442\n"
     ]
    }
   ],
   "source": [
    "# Initializing the Optimizer\n",
    "optimizer = Adam(0.001)\n",
    "# Compiling the model with 'mse' as loss function and metrics\n",
    "model_BN.compile(loss='mse',\n",
    "                optimizer=optimizer,\n",
    "                metrics=['mae'])\n",
    "# Defining Early stopping\n",
    "es_cb = callbacks.EarlyStopping(monitor='val_loss', min_delta=0.001, patience=5)\n",
    "# Fitting the model on train and validation with 50 epochs\n",
    "history_BN = model_BN.fit(X_train_scaled, y_train, validation_data=(X_val_scaled, y_val), epochs=50,callbacks=es_cb)"
   ],
   "metadata": {
    "collapsed": false,
    "ExecuteTime": {
     "end_time": "2024-01-29T08:35:12.922981200Z",
     "start_time": "2024-01-29T08:35:09.798044300Z"
    }
   },
   "id": "4863948a3c62a0be"
  },
  {
   "cell_type": "code",
   "execution_count": 44,
   "outputs": [
    {
     "data": {
      "text/plain": "<Figure size 640x480 with 1 Axes>",
      "image/png": "[encoded data removed]"
     },
     "metadata": {},
     "output_type": "display_data"
    }
   ],
   "source": [
    "plt.title('Loss / Mean Squared Error')\n",
    "plt.plot(history_BN.history['loss'], label='train')\n",
    "plt.plot(history_BN.history['val_loss'], label='validate')\n",
    "plt.legend()\n",
    "plt.show()"
   ],
   "metadata": {
    "collapsed": false,
    "ExecuteTime": {
     "end_time": "2024-01-29T08:35:13.082198400Z",
     "start_time": "2024-01-29T08:35:12.912623200Z"
    }
   },
   "id": "2708b4ad543f780e"
  },
  {
   "cell_type": "markdown",
   "source": [
    "* Trash"
   ],
   "metadata": {
    "collapsed": false
   },
   "id": "7fa601b1ef1423af"
  },
  {
   "cell_type": "code",
   "execution_count": 45,
   "outputs": [
    {
     "name": "stdout",
     "output_type": "stream",
     "text": [
      "7/7 [==============================] - 0s 2ms/step\n",
      "Validation Performance\n"
     ]
    },
    {
     "data": {
      "text/plain": "      RMSE       MAE  R-squared  Adj. R-squared\n0  2.57059  1.944195   0.228246        0.154951",
      "text/html": "<div>\n<style scoped>\n    .dataframe tbody tr th:only-of-type {\n        vertical-align: middle;\n    }\n\n    .dataframe tbody tr th {\n        vertical-align: top;\n    }\n\n    .dataframe thead th {\n        text-align: right;\n    }\n</style>\n<table border=\"1\" class=\"dataframe\">\n  <thead>\n    <tr style=\"text-align: right;\">\n      <th></th>\n      <th>RMSE</th>\n      <th>MAE</th>\n      <th>R-squared</th>\n      <th>Adj. R-squared</th>\n    </tr>\n  </thead>\n  <tbody>\n    <tr>\n      <th>0</th>\n      <td>2.57059</td>\n      <td>1.944195</td>\n      <td>0.228246</td>\n      <td>0.154951</td>\n    </tr>\n  </tbody>\n</table>\n</div>"
     },
     "execution_count": 45,
     "metadata": {},
     "output_type": "execute_result"
    }
   ],
   "source": [
    "y_result_BN = model_BN.predict(X_val_scaled)\n",
    "print(\"Validation Performance\\n\")\n",
    "BN_train = model_performance_regression(X_val_scaled,y_val, y_result_BN)\n",
    "BN_train"
   ],
   "metadata": {
    "collapsed": false,
    "ExecuteTime": {
     "end_time": "2024-01-29T08:35:13.265155600Z",
     "start_time": "2024-01-29T08:35:13.080197700Z"
    }
   },
   "id": "38c5e05efe1e4d42"
  },
  {
   "cell_type": "code",
   "execution_count": 46,
   "outputs": [
    {
     "name": "stdout",
     "output_type": "stream",
     "text": [
      "4/4 [==============================] - 0s 3ms/step\n",
      "Test set Performance\n"
     ]
    },
    {
     "data": {
      "text/plain": "      RMSE       MAE  R-squared  Adj. R-squared\n0  2.75284  2.163756   0.063272       -0.109819",
      "text/html": "<div>\n<style scoped>\n    .dataframe tbody tr th:only-of-type {\n        vertical-align: middle;\n    }\n\n    .dataframe tbody tr th {\n        vertical-align: top;\n    }\n\n    .dataframe thead th {\n        text-align: right;\n    }\n</style>\n<table border=\"1\" class=\"dataframe\">\n  <thead>\n    <tr style=\"text-align: right;\">\n      <th></th>\n      <th>RMSE</th>\n      <th>MAE</th>\n      <th>R-squared</th>\n      <th>Adj. R-squared</th>\n    </tr>\n  </thead>\n  <tbody>\n    <tr>\n      <th>0</th>\n      <td>2.75284</td>\n      <td>2.163756</td>\n      <td>0.063272</td>\n      <td>-0.109819</td>\n    </tr>\n  </tbody>\n</table>\n</div>"
     },
     "execution_count": 46,
     "metadata": {},
     "output_type": "execute_result"
    }
   ],
   "source": [
    "y_result_BN_test = model_BN.predict(X_test_scaled)\n",
    "print(\"Test set Performance\\n\")\n",
    "BN_train = model_performance_regression(X_test_scaled,y_test, y_result_BN_test)\n",
    "BN_train"
   ],
   "metadata": {
    "collapsed": false,
    "ExecuteTime": {
     "end_time": "2024-01-29T08:35:13.357776700Z",
     "start_time": "2024-01-29T08:35:13.216825400Z"
    }
   },
   "id": "1274196c24567891"
  },
  {
   "cell_type": "markdown",
   "source": [
    "# Model 5 (Model 3 with deeper layers)"
   ],
   "metadata": {
    "collapsed": false
   },
   "id": "3cec4a2fd82f25d6"
  },
  {
   "cell_type": "code",
   "execution_count": 47,
   "outputs": [],
   "source": [
    "backend.clear_session()\n",
    "#Fixing the seed for random number generators so that we can ensure we receive the same output everytime\n",
    "np.random.seed(42)\n",
    "random.seed(42)\n",
    "tf.random.set_seed(42)"
   ],
   "metadata": {
    "collapsed": false,
    "ExecuteTime": {
     "end_time": "2024-01-29T08:35:13.405241600Z",
     "start_time": "2024-01-29T08:35:13.305383800Z"
    }
   },
   "id": "9634aa3ce1919ecf"
  },
  {
   "cell_type": "code",
   "execution_count": 48,
   "outputs": [
    {
     "name": "stdout",
     "output_type": "stream",
     "text": [
      "Model: \"sequential\"\n",
      "_________________________________________________________________\n",
      " Layer (type)                Output Shape              Param #   \n",
      "=================================================================\n",
      " dense (Dense)               (None, 64)                1152      \n",
      "                                                                 \n",
      " dropout (Dropout)           (None, 64)                0         \n",
      "                                                                 \n",
      " dense_1 (Dense)             (None, 32)                2080      \n",
      "                                                                 \n",
      " dropout_1 (Dropout)         (None, 32)                0         \n",
      "                                                                 \n",
      " dense_2 (Dense)             (None, 16)                528       \n",
      "                                                                 \n",
      " dense_3 (Dense)             (None, 8)                 136       \n",
      "                                                                 \n",
      " dense_4 (Dense)             (None, 1)                 9         \n",
      "                                                                 \n",
      "=================================================================\n",
      "Total params: 3905 (15.25 KB)\n",
      "Trainable params: 3905 (15.25 KB)\n",
      "Non-trainable params: 0 (0.00 Byte)\n",
      "_________________________________________________________________\n"
     ]
    }
   ],
   "source": [
    "model_Final = Sequential()\n",
    "# Adding input layer with 64 neurons, relu as activation function and, he_uniform as weight initializer.\n",
    "model_Final.add(Dense(64, activation='relu',kernel_initializer='he_uniform', input_shape=(17,)))\n",
    "# Adding dropout with ratio of 0.2\n",
    "model_Final.add(Dropout(0.2))\n",
    "# Adding the first hidden layer with 32 neurons, relu as activation function and, he_uniform as weight initializer\n",
    "model_Final.add(Dense(32, activation='relu',kernel_initializer='he_uniform'))\n",
    "# Adding dropout with ratio of 0.1\n",
    "model_Final.add(Dropout(0.1))\n",
    "# Adding the second hidden layer with 16 neurons, relu as activation function and, he_uniform as weight initializer\n",
    "model_Final.add(Dense(16, activation='relu',kernel_initializer='he_uniform'))\n",
    "# Adding the third hidden layer with 8 neurons, relu as activation function and, he_uniform as weight initializer\n",
    "model_Final.add(Dense(8, activation='relu',kernel_initializer='he_uniform'))\n",
    "# Adding the output layer with one neuron and linear as activation\n",
    "model_Final.add(Dense(1, activation='linear'))\n",
    "\n",
    "model_Final.summary()"
   ],
   "metadata": {
    "collapsed": false,
    "ExecuteTime": {
     "end_time": "2024-01-29T08:35:13.565227400Z",
     "start_time": "2024-01-29T08:35:13.318862700Z"
    }
   },
   "id": "6ce51dba4575c303"
  },
  {
   "cell_type": "code",
   "execution_count": 49,
   "outputs": [
    {
     "name": "stdout",
     "output_type": "stream",
     "text": [
      "Epoch 1/50\n",
      "25/25 [==============================] - 1s 9ms/step - loss: 17.4533 - mae: 3.2911 - val_loss: 15.2137 - val_mae: 2.7528\n",
      "Epoch 2/50\n",
      "25/25 [==============================] - 0s 4ms/step - loss: 9.8166 - mae: 2.2825 - val_loss: 8.7102 - val_mae: 2.1215\n",
      "Epoch 3/50\n",
      "25/25 [==============================] - 0s 4ms/step - loss: 7.0961 - mae: 2.0655 - val_loss: 7.8667 - val_mae: 2.1096\n",
      "Epoch 4/50\n",
      "25/25 [==============================] - 0s 4ms/step - loss: 6.5197 - mae: 1.9673 - val_loss: 7.5141 - val_mae: 2.0127\n",
      "Epoch 5/50\n",
      "25/25 [==============================] - 0s 4ms/step - loss: 6.4358 - mae: 1.9307 - val_loss: 7.2683 - val_mae: 1.9546\n",
      "Epoch 6/50\n",
      "25/25 [==============================] - 0s 4ms/step - loss: 5.9666 - mae: 1.8807 - val_loss: 6.9224 - val_mae: 1.9031\n",
      "Epoch 7/50\n",
      "25/25 [==============================] - 0s 4ms/step - loss: 5.6600 - mae: 1.8118 - val_loss: 6.5357 - val_mae: 1.8515\n",
      "Epoch 8/50\n",
      "25/25 [==============================] - 0s 3ms/step - loss: 5.5190 - mae: 1.8041 - val_loss: 6.3266 - val_mae: 1.7801\n",
      "Epoch 9/50\n",
      "25/25 [==============================] - 0s 3ms/step - loss: 5.4187 - mae: 1.7979 - val_loss: 5.8838 - val_mae: 1.7025\n",
      "Epoch 10/50\n",
      "25/25 [==============================] - 0s 3ms/step - loss: 5.2961 - mae: 1.7200 - val_loss: 5.5878 - val_mae: 1.6511\n",
      "Epoch 11/50\n",
      "25/25 [==============================] - 0s 4ms/step - loss: 5.1345 - mae: 1.7141 - val_loss: 5.3440 - val_mae: 1.5939\n",
      "Epoch 12/50\n",
      "25/25 [==============================] - 0s 3ms/step - loss: 5.0610 - mae: 1.7223 - val_loss: 5.4537 - val_mae: 1.5728\n",
      "Epoch 13/50\n",
      "25/25 [==============================] - 0s 3ms/step - loss: 4.6183 - mae: 1.6293 - val_loss: 5.1659 - val_mae: 1.5111\n",
      "Epoch 14/50\n",
      "25/25 [==============================] - 0s 4ms/step - loss: 4.5339 - mae: 1.6249 - val_loss: 5.0847 - val_mae: 1.4830\n",
      "Epoch 15/50\n",
      "25/25 [==============================] - 0s 3ms/step - loss: 4.5835 - mae: 1.5995 - val_loss: 4.2589 - val_mae: 1.4080\n",
      "Epoch 16/50\n",
      "25/25 [==============================] - 0s 3ms/step - loss: 4.5940 - mae: 1.5962 - val_loss: 4.6589 - val_mae: 1.4200\n",
      "Epoch 17/50\n",
      "25/25 [==============================] - 0s 3ms/step - loss: 4.2845 - mae: 1.5646 - val_loss: 4.6324 - val_mae: 1.4128\n",
      "Epoch 18/50\n",
      "25/25 [==============================] - 0s 3ms/step - loss: 4.3442 - mae: 1.5490 - val_loss: 4.4304 - val_mae: 1.3817\n",
      "Epoch 19/50\n",
      "25/25 [==============================] - 0s 4ms/step - loss: 4.1877 - mae: 1.5496 - val_loss: 4.5326 - val_mae: 1.4032\n",
      "Epoch 20/50\n",
      "25/25 [==============================] - 0s 3ms/step - loss: 4.0843 - mae: 1.5226 - val_loss: 4.4625 - val_mae: 1.3893\n"
     ]
    }
   ],
   "source": [
    "# Initializing the Optimizer\n",
    "optimizer = Adam(0.001)\n",
    "# Compiling the model with 'mse' as loss function and metrics\n",
    "model_Final.compile(loss='mse',\n",
    "                optimizer=optimizer,\n",
    "                metrics=['mae'])\n",
    "# Adding the callbacks\n",
    "es_cb = callbacks.EarlyStopping(monitor='val_loss', min_delta=0.001, patience=5)\n",
    "# Fitting the model on train and validation with 50 epochs\n",
    "history_Final = model_Final.fit(X_train_scaled, y_train, validation_data=(X_val_scaled, y_val), epochs=50,callbacks=es_cb)"
   ],
   "metadata": {
    "collapsed": false,
    "ExecuteTime": {
     "end_time": "2024-01-29T08:35:16.181153200Z",
     "start_time": "2024-01-29T08:35:13.410308600Z"
    }
   },
   "id": "ceac752421a826ec"
  },
  {
   "cell_type": "code",
   "execution_count": 50,
   "outputs": [
    {
     "data": {
      "text/plain": "<Figure size 640x480 with 1 Axes>",
      "image/png": "[encoded data removed]"
     },
     "metadata": {},
     "output_type": "display_data"
    }
   ],
   "source": [
    "plt.title('Loss / Mean Squared Error')\n",
    "plt.plot(history_Final.history['loss'], label='train')\n",
    "plt.plot(history_Final.history['val_loss'], label='validate')\n",
    "plt.legend()\n",
    "plt.show()"
   ],
   "metadata": {
    "collapsed": false,
    "ExecuteTime": {
     "end_time": "2024-01-29T08:35:16.346140300Z",
     "start_time": "2024-01-29T08:35:16.181153200Z"
    }
   },
   "id": "c9d86e470c9651b4"
  },
  {
   "cell_type": "code",
   "execution_count": 51,
   "outputs": [
    {
     "name": "stdout",
     "output_type": "stream",
     "text": [
      "7/7 [==============================] - 0s 2ms/step\n",
      "Validation Performance\n"
     ]
    },
    {
     "data": {
      "text/plain": "       RMSE       MAE  R-squared  Adj. R-squared\n0  2.112465  1.389342   0.478815        0.429317",
      "text/html": "<div>\n<style scoped>\n    .dataframe tbody tr th:only-of-type {\n        vertical-align: middle;\n    }\n\n    .dataframe tbody tr th {\n        vertical-align: top;\n    }\n\n    .dataframe thead th {\n        text-align: right;\n    }\n</style>\n<table border=\"1\" class=\"dataframe\">\n  <thead>\n    <tr style=\"text-align: right;\">\n      <th></th>\n      <th>RMSE</th>\n      <th>MAE</th>\n      <th>R-squared</th>\n      <th>Adj. R-squared</th>\n    </tr>\n  </thead>\n  <tbody>\n    <tr>\n      <th>0</th>\n      <td>2.112465</td>\n      <td>1.389342</td>\n      <td>0.478815</td>\n      <td>0.429317</td>\n    </tr>\n  </tbody>\n</table>\n</div>"
     },
     "execution_count": 51,
     "metadata": {},
     "output_type": "execute_result"
    }
   ],
   "source": [
    "y_result_final = model_Final.predict(X_val_scaled)\n",
    "print(\"Validation Performance\\n\")\n",
    "final_train = model_performance_regression(X_val_scaled,y_val, y_result_final)\n",
    "final_train"
   ],
   "metadata": {
    "collapsed": false,
    "ExecuteTime": {
     "end_time": "2024-01-29T08:35:16.525266800Z",
     "start_time": "2024-01-29T08:35:16.343107800Z"
    }
   },
   "id": "3b1629bf4b47356b"
  },
  {
   "cell_type": "code",
   "execution_count": 52,
   "outputs": [
    {
     "name": "stdout",
     "output_type": "stream",
     "text": [
      "4/4 [==============================] - 0s 0s/step\n",
      "Validation Performance\n"
     ]
    },
    {
     "data": {
      "text/plain": "       RMSE       MAE  R-squared  Adj. R-squared\n0  2.141031  1.472488   0.433372         0.32867",
      "text/html": "<div>\n<style scoped>\n    .dataframe tbody tr th:only-of-type {\n        vertical-align: middle;\n    }\n\n    .dataframe tbody tr th {\n        vertical-align: top;\n    }\n\n    .dataframe thead th {\n        text-align: right;\n    }\n</style>\n<table border=\"1\" class=\"dataframe\">\n  <thead>\n    <tr style=\"text-align: right;\">\n      <th></th>\n      <th>RMSE</th>\n      <th>MAE</th>\n      <th>R-squared</th>\n      <th>Adj. R-squared</th>\n    </tr>\n  </thead>\n  <tbody>\n    <tr>\n      <th>0</th>\n      <td>2.141031</td>\n      <td>1.472488</td>\n      <td>0.433372</td>\n      <td>0.32867</td>\n    </tr>\n  </tbody>\n</table>\n</div>"
     },
     "execution_count": 52,
     "metadata": {},
     "output_type": "execute_result"
    }
   ],
   "source": [
    "y_result_final_test = model_Final.predict(X_test_scaled)\n",
    "print(\"Validation Performance\\n\")\n",
    "final_test = model_performance_regression(X_test_scaled,y_test, y_result_final_test)\n",
    "final_test"
   ],
   "metadata": {
    "collapsed": false,
    "ExecuteTime": {
     "end_time": "2024-01-29T08:35:16.665363400Z",
     "start_time": "2024-01-29T08:35:16.475783900Z"
    }
   },
   "id": "c1bcb8a3b9e2910f"
  },
  {
   "cell_type": "markdown",
   "source": [
    "# Summary"
   ],
   "metadata": {
    "collapsed": false
   },
   "id": "3ddf7483105c3100"
  },
  {
   "cell_type": "code",
   "execution_count": 53,
   "outputs": [
    {
     "name": "stdout",
     "output_type": "stream",
     "text": [
      "Training performance comparison:\n"
     ]
    },
    {
     "data": {
      "text/plain": "                     ANN  Early drop   Dropout  Batch Normalization     Final\nRMSE            2.166537    2.182744  2.144150             2.752840  2.112465\nMAE             1.587813    1.603780  1.441259             2.163756  1.389342\nR-squared       0.451792    0.443559  0.463063             0.063272  0.478815\nAdj. R-squared  0.399727    0.390713  0.412069            -0.109819  0.429317",
      "text/html": "<div>\n<style scoped>\n    .dataframe tbody tr th:only-of-type {\n        vertical-align: middle;\n    }\n\n    .dataframe tbody tr th {\n        vertical-align: top;\n    }\n\n    .dataframe thead th {\n        text-align: right;\n    }\n</style>\n<table border=\"1\" class=\"dataframe\">\n  <thead>\n    <tr style=\"text-align: right;\">\n      <th></th>\n      <th>ANN</th>\n      <th>Early drop</th>\n      <th>Dropout</th>\n      <th>Batch Normalization</th>\n      <th>Final</th>\n    </tr>\n  </thead>\n  <tbody>\n    <tr>\n      <th>RMSE</th>\n      <td>2.166537</td>\n      <td>2.182744</td>\n      <td>2.144150</td>\n      <td>2.752840</td>\n      <td>2.112465</td>\n    </tr>\n    <tr>\n      <th>MAE</th>\n      <td>1.587813</td>\n      <td>1.603780</td>\n      <td>1.441259</td>\n      <td>2.163756</td>\n      <td>1.389342</td>\n    </tr>\n    <tr>\n      <th>R-squared</th>\n      <td>0.451792</td>\n      <td>0.443559</td>\n      <td>0.463063</td>\n      <td>0.063272</td>\n      <td>0.478815</td>\n    </tr>\n    <tr>\n      <th>Adj. R-squared</th>\n      <td>0.399727</td>\n      <td>0.390713</td>\n      <td>0.412069</td>\n      <td>-0.109819</td>\n      <td>0.429317</td>\n    </tr>\n  </tbody>\n</table>\n</div>"
     },
     "execution_count": 53,
     "metadata": {},
     "output_type": "execute_result"
    }
   ],
   "source": [
    "models_train_comp_df = pd.concat(\n",
    "    [\n",
    "        ANN_train.T,\n",
    "        ES_train.T,\n",
    "        DO_train.T,\n",
    "        BN_train.T,\n",
    "        final_train.T\n",
    "    ],\n",
    "    axis=1,\n",
    ")\n",
    "\n",
    "models_train_comp_df.columns = [\n",
    "    'ANN',\n",
    "    'Early drop',\n",
    "    'Dropout',\n",
    "    'Batch Normalization',\n",
    "    'Final'\n",
    "]\n",
    "\n",
    "print(\"Training performance comparison:\")\n",
    "models_train_comp_df"
   ],
   "metadata": {
    "collapsed": false,
    "ExecuteTime": {
     "end_time": "2024-01-29T08:35:16.696577300Z",
     "start_time": "2024-01-29T08:35:16.560042Z"
    }
   },
   "id": "1b15aec4afb01fda"
  },
  {
   "cell_type": "code",
   "execution_count": 54,
   "outputs": [
    {
     "name": "stdout",
     "output_type": "stream",
     "text": [
      "Testing performance comparison:\n"
     ]
    },
    {
     "data": {
      "text/plain": "                     ANN  Early drop   Dropout  Batch Normalization     Final\nRMSE            2.396613    2.270068  2.116742             2.396613  2.141031\nMAE             1.827099    1.657738  1.458152             1.827099  1.472488\nR-squared       0.290018    0.363015  0.446156             0.290018  0.433372\nAdj. R-squared  0.158825    0.245311  0.343816             0.158825  0.328670",
      "text/html": "<div>\n<style scoped>\n    .dataframe tbody tr th:only-of-type {\n        vertical-align: middle;\n    }\n\n    .dataframe tbody tr th {\n        vertical-align: top;\n    }\n\n    .dataframe thead th {\n        text-align: right;\n    }\n</style>\n<table border=\"1\" class=\"dataframe\">\n  <thead>\n    <tr style=\"text-align: right;\">\n      <th></th>\n      <th>ANN</th>\n      <th>Early drop</th>\n      <th>Dropout</th>\n      <th>Batch Normalization</th>\n      <th>Final</th>\n    </tr>\n  </thead>\n  <tbody>\n    <tr>\n      <th>RMSE</th>\n      <td>2.396613</td>\n      <td>2.270068</td>\n      <td>2.116742</td>\n      <td>2.396613</td>\n      <td>2.141031</td>\n    </tr>\n    <tr>\n      <th>MAE</th>\n      <td>1.827099</td>\n      <td>1.657738</td>\n      <td>1.458152</td>\n      <td>1.827099</td>\n      <td>1.472488</td>\n    </tr>\n    <tr>\n      <th>R-squared</th>\n      <td>0.290018</td>\n      <td>0.363015</td>\n      <td>0.446156</td>\n      <td>0.290018</td>\n      <td>0.433372</td>\n    </tr>\n    <tr>\n      <th>Adj. R-squared</th>\n      <td>0.158825</td>\n      <td>0.245311</td>\n      <td>0.343816</td>\n      <td>0.158825</td>\n      <td>0.328670</td>\n    </tr>\n  </tbody>\n</table>\n</div>"
     },
     "execution_count": 54,
     "metadata": {},
     "output_type": "execute_result"
    }
   ],
   "source": [
    "models_test_comp_df = pd.concat(\n",
    "    [\n",
    "        ANN_test.T,\n",
    "        ES_test.T,\n",
    "        DO_test.T,\n",
    "        ANN_test.T,\n",
    "        final_test.T\n",
    "    ],\n",
    "    axis=1,\n",
    ")\n",
    "\n",
    "models_test_comp_df.columns = [\n",
    "    'ANN',\n",
    "    'Early drop',\n",
    "    'Dropout',\n",
    "    'Batch Normalization',\n",
    "    'Final'\n",
    "]\n",
    "\n",
    "print(\"Testing performance comparison:\")\n",
    "models_test_comp_df"
   ],
   "metadata": {
    "collapsed": false,
    "ExecuteTime": {
     "end_time": "2024-01-29T08:35:16.696577300Z",
     "start_time": "2024-01-29T08:35:16.566216700Z"
    }
   },
   "id": "15bead90b924599"
  },
  {
   "cell_type": "markdown",
   "source": [
    "# Hyperparameter tuning"
   ],
   "metadata": {
    "collapsed": false
   },
   "id": "643978241c7aa346"
  },
  {
   "cell_type": "code",
   "execution_count": 55,
   "outputs": [],
   "source": [
    "backend.clear_session()\n",
    "#Fixing the seed for random number generators so that we can ensure we receive the same output everytime\n",
    "np.random.seed(42)\n",
    "random.seed(42)\n",
    "tf.random.set_seed(42)"
   ],
   "metadata": {
    "collapsed": false,
    "ExecuteTime": {
     "end_time": "2024-01-29T08:35:16.696577300Z",
     "start_time": "2024-01-29T08:35:16.576725500Z"
    }
   },
   "id": "874ee4bc2d7f939a"
  },
  {
   "cell_type": "code",
   "execution_count": 56,
   "outputs": [],
   "source": [
    "# Define the function to create the model\n",
    "def create_model(activation, neurons, optimizer, learning_rate, dropout, batch_normalization):\n",
    "    model = Sequential()\n",
    "    model.add(Dense(neurons[0], activation=activation, kernel_initializer='he_uniform', input_shape=(14,)))\n",
    "\n",
    "    if batch_normalization:\n",
    "        model.add(BatchNormalization())\n",
    "\n",
    "    if dropout > 0:\n",
    "        model.add(Dropout(dropout))\n",
    "\n",
    "    for i in range(1, len(neurons)):\n",
    "        model.add(Dense(neurons[i], activation=activation, kernel_initializer='he_uniform'))\n",
    "\n",
    "        if batch_normalization:\n",
    "            model.add(BatchNormalization())\n",
    "\n",
    "        if dropout > 0:\n",
    "            model.add(Dropout(dropout))\n",
    "\n",
    "    model.add(Dense(1, activation='linear'))\n",
    "\n",
    "    if optimizer == 'SGD':\n",
    "        opt = SGD(learning_rate=learning_rate)\n",
    "    elif optimizer == 'Adam':\n",
    "        opt = Adam(learning_rate=learning_rate)\n",
    "    elif optimizer == 'RMSprop':\n",
    "        opt = RMSprop(learning_rate=learning_rate)\n",
    "\n",
    "    model.compile(loss='mse', optimizer=opt, metrics=['mae'], batch_size=64)\n",
    "\n",
    "    return model"
   ],
   "metadata": {
    "collapsed": false,
    "ExecuteTime": {
     "end_time": "2024-01-29T08:35:16.696577300Z",
     "start_time": "2024-01-29T08:35:16.591004300Z"
    }
   },
   "id": "b4ea71f4a868db3e"
  },
  {
   "cell_type": "code",
   "execution_count": 57,
   "outputs": [
    {
     "name": "stdout",
     "output_type": "stream",
     "text": [
      "Best Parameters: {'activation': 'tanh', 'alpha': 0.0008122705899244421, 'batch_size': 64, 'early_stopping': True, 'hidden_layer_sizes': (64, 32, 32), 'learning_rate_init': 0.037886947354532796, 'max_iter': 100, 'solver': 'adam'}\n",
      "Best RMSE: 1.9389184799967851\n"
     ]
    }
   ],
   "source": [
    "# Define the parameter distribution for random search\n",
    "param_dist = {\n",
    "    'activation': ['relu', 'tanh', 'sigmoid'],\n",
    "    'hidden_layer_sizes': [(128, 32, 32), (64, 32, 32, 16), (128, 32, 16, 8), (64,32,32)],\n",
    "    'solver': ['sgd', 'adam', 'rmsprop'],\n",
    "    'learning_rate_init': uniform(0.001),\n",
    "    'batch_size':[64, 'auto', 128, None],\n",
    "    'alpha': uniform(0.0001, 0.001),\n",
    "    'max_iter': [100, 200],\n",
    "    'early_stopping': [True, False],\n",
    "\n",
    "}\n",
    "\n",
    "# Create the MLPRegressor estimator\n",
    "model = MLPRegressor()\n",
    "\n",
    "# Perform random search cross-validation\n",
    "random = RandomizedSearchCV(estimator=model, param_distributions=param_dist, scoring='neg_mean_squared_error', n_iter=50, cv=10)\n",
    "random_result = random.fit(X_train_scaled, y_train)\n",
    "\n",
    "# Get the best hyperparameters and the corresponding performance\n",
    "best_params = random_result.best_params_\n",
    "best_score = np.sqrt(-random_result.best_score_)\n",
    "print(\"Best Parameters:\", best_params)\n",
    "print(\"Best RMSE:\", best_score)"
   ],
   "metadata": {
    "collapsed": false,
    "ExecuteTime": {
     "end_time": "2024-01-29T08:36:33.048104400Z",
     "start_time": "2024-01-29T08:35:24.987188300Z"
    }
   },
   "id": "7ee64fb8a326b9de"
  },
  {
   "cell_type": "code",
   "execution_count": 58,
   "outputs": [
    {
     "data": {
      "text/plain": "       RMSE      MAE  R-squared  Adj. R-squared\n0  2.357874  1.80662   0.350686         0.28902",
      "text/html": "<div>\n<style scoped>\n    .dataframe tbody tr th:only-of-type {\n        vertical-align: middle;\n    }\n\n    .dataframe tbody tr th {\n        vertical-align: top;\n    }\n\n    .dataframe thead th {\n        text-align: right;\n    }\n</style>\n<table border=\"1\" class=\"dataframe\">\n  <thead>\n    <tr style=\"text-align: right;\">\n      <th></th>\n      <th>RMSE</th>\n      <th>MAE</th>\n      <th>R-squared</th>\n      <th>Adj. R-squared</th>\n    </tr>\n  </thead>\n  <tbody>\n    <tr>\n      <th>0</th>\n      <td>2.357874</td>\n      <td>1.80662</td>\n      <td>0.350686</td>\n      <td>0.28902</td>\n    </tr>\n  </tbody>\n</table>\n</div>"
     },
     "execution_count": 58,
     "metadata": {},
     "output_type": "execute_result"
    }
   ],
   "source": [
    "Tuned_NN = random.best_estimator_\n",
    "Tuned_NN.fit(X_train_scaled, y_train)\n",
    "Tuned_nn_train = Tuned_NN.predict(X_val_scaled)\n",
    "tuned_nn_train = model_performance_regression(X_val_scaled, y_val, Tuned_nn_train)\n",
    "tuned_nn_train"
   ],
   "metadata": {
    "collapsed": false,
    "ExecuteTime": {
     "end_time": "2024-01-29T08:38:52.057730700Z",
     "start_time": "2024-01-29T08:38:50.979432700Z"
    }
   },
   "id": "a5b8fc2b173fa9fd"
  },
  {
   "cell_type": "markdown",
   "source": [
    "# Overall results"
   ],
   "metadata": {
    "collapsed": false
   },
   "id": "e04aafbaa073e73"
  },
  {
   "cell_type": "code",
   "execution_count": 59,
   "outputs": [],
   "source": [
    "X_scaled = scaler.fit_transform(X)"
   ],
   "metadata": {
    "collapsed": false,
    "ExecuteTime": {
     "end_time": "2024-01-29T08:39:43.968195900Z",
     "start_time": "2024-01-29T08:39:43.911250700Z"
    }
   },
   "id": "291c227b4d687e90"
  },
  {
   "cell_type": "code",
   "execution_count": 60,
   "outputs": [
    {
     "name": "stdout",
     "output_type": "stream",
     "text": [
      "35/35 [==============================] - 0s 1ms/step\n"
     ]
    },
    {
     "data": {
      "text/plain": "      True Values  Predicted Values\n0        3.139000          1.331611\n1        4.022000          2.483894\n2        6.670000          4.387738\n3        7.945000          6.380233\n4        6.052000          3.571696\n...           ...               ...\n1090     5.281004          5.266081\n1091     3.573374          4.637841\n1092     6.988634          5.281170\n1093     3.288769          4.072167\n1094     1.486271          3.177253\n\n[1095 rows x 2 columns]",
      "text/html": "<div>\n<style scoped>\n    .dataframe tbody tr th:only-of-type {\n        vertical-align: middle;\n    }\n\n    .dataframe tbody tr th {\n        vertical-align: top;\n    }\n\n    .dataframe thead th {\n        text-align: right;\n    }\n</style>\n<table border=\"1\" class=\"dataframe\">\n  <thead>\n    <tr style=\"text-align: right;\">\n      <th></th>\n      <th>True Values</th>\n      <th>Predicted Values</th>\n    </tr>\n  </thead>\n  <tbody>\n    <tr>\n      <th>0</th>\n      <td>3.139000</td>\n      <td>1.331611</td>\n    </tr>\n    <tr>\n      <th>1</th>\n      <td>4.022000</td>\n      <td>2.483894</td>\n    </tr>\n    <tr>\n      <th>2</th>\n      <td>6.670000</td>\n      <td>4.387738</td>\n    </tr>\n    <tr>\n      <th>3</th>\n      <td>7.945000</td>\n      <td>6.380233</td>\n    </tr>\n    <tr>\n      <th>4</th>\n      <td>6.052000</td>\n      <td>3.571696</td>\n    </tr>\n    <tr>\n      <th>...</th>\n      <td>...</td>\n      <td>...</td>\n    </tr>\n    <tr>\n      <th>1090</th>\n      <td>5.281004</td>\n      <td>5.266081</td>\n    </tr>\n    <tr>\n      <th>1091</th>\n      <td>3.573374</td>\n      <td>4.637841</td>\n    </tr>\n    <tr>\n      <th>1092</th>\n      <td>6.988634</td>\n      <td>5.281170</td>\n    </tr>\n    <tr>\n      <th>1093</th>\n      <td>3.288769</td>\n      <td>4.072167</td>\n    </tr>\n    <tr>\n      <th>1094</th>\n      <td>1.486271</td>\n      <td>3.177253</td>\n    </tr>\n  </tbody>\n</table>\n<p>1095 rows × 2 columns</p>\n</div>"
     },
     "execution_count": 60,
     "metadata": {},
     "output_type": "execute_result"
    }
   ],
   "source": [
    "y_pred = model_Final.predict(X_scaled)\n",
    "df_predictions = pd.DataFrame({'True Values': Y.values.flatten(), 'Predicted Values': y_pred.flatten()})\n",
    "df_predictions"
   ],
   "metadata": {
    "collapsed": false,
    "ExecuteTime": {
     "end_time": "2024-01-29T08:39:44.624489Z",
     "start_time": "2024-01-29T08:39:44.425250500Z"
    }
   },
   "id": "2584a35c77ce62a3"
  },
  {
   "cell_type": "code",
   "execution_count": 61,
   "outputs": [
    {
     "data": {
      "text/plain": "      True Values  Predicted Values  Difference\n0        3.139000          1.331611    1.807389\n1        4.022000          2.483894    1.538106\n2        6.670000          4.387738    2.282262\n3        7.945000          6.380233    1.564767\n4        6.052000          3.571696    2.480304\n...           ...               ...         ...\n1090     5.281004          5.266081    0.014922\n1091     3.573374          4.637841   -1.064467\n1092     6.988634          5.281170    1.707464\n1093     3.288769          4.072167   -0.783398\n1094     1.486271          3.177253   -1.690982\n\n[1095 rows x 3 columns]",
      "text/html": "<div>\n<style scoped>\n    .dataframe tbody tr th:only-of-type {\n        vertical-align: middle;\n    }\n\n    .dataframe tbody tr th {\n        vertical-align: top;\n    }\n\n    .dataframe thead th {\n        text-align: right;\n    }\n</style>\n<table border=\"1\" class=\"dataframe\">\n  <thead>\n    <tr style=\"text-align: right;\">\n      <th></th>\n      <th>True Values</th>\n      <th>Predicted Values</th>\n      <th>Difference</th>\n    </tr>\n  </thead>\n  <tbody>\n    <tr>\n      <th>0</th>\n      <td>3.139000</td>\n      <td>1.331611</td>\n      <td>1.807389</td>\n    </tr>\n    <tr>\n      <th>1</th>\n      <td>4.022000</td>\n      <td>2.483894</td>\n      <td>1.538106</td>\n    </tr>\n    <tr>\n      <th>2</th>\n      <td>6.670000</td>\n      <td>4.387738</td>\n      <td>2.282262</td>\n    </tr>\n    <tr>\n      <th>3</th>\n      <td>7.945000</td>\n      <td>6.380233</td>\n      <td>1.564767</td>\n    </tr>\n    <tr>\n      <th>4</th>\n      <td>6.052000</td>\n      <td>3.571696</td>\n      <td>2.480304</td>\n    </tr>\n    <tr>\n      <th>...</th>\n      <td>...</td>\n      <td>...</td>\n      <td>...</td>\n    </tr>\n    <tr>\n      <th>1090</th>\n      <td>5.281004</td>\n      <td>5.266081</td>\n      <td>0.014922</td>\n    </tr>\n    <tr>\n      <th>1091</th>\n      <td>3.573374</td>\n      <td>4.637841</td>\n      <td>-1.064467</td>\n    </tr>\n    <tr>\n      <th>1092</th>\n      <td>6.988634</td>\n      <td>5.281170</td>\n      <td>1.707464</td>\n    </tr>\n    <tr>\n      <th>1093</th>\n      <td>3.288769</td>\n      <td>4.072167</td>\n      <td>-0.783398</td>\n    </tr>\n    <tr>\n      <th>1094</th>\n      <td>1.486271</td>\n      <td>3.177253</td>\n      <td>-1.690982</td>\n    </tr>\n  </tbody>\n</table>\n<p>1095 rows × 3 columns</p>\n</div>"
     },
     "execution_count": 61,
     "metadata": {},
     "output_type": "execute_result"
    }
   ],
   "source": [
    "df_predictions['Difference'] = df_predictions['True Values'] - df_predictions['Predicted Values']\n",
    "df_predictions"
   ],
   "metadata": {
    "collapsed": false,
    "ExecuteTime": {
     "end_time": "2024-01-29T08:39:47.001870600Z",
     "start_time": "2024-01-29T08:39:46.962843800Z"
    }
   },
   "id": "4a0ef553b28bd49a"
  },
  {
   "cell_type": "code",
   "execution_count": 62,
   "outputs": [
    {
     "data": {
      "text/plain": "<Figure size 500x500 with 1 Axes>",
      "image/png": "[encoded data removed]"
     },
     "metadata": {},
     "output_type": "display_data"
    }
   ],
   "source": [
    "r2 = r2_score(df_predictions['True Values'], df_predictions['Predicted Values'])\n",
    "adj_r2 = adj_r2_score(X_scaled, Y, y_pred)\n",
    "rmse = mean_squared_error(df_predictions['True Values'], df_predictions['Predicted Values'], squared=False)\n",
    "\n",
    "# Create the lmplot\n",
    "sns.set(style=\"whitegrid\")\n",
    "lm_plot = sns.lmplot(data=df_predictions, x='True Values', y='Predicted Values', ci=True, line_kws={'color': 'red'})\n",
    "\n",
    "# Annotate the plot with R2 and RMSE\n",
    "plt.text(0.05, 0.95, f'Adj_R2: {adj_r2:.3f}', transform=plt.gca().transAxes)\n",
    "plt.text(0.05, 0.9, f'RMSE: {rmse:.3f}', transform=plt.gca().transAxes)\n",
    "\n",
    "# Display the plot\n",
    "plt.show()"
   ],
   "metadata": {
    "collapsed": false,
    "ExecuteTime": {
     "end_time": "2024-01-29T08:39:48.180646800Z",
     "start_time": "2024-01-29T08:39:47.836159500Z"
    }
   },
   "id": "7b61f8551263b7"
  }
 ],
 "metadata": {
  "kernelspec": {
   "display_name": "Python 3",
   "language": "python",
   "name": "python3"
  },
  "language_info": {
   "codemirror_mode": {
    "name": "ipython",
    "version": 2
   },
   "file_extension": ".py",
   "mimetype": "text/x-python",
   "name": "python",
   "nbconvert_exporter": "python",
   "pygments_lexer": "ipython2",
   "version": "2.7.6"
  }
 },
 "nbformat": 4,
 "nbformat_minor": 5
}
