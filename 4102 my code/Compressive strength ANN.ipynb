{
 "cells": [
  {
   "cell_type": "markdown",
   "id": "65d827e023f1a34b",
   "metadata": {
    "collapsed": false
   },
   "source": [
    "# Import necessary libraries"
   ]
  },
  {
   "cell_type": "code",
   "execution_count": 3,
   "id": "b16dc55528635759",
   "metadata": {
    "ExecuteTime": {
     "end_time": "2024-01-14T08:21:18.773766300Z",
     "start_time": "2024-01-14T08:21:17.565908500Z"
    },
    "collapsed": false
   },
   "outputs": [
    {
     "name": "stderr",
     "output_type": "stream",
     "text": [
      "Using `tqdm.autonotebook.tqdm` in notebook mode. Use `tqdm.tqdm` instead to force console mode (e.g. in jupyter console)\n"
     ]
    }
   ],
   "source": [
    "# Libraries to help with reading and manipulating data\n",
    "import numpy as np\n",
    "import pandas as pd\n",
    "# libaries to help with data visualization\n",
    "import plotly.express as px\n",
    "import plotly.graph_objects as go\n",
    "import matplotlib.pyplot as plt\n",
    "plt.style.use('fivethirtyeight')\n",
    "import seaborn as sns\n",
    "# Library to split data\n",
    "from sklearn.model_selection import train_test_split\n",
    "# library to import to standardize the data\n",
    "from sklearn.preprocessing import MinMaxScaler\n",
    "#To import different metrics\n",
    "from sklearn.metrics import explained_variance_score, mean_squared_error, r2_score, mean_absolute_error, make_scorer\n",
    "#Importing classback API\n",
    "from keras import callbacks\n",
    "# Importing tensorflow library\n",
    "import tensorflow as tf\n",
    "# importing different functions to build models\n",
    "from tensorflow.keras.layers import Dense, Dropout,InputLayer\n",
    "from tensorflow.keras.models import Sequential\n",
    "# Importing Batch Normalization\n",
    "from keras.layers import BatchNormalization\n",
    "# Importing backend\n",
    "from tensorflow.keras import backend\n",
    "# Importing shffule\n",
    "import random\n",
    "from random import shuffle\n",
    "from keras.callbacks import ModelCheckpoint\n",
    "# Importing optimizers\n",
    "from tensorflow.keras.optimizers import Adam\n",
    "from tensorflow.keras.optimizers import RMSprop\n",
    "from  tensorflow.keras.optimizers import SGD\n",
    "\n",
    "#Gridsearch for hyperparameter optimization\n",
    "from sklearn.model_selection import GridSearchCV, RandomizedSearchCV\n",
    "\n",
    "from sklearn.neural_network import MLPRegressor\n",
    "import scikeras\n",
    "from scikeras.wrappers import KerasRegressor\n",
    "\n",
    "#Import Shap\n",
    "import shap\n",
    "\n",
    "# Library to avoid the warnings\n",
    "import warnings\n",
    "warnings.filterwarnings(\"ignore\")"
   ]
  },
  {
   "cell_type": "markdown",
   "id": "a51b7f5a9b43e2f6",
   "metadata": {
    "collapsed": false
   },
   "source": [
    "# Load data"
   ]
  },
  {
   "cell_type": "code",
   "execution_count": 4,
   "id": "161b676df18da3b5",
   "metadata": {
    "ExecuteTime": {
     "end_time": "2024-01-14T08:21:20.587397600Z",
     "start_time": "2024-01-14T08:21:20.464399700Z"
    },
    "collapsed": false
   },
   "outputs": [
    {
     "data": {
      "text/html": [
       "<div>\n",
       "<style scoped>\n",
       "    .dataframe tbody tr th:only-of-type {\n",
       "        vertical-align: middle;\n",
       "    }\n",
       "\n",
       "    .dataframe tbody tr th {\n",
       "        vertical-align: top;\n",
       "    }\n",
       "\n",
       "    .dataframe thead th {\n",
       "        text-align: right;\n",
       "    }\n",
       "</style>\n",
       "<table border=\"1\" class=\"dataframe\">\n",
       "  <thead>\n",
       "    <tr style=\"text-align: right;\">\n",
       "      <th></th>\n",
       "      <th>Number</th>\n",
       "      <th>Data source</th>\n",
       "      <th>Selected</th>\n",
       "      <th>Mix number in literature</th>\n",
       "      <th>ASTM type 1 ordinary Portland Cement content (kg/m^3)</th>\n",
       "      <th>CEM I 42.5N ordinary Portland Cement content (kg/m^3)</th>\n",
       "      <th>CEM I 52.5N ordinary Portland Cement content (kg/m^3)</th>\n",
       "      <th>Class C Fly ash content (kg/m^3)</th>\n",
       "      <th>Class F Fly ash content (kg/m^3)</th>\n",
       "      <th>Slag content (kg/m^3)</th>\n",
       "      <th>...</th>\n",
       "      <th>Annual average temperature of exposed environment (Celsius degree)</th>\n",
       "      <th>Annual wetting times/rainy days of exposed environment (d)</th>\n",
       "      <th>Annual average precipitation of exposed environment (mm)</th>\n",
       "      <th>Slump (mm)</th>\n",
       "      <th>Average 28-day compressive strength (Mpa)</th>\n",
       "      <th>Average 28-day split strength (Mpa)</th>\n",
       "      <th>Chloride diffusion coefficient (10-12 m2/s)</th>\n",
       "      <th>Average carbonation coefficient (mm/year^0.5)</th>\n",
       "      <th>Specimen size</th>\n",
       "      <th>Note</th>\n",
       "    </tr>\n",
       "  </thead>\n",
       "  <tbody>\n",
       "    <tr>\n",
       "      <th>0</th>\n",
       "      <td>NaN</td>\n",
       "      <td>2. Yunusa 2014</td>\n",
       "      <td>NaN</td>\n",
       "      <td>PC-40</td>\n",
       "      <td>0.0</td>\n",
       "      <td>0.0</td>\n",
       "      <td>450.0</td>\n",
       "      <td>0.0</td>\n",
       "      <td>0.0</td>\n",
       "      <td>0.0</td>\n",
       "      <td>...</td>\n",
       "      <td>24.3</td>\n",
       "      <td>0.0</td>\n",
       "      <td>0.0</td>\n",
       "      <td>30.0</td>\n",
       "      <td>75.93</td>\n",
       "      <td>NaN</td>\n",
       "      <td>NaN</td>\n",
       "      <td>3.139</td>\n",
       "      <td>NaN</td>\n",
       "      <td>No significant effect of initial water curing ...</td>\n",
       "    </tr>\n",
       "    <tr>\n",
       "      <th>1</th>\n",
       "      <td>NaN</td>\n",
       "      <td>2. Yunusa 2014</td>\n",
       "      <td>NaN</td>\n",
       "      <td>PC-50</td>\n",
       "      <td>0.0</td>\n",
       "      <td>0.0</td>\n",
       "      <td>400.0</td>\n",
       "      <td>0.0</td>\n",
       "      <td>0.0</td>\n",
       "      <td>0.0</td>\n",
       "      <td>...</td>\n",
       "      <td>24.3</td>\n",
       "      <td>0.0</td>\n",
       "      <td>0.0</td>\n",
       "      <td>60.0</td>\n",
       "      <td>64.50</td>\n",
       "      <td>NaN</td>\n",
       "      <td>NaN</td>\n",
       "      <td>4.022</td>\n",
       "      <td>NaN</td>\n",
       "      <td>NaN</td>\n",
       "    </tr>\n",
       "    <tr>\n",
       "      <th>2</th>\n",
       "      <td>NaN</td>\n",
       "      <td>2. Yunusa 2014</td>\n",
       "      <td>NaN</td>\n",
       "      <td>PC-60</td>\n",
       "      <td>0.0</td>\n",
       "      <td>0.0</td>\n",
       "      <td>350.0</td>\n",
       "      <td>0.0</td>\n",
       "      <td>0.0</td>\n",
       "      <td>0.0</td>\n",
       "      <td>...</td>\n",
       "      <td>24.3</td>\n",
       "      <td>0.0</td>\n",
       "      <td>0.0</td>\n",
       "      <td>100.0</td>\n",
       "      <td>49.23</td>\n",
       "      <td>NaN</td>\n",
       "      <td>NaN</td>\n",
       "      <td>6.670</td>\n",
       "      <td>NaN</td>\n",
       "      <td>NaN</td>\n",
       "    </tr>\n",
       "    <tr>\n",
       "      <th>3</th>\n",
       "      <td>NaN</td>\n",
       "      <td>2. Yunusa 2014</td>\n",
       "      <td>NaN</td>\n",
       "      <td>PC-75</td>\n",
       "      <td>0.0</td>\n",
       "      <td>0.0</td>\n",
       "      <td>300.0</td>\n",
       "      <td>0.0</td>\n",
       "      <td>0.0</td>\n",
       "      <td>0.0</td>\n",
       "      <td>...</td>\n",
       "      <td>24.3</td>\n",
       "      <td>0.0</td>\n",
       "      <td>0.0</td>\n",
       "      <td>140.0</td>\n",
       "      <td>36.00</td>\n",
       "      <td>NaN</td>\n",
       "      <td>NaN</td>\n",
       "      <td>7.945</td>\n",
       "      <td>NaN</td>\n",
       "      <td>NaN</td>\n",
       "    </tr>\n",
       "    <tr>\n",
       "      <th>4</th>\n",
       "      <td>NaN</td>\n",
       "      <td>2. Yunusa 2014</td>\n",
       "      <td>NaN</td>\n",
       "      <td>FA-40</td>\n",
       "      <td>0.0</td>\n",
       "      <td>0.0</td>\n",
       "      <td>315.0</td>\n",
       "      <td>0.0</td>\n",
       "      <td>135.0</td>\n",
       "      <td>0.0</td>\n",
       "      <td>...</td>\n",
       "      <td>24.3</td>\n",
       "      <td>0.0</td>\n",
       "      <td>0.0</td>\n",
       "      <td>40.0</td>\n",
       "      <td>62.80</td>\n",
       "      <td>NaN</td>\n",
       "      <td>NaN</td>\n",
       "      <td>6.052</td>\n",
       "      <td>NaN</td>\n",
       "      <td>NaN</td>\n",
       "    </tr>\n",
       "    <tr>\n",
       "      <th>...</th>\n",
       "      <td>...</td>\n",
       "      <td>...</td>\n",
       "      <td>...</td>\n",
       "      <td>...</td>\n",
       "      <td>...</td>\n",
       "      <td>...</td>\n",
       "      <td>...</td>\n",
       "      <td>...</td>\n",
       "      <td>...</td>\n",
       "      <td>...</td>\n",
       "      <td>...</td>\n",
       "      <td>...</td>\n",
       "      <td>...</td>\n",
       "      <td>...</td>\n",
       "      <td>...</td>\n",
       "      <td>...</td>\n",
       "      <td>...</td>\n",
       "      <td>...</td>\n",
       "      <td>...</td>\n",
       "      <td>...</td>\n",
       "      <td>...</td>\n",
       "    </tr>\n",
       "    <tr>\n",
       "      <th>1983</th>\n",
       "      <td>NaN</td>\n",
       "      <td>J48. Farahani, 2015</td>\n",
       "      <td>NaN</td>\n",
       "      <td>W3-4</td>\n",
       "      <td>350.0</td>\n",
       "      <td>0.0</td>\n",
       "      <td>0.0</td>\n",
       "      <td>0.0</td>\n",
       "      <td>0.0</td>\n",
       "      <td>0.0</td>\n",
       "      <td>...</td>\n",
       "      <td>NaN</td>\n",
       "      <td>NaN</td>\n",
       "      <td>NaN</td>\n",
       "      <td>NaN</td>\n",
       "      <td>NaN</td>\n",
       "      <td>NaN</td>\n",
       "      <td>1.550</td>\n",
       "      <td>NaN</td>\n",
       "      <td>150*150*150</td>\n",
       "      <td>NaN</td>\n",
       "    </tr>\n",
       "    <tr>\n",
       "      <th>1984</th>\n",
       "      <td>NaN</td>\n",
       "      <td>J48. Farahani, 2015</td>\n",
       "      <td>NaN</td>\n",
       "      <td>W4-1</td>\n",
       "      <td>380.0</td>\n",
       "      <td>0.0</td>\n",
       "      <td>0.0</td>\n",
       "      <td>0.0</td>\n",
       "      <td>0.0</td>\n",
       "      <td>0.0</td>\n",
       "      <td>...</td>\n",
       "      <td>NaN</td>\n",
       "      <td>NaN</td>\n",
       "      <td>NaN</td>\n",
       "      <td>NaN</td>\n",
       "      <td>NaN</td>\n",
       "      <td>NaN</td>\n",
       "      <td>3.375</td>\n",
       "      <td>NaN</td>\n",
       "      <td>150*150*150</td>\n",
       "      <td>NaN</td>\n",
       "    </tr>\n",
       "    <tr>\n",
       "      <th>1985</th>\n",
       "      <td>NaN</td>\n",
       "      <td>J48. Farahani, 2015</td>\n",
       "      <td>NaN</td>\n",
       "      <td>W4-2</td>\n",
       "      <td>370.0</td>\n",
       "      <td>0.0</td>\n",
       "      <td>0.0</td>\n",
       "      <td>0.0</td>\n",
       "      <td>0.0</td>\n",
       "      <td>0.0</td>\n",
       "      <td>...</td>\n",
       "      <td>NaN</td>\n",
       "      <td>NaN</td>\n",
       "      <td>NaN</td>\n",
       "      <td>NaN</td>\n",
       "      <td>NaN</td>\n",
       "      <td>NaN</td>\n",
       "      <td>1.000</td>\n",
       "      <td>NaN</td>\n",
       "      <td>150*150*150</td>\n",
       "      <td>NaN</td>\n",
       "    </tr>\n",
       "    <tr>\n",
       "      <th>1986</th>\n",
       "      <td>NaN</td>\n",
       "      <td>J48. Farahani, 2015</td>\n",
       "      <td>NaN</td>\n",
       "      <td>W4-3</td>\n",
       "      <td>360.0</td>\n",
       "      <td>0.0</td>\n",
       "      <td>0.0</td>\n",
       "      <td>0.0</td>\n",
       "      <td>0.0</td>\n",
       "      <td>0.0</td>\n",
       "      <td>...</td>\n",
       "      <td>NaN</td>\n",
       "      <td>NaN</td>\n",
       "      <td>NaN</td>\n",
       "      <td>NaN</td>\n",
       "      <td>NaN</td>\n",
       "      <td>NaN</td>\n",
       "      <td>0.500</td>\n",
       "      <td>NaN</td>\n",
       "      <td>150*150*150</td>\n",
       "      <td>NaN</td>\n",
       "    </tr>\n",
       "    <tr>\n",
       "      <th>1987</th>\n",
       "      <td>NaN</td>\n",
       "      <td>J48. Farahani, 2015</td>\n",
       "      <td>NaN</td>\n",
       "      <td>W4-4</td>\n",
       "      <td>350.0</td>\n",
       "      <td>0.0</td>\n",
       "      <td>0.0</td>\n",
       "      <td>0.0</td>\n",
       "      <td>0.0</td>\n",
       "      <td>0.0</td>\n",
       "      <td>...</td>\n",
       "      <td>NaN</td>\n",
       "      <td>NaN</td>\n",
       "      <td>NaN</td>\n",
       "      <td>NaN</td>\n",
       "      <td>NaN</td>\n",
       "      <td>NaN</td>\n",
       "      <td>0.825</td>\n",
       "      <td>NaN</td>\n",
       "      <td>150*150*150</td>\n",
       "      <td>NaN</td>\n",
       "    </tr>\n",
       "  </tbody>\n",
       "</table>\n",
       "<p>1988 rows × 34 columns</p>\n",
       "</div>"
      ],
      "text/plain": [
       "      Number          Data source Selected Mix number in literature  \\\n",
       "0        NaN       2. Yunusa 2014      NaN                    PC-40   \n",
       "1        NaN       2. Yunusa 2014      NaN                    PC-50   \n",
       "2        NaN       2. Yunusa 2014      NaN                    PC-60   \n",
       "3        NaN       2. Yunusa 2014      NaN                    PC-75   \n",
       "4        NaN       2. Yunusa 2014      NaN                    FA-40   \n",
       "...      ...                  ...      ...                      ...   \n",
       "1983     NaN  J48. Farahani, 2015      NaN                     W3-4   \n",
       "1984     NaN  J48. Farahani, 2015      NaN                     W4-1   \n",
       "1985     NaN  J48. Farahani, 2015      NaN                     W4-2   \n",
       "1986     NaN  J48. Farahani, 2015      NaN                     W4-3   \n",
       "1987     NaN  J48. Farahani, 2015      NaN                     W4-4   \n",
       "\n",
       "      ASTM type 1 ordinary Portland Cement content (kg/m^3)  \\\n",
       "0                                                   0.0       \n",
       "1                                                   0.0       \n",
       "2                                                   0.0       \n",
       "3                                                   0.0       \n",
       "4                                                   0.0       \n",
       "...                                                 ...       \n",
       "1983                                              350.0       \n",
       "1984                                              380.0       \n",
       "1985                                              370.0       \n",
       "1986                                              360.0       \n",
       "1987                                              350.0       \n",
       "\n",
       "      CEM I 42.5N ordinary Portland Cement content (kg/m^3)  \\\n",
       "0                                                   0.0       \n",
       "1                                                   0.0       \n",
       "2                                                   0.0       \n",
       "3                                                   0.0       \n",
       "4                                                   0.0       \n",
       "...                                                 ...       \n",
       "1983                                                0.0       \n",
       "1984                                                0.0       \n",
       "1985                                                0.0       \n",
       "1986                                                0.0       \n",
       "1987                                                0.0       \n",
       "\n",
       "      CEM I 52.5N ordinary Portland Cement content (kg/m^3)  \\\n",
       "0                                                 450.0       \n",
       "1                                                 400.0       \n",
       "2                                                 350.0       \n",
       "3                                                 300.0       \n",
       "4                                                 315.0       \n",
       "...                                                 ...       \n",
       "1983                                                0.0       \n",
       "1984                                                0.0       \n",
       "1985                                                0.0       \n",
       "1986                                                0.0       \n",
       "1987                                                0.0       \n",
       "\n",
       "      Class C Fly ash content (kg/m^3)  Class F Fly ash content (kg/m^3)  \\\n",
       "0                                  0.0                               0.0   \n",
       "1                                  0.0                               0.0   \n",
       "2                                  0.0                               0.0   \n",
       "3                                  0.0                               0.0   \n",
       "4                                  0.0                             135.0   \n",
       "...                                ...                               ...   \n",
       "1983                               0.0                               0.0   \n",
       "1984                               0.0                               0.0   \n",
       "1985                               0.0                               0.0   \n",
       "1986                               0.0                               0.0   \n",
       "1987                               0.0                               0.0   \n",
       "\n",
       "      Slag content (kg/m^3)  ...  \\\n",
       "0                       0.0  ...   \n",
       "1                       0.0  ...   \n",
       "2                       0.0  ...   \n",
       "3                       0.0  ...   \n",
       "4                       0.0  ...   \n",
       "...                     ...  ...   \n",
       "1983                    0.0  ...   \n",
       "1984                    0.0  ...   \n",
       "1985                    0.0  ...   \n",
       "1986                    0.0  ...   \n",
       "1987                    0.0  ...   \n",
       "\n",
       "      Annual average temperature of exposed environment (Celsius degree)  \\\n",
       "0                                                  24.3                    \n",
       "1                                                  24.3                    \n",
       "2                                                  24.3                    \n",
       "3                                                  24.3                    \n",
       "4                                                  24.3                    \n",
       "...                                                 ...                    \n",
       "1983                                                NaN                    \n",
       "1984                                                NaN                    \n",
       "1985                                                NaN                    \n",
       "1986                                                NaN                    \n",
       "1987                                                NaN                    \n",
       "\n",
       "      Annual wetting times/rainy days of exposed environment (d)  \\\n",
       "0                                                   0.0            \n",
       "1                                                   0.0            \n",
       "2                                                   0.0            \n",
       "3                                                   0.0            \n",
       "4                                                   0.0            \n",
       "...                                                 ...            \n",
       "1983                                                NaN            \n",
       "1984                                                NaN            \n",
       "1985                                                NaN            \n",
       "1986                                                NaN            \n",
       "1987                                                NaN            \n",
       "\n",
       "      Annual average precipitation of exposed environment (mm)  Slump (mm)  \\\n",
       "0                                                   0.0               30.0   \n",
       "1                                                   0.0               60.0   \n",
       "2                                                   0.0              100.0   \n",
       "3                                                   0.0              140.0   \n",
       "4                                                   0.0               40.0   \n",
       "...                                                 ...                ...   \n",
       "1983                                                NaN                NaN   \n",
       "1984                                                NaN                NaN   \n",
       "1985                                                NaN                NaN   \n",
       "1986                                                NaN                NaN   \n",
       "1987                                                NaN                NaN   \n",
       "\n",
       "      Average 28-day compressive strength (Mpa)  \\\n",
       "0                                         75.93   \n",
       "1                                         64.50   \n",
       "2                                         49.23   \n",
       "3                                         36.00   \n",
       "4                                         62.80   \n",
       "...                                         ...   \n",
       "1983                                        NaN   \n",
       "1984                                        NaN   \n",
       "1985                                        NaN   \n",
       "1986                                        NaN   \n",
       "1987                                        NaN   \n",
       "\n",
       "      Average 28-day split strength (Mpa)  \\\n",
       "0                                     NaN   \n",
       "1                                     NaN   \n",
       "2                                     NaN   \n",
       "3                                     NaN   \n",
       "4                                     NaN   \n",
       "...                                   ...   \n",
       "1983                                  NaN   \n",
       "1984                                  NaN   \n",
       "1985                                  NaN   \n",
       "1986                                  NaN   \n",
       "1987                                  NaN   \n",
       "\n",
       "     Chloride diffusion coefficient (10-12 m2/s)  \\\n",
       "0                                            NaN   \n",
       "1                                            NaN   \n",
       "2                                            NaN   \n",
       "3                                            NaN   \n",
       "4                                            NaN   \n",
       "...                                          ...   \n",
       "1983                                       1.550   \n",
       "1984                                       3.375   \n",
       "1985                                       1.000   \n",
       "1986                                       0.500   \n",
       "1987                                       0.825   \n",
       "\n",
       "      Average carbonation coefficient (mm/year^0.5)  Specimen size  \\\n",
       "0                                             3.139            NaN   \n",
       "1                                             4.022            NaN   \n",
       "2                                             6.670            NaN   \n",
       "3                                             7.945            NaN   \n",
       "4                                             6.052            NaN   \n",
       "...                                             ...            ...   \n",
       "1983                                            NaN    150*150*150   \n",
       "1984                                            NaN    150*150*150   \n",
       "1985                                            NaN    150*150*150   \n",
       "1986                                            NaN    150*150*150   \n",
       "1987                                            NaN    150*150*150   \n",
       "\n",
       "                                                   Note  \n",
       "0     No significant effect of initial water curing ...  \n",
       "1                                                   NaN  \n",
       "2                                                   NaN  \n",
       "3                                                   NaN  \n",
       "4                                                   NaN  \n",
       "...                                                 ...  \n",
       "1983                                                NaN  \n",
       "1984                                                NaN  \n",
       "1985                                                NaN  \n",
       "1986                                                NaN  \n",
       "1987                                                NaN  \n",
       "\n",
       "[1988 rows x 34 columns]"
      ]
     },
     "execution_count": 4,
     "metadata": {},
     "output_type": "execute_result"
    }
   ],
   "source": [
    "All = pd.ExcelFile('allData.xls')\n",
    "data = pd.read_excel(All, 'Data')\n",
    "data"
   ]
  },
  {
   "cell_type": "code",
   "execution_count": 5,
   "id": "b2a8ecfb97d35be0",
   "metadata": {
    "ExecuteTime": {
     "end_time": "2024-01-14T08:21:21.020244600Z",
     "start_time": "2024-01-14T08:21:20.943694800Z"
    },
    "collapsed": false
   },
   "outputs": [
    {
     "name": "stdout",
     "output_type": "stream",
     "text": [
      "<class 'pandas.core.frame.DataFrame'>\n",
      "RangeIndex: 1988 entries, 0 to 1987\n",
      "Data columns (total 22 columns):\n",
      " #   Column                                                 Non-Null Count  Dtype  \n",
      "---  ------                                                 --------------  -----  \n",
      " 0   ASTM type 1 ordinary Portland Cement content (kg/m^3)  1988 non-null   float64\n",
      " 1   CEM I 42.5N ordinary Portland Cement content (kg/m^3)  1988 non-null   float64\n",
      " 2   CEM I 52.5N ordinary Portland Cement content (kg/m^3)  1988 non-null   float64\n",
      " 3   Class C Fly ash content (kg/m^3)                       1988 non-null   float64\n",
      " 4   Class F Fly ash content (kg/m^3)                       1988 non-null   float64\n",
      " 5   Slag content (kg/m^3)                                  1988 non-null   float64\n",
      " 6   Silica fume content (kg/m^3)                           1988 non-null   float64\n",
      " 7   Water content (kg/m^3)                                 1988 non-null   float64\n",
      " 8   Superplasticizer content (kg/m^3)                      1988 non-null   float64\n",
      " 9   Maximum coarse aggregate size (mm)                     1988 non-null   float64\n",
      " 10  Coarse aggregate content (kg/m^3)                      1983 non-null   float64\n",
      " 11  Fine aggregate content (kg/m^3)                        1983 non-null   float64\n",
      " 12  Curing method                                          1980 non-null   object \n",
      " 13  Curing temperature (Celsius degree)                    1980 non-null   float64\n",
      " 14  Curing humidity (%)                                    1980 non-null   float64\n",
      " 15  Curing day                                             1978 non-null   float64\n",
      " 16  Slump (mm)                                             820 non-null    float64\n",
      " 17  Average 28-day compressive strength (Mpa)              1942 non-null   float64\n",
      " 18  Average 28-day split strength (Mpa)                    62 non-null     float64\n",
      " 19  Chloride diffusion coefficient (10-12 m2/s)            66 non-null     float64\n",
      " 20  Average carbonation coefficient (mm/year^0.5)          1095 non-null   float64\n",
      " 21  Specimen size                                          873 non-null    object \n",
      "dtypes: float64(20), object(2)\n",
      "memory usage: 341.8+ KB\n"
     ]
    }
   ],
   "source": [
    "data.isnull().sum()"
   ]
  },
  {
   "cell_type": "code",
   "execution_count": null,
   "id": "6b702a33",
   "metadata": {},
   "outputs": [],
   "source": [
    "Excess_col_indices = list(range(0, 4)) + list(range(20, 27)) + [33]\n",
    "semi_df = data.iloc[:, [col for col in range(data.shape[1]) if col not in Excess_col_indices]]\n",
    "semi_df.info()"
   ]
  },
  {
   "cell_type": "markdown",
   "id": "d3267129af67a381",
   "metadata": {
    "collapsed": false
   },
   "source": [
    "# Feature Engineering"
   ]
  },
  {
   "cell_type": "markdown",
   "id": "4c731ec0ae770e1b",
   "metadata": {
    "collapsed": false
   },
   "source": [
    "## Compressive strength"
   ]
  },
  {
   "cell_type": "code",
   "execution_count": 6,
   "id": "cda71dfc0e6f81aa",
   "metadata": {
    "ExecuteTime": {
     "end_time": "2024-01-14T08:21:21.439327600Z",
     "start_time": "2024-01-14T08:21:21.374997100Z"
    },
    "collapsed": false
   },
   "outputs": [],
   "source": [
    "# function to plot a boxplot and a histogram along the same scale.\n",
    "\n",
    "def hist_boxplot(data, feature, figsize = (12,7),kde = True, bins=None):\n",
    "    f2, (ax_box2, ax_hist2) = plt.subplots(\n",
    "        nrows = 2,\n",
    "        sharex= True,\n",
    "        gridspec_kw ={'height_ratios': (0.25,0.75)},\n",
    "        figsize = figsize)\n",
    "    sns.boxplot(data=data, x =feature, ax = ax_box2, showmeans = True, color = 'violet')\n",
    "\n",
    "    if bins:\n",
    "        sns.histplot(data=data, x =feature, kde = kde, ax = ax_hist2, bins=bins, palette = 'winter')\n",
    "\n",
    "    else:\n",
    "        sns.histplot(data=data, x =feature, kde = kde, ax = ax_hist2, palette = 'winter')\n",
    "    ax_hist2.axvline(data[feature].mean(), color = 'green', linestyle = \"--\")\n",
    "    ax_hist2.axvline(data[feature].median(), color = 'black', linestyle = \"-\")"
   ]
  },
  {
   "cell_type": "code",
   "execution_count": 7,
   "id": "64caa1e4f0a3aef4",
   "metadata": {
    "ExecuteTime": {
     "end_time": "2024-01-14T08:21:21.843478900Z",
     "start_time": "2024-01-14T08:21:21.542297200Z"
    },
    "collapsed": false
   },
   "outputs": [
    {
     "data": {
      "image/png": "[encoded data removed]",
      "text/plain": [
       "<Figure size 1200x700 with 2 Axes>"
      ]
     },
     "metadata": {},
     "output_type": "display_data"
    }
   ],
   "source": [
    "# Quick fix \n",
    "\n",
    "filtered_row = semi_df[semi_df['Average 28-day compressive strength (Mpa)'] > 400]\n",
    "\n",
    "if len(filtered_row) == 1:\n",
    "    value_to_divide = filtered_row['Average 28-day compressive strength (Mpa)'].values[0]\n",
    "    updated_value = value_to_divide / 10\n",
    "\n",
    "    # Update the value in the DataFrame\n",
    "    semi_df.loc[semi_df['Average 28-day compressive strength (Mpa)'] > 400, 'Average 28-day compressive strength (Mpa)'] = updated_value\n",
    "else:\n",
    "    print(\"No rows or multiple rows matching the condition.\")\n",
    "\n",
    "hist_boxplot(semi_df, 'Average 28-day compressive strength (Mpa)')"
   ]
  },
  {
   "cell_type": "markdown",
   "id": "e90fd454f0dd9b06",
   "metadata": {
    "collapsed": false
   },
   "source": [
    "### Conversion factor"
   ]
  },
  {
   "cell_type": "code",
   "execution_count": 8,
   "id": "20af3c9659096a1f",
   "metadata": {
    "ExecuteTime": {
     "end_time": "2024-01-14T08:21:21.876912700Z",
     "start_time": "2024-01-14T08:21:21.847478800Z"
    },
    "collapsed": false
   },
   "outputs": [
    {
     "name": "stdout",
     "output_type": "stream",
     "text": [
      "      ASTM type 1 ordinary Portland Cement content (kg/m^3)  \\\n",
      "0                                                   0.0       \n",
      "1                                                   0.0       \n",
      "2                                                   0.0       \n",
      "3                                                   0.0       \n",
      "4                                                   0.0       \n",
      "...                                                 ...       \n",
      "1983                                              350.0       \n",
      "1984                                              380.0       \n",
      "1985                                              370.0       \n",
      "1986                                              360.0       \n",
      "1987                                              350.0       \n",
      "\n",
      "      CEM I 42.5N ordinary Portland Cement content (kg/m^3)  \\\n",
      "0                                                   0.0       \n",
      "1                                                   0.0       \n",
      "2                                                   0.0       \n",
      "3                                                   0.0       \n",
      "4                                                   0.0       \n",
      "...                                                 ...       \n",
      "1983                                                0.0       \n",
      "1984                                                0.0       \n",
      "1985                                                0.0       \n",
      "1986                                                0.0       \n",
      "1987                                                0.0       \n",
      "\n",
      "      CEM I 52.5N ordinary Portland Cement content (kg/m^3)  \\\n",
      "0                                                 450.0       \n",
      "1                                                 400.0       \n",
      "2                                                 350.0       \n",
      "3                                                 300.0       \n",
      "4                                                 315.0       \n",
      "...                                                 ...       \n",
      "1983                                                0.0       \n",
      "1984                                                0.0       \n",
      "1985                                                0.0       \n",
      "1986                                                0.0       \n",
      "1987                                                0.0       \n",
      "\n",
      "      Class C Fly ash content (kg/m^3)  Class F Fly ash content (kg/m^3)  \\\n",
      "0                                  0.0                               0.0   \n",
      "1                                  0.0                               0.0   \n",
      "2                                  0.0                               0.0   \n",
      "3                                  0.0                               0.0   \n",
      "4                                  0.0                             135.0   \n",
      "...                                ...                               ...   \n",
      "1983                               0.0                               0.0   \n",
      "1984                               0.0                               0.0   \n",
      "1985                               0.0                               0.0   \n",
      "1986                               0.0                               0.0   \n",
      "1987                               0.0                               0.0   \n",
      "\n",
      "      Slag content (kg/m^3)  Silica fume content (kg/m^3)  \\\n",
      "0                       0.0                           0.0   \n",
      "1                       0.0                           0.0   \n",
      "2                       0.0                           0.0   \n",
      "3                       0.0                           0.0   \n",
      "4                       0.0                           0.0   \n",
      "...                     ...                           ...   \n",
      "1983                    0.0                          50.0   \n",
      "1984                    0.0                          20.0   \n",
      "1985                    0.0                          30.0   \n",
      "1986                    0.0                          40.0   \n",
      "1987                    0.0                          50.0   \n",
      "\n",
      "      Water content (kg/m^3)  Superplasticizer content (kg/m^3)  \\\n",
      "0                      180.0                               4.00   \n",
      "1                      200.0                               3.25   \n",
      "2                      210.0                               0.00   \n",
      "3                      225.0                               0.00   \n",
      "4                      180.0                               1.75   \n",
      "...                      ...                                ...   \n",
      "1983                   180.0                               2.00   \n",
      "1984                   200.0                               0.80   \n",
      "1985                   200.0                               1.20   \n",
      "1986                   200.0                               1.80   \n",
      "1987                   200.0                               2.00   \n",
      "\n",
      "      Maximum coarse aggregate size (mm)  ...  \\\n",
      "0                                   20.0  ...   \n",
      "1                                   20.0  ...   \n",
      "2                                   20.0  ...   \n",
      "3                                   20.0  ...   \n",
      "4                                   20.0  ...   \n",
      "...                                  ...  ...   \n",
      "1983                                20.0  ...   \n",
      "1984                                20.0  ...   \n",
      "1985                                20.0  ...   \n",
      "1986                                20.0  ...   \n",
      "1987                                20.0  ...   \n",
      "\n",
      "      Curing temperature (Celsius degree)  Curing humidity (%) Curing day  \\\n",
      "0                                    20.0                100.0        3.0   \n",
      "1                                    20.0                100.0        3.0   \n",
      "2                                    20.0                100.0        3.0   \n",
      "3                                    20.0                100.0        3.0   \n",
      "4                                    20.0                100.0        3.0   \n",
      "...                                   ...                  ...        ...   \n",
      "1983                                 21.0                100.0       28.0   \n",
      "1984                                 21.0                100.0       28.0   \n",
      "1985                                 21.0                100.0       28.0   \n",
      "1986                                 21.0                100.0       28.0   \n",
      "1987                                 21.0                100.0       28.0   \n",
      "\n",
      "      Slump (mm)  Average 28-day compressive strength (Mpa)  \\\n",
      "0           30.0                                      75.93   \n",
      "1           60.0                                      64.50   \n",
      "2          100.0                                      49.23   \n",
      "3          140.0                                      36.00   \n",
      "4           40.0                                      62.80   \n",
      "...          ...                                        ...   \n",
      "1983         NaN                                        NaN   \n",
      "1984         NaN                                        NaN   \n",
      "1985         NaN                                        NaN   \n",
      "1986         NaN                                        NaN   \n",
      "1987         NaN                                        NaN   \n",
      "\n",
      "      Average 28-day split strength (Mpa)  \\\n",
      "0                                     NaN   \n",
      "1                                     NaN   \n",
      "2                                     NaN   \n",
      "3                                     NaN   \n",
      "4                                     NaN   \n",
      "...                                   ...   \n",
      "1983                                  NaN   \n",
      "1984                                  NaN   \n",
      "1985                                  NaN   \n",
      "1986                                  NaN   \n",
      "1987                                  NaN   \n",
      "\n",
      "      Chloride diffusion coefficient (10-12 m2/s)  \\\n",
      "0                                             NaN   \n",
      "1                                             NaN   \n",
      "2                                             NaN   \n",
      "3                                             NaN   \n",
      "4                                             NaN   \n",
      "...                                           ...   \n",
      "1983                                        1.550   \n",
      "1984                                        3.375   \n",
      "1985                                        1.000   \n",
      "1986                                        0.500   \n",
      "1987                                        0.825   \n",
      "\n",
      "      Average carbonation coefficient (mm/year^0.5)  Specimen size  \\\n",
      "0                                             3.139            NaN   \n",
      "1                                             4.022            NaN   \n",
      "2                                             6.670            NaN   \n",
      "3                                             7.945            NaN   \n",
      "4                                             6.052            NaN   \n",
      "...                                             ...            ...   \n",
      "1983                                            NaN    150*150*150   \n",
      "1984                                            NaN    150*150*150   \n",
      "1985                                            NaN    150*150*150   \n",
      "1986                                            NaN    150*150*150   \n",
      "1987                                            NaN    150*150*150   \n",
      "\n",
      "      Converted Strength  \n",
      "0                  75.93  \n",
      "1                  64.50  \n",
      "2                  49.23  \n",
      "3                  36.00  \n",
      "4                  62.80  \n",
      "...                  ...  \n",
      "1983                 NaN  \n",
      "1984                 NaN  \n",
      "1985                 NaN  \n",
      "1986                 NaN  \n",
      "1987                 NaN  \n",
      "\n",
      "[1988 rows x 23 columns]\n"
     ]
    }
   ],
   "source": [
    "# Follow the same conversion factor from Compressive strength.ipynb\n",
    "conversion_factors = {\n",
    "    '150*150*150': 1.0,\n",
    "    '200h*100r': {\n",
    "        (15, 44): 1.21,\n",
    "        (45, 54): 1.17,\n",
    "        (55, 64): 1.12,\n",
    "        (65, 74): 1.10,\n",
    "        (75, 84): 1.08,\n",
    "        (85, 94): 1.06,\n",
    "        (95, 104): 1.04,  # Guess, out of range\n",
    "        (105, 114): 1.02,\n",
    "    },\n",
    "    '100*100*100': 0.95,\n",
    "    '100*100*300': {},  # No suitable conversion index available\n",
    "    '300h*150r': {\n",
    "        (15, 44): 1.32,\n",
    "        (45, 54): 1.32,\n",
    "        (55, 64): 1.28,\n",
    "        (65, 74): 1.25,\n",
    "        (75, 84): 1.22,\n",
    "        (85, 94): 1.19,\n",
    "        (95, 104): 1.16,\n",
    "        (105, 114): 1.13,\n",
    "    },\n",
    "    '100h*100r': {},  # No suitable conversion index available\n",
    "}\n",
    "\n",
    "\n",
    "def convert_strength(row):\n",
    "    size = row['Specimen size']\n",
    "    strength = row['Average 28-day compressive strength (Mpa)']\n",
    "\n",
    "    original_size = size  # Store the original size\n",
    "\n",
    "    if size in conversion_factors:\n",
    "        factor = conversion_factors[size]\n",
    "\n",
    "        if isinstance(factor, dict):\n",
    "            for range_, conversion_factor in factor.items():\n",
    "                lower_bound, upper_bound = range_\n",
    "                if lower_bound <= strength < upper_bound:\n",
    "                    return strength * conversion_factor\n",
    "        else:\n",
    "            return strength * factor\n",
    "\n",
    "    return strength\n",
    "\n",
    "\n",
    "# Apply the conversion function to the DataFrame\n",
    "semi_df['Converted Strength'] = semi_df.apply(convert_strength, axis=1)\n",
    "\n",
    "# Print the updated DataFrame\n",
    "print(semi_df)"
   ]
  },
  {
   "cell_type": "code",
   "execution_count": 9,
   "id": "236b96ea04226dc4",
   "metadata": {
    "ExecuteTime": {
     "end_time": "2024-01-14T08:21:22.180462900Z",
     "start_time": "2024-01-14T08:21:22.011752700Z"
    },
    "collapsed": false
   },
   "outputs": [
    {
     "data": {
      "text/plain": [
       "0       75.93\n",
       "1       64.50\n",
       "2       49.23\n",
       "3       36.00\n",
       "4       62.80\n",
       "        ...  \n",
       "1983      NaN\n",
       "1984      NaN\n",
       "1985      NaN\n",
       "1986      NaN\n",
       "1987      NaN\n",
       "Name: Converted Strength, Length: 1988, dtype: float64"
      ]
     },
     "execution_count": 9,
     "metadata": {},
     "output_type": "execute_result"
    }
   ],
   "source": [
    "semi_df['Converted Strength']"
   ]
  },
  {
   "cell_type": "markdown",
   "id": "f3184292741353ed",
   "metadata": {
    "collapsed": false
   },
   "source": [
    "## Curing method"
   ]
  },
  {
   "cell_type": "code",
   "execution_count": 10,
   "id": "e90973fb9af13ca4",
   "metadata": {
    "ExecuteTime": {
     "end_time": "2024-01-14T08:21:22.459717200Z",
     "start_time": "2024-01-14T08:21:22.283646600Z"
    },
    "collapsed": false
   },
   "outputs": [],
   "source": [
    "num_df = semi_df.select_dtypes(include=np.number)\n",
    "obj_df = semi_df.select_dtypes(include=['object'])"
   ]
  },
  {
   "cell_type": "code",
   "execution_count": 11,
   "id": "c98ff3e658b3ea28",
   "metadata": {
    "ExecuteTime": {
     "end_time": "2024-01-14T08:21:22.563686200Z",
     "start_time": "2024-01-14T08:21:22.432137900Z"
    },
    "collapsed": false
   },
   "outputs": [
    {
     "name": "stdout",
     "output_type": "stream",
     "text": [
      "Column 'Curing method':\n",
      "Submerged    837\n",
      "Moist        503\n",
      "Sealed       456\n",
      "Air          184\n",
      "Name: Curing method, dtype: int64\n",
      "\n",
      "Column 'Specimen size':\n",
      "150*150*150    461\n",
      "200h*100r      215\n",
      "100*100*100    158\n",
      "100*100*300     22\n",
      "300h*150r       12\n",
      "100h*100r        5\n",
      "Name: Specimen size, dtype: int64\n"
     ]
    }
   ],
   "source": [
    "for col in obj_df.columns:\n",
    "    value_counts = obj_df[col].value_counts()\n",
    "    print(f\"Column '{col}':\")\n",
    "    print(value_counts)\n",
    "    print()"
   ]
  },
  {
   "cell_type": "code",
   "execution_count": 12,
   "id": "91b7e96fcd70d2d2",
   "metadata": {
    "ExecuteTime": {
     "end_time": "2024-01-14T08:21:22.778378100Z",
     "start_time": "2024-01-14T08:21:22.542982400Z"
    },
    "collapsed": false
   },
   "outputs": [
    {
     "data": {
      "text/plain": [
       "8"
      ]
     },
     "execution_count": 12,
     "metadata": {},
     "output_type": "execute_result"
    }
   ],
   "source": [
    "semi_df['Curing method'].isnull().sum()"
   ]
  },
  {
   "cell_type": "code",
   "execution_count": 13,
   "id": "916839d8b03e7263",
   "metadata": {
    "ExecuteTime": {
     "end_time": "2024-01-14T08:21:23.006968Z",
     "start_time": "2024-01-14T08:21:22.742014500Z"
    },
    "collapsed": false
   },
   "outputs": [
    {
     "data": {
      "text/html": [
       "<div>\n",
       "<style scoped>\n",
       "    .dataframe tbody tr th:only-of-type {\n",
       "        vertical-align: middle;\n",
       "    }\n",
       "\n",
       "    .dataframe tbody tr th {\n",
       "        vertical-align: top;\n",
       "    }\n",
       "\n",
       "    .dataframe thead th {\n",
       "        text-align: right;\n",
       "    }\n",
       "</style>\n",
       "<table border=\"1\" class=\"dataframe\">\n",
       "  <thead>\n",
       "    <tr style=\"text-align: right;\">\n",
       "      <th></th>\n",
       "      <th>ASTM type 1 ordinary Portland Cement content (kg/m^3)</th>\n",
       "      <th>CEM I 42.5N ordinary Portland Cement content (kg/m^3)</th>\n",
       "      <th>CEM I 52.5N ordinary Portland Cement content (kg/m^3)</th>\n",
       "      <th>Class C Fly ash content (kg/m^3)</th>\n",
       "      <th>Class F Fly ash content (kg/m^3)</th>\n",
       "      <th>Slag content (kg/m^3)</th>\n",
       "      <th>Silica fume content (kg/m^3)</th>\n",
       "      <th>Water content (kg/m^3)</th>\n",
       "      <th>Superplasticizer content (kg/m^3)</th>\n",
       "      <th>Maximum coarse aggregate size (mm)</th>\n",
       "      <th>...</th>\n",
       "      <th>Curing temperature (Celsius degree)</th>\n",
       "      <th>Curing humidity (%)</th>\n",
       "      <th>Curing day</th>\n",
       "      <th>Slump (mm)</th>\n",
       "      <th>Average 28-day compressive strength (Mpa)</th>\n",
       "      <th>Average 28-day split strength (Mpa)</th>\n",
       "      <th>Chloride diffusion coefficient (10-12 m2/s)</th>\n",
       "      <th>Average carbonation coefficient (mm/year^0.5)</th>\n",
       "      <th>Specimen size</th>\n",
       "      <th>Converted Strength</th>\n",
       "    </tr>\n",
       "  </thead>\n",
       "  <tbody>\n",
       "    <tr>\n",
       "      <th>1946</th>\n",
       "      <td>0.0</td>\n",
       "      <td>450.0</td>\n",
       "      <td>0.0</td>\n",
       "      <td>0.0</td>\n",
       "      <td>0.0</td>\n",
       "      <td>0.0</td>\n",
       "      <td>0.0</td>\n",
       "      <td>171.0</td>\n",
       "      <td>5.130</td>\n",
       "      <td>9.5</td>\n",
       "      <td>...</td>\n",
       "      <td>NaN</td>\n",
       "      <td>NaN</td>\n",
       "      <td>NaN</td>\n",
       "      <td>65.0</td>\n",
       "      <td>NaN</td>\n",
       "      <td>NaN</td>\n",
       "      <td>NaN</td>\n",
       "      <td>NaN</td>\n",
       "      <td>NaN</td>\n",
       "      <td>NaN</td>\n",
       "    </tr>\n",
       "    <tr>\n",
       "      <th>1947</th>\n",
       "      <td>0.0</td>\n",
       "      <td>405.0</td>\n",
       "      <td>0.0</td>\n",
       "      <td>0.0</td>\n",
       "      <td>0.0</td>\n",
       "      <td>0.0</td>\n",
       "      <td>45.0</td>\n",
       "      <td>171.0</td>\n",
       "      <td>5.850</td>\n",
       "      <td>9.5</td>\n",
       "      <td>...</td>\n",
       "      <td>NaN</td>\n",
       "      <td>NaN</td>\n",
       "      <td>NaN</td>\n",
       "      <td>85.0</td>\n",
       "      <td>NaN</td>\n",
       "      <td>NaN</td>\n",
       "      <td>NaN</td>\n",
       "      <td>NaN</td>\n",
       "      <td>NaN</td>\n",
       "      <td>NaN</td>\n",
       "    </tr>\n",
       "    <tr>\n",
       "      <th>1948</th>\n",
       "      <td>0.0</td>\n",
       "      <td>337.5</td>\n",
       "      <td>0.0</td>\n",
       "      <td>0.0</td>\n",
       "      <td>0.0</td>\n",
       "      <td>112.5</td>\n",
       "      <td>0.0</td>\n",
       "      <td>171.0</td>\n",
       "      <td>5.850</td>\n",
       "      <td>9.5</td>\n",
       "      <td>...</td>\n",
       "      <td>NaN</td>\n",
       "      <td>NaN</td>\n",
       "      <td>NaN</td>\n",
       "      <td>200.0</td>\n",
       "      <td>NaN</td>\n",
       "      <td>NaN</td>\n",
       "      <td>NaN</td>\n",
       "      <td>NaN</td>\n",
       "      <td>NaN</td>\n",
       "      <td>NaN</td>\n",
       "    </tr>\n",
       "    <tr>\n",
       "      <th>1949</th>\n",
       "      <td>0.0</td>\n",
       "      <td>292.5</td>\n",
       "      <td>0.0</td>\n",
       "      <td>0.0</td>\n",
       "      <td>0.0</td>\n",
       "      <td>112.5</td>\n",
       "      <td>45.0</td>\n",
       "      <td>171.0</td>\n",
       "      <td>5.895</td>\n",
       "      <td>9.5</td>\n",
       "      <td>...</td>\n",
       "      <td>NaN</td>\n",
       "      <td>NaN</td>\n",
       "      <td>NaN</td>\n",
       "      <td>90.0</td>\n",
       "      <td>NaN</td>\n",
       "      <td>NaN</td>\n",
       "      <td>NaN</td>\n",
       "      <td>NaN</td>\n",
       "      <td>NaN</td>\n",
       "      <td>NaN</td>\n",
       "    </tr>\n",
       "    <tr>\n",
       "      <th>1950</th>\n",
       "      <td>0.0</td>\n",
       "      <td>225.0</td>\n",
       "      <td>0.0</td>\n",
       "      <td>0.0</td>\n",
       "      <td>0.0</td>\n",
       "      <td>225.0</td>\n",
       "      <td>0.0</td>\n",
       "      <td>171.0</td>\n",
       "      <td>5.400</td>\n",
       "      <td>9.5</td>\n",
       "      <td>...</td>\n",
       "      <td>NaN</td>\n",
       "      <td>NaN</td>\n",
       "      <td>NaN</td>\n",
       "      <td>35.0</td>\n",
       "      <td>NaN</td>\n",
       "      <td>NaN</td>\n",
       "      <td>NaN</td>\n",
       "      <td>NaN</td>\n",
       "      <td>NaN</td>\n",
       "      <td>NaN</td>\n",
       "    </tr>\n",
       "    <tr>\n",
       "      <th>1951</th>\n",
       "      <td>0.0</td>\n",
       "      <td>180.0</td>\n",
       "      <td>0.0</td>\n",
       "      <td>0.0</td>\n",
       "      <td>0.0</td>\n",
       "      <td>225.0</td>\n",
       "      <td>45.0</td>\n",
       "      <td>171.0</td>\n",
       "      <td>5.850</td>\n",
       "      <td>9.5</td>\n",
       "      <td>...</td>\n",
       "      <td>NaN</td>\n",
       "      <td>NaN</td>\n",
       "      <td>NaN</td>\n",
       "      <td>130.0</td>\n",
       "      <td>NaN</td>\n",
       "      <td>NaN</td>\n",
       "      <td>NaN</td>\n",
       "      <td>NaN</td>\n",
       "      <td>NaN</td>\n",
       "      <td>NaN</td>\n",
       "    </tr>\n",
       "    <tr>\n",
       "      <th>1952</th>\n",
       "      <td>0.0</td>\n",
       "      <td>135.0</td>\n",
       "      <td>0.0</td>\n",
       "      <td>0.0</td>\n",
       "      <td>0.0</td>\n",
       "      <td>315.0</td>\n",
       "      <td>0.0</td>\n",
       "      <td>171.0</td>\n",
       "      <td>4.230</td>\n",
       "      <td>9.5</td>\n",
       "      <td>...</td>\n",
       "      <td>NaN</td>\n",
       "      <td>NaN</td>\n",
       "      <td>NaN</td>\n",
       "      <td>155.0</td>\n",
       "      <td>NaN</td>\n",
       "      <td>NaN</td>\n",
       "      <td>NaN</td>\n",
       "      <td>NaN</td>\n",
       "      <td>NaN</td>\n",
       "      <td>NaN</td>\n",
       "    </tr>\n",
       "    <tr>\n",
       "      <th>1953</th>\n",
       "      <td>0.0</td>\n",
       "      <td>90.0</td>\n",
       "      <td>0.0</td>\n",
       "      <td>0.0</td>\n",
       "      <td>0.0</td>\n",
       "      <td>315.0</td>\n",
       "      <td>45.0</td>\n",
       "      <td>171.0</td>\n",
       "      <td>5.850</td>\n",
       "      <td>9.5</td>\n",
       "      <td>...</td>\n",
       "      <td>NaN</td>\n",
       "      <td>NaN</td>\n",
       "      <td>NaN</td>\n",
       "      <td>110.0</td>\n",
       "      <td>NaN</td>\n",
       "      <td>NaN</td>\n",
       "      <td>NaN</td>\n",
       "      <td>NaN</td>\n",
       "      <td>NaN</td>\n",
       "      <td>NaN</td>\n",
       "    </tr>\n",
       "  </tbody>\n",
       "</table>\n",
       "<p>8 rows × 23 columns</p>\n",
       "</div>"
      ],
      "text/plain": [
       "      ASTM type 1 ordinary Portland Cement content (kg/m^3)  \\\n",
       "1946                                                0.0       \n",
       "1947                                                0.0       \n",
       "1948                                                0.0       \n",
       "1949                                                0.0       \n",
       "1950                                                0.0       \n",
       "1951                                                0.0       \n",
       "1952                                                0.0       \n",
       "1953                                                0.0       \n",
       "\n",
       "      CEM I 42.5N ordinary Portland Cement content (kg/m^3)  \\\n",
       "1946                                              450.0       \n",
       "1947                                              405.0       \n",
       "1948                                              337.5       \n",
       "1949                                              292.5       \n",
       "1950                                              225.0       \n",
       "1951                                              180.0       \n",
       "1952                                              135.0       \n",
       "1953                                               90.0       \n",
       "\n",
       "      CEM I 52.5N ordinary Portland Cement content (kg/m^3)  \\\n",
       "1946                                                0.0       \n",
       "1947                                                0.0       \n",
       "1948                                                0.0       \n",
       "1949                                                0.0       \n",
       "1950                                                0.0       \n",
       "1951                                                0.0       \n",
       "1952                                                0.0       \n",
       "1953                                                0.0       \n",
       "\n",
       "      Class C Fly ash content (kg/m^3)  Class F Fly ash content (kg/m^3)  \\\n",
       "1946                               0.0                               0.0   \n",
       "1947                               0.0                               0.0   \n",
       "1948                               0.0                               0.0   \n",
       "1949                               0.0                               0.0   \n",
       "1950                               0.0                               0.0   \n",
       "1951                               0.0                               0.0   \n",
       "1952                               0.0                               0.0   \n",
       "1953                               0.0                               0.0   \n",
       "\n",
       "      Slag content (kg/m^3)  Silica fume content (kg/m^3)  \\\n",
       "1946                    0.0                           0.0   \n",
       "1947                    0.0                          45.0   \n",
       "1948                  112.5                           0.0   \n",
       "1949                  112.5                          45.0   \n",
       "1950                  225.0                           0.0   \n",
       "1951                  225.0                          45.0   \n",
       "1952                  315.0                           0.0   \n",
       "1953                  315.0                          45.0   \n",
       "\n",
       "      Water content (kg/m^3)  Superplasticizer content (kg/m^3)  \\\n",
       "1946                   171.0                              5.130   \n",
       "1947                   171.0                              5.850   \n",
       "1948                   171.0                              5.850   \n",
       "1949                   171.0                              5.895   \n",
       "1950                   171.0                              5.400   \n",
       "1951                   171.0                              5.850   \n",
       "1952                   171.0                              4.230   \n",
       "1953                   171.0                              5.850   \n",
       "\n",
       "      Maximum coarse aggregate size (mm)  ...  \\\n",
       "1946                                 9.5  ...   \n",
       "1947                                 9.5  ...   \n",
       "1948                                 9.5  ...   \n",
       "1949                                 9.5  ...   \n",
       "1950                                 9.5  ...   \n",
       "1951                                 9.5  ...   \n",
       "1952                                 9.5  ...   \n",
       "1953                                 9.5  ...   \n",
       "\n",
       "      Curing temperature (Celsius degree)  Curing humidity (%) Curing day  \\\n",
       "1946                                  NaN                  NaN        NaN   \n",
       "1947                                  NaN                  NaN        NaN   \n",
       "1948                                  NaN                  NaN        NaN   \n",
       "1949                                  NaN                  NaN        NaN   \n",
       "1950                                  NaN                  NaN        NaN   \n",
       "1951                                  NaN                  NaN        NaN   \n",
       "1952                                  NaN                  NaN        NaN   \n",
       "1953                                  NaN                  NaN        NaN   \n",
       "\n",
       "      Slump (mm)  Average 28-day compressive strength (Mpa)  \\\n",
       "1946        65.0                                        NaN   \n",
       "1947        85.0                                        NaN   \n",
       "1948       200.0                                        NaN   \n",
       "1949        90.0                                        NaN   \n",
       "1950        35.0                                        NaN   \n",
       "1951       130.0                                        NaN   \n",
       "1952       155.0                                        NaN   \n",
       "1953       110.0                                        NaN   \n",
       "\n",
       "      Average 28-day split strength (Mpa)  \\\n",
       "1946                                  NaN   \n",
       "1947                                  NaN   \n",
       "1948                                  NaN   \n",
       "1949                                  NaN   \n",
       "1950                                  NaN   \n",
       "1951                                  NaN   \n",
       "1952                                  NaN   \n",
       "1953                                  NaN   \n",
       "\n",
       "      Chloride diffusion coefficient (10-12 m2/s)  \\\n",
       "1946                                          NaN   \n",
       "1947                                          NaN   \n",
       "1948                                          NaN   \n",
       "1949                                          NaN   \n",
       "1950                                          NaN   \n",
       "1951                                          NaN   \n",
       "1952                                          NaN   \n",
       "1953                                          NaN   \n",
       "\n",
       "      Average carbonation coefficient (mm/year^0.5)  Specimen size  \\\n",
       "1946                                            NaN            NaN   \n",
       "1947                                            NaN            NaN   \n",
       "1948                                            NaN            NaN   \n",
       "1949                                            NaN            NaN   \n",
       "1950                                            NaN            NaN   \n",
       "1951                                            NaN            NaN   \n",
       "1952                                            NaN            NaN   \n",
       "1953                                            NaN            NaN   \n",
       "\n",
       "      Converted Strength  \n",
       "1946                 NaN  \n",
       "1947                 NaN  \n",
       "1948                 NaN  \n",
       "1949                 NaN  \n",
       "1950                 NaN  \n",
       "1951                 NaN  \n",
       "1952                 NaN  \n",
       "1953                 NaN  \n",
       "\n",
       "[8 rows x 23 columns]"
      ]
     },
     "execution_count": 13,
     "metadata": {},
     "output_type": "execute_result"
    }
   ],
   "source": [
    "missing = semi_df['Curing method'].isnull()\n",
    "semi_df[missing]"
   ]
  },
  {
   "cell_type": "code",
   "execution_count": 14,
   "id": "4a632342e1c9657c",
   "metadata": {
    "ExecuteTime": {
     "end_time": "2024-01-14T08:21:23.085383300Z",
     "start_time": "2024-01-14T08:21:22.940284500Z"
    },
    "collapsed": false
   },
   "outputs": [
    {
     "data": {
      "text/plain": [
       "0"
      ]
     },
     "execution_count": 14,
     "metadata": {},
     "output_type": "execute_result"
    }
   ],
   "source": [
    "semi_df = semi_df.dropna(subset = ['Curing method'])\n",
    "semi_df['Curing method'].isnull().sum()"
   ]
  },
  {
   "cell_type": "code",
   "execution_count": 15,
   "id": "7c3030034c1dfb1b",
   "metadata": {
    "ExecuteTime": {
     "end_time": "2024-01-14T08:21:23.595630400Z",
     "start_time": "2024-01-14T08:21:23.540437900Z"
    },
    "collapsed": false
   },
   "outputs": [
    {
     "data": {
      "text/html": [
       "<div>\n",
       "<style scoped>\n",
       "    .dataframe tbody tr th:only-of-type {\n",
       "        vertical-align: middle;\n",
       "    }\n",
       "\n",
       "    .dataframe tbody tr th {\n",
       "        vertical-align: top;\n",
       "    }\n",
       "\n",
       "    .dataframe thead th {\n",
       "        text-align: right;\n",
       "    }\n",
       "</style>\n",
       "<table border=\"1\" class=\"dataframe\">\n",
       "  <thead>\n",
       "    <tr style=\"text-align: right;\">\n",
       "      <th></th>\n",
       "      <th>ASTM type 1 ordinary Portland Cement content (kg/m^3)</th>\n",
       "      <th>CEM I 42.5N ordinary Portland Cement content (kg/m^3)</th>\n",
       "      <th>CEM I 52.5N ordinary Portland Cement content (kg/m^3)</th>\n",
       "      <th>Class C Fly ash content (kg/m^3)</th>\n",
       "      <th>Class F Fly ash content (kg/m^3)</th>\n",
       "      <th>Slag content (kg/m^3)</th>\n",
       "      <th>Silica fume content (kg/m^3)</th>\n",
       "      <th>Water content (kg/m^3)</th>\n",
       "      <th>Superplasticizer content (kg/m^3)</th>\n",
       "      <th>Maximum coarse aggregate size (mm)</th>\n",
       "      <th>...</th>\n",
       "      <th>Average 28-day compressive strength (Mpa)</th>\n",
       "      <th>Average 28-day split strength (Mpa)</th>\n",
       "      <th>Chloride diffusion coefficient (10-12 m2/s)</th>\n",
       "      <th>Average carbonation coefficient (mm/year^0.5)</th>\n",
       "      <th>Specimen size</th>\n",
       "      <th>Converted Strength</th>\n",
       "      <th>Air</th>\n",
       "      <th>Moist</th>\n",
       "      <th>Sealed</th>\n",
       "      <th>Submerged</th>\n",
       "    </tr>\n",
       "  </thead>\n",
       "  <tbody>\n",
       "    <tr>\n",
       "      <th>0</th>\n",
       "      <td>0.0</td>\n",
       "      <td>0.0</td>\n",
       "      <td>450.0</td>\n",
       "      <td>0.0</td>\n",
       "      <td>0.0</td>\n",
       "      <td>0.0</td>\n",
       "      <td>0.0</td>\n",
       "      <td>180.0</td>\n",
       "      <td>4.00</td>\n",
       "      <td>20.0</td>\n",
       "      <td>...</td>\n",
       "      <td>75.93</td>\n",
       "      <td>NaN</td>\n",
       "      <td>NaN</td>\n",
       "      <td>3.139</td>\n",
       "      <td>NaN</td>\n",
       "      <td>75.93</td>\n",
       "      <td>0</td>\n",
       "      <td>0</td>\n",
       "      <td>0</td>\n",
       "      <td>1</td>\n",
       "    </tr>\n",
       "    <tr>\n",
       "      <th>1</th>\n",
       "      <td>0.0</td>\n",
       "      <td>0.0</td>\n",
       "      <td>400.0</td>\n",
       "      <td>0.0</td>\n",
       "      <td>0.0</td>\n",
       "      <td>0.0</td>\n",
       "      <td>0.0</td>\n",
       "      <td>200.0</td>\n",
       "      <td>3.25</td>\n",
       "      <td>20.0</td>\n",
       "      <td>...</td>\n",
       "      <td>64.50</td>\n",
       "      <td>NaN</td>\n",
       "      <td>NaN</td>\n",
       "      <td>4.022</td>\n",
       "      <td>NaN</td>\n",
       "      <td>64.50</td>\n",
       "      <td>0</td>\n",
       "      <td>0</td>\n",
       "      <td>0</td>\n",
       "      <td>1</td>\n",
       "    </tr>\n",
       "    <tr>\n",
       "      <th>2</th>\n",
       "      <td>0.0</td>\n",
       "      <td>0.0</td>\n",
       "      <td>350.0</td>\n",
       "      <td>0.0</td>\n",
       "      <td>0.0</td>\n",
       "      <td>0.0</td>\n",
       "      <td>0.0</td>\n",
       "      <td>210.0</td>\n",
       "      <td>0.00</td>\n",
       "      <td>20.0</td>\n",
       "      <td>...</td>\n",
       "      <td>49.23</td>\n",
       "      <td>NaN</td>\n",
       "      <td>NaN</td>\n",
       "      <td>6.670</td>\n",
       "      <td>NaN</td>\n",
       "      <td>49.23</td>\n",
       "      <td>0</td>\n",
       "      <td>0</td>\n",
       "      <td>0</td>\n",
       "      <td>1</td>\n",
       "    </tr>\n",
       "    <tr>\n",
       "      <th>3</th>\n",
       "      <td>0.0</td>\n",
       "      <td>0.0</td>\n",
       "      <td>300.0</td>\n",
       "      <td>0.0</td>\n",
       "      <td>0.0</td>\n",
       "      <td>0.0</td>\n",
       "      <td>0.0</td>\n",
       "      <td>225.0</td>\n",
       "      <td>0.00</td>\n",
       "      <td>20.0</td>\n",
       "      <td>...</td>\n",
       "      <td>36.00</td>\n",
       "      <td>NaN</td>\n",
       "      <td>NaN</td>\n",
       "      <td>7.945</td>\n",
       "      <td>NaN</td>\n",
       "      <td>36.00</td>\n",
       "      <td>0</td>\n",
       "      <td>0</td>\n",
       "      <td>0</td>\n",
       "      <td>1</td>\n",
       "    </tr>\n",
       "    <tr>\n",
       "      <th>4</th>\n",
       "      <td>0.0</td>\n",
       "      <td>0.0</td>\n",
       "      <td>315.0</td>\n",
       "      <td>0.0</td>\n",
       "      <td>135.0</td>\n",
       "      <td>0.0</td>\n",
       "      <td>0.0</td>\n",
       "      <td>180.0</td>\n",
       "      <td>1.75</td>\n",
       "      <td>20.0</td>\n",
       "      <td>...</td>\n",
       "      <td>62.80</td>\n",
       "      <td>NaN</td>\n",
       "      <td>NaN</td>\n",
       "      <td>6.052</td>\n",
       "      <td>NaN</td>\n",
       "      <td>62.80</td>\n",
       "      <td>0</td>\n",
       "      <td>0</td>\n",
       "      <td>0</td>\n",
       "      <td>1</td>\n",
       "    </tr>\n",
       "  </tbody>\n",
       "</table>\n",
       "<p>5 rows × 27 columns</p>\n",
       "</div>"
      ],
      "text/plain": [
       "   ASTM type 1 ordinary Portland Cement content (kg/m^3)  \\\n",
       "0                                                0.0       \n",
       "1                                                0.0       \n",
       "2                                                0.0       \n",
       "3                                                0.0       \n",
       "4                                                0.0       \n",
       "\n",
       "   CEM I 42.5N ordinary Portland Cement content (kg/m^3)  \\\n",
       "0                                                0.0       \n",
       "1                                                0.0       \n",
       "2                                                0.0       \n",
       "3                                                0.0       \n",
       "4                                                0.0       \n",
       "\n",
       "   CEM I 52.5N ordinary Portland Cement content (kg/m^3)  \\\n",
       "0                                              450.0       \n",
       "1                                              400.0       \n",
       "2                                              350.0       \n",
       "3                                              300.0       \n",
       "4                                              315.0       \n",
       "\n",
       "   Class C Fly ash content (kg/m^3)  Class F Fly ash content (kg/m^3)  \\\n",
       "0                               0.0                               0.0   \n",
       "1                               0.0                               0.0   \n",
       "2                               0.0                               0.0   \n",
       "3                               0.0                               0.0   \n",
       "4                               0.0                             135.0   \n",
       "\n",
       "   Slag content (kg/m^3)  Silica fume content (kg/m^3)  \\\n",
       "0                    0.0                           0.0   \n",
       "1                    0.0                           0.0   \n",
       "2                    0.0                           0.0   \n",
       "3                    0.0                           0.0   \n",
       "4                    0.0                           0.0   \n",
       "\n",
       "   Water content (kg/m^3)  Superplasticizer content (kg/m^3)  \\\n",
       "0                   180.0                               4.00   \n",
       "1                   200.0                               3.25   \n",
       "2                   210.0                               0.00   \n",
       "3                   225.0                               0.00   \n",
       "4                   180.0                               1.75   \n",
       "\n",
       "   Maximum coarse aggregate size (mm)  ...  \\\n",
       "0                                20.0  ...   \n",
       "1                                20.0  ...   \n",
       "2                                20.0  ...   \n",
       "3                                20.0  ...   \n",
       "4                                20.0  ...   \n",
       "\n",
       "   Average 28-day compressive strength (Mpa)  \\\n",
       "0                                      75.93   \n",
       "1                                      64.50   \n",
       "2                                      49.23   \n",
       "3                                      36.00   \n",
       "4                                      62.80   \n",
       "\n",
       "   Average 28-day split strength (Mpa)  \\\n",
       "0                                  NaN   \n",
       "1                                  NaN   \n",
       "2                                  NaN   \n",
       "3                                  NaN   \n",
       "4                                  NaN   \n",
       "\n",
       "  Chloride diffusion coefficient (10-12 m2/s)  \\\n",
       "0                                         NaN   \n",
       "1                                         NaN   \n",
       "2                                         NaN   \n",
       "3                                         NaN   \n",
       "4                                         NaN   \n",
       "\n",
       "   Average carbonation coefficient (mm/year^0.5)  Specimen size  \\\n",
       "0                                          3.139            NaN   \n",
       "1                                          4.022            NaN   \n",
       "2                                          6.670            NaN   \n",
       "3                                          7.945            NaN   \n",
       "4                                          6.052            NaN   \n",
       "\n",
       "   Converted Strength  Air  Moist  Sealed  Submerged  \n",
       "0               75.93    0      0       0          1  \n",
       "1               64.50    0      0       0          1  \n",
       "2               49.23    0      0       0          1  \n",
       "3               36.00    0      0       0          1  \n",
       "4               62.80    0      0       0          1  \n",
       "\n",
       "[5 rows x 27 columns]"
      ]
     },
     "execution_count": 15,
     "metadata": {},
     "output_type": "execute_result"
    }
   ],
   "source": [
    "new_df = semi_df.copy()\n",
    "new_df = pd.concat([semi_df, pd.get_dummies(semi_df['Curing method'])], axis=1)\n",
    "new_df.head()"
   ]
  },
  {
   "cell_type": "code",
   "execution_count": 16,
   "id": "24387ef8206186af",
   "metadata": {
    "ExecuteTime": {
     "end_time": "2024-01-14T08:21:24.028418200Z",
     "start_time": "2024-01-14T08:21:23.994179800Z"
    },
    "collapsed": false
   },
   "outputs": [
    {
     "name": "stdout",
     "output_type": "stream",
     "text": [
      "<class 'pandas.core.frame.DataFrame'>\n",
      "Int64Index: 1980 entries, 0 to 1987\n",
      "Data columns (total 18 columns):\n",
      " #   Column                                                 Non-Null Count  Dtype  \n",
      "---  ------                                                 --------------  -----  \n",
      " 0   ASTM type 1 ordinary Portland Cement content (kg/m^3)  1980 non-null   float64\n",
      " 1   CEM I 42.5N ordinary Portland Cement content (kg/m^3)  1980 non-null   float64\n",
      " 2   CEM I 52.5N ordinary Portland Cement content (kg/m^3)  1980 non-null   float64\n",
      " 3   Class C Fly ash content (kg/m^3)                       1980 non-null   float64\n",
      " 4   Class F Fly ash content (kg/m^3)                       1980 non-null   float64\n",
      " 5   Slag content (kg/m^3)                                  1980 non-null   float64\n",
      " 6   Silica fume content (kg/m^3)                           1980 non-null   float64\n",
      " 7   Water content (kg/m^3)                                 1980 non-null   float64\n",
      " 8   Superplasticizer content (kg/m^3)                      1980 non-null   float64\n",
      " 9   Maximum coarse aggregate size (mm)                     1980 non-null   float64\n",
      " 10  Coarse aggregate content (kg/m^3)                      1975 non-null   float64\n",
      " 11  Fine aggregate content (kg/m^3)                        1975 non-null   float64\n",
      " 12  Curing temperature (Celsius degree)                    1980 non-null   float64\n",
      " 13  Converted Strength                                     1942 non-null   float64\n",
      " 14  Air                                                    1980 non-null   uint8  \n",
      " 15  Moist                                                  1980 non-null   uint8  \n",
      " 16  Sealed                                                 1980 non-null   uint8  \n",
      " 17  Submerged                                              1980 non-null   uint8  \n",
      "dtypes: float64(14), uint8(4)\n",
      "memory usage: 239.8 KB\n"
     ]
    }
   ],
   "source": [
    "new_df = new_df.drop(['Curing humidity (%)', 'Curing day','Average carbonation coefficient (mm/year^0.5)', 'Chloride diffusion coefficient (10-12 m2/s)', 'Average 28-day split strength (Mpa)', 'Slump (mm)', 'Curing method', 'Specimen size', 'Average 28-day compressive strength (Mpa)'], axis = 1)\n",
    "new_df.info()"
   ]
  },
  {
   "cell_type": "code",
   "execution_count": 17,
   "id": "bb1691ebc30114e6",
   "metadata": {
    "ExecuteTime": {
     "end_time": "2024-01-14T08:21:24.294985800Z",
     "start_time": "2024-01-14T08:21:24.208420700Z"
    },
    "collapsed": false
   },
   "outputs": [
    {
     "data": {
      "text/plain": [
       "ASTM type 1 ordinary Portland Cement content (kg/m^3)    0\n",
       "CEM I 42.5N ordinary Portland Cement content (kg/m^3)    0\n",
       "CEM I 52.5N ordinary Portland Cement content (kg/m^3)    0\n",
       "Class C Fly ash content (kg/m^3)                         0\n",
       "Class F Fly ash content (kg/m^3)                         0\n",
       "Slag content (kg/m^3)                                    0\n",
       "Silica fume content (kg/m^3)                             0\n",
       "Water content (kg/m^3)                                   0\n",
       "Superplasticizer content (kg/m^3)                        0\n",
       "Maximum coarse aggregate size (mm)                       0\n",
       "Coarse aggregate content (kg/m^3)                        0\n",
       "Fine aggregate content (kg/m^3)                          0\n",
       "Curing temperature (Celsius degree)                      0\n",
       "Converted Strength                                       0\n",
       "Air                                                      0\n",
       "Moist                                                    0\n",
       "Sealed                                                   0\n",
       "Submerged                                                0\n",
       "dtype: int64"
      ]
     },
     "execution_count": 17,
     "metadata": {},
     "output_type": "execute_result"
    }
   ],
   "source": [
    "new_df = new_df.dropna()\n",
    "new_df.isnull().sum()"
   ]
  },
  {
   "cell_type": "markdown",
   "id": "dc0ff15659177050",
   "metadata": {
    "collapsed": false
   },
   "source": [
    "# Train test split"
   ]
  },
  {
   "cell_type": "code",
   "execution_count": 18,
   "id": "f2c15dbf329ffa77",
   "metadata": {
    "ExecuteTime": {
     "end_time": "2024-01-14T08:21:24.580647100Z",
     "start_time": "2024-01-14T08:21:24.487378Z"
    },
    "collapsed": false
   },
   "outputs": [],
   "source": [
    "X = new_df.drop('Converted Strength', axis=1)\n",
    "Y = new_df[['Converted Strength']]"
   ]
  },
  {
   "cell_type": "code",
   "execution_count": 19,
   "id": "eec3ab5f94313567",
   "metadata": {
    "ExecuteTime": {
     "end_time": "2024-01-14T08:21:24.750130500Z",
     "start_time": "2024-01-14T08:21:24.710422900Z"
    },
    "collapsed": false
   },
   "outputs": [],
   "source": [
    "X_big, X_test, y_big, y_test = train_test_split(X,Y, test_size = 0.1, random_state = 42,shuffle = True)\n",
    "X_train, X_val, y_train, y_val = train_test_split(X_big,y_big, test_size = 0.2, random_state = 42,shuffle = True)"
   ]
  },
  {
   "cell_type": "code",
   "execution_count": 20,
   "id": "521d381995cc4299",
   "metadata": {
    "ExecuteTime": {
     "end_time": "2024-01-14T08:21:24.942356300Z",
     "start_time": "2024-01-14T08:21:24.815620800Z"
    },
    "collapsed": false
   },
   "outputs": [
    {
     "name": "stdout",
     "output_type": "stream",
     "text": [
      "(1394, 17)\n",
      "(349, 17)\n",
      "(194, 17)\n"
     ]
    }
   ],
   "source": [
    "print(X_train.shape)\n",
    "print(X_val.shape)\n",
    "print(X_test.shape)"
   ]
  },
  {
   "cell_type": "markdown",
   "id": "9ba44287e592bd76",
   "metadata": {
    "collapsed": false
   },
   "source": [
    "## Min Max Scaler"
   ]
  },
  {
   "cell_type": "code",
   "execution_count": 21,
   "id": "9afbfbb763d33903",
   "metadata": {
    "ExecuteTime": {
     "end_time": "2024-01-14T08:21:25.183783Z",
     "start_time": "2024-01-14T08:21:25.091371500Z"
    },
    "collapsed": false
   },
   "outputs": [],
   "source": [
    "scaler = MinMaxScaler()\n",
    "X_train_scaled = scaler.fit_transform(X_train)\n",
    "X_val_scaled = scaler.fit_transform(X_val)\n",
    "X_test_scaled = scaler.fit_transform(X_test)"
   ]
  },
  {
   "cell_type": "markdown",
   "id": "df5585f72edd5072",
   "metadata": {
    "collapsed": false
   },
   "source": [
    "# Model Evaluation"
   ]
  },
  {
   "cell_type": "code",
   "execution_count": 22,
   "id": "9d937d0b5e61ad7",
   "metadata": {
    "ExecuteTime": {
     "end_time": "2024-01-14T08:21:25.402642Z",
     "start_time": "2024-01-14T08:21:25.343952300Z"
    },
    "collapsed": false
   },
   "outputs": [],
   "source": [
    "def adj_r2_score(predictors, targets, predictions):\n",
    "    r2 = r2_score(targets, predictions)\n",
    "    n = predictors.shape[0]\n",
    "    k = predictors.shape[1]\n",
    "    return 1 - ((1 - r2) * (n - 1) / (n - k - 1))\n",
    "def model_performance_regression(predictors,target,pred):\n",
    "    r2 = r2_score(target, pred)  # to compute R-squared\n",
    "    adjr2 = adj_r2_score(predictors, target, pred)  # to compute adjusted R-squared\n",
    "    rmse = np.sqrt(mean_squared_error(target, pred))  # to compute RMSE\n",
    "    mae = mean_absolute_error(target, pred)  # to compute MAE\n",
    "\n",
    "    df_perf = pd.DataFrame(\n",
    "        {\n",
    "            \"RMSE\": rmse,\n",
    "            \"MAE\": mae,\n",
    "            \"R-squared\": r2,\n",
    "            \"Adj. R-squared\": adjr2,\n",
    "        },\n",
    "        index=[0],\n",
    "    )\n",
    "\n",
    "    return df_perf"
   ]
  },
  {
   "cell_type": "markdown",
   "id": "758d5bf5ec5d47a7",
   "metadata": {
    "collapsed": false
   },
   "source": [
    "# Model 1"
   ]
  },
  {
   "cell_type": "code",
   "execution_count": 23,
   "id": "289d59236b0b6541",
   "metadata": {
    "ExecuteTime": {
     "end_time": "2024-01-14T08:21:25.893435700Z",
     "start_time": "2024-01-14T08:21:25.632039600Z"
    },
    "collapsed": false
   },
   "outputs": [
    {
     "name": "stdout",
     "output_type": "stream",
     "text": [
      "WARNING:tensorflow:From C:\\Users\\leeno\\anaconda3\\Lib\\site-packages\\keras\\src\\backend.py:277: The name tf.reset_default_graph is deprecated. Please use tf.compat.v1.reset_default_graph instead.\n"
     ]
    }
   ],
   "source": [
    "backend.clear_session()\n",
    "#Fixing the seed for random number generators so that we can ensure we receive the same output everytime\n",
    "np.random.seed(42)\n",
    "random.seed(42)\n",
    "tf.random.set_seed(42)"
   ]
  },
  {
   "cell_type": "code",
   "execution_count": 24,
   "id": "e834cab0c0aec205",
   "metadata": {
    "ExecuteTime": {
     "end_time": "2024-01-14T08:21:26.063281400Z",
     "start_time": "2024-01-14T08:21:25.831591800Z"
    },
    "collapsed": false
   },
   "outputs": [
    {
     "name": "stdout",
     "output_type": "stream",
     "text": [
      "Model: \"sequential\"\n",
      "_________________________________________________________________\n",
      " Layer (type)                Output Shape              Param #   \n",
      "=================================================================\n",
      " dense (Dense)               (None, 64)                1152      \n",
      "                                                                 \n",
      " dense_1 (Dense)             (None, 32)                2080      \n",
      "                                                                 \n",
      " dense_2 (Dense)             (None, 32)                1056      \n",
      "                                                                 \n",
      " dense_3 (Dense)             (None, 1)                 33        \n",
      "                                                                 \n",
      "=================================================================\n",
      "Total params: 4321 (16.88 KB)\n",
      "Trainable params: 4321 (16.88 KB)\n",
      "Non-trainable params: 0 (0.00 Byte)\n",
      "_________________________________________________________________\n"
     ]
    }
   ],
   "source": [
    "model = Sequential()\n",
    "model.add(Dense(64, activation='relu',kernel_initializer='he_uniform', input_shape=(17,)))\n",
    "\n",
    "model.add(Dense(32, activation='relu',kernel_initializer='he_uniform'))\n",
    "\n",
    "model.add(Dense(32, activation='relu',kernel_initializer='he_uniform'))\n",
    "\n",
    "model.add(Dense(1, activation='linear'))\n",
    "\n",
    "model.summary()"
   ]
  },
  {
   "cell_type": "code",
   "execution_count": 25,
   "id": "720c97c396d3a0bd",
   "metadata": {
    "ExecuteTime": {
     "end_time": "2024-01-14T08:21:34.497086700Z",
     "start_time": "2024-01-14T08:21:26.039220200Z"
    },
    "collapsed": false
   },
   "outputs": [
    {
     "name": "stdout",
     "output_type": "stream",
     "text": [
      "Epoch 1/100\n",
      "WARNING:tensorflow:From C:\\Users\\leeno\\anaconda3\\Lib\\site-packages\\keras\\src\\utils\\tf_utils.py:492: The name tf.ragged.RaggedTensorValue is deprecated. Please use tf.compat.v1.ragged.RaggedTensorValue instead.\n",
      "\n",
      "WARNING:tensorflow:From C:\\Users\\leeno\\anaconda3\\Lib\\site-packages\\keras\\src\\engine\\base_layer_utils.py:384: The name tf.executing_eagerly_outside_functions is deprecated. Please use tf.compat.v1.executing_eagerly_outside_functions instead.\n",
      "44/44 [==============================] - 1s 6ms/step - loss: 2451.3091 - mae: 46.0542 - val_loss: 1917.7881 - val_mae: 39.5140\n",
      "Epoch 2/100\n",
      "44/44 [==============================] - 0s 2ms/step - loss: 965.2618 - mae: 25.5597 - val_loss: 457.3793 - val_mae: 17.0923\n",
      "Epoch 3/100\n",
      "44/44 [==============================] - 0s 2ms/step - loss: 323.6190 - mae: 14.2340 - val_loss: 340.3508 - val_mae: 14.8971\n",
      "Epoch 4/100\n",
      "44/44 [==============================] - 0s 2ms/step - loss: 281.8049 - mae: 13.3317 - val_loss: 302.7908 - val_mae: 13.8417\n",
      "Epoch 5/100\n",
      "44/44 [==============================] - 0s 2ms/step - loss: 253.6042 - mae: 12.6949 - val_loss: 270.1373 - val_mae: 13.0455\n",
      "Epoch 6/100\n",
      "44/44 [==============================] - 0s 2ms/step - loss: 230.9957 - mae: 12.0765 - val_loss: 243.3524 - val_mae: 12.3266\n",
      "Epoch 7/100\n",
      "44/44 [==============================] - 0s 2ms/step - loss: 212.2271 - mae: 11.6259 - val_loss: 219.7017 - val_mae: 11.6325\n",
      "Epoch 8/100\n",
      "44/44 [==============================] - 0s 2ms/step - loss: 195.6421 - mae: 11.2031 - val_loss: 208.4929 - val_mae: 11.2589\n",
      "Epoch 9/100\n",
      "44/44 [==============================] - 0s 2ms/step - loss: 182.1581 - mae: 10.7627 - val_loss: 184.1398 - val_mae: 10.7386\n",
      "Epoch 10/100\n",
      "44/44 [==============================] - 0s 2ms/step - loss: 171.3193 - mae: 10.5238 - val_loss: 179.1965 - val_mae: 10.4532\n",
      "Epoch 11/100\n",
      "44/44 [==============================] - 0s 3ms/step - loss: 162.7324 - mae: 10.2193 - val_loss: 166.8994 - val_mae: 10.0903\n",
      "Epoch 12/100\n",
      "44/44 [==============================] - 0s 2ms/step - loss: 153.5652 - mae: 9.9027 - val_loss: 207.3731 - val_mae: 11.2542\n",
      "Epoch 13/100\n",
      "44/44 [==============================] - 0s 2ms/step - loss: 144.7625 - mae: 9.6133 - val_loss: 155.6204 - val_mae: 9.8438\n",
      "Epoch 14/100\n",
      "44/44 [==============================] - 0s 2ms/step - loss: 139.4976 - mae: 9.4529 - val_loss: 147.4396 - val_mae: 9.5431\n",
      "Epoch 15/100\n",
      "44/44 [==============================] - 0s 2ms/step - loss: 133.0694 - mae: 9.2107 - val_loss: 175.2630 - val_mae: 10.3820\n",
      "Epoch 16/100\n",
      "44/44 [==============================] - 0s 2ms/step - loss: 128.2579 - mae: 8.9913 - val_loss: 157.4365 - val_mae: 9.8495\n",
      "Epoch 17/100\n",
      "44/44 [==============================] - 0s 2ms/step - loss: 123.4551 - mae: 8.8387 - val_loss: 131.9886 - val_mae: 9.0584\n",
      "Epoch 18/100\n",
      "44/44 [==============================] - 0s 2ms/step - loss: 119.4147 - mae: 8.6918 - val_loss: 142.0545 - val_mae: 9.3634\n",
      "Epoch 19/100\n",
      "44/44 [==============================] - 0s 2ms/step - loss: 116.1037 - mae: 8.5259 - val_loss: 147.7274 - val_mae: 9.5600\n",
      "Epoch 20/100\n",
      "44/44 [==============================] - 0s 2ms/step - loss: 113.0566 - mae: 8.4061 - val_loss: 121.5753 - val_mae: 8.6195\n",
      "Epoch 21/100\n",
      "44/44 [==============================] - 0s 2ms/step - loss: 109.8716 - mae: 8.2344 - val_loss: 132.2799 - val_mae: 9.0085\n",
      "Epoch 22/100\n",
      "44/44 [==============================] - 0s 2ms/step - loss: 106.7474 - mae: 8.1056 - val_loss: 113.9049 - val_mae: 8.3304\n",
      "Epoch 23/100\n",
      "44/44 [==============================] - 0s 2ms/step - loss: 104.9244 - mae: 8.0166 - val_loss: 124.1411 - val_mae: 8.7216\n",
      "Epoch 24/100\n",
      "44/44 [==============================] - 0s 2ms/step - loss: 104.0446 - mae: 7.9924 - val_loss: 127.1389 - val_mae: 8.8332\n",
      "Epoch 25/100\n",
      "44/44 [==============================] - 0s 2ms/step - loss: 101.3503 - mae: 7.8062 - val_loss: 115.0349 - val_mae: 8.4173\n",
      "Epoch 26/100\n",
      "44/44 [==============================] - 0s 2ms/step - loss: 100.2151 - mae: 7.7594 - val_loss: 111.2599 - val_mae: 8.2643\n",
      "Epoch 27/100\n",
      "44/44 [==============================] - 0s 2ms/step - loss: 98.0077 - mae: 7.6652 - val_loss: 126.9236 - val_mae: 8.8576\n",
      "Epoch 28/100\n",
      "44/44 [==============================] - 0s 2ms/step - loss: 97.0758 - mae: 7.6292 - val_loss: 113.6025 - val_mae: 8.3429\n",
      "Epoch 29/100\n",
      "44/44 [==============================] - 0s 2ms/step - loss: 95.5147 - mae: 7.5823 - val_loss: 113.0045 - val_mae: 8.1774\n",
      "Epoch 30/100\n",
      "44/44 [==============================] - 0s 2ms/step - loss: 95.1036 - mae: 7.5381 - val_loss: 106.8669 - val_mae: 8.0644\n",
      "Epoch 31/100\n",
      "44/44 [==============================] - 0s 2ms/step - loss: 93.7110 - mae: 7.4742 - val_loss: 104.7453 - val_mae: 8.0002\n",
      "Epoch 32/100\n",
      "44/44 [==============================] - 0s 2ms/step - loss: 92.4708 - mae: 7.4131 - val_loss: 123.3069 - val_mae: 8.7892\n",
      "Epoch 33/100\n",
      "44/44 [==============================] - 0s 2ms/step - loss: 92.0084 - mae: 7.3697 - val_loss: 103.9384 - val_mae: 7.8925\n",
      "Epoch 34/100\n",
      "44/44 [==============================] - 0s 2ms/step - loss: 89.4082 - mae: 7.2494 - val_loss: 110.7908 - val_mae: 8.1830\n",
      "Epoch 35/100\n",
      "44/44 [==============================] - 0s 2ms/step - loss: 90.9997 - mae: 7.3643 - val_loss: 103.6829 - val_mae: 7.8801\n",
      "Epoch 36/100\n",
      "44/44 [==============================] - 0s 2ms/step - loss: 87.8946 - mae: 7.2071 - val_loss: 108.2590 - val_mae: 7.9912\n",
      "Epoch 37/100\n",
      "44/44 [==============================] - 0s 2ms/step - loss: 87.4811 - mae: 7.1576 - val_loss: 114.4561 - val_mae: 8.3946\n",
      "Epoch 38/100\n",
      "44/44 [==============================] - 0s 2ms/step - loss: 87.1789 - mae: 7.1199 - val_loss: 109.5658 - val_mae: 8.1570\n",
      "Epoch 39/100\n",
      "44/44 [==============================] - 0s 2ms/step - loss: 85.9472 - mae: 7.1088 - val_loss: 108.3844 - val_mae: 7.9023\n",
      "Epoch 40/100\n",
      "44/44 [==============================] - 0s 2ms/step - loss: 85.7651 - mae: 7.0268 - val_loss: 103.8666 - val_mae: 7.7731\n",
      "Epoch 41/100\n",
      "44/44 [==============================] - 0s 2ms/step - loss: 85.0152 - mae: 7.0284 - val_loss: 109.6909 - val_mae: 8.1180\n",
      "Epoch 42/100\n",
      "44/44 [==============================] - 0s 2ms/step - loss: 83.8656 - mae: 6.9870 - val_loss: 125.5320 - val_mae: 9.0215\n",
      "Epoch 43/100\n",
      "44/44 [==============================] - 0s 2ms/step - loss: 82.2422 - mae: 6.9155 - val_loss: 106.4484 - val_mae: 7.8424\n",
      "Epoch 44/100\n",
      "44/44 [==============================] - 0s 2ms/step - loss: 82.1796 - mae: 6.9162 - val_loss: 99.7447 - val_mae: 7.6404\n",
      "Epoch 45/100\n",
      "44/44 [==============================] - 0s 2ms/step - loss: 81.7385 - mae: 6.8475 - val_loss: 100.3873 - val_mae: 7.6020\n",
      "Epoch 46/100\n",
      "44/44 [==============================] - 0s 2ms/step - loss: 80.7975 - mae: 6.8406 - val_loss: 109.4181 - val_mae: 8.0121\n",
      "Epoch 47/100\n",
      "44/44 [==============================] - 0s 2ms/step - loss: 80.3472 - mae: 6.8080 - val_loss: 99.4201 - val_mae: 7.6283\n",
      "Epoch 48/100\n",
      "44/44 [==============================] - 0s 2ms/step - loss: 78.8897 - mae: 6.7714 - val_loss: 124.9311 - val_mae: 8.8724\n",
      "Epoch 49/100\n",
      "44/44 [==============================] - 0s 2ms/step - loss: 78.3849 - mae: 6.7121 - val_loss: 103.8434 - val_mae: 7.7658\n",
      "Epoch 50/100\n",
      "44/44 [==============================] - 0s 2ms/step - loss: 77.7165 - mae: 6.6481 - val_loss: 100.5185 - val_mae: 7.6417\n",
      "Epoch 51/100\n",
      "44/44 [==============================] - 0s 2ms/step - loss: 77.6697 - mae: 6.6592 - val_loss: 97.7072 - val_mae: 7.4847\n",
      "Epoch 52/100\n",
      "44/44 [==============================] - 0s 2ms/step - loss: 76.5054 - mae: 6.5965 - val_loss: 101.0576 - val_mae: 7.6599\n",
      "Epoch 53/100\n",
      "44/44 [==============================] - 0s 2ms/step - loss: 75.9392 - mae: 6.5603 - val_loss: 103.9350 - val_mae: 7.8781\n",
      "Epoch 54/100\n",
      "44/44 [==============================] - 0s 2ms/step - loss: 75.2929 - mae: 6.5062 - val_loss: 101.4406 - val_mae: 7.5866\n",
      "Epoch 55/100\n",
      "44/44 [==============================] - 0s 2ms/step - loss: 74.9591 - mae: 6.5226 - val_loss: 107.2021 - val_mae: 7.9865\n",
      "Epoch 56/100\n",
      "44/44 [==============================] - 0s 2ms/step - loss: 75.2019 - mae: 6.4859 - val_loss: 104.0567 - val_mae: 7.8803\n",
      "Epoch 57/100\n",
      "44/44 [==============================] - 0s 2ms/step - loss: 72.9484 - mae: 6.3701 - val_loss: 99.0483 - val_mae: 7.7145\n",
      "Epoch 58/100\n",
      "44/44 [==============================] - 0s 2ms/step - loss: 71.9589 - mae: 6.3093 - val_loss: 98.4595 - val_mae: 7.5098\n",
      "Epoch 59/100\n",
      "44/44 [==============================] - 0s 2ms/step - loss: 72.3630 - mae: 6.4114 - val_loss: 98.4694 - val_mae: 7.6244\n",
      "Epoch 60/100\n",
      "44/44 [==============================] - 0s 2ms/step - loss: 71.5682 - mae: 6.3495 - val_loss: 107.9132 - val_mae: 7.9734\n",
      "Epoch 61/100\n",
      "44/44 [==============================] - 0s 2ms/step - loss: 70.8651 - mae: 6.2795 - val_loss: 96.8599 - val_mae: 7.4527\n",
      "Epoch 62/100\n",
      "44/44 [==============================] - 0s 2ms/step - loss: 70.4757 - mae: 6.2321 - val_loss: 101.0273 - val_mae: 7.6496\n",
      "Epoch 63/100\n",
      "44/44 [==============================] - 0s 2ms/step - loss: 70.8934 - mae: 6.2573 - val_loss: 98.0307 - val_mae: 7.6380\n",
      "Epoch 64/100\n",
      "44/44 [==============================] - 0s 2ms/step - loss: 69.1680 - mae: 6.2311 - val_loss: 98.5117 - val_mae: 7.4858\n",
      "Epoch 65/100\n",
      "44/44 [==============================] - 0s 2ms/step - loss: 68.7613 - mae: 6.1570 - val_loss: 99.7510 - val_mae: 7.6731\n",
      "Epoch 66/100\n",
      "44/44 [==============================] - 0s 2ms/step - loss: 69.4790 - mae: 6.2222 - val_loss: 94.7619 - val_mae: 7.2682\n",
      "Epoch 67/100\n",
      "44/44 [==============================] - 0s 2ms/step - loss: 68.1114 - mae: 6.1363 - val_loss: 115.8950 - val_mae: 8.5820\n",
      "Epoch 68/100\n",
      "44/44 [==============================] - 0s 2ms/step - loss: 66.9754 - mae: 6.0782 - val_loss: 116.9442 - val_mae: 8.7286\n",
      "Epoch 69/100\n",
      "44/44 [==============================] - 0s 2ms/step - loss: 67.4196 - mae: 6.0959 - val_loss: 110.5073 - val_mae: 8.3121\n",
      "Epoch 70/100\n",
      "44/44 [==============================] - 0s 2ms/step - loss: 67.0669 - mae: 6.0993 - val_loss: 95.6508 - val_mae: 7.2771\n",
      "Epoch 71/100\n",
      "44/44 [==============================] - 0s 2ms/step - loss: 65.9368 - mae: 6.0512 - val_loss: 100.2441 - val_mae: 7.7165\n",
      "Epoch 72/100\n",
      "44/44 [==============================] - 0s 2ms/step - loss: 65.8822 - mae: 5.9929 - val_loss: 99.1234 - val_mae: 7.5804\n",
      "Epoch 73/100\n",
      "44/44 [==============================] - 0s 2ms/step - loss: 64.6726 - mae: 5.9604 - val_loss: 99.3765 - val_mae: 7.5980\n",
      "Epoch 74/100\n",
      "44/44 [==============================] - 0s 1ms/step - loss: 66.4262 - mae: 6.0124 - val_loss: 96.8066 - val_mae: 7.4668\n",
      "Epoch 75/100\n",
      "44/44 [==============================] - 0s 2ms/step - loss: 65.0818 - mae: 5.9530 - val_loss: 106.1802 - val_mae: 8.1353\n",
      "Epoch 76/100\n",
      "44/44 [==============================] - 0s 2ms/step - loss: 63.3430 - mae: 5.8737 - val_loss: 104.3513 - val_mae: 7.8041\n",
      "Epoch 77/100\n",
      "44/44 [==============================] - 0s 2ms/step - loss: 64.1220 - mae: 5.8936 - val_loss: 95.8121 - val_mae: 7.4728\n",
      "Epoch 78/100\n",
      "44/44 [==============================] - 0s 2ms/step - loss: 63.3592 - mae: 5.8665 - val_loss: 95.1405 - val_mae: 7.3056\n",
      "Epoch 79/100\n",
      "44/44 [==============================] - 0s 1ms/step - loss: 63.1255 - mae: 5.8656 - val_loss: 102.3300 - val_mae: 7.7226\n",
      "Epoch 80/100\n",
      "44/44 [==============================] - 0s 1ms/step - loss: 62.2108 - mae: 5.8273 - val_loss: 97.2563 - val_mae: 7.4359\n",
      "Epoch 81/100\n",
      "44/44 [==============================] - 0s 2ms/step - loss: 61.5086 - mae: 5.7853 - val_loss: 114.4649 - val_mae: 8.4981\n",
      "Epoch 82/100\n",
      "44/44 [==============================] - 0s 1ms/step - loss: 61.4210 - mae: 5.7568 - val_loss: 94.5198 - val_mae: 7.3379\n",
      "Epoch 83/100\n",
      "44/44 [==============================] - 0s 2ms/step - loss: 61.8948 - mae: 5.7984 - val_loss: 95.4169 - val_mae: 7.4609\n",
      "Epoch 84/100\n",
      "44/44 [==============================] - 0s 2ms/step - loss: 61.1663 - mae: 5.7357 - val_loss: 100.9148 - val_mae: 7.4628\n",
      "Epoch 85/100\n",
      "44/44 [==============================] - 0s 2ms/step - loss: 60.2728 - mae: 5.7649 - val_loss: 102.2795 - val_mae: 7.6824\n",
      "Epoch 86/100\n",
      "44/44 [==============================] - 0s 1ms/step - loss: 60.1444 - mae: 5.6969 - val_loss: 107.0541 - val_mae: 8.2167\n",
      "Epoch 87/100\n",
      "44/44 [==============================] - 0s 2ms/step - loss: 59.4913 - mae: 5.6536 - val_loss: 129.0026 - val_mae: 9.0019\n",
      "Epoch 88/100\n",
      "44/44 [==============================] - 0s 2ms/step - loss: 58.0919 - mae: 5.6097 - val_loss: 106.0759 - val_mae: 7.8510\n",
      "Epoch 89/100\n",
      "44/44 [==============================] - 0s 2ms/step - loss: 59.1247 - mae: 5.7029 - val_loss: 96.7452 - val_mae: 7.3353\n",
      "Epoch 90/100\n",
      "44/44 [==============================] - 0s 2ms/step - loss: 58.7139 - mae: 5.6263 - val_loss: 103.3427 - val_mae: 8.0418\n",
      "Epoch 91/100\n",
      "44/44 [==============================] - 0s 2ms/step - loss: 57.9987 - mae: 5.6307 - val_loss: 102.4169 - val_mae: 7.8743\n",
      "Epoch 92/100\n",
      "44/44 [==============================] - 0s 2ms/step - loss: 57.7693 - mae: 5.5563 - val_loss: 134.1450 - val_mae: 9.2948\n",
      "Epoch 93/100\n",
      "44/44 [==============================] - 0s 2ms/step - loss: 57.2398 - mae: 5.5848 - val_loss: 101.9373 - val_mae: 7.6263\n",
      "Epoch 94/100\n",
      "44/44 [==============================] - 0s 2ms/step - loss: 56.9751 - mae: 5.5110 - val_loss: 112.2026 - val_mae: 8.1992\n",
      "Epoch 95/100\n",
      "44/44 [==============================] - 0s 2ms/step - loss: 56.3471 - mae: 5.4761 - val_loss: 92.5419 - val_mae: 7.3048\n",
      "Epoch 96/100\n",
      "44/44 [==============================] - 0s 2ms/step - loss: 56.8516 - mae: 5.4978 - val_loss: 93.3083 - val_mae: 7.2681\n",
      "Epoch 97/100\n",
      "44/44 [==============================] - 0s 2ms/step - loss: 56.4046 - mae: 5.4677 - val_loss: 91.3307 - val_mae: 7.2758\n",
      "Epoch 98/100\n",
      "44/44 [==============================] - 0s 2ms/step - loss: 56.3453 - mae: 5.4734 - val_loss: 106.2067 - val_mae: 7.8943\n",
      "Epoch 99/100\n",
      "44/44 [==============================] - 0s 2ms/step - loss: 54.6503 - mae: 5.4005 - val_loss: 98.6777 - val_mae: 7.7163\n",
      "Epoch 100/100\n",
      "44/44 [==============================] - 0s 2ms/step - loss: 55.8211 - mae: 5.4753 - val_loss: 104.4558 - val_mae: 7.9305\n"
     ]
    }
   ],
   "source": [
    "optimizer = RMSprop( learning_rate=0.001)\n",
    "model.compile(loss='mse',\n",
    "              optimizer=optimizer,\n",
    "              metrics=['mae'])\n",
    "history = model.fit(X_train_scaled, y_train, validation_data=(X_val_scaled, y_val), epochs=100)"
   ]
  },
  {
   "cell_type": "code",
   "execution_count": 26,
   "id": "cfc64b0fb0d7e3a8",
   "metadata": {
    "ExecuteTime": {
     "end_time": "2024-01-14T08:21:34.606901Z",
     "start_time": "2024-01-14T08:21:34.462967600Z"
    },
    "collapsed": false
   },
   "outputs": [
    {
     "data": {
      "image/png": "[encoded data removed]",
      "text/plain": [
       "<Figure size 640x480 with 1 Axes>"
      ]
     },
     "metadata": {},
     "output_type": "display_data"
    }
   ],
   "source": [
    "plt.title('Loss / Mean Squared Error')\n",
    "plt.plot(history.history['loss'], label='train')\n",
    "plt.plot(history.history['val_loss'], label='validate')\n",
    "plt.legend()\n",
    "plt.show()"
   ]
  },
  {
   "cell_type": "code",
   "execution_count": 27,
   "id": "67001755d558f2fe",
   "metadata": {
    "ExecuteTime": {
     "end_time": "2024-01-14T08:21:34.745624800Z",
     "start_time": "2024-01-14T08:21:34.584386200Z"
    },
    "collapsed": false
   },
   "outputs": [
    {
     "name": "stdout",
     "output_type": "stream",
     "text": [
      "11/11 [==============================] - 0s 1000us/step\n",
      "Validation Performance\n"
     ]
    },
    {
     "data": {
      "text/html": [
       "<div>\n",
       "<style scoped>\n",
       "    .dataframe tbody tr th:only-of-type {\n",
       "        vertical-align: middle;\n",
       "    }\n",
       "\n",
       "    .dataframe tbody tr th {\n",
       "        vertical-align: top;\n",
       "    }\n",
       "\n",
       "    .dataframe thead th {\n",
       "        text-align: right;\n",
       "    }\n",
       "</style>\n",
       "<table border=\"1\" class=\"dataframe\">\n",
       "  <thead>\n",
       "    <tr style=\"text-align: right;\">\n",
       "      <th></th>\n",
       "      <th>RMSE</th>\n",
       "      <th>MAE</th>\n",
       "      <th>R-squared</th>\n",
       "      <th>Adj. R-squared</th>\n",
       "    </tr>\n",
       "  </thead>\n",
       "  <tbody>\n",
       "    <tr>\n",
       "      <th>0</th>\n",
       "      <td>10.220361</td>\n",
       "      <td>7.930508</td>\n",
       "      <td>0.708631</td>\n",
       "      <td>0.693666</td>\n",
       "    </tr>\n",
       "  </tbody>\n",
       "</table>\n",
       "</div>"
      ],
      "text/plain": [
       "        RMSE       MAE  R-squared  Adj. R-squared\n",
       "0  10.220361  7.930508   0.708631        0.693666"
      ]
     },
     "execution_count": 27,
     "metadata": {},
     "output_type": "execute_result"
    }
   ],
   "source": [
    "y_result = model.predict(X_val_scaled)\n",
    "print(\"Validation Performance\\n\")\n",
    "ANN_train = model_performance_regression(X_val_scaled,y_val, y_result)\n",
    "ANN_train"
   ]
  },
  {
   "cell_type": "code",
   "execution_count": 28,
   "id": "43bcdb80ba189e01",
   "metadata": {
    "ExecuteTime": {
     "end_time": "2024-01-14T08:21:34.918834100Z",
     "start_time": "2024-01-14T08:21:34.706813900Z"
    },
    "collapsed": false
   },
   "outputs": [
    {
     "name": "stdout",
     "output_type": "stream",
     "text": [
      "7/7 [==============================] - 0s 1ms/step\n",
      "Test set Performance\n"
     ]
    },
    {
     "data": {
      "text/html": [
       "<div>\n",
       "<style scoped>\n",
       "    .dataframe tbody tr th:only-of-type {\n",
       "        vertical-align: middle;\n",
       "    }\n",
       "\n",
       "    .dataframe tbody tr th {\n",
       "        vertical-align: top;\n",
       "    }\n",
       "\n",
       "    .dataframe thead th {\n",
       "        text-align: right;\n",
       "    }\n",
       "</style>\n",
       "<table border=\"1\" class=\"dataframe\">\n",
       "  <thead>\n",
       "    <tr style=\"text-align: right;\">\n",
       "      <th></th>\n",
       "      <th>RMSE</th>\n",
       "      <th>MAE</th>\n",
       "      <th>R-squared</th>\n",
       "      <th>Adj. R-squared</th>\n",
       "    </tr>\n",
       "  </thead>\n",
       "  <tbody>\n",
       "    <tr>\n",
       "      <th>0</th>\n",
       "      <td>12.414396</td>\n",
       "      <td>9.457191</td>\n",
       "      <td>0.561793</td>\n",
       "      <td>0.519466</td>\n",
       "    </tr>\n",
       "  </tbody>\n",
       "</table>\n",
       "</div>"
      ],
      "text/plain": [
       "        RMSE       MAE  R-squared  Adj. R-squared\n",
       "0  12.414396  9.457191   0.561793        0.519466"
      ]
     },
     "execution_count": 28,
     "metadata": {},
     "output_type": "execute_result"
    }
   ],
   "source": [
    "y_test_result = model.predict(X_test_scaled)\n",
    "ANN_test = model_performance_regression(X_test_scaled, y_test, y_test_result)\n",
    "print(\"Test set Performance\\n\")\n",
    "ANN_test"
   ]
  },
  {
   "cell_type": "markdown",
   "id": "42a3e8a3f7fd0760",
   "metadata": {
    "collapsed": false
   },
   "source": [
    "* Try Adam"
   ]
  },
  {
   "cell_type": "code",
   "execution_count": 29,
   "id": "ebdd908498a1c99c",
   "metadata": {
    "ExecuteTime": {
     "end_time": "2024-01-14T08:21:34.918834100Z",
     "start_time": "2024-01-14T08:21:34.767414700Z"
    },
    "collapsed": false
   },
   "outputs": [],
   "source": [
    "backend.clear_session()\n",
    "#Fixing the seed for random number generators so that we can ensure we receive the same output everytime\n",
    "np.random.seed(42)\n",
    "random.seed(42)\n",
    "tf.random.set_seed(42)"
   ]
  },
  {
   "cell_type": "code",
   "execution_count": 30,
   "id": "919641190a0d9f98",
   "metadata": {
    "ExecuteTime": {
     "end_time": "2024-01-14T08:21:34.951377700Z",
     "start_time": "2024-01-14T08:21:34.777672200Z"
    },
    "collapsed": false
   },
   "outputs": [
    {
     "name": "stdout",
     "output_type": "stream",
     "text": [
      "Model: \"sequential\"\n",
      "_________________________________________________________________\n",
      " Layer (type)                Output Shape              Param #   \n",
      "=================================================================\n",
      " dense (Dense)               (None, 64)                1152      \n",
      "                                                                 \n",
      " dense_1 (Dense)             (None, 32)                2080      \n",
      "                                                                 \n",
      " dense_2 (Dense)             (None, 32)                1056      \n",
      "                                                                 \n",
      " dense_3 (Dense)             (None, 1)                 33        \n",
      "                                                                 \n",
      "=================================================================\n",
      "Total params: 4321 (16.88 KB)\n",
      "Trainable params: 4321 (16.88 KB)\n",
      "Non-trainable params: 0 (0.00 Byte)\n",
      "_________________________________________________________________\n"
     ]
    }
   ],
   "source": [
    "model_adam = Sequential()\n",
    "model_adam.add(Dense(64, activation='relu',kernel_initializer='he_uniform', input_shape=(17,)))\n",
    "\n",
    "model_adam.add(Dense(32, activation='relu',kernel_initializer='he_uniform'))\n",
    "\n",
    "model_adam.add(Dense(32, activation='relu',kernel_initializer='he_uniform'))\n",
    "\n",
    "model_adam.add(Dense(1, activation='linear'))\n",
    "\n",
    "model_adam.summary()"
   ]
  },
  {
   "cell_type": "code",
   "execution_count": 31,
   "id": "6b4a5974b5d14b92",
   "metadata": {
    "ExecuteTime": {
     "end_time": "2024-01-14T08:21:42.996769600Z",
     "start_time": "2024-01-14T08:21:34.828149300Z"
    },
    "collapsed": false
   },
   "outputs": [
    {
     "name": "stdout",
     "output_type": "stream",
     "text": [
      "Epoch 1/100\n",
      "44/44 [==============================] - 1s 4ms/step - loss: 2694.6772 - mae: 48.7171 - val_loss: 2405.6011 - val_mae: 45.2656\n",
      "Epoch 2/100\n",
      "44/44 [==============================] - 0s 2ms/step - loss: 1299.6694 - mae: 30.6392 - val_loss: 450.2619 - val_mae: 16.9705\n",
      "Epoch 3/100\n",
      "44/44 [==============================] - 0s 2ms/step - loss: 326.3374 - mae: 14.4243 - val_loss: 348.6657 - val_mae: 14.8983\n",
      "Epoch 4/100\n",
      "44/44 [==============================] - 0s 2ms/step - loss: 285.5167 - mae: 13.4417 - val_loss: 311.1585 - val_mae: 14.0458\n",
      "Epoch 5/100\n",
      "44/44 [==============================] - 0s 2ms/step - loss: 261.2768 - mae: 12.8574 - val_loss: 280.2374 - val_mae: 13.4154\n",
      "Epoch 6/100\n",
      "44/44 [==============================] - 0s 2ms/step - loss: 242.5847 - mae: 12.3871 - val_loss: 262.1513 - val_mae: 12.8478\n",
      "Epoch 7/100\n",
      "44/44 [==============================] - 0s 2ms/step - loss: 225.5672 - mae: 11.9659 - val_loss: 241.3398 - val_mae: 12.3286\n",
      "Epoch 8/100\n",
      "44/44 [==============================] - 0s 2ms/step - loss: 210.4592 - mae: 11.5887 - val_loss: 222.6097 - val_mae: 11.7712\n",
      "Epoch 9/100\n",
      "44/44 [==============================] - 0s 2ms/step - loss: 197.1851 - mae: 11.1985 - val_loss: 200.9343 - val_mae: 11.2032\n",
      "Epoch 10/100\n",
      "44/44 [==============================] - 0s 2ms/step - loss: 184.8290 - mae: 10.8655 - val_loss: 198.5048 - val_mae: 11.0508\n",
      "Epoch 11/100\n",
      "44/44 [==============================] - 0s 2ms/step - loss: 172.9817 - mae: 10.5293 - val_loss: 186.6345 - val_mae: 10.7163\n",
      "Epoch 12/100\n",
      "44/44 [==============================] - 0s 2ms/step - loss: 164.0672 - mae: 10.2744 - val_loss: 174.7095 - val_mae: 10.3412\n",
      "Epoch 13/100\n",
      "44/44 [==============================] - 0s 2ms/step - loss: 155.1379 - mae: 9.9683 - val_loss: 158.9191 - val_mae: 9.9617\n",
      "Epoch 14/100\n",
      "44/44 [==============================] - 0s 2ms/step - loss: 148.4314 - mae: 9.7867 - val_loss: 165.9542 - val_mae: 10.0742\n",
      "Epoch 15/100\n",
      "44/44 [==============================] - 0s 2ms/step - loss: 141.2504 - mae: 9.5606 - val_loss: 164.9245 - val_mae: 10.0186\n",
      "Epoch 16/100\n",
      "44/44 [==============================] - 0s 2ms/step - loss: 135.5745 - mae: 9.2760 - val_loss: 146.4219 - val_mae: 9.5516\n",
      "Epoch 17/100\n",
      "44/44 [==============================] - 0s 2ms/step - loss: 129.7574 - mae: 9.1258 - val_loss: 145.1444 - val_mae: 9.5037\n",
      "Epoch 18/100\n",
      "44/44 [==============================] - 0s 2ms/step - loss: 125.4177 - mae: 8.9618 - val_loss: 137.3893 - val_mae: 9.2511\n",
      "Epoch 19/100\n",
      "44/44 [==============================] - 0s 2ms/step - loss: 122.1558 - mae: 8.8482 - val_loss: 139.1495 - val_mae: 9.2836\n",
      "Epoch 20/100\n",
      "44/44 [==============================] - 0s 2ms/step - loss: 118.0141 - mae: 8.6234 - val_loss: 135.0797 - val_mae: 9.1293\n",
      "Epoch 21/100\n",
      "44/44 [==============================] - 0s 2ms/step - loss: 114.1423 - mae: 8.4854 - val_loss: 135.5232 - val_mae: 9.1468\n",
      "Epoch 22/100\n",
      "44/44 [==============================] - 0s 2ms/step - loss: 112.4507 - mae: 8.3622 - val_loss: 134.8193 - val_mae: 9.0967\n",
      "Epoch 23/100\n",
      "44/44 [==============================] - 0s 2ms/step - loss: 108.0538 - mae: 8.1792 - val_loss: 121.7688 - val_mae: 8.7006\n",
      "Epoch 24/100\n",
      "44/44 [==============================] - 0s 2ms/step - loss: 105.8599 - mae: 8.1017 - val_loss: 121.6024 - val_mae: 8.6472\n",
      "Epoch 25/100\n",
      "44/44 [==============================] - 0s 2ms/step - loss: 104.2854 - mae: 8.0000 - val_loss: 125.7619 - val_mae: 8.7700\n",
      "Epoch 26/100\n",
      "44/44 [==============================] - 0s 2ms/step - loss: 102.9410 - mae: 7.9646 - val_loss: 126.5227 - val_mae: 8.8194\n",
      "Epoch 27/100\n",
      "44/44 [==============================] - 0s 2ms/step - loss: 100.0655 - mae: 7.8236 - val_loss: 120.4604 - val_mae: 8.6345\n",
      "Epoch 28/100\n",
      "44/44 [==============================] - 0s 2ms/step - loss: 99.8410 - mae: 7.7968 - val_loss: 112.4287 - val_mae: 8.3734\n",
      "Epoch 29/100\n",
      "44/44 [==============================] - 0s 2ms/step - loss: 96.6449 - mae: 7.7006 - val_loss: 114.0905 - val_mae: 8.4651\n",
      "Epoch 30/100\n",
      "44/44 [==============================] - 0s 2ms/step - loss: 95.7848 - mae: 7.6712 - val_loss: 110.5133 - val_mae: 8.2951\n",
      "Epoch 31/100\n",
      "44/44 [==============================] - 0s 2ms/step - loss: 95.0291 - mae: 7.6016 - val_loss: 112.1515 - val_mae: 8.3660\n",
      "Epoch 32/100\n",
      "44/44 [==============================] - 0s 2ms/step - loss: 94.1548 - mae: 7.5827 - val_loss: 120.8527 - val_mae: 8.6414\n",
      "Epoch 33/100\n",
      "44/44 [==============================] - 0s 2ms/step - loss: 92.3473 - mae: 7.4869 - val_loss: 108.9062 - val_mae: 8.2284\n",
      "Epoch 34/100\n",
      "44/44 [==============================] - 0s 2ms/step - loss: 90.6831 - mae: 7.4211 - val_loss: 120.6966 - val_mae: 8.6168\n",
      "Epoch 35/100\n",
      "44/44 [==============================] - 0s 1ms/step - loss: 92.1286 - mae: 7.4926 - val_loss: 121.2193 - val_mae: 8.6458\n",
      "Epoch 36/100\n",
      "44/44 [==============================] - 0s 1ms/step - loss: 88.7139 - mae: 7.3394 - val_loss: 111.9352 - val_mae: 8.3088\n",
      "Epoch 37/100\n",
      "44/44 [==============================] - 0s 2ms/step - loss: 87.9676 - mae: 7.2487 - val_loss: 118.8166 - val_mae: 8.5388\n",
      "Epoch 38/100\n",
      "44/44 [==============================] - 0s 2ms/step - loss: 85.8739 - mae: 7.2233 - val_loss: 104.3236 - val_mae: 8.0258\n",
      "Epoch 39/100\n",
      "44/44 [==============================] - 0s 2ms/step - loss: 84.9891 - mae: 7.1789 - val_loss: 113.9140 - val_mae: 8.3354\n",
      "Epoch 40/100\n",
      "44/44 [==============================] - 0s 2ms/step - loss: 84.7224 - mae: 7.1224 - val_loss: 107.4001 - val_mae: 8.0498\n",
      "Epoch 41/100\n",
      "44/44 [==============================] - 0s 2ms/step - loss: 82.6619 - mae: 7.0337 - val_loss: 116.6799 - val_mae: 8.4396\n",
      "Epoch 42/100\n",
      "44/44 [==============================] - 0s 2ms/step - loss: 81.7932 - mae: 7.0137 - val_loss: 110.3862 - val_mae: 8.1674\n",
      "Epoch 43/100\n",
      "44/44 [==============================] - 0s 2ms/step - loss: 81.2545 - mae: 6.9660 - val_loss: 112.5511 - val_mae: 8.3589\n",
      "Epoch 44/100\n",
      "44/44 [==============================] - 0s 2ms/step - loss: 80.3387 - mae: 6.8860 - val_loss: 116.4861 - val_mae: 8.5081\n",
      "Epoch 45/100\n",
      "44/44 [==============================] - 0s 2ms/step - loss: 78.8776 - mae: 6.8037 - val_loss: 105.5403 - val_mae: 7.9554\n",
      "Epoch 46/100\n",
      "44/44 [==============================] - 0s 2ms/step - loss: 78.6062 - mae: 6.8168 - val_loss: 104.8563 - val_mae: 7.8925\n",
      "Epoch 47/100\n",
      "44/44 [==============================] - 0s 2ms/step - loss: 77.7087 - mae: 6.7714 - val_loss: 105.4982 - val_mae: 7.9504\n",
      "Epoch 48/100\n",
      "44/44 [==============================] - 0s 2ms/step - loss: 77.2482 - mae: 6.7216 - val_loss: 105.5292 - val_mae: 7.8569\n",
      "Epoch 49/100\n",
      "44/44 [==============================] - 0s 2ms/step - loss: 74.9169 - mae: 6.6156 - val_loss: 110.3509 - val_mae: 8.0401\n",
      "Epoch 50/100\n",
      "44/44 [==============================] - 0s 2ms/step - loss: 73.9407 - mae: 6.5849 - val_loss: 106.2360 - val_mae: 7.9265\n",
      "Epoch 51/100\n",
      "44/44 [==============================] - 0s 2ms/step - loss: 72.9975 - mae: 6.5081 - val_loss: 106.3825 - val_mae: 7.9057\n",
      "Epoch 52/100\n",
      "44/44 [==============================] - 0s 2ms/step - loss: 72.0572 - mae: 6.4790 - val_loss: 100.3394 - val_mae: 7.5956\n",
      "Epoch 53/100\n",
      "44/44 [==============================] - 0s 2ms/step - loss: 71.0794 - mae: 6.4223 - val_loss: 104.7643 - val_mae: 7.7000\n",
      "Epoch 54/100\n",
      "44/44 [==============================] - 0s 2ms/step - loss: 70.9472 - mae: 6.3705 - val_loss: 104.8141 - val_mae: 7.7601\n",
      "Epoch 55/100\n",
      "44/44 [==============================] - 0s 2ms/step - loss: 69.7742 - mae: 6.3392 - val_loss: 101.6164 - val_mae: 7.5876\n",
      "Epoch 56/100\n",
      "44/44 [==============================] - 0s 2ms/step - loss: 69.3042 - mae: 6.3015 - val_loss: 121.8370 - val_mae: 8.5460\n",
      "Epoch 57/100\n",
      "44/44 [==============================] - 0s 2ms/step - loss: 69.7370 - mae: 6.3023 - val_loss: 108.3463 - val_mae: 7.9257\n",
      "Epoch 58/100\n",
      "44/44 [==============================] - 0s 2ms/step - loss: 67.1855 - mae: 6.1607 - val_loss: 113.9002 - val_mae: 8.4080\n",
      "Epoch 59/100\n",
      "44/44 [==============================] - 0s 2ms/step - loss: 68.1571 - mae: 6.2114 - val_loss: 108.1473 - val_mae: 7.9497\n",
      "Epoch 60/100\n",
      "44/44 [==============================] - 0s 2ms/step - loss: 66.4495 - mae: 6.1334 - val_loss: 99.9011 - val_mae: 7.4594\n",
      "Epoch 61/100\n",
      "44/44 [==============================] - 0s 2ms/step - loss: 65.5649 - mae: 6.0476 - val_loss: 99.1038 - val_mae: 7.5098\n",
      "Epoch 62/100\n",
      "44/44 [==============================] - 0s 2ms/step - loss: 63.8419 - mae: 5.9439 - val_loss: 99.7910 - val_mae: 7.4712\n",
      "Epoch 63/100\n",
      "44/44 [==============================] - 0s 2ms/step - loss: 63.8643 - mae: 5.9264 - val_loss: 101.9823 - val_mae: 7.6558\n",
      "Epoch 64/100\n",
      "44/44 [==============================] - 0s 2ms/step - loss: 62.8297 - mae: 5.8874 - val_loss: 97.9841 - val_mae: 7.4713\n",
      "Epoch 65/100\n",
      "44/44 [==============================] - 0s 2ms/step - loss: 61.7043 - mae: 5.8062 - val_loss: 96.9802 - val_mae: 7.3007\n",
      "Epoch 66/100\n",
      "44/44 [==============================] - 0s 2ms/step - loss: 62.4027 - mae: 5.8464 - val_loss: 97.0061 - val_mae: 7.3860\n",
      "Epoch 67/100\n",
      "44/44 [==============================] - 0s 2ms/step - loss: 61.0190 - mae: 5.7355 - val_loss: 106.9186 - val_mae: 8.0302\n",
      "Epoch 68/100\n",
      "44/44 [==============================] - 0s 1ms/step - loss: 62.2245 - mae: 5.8436 - val_loss: 96.0770 - val_mae: 7.2233\n",
      "Epoch 69/100\n",
      "44/44 [==============================] - 0s 2ms/step - loss: 60.1050 - mae: 5.6820 - val_loss: 103.7428 - val_mae: 7.6671\n",
      "Epoch 70/100\n",
      "44/44 [==============================] - 0s 2ms/step - loss: 58.8951 - mae: 5.6400 - val_loss: 96.4435 - val_mae: 7.2606\n",
      "Epoch 71/100\n",
      "44/44 [==============================] - 0s 2ms/step - loss: 58.9814 - mae: 5.6166 - val_loss: 97.9687 - val_mae: 7.5483\n",
      "Epoch 72/100\n",
      "44/44 [==============================] - 0s 2ms/step - loss: 58.1479 - mae: 5.5483 - val_loss: 101.8373 - val_mae: 7.6629\n",
      "Epoch 73/100\n",
      "44/44 [==============================] - 0s 2ms/step - loss: 57.6520 - mae: 5.5190 - val_loss: 104.4072 - val_mae: 7.8350\n",
      "Epoch 74/100\n",
      "44/44 [==============================] - 0s 2ms/step - loss: 56.6526 - mae: 5.4670 - val_loss: 103.7684 - val_mae: 7.7767\n",
      "Epoch 75/100\n",
      "44/44 [==============================] - 0s 2ms/step - loss: 56.7087 - mae: 5.4290 - val_loss: 92.3055 - val_mae: 7.2314\n",
      "Epoch 76/100\n",
      "44/44 [==============================] - 0s 2ms/step - loss: 56.0228 - mae: 5.4571 - val_loss: 96.1592 - val_mae: 7.2296\n",
      "Epoch 77/100\n",
      "44/44 [==============================] - 0s 2ms/step - loss: 55.9356 - mae: 5.3846 - val_loss: 101.6061 - val_mae: 7.8639\n",
      "Epoch 78/100\n",
      "44/44 [==============================] - 0s 2ms/step - loss: 54.8051 - mae: 5.3560 - val_loss: 101.6533 - val_mae: 7.6765\n",
      "Epoch 79/100\n",
      "44/44 [==============================] - 0s 2ms/step - loss: 53.9528 - mae: 5.3059 - val_loss: 99.2140 - val_mae: 7.3738\n",
      "Epoch 80/100\n",
      "44/44 [==============================] - 0s 2ms/step - loss: 53.9219 - mae: 5.2950 - val_loss: 100.0380 - val_mae: 7.4584\n",
      "Epoch 81/100\n",
      "44/44 [==============================] - 0s 2ms/step - loss: 53.3336 - mae: 5.2201 - val_loss: 95.9983 - val_mae: 7.4271\n",
      "Epoch 82/100\n",
      "44/44 [==============================] - 0s 2ms/step - loss: 52.5325 - mae: 5.1910 - val_loss: 95.5189 - val_mae: 7.3061\n",
      "Epoch 83/100\n",
      "44/44 [==============================] - 0s 2ms/step - loss: 53.1815 - mae: 5.2494 - val_loss: 97.9019 - val_mae: 7.5159\n",
      "Epoch 84/100\n",
      "44/44 [==============================] - 0s 2ms/step - loss: 52.2847 - mae: 5.1644 - val_loss: 100.2948 - val_mae: 7.7041\n",
      "Epoch 85/100\n",
      "44/44 [==============================] - 0s 2ms/step - loss: 52.6949 - mae: 5.2420 - val_loss: 101.9565 - val_mae: 7.7237\n",
      "Epoch 86/100\n",
      "44/44 [==============================] - 0s 2ms/step - loss: 51.8034 - mae: 5.2058 - val_loss: 99.3603 - val_mae: 7.5536\n",
      "Epoch 87/100\n",
      "44/44 [==============================] - 0s 2ms/step - loss: 52.4103 - mae: 5.2015 - val_loss: 104.1748 - val_mae: 7.6900\n",
      "Epoch 88/100\n",
      "44/44 [==============================] - 0s 2ms/step - loss: 51.4505 - mae: 5.1278 - val_loss: 101.9277 - val_mae: 7.5493\n",
      "Epoch 89/100\n",
      "44/44 [==============================] - 0s 2ms/step - loss: 50.9132 - mae: 5.0898 - val_loss: 97.9605 - val_mae: 7.4747\n",
      "Epoch 90/100\n",
      "44/44 [==============================] - 0s 2ms/step - loss: 49.7373 - mae: 5.0374 - val_loss: 103.3185 - val_mae: 7.7086\n",
      "Epoch 91/100\n",
      "44/44 [==============================] - 0s 2ms/step - loss: 50.4480 - mae: 5.0972 - val_loss: 101.6465 - val_mae: 7.5013\n",
      "Epoch 92/100\n",
      "44/44 [==============================] - 0s 2ms/step - loss: 50.1876 - mae: 5.0699 - val_loss: 114.6919 - val_mae: 8.3917\n",
      "Epoch 93/100\n",
      "44/44 [==============================] - 0s 2ms/step - loss: 49.7794 - mae: 5.0749 - val_loss: 106.0366 - val_mae: 7.7496\n",
      "Epoch 94/100\n",
      "44/44 [==============================] - 0s 2ms/step - loss: 50.0826 - mae: 5.0279 - val_loss: 95.8713 - val_mae: 7.3557\n",
      "Epoch 95/100\n",
      "44/44 [==============================] - 0s 2ms/step - loss: 49.2787 - mae: 5.0347 - val_loss: 91.5006 - val_mae: 7.2456\n",
      "Epoch 96/100\n",
      "44/44 [==============================] - 0s 2ms/step - loss: 48.7969 - mae: 4.9657 - val_loss: 96.1618 - val_mae: 7.4395\n",
      "Epoch 97/100\n",
      "44/44 [==============================] - 0s 2ms/step - loss: 48.7783 - mae: 5.0096 - val_loss: 92.7984 - val_mae: 7.2642\n",
      "Epoch 98/100\n",
      "44/44 [==============================] - 0s 2ms/step - loss: 48.3144 - mae: 4.9805 - val_loss: 93.1134 - val_mae: 7.1605\n",
      "Epoch 99/100\n",
      "44/44 [==============================] - 0s 2ms/step - loss: 47.8365 - mae: 4.9265 - val_loss: 90.5321 - val_mae: 7.1533\n",
      "Epoch 100/100\n",
      "44/44 [==============================] - 0s 2ms/step - loss: 48.6044 - mae: 4.9903 - val_loss: 91.6447 - val_mae: 7.1245\n"
     ]
    }
   ],
   "source": [
    "optimizer = Adam( learning_rate=0.001)\n",
    "model_adam.compile(loss='mse',\n",
    "              optimizer=optimizer,\n",
    "              metrics=['mae'])\n",
    "history_adam = model_adam.fit(X_train_scaled, y_train, validation_data=(X_val_scaled, y_val), epochs=100)"
   ]
  },
  {
   "cell_type": "code",
   "execution_count": 32,
   "id": "79277faf65dbfad4",
   "metadata": {
    "ExecuteTime": {
     "end_time": "2024-01-14T08:21:43.136106Z",
     "start_time": "2024-01-14T08:21:42.902277100Z"
    },
    "collapsed": false
   },
   "outputs": [
    {
     "data": {
      "image/png": "[encoded data removed]",
      "text/plain": [
       "<Figure size 640x480 with 1 Axes>"
      ]
     },
     "metadata": {},
     "output_type": "display_data"
    }
   ],
   "source": [
    "plt.title('Loss / Mean Squared Error')\n",
    "plt.plot(history_adam.history['loss'], label='train')\n",
    "plt.plot(history_adam.history['val_loss'], label='validate')\n",
    "plt.legend()\n",
    "plt.show()"
   ]
  },
  {
   "cell_type": "code",
   "execution_count": 33,
   "id": "2f0ac9f7d96d3da2",
   "metadata": {
    "ExecuteTime": {
     "end_time": "2024-01-14T08:21:43.317854Z",
     "start_time": "2024-01-14T08:21:43.069150900Z"
    },
    "collapsed": false
   },
   "outputs": [
    {
     "name": "stdout",
     "output_type": "stream",
     "text": [
      "11/11 [==============================] - 0s 1ms/step\n",
      "Validation Performance\n"
     ]
    },
    {
     "data": {
      "text/html": [
       "<div>\n",
       "<style scoped>\n",
       "    .dataframe tbody tr th:only-of-type {\n",
       "        vertical-align: middle;\n",
       "    }\n",
       "\n",
       "    .dataframe tbody tr th {\n",
       "        vertical-align: top;\n",
       "    }\n",
       "\n",
       "    .dataframe thead th {\n",
       "        text-align: right;\n",
       "    }\n",
       "</style>\n",
       "<table border=\"1\" class=\"dataframe\">\n",
       "  <thead>\n",
       "    <tr style=\"text-align: right;\">\n",
       "      <th></th>\n",
       "      <th>RMSE</th>\n",
       "      <th>MAE</th>\n",
       "      <th>R-squared</th>\n",
       "      <th>Adj. R-squared</th>\n",
       "    </tr>\n",
       "  </thead>\n",
       "  <tbody>\n",
       "    <tr>\n",
       "      <th>0</th>\n",
       "      <td>9.573125</td>\n",
       "      <td>7.124484</td>\n",
       "      <td>0.744366</td>\n",
       "      <td>0.731237</td>\n",
       "    </tr>\n",
       "  </tbody>\n",
       "</table>\n",
       "</div>"
      ],
      "text/plain": [
       "       RMSE       MAE  R-squared  Adj. R-squared\n",
       "0  9.573125  7.124484   0.744366        0.731237"
      ]
     },
     "execution_count": 33,
     "metadata": {},
     "output_type": "execute_result"
    }
   ],
   "source": [
    "y_result_adam = model_adam.predict(X_val_scaled)\n",
    "print(\"Validation Performance\\n\")\n",
    "ANN_train_adam = model_performance_regression(X_val_scaled,y_val, y_result_adam)\n",
    "ANN_train_adam"
   ]
  },
  {
   "cell_type": "code",
   "execution_count": 34,
   "id": "2d9cf49e4213a861",
   "metadata": {
    "ExecuteTime": {
     "end_time": "2024-01-14T08:21:43.318894100Z",
     "start_time": "2024-01-14T08:21:43.177313600Z"
    },
    "collapsed": false
   },
   "outputs": [
    {
     "name": "stdout",
     "output_type": "stream",
     "text": [
      "7/7 [==============================] - 0s 921us/step\n",
      "Validation Performance\n"
     ]
    },
    {
     "data": {
      "text/html": [
       "<div>\n",
       "<style scoped>\n",
       "    .dataframe tbody tr th:only-of-type {\n",
       "        vertical-align: middle;\n",
       "    }\n",
       "\n",
       "    .dataframe tbody tr th {\n",
       "        vertical-align: top;\n",
       "    }\n",
       "\n",
       "    .dataframe thead th {\n",
       "        text-align: right;\n",
       "    }\n",
       "</style>\n",
       "<table border=\"1\" class=\"dataframe\">\n",
       "  <thead>\n",
       "    <tr style=\"text-align: right;\">\n",
       "      <th></th>\n",
       "      <th>RMSE</th>\n",
       "      <th>MAE</th>\n",
       "      <th>R-squared</th>\n",
       "      <th>Adj. R-squared</th>\n",
       "    </tr>\n",
       "  </thead>\n",
       "  <tbody>\n",
       "    <tr>\n",
       "      <th>0</th>\n",
       "      <td>13.734005</td>\n",
       "      <td>10.760627</td>\n",
       "      <td>0.463681</td>\n",
       "      <td>0.411878</td>\n",
       "    </tr>\n",
       "  </tbody>\n",
       "</table>\n",
       "</div>"
      ],
      "text/plain": [
       "        RMSE        MAE  R-squared  Adj. R-squared\n",
       "0  13.734005  10.760627   0.463681        0.411878"
      ]
     },
     "execution_count": 34,
     "metadata": {},
     "output_type": "execute_result"
    }
   ],
   "source": [
    "y_result_adam_test = model_adam.predict(X_test_scaled)\n",
    "print(\"Validation Performance\\n\")\n",
    "ANN_test_adam = model_performance_regression(X_test_scaled,y_test, y_result_adam_test)\n",
    "ANN_test_adam"
   ]
  },
  {
   "cell_type": "markdown",
   "id": "9377aeb4e4397028",
   "metadata": {
    "collapsed": false
   },
   "source": [
    "* Try SGD"
   ]
  },
  {
   "cell_type": "code",
   "execution_count": 35,
   "id": "116f95aaf6866c36",
   "metadata": {
    "ExecuteTime": {
     "end_time": "2024-01-14T08:21:43.318894100Z",
     "start_time": "2024-01-14T08:21:43.236024200Z"
    },
    "collapsed": false
   },
   "outputs": [],
   "source": [
    "backend.clear_session()\n",
    "#Fixing the seed for random number generators so that we can ensure we receive the same output everytime\n",
    "np.random.seed(42)\n",
    "random.seed(42)\n",
    "tf.random.set_seed(42)"
   ]
  },
  {
   "cell_type": "code",
   "execution_count": 36,
   "id": "6b8e2dbbfc28bd02",
   "metadata": {
    "ExecuteTime": {
     "end_time": "2024-01-14T08:21:43.320855400Z",
     "start_time": "2024-01-14T08:21:43.242541900Z"
    },
    "collapsed": false
   },
   "outputs": [
    {
     "name": "stdout",
     "output_type": "stream",
     "text": [
      "Model: \"sequential\"\n",
      "_________________________________________________________________\n",
      " Layer (type)                Output Shape              Param #   \n",
      "=================================================================\n",
      " dense (Dense)               (None, 64)                1152      \n",
      "                                                                 \n",
      " dense_1 (Dense)             (None, 32)                2080      \n",
      "                                                                 \n",
      " dense_2 (Dense)             (None, 32)                1056      \n",
      "                                                                 \n",
      " dense_3 (Dense)             (None, 1)                 33        \n",
      "                                                                 \n",
      "=================================================================\n",
      "Total params: 4321 (16.88 KB)\n",
      "Trainable params: 4321 (16.88 KB)\n",
      "Non-trainable params: 0 (0.00 Byte)\n",
      "_________________________________________________________________\n"
     ]
    }
   ],
   "source": [
    "model_sgd = Sequential()\n",
    "model_sgd.add(Dense(64, activation='relu',kernel_initializer='he_uniform', input_shape=(17,)))\n",
    "\n",
    "model_sgd.add(Dense(32, activation='relu',kernel_initializer='he_uniform'))\n",
    "\n",
    "model_sgd.add(Dense(32, activation='relu',kernel_initializer='he_uniform'))\n",
    "\n",
    "model_sgd.add(Dense(1, activation='linear'))\n",
    "\n",
    "model_sgd.summary()"
   ]
  },
  {
   "cell_type": "code",
   "execution_count": 37,
   "id": "dc2154e6bcd1827b",
   "metadata": {
    "ExecuteTime": {
     "end_time": "2024-01-14T08:21:50.832635700Z",
     "start_time": "2024-01-14T08:21:43.290817300Z"
    },
    "collapsed": false
   },
   "outputs": [
    {
     "name": "stdout",
     "output_type": "stream",
     "text": [
      "Epoch 1/100\n",
      "44/44 [==============================] - 0s 4ms/step - loss: 1081.6055 - mae: 26.9737 - val_loss: 254.7174 - val_mae: 13.0221\n",
      "Epoch 2/100\n",
      "44/44 [==============================] - 0s 2ms/step - loss: 406.8262 - mae: 15.7500 - val_loss: 258.2202 - val_mae: 12.8612\n",
      "Epoch 3/100\n",
      "44/44 [==============================] - 0s 2ms/step - loss: 217.5409 - mae: 11.7580 - val_loss: 180.5993 - val_mae: 10.8376\n",
      "Epoch 4/100\n",
      "44/44 [==============================] - 0s 2ms/step - loss: 185.1190 - mae: 10.7175 - val_loss: 340.3510 - val_mae: 14.9027\n",
      "Epoch 5/100\n",
      "44/44 [==============================] - 0s 2ms/step - loss: 199.9686 - mae: 11.2453 - val_loss: 150.4613 - val_mae: 9.5320\n",
      "Epoch 6/100\n",
      "44/44 [==============================] - 0s 2ms/step - loss: 164.5262 - mae: 10.0879 - val_loss: 151.9717 - val_mae: 9.9514\n",
      "Epoch 7/100\n",
      "44/44 [==============================] - 0s 2ms/step - loss: 174.4670 - mae: 10.4800 - val_loss: 141.8557 - val_mae: 9.4126\n",
      "Epoch 8/100\n",
      "44/44 [==============================] - 0s 2ms/step - loss: 154.5761 - mae: 9.7876 - val_loss: 134.6807 - val_mae: 9.1018\n",
      "Epoch 9/100\n",
      "44/44 [==============================] - 0s 2ms/step - loss: 136.1224 - mae: 9.1913 - val_loss: 127.2023 - val_mae: 8.6395\n",
      "Epoch 10/100\n",
      "44/44 [==============================] - 0s 2ms/step - loss: 133.5484 - mae: 9.1564 - val_loss: 258.4056 - val_mae: 12.3599\n",
      "Epoch 11/100\n",
      "44/44 [==============================] - 0s 2ms/step - loss: 146.1056 - mae: 9.4289 - val_loss: 107.5735 - val_mae: 8.0496\n",
      "Epoch 12/100\n",
      "44/44 [==============================] - 0s 1ms/step - loss: 137.0836 - mae: 9.0888 - val_loss: 263.1393 - val_mae: 13.4411\n",
      "Epoch 13/100\n",
      "44/44 [==============================] - 0s 2ms/step - loss: 124.0553 - mae: 8.8019 - val_loss: 128.7881 - val_mae: 8.6029\n",
      "Epoch 14/100\n",
      "44/44 [==============================] - 0s 1ms/step - loss: 109.4302 - mae: 8.1534 - val_loss: 117.7060 - val_mae: 8.4047\n",
      "Epoch 15/100\n",
      "44/44 [==============================] - 0s 1ms/step - loss: 143.7015 - mae: 9.2473 - val_loss: 152.1587 - val_mae: 9.6452\n",
      "Epoch 16/100\n",
      "44/44 [==============================] - 0s 2ms/step - loss: 132.2120 - mae: 8.9869 - val_loss: 302.2488 - val_mae: 14.5591\n",
      "Epoch 17/100\n",
      "44/44 [==============================] - 0s 2ms/step - loss: 115.8577 - mae: 8.3908 - val_loss: 103.1061 - val_mae: 7.6893\n",
      "Epoch 18/100\n",
      "44/44 [==============================] - 0s 2ms/step - loss: 113.3063 - mae: 8.2446 - val_loss: 203.7489 - val_mae: 11.8690\n",
      "Epoch 19/100\n",
      "44/44 [==============================] - 0s 2ms/step - loss: 129.6061 - mae: 8.9559 - val_loss: 280.1667 - val_mae: 14.2203\n",
      "Epoch 20/100\n",
      "44/44 [==============================] - 0s 2ms/step - loss: 127.7936 - mae: 8.8198 - val_loss: 192.7636 - val_mae: 10.8186\n",
      "Epoch 21/100\n",
      "44/44 [==============================] - 0s 2ms/step - loss: 117.2318 - mae: 8.4414 - val_loss: 127.3446 - val_mae: 8.4168\n",
      "Epoch 22/100\n",
      "44/44 [==============================] - 0s 2ms/step - loss: 93.4932 - mae: 7.4816 - val_loss: 291.0592 - val_mae: 13.5578\n",
      "Epoch 23/100\n",
      "44/44 [==============================] - 0s 1ms/step - loss: 129.1447 - mae: 8.6017 - val_loss: 140.5398 - val_mae: 8.9997\n",
      "Epoch 24/100\n",
      "44/44 [==============================] - 0s 2ms/step - loss: 94.7851 - mae: 7.6245 - val_loss: 262.7375 - val_mae: 13.8073\n",
      "Epoch 25/100\n",
      "44/44 [==============================] - 0s 2ms/step - loss: 96.2472 - mae: 7.6232 - val_loss: 119.3466 - val_mae: 8.3350\n",
      "Epoch 26/100\n",
      "44/44 [==============================] - 0s 2ms/step - loss: 118.9505 - mae: 8.4625 - val_loss: 104.8551 - val_mae: 7.9073\n",
      "Epoch 27/100\n",
      "44/44 [==============================] - 0s 2ms/step - loss: 103.1516 - mae: 7.8763 - val_loss: 128.3265 - val_mae: 8.7787\n",
      "Epoch 28/100\n",
      "44/44 [==============================] - 0s 2ms/step - loss: 97.1419 - mae: 7.6541 - val_loss: 161.1659 - val_mae: 10.2317\n",
      "Epoch 29/100\n",
      "44/44 [==============================] - 0s 2ms/step - loss: 81.8325 - mae: 6.9352 - val_loss: 291.1524 - val_mae: 13.5617\n",
      "Epoch 30/100\n",
      "44/44 [==============================] - 0s 2ms/step - loss: 106.6186 - mae: 7.8096 - val_loss: 102.5747 - val_mae: 7.6633\n",
      "Epoch 31/100\n",
      "44/44 [==============================] - 0s 2ms/step - loss: 91.0684 - mae: 7.3247 - val_loss: 101.3908 - val_mae: 7.8572\n",
      "Epoch 32/100\n",
      "44/44 [==============================] - 0s 2ms/step - loss: 94.0832 - mae: 7.4539 - val_loss: 183.8572 - val_mae: 11.1598\n",
      "Epoch 33/100\n",
      "44/44 [==============================] - 0s 2ms/step - loss: 79.6624 - mae: 6.8879 - val_loss: 196.0107 - val_mae: 11.0406\n",
      "Epoch 34/100\n",
      "44/44 [==============================] - 0s 1ms/step - loss: 87.4920 - mae: 7.3112 - val_loss: 109.9841 - val_mae: 7.6959\n",
      "Epoch 35/100\n",
      "44/44 [==============================] - 0s 2ms/step - loss: 92.5186 - mae: 7.5127 - val_loss: 96.1317 - val_mae: 7.1492\n",
      "Epoch 36/100\n",
      "44/44 [==============================] - 0s 2ms/step - loss: 82.6222 - mae: 6.9695 - val_loss: 124.0169 - val_mae: 8.7263\n",
      "Epoch 37/100\n",
      "44/44 [==============================] - 0s 2ms/step - loss: 89.6615 - mae: 7.3182 - val_loss: 136.8168 - val_mae: 9.3580\n",
      "Epoch 38/100\n",
      "44/44 [==============================] - 0s 2ms/step - loss: 78.5958 - mae: 6.7498 - val_loss: 136.7419 - val_mae: 9.2267\n",
      "Epoch 39/100\n",
      "44/44 [==============================] - 0s 2ms/step - loss: 88.3814 - mae: 7.2755 - val_loss: 120.5825 - val_mae: 8.3883\n",
      "Epoch 40/100\n",
      "44/44 [==============================] - 0s 2ms/step - loss: 93.7917 - mae: 7.2671 - val_loss: 95.6753 - val_mae: 7.4762\n",
      "Epoch 41/100\n",
      "44/44 [==============================] - 0s 2ms/step - loss: 78.5565 - mae: 6.7913 - val_loss: 216.2883 - val_mae: 10.8445\n",
      "Epoch 42/100\n",
      "44/44 [==============================] - 0s 2ms/step - loss: 77.9981 - mae: 6.6429 - val_loss: 103.2743 - val_mae: 7.9605\n",
      "Epoch 43/100\n",
      "44/44 [==============================] - 0s 2ms/step - loss: 70.6268 - mae: 6.4226 - val_loss: 174.7201 - val_mae: 10.3251\n",
      "Epoch 44/100\n",
      "44/44 [==============================] - 0s 2ms/step - loss: 82.9559 - mae: 6.9257 - val_loss: 99.5295 - val_mae: 7.4697\n",
      "Epoch 45/100\n",
      "44/44 [==============================] - 0s 2ms/step - loss: 80.2235 - mae: 6.8463 - val_loss: 170.9331 - val_mae: 10.2386\n",
      "Epoch 46/100\n",
      "44/44 [==============================] - 0s 2ms/step - loss: 76.9967 - mae: 6.6138 - val_loss: 112.6355 - val_mae: 7.9260\n",
      "Epoch 47/100\n",
      "44/44 [==============================] - 0s 2ms/step - loss: 75.7586 - mae: 6.6230 - val_loss: 114.4833 - val_mae: 8.2061\n",
      "Epoch 48/100\n",
      "44/44 [==============================] - 0s 2ms/step - loss: 70.5004 - mae: 6.3997 - val_loss: 137.2899 - val_mae: 9.3817\n",
      "Epoch 49/100\n",
      "44/44 [==============================] - 0s 2ms/step - loss: 79.3156 - mae: 6.8403 - val_loss: 94.7879 - val_mae: 7.2046\n",
      "Epoch 50/100\n",
      "44/44 [==============================] - 0s 2ms/step - loss: 65.4167 - mae: 6.1937 - val_loss: 88.4162 - val_mae: 7.0500\n",
      "Epoch 51/100\n",
      "44/44 [==============================] - 0s 2ms/step - loss: 67.8386 - mae: 6.2614 - val_loss: 99.6022 - val_mae: 7.8226\n",
      "Epoch 52/100\n",
      "44/44 [==============================] - 0s 2ms/step - loss: 75.4363 - mae: 6.5828 - val_loss: 97.1053 - val_mae: 7.3803\n",
      "Epoch 53/100\n",
      "44/44 [==============================] - 0s 2ms/step - loss: 53.3337 - mae: 5.4684 - val_loss: 79.8344 - val_mae: 6.7067\n",
      "Epoch 54/100\n",
      "44/44 [==============================] - 0s 2ms/step - loss: 72.7785 - mae: 6.6468 - val_loss: 93.5070 - val_mae: 7.0294\n",
      "Epoch 55/100\n",
      "44/44 [==============================] - 0s 2ms/step - loss: 62.1958 - mae: 6.0301 - val_loss: 187.1330 - val_mae: 11.1353\n",
      "Epoch 56/100\n",
      "44/44 [==============================] - 0s 2ms/step - loss: 72.3777 - mae: 6.5222 - val_loss: 93.1412 - val_mae: 7.1437\n",
      "Epoch 57/100\n",
      "44/44 [==============================] - 0s 2ms/step - loss: 63.9537 - mae: 6.0895 - val_loss: 86.2139 - val_mae: 6.9798\n",
      "Epoch 58/100\n",
      "44/44 [==============================] - 0s 2ms/step - loss: 55.6300 - mae: 5.6494 - val_loss: 112.2872 - val_mae: 8.3284\n",
      "Epoch 59/100\n",
      "44/44 [==============================] - 0s 2ms/step - loss: 56.9759 - mae: 5.7645 - val_loss: 91.7641 - val_mae: 7.1256\n",
      "Epoch 60/100\n",
      "44/44 [==============================] - 0s 2ms/step - loss: 61.1856 - mae: 6.0659 - val_loss: 94.7574 - val_mae: 7.3210\n",
      "Epoch 61/100\n",
      "44/44 [==============================] - 0s 2ms/step - loss: 59.1916 - mae: 5.7821 - val_loss: 92.3452 - val_mae: 7.3190\n",
      "Epoch 62/100\n",
      "44/44 [==============================] - 0s 2ms/step - loss: 53.9536 - mae: 5.5698 - val_loss: 104.2303 - val_mae: 7.5886\n",
      "Epoch 63/100\n",
      "44/44 [==============================] - 0s 2ms/step - loss: 61.5532 - mae: 6.0839 - val_loss: 128.7907 - val_mae: 8.8823\n",
      "Epoch 64/100\n",
      "44/44 [==============================] - 0s 2ms/step - loss: 70.4950 - mae: 6.5211 - val_loss: 129.9922 - val_mae: 9.0072\n",
      "Epoch 65/100\n",
      "44/44 [==============================] - 0s 1ms/step - loss: 65.1128 - mae: 6.1091 - val_loss: 113.3722 - val_mae: 8.3142\n",
      "Epoch 66/100\n",
      "44/44 [==============================] - 0s 1ms/step - loss: 63.2762 - mae: 6.0624 - val_loss: 91.1722 - val_mae: 6.7982\n",
      "Epoch 67/100\n",
      "44/44 [==============================] - 0s 1ms/step - loss: 52.4552 - mae: 5.4984 - val_loss: 91.9431 - val_mae: 7.1618\n",
      "Epoch 68/100\n",
      "44/44 [==============================] - 0s 2ms/step - loss: 57.9722 - mae: 5.7807 - val_loss: 83.1228 - val_mae: 6.7440\n",
      "Epoch 69/100\n",
      "44/44 [==============================] - 0s 1ms/step - loss: 51.3940 - mae: 5.5293 - val_loss: 76.7292 - val_mae: 6.5678\n",
      "Epoch 70/100\n",
      "44/44 [==============================] - 0s 1ms/step - loss: 55.5461 - mae: 5.6056 - val_loss: 73.0871 - val_mae: 6.1819\n",
      "Epoch 71/100\n",
      "44/44 [==============================] - 0s 1ms/step - loss: 59.3472 - mae: 5.8726 - val_loss: 95.0878 - val_mae: 7.5183\n",
      "Epoch 72/100\n",
      "44/44 [==============================] - 0s 2ms/step - loss: 45.9176 - mae: 5.1583 - val_loss: 112.0512 - val_mae: 8.1864\n",
      "Epoch 73/100\n",
      "44/44 [==============================] - 0s 1ms/step - loss: 57.9015 - mae: 5.7455 - val_loss: 128.2234 - val_mae: 8.7691\n",
      "Epoch 74/100\n",
      "44/44 [==============================] - 0s 2ms/step - loss: 61.0845 - mae: 5.9930 - val_loss: 81.6827 - val_mae: 6.8674\n",
      "Epoch 75/100\n",
      "44/44 [==============================] - 0s 2ms/step - loss: 55.2390 - mae: 5.7107 - val_loss: 133.1714 - val_mae: 9.1503\n",
      "Epoch 76/100\n",
      "44/44 [==============================] - 0s 1ms/step - loss: 56.3829 - mae: 5.6109 - val_loss: 106.4934 - val_mae: 7.9564\n",
      "Epoch 77/100\n",
      "44/44 [==============================] - 0s 2ms/step - loss: 43.5773 - mae: 4.9019 - val_loss: 94.8125 - val_mae: 7.1390\n",
      "Epoch 78/100\n",
      "44/44 [==============================] - 0s 1ms/step - loss: 62.3933 - mae: 6.0496 - val_loss: 67.2005 - val_mae: 6.1181\n",
      "Epoch 79/100\n",
      "44/44 [==============================] - 0s 1ms/step - loss: 56.0679 - mae: 5.7216 - val_loss: 94.9426 - val_mae: 7.3579\n",
      "Epoch 80/100\n",
      "44/44 [==============================] - 0s 2ms/step - loss: 49.3705 - mae: 5.2949 - val_loss: 93.1435 - val_mae: 7.2972\n",
      "Epoch 81/100\n",
      "44/44 [==============================] - 0s 1ms/step - loss: 52.4024 - mae: 5.5272 - val_loss: 108.3287 - val_mae: 8.0238\n",
      "Epoch 82/100\n",
      "44/44 [==============================] - 0s 1ms/step - loss: 52.5325 - mae: 5.4972 - val_loss: 78.6693 - val_mae: 6.5803\n",
      "Epoch 83/100\n",
      "44/44 [==============================] - 0s 2ms/step - loss: 55.7399 - mae: 5.7964 - val_loss: 82.5682 - val_mae: 6.8085\n",
      "Epoch 84/100\n",
      "44/44 [==============================] - 0s 2ms/step - loss: 55.4111 - mae: 5.6793 - val_loss: 83.0035 - val_mae: 6.6804\n",
      "Epoch 85/100\n",
      "44/44 [==============================] - 0s 2ms/step - loss: 42.1363 - mae: 4.8422 - val_loss: 96.9180 - val_mae: 7.2816\n",
      "Epoch 86/100\n",
      "44/44 [==============================] - 0s 2ms/step - loss: 49.4513 - mae: 5.3232 - val_loss: 83.5555 - val_mae: 6.9068\n",
      "Epoch 87/100\n",
      "44/44 [==============================] - 0s 2ms/step - loss: 50.7403 - mae: 5.4243 - val_loss: 120.6018 - val_mae: 8.4337\n",
      "Epoch 88/100\n",
      "44/44 [==============================] - 0s 1ms/step - loss: 39.1682 - mae: 4.6503 - val_loss: 102.4684 - val_mae: 7.5693\n",
      "Epoch 89/100\n",
      "44/44 [==============================] - 0s 1ms/step - loss: 48.4547 - mae: 5.3313 - val_loss: 76.1077 - val_mae: 6.3592\n",
      "Epoch 90/100\n",
      "44/44 [==============================] - 0s 1ms/step - loss: 51.8686 - mae: 5.5233 - val_loss: 77.5389 - val_mae: 6.4963\n",
      "Epoch 91/100\n",
      "44/44 [==============================] - 0s 1ms/step - loss: 46.7711 - mae: 5.0987 - val_loss: 77.3715 - val_mae: 6.4615\n",
      "Epoch 92/100\n",
      "44/44 [==============================] - 0s 2ms/step - loss: 46.1116 - mae: 5.1563 - val_loss: 125.2071 - val_mae: 8.3084\n",
      "Epoch 93/100\n",
      "44/44 [==============================] - 0s 2ms/step - loss: 44.4025 - mae: 4.9433 - val_loss: 101.4469 - val_mae: 7.6618\n",
      "Epoch 94/100\n",
      "44/44 [==============================] - 0s 2ms/step - loss: 48.8776 - mae: 5.3047 - val_loss: 88.1906 - val_mae: 7.0412\n",
      "Epoch 95/100\n",
      "44/44 [==============================] - 0s 1ms/step - loss: 38.8491 - mae: 4.5769 - val_loss: 80.6158 - val_mae: 6.4279\n",
      "Epoch 96/100\n",
      "44/44 [==============================] - 0s 1ms/step - loss: 39.2562 - mae: 4.6558 - val_loss: 75.0891 - val_mae: 6.4825\n",
      "Epoch 97/100\n",
      "44/44 [==============================] - 0s 1ms/step - loss: 46.0030 - mae: 5.1335 - val_loss: 76.0998 - val_mae: 6.3040\n",
      "Epoch 98/100\n",
      "44/44 [==============================] - 0s 1ms/step - loss: 45.5095 - mae: 5.1329 - val_loss: 86.7207 - val_mae: 6.8216\n",
      "Epoch 99/100\n",
      "44/44 [==============================] - 0s 1ms/step - loss: 40.0992 - mae: 4.7256 - val_loss: 105.9240 - val_mae: 8.1295\n",
      "Epoch 100/100\n",
      "44/44 [==============================] - 0s 1ms/step - loss: 45.6136 - mae: 4.9958 - val_loss: 90.2160 - val_mae: 7.0987\n"
     ]
    }
   ],
   "source": [
    "optimizer = SGD( learning_rate=0.001)\n",
    "model_sgd.compile(loss='mse',\n",
    "              optimizer=optimizer,\n",
    "              metrics=['mae'])\n",
    "history_sgd = model_sgd.fit(X_train_scaled, y_train, validation_data=(X_val_scaled, y_val), epochs=100)"
   ]
  },
  {
   "cell_type": "code",
   "execution_count": 38,
   "id": "65850e21d9619c3",
   "metadata": {
    "ExecuteTime": {
     "end_time": "2024-01-14T08:21:50.923119400Z",
     "start_time": "2024-01-14T08:21:50.782598200Z"
    },
    "collapsed": false
   },
   "outputs": [
    {
     "data": {
      "image/png": "[encoded data removed]",
      "text/plain": [
       "<Figure size 640x480 with 1 Axes>"
      ]
     },
     "metadata": {},
     "output_type": "display_data"
    }
   ],
   "source": [
    "plt.title('Loss / Mean Squared Error')\n",
    "plt.plot(history_sgd.history['loss'], label='train')\n",
    "plt.plot(history_sgd.history['val_loss'], label='validate')\n",
    "plt.legend()\n",
    "plt.show()"
   ]
  },
  {
   "cell_type": "code",
   "execution_count": 39,
   "id": "44e5bc54f86cc261",
   "metadata": {
    "ExecuteTime": {
     "end_time": "2024-01-14T08:21:51.066816900Z",
     "start_time": "2024-01-14T08:21:50.907582900Z"
    },
    "collapsed": false
   },
   "outputs": [
    {
     "name": "stdout",
     "output_type": "stream",
     "text": [
      "11/11 [==============================] - 0s 951us/step\n",
      "Validation Performance\n"
     ]
    },
    {
     "data": {
      "text/html": [
       "<div>\n",
       "<style scoped>\n",
       "    .dataframe tbody tr th:only-of-type {\n",
       "        vertical-align: middle;\n",
       "    }\n",
       "\n",
       "    .dataframe tbody tr th {\n",
       "        vertical-align: top;\n",
       "    }\n",
       "\n",
       "    .dataframe thead th {\n",
       "        text-align: right;\n",
       "    }\n",
       "</style>\n",
       "<table border=\"1\" class=\"dataframe\">\n",
       "  <thead>\n",
       "    <tr style=\"text-align: right;\">\n",
       "      <th></th>\n",
       "      <th>RMSE</th>\n",
       "      <th>MAE</th>\n",
       "      <th>R-squared</th>\n",
       "      <th>Adj. R-squared</th>\n",
       "    </tr>\n",
       "  </thead>\n",
       "  <tbody>\n",
       "    <tr>\n",
       "      <th>0</th>\n",
       "      <td>9.49821</td>\n",
       "      <td>7.098654</td>\n",
       "      <td>0.748351</td>\n",
       "      <td>0.735427</td>\n",
       "    </tr>\n",
       "  </tbody>\n",
       "</table>\n",
       "</div>"
      ],
      "text/plain": [
       "      RMSE       MAE  R-squared  Adj. R-squared\n",
       "0  9.49821  7.098654   0.748351        0.735427"
      ]
     },
     "execution_count": 39,
     "metadata": {},
     "output_type": "execute_result"
    }
   ],
   "source": [
    "y_result_sgd = model_sgd.predict(X_val_scaled)\n",
    "print(\"Validation Performance\\n\")\n",
    "ANN_train_sgd = model_performance_regression(X_val_scaled,y_val, y_result_sgd)\n",
    "ANN_train_sgd"
   ]
  },
  {
   "cell_type": "code",
   "execution_count": 40,
   "id": "240ee00cfdc0b022",
   "metadata": {
    "ExecuteTime": {
     "end_time": "2024-01-14T08:21:51.148656600Z",
     "start_time": "2024-01-14T08:21:51.001544800Z"
    },
    "collapsed": false
   },
   "outputs": [
    {
     "name": "stdout",
     "output_type": "stream",
     "text": [
      "7/7 [==============================] - 0s 1ms/step\n",
      "Test Performance\n"
     ]
    },
    {
     "data": {
      "text/html": [
       "<div>\n",
       "<style scoped>\n",
       "    .dataframe tbody tr th:only-of-type {\n",
       "        vertical-align: middle;\n",
       "    }\n",
       "\n",
       "    .dataframe tbody tr th {\n",
       "        vertical-align: top;\n",
       "    }\n",
       "\n",
       "    .dataframe thead th {\n",
       "        text-align: right;\n",
       "    }\n",
       "</style>\n",
       "<table border=\"1\" class=\"dataframe\">\n",
       "  <thead>\n",
       "    <tr style=\"text-align: right;\">\n",
       "      <th></th>\n",
       "      <th>RMSE</th>\n",
       "      <th>MAE</th>\n",
       "      <th>R-squared</th>\n",
       "      <th>Adj. R-squared</th>\n",
       "    </tr>\n",
       "  </thead>\n",
       "  <tbody>\n",
       "    <tr>\n",
       "      <th>0</th>\n",
       "      <td>10.797722</td>\n",
       "      <td>8.234684</td>\n",
       "      <td>0.668493</td>\n",
       "      <td>0.636472</td>\n",
       "    </tr>\n",
       "  </tbody>\n",
       "</table>\n",
       "</div>"
      ],
      "text/plain": [
       "        RMSE       MAE  R-squared  Adj. R-squared\n",
       "0  10.797722  8.234684   0.668493        0.636472"
      ]
     },
     "execution_count": 40,
     "metadata": {},
     "output_type": "execute_result"
    }
   ],
   "source": [
    "y_result_sgd_test = model_sgd.predict(X_test_scaled)\n",
    "print(\"Test Performance\\n\")\n",
    "ANN_test_sgd = model_performance_regression(X_test_scaled,y_test, y_result_sgd_test)\n",
    "ANN_test_sgd"
   ]
  },
  {
   "cell_type": "markdown",
   "id": "6f27cfa08d51bb87",
   "metadata": {
    "collapsed": false
   },
   "source": [
    "## Short summary"
   ]
  },
  {
   "cell_type": "code",
   "execution_count": 41,
   "id": "50d5a290568afad8",
   "metadata": {
    "ExecuteTime": {
     "end_time": "2024-01-14T08:21:51.222034300Z",
     "start_time": "2024-01-14T08:21:51.063807200Z"
    },
    "collapsed": false
   },
   "outputs": [
    {
     "name": "stdout",
     "output_type": "stream",
     "text": [
      "Training performance comparison:\n"
     ]
    },
    {
     "data": {
      "text/html": [
       "<div>\n",
       "<style scoped>\n",
       "    .dataframe tbody tr th:only-of-type {\n",
       "        vertical-align: middle;\n",
       "    }\n",
       "\n",
       "    .dataframe tbody tr th {\n",
       "        vertical-align: top;\n",
       "    }\n",
       "\n",
       "    .dataframe thead th {\n",
       "        text-align: right;\n",
       "    }\n",
       "</style>\n",
       "<table border=\"1\" class=\"dataframe\">\n",
       "  <thead>\n",
       "    <tr style=\"text-align: right;\">\n",
       "      <th></th>\n",
       "      <th>RMSprop</th>\n",
       "      <th>Adam</th>\n",
       "      <th>SGD</th>\n",
       "    </tr>\n",
       "  </thead>\n",
       "  <tbody>\n",
       "    <tr>\n",
       "      <th>RMSE</th>\n",
       "      <td>10.220361</td>\n",
       "      <td>9.573125</td>\n",
       "      <td>9.498210</td>\n",
       "    </tr>\n",
       "    <tr>\n",
       "      <th>MAE</th>\n",
       "      <td>7.930508</td>\n",
       "      <td>7.124484</td>\n",
       "      <td>7.098654</td>\n",
       "    </tr>\n",
       "    <tr>\n",
       "      <th>R-squared</th>\n",
       "      <td>0.708631</td>\n",
       "      <td>0.744366</td>\n",
       "      <td>0.748351</td>\n",
       "    </tr>\n",
       "    <tr>\n",
       "      <th>Adj. R-squared</th>\n",
       "      <td>0.693666</td>\n",
       "      <td>0.731237</td>\n",
       "      <td>0.735427</td>\n",
       "    </tr>\n",
       "  </tbody>\n",
       "</table>\n",
       "</div>"
      ],
      "text/plain": [
       "                  RMSprop      Adam       SGD\n",
       "RMSE            10.220361  9.573125  9.498210\n",
       "MAE              7.930508  7.124484  7.098654\n",
       "R-squared        0.708631  0.744366  0.748351\n",
       "Adj. R-squared   0.693666  0.731237  0.735427"
      ]
     },
     "execution_count": 41,
     "metadata": {},
     "output_type": "execute_result"
    }
   ],
   "source": [
    "models_train_comp_df = pd.concat(\n",
    "    [\n",
    "        ANN_train.T,\n",
    "        ANN_train_adam.T,\n",
    "        ANN_train_sgd.T,\n",
    "        ],\n",
    "    axis=1,\n",
    ")\n",
    "\n",
    "models_train_comp_df.columns = [\n",
    "    'RMSprop',\n",
    "    'Adam',\n",
    "    'SGD'\n",
    "]\n",
    "\n",
    "print(\"Training performance comparison:\")\n",
    "models_train_comp_df"
   ]
  },
  {
   "cell_type": "code",
   "execution_count": 42,
   "id": "a4e00aef3e161235",
   "metadata": {
    "ExecuteTime": {
     "end_time": "2024-01-14T08:21:51.295874400Z",
     "start_time": "2024-01-14T08:21:51.070997700Z"
    },
    "collapsed": false
   },
   "outputs": [
    {
     "name": "stdout",
     "output_type": "stream",
     "text": [
      "Testing performance comparison:\n"
     ]
    },
    {
     "data": {
      "text/html": [
       "<div>\n",
       "<style scoped>\n",
       "    .dataframe tbody tr th:only-of-type {\n",
       "        vertical-align: middle;\n",
       "    }\n",
       "\n",
       "    .dataframe tbody tr th {\n",
       "        vertical-align: top;\n",
       "    }\n",
       "\n",
       "    .dataframe thead th {\n",
       "        text-align: right;\n",
       "    }\n",
       "</style>\n",
       "<table border=\"1\" class=\"dataframe\">\n",
       "  <thead>\n",
       "    <tr style=\"text-align: right;\">\n",
       "      <th></th>\n",
       "      <th>RMSprop</th>\n",
       "      <th>Adam</th>\n",
       "      <th>SGD</th>\n",
       "    </tr>\n",
       "  </thead>\n",
       "  <tbody>\n",
       "    <tr>\n",
       "      <th>RMSE</th>\n",
       "      <td>12.414396</td>\n",
       "      <td>13.734005</td>\n",
       "      <td>10.797722</td>\n",
       "    </tr>\n",
       "    <tr>\n",
       "      <th>MAE</th>\n",
       "      <td>9.457191</td>\n",
       "      <td>10.760627</td>\n",
       "      <td>8.234684</td>\n",
       "    </tr>\n",
       "    <tr>\n",
       "      <th>R-squared</th>\n",
       "      <td>0.561793</td>\n",
       "      <td>0.463681</td>\n",
       "      <td>0.668493</td>\n",
       "    </tr>\n",
       "    <tr>\n",
       "      <th>Adj. R-squared</th>\n",
       "      <td>0.519466</td>\n",
       "      <td>0.411878</td>\n",
       "      <td>0.636472</td>\n",
       "    </tr>\n",
       "  </tbody>\n",
       "</table>\n",
       "</div>"
      ],
      "text/plain": [
       "                  RMSprop       Adam        SGD\n",
       "RMSE            12.414396  13.734005  10.797722\n",
       "MAE              9.457191  10.760627   8.234684\n",
       "R-squared        0.561793   0.463681   0.668493\n",
       "Adj. R-squared   0.519466   0.411878   0.636472"
      ]
     },
     "execution_count": 42,
     "metadata": {},
     "output_type": "execute_result"
    }
   ],
   "source": [
    "models_train_comp_df = pd.concat(\n",
    "    [\n",
    "        ANN_test.T,\n",
    "        ANN_test_adam.T,\n",
    "        ANN_test_sgd.T,\n",
    "    ],\n",
    "    axis=1,\n",
    ")\n",
    "\n",
    "models_train_comp_df.columns = [\n",
    "    'RMSprop',\n",
    "    'Adam',\n",
    "    'SGD'\n",
    "]\n",
    "\n",
    "print(\"Testing performance comparison:\")\n",
    "models_train_comp_df"
   ]
  },
  {
   "cell_type": "markdown",
   "id": "3c984d965f454a47",
   "metadata": {
    "collapsed": false
   },
   "source": [
    "# Model 2 (Early Stopping)"
   ]
  },
  {
   "cell_type": "code",
   "execution_count": 43,
   "id": "f1533113f2d81f53",
   "metadata": {
    "ExecuteTime": {
     "end_time": "2024-01-14T08:21:51.295874400Z",
     "start_time": "2024-01-14T08:21:51.078721700Z"
    },
    "collapsed": false
   },
   "outputs": [],
   "source": [
    "backend.clear_session()\n",
    "#Fixing the seed for random number generators so that we can ensure we receive the same output everytime\n",
    "np.random.seed(42)\n",
    "random.seed(42)\n",
    "tf.random.set_seed(42)"
   ]
  },
  {
   "cell_type": "code",
   "execution_count": 44,
   "id": "a92c63678d72abaf",
   "metadata": {
    "ExecuteTime": {
     "end_time": "2024-01-14T08:21:51.300955900Z",
     "start_time": "2024-01-14T08:21:51.088975400Z"
    },
    "collapsed": false
   },
   "outputs": [
    {
     "name": "stdout",
     "output_type": "stream",
     "text": [
      "Model: \"sequential\"\n",
      "_________________________________________________________________\n",
      " Layer (type)                Output Shape              Param #   \n",
      "=================================================================\n",
      " dense (Dense)               (None, 64)                1152      \n",
      "                                                                 \n",
      " dense_1 (Dense)             (None, 32)                2080      \n",
      "                                                                 \n",
      " dense_2 (Dense)             (None, 32)                1056      \n",
      "                                                                 \n",
      " dense_3 (Dense)             (None, 1)                 33        \n",
      "                                                                 \n",
      "=================================================================\n",
      "Total params: 4321 (16.88 KB)\n",
      "Trainable params: 4321 (16.88 KB)\n",
      "Non-trainable params: 0 (0.00 Byte)\n",
      "_________________________________________________________________\n"
     ]
    }
   ],
   "source": [
    "# Initializing the model\n",
    "model_ES = Sequential()\n",
    "# Adding input layer with 64 neurons, relu as activation function and, he_uniform as weight initializer.\n",
    "model_ES.add(Dense(64, activation='relu',kernel_initializer='he_uniform', input_shape=(17,)))\n",
    "# Adding the first hidden layer with 32 neurons, relu as activation function and, he_uniform as weight initializer\n",
    "model_ES.add(Dense(32, activation='relu',kernel_initializer='he_uniform'))\n",
    "# Adding the second hidden layer with 32 neurons, relu as activation function and, he_uniform as weight initializer\n",
    "model_ES.add(Dense(32, activation='relu',kernel_initializer='he_uniform'))\n",
    "# Adding the output layer with one neuron and linear as activation\n",
    "model_ES.add(Dense(1, activation='linear'))\n",
    "\n",
    "model_ES.summary()"
   ]
  },
  {
   "cell_type": "code",
   "execution_count": 45,
   "id": "2caa2f37d0a6ee43",
   "metadata": {
    "ExecuteTime": {
     "end_time": "2024-01-14T08:21:52.904380Z",
     "start_time": "2024-01-14T08:21:51.136117300Z"
    },
    "collapsed": false
   },
   "outputs": [
    {
     "name": "stdout",
     "output_type": "stream",
     "text": [
      "Epoch 1/100\n",
      "44/44 [==============================] - 0s 4ms/step - loss: 1081.6055 - mae: 26.9737 - val_loss: 254.7174 - val_mae: 13.0221\n",
      "Epoch 2/100\n",
      "44/44 [==============================] - 0s 2ms/step - loss: 406.8262 - mae: 15.7500 - val_loss: 258.2202 - val_mae: 12.8612\n",
      "Epoch 3/100\n",
      "44/44 [==============================] - 0s 2ms/step - loss: 217.5409 - mae: 11.7580 - val_loss: 180.5993 - val_mae: 10.8376\n",
      "Epoch 4/100\n",
      "44/44 [==============================] - 0s 2ms/step - loss: 185.1190 - mae: 10.7175 - val_loss: 340.3510 - val_mae: 14.9027\n",
      "Epoch 5/100\n",
      "44/44 [==============================] - 0s 2ms/step - loss: 199.9686 - mae: 11.2453 - val_loss: 150.4613 - val_mae: 9.5320\n",
      "Epoch 6/100\n",
      "44/44 [==============================] - 0s 2ms/step - loss: 164.5262 - mae: 10.0879 - val_loss: 151.9717 - val_mae: 9.9514\n",
      "Epoch 7/100\n",
      "44/44 [==============================] - 0s 2ms/step - loss: 174.4670 - mae: 10.4800 - val_loss: 141.8557 - val_mae: 9.4126\n",
      "Epoch 8/100\n",
      "44/44 [==============================] - 0s 2ms/step - loss: 154.5761 - mae: 9.7876 - val_loss: 134.6807 - val_mae: 9.1018\n",
      "Epoch 9/100\n",
      "44/44 [==============================] - 0s 1ms/step - loss: 136.1224 - mae: 9.1913 - val_loss: 127.2023 - val_mae: 8.6395\n",
      "Epoch 10/100\n",
      "44/44 [==============================] - 0s 2ms/step - loss: 133.5484 - mae: 9.1564 - val_loss: 258.4056 - val_mae: 12.3599\n",
      "Epoch 11/100\n",
      "44/44 [==============================] - 0s 2ms/step - loss: 146.1056 - mae: 9.4289 - val_loss: 107.5735 - val_mae: 8.0496\n",
      "Epoch 12/100\n",
      "44/44 [==============================] - 0s 2ms/step - loss: 137.0836 - mae: 9.0888 - val_loss: 263.1393 - val_mae: 13.4411\n",
      "Epoch 13/100\n",
      "44/44 [==============================] - 0s 2ms/step - loss: 124.0553 - mae: 8.8019 - val_loss: 128.7881 - val_mae: 8.6029\n",
      "Epoch 14/100\n",
      "44/44 [==============================] - 0s 2ms/step - loss: 109.4302 - mae: 8.1534 - val_loss: 117.7060 - val_mae: 8.4047\n",
      "Epoch 15/100\n",
      "44/44 [==============================] - 0s 2ms/step - loss: 143.7015 - mae: 9.2473 - val_loss: 152.1587 - val_mae: 9.6452\n",
      "Epoch 16/100\n",
      "44/44 [==============================] - 0s 2ms/step - loss: 132.2120 - mae: 8.9869 - val_loss: 302.2488 - val_mae: 14.5591\n"
     ]
    }
   ],
   "source": [
    "# Initializing the Optimizer\n",
    "optimizer = SGD(0.001)\n",
    "# Compiling the model with 'mse' as loss function and metrics\n",
    "model_ES.compile(loss='mse',\n",
    "                 optimizer=optimizer,\n",
    "                 metrics=['mae'])\n",
    "# Defining Early stopping\n",
    "es_cb = callbacks.EarlyStopping(monitor='val_loss', min_delta=0.001, patience=5)\n",
    "# Fitting the model on train and validation with 50 epochs\n",
    "history_ES = model_ES.fit(X_train_scaled, y_train, validation_data=(X_val_scaled, y_val), epochs=100,callbacks=es_cb)"
   ]
  },
  {
   "cell_type": "code",
   "execution_count": 46,
   "id": "6b56cfbb386994be",
   "metadata": {
    "ExecuteTime": {
     "end_time": "2024-01-14T08:21:52.967576Z",
     "start_time": "2024-01-14T08:21:52.698513900Z"
    },
    "collapsed": false
   },
   "outputs": [
    {
     "data": {
      "image/png": "[encoded data removed]",
      "text/plain": [
       "<Figure size 640x480 with 1 Axes>"
      ]
     },
     "metadata": {},
     "output_type": "display_data"
    }
   ],
   "source": [
    "plt.title('Loss / Mean Squared Error')\n",
    "plt.plot(history_ES.history['loss'], label='train')\n",
    "plt.plot(history_ES.history['val_loss'], label='validate')\n",
    "plt.legend()\n",
    "plt.show()"
   ]
  },
  {
   "cell_type": "code",
   "execution_count": 47,
   "id": "ece5196f4f1ece3c",
   "metadata": {
    "ExecuteTime": {
     "end_time": "2024-01-14T08:21:53.059957500Z",
     "start_time": "2024-01-14T08:21:52.824674100Z"
    },
    "collapsed": false
   },
   "outputs": [
    {
     "name": "stdout",
     "output_type": "stream",
     "text": [
      "11/11 [==============================] - 0s 751us/step\n",
      "Validation Performance\n"
     ]
    },
    {
     "data": {
      "text/html": [
       "<div>\n",
       "<style scoped>\n",
       "    .dataframe tbody tr th:only-of-type {\n",
       "        vertical-align: middle;\n",
       "    }\n",
       "\n",
       "    .dataframe tbody tr th {\n",
       "        vertical-align: top;\n",
       "    }\n",
       "\n",
       "    .dataframe thead th {\n",
       "        text-align: right;\n",
       "    }\n",
       "</style>\n",
       "<table border=\"1\" class=\"dataframe\">\n",
       "  <thead>\n",
       "    <tr style=\"text-align: right;\">\n",
       "      <th></th>\n",
       "      <th>RMSE</th>\n",
       "      <th>MAE</th>\n",
       "      <th>R-squared</th>\n",
       "      <th>Adj. R-squared</th>\n",
       "    </tr>\n",
       "  </thead>\n",
       "  <tbody>\n",
       "    <tr>\n",
       "      <th>0</th>\n",
       "      <td>17.385303</td>\n",
       "      <td>14.559092</td>\n",
       "      <td>0.156906</td>\n",
       "      <td>0.113605</td>\n",
       "    </tr>\n",
       "  </tbody>\n",
       "</table>\n",
       "</div>"
      ],
      "text/plain": [
       "        RMSE        MAE  R-squared  Adj. R-squared\n",
       "0  17.385303  14.559092   0.156906        0.113605"
      ]
     },
     "execution_count": 47,
     "metadata": {},
     "output_type": "execute_result"
    }
   ],
   "source": [
    "y_result_ES = model_ES.predict(X_val_scaled)\n",
    "print(\"Validation Performance\\n\")\n",
    "ES_train = model_performance_regression(X_val_scaled,y_val, y_result_ES)\n",
    "ES_train"
   ]
  },
  {
   "cell_type": "code",
   "execution_count": 48,
   "id": "23f30c532110cc86",
   "metadata": {
    "ExecuteTime": {
     "end_time": "2024-01-14T08:21:53.166309300Z",
     "start_time": "2024-01-14T08:21:52.927426500Z"
    },
    "collapsed": false
   },
   "outputs": [
    {
     "name": "stdout",
     "output_type": "stream",
     "text": [
      "7/7 [==============================] - 0s 1ms/step\n",
      "Test set Performance\n"
     ]
    },
    {
     "data": {
      "text/html": [
       "<div>\n",
       "<style scoped>\n",
       "    .dataframe tbody tr th:only-of-type {\n",
       "        vertical-align: middle;\n",
       "    }\n",
       "\n",
       "    .dataframe tbody tr th {\n",
       "        vertical-align: top;\n",
       "    }\n",
       "\n",
       "    .dataframe thead th {\n",
       "        text-align: right;\n",
       "    }\n",
       "</style>\n",
       "<table border=\"1\" class=\"dataframe\">\n",
       "  <thead>\n",
       "    <tr style=\"text-align: right;\">\n",
       "      <th></th>\n",
       "      <th>RMSE</th>\n",
       "      <th>MAE</th>\n",
       "      <th>R-squared</th>\n",
       "      <th>Adj. R-squared</th>\n",
       "    </tr>\n",
       "  </thead>\n",
       "  <tbody>\n",
       "    <tr>\n",
       "      <th>0</th>\n",
       "      <td>14.276386</td>\n",
       "      <td>11.221472</td>\n",
       "      <td>0.420485</td>\n",
       "      <td>0.364509</td>\n",
       "    </tr>\n",
       "  </tbody>\n",
       "</table>\n",
       "</div>"
      ],
      "text/plain": [
       "        RMSE        MAE  R-squared  Adj. R-squared\n",
       "0  14.276386  11.221472   0.420485        0.364509"
      ]
     },
     "execution_count": 48,
     "metadata": {},
     "output_type": "execute_result"
    }
   ],
   "source": [
    "y_result_ES_test = model_ES.predict(X_test_scaled)\n",
    "print(\"Test set Performance\\n\")\n",
    "ES_test = model_performance_regression(X_test_scaled, y_test, y_result_ES_test)\n",
    "ES_test"
   ]
  },
  {
   "cell_type": "markdown",
   "id": "3fc0195c2da1a9c2",
   "metadata": {
    "collapsed": false
   },
   "source": [
    "# Model 3 (Dropout with early stop)"
   ]
  },
  {
   "cell_type": "code",
   "execution_count": 49,
   "id": "4ec2160253d27d9b",
   "metadata": {
    "ExecuteTime": {
     "end_time": "2024-01-14T08:21:53.166309300Z",
     "start_time": "2024-01-14T08:21:52.990466800Z"
    },
    "collapsed": false
   },
   "outputs": [],
   "source": [
    "backend.clear_session()\n",
    "#Fixing the seed for random number generators so that we can ensure we receive the same output everytime\n",
    "np.random.seed(42)\n",
    "random.seed(42)\n",
    "tf.random.set_seed(42)"
   ]
  },
  {
   "cell_type": "code",
   "execution_count": 50,
   "id": "f7962fcdd53d8d46",
   "metadata": {
    "ExecuteTime": {
     "end_time": "2024-01-14T08:21:53.186340700Z",
     "start_time": "2024-01-14T08:21:52.997871700Z"
    },
    "collapsed": false
   },
   "outputs": [
    {
     "name": "stdout",
     "output_type": "stream",
     "text": [
      "Model: \"sequential\"\n",
      "_________________________________________________________________\n",
      " Layer (type)                Output Shape              Param #   \n",
      "=================================================================\n",
      " dense (Dense)               (None, 64)                1152      \n",
      "                                                                 \n",
      " dropout (Dropout)           (None, 64)                0         \n",
      "                                                                 \n",
      " dense_1 (Dense)             (None, 32)                2080      \n",
      "                                                                 \n",
      " dropout_1 (Dropout)         (None, 32)                0         \n",
      "                                                                 \n",
      " dense_2 (Dense)             (None, 32)                1056      \n",
      "                                                                 \n",
      " dense_3 (Dense)             (None, 1)                 33        \n",
      "                                                                 \n",
      "=================================================================\n",
      "Total params: 4321 (16.88 KB)\n",
      "Trainable params: 4321 (16.88 KB)\n",
      "Non-trainable params: 0 (0.00 Byte)\n",
      "_________________________________________________________________\n"
     ]
    }
   ],
   "source": [
    "model_DO = Sequential()\n",
    "model_DO.add(Dense(64, activation='relu',kernel_initializer='he_uniform', input_shape=(17,)))\n",
    "# Adding Dropout with 20%\n",
    "model_DO.add(Dropout(0.2))\n",
    "model_DO.add(Dense(32, activation='relu',kernel_initializer='he_uniform'))\n",
    "model_DO.add(Dropout(0.2))\n",
    "model_DO.add(Dense(32, activation='relu',kernel_initializer='he_uniform'))\n",
    "model_DO.add(Dense(1, activation='linear'))\n",
    "\n",
    "model_DO.summary()"
   ]
  },
  {
   "cell_type": "code",
   "execution_count": 51,
   "id": "32614443aeb4a0f4",
   "metadata": {
    "ExecuteTime": {
     "end_time": "2024-01-14T08:21:55.232853300Z",
     "start_time": "2024-01-14T08:21:53.050437700Z"
    },
    "collapsed": false
   },
   "outputs": [
    {
     "name": "stdout",
     "output_type": "stream",
     "text": [
      "Epoch 1/50\n",
      "44/44 [==============================] - 1s 4ms/step - loss: 1261.7031 - mae: 29.5001 - val_loss: 432.3002 - val_mae: 16.1490\n",
      "Epoch 2/50\n",
      "44/44 [==============================] - 0s 2ms/step - loss: 392.9119 - mae: 15.5968 - val_loss: 232.0234 - val_mae: 11.9767\n",
      "Epoch 3/50\n",
      "44/44 [==============================] - 0s 2ms/step - loss: 254.6646 - mae: 12.4454 - val_loss: 268.9045 - val_mae: 13.7854\n",
      "Epoch 4/50\n",
      "44/44 [==============================] - 0s 2ms/step - loss: 237.3505 - mae: 12.2530 - val_loss: 196.5462 - val_mae: 10.8781\n",
      "Epoch 5/50\n",
      "44/44 [==============================] - 0s 2ms/step - loss: 216.7040 - mae: 11.7427 - val_loss: 147.6884 - val_mae: 9.5498\n",
      "Epoch 6/50\n",
      "44/44 [==============================] - 0s 2ms/step - loss: 194.0294 - mae: 10.9451 - val_loss: 138.3762 - val_mae: 9.2885\n",
      "Epoch 7/50\n",
      "44/44 [==============================] - 0s 2ms/step - loss: 196.8045 - mae: 11.1347 - val_loss: 129.7175 - val_mae: 8.8378\n",
      "Epoch 8/50\n",
      "44/44 [==============================] - 0s 2ms/step - loss: 169.7822 - mae: 10.2128 - val_loss: 119.5963 - val_mae: 8.4907\n",
      "Epoch 9/50\n",
      "44/44 [==============================] - 0s 2ms/step - loss: 151.8479 - mae: 9.7011 - val_loss: 124.3937 - val_mae: 8.5841\n",
      "Epoch 10/50\n",
      "44/44 [==============================] - 0s 2ms/step - loss: 158.4597 - mae: 9.8107 - val_loss: 129.3896 - val_mae: 8.8964\n",
      "Epoch 11/50\n",
      "44/44 [==============================] - 0s 2ms/step - loss: 149.9621 - mae: 9.6898 - val_loss: 119.5519 - val_mae: 8.3023\n",
      "Epoch 12/50\n",
      "44/44 [==============================] - 0s 2ms/step - loss: 142.3988 - mae: 9.3915 - val_loss: 216.6025 - val_mae: 11.8532\n",
      "Epoch 13/50\n",
      "44/44 [==============================] - 0s 2ms/step - loss: 136.5533 - mae: 9.2301 - val_loss: 118.6677 - val_mae: 8.3386\n",
      "Epoch 14/50\n",
      "44/44 [==============================] - 0s 2ms/step - loss: 132.1002 - mae: 9.0252 - val_loss: 108.6846 - val_mae: 7.9545\n",
      "Epoch 15/50\n",
      "44/44 [==============================] - 0s 2ms/step - loss: 129.3976 - mae: 8.8417 - val_loss: 162.9110 - val_mae: 10.0123\n",
      "Epoch 16/50\n",
      "44/44 [==============================] - 0s 2ms/step - loss: 132.0216 - mae: 9.0295 - val_loss: 210.3357 - val_mae: 11.6885\n",
      "Epoch 17/50\n",
      "44/44 [==============================] - 0s 2ms/step - loss: 124.0551 - mae: 8.7092 - val_loss: 111.9309 - val_mae: 8.1737\n",
      "Epoch 18/50\n",
      "44/44 [==============================] - 0s 2ms/step - loss: 128.7679 - mae: 8.9501 - val_loss: 124.3730 - val_mae: 8.6616\n",
      "Epoch 19/50\n",
      "44/44 [==============================] - 0s 2ms/step - loss: 129.4589 - mae: 9.0528 - val_loss: 152.5982 - val_mae: 9.7596\n"
     ]
    }
   ],
   "source": [
    "optimizer = SGD(0.001)\n",
    "model_DO.compile(loss='mse',\n",
    "                 optimizer=optimizer,\n",
    "                 metrics=['mae'])\n",
    "# Defining Early stopping\n",
    "es_cb = callbacks.EarlyStopping(monitor='val_loss', min_delta=0.001, patience=5)\n",
    "history_DO = model_DO.fit(X_train_scaled, y_train, validation_data=(X_val_scaled, y_val), epochs=50,callbacks=es_cb)"
   ]
  },
  {
   "cell_type": "code",
   "execution_count": 52,
   "id": "dcf7735634f61c69",
   "metadata": {
    "ExecuteTime": {
     "end_time": "2024-01-14T08:21:55.364946800Z",
     "start_time": "2024-01-14T08:21:55.086781200Z"
    },
    "collapsed": false
   },
   "outputs": [
    {
     "data": {
      "image/png": "[encoded data removed]",
      "text/plain": [
       "<Figure size 640x480 with 1 Axes>"
      ]
     },
     "metadata": {},
     "output_type": "display_data"
    }
   ],
   "source": [
    "plt.title('Loss / Mean Squared Error')\n",
    "plt.plot(history_DO.history['loss'], label='train')\n",
    "plt.plot(history_DO.history['val_loss'], label='validate')\n",
    "plt.legend()\n",
    "plt.show()"
   ]
  },
  {
   "cell_type": "code",
   "execution_count": 53,
   "id": "603f780129045210",
   "metadata": {
    "ExecuteTime": {
     "end_time": "2024-01-14T08:21:55.384463900Z",
     "start_time": "2024-01-14T08:21:55.234853800Z"
    },
    "collapsed": false
   },
   "outputs": [
    {
     "name": "stdout",
     "output_type": "stream",
     "text": [
      "11/11 [==============================] - 0s 1ms/step\n",
      "Validation Performance\n"
     ]
    },
    {
     "data": {
      "text/html": [
       "<div>\n",
       "<style scoped>\n",
       "    .dataframe tbody tr th:only-of-type {\n",
       "        vertical-align: middle;\n",
       "    }\n",
       "\n",
       "    .dataframe tbody tr th {\n",
       "        vertical-align: top;\n",
       "    }\n",
       "\n",
       "    .dataframe thead th {\n",
       "        text-align: right;\n",
       "    }\n",
       "</style>\n",
       "<table border=\"1\" class=\"dataframe\">\n",
       "  <thead>\n",
       "    <tr style=\"text-align: right;\">\n",
       "      <th></th>\n",
       "      <th>RMSE</th>\n",
       "      <th>MAE</th>\n",
       "      <th>R-squared</th>\n",
       "      <th>Adj. R-squared</th>\n",
       "    </tr>\n",
       "  </thead>\n",
       "  <tbody>\n",
       "    <tr>\n",
       "      <th>0</th>\n",
       "      <td>12.353065</td>\n",
       "      <td>9.759576</td>\n",
       "      <td>0.574342</td>\n",
       "      <td>0.55248</td>\n",
       "    </tr>\n",
       "  </tbody>\n",
       "</table>\n",
       "</div>"
      ],
      "text/plain": [
       "        RMSE       MAE  R-squared  Adj. R-squared\n",
       "0  12.353065  9.759576   0.574342         0.55248"
      ]
     },
     "execution_count": 53,
     "metadata": {},
     "output_type": "execute_result"
    }
   ],
   "source": [
    "y_result_DO = model_DO.predict(X_val_scaled)\n",
    "print(\"Validation Performance\\n\")\n",
    "DO_train = model_performance_regression(X_val_scaled,y_val, y_result_DO)\n",
    "DO_train"
   ]
  },
  {
   "cell_type": "code",
   "execution_count": 54,
   "id": "325ace560a620448",
   "metadata": {
    "ExecuteTime": {
     "end_time": "2024-01-14T08:21:55.478831400Z",
     "start_time": "2024-01-14T08:21:55.329671700Z"
    },
    "collapsed": false
   },
   "outputs": [
    {
     "name": "stdout",
     "output_type": "stream",
     "text": [
      "7/7 [==============================] - 0s 1ms/step\n",
      "Test set Performance\n"
     ]
    },
    {
     "data": {
      "text/html": [
       "<div>\n",
       "<style scoped>\n",
       "    .dataframe tbody tr th:only-of-type {\n",
       "        vertical-align: middle;\n",
       "    }\n",
       "\n",
       "    .dataframe tbody tr th {\n",
       "        vertical-align: top;\n",
       "    }\n",
       "\n",
       "    .dataframe thead th {\n",
       "        text-align: right;\n",
       "    }\n",
       "</style>\n",
       "<table border=\"1\" class=\"dataframe\">\n",
       "  <thead>\n",
       "    <tr style=\"text-align: right;\">\n",
       "      <th></th>\n",
       "      <th>RMSE</th>\n",
       "      <th>MAE</th>\n",
       "      <th>R-squared</th>\n",
       "      <th>Adj. R-squared</th>\n",
       "    </tr>\n",
       "  </thead>\n",
       "  <tbody>\n",
       "    <tr>\n",
       "      <th>0</th>\n",
       "      <td>10.849787</td>\n",
       "      <td>8.355517</td>\n",
       "      <td>0.665288</td>\n",
       "      <td>0.632958</td>\n",
       "    </tr>\n",
       "  </tbody>\n",
       "</table>\n",
       "</div>"
      ],
      "text/plain": [
       "        RMSE       MAE  R-squared  Adj. R-squared\n",
       "0  10.849787  8.355517   0.665288        0.632958"
      ]
     },
     "execution_count": 54,
     "metadata": {},
     "output_type": "execute_result"
    }
   ],
   "source": [
    "y_result_DO_test = model_DO.predict(X_test_scaled)\n",
    "print(\"Test set Performance\\n\")\n",
    "DO_test = model_performance_regression(X_test_scaled,y_test, y_result_DO_test)\n",
    "DO_test"
   ]
  },
  {
   "cell_type": "markdown",
   "id": "288481455c186836",
   "metadata": {
    "collapsed": false
   },
   "source": [
    "# Model 4 (Batch Normalization)"
   ]
  },
  {
   "cell_type": "code",
   "execution_count": 55,
   "id": "c0737d6aa069d07a",
   "metadata": {
    "ExecuteTime": {
     "end_time": "2024-01-14T08:21:55.548269600Z",
     "start_time": "2024-01-14T08:21:55.391052200Z"
    },
    "collapsed": false
   },
   "outputs": [],
   "source": [
    "backend.clear_session()\n",
    "#Fixing the seed for random number generators so that we can ensure we receive the same output everytime\n",
    "np.random.seed(42)\n",
    "random.seed(42)\n",
    "tf.random.set_seed(42)"
   ]
  },
  {
   "cell_type": "code",
   "execution_count": 56,
   "id": "9ce317342a4c1e4d",
   "metadata": {
    "ExecuteTime": {
     "end_time": "2024-01-14T08:21:55.637754900Z",
     "start_time": "2024-01-14T08:21:55.399629Z"
    },
    "collapsed": false
   },
   "outputs": [
    {
     "name": "stdout",
     "output_type": "stream",
     "text": [
      "Model: \"sequential\"\n",
      "_________________________________________________________________\n",
      " Layer (type)                Output Shape              Param #   \n",
      "=================================================================\n",
      " dense (Dense)               (None, 64)                1152      \n",
      "                                                                 \n",
      " batch_normalization (Batch  (None, 64)                256       \n",
      " Normalization)                                                  \n",
      "                                                                 \n",
      " dense_1 (Dense)             (None, 32)                2080      \n",
      "                                                                 \n",
      " batch_normalization_1 (Bat  (None, 32)                128       \n",
      " chNormalization)                                                \n",
      "                                                                 \n",
      " dense_2 (Dense)             (None, 32)                1056      \n",
      "                                                                 \n",
      " batch_normalization_2 (Bat  (None, 32)                128       \n",
      " chNormalization)                                                \n",
      "                                                                 \n",
      " dense_3 (Dense)             (None, 1)                 33        \n",
      "                                                                 \n",
      "=================================================================\n",
      "Total params: 4833 (18.88 KB)\n",
      "Trainable params: 4577 (17.88 KB)\n",
      "Non-trainable params: 256 (1.00 KB)\n",
      "_________________________________________________________________\n"
     ]
    }
   ],
   "source": [
    "model_BN = Sequential()\n",
    "model_BN.add(Dense(64, activation='relu', kernel_initializer='he_uniform', input_shape=(17,)))\n",
    "model_BN.add(BatchNormalization())\n",
    "model_BN.add(Dense(32, activation='relu', kernel_initializer='he_uniform'))\n",
    "model_BN.add(BatchNormalization())\n",
    "model_BN.add(Dense(32, activation='relu', kernel_initializer='he_uniform'))\n",
    "model_BN.add(BatchNormalization())\n",
    "model_BN.add(Dense(1, activation='linear'))\n",
    "\n",
    "model_BN.summary()"
   ]
  },
  {
   "cell_type": "code",
   "execution_count": 57,
   "id": "fea9f6e793fa12dc",
   "metadata": {
    "ExecuteTime": {
     "end_time": "2024-01-14T08:22:04.865105100Z",
     "start_time": "2024-01-14T08:21:55.479832Z"
    },
    "collapsed": false
   },
   "outputs": [
    {
     "name": "stdout",
     "output_type": "stream",
     "text": [
      "Epoch 1/100\n",
      "44/44 [==============================] - 1s 8ms/step - loss: 1306.5129 - mae: 29.3138 - val_loss: 277.4156 - val_mae: 13.2322\n",
      "Epoch 2/100\n",
      "44/44 [==============================] - 0s 2ms/step - loss: 131.8510 - mae: 8.8385 - val_loss: 242.6529 - val_mae: 12.3506\n",
      "Epoch 3/100\n",
      "44/44 [==============================] - 0s 2ms/step - loss: 115.7971 - mae: 8.2522 - val_loss: 201.8602 - val_mae: 10.8996\n",
      "Epoch 4/100\n",
      "44/44 [==============================] - 0s 2ms/step - loss: 103.9362 - mae: 7.8269 - val_loss: 172.7747 - val_mae: 10.5968\n",
      "Epoch 5/100\n",
      "44/44 [==============================] - 0s 2ms/step - loss: 93.8079 - mae: 7.5563 - val_loss: 147.3224 - val_mae: 9.6184\n",
      "Epoch 6/100\n",
      "44/44 [==============================] - 0s 2ms/step - loss: 86.3215 - mae: 7.2103 - val_loss: 128.5532 - val_mae: 9.2294\n",
      "Epoch 7/100\n",
      "44/44 [==============================] - 0s 2ms/step - loss: 82.2036 - mae: 6.9304 - val_loss: 105.1291 - val_mae: 8.2010\n",
      "Epoch 8/100\n",
      "44/44 [==============================] - 0s 2ms/step - loss: 79.3173 - mae: 6.8249 - val_loss: 91.8829 - val_mae: 7.6163\n",
      "Epoch 9/100\n",
      "44/44 [==============================] - 0s 2ms/step - loss: 72.5006 - mae: 6.5199 - val_loss: 80.8143 - val_mae: 7.0013\n",
      "Epoch 10/100\n",
      "44/44 [==============================] - 0s 2ms/step - loss: 73.5264 - mae: 6.5705 - val_loss: 110.4656 - val_mae: 8.2328\n",
      "Epoch 11/100\n",
      "44/44 [==============================] - 0s 2ms/step - loss: 74.1062 - mae: 6.6512 - val_loss: 123.0376 - val_mae: 8.9803\n",
      "Epoch 12/100\n",
      "44/44 [==============================] - 0s 2ms/step - loss: 68.2236 - mae: 6.2218 - val_loss: 107.5208 - val_mae: 8.2496\n",
      "Epoch 13/100\n",
      "44/44 [==============================] - 0s 2ms/step - loss: 65.7102 - mae: 6.1386 - val_loss: 154.4832 - val_mae: 9.4695\n",
      "Epoch 14/100\n",
      "44/44 [==============================] - 0s 2ms/step - loss: 66.3939 - mae: 6.1962 - val_loss: 112.9914 - val_mae: 8.3704\n",
      "Epoch 15/100\n",
      "44/44 [==============================] - 0s 2ms/step - loss: 66.3518 - mae: 6.2085 - val_loss: 232.5562 - val_mae: 11.5656\n",
      "Epoch 16/100\n",
      "44/44 [==============================] - 0s 2ms/step - loss: 67.6059 - mae: 6.2596 - val_loss: 166.1774 - val_mae: 9.5044\n",
      "Epoch 17/100\n",
      "44/44 [==============================] - 0s 2ms/step - loss: 63.4427 - mae: 6.1842 - val_loss: 143.1090 - val_mae: 9.7928\n",
      "Epoch 18/100\n",
      "44/44 [==============================] - 0s 2ms/step - loss: 59.6538 - mae: 5.9082 - val_loss: 120.6645 - val_mae: 9.0150\n",
      "Epoch 19/100\n",
      "44/44 [==============================] - 0s 2ms/step - loss: 66.0031 - mae: 6.1817 - val_loss: 97.0597 - val_mae: 7.4190\n",
      "Epoch 20/100\n",
      "44/44 [==============================] - 0s 2ms/step - loss: 61.3252 - mae: 6.0380 - val_loss: 159.1742 - val_mae: 9.8322\n",
      "Epoch 21/100\n",
      "44/44 [==============================] - 0s 2ms/step - loss: 59.4279 - mae: 5.8839 - val_loss: 77.7578 - val_mae: 7.0574\n",
      "Epoch 22/100\n",
      "44/44 [==============================] - 0s 2ms/step - loss: 57.9283 - mae: 5.8125 - val_loss: 86.3455 - val_mae: 7.2682\n",
      "Epoch 23/100\n",
      "44/44 [==============================] - 0s 2ms/step - loss: 53.2223 - mae: 5.5226 - val_loss: 90.2792 - val_mae: 7.0664\n",
      "Epoch 24/100\n",
      "44/44 [==============================] - 0s 3ms/step - loss: 53.1013 - mae: 5.5344 - val_loss: 111.9908 - val_mae: 8.2682\n",
      "Epoch 25/100\n",
      "44/44 [==============================] - 0s 2ms/step - loss: 58.5476 - mae: 5.8622 - val_loss: 101.0758 - val_mae: 7.6393\n",
      "Epoch 26/100\n",
      "44/44 [==============================] - 0s 2ms/step - loss: 55.5297 - mae: 5.7810 - val_loss: 94.7334 - val_mae: 7.7438\n",
      "Epoch 27/100\n",
      "44/44 [==============================] - 0s 2ms/step - loss: 50.2044 - mae: 5.3898 - val_loss: 115.3112 - val_mae: 8.6035\n",
      "Epoch 28/100\n",
      "44/44 [==============================] - 0s 2ms/step - loss: 53.3382 - mae: 5.5497 - val_loss: 132.8130 - val_mae: 8.8945\n",
      "Epoch 29/100\n",
      "44/44 [==============================] - 0s 2ms/step - loss: 55.1727 - mae: 5.7109 - val_loss: 77.0301 - val_mae: 6.5982\n",
      "Epoch 30/100\n",
      "44/44 [==============================] - 0s 2ms/step - loss: 52.2467 - mae: 5.5436 - val_loss: 77.3876 - val_mae: 6.7855\n",
      "Epoch 31/100\n",
      "44/44 [==============================] - 0s 2ms/step - loss: 51.2277 - mae: 5.4848 - val_loss: 73.0427 - val_mae: 6.5982\n",
      "Epoch 32/100\n",
      "44/44 [==============================] - 0s 2ms/step - loss: 53.7986 - mae: 5.5315 - val_loss: 135.3663 - val_mae: 8.7397\n",
      "Epoch 33/100\n",
      "44/44 [==============================] - 0s 2ms/step - loss: 55.4494 - mae: 5.7138 - val_loss: 100.3348 - val_mae: 7.8925\n",
      "Epoch 34/100\n",
      "44/44 [==============================] - 0s 2ms/step - loss: 51.4576 - mae: 5.4822 - val_loss: 119.1374 - val_mae: 9.1341\n",
      "Epoch 35/100\n",
      "44/44 [==============================] - 0s 2ms/step - loss: 52.4989 - mae: 5.6331 - val_loss: 102.4168 - val_mae: 7.7455\n",
      "Epoch 36/100\n",
      "44/44 [==============================] - 0s 2ms/step - loss: 46.9614 - mae: 5.2765 - val_loss: 94.0032 - val_mae: 7.6823\n",
      "Epoch 37/100\n",
      "44/44 [==============================] - 0s 2ms/step - loss: 44.3266 - mae: 5.1152 - val_loss: 86.8031 - val_mae: 6.9619\n",
      "Epoch 38/100\n",
      "44/44 [==============================] - 0s 2ms/step - loss: 48.5250 - mae: 5.3201 - val_loss: 90.8480 - val_mae: 7.6423\n",
      "Epoch 39/100\n",
      "44/44 [==============================] - 0s 2ms/step - loss: 45.3864 - mae: 5.1081 - val_loss: 107.0925 - val_mae: 8.1342\n",
      "Epoch 40/100\n",
      "44/44 [==============================] - 0s 2ms/step - loss: 44.9789 - mae: 5.1747 - val_loss: 127.7626 - val_mae: 8.9138\n",
      "Epoch 41/100\n",
      "44/44 [==============================] - 0s 2ms/step - loss: 51.3724 - mae: 5.4249 - val_loss: 105.1943 - val_mae: 7.8820\n",
      "Epoch 42/100\n",
      "44/44 [==============================] - 0s 2ms/step - loss: 45.1646 - mae: 5.1746 - val_loss: 85.7184 - val_mae: 7.3344\n",
      "Epoch 43/100\n",
      "44/44 [==============================] - 0s 2ms/step - loss: 40.0626 - mae: 4.9670 - val_loss: 112.2188 - val_mae: 7.5486\n",
      "Epoch 44/100\n",
      "44/44 [==============================] - 0s 2ms/step - loss: 41.7520 - mae: 4.9252 - val_loss: 105.7234 - val_mae: 8.1216\n",
      "Epoch 45/100\n",
      "44/44 [==============================] - 0s 2ms/step - loss: 45.3952 - mae: 5.0881 - val_loss: 72.3963 - val_mae: 6.6996\n",
      "Epoch 46/100\n",
      "44/44 [==============================] - 0s 2ms/step - loss: 42.7943 - mae: 5.0177 - val_loss: 124.7966 - val_mae: 8.8825\n",
      "Epoch 47/100\n",
      "44/44 [==============================] - 0s 2ms/step - loss: 43.2974 - mae: 5.0878 - val_loss: 85.0170 - val_mae: 7.2102\n",
      "Epoch 48/100\n",
      "44/44 [==============================] - 0s 2ms/step - loss: 43.7595 - mae: 5.0227 - val_loss: 134.5679 - val_mae: 8.7791\n",
      "Epoch 49/100\n",
      "44/44 [==============================] - 0s 2ms/step - loss: 40.4939 - mae: 4.8475 - val_loss: 77.3066 - val_mae: 6.6563\n",
      "Epoch 50/100\n",
      "44/44 [==============================] - 0s 2ms/step - loss: 43.8793 - mae: 5.1504 - val_loss: 86.4352 - val_mae: 6.9959\n",
      "Epoch 51/100\n",
      "44/44 [==============================] - 0s 2ms/step - loss: 40.3097 - mae: 4.8719 - val_loss: 64.4087 - val_mae: 6.1861\n",
      "Epoch 52/100\n",
      "44/44 [==============================] - 0s 2ms/step - loss: 39.7630 - mae: 4.7704 - val_loss: 76.5635 - val_mae: 6.7086\n",
      "Epoch 53/100\n",
      "44/44 [==============================] - 0s 2ms/step - loss: 47.0004 - mae: 5.3491 - val_loss: 72.9607 - val_mae: 6.7304\n",
      "Epoch 54/100\n",
      "44/44 [==============================] - 0s 2ms/step - loss: 44.2517 - mae: 5.1152 - val_loss: 94.1584 - val_mae: 7.5795\n",
      "Epoch 55/100\n",
      "44/44 [==============================] - 0s 2ms/step - loss: 44.0286 - mae: 5.1015 - val_loss: 88.7088 - val_mae: 7.2495\n",
      "Epoch 56/100\n",
      "44/44 [==============================] - 0s 2ms/step - loss: 44.9222 - mae: 5.2330 - val_loss: 161.0700 - val_mae: 10.0550\n",
      "Epoch 57/100\n",
      "44/44 [==============================] - 0s 2ms/step - loss: 42.5370 - mae: 4.9641 - val_loss: 79.2342 - val_mae: 6.8928\n",
      "Epoch 58/100\n",
      "44/44 [==============================] - 0s 2ms/step - loss: 41.9845 - mae: 5.0024 - val_loss: 154.3009 - val_mae: 9.7074\n",
      "Epoch 59/100\n",
      "44/44 [==============================] - 0s 2ms/step - loss: 40.3735 - mae: 4.9335 - val_loss: 86.3384 - val_mae: 6.9862\n",
      "Epoch 60/100\n",
      "44/44 [==============================] - 0s 2ms/step - loss: 36.6836 - mae: 4.6512 - val_loss: 124.8305 - val_mae: 8.2262\n",
      "Epoch 61/100\n",
      "44/44 [==============================] - 0s 2ms/step - loss: 45.1715 - mae: 5.1967 - val_loss: 139.6864 - val_mae: 9.0172\n",
      "Epoch 62/100\n",
      "44/44 [==============================] - 0s 2ms/step - loss: 42.7816 - mae: 4.9721 - val_loss: 127.1065 - val_mae: 8.1610\n",
      "Epoch 63/100\n",
      "44/44 [==============================] - 0s 2ms/step - loss: 43.3471 - mae: 4.9982 - val_loss: 91.3367 - val_mae: 6.9885\n",
      "Epoch 64/100\n",
      "44/44 [==============================] - 0s 2ms/step - loss: 38.2861 - mae: 4.8376 - val_loss: 119.0309 - val_mae: 7.9711\n",
      "Epoch 65/100\n",
      "44/44 [==============================] - 0s 2ms/step - loss: 40.1592 - mae: 4.9401 - val_loss: 101.8146 - val_mae: 7.5805\n",
      "Epoch 66/100\n",
      "44/44 [==============================] - 0s 2ms/step - loss: 43.4008 - mae: 5.1317 - val_loss: 79.8379 - val_mae: 6.9543\n",
      "Epoch 67/100\n",
      "44/44 [==============================] - 0s 2ms/step - loss: 40.6861 - mae: 4.9343 - val_loss: 90.3023 - val_mae: 7.1118\n",
      "Epoch 68/100\n",
      "44/44 [==============================] - 0s 2ms/step - loss: 40.7304 - mae: 4.9459 - val_loss: 128.2801 - val_mae: 8.6879\n",
      "Epoch 69/100\n",
      "44/44 [==============================] - 0s 2ms/step - loss: 37.1138 - mae: 4.7442 - val_loss: 111.0000 - val_mae: 8.5005\n",
      "Epoch 70/100\n",
      "44/44 [==============================] - 0s 2ms/step - loss: 42.7371 - mae: 5.0603 - val_loss: 78.5925 - val_mae: 6.8439\n",
      "Epoch 71/100\n",
      "44/44 [==============================] - 0s 2ms/step - loss: 38.2154 - mae: 4.8198 - val_loss: 107.6928 - val_mae: 8.1164\n",
      "Epoch 72/100\n",
      "44/44 [==============================] - 0s 2ms/step - loss: 39.1694 - mae: 4.8623 - val_loss: 80.6166 - val_mae: 6.7582\n",
      "Epoch 73/100\n",
      "44/44 [==============================] - 0s 2ms/step - loss: 38.1136 - mae: 4.7726 - val_loss: 114.9788 - val_mae: 8.0925\n",
      "Epoch 74/100\n",
      "44/44 [==============================] - 0s 2ms/step - loss: 38.2784 - mae: 4.6791 - val_loss: 91.2767 - val_mae: 7.3341\n",
      "Epoch 75/100\n",
      "44/44 [==============================] - 0s 2ms/step - loss: 41.7084 - mae: 5.0473 - val_loss: 95.1124 - val_mae: 7.4500\n",
      "Epoch 76/100\n",
      "44/44 [==============================] - 0s 3ms/step - loss: 37.7391 - mae: 4.7374 - val_loss: 173.3222 - val_mae: 10.1288\n",
      "Epoch 77/100\n",
      "44/44 [==============================] - 0s 3ms/step - loss: 41.0830 - mae: 4.9051 - val_loss: 98.1126 - val_mae: 7.4633\n",
      "Epoch 78/100\n",
      "44/44 [==============================] - 0s 2ms/step - loss: 33.6392 - mae: 4.5137 - val_loss: 122.4770 - val_mae: 8.0716\n",
      "Epoch 79/100\n",
      "44/44 [==============================] - 0s 2ms/step - loss: 35.6488 - mae: 4.6622 - val_loss: 91.2465 - val_mae: 7.2403\n",
      "Epoch 80/100\n",
      "44/44 [==============================] - 0s 2ms/step - loss: 37.7936 - mae: 4.7729 - val_loss: 87.5856 - val_mae: 7.1597\n",
      "Epoch 81/100\n",
      "44/44 [==============================] - 0s 2ms/step - loss: 31.5441 - mae: 4.3631 - val_loss: 139.3481 - val_mae: 8.9377\n",
      "Epoch 82/100\n",
      "44/44 [==============================] - 0s 2ms/step - loss: 38.8955 - mae: 4.8907 - val_loss: 101.4283 - val_mae: 7.7016\n",
      "Epoch 83/100\n",
      "44/44 [==============================] - 0s 2ms/step - loss: 35.0578 - mae: 4.6403 - val_loss: 82.5132 - val_mae: 6.5365\n",
      "Epoch 84/100\n",
      "44/44 [==============================] - 0s 2ms/step - loss: 35.5297 - mae: 4.5811 - val_loss: 103.9115 - val_mae: 7.7831\n",
      "Epoch 85/100\n",
      "44/44 [==============================] - 0s 2ms/step - loss: 39.9917 - mae: 4.8204 - val_loss: 107.7527 - val_mae: 7.8895\n",
      "Epoch 86/100\n",
      "44/44 [==============================] - 0s 2ms/step - loss: 32.1035 - mae: 4.3504 - val_loss: 115.5331 - val_mae: 8.4131\n",
      "Epoch 87/100\n",
      "44/44 [==============================] - 0s 2ms/step - loss: 36.3405 - mae: 4.7015 - val_loss: 124.0558 - val_mae: 8.3584\n",
      "Epoch 88/100\n",
      "44/44 [==============================] - 0s 2ms/step - loss: 35.6540 - mae: 4.6214 - val_loss: 88.1815 - val_mae: 6.7219\n",
      "Epoch 89/100\n",
      "44/44 [==============================] - 0s 2ms/step - loss: 38.6180 - mae: 4.8124 - val_loss: 70.5721 - val_mae: 6.1817\n",
      "Epoch 90/100\n",
      "44/44 [==============================] - 0s 2ms/step - loss: 33.4938 - mae: 4.4757 - val_loss: 89.0985 - val_mae: 7.3697\n",
      "Epoch 91/100\n",
      "44/44 [==============================] - 0s 2ms/step - loss: 33.0832 - mae: 4.4167 - val_loss: 120.1495 - val_mae: 8.4932\n",
      "Epoch 92/100\n",
      "44/44 [==============================] - 0s 2ms/step - loss: 35.5965 - mae: 4.6162 - val_loss: 137.0389 - val_mae: 8.5728\n",
      "Epoch 93/100\n",
      "44/44 [==============================] - 0s 2ms/step - loss: 40.7305 - mae: 4.9245 - val_loss: 92.1051 - val_mae: 7.4516\n",
      "Epoch 94/100\n",
      "44/44 [==============================] - 0s 2ms/step - loss: 37.5546 - mae: 4.7854 - val_loss: 141.4106 - val_mae: 9.1486\n",
      "Epoch 95/100\n",
      "44/44 [==============================] - 0s 2ms/step - loss: 32.5958 - mae: 4.3531 - val_loss: 86.1419 - val_mae: 7.1669\n",
      "Epoch 96/100\n",
      "44/44 [==============================] - 0s 2ms/step - loss: 38.5261 - mae: 4.8044 - val_loss: 86.6820 - val_mae: 7.2662\n",
      "Epoch 97/100\n",
      "44/44 [==============================] - 0s 2ms/step - loss: 39.1653 - mae: 4.8022 - val_loss: 85.0479 - val_mae: 7.2062\n",
      "Epoch 98/100\n",
      "44/44 [==============================] - 0s 2ms/step - loss: 39.4497 - mae: 4.8212 - val_loss: 124.3764 - val_mae: 8.3142\n",
      "Epoch 99/100\n",
      "44/44 [==============================] - 0s 2ms/step - loss: 30.6314 - mae: 4.2687 - val_loss: 89.3697 - val_mae: 6.8176\n",
      "Epoch 100/100\n",
      "44/44 [==============================] - 0s 2ms/step - loss: 32.4622 - mae: 4.5109 - val_loss: 91.2244 - val_mae: 7.1673\n"
     ]
    }
   ],
   "source": [
    "# Initializing the Optimizer\n",
    "optimizer = SGD(0.001)\n",
    "# Compiling the model with 'mse' as loss function and metrics\n",
    "model_BN.compile(loss='mse',\n",
    "                 optimizer=optimizer,\n",
    "                 metrics=['mae'])\n",
    "# Fitting the model on train and validation with 50 epochs\n",
    "history_BN = model_BN.fit(X_train_scaled, y_train, validation_data=(X_val_scaled, y_val), epochs=100)"
   ]
  },
  {
   "cell_type": "code",
   "execution_count": 58,
   "id": "263a09e868ecda89",
   "metadata": {
    "ExecuteTime": {
     "end_time": "2024-01-14T08:22:04.995201200Z",
     "start_time": "2024-01-14T08:22:04.862577600Z"
    },
    "collapsed": false
   },
   "outputs": [
    {
     "data": {
      "image/png": "[encoded data removed]",
      "text/plain": [
       "<Figure size 640x480 with 1 Axes>"
      ]
     },
     "metadata": {},
     "output_type": "display_data"
    }
   ],
   "source": [
    "plt.title('Loss / Mean Squared Error')\n",
    "plt.plot(history_BN.history['loss'], label='train')\n",
    "plt.plot(history_BN.history['val_loss'], label='validate')\n",
    "plt.legend()\n",
    "plt.show()"
   ]
  },
  {
   "cell_type": "code",
   "execution_count": 59,
   "id": "fe3105abf288941c",
   "metadata": {
    "ExecuteTime": {
     "end_time": "2024-01-14T08:22:05.167324900Z",
     "start_time": "2024-01-14T08:22:04.990689Z"
    },
    "collapsed": false
   },
   "outputs": [
    {
     "name": "stdout",
     "output_type": "stream",
     "text": [
      "11/11 [==============================] - 0s 1ms/step\n",
      "Validation Performance\n"
     ]
    },
    {
     "data": {
      "text/html": [
       "<div>\n",
       "<style scoped>\n",
       "    .dataframe tbody tr th:only-of-type {\n",
       "        vertical-align: middle;\n",
       "    }\n",
       "\n",
       "    .dataframe tbody tr th {\n",
       "        vertical-align: top;\n",
       "    }\n",
       "\n",
       "    .dataframe thead th {\n",
       "        text-align: right;\n",
       "    }\n",
       "</style>\n",
       "<table border=\"1\" class=\"dataframe\">\n",
       "  <thead>\n",
       "    <tr style=\"text-align: right;\">\n",
       "      <th></th>\n",
       "      <th>RMSE</th>\n",
       "      <th>MAE</th>\n",
       "      <th>R-squared</th>\n",
       "      <th>Adj. R-squared</th>\n",
       "    </tr>\n",
       "  </thead>\n",
       "  <tbody>\n",
       "    <tr>\n",
       "      <th>0</th>\n",
       "      <td>9.551148</td>\n",
       "      <td>7.167295</td>\n",
       "      <td>0.745538</td>\n",
       "      <td>0.732469</td>\n",
       "    </tr>\n",
       "  </tbody>\n",
       "</table>\n",
       "</div>"
      ],
      "text/plain": [
       "       RMSE       MAE  R-squared  Adj. R-squared\n",
       "0  9.551148  7.167295   0.745538        0.732469"
      ]
     },
     "execution_count": 59,
     "metadata": {},
     "output_type": "execute_result"
    }
   ],
   "source": [
    "y_result_BN = model_BN.predict(X_val_scaled)\n",
    "print(\"Validation Performance\\n\")\n",
    "BN_train = model_performance_regression(X_val_scaled,y_val, y_result_BN)\n",
    "BN_train"
   ]
  },
  {
   "cell_type": "code",
   "execution_count": 60,
   "id": "b5a1e68002d2fcf6",
   "metadata": {
    "ExecuteTime": {
     "end_time": "2024-01-14T08:22:05.336988100Z",
     "start_time": "2024-01-14T08:22:05.117758Z"
    },
    "collapsed": false
   },
   "outputs": [
    {
     "name": "stdout",
     "output_type": "stream",
     "text": [
      "7/7 [==============================] - 0s 1ms/step\n",
      "Test set Performance\n"
     ]
    },
    {
     "data": {
      "text/html": [
       "<div>\n",
       "<style scoped>\n",
       "    .dataframe tbody tr th:only-of-type {\n",
       "        vertical-align: middle;\n",
       "    }\n",
       "\n",
       "    .dataframe tbody tr th {\n",
       "        vertical-align: top;\n",
       "    }\n",
       "\n",
       "    .dataframe thead th {\n",
       "        text-align: right;\n",
       "    }\n",
       "</style>\n",
       "<table border=\"1\" class=\"dataframe\">\n",
       "  <thead>\n",
       "    <tr style=\"text-align: right;\">\n",
       "      <th></th>\n",
       "      <th>RMSE</th>\n",
       "      <th>MAE</th>\n",
       "      <th>R-squared</th>\n",
       "      <th>Adj. R-squared</th>\n",
       "    </tr>\n",
       "  </thead>\n",
       "  <tbody>\n",
       "    <tr>\n",
       "      <th>0</th>\n",
       "      <td>11.112581</td>\n",
       "      <td>8.45384</td>\n",
       "      <td>0.648878</td>\n",
       "      <td>0.614963</td>\n",
       "    </tr>\n",
       "  </tbody>\n",
       "</table>\n",
       "</div>"
      ],
      "text/plain": [
       "        RMSE      MAE  R-squared  Adj. R-squared\n",
       "0  11.112581  8.45384   0.648878        0.614963"
      ]
     },
     "execution_count": 60,
     "metadata": {},
     "output_type": "execute_result"
    }
   ],
   "source": [
    "y_result_BN_test = model_BN.predict(X_test_scaled)\n",
    "print(\"Test set Performance\\n\")\n",
    "BN_test = model_performance_regression(X_test_scaled,y_test, y_result_BN_test)\n",
    "BN_test"
   ]
  },
  {
   "cell_type": "markdown",
   "id": "81a5c8d77a3d235f",
   "metadata": {
    "collapsed": false
   },
   "source": [
    "# Model 5 (Model 3 with deeper layers)"
   ]
  },
  {
   "cell_type": "code",
   "execution_count": 61,
   "id": "70f99f5d24cfd6ab",
   "metadata": {
    "ExecuteTime": {
     "end_time": "2024-01-14T08:22:05.336988100Z",
     "start_time": "2024-01-14T08:22:05.182848100Z"
    },
    "collapsed": false
   },
   "outputs": [],
   "source": [
    "backend.clear_session()\n",
    "#Fixing the seed for random number generators so that we can ensure we receive the same output everytime\n",
    "np.random.seed(42)\n",
    "random.seed(42)\n",
    "tf.random.set_seed(42)"
   ]
  },
  {
   "cell_type": "code",
   "execution_count": 62,
   "id": "dc88b60510245d7f",
   "metadata": {
    "ExecuteTime": {
     "end_time": "2024-01-14T08:22:05.462381400Z",
     "start_time": "2024-01-14T08:22:05.191329300Z"
    },
    "collapsed": false
   },
   "outputs": [
    {
     "name": "stdout",
     "output_type": "stream",
     "text": [
      "Model: \"sequential\"\n",
      "_________________________________________________________________\n",
      " Layer (type)                Output Shape              Param #   \n",
      "=================================================================\n",
      " dense (Dense)               (None, 64)                1152      \n",
      "                                                                 \n",
      " dropout (Dropout)           (None, 64)                0         \n",
      "                                                                 \n",
      " dense_1 (Dense)             (None, 32)                2080      \n",
      "                                                                 \n",
      " dropout_1 (Dropout)         (None, 32)                0         \n",
      "                                                                 \n",
      " dense_2 (Dense)             (None, 16)                528       \n",
      "                                                                 \n",
      " dense_3 (Dense)             (None, 8)                 136       \n",
      "                                                                 \n",
      " dense_4 (Dense)             (None, 1)                 9         \n",
      "                                                                 \n",
      "=================================================================\n",
      "Total params: 3905 (15.25 KB)\n",
      "Trainable params: 3905 (15.25 KB)\n",
      "Non-trainable params: 0 (0.00 Byte)\n",
      "_________________________________________________________________\n"
     ]
    }
   ],
   "source": [
    "model_Final = Sequential()\n",
    "# Adding input layer with 64 neurons, relu as activation function and, he_uniform as weight initializer.\n",
    "model_Final.add(Dense(64, activation='relu',kernel_initializer='he_uniform', input_shape=(17,)))\n",
    "# Adding dropout with ratio of 0.2\n",
    "model_Final.add(Dropout(0.2))\n",
    "# Adding the first hidden layer with 32 neurons, relu as activation function and, he_uniform as weight initializer\n",
    "model_Final.add(Dense(32, activation='relu',kernel_initializer='he_uniform'))\n",
    "# Adding dropout with ratio of 0.2\n",
    "model_Final.add(Dropout(0.2))\n",
    "# Adding the second hidden layer with 16 neurons, relu as activation function and, he_uniform as weight initializer\n",
    "model_Final.add(Dense(16, activation='relu',kernel_initializer='he_uniform'))\n",
    "# Adding the third hidden layer with 8 neurons, relu as activation function and, he_uniform as weight initializer\n",
    "model_Final.add(Dense(8, activation='relu',kernel_initializer='he_uniform'))\n",
    "# Adding the output layer with one neuron and linear as activation\n",
    "model_Final.add(Dense(1, activation='linear'))\n",
    "\n",
    "model_Final.summary()"
   ]
  },
  {
   "cell_type": "code",
   "execution_count": 63,
   "id": "ae67afc80fca694a",
   "metadata": {
    "ExecuteTime": {
     "end_time": "2024-01-14T08:22:08.045430Z",
     "start_time": "2024-01-14T08:22:05.265408600Z"
    },
    "collapsed": false
   },
   "outputs": [
    {
     "name": "stdout",
     "output_type": "stream",
     "text": [
      "Epoch 1/100\n",
      "44/44 [==============================] - 1s 4ms/step - loss: 2772.6267 - mae: 49.5048 - val_loss: 2669.7854 - val_mae: 48.0276\n",
      "Epoch 2/100\n",
      "44/44 [==============================] - 0s 2ms/step - loss: 1882.1085 - mae: 38.9944 - val_loss: 1209.5817 - val_mae: 29.2762\n",
      "Epoch 3/100\n",
      "44/44 [==============================] - 0s 2ms/step - loss: 596.1812 - mae: 19.3437 - val_loss: 412.8122 - val_mae: 16.2518\n",
      "Epoch 4/100\n",
      "44/44 [==============================] - 0s 2ms/step - loss: 420.0487 - mae: 16.1721 - val_loss: 362.2523 - val_mae: 15.2159\n",
      "Epoch 5/100\n",
      "44/44 [==============================] - 0s 2ms/step - loss: 369.7861 - mae: 15.2164 - val_loss: 327.5048 - val_mae: 14.3700\n",
      "Epoch 6/100\n",
      "44/44 [==============================] - 0s 2ms/step - loss: 367.5009 - mae: 15.1557 - val_loss: 313.9339 - val_mae: 13.9016\n",
      "Epoch 7/100\n",
      "44/44 [==============================] - 0s 2ms/step - loss: 312.4522 - mae: 13.9813 - val_loss: 274.5413 - val_mae: 13.0820\n",
      "Epoch 8/100\n",
      "44/44 [==============================] - 0s 2ms/step - loss: 297.5959 - mae: 13.7910 - val_loss: 269.5324 - val_mae: 12.8780\n",
      "Epoch 9/100\n",
      "44/44 [==============================] - 0s 2ms/step - loss: 278.0006 - mae: 13.1504 - val_loss: 230.8239 - val_mae: 11.9874\n",
      "Epoch 10/100\n",
      "44/44 [==============================] - 0s 2ms/step - loss: 271.4809 - mae: 13.1395 - val_loss: 227.6599 - val_mae: 11.8179\n",
      "Epoch 11/100\n",
      "44/44 [==============================] - 0s 2ms/step - loss: 246.1332 - mae: 12.4834 - val_loss: 212.8106 - val_mae: 11.4025\n",
      "Epoch 12/100\n",
      "44/44 [==============================] - 0s 2ms/step - loss: 244.6402 - mae: 12.2875 - val_loss: 243.6452 - val_mae: 11.9729\n",
      "Epoch 13/100\n",
      "44/44 [==============================] - 0s 2ms/step - loss: 241.6343 - mae: 12.3092 - val_loss: 195.8834 - val_mae: 10.9022\n",
      "Epoch 14/100\n",
      "44/44 [==============================] - 0s 2ms/step - loss: 229.2149 - mae: 11.9584 - val_loss: 191.3829 - val_mae: 10.6730\n",
      "Epoch 15/100\n",
      "44/44 [==============================] - 0s 2ms/step - loss: 222.3020 - mae: 11.8286 - val_loss: 263.5152 - val_mae: 12.6590\n",
      "Epoch 16/100\n",
      "44/44 [==============================] - 0s 2ms/step - loss: 223.8437 - mae: 11.7281 - val_loss: 203.2971 - val_mae: 11.0018\n",
      "Epoch 17/100\n",
      "44/44 [==============================] - 0s 2ms/step - loss: 200.8719 - mae: 11.2887 - val_loss: 169.0440 - val_mae: 10.0880\n",
      "Epoch 18/100\n",
      "44/44 [==============================] - 0s 2ms/step - loss: 208.5830 - mae: 11.3826 - val_loss: 187.7139 - val_mae: 10.6070\n",
      "Epoch 19/100\n",
      "44/44 [==============================] - 0s 2ms/step - loss: 197.9826 - mae: 11.1443 - val_loss: 193.2491 - val_mae: 10.7808\n",
      "Epoch 20/100\n",
      "44/44 [==============================] - 0s 2ms/step - loss: 186.9065 - mae: 10.7332 - val_loss: 163.6000 - val_mae: 9.9608\n",
      "Epoch 21/100\n",
      "44/44 [==============================] - 0s 2ms/step - loss: 191.8619 - mae: 10.8507 - val_loss: 208.5358 - val_mae: 11.3861\n",
      "Epoch 22/100\n",
      "44/44 [==============================] - 0s 2ms/step - loss: 189.4910 - mae: 10.9404 - val_loss: 142.4898 - val_mae: 9.3685\n",
      "Epoch 23/100\n",
      "44/44 [==============================] - 0s 2ms/step - loss: 182.4671 - mae: 10.6878 - val_loss: 170.1658 - val_mae: 10.1495\n",
      "Epoch 24/100\n",
      "44/44 [==============================] - 0s 2ms/step - loss: 180.2619 - mae: 10.5407 - val_loss: 163.9365 - val_mae: 9.9257\n",
      "Epoch 25/100\n",
      "44/44 [==============================] - 0s 2ms/step - loss: 187.4650 - mae: 10.9390 - val_loss: 149.7467 - val_mae: 9.5105\n",
      "Epoch 26/100\n",
      "44/44 [==============================] - 0s 2ms/step - loss: 169.1991 - mae: 10.2360 - val_loss: 146.5786 - val_mae: 9.4858\n",
      "Epoch 27/100\n",
      "44/44 [==============================] - 0s 2ms/step - loss: 172.8510 - mae: 10.3190 - val_loss: 165.3330 - val_mae: 10.0361\n"
     ]
    }
   ],
   "source": [
    "# Initializing the Optimizer\n",
    "optimizer = RMSprop(0.001)\n",
    "# Compiling the model with 'mse' as loss function and metrics\n",
    "model_Final.compile(loss='mse',\n",
    "                    optimizer=optimizer,\n",
    "                    metrics=['mae'])\n",
    "# Adding the callbacks\n",
    "es_cb = callbacks.EarlyStopping(monitor='val_loss', min_delta=0.001, patience=5)\n",
    "# Fitting the model on train and validation with 50 epochs\n",
    "history_Final = model_Final.fit(X_train_scaled, y_train, validation_data=(X_val_scaled, y_val), epochs=100,callbacks=es_cb)"
   ]
  },
  {
   "cell_type": "code",
   "execution_count": 64,
   "id": "61c475754807af18",
   "metadata": {
    "ExecuteTime": {
     "end_time": "2024-01-14T08:22:08.157416800Z",
     "start_time": "2024-01-14T08:22:08.027283300Z"
    },
    "collapsed": false
   },
   "outputs": [
    {
     "data": {
      "image/png": "[encoded data removed]",
      "text/plain": [
       "<Figure size 640x480 with 1 Axes>"
      ]
     },
     "metadata": {},
     "output_type": "display_data"
    }
   ],
   "source": [
    "plt.title('Loss / Mean Squared Error')\n",
    "plt.plot(history_Final.history['loss'], label='train')\n",
    "plt.plot(history_Final.history['val_loss'], label='validate')\n",
    "plt.legend()\n",
    "plt.show()"
   ]
  },
  {
   "cell_type": "code",
   "execution_count": 65,
   "id": "ba387018f2d9d671",
   "metadata": {
    "ExecuteTime": {
     "end_time": "2024-01-14T08:22:08.344068Z",
     "start_time": "2024-01-14T08:22:08.154417300Z"
    },
    "collapsed": false
   },
   "outputs": [
    {
     "name": "stdout",
     "output_type": "stream",
     "text": [
      "11/11 [==============================] - 0s 1ms/step\n",
      "Validation Performance\n"
     ]
    },
    {
     "data": {
      "text/html": [
       "<div>\n",
       "<style scoped>\n",
       "    .dataframe tbody tr th:only-of-type {\n",
       "        vertical-align: middle;\n",
       "    }\n",
       "\n",
       "    .dataframe tbody tr th {\n",
       "        vertical-align: top;\n",
       "    }\n",
       "\n",
       "    .dataframe thead th {\n",
       "        text-align: right;\n",
       "    }\n",
       "</style>\n",
       "<table border=\"1\" class=\"dataframe\">\n",
       "  <thead>\n",
       "    <tr style=\"text-align: right;\">\n",
       "      <th></th>\n",
       "      <th>RMSE</th>\n",
       "      <th>MAE</th>\n",
       "      <th>R-squared</th>\n",
       "      <th>Adj. R-squared</th>\n",
       "    </tr>\n",
       "  </thead>\n",
       "  <tbody>\n",
       "    <tr>\n",
       "      <th>0</th>\n",
       "      <td>12.858187</td>\n",
       "      <td>10.036115</td>\n",
       "      <td>0.53882</td>\n",
       "      <td>0.515134</td>\n",
       "    </tr>\n",
       "  </tbody>\n",
       "</table>\n",
       "</div>"
      ],
      "text/plain": [
       "        RMSE        MAE  R-squared  Adj. R-squared\n",
       "0  12.858187  10.036115    0.53882        0.515134"
      ]
     },
     "execution_count": 65,
     "metadata": {},
     "output_type": "execute_result"
    }
   ],
   "source": [
    "y_result_final = model_Final.predict(X_val_scaled)\n",
    "print(\"Validation Performance\\n\")\n",
    "final_train = model_performance_regression(X_val_scaled,y_val, y_result_final)\n",
    "final_train"
   ]
  },
  {
   "cell_type": "code",
   "execution_count": 66,
   "id": "7b4c2c0821543a9b",
   "metadata": {
    "ExecuteTime": {
     "end_time": "2024-01-14T08:22:08.382703600Z",
     "start_time": "2024-01-14T08:22:08.267919600Z"
    },
    "collapsed": false
   },
   "outputs": [
    {
     "name": "stdout",
     "output_type": "stream",
     "text": [
      "7/7 [==============================] - 0s 1ms/step\n",
      "Validation Performance\n"
     ]
    },
    {
     "data": {
      "text/html": [
       "<div>\n",
       "<style scoped>\n",
       "    .dataframe tbody tr th:only-of-type {\n",
       "        vertical-align: middle;\n",
       "    }\n",
       "\n",
       "    .dataframe tbody tr th {\n",
       "        vertical-align: top;\n",
       "    }\n",
       "\n",
       "    .dataframe thead th {\n",
       "        text-align: right;\n",
       "    }\n",
       "</style>\n",
       "<table border=\"1\" class=\"dataframe\">\n",
       "  <thead>\n",
       "    <tr style=\"text-align: right;\">\n",
       "      <th></th>\n",
       "      <th>RMSE</th>\n",
       "      <th>MAE</th>\n",
       "      <th>R-squared</th>\n",
       "      <th>Adj. R-squared</th>\n",
       "    </tr>\n",
       "  </thead>\n",
       "  <tbody>\n",
       "    <tr>\n",
       "      <th>0</th>\n",
       "      <td>11.660116</td>\n",
       "      <td>9.072458</td>\n",
       "      <td>0.613425</td>\n",
       "      <td>0.576085</td>\n",
       "    </tr>\n",
       "  </tbody>\n",
       "</table>\n",
       "</div>"
      ],
      "text/plain": [
       "        RMSE       MAE  R-squared  Adj. R-squared\n",
       "0  11.660116  9.072458   0.613425        0.576085"
      ]
     },
     "execution_count": 66,
     "metadata": {},
     "output_type": "execute_result"
    }
   ],
   "source": [
    "y_result_final_test = model_Final.predict(X_test_scaled)\n",
    "print(\"Validation Performance\\n\")\n",
    "final_test = model_performance_regression(X_test_scaled,y_test, y_result_final_test)\n",
    "final_test"
   ]
  },
  {
   "cell_type": "markdown",
   "id": "c99cd61e6c083ef1",
   "metadata": {
    "collapsed": false
   },
   "source": [
    "* Try Adam"
   ]
  },
  {
   "cell_type": "code",
   "execution_count": 67,
   "id": "be8411051c226a3a",
   "metadata": {
    "ExecuteTime": {
     "end_time": "2024-01-14T08:22:08.433828Z",
     "start_time": "2024-01-14T08:22:08.334285700Z"
    },
    "collapsed": false
   },
   "outputs": [],
   "source": [
    "backend.clear_session()\n",
    "#Fixing the seed for random number generators so that we can ensure we receive the same output everytime\n",
    "np.random.seed(42)\n",
    "random.seed(42)\n",
    "tf.random.set_seed(42)"
   ]
  },
  {
   "cell_type": "code",
   "execution_count": 68,
   "id": "a7d5cc0b4ddad8d6",
   "metadata": {
    "ExecuteTime": {
     "end_time": "2024-01-14T08:22:08.620753300Z",
     "start_time": "2024-01-14T08:22:08.343077Z"
    },
    "collapsed": false
   },
   "outputs": [
    {
     "name": "stdout",
     "output_type": "stream",
     "text": [
      "Model: \"sequential\"\n",
      "_________________________________________________________________\n",
      " Layer (type)                Output Shape              Param #   \n",
      "=================================================================\n",
      " dense (Dense)               (None, 64)                1152      \n",
      "                                                                 \n",
      " dropout (Dropout)           (None, 64)                0         \n",
      "                                                                 \n",
      " dense_1 (Dense)             (None, 32)                2080      \n",
      "                                                                 \n",
      " dropout_1 (Dropout)         (None, 32)                0         \n",
      "                                                                 \n",
      " dense_2 (Dense)             (None, 16)                528       \n",
      "                                                                 \n",
      " dense_3 (Dense)             (None, 8)                 136       \n",
      "                                                                 \n",
      " dense_4 (Dense)             (None, 1)                 9         \n",
      "                                                                 \n",
      "=================================================================\n",
      "Total params: 3905 (15.25 KB)\n",
      "Trainable params: 3905 (15.25 KB)\n",
      "Non-trainable params: 0 (0.00 Byte)\n",
      "_________________________________________________________________\n"
     ]
    }
   ],
   "source": [
    "model_Final_adam = Sequential()\n",
    "# Adding input layer with 64 neurons, relu as activation function and, he_uniform as weight initializer.\n",
    "model_Final_adam.add(Dense(64, activation='relu',kernel_initializer='he_uniform', input_shape=(17,)))\n",
    "# Adding dropout with ratio of 0.2\n",
    "model_Final_adam.add(Dropout(0.2))\n",
    "# Adding the first hidden layer with 32 neurons, relu as activation function and, he_uniform as weight initializer\n",
    "model_Final_adam.add(Dense(32, activation='relu',kernel_initializer='he_uniform'))\n",
    "# Adding dropout with ratio of 0.2\n",
    "model_Final_adam.add(Dropout(0.2))\n",
    "# Adding the second hidden layer with 16 neurons, relu as activation function and, he_uniform as weight initializer\n",
    "model_Final_adam.add(Dense(16, activation='relu',kernel_initializer='he_uniform'))\n",
    "# Adding the third hidden layer with 8 neurons, relu as activation function and, he_uniform as weight initializer\n",
    "model_Final_adam.add(Dense(8, activation='relu',kernel_initializer='he_uniform'))\n",
    "# Adding the output layer with one neuron and linear as activation\n",
    "model_Final_adam.add(Dense(1, activation='linear'))\n",
    "\n",
    "model_Final_adam.summary()"
   ]
  },
  {
   "cell_type": "code",
   "execution_count": 69,
   "id": "50bacad24df21c",
   "metadata": {
    "ExecuteTime": {
     "end_time": "2024-01-14T08:22:13.251480600Z",
     "start_time": "2024-01-14T08:22:08.423547800Z"
    },
    "collapsed": false
   },
   "outputs": [
    {
     "name": "stdout",
     "output_type": "stream",
     "text": [
      "Epoch 1/100\n",
      "44/44 [==============================] - 1s 5ms/step - loss: 2865.6658 - mae: 50.4558 - val_loss: 2853.0298 - val_mae: 49.9291\n",
      "Epoch 2/100\n",
      "44/44 [==============================] - 0s 2ms/step - loss: 2169.0518 - mae: 42.6048 - val_loss: 1383.7037 - val_mae: 31.9261\n",
      "Epoch 3/100\n",
      "44/44 [==============================] - 0s 2ms/step - loss: 585.3307 - mae: 19.3191 - val_loss: 410.6964 - val_mae: 16.1363\n",
      "Epoch 4/100\n",
      "44/44 [==============================] - 0s 2ms/step - loss: 416.7723 - mae: 16.0796 - val_loss: 358.6664 - val_mae: 14.9961\n",
      "Epoch 5/100\n",
      "44/44 [==============================] - 0s 2ms/step - loss: 367.3485 - mae: 15.1752 - val_loss: 312.5489 - val_mae: 14.1130\n",
      "Epoch 6/100\n",
      "44/44 [==============================] - 0s 2ms/step - loss: 364.6774 - mae: 15.0486 - val_loss: 306.6911 - val_mae: 13.7274\n",
      "Epoch 7/100\n",
      "44/44 [==============================] - 0s 2ms/step - loss: 307.6023 - mae: 13.8881 - val_loss: 278.6072 - val_mae: 13.1165\n",
      "Epoch 8/100\n",
      "44/44 [==============================] - 0s 2ms/step - loss: 294.7377 - mae: 13.6914 - val_loss: 253.1758 - val_mae: 12.5278\n",
      "Epoch 9/100\n",
      "44/44 [==============================] - 0s 2ms/step - loss: 276.1076 - mae: 13.1357 - val_loss: 229.2111 - val_mae: 11.9107\n",
      "Epoch 10/100\n",
      "44/44 [==============================] - 0s 2ms/step - loss: 267.7615 - mae: 13.0675 - val_loss: 234.7488 - val_mae: 11.9340\n",
      "Epoch 11/100\n",
      "44/44 [==============================] - 0s 2ms/step - loss: 240.7418 - mae: 12.3367 - val_loss: 219.7066 - val_mae: 11.5554\n",
      "Epoch 12/100\n",
      "44/44 [==============================] - 0s 2ms/step - loss: 242.3633 - mae: 12.2235 - val_loss: 203.1819 - val_mae: 11.0832\n",
      "Epoch 13/100\n",
      "44/44 [==============================] - 0s 2ms/step - loss: 239.0657 - mae: 12.2817 - val_loss: 180.5509 - val_mae: 10.4876\n",
      "Epoch 14/100\n",
      "44/44 [==============================] - 0s 2ms/step - loss: 230.8201 - mae: 11.9958 - val_loss: 191.8150 - val_mae: 10.6719\n",
      "Epoch 15/100\n",
      "44/44 [==============================] - 0s 2ms/step - loss: 222.9300 - mae: 11.9011 - val_loss: 204.7906 - val_mae: 11.0179\n",
      "Epoch 16/100\n",
      "44/44 [==============================] - 0s 2ms/step - loss: 216.0353 - mae: 11.5734 - val_loss: 182.5116 - val_mae: 10.3904\n",
      "Epoch 17/100\n",
      "44/44 [==============================] - 0s 2ms/step - loss: 194.6583 - mae: 11.0040 - val_loss: 175.6840 - val_mae: 10.2313\n",
      "Epoch 18/100\n",
      "44/44 [==============================] - 0s 2ms/step - loss: 207.1769 - mae: 11.3760 - val_loss: 174.6563 - val_mae: 10.2225\n",
      "Epoch 19/100\n",
      "44/44 [==============================] - 0s 2ms/step - loss: 196.5999 - mae: 11.1360 - val_loss: 182.1153 - val_mae: 10.4619\n",
      "Epoch 20/100\n",
      "44/44 [==============================] - 0s 2ms/step - loss: 185.2693 - mae: 10.6625 - val_loss: 181.7721 - val_mae: 10.5003\n",
      "Epoch 21/100\n",
      "44/44 [==============================] - 0s 2ms/step - loss: 190.7388 - mae: 10.7994 - val_loss: 157.4362 - val_mae: 9.7347\n",
      "Epoch 22/100\n",
      "44/44 [==============================] - 0s 2ms/step - loss: 183.5612 - mae: 10.7719 - val_loss: 159.8818 - val_mae: 9.7910\n",
      "Epoch 23/100\n",
      "44/44 [==============================] - 0s 2ms/step - loss: 177.3087 - mae: 10.4533 - val_loss: 160.8906 - val_mae: 9.8902\n",
      "Epoch 24/100\n",
      "44/44 [==============================] - 0s 2ms/step - loss: 171.5199 - mae: 10.2584 - val_loss: 145.0579 - val_mae: 9.3260\n",
      "Epoch 25/100\n",
      "44/44 [==============================] - 0s 2ms/step - loss: 183.8899 - mae: 10.8216 - val_loss: 149.1556 - val_mae: 9.4764\n",
      "Epoch 26/100\n",
      "44/44 [==============================] - 0s 2ms/step - loss: 164.8015 - mae: 10.1317 - val_loss: 144.1427 - val_mae: 9.3651\n",
      "Epoch 27/100\n",
      "44/44 [==============================] - 0s 2ms/step - loss: 168.6468 - mae: 10.0967 - val_loss: 144.5243 - val_mae: 9.3639\n",
      "Epoch 28/100\n",
      "44/44 [==============================] - 0s 2ms/step - loss: 167.8578 - mae: 10.0558 - val_loss: 139.9439 - val_mae: 9.1873\n",
      "Epoch 29/100\n",
      "44/44 [==============================] - 0s 2ms/step - loss: 170.3837 - mae: 10.2064 - val_loss: 152.1531 - val_mae: 9.6786\n",
      "Epoch 30/100\n",
      "44/44 [==============================] - 0s 2ms/step - loss: 157.3580 - mae: 9.9739 - val_loss: 134.4211 - val_mae: 8.9874\n",
      "Epoch 31/100\n",
      "44/44 [==============================] - 0s 2ms/step - loss: 165.7521 - mae: 10.0048 - val_loss: 131.7597 - val_mae: 8.9033\n",
      "Epoch 32/100\n",
      "44/44 [==============================] - 0s 2ms/step - loss: 152.2881 - mae: 9.7585 - val_loss: 142.3426 - val_mae: 9.3229\n",
      "Epoch 33/100\n",
      "44/44 [==============================] - 0s 2ms/step - loss: 164.8676 - mae: 10.1619 - val_loss: 130.0141 - val_mae: 8.8514\n",
      "Epoch 34/100\n",
      "44/44 [==============================] - 0s 2ms/step - loss: 158.2606 - mae: 9.9325 - val_loss: 164.2830 - val_mae: 10.2919\n",
      "Epoch 35/100\n",
      "44/44 [==============================] - 0s 2ms/step - loss: 158.2905 - mae: 9.8285 - val_loss: 146.7995 - val_mae: 9.5442\n",
      "Epoch 36/100\n",
      "44/44 [==============================] - 0s 2ms/step - loss: 155.2713 - mae: 9.7951 - val_loss: 128.3370 - val_mae: 8.7939\n",
      "Epoch 37/100\n",
      "44/44 [==============================] - 0s 2ms/step - loss: 152.7002 - mae: 9.6843 - val_loss: 141.7038 - val_mae: 9.3362\n",
      "Epoch 38/100\n",
      "44/44 [==============================] - 0s 2ms/step - loss: 152.1498 - mae: 9.7313 - val_loss: 120.9251 - val_mae: 8.5089\n",
      "Epoch 39/100\n",
      "44/44 [==============================] - 0s 2ms/step - loss: 146.9547 - mae: 9.6563 - val_loss: 142.9529 - val_mae: 9.4309\n",
      "Epoch 40/100\n",
      "44/44 [==============================] - 0s 2ms/step - loss: 145.2630 - mae: 9.4746 - val_loss: 121.3678 - val_mae: 8.5375\n",
      "Epoch 41/100\n",
      "44/44 [==============================] - 0s 2ms/step - loss: 142.9271 - mae: 9.3581 - val_loss: 132.2330 - val_mae: 9.0394\n",
      "Epoch 42/100\n",
      "44/44 [==============================] - 0s 2ms/step - loss: 135.6945 - mae: 9.0678 - val_loss: 135.7249 - val_mae: 9.1657\n",
      "Epoch 43/100\n",
      "44/44 [==============================] - 0s 2ms/step - loss: 140.7657 - mae: 9.2694 - val_loss: 132.6172 - val_mae: 9.0292\n"
     ]
    }
   ],
   "source": [
    "# Initializing the Optimizer\n",
    "optimizer = Adam(0.001)\n",
    "# Compiling the model with 'mse' as loss function and metrics\n",
    "model_Final_adam.compile(loss='mse',\n",
    "                    optimizer=optimizer,\n",
    "                    metrics=['mae'])\n",
    "# Adding the callbacks\n",
    "es_cb = callbacks.EarlyStopping(monitor='val_loss', min_delta=0.001, patience=5)\n",
    "# Fitting the model on train and validation with 50 epochs\n",
    "history_Final_adam = model_Final_adam.fit(X_train_scaled, y_train, validation_data=(X_val_scaled, y_val), epochs=100,callbacks=es_cb)"
   ]
  },
  {
   "cell_type": "code",
   "execution_count": 70,
   "id": "96d193cbcb594bad",
   "metadata": {
    "ExecuteTime": {
     "end_time": "2024-01-14T08:22:13.428299200Z",
     "start_time": "2024-01-14T08:22:13.228460300Z"
    },
    "collapsed": false
   },
   "outputs": [
    {
     "data": {
      "image/png": "[encoded data removed]",
      "text/plain": [
       "<Figure size 640x480 with 1 Axes>"
      ]
     },
     "metadata": {},
     "output_type": "display_data"
    }
   ],
   "source": [
    "plt.title('Loss / Mean Squared Error')\n",
    "plt.plot(history_Final_adam.history['loss'], label='train')\n",
    "plt.plot(history_Final_adam.history['val_loss'], label='validate')\n",
    "plt.legend()\n",
    "plt.show()"
   ]
  },
  {
   "cell_type": "code",
   "execution_count": 71,
   "id": "66197d87b17487c9",
   "metadata": {
    "ExecuteTime": {
     "end_time": "2024-01-14T08:22:13.594586300Z",
     "start_time": "2024-01-14T08:22:13.417300100Z"
    },
    "collapsed": false
   },
   "outputs": [
    {
     "name": "stdout",
     "output_type": "stream",
     "text": [
      "11/11 [==============================] - 0s 1ms/step\n",
      "Validation Performance\n"
     ]
    },
    {
     "data": {
      "text/html": [
       "<div>\n",
       "<style scoped>\n",
       "    .dataframe tbody tr th:only-of-type {\n",
       "        vertical-align: middle;\n",
       "    }\n",
       "\n",
       "    .dataframe tbody tr th {\n",
       "        vertical-align: top;\n",
       "    }\n",
       "\n",
       "    .dataframe thead th {\n",
       "        text-align: right;\n",
       "    }\n",
       "</style>\n",
       "<table border=\"1\" class=\"dataframe\">\n",
       "  <thead>\n",
       "    <tr style=\"text-align: right;\">\n",
       "      <th></th>\n",
       "      <th>RMSE</th>\n",
       "      <th>MAE</th>\n",
       "      <th>R-squared</th>\n",
       "      <th>Adj. R-squared</th>\n",
       "    </tr>\n",
       "  </thead>\n",
       "  <tbody>\n",
       "    <tr>\n",
       "      <th>0</th>\n",
       "      <td>11.515953</td>\n",
       "      <td>9.029235</td>\n",
       "      <td>0.630077</td>\n",
       "      <td>0.611078</td>\n",
       "    </tr>\n",
       "  </tbody>\n",
       "</table>\n",
       "</div>"
      ],
      "text/plain": [
       "        RMSE       MAE  R-squared  Adj. R-squared\n",
       "0  11.515953  9.029235   0.630077        0.611078"
      ]
     },
     "execution_count": 71,
     "metadata": {},
     "output_type": "execute_result"
    }
   ],
   "source": [
    "y_result_final_adam = model_Final_adam.predict(X_val_scaled)\n",
    "print(\"Validation Performance\\n\")\n",
    "final_train_adam = model_performance_regression(X_val_scaled,y_val, y_result_final_adam)\n",
    "final_train_adam"
   ]
  },
  {
   "cell_type": "code",
   "execution_count": 72,
   "id": "b2fec0d698a88f99",
   "metadata": {
    "ExecuteTime": {
     "end_time": "2024-01-14T08:22:13.780151800Z",
     "start_time": "2024-01-14T08:22:13.557946300Z"
    },
    "collapsed": false
   },
   "outputs": [
    {
     "name": "stdout",
     "output_type": "stream",
     "text": [
      "7/7 [==============================] - 0s 1ms/step\n",
      "Test set Performance\n"
     ]
    },
    {
     "data": {
      "text/html": [
       "<div>\n",
       "<style scoped>\n",
       "    .dataframe tbody tr th:only-of-type {\n",
       "        vertical-align: middle;\n",
       "    }\n",
       "\n",
       "    .dataframe tbody tr th {\n",
       "        vertical-align: top;\n",
       "    }\n",
       "\n",
       "    .dataframe thead th {\n",
       "        text-align: right;\n",
       "    }\n",
       "</style>\n",
       "<table border=\"1\" class=\"dataframe\">\n",
       "  <thead>\n",
       "    <tr style=\"text-align: right;\">\n",
       "      <th></th>\n",
       "      <th>RMSE</th>\n",
       "      <th>MAE</th>\n",
       "      <th>R-squared</th>\n",
       "      <th>Adj. R-squared</th>\n",
       "    </tr>\n",
       "  </thead>\n",
       "  <tbody>\n",
       "    <tr>\n",
       "      <th>0</th>\n",
       "      <td>11.248682</td>\n",
       "      <td>8.634392</td>\n",
       "      <td>0.640224</td>\n",
       "      <td>0.605473</td>\n",
       "    </tr>\n",
       "  </tbody>\n",
       "</table>\n",
       "</div>"
      ],
      "text/plain": [
       "        RMSE       MAE  R-squared  Adj. R-squared\n",
       "0  11.248682  8.634392   0.640224        0.605473"
      ]
     },
     "execution_count": 72,
     "metadata": {},
     "output_type": "execute_result"
    }
   ],
   "source": [
    "y_result_final_adam_test = model_Final_adam.predict(X_test_scaled)\n",
    "print(\"Test set Performance\\n\")\n",
    "final_test_adam = model_performance_regression(X_test_scaled,y_test, y_result_final_adam_test)\n",
    "final_test_adam"
   ]
  },
  {
   "cell_type": "markdown",
   "id": "70d38add7f0cd51d",
   "metadata": {
    "collapsed": false
   },
   "source": [
    "* Try SGD"
   ]
  },
  {
   "cell_type": "code",
   "execution_count": 73,
   "id": "e2a1ca158520b9f1",
   "metadata": {
    "ExecuteTime": {
     "end_time": "2024-01-14T08:22:13.782143200Z",
     "start_time": "2024-01-14T08:22:13.627972Z"
    },
    "collapsed": false
   },
   "outputs": [],
   "source": [
    "backend.clear_session()\n",
    "#Fixing the seed for random number generators so that we can ensure we receive the same output everytime\n",
    "np.random.seed(42)\n",
    "random.seed(42)\n",
    "tf.random.set_seed(42)"
   ]
  },
  {
   "cell_type": "code",
   "execution_count": 74,
   "id": "f7bc25f2b37d5309",
   "metadata": {
    "ExecuteTime": {
     "end_time": "2024-01-14T08:22:13.835719Z",
     "start_time": "2024-01-14T08:22:13.637308600Z"
    },
    "collapsed": false
   },
   "outputs": [
    {
     "name": "stdout",
     "output_type": "stream",
     "text": [
      "Model: \"sequential\"\n",
      "_________________________________________________________________\n",
      " Layer (type)                Output Shape              Param #   \n",
      "=================================================================\n",
      " dense (Dense)               (None, 64)                1152      \n",
      "                                                                 \n",
      " dropout (Dropout)           (None, 64)                0         \n",
      "                                                                 \n",
      " dense_1 (Dense)             (None, 32)                2080      \n",
      "                                                                 \n",
      " dropout_1 (Dropout)         (None, 32)                0         \n",
      "                                                                 \n",
      " dense_2 (Dense)             (None, 16)                528       \n",
      "                                                                 \n",
      " dense_3 (Dense)             (None, 8)                 136       \n",
      "                                                                 \n",
      " dense_4 (Dense)             (None, 1)                 9         \n",
      "                                                                 \n",
      "=================================================================\n",
      "Total params: 3905 (15.25 KB)\n",
      "Trainable params: 3905 (15.25 KB)\n",
      "Non-trainable params: 0 (0.00 Byte)\n",
      "_________________________________________________________________\n"
     ]
    }
   ],
   "source": [
    "model_Final_sgd = Sequential()\n",
    "# Adding input layer with 64 neurons, relu as activation function and, he_uniform as weight initializer.\n",
    "model_Final_sgd.add(Dense(64, activation='relu',kernel_initializer='he_uniform', input_shape=(17,)))\n",
    "# Adding dropout with ratio of 0.2\n",
    "model_Final_sgd.add(Dropout(0.2))\n",
    "# Adding the first hidden layer with 32 neurons, relu as activation function and, he_uniform as weight initializer\n",
    "model_Final_sgd.add(Dense(32, activation='relu',kernel_initializer='he_uniform'))\n",
    "# Adding dropout with ratio of 0.2\n",
    "model_Final_sgd.add(Dropout(0.2))\n",
    "# Adding the second hidden layer with 16 neurons, relu as activation function and, he_uniform as weight initializer\n",
    "model_Final_sgd.add(Dense(16, activation='relu',kernel_initializer='he_uniform'))\n",
    "# Adding the third hidden layer with 8 neurons, relu as activation function and, he_uniform as weight initializer\n",
    "model_Final_sgd.add(Dense(8, activation='relu',kernel_initializer='he_uniform'))\n",
    "# Adding the output layer with one neuron and linear as activation\n",
    "model_Final_sgd.add(Dense(1, activation='linear'))\n",
    "\n",
    "model_Final_sgd.summary()"
   ]
  },
  {
   "cell_type": "code",
   "execution_count": 75,
   "id": "5ba8dccaea98c804",
   "metadata": {
    "ExecuteTime": {
     "end_time": "2024-01-14T08:22:16.510214300Z",
     "start_time": "2024-01-14T08:22:13.705071900Z"
    },
    "collapsed": false
   },
   "outputs": [
    {
     "name": "stdout",
     "output_type": "stream",
     "text": [
      "Epoch 1/300\n",
      "44/44 [==============================] - 1s 4ms/step - loss: 2494.8008 - mae: 45.8672 - val_loss: 428.4495 - val_mae: 16.8197\n",
      "Epoch 2/300\n",
      "44/44 [==============================] - 0s 2ms/step - loss: 441.0272 - mae: 16.4899 - val_loss: 363.4308 - val_mae: 15.0094\n",
      "Epoch 3/300\n",
      "44/44 [==============================] - 0s 2ms/step - loss: 293.6526 - mae: 13.4909 - val_loss: 237.1232 - val_mae: 12.3555\n",
      "Epoch 4/300\n",
      "44/44 [==============================] - 0s 2ms/step - loss: 261.2545 - mae: 12.8397 - val_loss: 245.4316 - val_mae: 12.1494\n",
      "Epoch 5/300\n",
      "44/44 [==============================] - 0s 2ms/step - loss: 231.7130 - mae: 12.1332 - val_loss: 161.4153 - val_mae: 9.9081\n",
      "Epoch 6/300\n",
      "44/44 [==============================] - 0s 2ms/step - loss: 210.0773 - mae: 11.5368 - val_loss: 171.0694 - val_mae: 10.5411\n",
      "Epoch 7/300\n",
      "44/44 [==============================] - 0s 3ms/step - loss: 220.2348 - mae: 11.8456 - val_loss: 137.5995 - val_mae: 9.2378\n",
      "Epoch 8/300\n",
      "44/44 [==============================] - 0s 2ms/step - loss: 182.0235 - mae: 10.5660 - val_loss: 137.2277 - val_mae: 9.0411\n",
      "Epoch 9/300\n",
      "44/44 [==============================] - 0s 2ms/step - loss: 180.7148 - mae: 10.6459 - val_loss: 168.5596 - val_mae: 10.5634\n",
      "Epoch 10/300\n",
      "44/44 [==============================] - 0s 3ms/step - loss: 163.7971 - mae: 10.2859 - val_loss: 130.1531 - val_mae: 8.8403\n",
      "Epoch 11/300\n",
      "44/44 [==============================] - 0s 3ms/step - loss: 183.3432 - mae: 10.7116 - val_loss: 217.9759 - val_mae: 11.5430\n",
      "Epoch 12/300\n",
      "44/44 [==============================] - 0s 2ms/step - loss: 154.4170 - mae: 9.7315 - val_loss: 158.8649 - val_mae: 9.7883\n",
      "Epoch 13/300\n",
      "44/44 [==============================] - 0s 2ms/step - loss: 152.1808 - mae: 9.8036 - val_loss: 120.9598 - val_mae: 8.3556\n",
      "Epoch 14/300\n",
      "44/44 [==============================] - 0s 2ms/step - loss: 163.7753 - mae: 10.0140 - val_loss: 129.9061 - val_mae: 8.8625\n",
      "Epoch 15/300\n",
      "44/44 [==============================] - 0s 2ms/step - loss: 156.6554 - mae: 9.7759 - val_loss: 160.0490 - val_mae: 9.7955\n",
      "Epoch 16/300\n",
      "44/44 [==============================] - 0s 2ms/step - loss: 142.8282 - mae: 9.4702 - val_loss: 217.1629 - val_mae: 11.8896\n",
      "Epoch 17/300\n",
      "44/44 [==============================] - 0s 2ms/step - loss: 150.2220 - mae: 9.6867 - val_loss: 113.3682 - val_mae: 8.2302\n",
      "Epoch 18/300\n",
      "44/44 [==============================] - 0s 2ms/step - loss: 132.9224 - mae: 9.1356 - val_loss: 119.6263 - val_mae: 8.3303\n",
      "Epoch 19/300\n",
      "44/44 [==============================] - 0s 3ms/step - loss: 154.3622 - mae: 9.6987 - val_loss: 194.8183 - val_mae: 11.3676\n",
      "Epoch 20/300\n",
      "44/44 [==============================] - 0s 2ms/step - loss: 149.9639 - mae: 9.6685 - val_loss: 127.3128 - val_mae: 8.7764\n",
      "Epoch 21/300\n",
      "44/44 [==============================] - 0s 2ms/step - loss: 145.9119 - mae: 9.5577 - val_loss: 117.3053 - val_mae: 8.5092\n",
      "Epoch 22/300\n",
      "44/44 [==============================] - 0s 2ms/step - loss: 116.5855 - mae: 8.5261 - val_loss: 191.3929 - val_mae: 11.1811\n"
     ]
    }
   ],
   "source": [
    "# Initializing the Optimizer\n",
    "optimizer = SGD(0.001)\n",
    "# Compiling the model with 'mse' as loss function and metrics\n",
    "model_Final_sgd.compile(loss='mse',\n",
    "                    optimizer=optimizer,\n",
    "                    metrics=['mae'])\n",
    "# Adding the callbacks\n",
    "es_cb = callbacks.EarlyStopping(monitor='val_loss', min_delta=0.001, patience=5)\n",
    "# Fitting the model on train and validation with 50 epochs\n",
    "history_Final_sgd = model_Final_sgd.fit(X_train_scaled, y_train, validation_data=(X_val_scaled, y_val), epochs=300,callbacks=es_cb)"
   ]
  },
  {
   "cell_type": "code",
   "execution_count": 76,
   "id": "959d0c113a117df6",
   "metadata": {
    "ExecuteTime": {
     "end_time": "2024-01-14T08:22:16.628343400Z",
     "start_time": "2024-01-14T08:22:16.468651500Z"
    },
    "collapsed": false
   },
   "outputs": [
    {
     "data": {
      "image/png": "[encoded data removed]",
      "text/plain": [
       "<Figure size 640x480 with 1 Axes>"
      ]
     },
     "metadata": {},
     "output_type": "display_data"
    }
   ],
   "source": [
    "plt.title('Loss / Mean Squared Error')\n",
    "plt.plot(history_Final_sgd.history['loss'], label='train')\n",
    "plt.plot(history_Final_sgd.history['val_loss'], label='validate')\n",
    "plt.legend()\n",
    "plt.show()"
   ]
  },
  {
   "cell_type": "code",
   "execution_count": 77,
   "id": "4c29ad17c0ecfc57",
   "metadata": {
    "ExecuteTime": {
     "end_time": "2024-01-14T08:22:16.771707800Z",
     "start_time": "2024-01-14T08:22:16.623337700Z"
    },
    "collapsed": false
   },
   "outputs": [
    {
     "name": "stdout",
     "output_type": "stream",
     "text": [
      "11/11 [==============================] - 0s 1ms/step\n",
      "Validation Performance\n"
     ]
    },
    {
     "data": {
      "text/html": [
       "<div>\n",
       "<style scoped>\n",
       "    .dataframe tbody tr th:only-of-type {\n",
       "        vertical-align: middle;\n",
       "    }\n",
       "\n",
       "    .dataframe tbody tr th {\n",
       "        vertical-align: top;\n",
       "    }\n",
       "\n",
       "    .dataframe thead th {\n",
       "        text-align: right;\n",
       "    }\n",
       "</style>\n",
       "<table border=\"1\" class=\"dataframe\">\n",
       "  <thead>\n",
       "    <tr style=\"text-align: right;\">\n",
       "      <th></th>\n",
       "      <th>RMSE</th>\n",
       "      <th>MAE</th>\n",
       "      <th>R-squared</th>\n",
       "      <th>Adj. R-squared</th>\n",
       "    </tr>\n",
       "  </thead>\n",
       "  <tbody>\n",
       "    <tr>\n",
       "      <th>0</th>\n",
       "      <td>13.834482</td>\n",
       "      <td>11.181119</td>\n",
       "      <td>0.466128</td>\n",
       "      <td>0.438709</td>\n",
       "    </tr>\n",
       "  </tbody>\n",
       "</table>\n",
       "</div>"
      ],
      "text/plain": [
       "        RMSE        MAE  R-squared  Adj. R-squared\n",
       "0  13.834482  11.181119   0.466128        0.438709"
      ]
     },
     "execution_count": 77,
     "metadata": {},
     "output_type": "execute_result"
    }
   ],
   "source": [
    "y_result_final_sgd = model_Final_sgd.predict(X_val_scaled)\n",
    "print(\"Validation Performance\\n\")\n",
    "final_train_sgd = model_performance_regression(X_val_scaled,y_val, y_result_final_sgd)\n",
    "final_train_sgd"
   ]
  },
  {
   "cell_type": "code",
   "execution_count": 78,
   "id": "59953a2ea741a826",
   "metadata": {
    "ExecuteTime": {
     "end_time": "2024-01-14T08:22:16.939182300Z",
     "start_time": "2024-01-14T08:22:16.744150Z"
    },
    "collapsed": false
   },
   "outputs": [
    {
     "name": "stdout",
     "output_type": "stream",
     "text": [
      "7/7 [==============================] - 0s 1ms/step\n",
      "Test Performance\n"
     ]
    },
    {
     "data": {
      "text/html": [
       "<div>\n",
       "<style scoped>\n",
       "    .dataframe tbody tr th:only-of-type {\n",
       "        vertical-align: middle;\n",
       "    }\n",
       "\n",
       "    .dataframe tbody tr th {\n",
       "        vertical-align: top;\n",
       "    }\n",
       "\n",
       "    .dataframe thead th {\n",
       "        text-align: right;\n",
       "    }\n",
       "</style>\n",
       "<table border=\"1\" class=\"dataframe\">\n",
       "  <thead>\n",
       "    <tr style=\"text-align: right;\">\n",
       "      <th></th>\n",
       "      <th>RMSE</th>\n",
       "      <th>MAE</th>\n",
       "      <th>R-squared</th>\n",
       "      <th>Adj. R-squared</th>\n",
       "    </tr>\n",
       "  </thead>\n",
       "  <tbody>\n",
       "    <tr>\n",
       "      <th>0</th>\n",
       "      <td>17.015367</td>\n",
       "      <td>14.218208</td>\n",
       "      <td>0.176789</td>\n",
       "      <td>0.097275</td>\n",
       "    </tr>\n",
       "  </tbody>\n",
       "</table>\n",
       "</div>"
      ],
      "text/plain": [
       "        RMSE        MAE  R-squared  Adj. R-squared\n",
       "0  17.015367  14.218208   0.176789        0.097275"
      ]
     },
     "execution_count": 78,
     "metadata": {},
     "output_type": "execute_result"
    }
   ],
   "source": [
    "y_result_final_sgd_test = model_Final_sgd.predict(X_test_scaled)\n",
    "print(\"Test Performance\\n\")\n",
    "final_test_sgd = model_performance_regression(X_test_scaled,y_test, y_result_final_sgd_test)\n",
    "final_test_sgd"
   ]
  },
  {
   "cell_type": "markdown",
   "id": "9c51e736c5d0749f",
   "metadata": {
    "collapsed": false
   },
   "source": [
    "# Overall summary"
   ]
  },
  {
   "cell_type": "code",
   "execution_count": 79,
   "id": "fac7f6cd688bac44",
   "metadata": {
    "ExecuteTime": {
     "end_time": "2024-01-14T08:22:16.940404500Z",
     "start_time": "2024-01-14T08:22:16.831091500Z"
    },
    "collapsed": false
   },
   "outputs": [
    {
     "name": "stdout",
     "output_type": "stream",
     "text": [
      "Training performance comparison:\n"
     ]
    },
    {
     "data": {
      "text/html": [
       "<div>\n",
       "<style scoped>\n",
       "    .dataframe tbody tr th:only-of-type {\n",
       "        vertical-align: middle;\n",
       "    }\n",
       "\n",
       "    .dataframe tbody tr th {\n",
       "        vertical-align: top;\n",
       "    }\n",
       "\n",
       "    .dataframe thead th {\n",
       "        text-align: right;\n",
       "    }\n",
       "</style>\n",
       "<table border=\"1\" class=\"dataframe\">\n",
       "  <thead>\n",
       "    <tr style=\"text-align: right;\">\n",
       "      <th></th>\n",
       "      <th>ANN</th>\n",
       "      <th>Early drop</th>\n",
       "      <th>Dropout</th>\n",
       "      <th>Batch Normalization</th>\n",
       "      <th>Final adam</th>\n",
       "    </tr>\n",
       "  </thead>\n",
       "  <tbody>\n",
       "    <tr>\n",
       "      <th>RMSE</th>\n",
       "      <td>9.498210</td>\n",
       "      <td>17.385303</td>\n",
       "      <td>12.353065</td>\n",
       "      <td>9.551148</td>\n",
       "      <td>11.515953</td>\n",
       "    </tr>\n",
       "    <tr>\n",
       "      <th>MAE</th>\n",
       "      <td>7.098654</td>\n",
       "      <td>14.559092</td>\n",
       "      <td>9.759576</td>\n",
       "      <td>7.167295</td>\n",
       "      <td>9.029235</td>\n",
       "    </tr>\n",
       "    <tr>\n",
       "      <th>R-squared</th>\n",
       "      <td>0.748351</td>\n",
       "      <td>0.156906</td>\n",
       "      <td>0.574342</td>\n",
       "      <td>0.745538</td>\n",
       "      <td>0.630077</td>\n",
       "    </tr>\n",
       "    <tr>\n",
       "      <th>Adj. R-squared</th>\n",
       "      <td>0.735427</td>\n",
       "      <td>0.113605</td>\n",
       "      <td>0.552480</td>\n",
       "      <td>0.732469</td>\n",
       "      <td>0.611078</td>\n",
       "    </tr>\n",
       "  </tbody>\n",
       "</table>\n",
       "</div>"
      ],
      "text/plain": [
       "                     ANN  Early drop    Dropout  Batch Normalization  \\\n",
       "RMSE            9.498210   17.385303  12.353065             9.551148   \n",
       "MAE             7.098654   14.559092   9.759576             7.167295   \n",
       "R-squared       0.748351    0.156906   0.574342             0.745538   \n",
       "Adj. R-squared  0.735427    0.113605   0.552480             0.732469   \n",
       "\n",
       "                Final adam  \n",
       "RMSE             11.515953  \n",
       "MAE               9.029235  \n",
       "R-squared         0.630077  \n",
       "Adj. R-squared    0.611078  "
      ]
     },
     "execution_count": 79,
     "metadata": {},
     "output_type": "execute_result"
    }
   ],
   "source": [
    "models_train_comp_df = pd.concat(\n",
    "    [\n",
    "        ANN_train_sgd.T,\n",
    "        ES_train.T,\n",
    "        DO_train.T,\n",
    "        BN_train.T,\n",
    "        final_train_adam.T\n",
    "    ],\n",
    "    axis=1,\n",
    ")\n",
    "\n",
    "models_train_comp_df.columns = [\n",
    "    'ANN',\n",
    "    'Early drop',\n",
    "    'Dropout',\n",
    "    'Batch Normalization',\n",
    "    'Final adam'\n",
    "]\n",
    "\n",
    "print(\"Training performance comparison:\")\n",
    "models_train_comp_df"
   ]
  },
  {
   "cell_type": "code",
   "execution_count": 80,
   "id": "3cceea80cfc6cd91",
   "metadata": {
    "ExecuteTime": {
     "end_time": "2024-01-14T08:22:16.942180200Z",
     "start_time": "2024-01-14T08:22:16.843257200Z"
    },
    "collapsed": false
   },
   "outputs": [
    {
     "name": "stdout",
     "output_type": "stream",
     "text": [
      "Testing performance comparison:\n"
     ]
    },
    {
     "data": {
      "text/html": [
       "<div>\n",
       "<style scoped>\n",
       "    .dataframe tbody tr th:only-of-type {\n",
       "        vertical-align: middle;\n",
       "    }\n",
       "\n",
       "    .dataframe tbody tr th {\n",
       "        vertical-align: top;\n",
       "    }\n",
       "\n",
       "    .dataframe thead th {\n",
       "        text-align: right;\n",
       "    }\n",
       "</style>\n",
       "<table border=\"1\" class=\"dataframe\">\n",
       "  <thead>\n",
       "    <tr style=\"text-align: right;\">\n",
       "      <th></th>\n",
       "      <th>ANN</th>\n",
       "      <th>Early drop</th>\n",
       "      <th>Dropout</th>\n",
       "      <th>Batch Normalization</th>\n",
       "      <th>Final</th>\n",
       "    </tr>\n",
       "  </thead>\n",
       "  <tbody>\n",
       "    <tr>\n",
       "      <th>RMSE</th>\n",
       "      <td>10.797722</td>\n",
       "      <td>14.276386</td>\n",
       "      <td>10.849787</td>\n",
       "      <td>11.112581</td>\n",
       "      <td>11.248682</td>\n",
       "    </tr>\n",
       "    <tr>\n",
       "      <th>MAE</th>\n",
       "      <td>8.234684</td>\n",
       "      <td>11.221472</td>\n",
       "      <td>8.355517</td>\n",
       "      <td>8.453840</td>\n",
       "      <td>8.634392</td>\n",
       "    </tr>\n",
       "    <tr>\n",
       "      <th>R-squared</th>\n",
       "      <td>0.668493</td>\n",
       "      <td>0.420485</td>\n",
       "      <td>0.665288</td>\n",
       "      <td>0.648878</td>\n",
       "      <td>0.640224</td>\n",
       "    </tr>\n",
       "    <tr>\n",
       "      <th>Adj. R-squared</th>\n",
       "      <td>0.636472</td>\n",
       "      <td>0.364509</td>\n",
       "      <td>0.632958</td>\n",
       "      <td>0.614963</td>\n",
       "      <td>0.605473</td>\n",
       "    </tr>\n",
       "  </tbody>\n",
       "</table>\n",
       "</div>"
      ],
      "text/plain": [
       "                      ANN  Early drop    Dropout  Batch Normalization  \\\n",
       "RMSE            10.797722   14.276386  10.849787            11.112581   \n",
       "MAE              8.234684   11.221472   8.355517             8.453840   \n",
       "R-squared        0.668493    0.420485   0.665288             0.648878   \n",
       "Adj. R-squared   0.636472    0.364509   0.632958             0.614963   \n",
       "\n",
       "                    Final  \n",
       "RMSE            11.248682  \n",
       "MAE              8.634392  \n",
       "R-squared        0.640224  \n",
       "Adj. R-squared   0.605473  "
      ]
     },
     "execution_count": 80,
     "metadata": {},
     "output_type": "execute_result"
    }
   ],
   "source": [
    "models_test_comp_df = pd.concat(\n",
    "    [\n",
    "        ANN_test_sgd.T,\n",
    "        ES_test.T,\n",
    "        DO_test.T,\n",
    "        BN_test.T,\n",
    "        final_test_adam.T\n",
    "    ],\n",
    "    axis=1,\n",
    ")\n",
    "\n",
    "models_test_comp_df.columns = [\n",
    "    'ANN',\n",
    "    'Early drop',\n",
    "    'Dropout',\n",
    "    'Batch Normalization',\n",
    "    'Final'\n",
    "]\n",
    "\n",
    "print(\"Testing performance comparison:\")\n",
    "models_test_comp_df"
   ]
  },
  {
   "cell_type": "markdown",
   "id": "b5fa8f96357d1f68",
   "metadata": {
    "collapsed": false
   },
   "source": [
    "# Hyperparameter tuning with gridsearchcv\n",
    "\n",
    "* The ANN model with SGD seems to be the best, yet it requires further fine tuning. "
   ]
  },
  {
   "cell_type": "code",
   "execution_count": 79,
   "id": "1fe5c8ac7f207095",
   "metadata": {
    "ExecuteTime": {
     "end_time": "2024-01-13T15:07:03.046943400Z",
     "start_time": "2024-01-13T13:24:35.215568400Z"
    },
    "collapsed": false
   },
   "outputs": [
    {
     "name": "stdout",
     "output_type": "stream",
     "text": [
      "Fitting 5 folds for each of 4374 candidates, totalling 21870 fits\n",
      "Best Parameters:  {'activation': 'relu', 'alpha': 0.001, 'early_stopping': False, 'hidden_layer_sizes': (128, 64, 32), 'learning_rate': 'adaptive', 'n_iter_no_change': 15, 'solver': 'sgd', 'validation_fraction': 0.3}\n",
      "Best Score:  -62.80326695351405\n",
      "CPU times: total: 8min 37s\n",
      "Wall time: 1h 42min 27s\n"
     ]
    }
   ],
   "source": [
    "%%time\n",
    "\n",
    "# Define the parameter grid\n",
    "param_grid = {\n",
    "    'hidden_layer_sizes': [(64, 32, 32), (128, 64, 32), (64, 32, 16, 16)],\n",
    "    'activation': ['relu', 'sigmoid', 'tanh'],\n",
    "    'solver': ['adam', 'sgd', 'rmsprop'],\n",
    "    'learning_rate': ['constant', 'invscaling', 'adaptive'],\n",
    "    'alpha': [0.0001, 0.001, 0.01],\n",
    "    'early_stopping': [False, True],\n",
    "    'validation_fraction': [0.1, 0.2, 0.3],\n",
    "    'n_iter_no_change': [5, 10, 15]\n",
    "}\n",
    "\n",
    "# Create the GridSearchCV instance\n",
    "grid_search = GridSearchCV(\n",
    "    estimator=MLPRegressor(max_iter=100),\n",
    "    param_grid=param_grid,\n",
    "    scoring=make_scorer(mean_squared_error, greater_is_better=False),\n",
    "    cv=5,\n",
    "    verbose=1\n",
    ")\n",
    "\n",
    "# Fit the GridSearchCV instance to your data\n",
    "grid_search_result = grid_search.fit(X_train_scaled, y_train)\n",
    "\n",
    "# Print the best parameters and the corresponding score\n",
    "print(\"Best Parameters: \", grid_search_result.best_params_)\n",
    "print(\"Best Score: \", grid_search_result.best_score_)"
   ]
  },
  {
   "cell_type": "code",
   "execution_count": 122,
   "id": "9b7897eb84f1c432",
   "metadata": {
    "ExecuteTime": {
     "end_time": "2024-01-14T09:07:00.992916200Z",
     "start_time": "2024-01-14T09:07:00.915515100Z"
    },
    "collapsed": false
   },
   "outputs": [],
   "source": [
    "backend.clear_session()\n",
    "#Fixing the seed for random number generators so that we can ensure we receive the same output everytime\n",
    "np.random.seed(42)\n",
    "random.seed(42)\n",
    "tf.random.set_seed(42)"
   ]
  },
  {
   "cell_type": "code",
   "execution_count": 123,
   "id": "2900fda09f08d20b",
   "metadata": {
    "ExecuteTime": {
     "end_time": "2024-01-14T09:07:01.542095800Z",
     "start_time": "2024-01-14T09:07:01.480779Z"
    },
    "collapsed": false
   },
   "outputs": [
    {
     "name": "stdout",
     "output_type": "stream",
     "text": [
      "Model: \"sequential\"\n",
      "_________________________________________________________________\n",
      " Layer (type)                Output Shape              Param #   \n",
      "=================================================================\n",
      " dense (Dense)               (None, 128)               2304      \n",
      "                                                                 \n",
      " dense_1 (Dense)             (None, 64)                8256      \n",
      "                                                                 \n",
      " dense_2 (Dense)             (None, 32)                2080      \n",
      "                                                                 \n",
      " dense_3 (Dense)             (None, 1)                 33        \n",
      "                                                                 \n",
      "=================================================================\n",
      "Total params: 12673 (49.50 KB)\n",
      "Trainable params: 12673 (49.50 KB)\n",
      "Non-trainable params: 0 (0.00 Byte)\n",
      "_________________________________________________________________\n"
     ]
    }
   ],
   "source": [
    "model_tune = Sequential()\n",
    "# Adding input layer with 64 neurons, relu as activation function and, he_uniform as weight initializer.\n",
    "model_tune.add(Dense(128, activation='relu',kernel_initializer='he_uniform', input_shape=(17,)))\n",
    "# Adding the first hidden layer with 32 neurons, relu as activation function and, he_uniform as weight initializer\n",
    "model_tune.add(Dense(64, activation='relu',kernel_initializer='he_uniform'))\n",
    "# Adding the second hidden layer with 32 neurons, relu as activation function and, he_uniform as weight initializer\n",
    "model_tune.add(Dense(32, activation='relu',kernel_initializer='he_uniform'))\n",
    "# Adding the output layer with one neuron and linear as activation\n",
    "model_tune.add(Dense(1, activation='linear'))\n",
    "\n",
    "model_tune.summary()"
   ]
  },
  {
   "cell_type": "code",
   "execution_count": 124,
   "id": "65eb9a32564e4ab9",
   "metadata": {
    "ExecuteTime": {
     "end_time": "2024-01-14T09:07:09.897885200Z",
     "start_time": "2024-01-14T09:07:06.643654700Z"
    },
    "collapsed": false
   },
   "outputs": [
    {
     "name": "stdout",
     "output_type": "stream",
     "text": [
      "Epoch 1/40\n",
      "44/44 [==============================] - 0s 4ms/step - loss: 1340.7760 - mae: 29.7000 - val_loss: 917.5151 - val_mae: 25.5677\n",
      "Epoch 2/40\n",
      "44/44 [==============================] - 0s 2ms/step - loss: 360.8825 - mae: 15.2367 - val_loss: 189.6935 - val_mae: 10.9668\n",
      "Epoch 3/40\n",
      "44/44 [==============================] - 0s 2ms/step - loss: 264.9179 - mae: 12.9333 - val_loss: 250.8167 - val_mae: 13.2141\n",
      "Epoch 4/40\n",
      "44/44 [==============================] - 0s 2ms/step - loss: 230.3626 - mae: 12.1291 - val_loss: 374.6034 - val_mae: 15.6934\n",
      "Epoch 5/40\n",
      "44/44 [==============================] - 0s 2ms/step - loss: 234.0105 - mae: 11.9557 - val_loss: 148.6199 - val_mae: 9.6139\n",
      "Epoch 6/40\n",
      "44/44 [==============================] - 0s 2ms/step - loss: 157.4867 - mae: 9.8494 - val_loss: 165.2419 - val_mae: 10.4088\n",
      "Epoch 7/40\n",
      "44/44 [==============================] - 0s 2ms/step - loss: 187.8502 - mae: 10.7978 - val_loss: 169.6865 - val_mae: 10.3271\n",
      "Epoch 8/40\n",
      "44/44 [==============================] - 0s 2ms/step - loss: 158.6090 - mae: 9.8445 - val_loss: 123.6881 - val_mae: 8.7764\n",
      "Epoch 9/40\n",
      "44/44 [==============================] - 0s 2ms/step - loss: 142.1885 - mae: 9.4010 - val_loss: 123.0782 - val_mae: 8.6122\n",
      "Epoch 10/40\n",
      "44/44 [==============================] - 0s 2ms/step - loss: 118.0040 - mae: 8.5519 - val_loss: 143.9652 - val_mae: 9.2824\n",
      "Epoch 11/40\n",
      "44/44 [==============================] - 0s 2ms/step - loss: 143.8280 - mae: 9.3929 - val_loss: 105.3118 - val_mae: 7.9898\n",
      "Epoch 12/40\n",
      "44/44 [==============================] - 0s 2ms/step - loss: 141.3295 - mae: 9.1932 - val_loss: 295.6713 - val_mae: 14.2799\n",
      "Epoch 13/40\n",
      "44/44 [==============================] - 0s 2ms/step - loss: 127.9260 - mae: 8.9615 - val_loss: 139.8135 - val_mae: 9.1652\n",
      "Epoch 14/40\n",
      "44/44 [==============================] - 0s 2ms/step - loss: 122.0723 - mae: 8.6048 - val_loss: 153.3448 - val_mae: 9.9884\n",
      "Epoch 15/40\n",
      "44/44 [==============================] - 0s 2ms/step - loss: 135.3222 - mae: 8.9809 - val_loss: 152.0244 - val_mae: 9.6341\n",
      "Epoch 16/40\n",
      "44/44 [==============================] - 0s 2ms/step - loss: 120.3107 - mae: 8.5746 - val_loss: 320.3462 - val_mae: 15.1383\n",
      "Epoch 17/40\n",
      "44/44 [==============================] - 0s 1ms/step - loss: 116.0490 - mae: 8.4408 - val_loss: 97.3999 - val_mae: 7.5903\n",
      "Epoch 18/40\n",
      "44/44 [==============================] - 0s 2ms/step - loss: 113.6007 - mae: 8.2230 - val_loss: 164.8433 - val_mae: 10.5916\n",
      "Epoch 19/40\n",
      "44/44 [==============================] - 0s 2ms/step - loss: 120.5941 - mae: 8.5519 - val_loss: 326.3555 - val_mae: 15.6382\n",
      "Epoch 20/40\n",
      "44/44 [==============================] - 0s 2ms/step - loss: 129.9750 - mae: 8.9437 - val_loss: 167.9324 - val_mae: 10.2028\n",
      "Epoch 21/40\n",
      "44/44 [==============================] - 0s 1ms/step - loss: 108.6154 - mae: 8.1063 - val_loss: 117.0817 - val_mae: 8.3194\n",
      "Epoch 22/40\n",
      "44/44 [==============================] - 0s 1ms/step - loss: 92.1552 - mae: 7.4301 - val_loss: 211.6994 - val_mae: 11.5783\n",
      "Epoch 23/40\n",
      "44/44 [==============================] - 0s 2ms/step - loss: 120.3918 - mae: 8.2829 - val_loss: 153.0930 - val_mae: 9.4805\n",
      "Epoch 24/40\n",
      "44/44 [==============================] - 0s 2ms/step - loss: 91.9317 - mae: 7.4824 - val_loss: 280.2533 - val_mae: 14.3025\n",
      "Epoch 25/40\n",
      "44/44 [==============================] - 0s 2ms/step - loss: 93.2343 - mae: 7.5323 - val_loss: 102.7873 - val_mae: 7.6932\n",
      "Epoch 26/40\n",
      "44/44 [==============================] - 0s 2ms/step - loss: 99.7082 - mae: 7.7058 - val_loss: 92.3468 - val_mae: 7.4459\n",
      "Epoch 27/40\n",
      "44/44 [==============================] - 0s 2ms/step - loss: 95.1568 - mae: 7.5223 - val_loss: 120.2886 - val_mae: 8.6309\n",
      "Epoch 28/40\n",
      "44/44 [==============================] - 0s 1ms/step - loss: 84.7239 - mae: 6.9993 - val_loss: 112.2322 - val_mae: 8.2563\n",
      "Epoch 29/40\n",
      "44/44 [==============================] - 0s 2ms/step - loss: 71.6624 - mae: 6.5150 - val_loss: 139.6397 - val_mae: 9.2151\n",
      "Epoch 30/40\n",
      "44/44 [==============================] - 0s 2ms/step - loss: 86.5582 - mae: 7.1758 - val_loss: 92.1090 - val_mae: 7.3089\n",
      "Epoch 31/40\n",
      "44/44 [==============================] - 0s 2ms/step - loss: 82.3878 - mae: 6.9584 - val_loss: 130.2664 - val_mae: 9.2691\n",
      "Epoch 32/40\n",
      "44/44 [==============================] - 0s 2ms/step - loss: 89.4286 - mae: 7.3240 - val_loss: 200.9294 - val_mae: 11.7434\n",
      "Epoch 33/40\n",
      "44/44 [==============================] - 0s 2ms/step - loss: 77.5704 - mae: 6.7708 - val_loss: 151.8157 - val_mae: 9.8604\n",
      "Epoch 34/40\n",
      "44/44 [==============================] - 0s 2ms/step - loss: 71.1098 - mae: 6.5544 - val_loss: 92.4438 - val_mae: 7.2297\n",
      "Epoch 35/40\n",
      "44/44 [==============================] - 0s 2ms/step - loss: 88.1241 - mae: 7.4197 - val_loss: 79.2781 - val_mae: 6.6063\n",
      "Epoch 36/40\n",
      "44/44 [==============================] - 0s 2ms/step - loss: 76.8784 - mae: 6.6401 - val_loss: 120.4723 - val_mae: 8.6855\n",
      "Epoch 37/40\n",
      "44/44 [==============================] - 0s 2ms/step - loss: 75.7425 - mae: 6.7090 - val_loss: 145.2620 - val_mae: 9.9190\n",
      "Epoch 38/40\n",
      "44/44 [==============================] - 0s 2ms/step - loss: 73.1707 - mae: 6.4250 - val_loss: 106.9469 - val_mae: 8.0496\n",
      "Epoch 39/40\n",
      "44/44 [==============================] - 0s 2ms/step - loss: 78.1885 - mae: 6.8189 - val_loss: 109.2567 - val_mae: 8.2653\n",
      "Epoch 40/40\n",
      "44/44 [==============================] - 0s 2ms/step - loss: 84.9606 - mae: 6.8632 - val_loss: 81.9923 - val_mae: 6.8324\n"
     ]
    }
   ],
   "source": [
    "# Initializing the Optimizer\n",
    "optimizer = SGD(0.001)\n",
    "# Compiling the model with 'mse' as loss function and metrics\n",
    "model_tune.compile(loss='mse',\n",
    "                 optimizer=optimizer,\n",
    "                 metrics=['mae'])\n",
    "# Defining Early stopping\n",
    "\n",
    "# Fitting the model on train and validation with 50 epochs\n",
    "history_tune = model_tune.fit(X_train_scaled, y_train, validation_data=(X_val_scaled, y_val), epochs=40)"
   ]
  },
  {
   "cell_type": "code",
   "execution_count": 125,
   "id": "3ce78723f33472b",
   "metadata": {
    "ExecuteTime": {
     "end_time": "2024-01-14T09:07:10.572060100Z",
     "start_time": "2024-01-14T09:07:10.421053900Z"
    },
    "collapsed": false
   },
   "outputs": [
    {
     "data": {
      "image/png": "[encoded data removed]",
      "text/plain": [
       "<Figure size 640x480 with 1 Axes>"
      ]
     },
     "metadata": {},
     "output_type": "display_data"
    }
   ],
   "source": [
    "plt.title('Loss / Mean Squared Error')\n",
    "plt.plot(history_tune.history['loss'], label='train')\n",
    "plt.plot(history_tune.history['val_loss'], label='validate')\n",
    "plt.legend()\n",
    "plt.show()"
   ]
  },
  {
   "cell_type": "code",
   "execution_count": 126,
   "id": "da5354d972760226",
   "metadata": {
    "ExecuteTime": {
     "end_time": "2024-01-14T09:07:11.637157500Z",
     "start_time": "2024-01-14T09:07:11.430789900Z"
    },
    "collapsed": false
   },
   "outputs": [
    {
     "data": {
      "image/png": "[encoded data removed]",
      "text/plain": [
       "<Figure size 640x480 with 1 Axes>"
      ]
     },
     "metadata": {},
     "output_type": "display_data"
    }
   ],
   "source": [
    "plt.title('Loss / Mean Squared Error')\n",
    "plt.plot(history_tune.history['loss'], label='train')\n",
    "plt.plot(history_tune.history['val_loss'], label='validate')\n",
    "plt.yscale('log')  # Set y-axis scale to logarithmic\n",
    "plt.legend()\n",
    "plt.show()"
   ]
  },
  {
   "cell_type": "code",
   "execution_count": 127,
   "id": "adbd718ae968b1a6",
   "metadata": {
    "ExecuteTime": {
     "end_time": "2024-01-14T09:07:13.394131900Z",
     "start_time": "2024-01-14T09:07:13.287838800Z"
    },
    "collapsed": false
   },
   "outputs": [
    {
     "name": "stdout",
     "output_type": "stream",
     "text": [
      "11/11 [==============================] - 0s 964us/step\n",
      "Validation Performance\n"
     ]
    },
    {
     "data": {
      "text/html": [
       "<div>\n",
       "<style scoped>\n",
       "    .dataframe tbody tr th:only-of-type {\n",
       "        vertical-align: middle;\n",
       "    }\n",
       "\n",
       "    .dataframe tbody tr th {\n",
       "        vertical-align: top;\n",
       "    }\n",
       "\n",
       "    .dataframe thead th {\n",
       "        text-align: right;\n",
       "    }\n",
       "</style>\n",
       "<table border=\"1\" class=\"dataframe\">\n",
       "  <thead>\n",
       "    <tr style=\"text-align: right;\">\n",
       "      <th></th>\n",
       "      <th>RMSE</th>\n",
       "      <th>MAE</th>\n",
       "      <th>R-squared</th>\n",
       "      <th>Adj. R-squared</th>\n",
       "    </tr>\n",
       "  </thead>\n",
       "  <tbody>\n",
       "    <tr>\n",
       "      <th>0</th>\n",
       "      <td>9.054963</td>\n",
       "      <td>6.832415</td>\n",
       "      <td>0.77129</td>\n",
       "      <td>0.759544</td>\n",
       "    </tr>\n",
       "  </tbody>\n",
       "</table>\n",
       "</div>"
      ],
      "text/plain": [
       "       RMSE       MAE  R-squared  Adj. R-squared\n",
       "0  9.054963  6.832415    0.77129        0.759544"
      ]
     },
     "execution_count": 127,
     "metadata": {},
     "output_type": "execute_result"
    }
   ],
   "source": [
    "train_prediction = model_tune.predict(X_val_scaled)\n",
    "print(\"Validation Performance\\n\")\n",
    "Tune_train = model_performance_regression(X_val_scaled,y_val, train_prediction)\n",
    "Tune_train"
   ]
  },
  {
   "cell_type": "code",
   "execution_count": 128,
   "id": "e908dbd35f013240",
   "metadata": {
    "ExecuteTime": {
     "end_time": "2024-01-14T09:07:15.660391500Z",
     "start_time": "2024-01-14T09:07:15.549808400Z"
    },
    "collapsed": false
   },
   "outputs": [
    {
     "name": "stdout",
     "output_type": "stream",
     "text": [
      "7/7 [==============================] - 0s 2ms/step\n",
      "Testing Performance\n"
     ]
    },
    {
     "data": {
      "text/html": [
       "<div>\n",
       "<style scoped>\n",
       "    .dataframe tbody tr th:only-of-type {\n",
       "        vertical-align: middle;\n",
       "    }\n",
       "\n",
       "    .dataframe tbody tr th {\n",
       "        vertical-align: top;\n",
       "    }\n",
       "\n",
       "    .dataframe thead th {\n",
       "        text-align: right;\n",
       "    }\n",
       "</style>\n",
       "<table border=\"1\" class=\"dataframe\">\n",
       "  <thead>\n",
       "    <tr style=\"text-align: right;\">\n",
       "      <th></th>\n",
       "      <th>RMSE</th>\n",
       "      <th>MAE</th>\n",
       "      <th>R-squared</th>\n",
       "      <th>Adj. R-squared</th>\n",
       "    </tr>\n",
       "  </thead>\n",
       "  <tbody>\n",
       "    <tr>\n",
       "      <th>0</th>\n",
       "      <td>10.857531</td>\n",
       "      <td>8.148767</td>\n",
       "      <td>0.66481</td>\n",
       "      <td>0.632434</td>\n",
       "    </tr>\n",
       "  </tbody>\n",
       "</table>\n",
       "</div>"
      ],
      "text/plain": [
       "        RMSE       MAE  R-squared  Adj. R-squared\n",
       "0  10.857531  8.148767    0.66481        0.632434"
      ]
     },
     "execution_count": 128,
     "metadata": {},
     "output_type": "execute_result"
    }
   ],
   "source": [
    "test_prediction = model_tune.predict(X_test_scaled)\n",
    "print(\"Testing Performance\\n\")\n",
    "Tune_test = model_performance_regression(X_test_scaled,y_test, test_prediction)\n",
    "Tune_test"
   ]
  },
  {
   "cell_type": "markdown",
   "id": "6c7fd1664427b610",
   "metadata": {
    "collapsed": false
   },
   "source": [
    "# Overall result"
   ]
  },
  {
   "cell_type": "code",
   "execution_count": 79,
   "id": "baf73addfd72b6bf",
   "metadata": {
    "ExecuteTime": {
     "end_time": "2024-01-12T04:13:11.526522800Z",
     "start_time": "2024-01-12T04:13:10.487410500Z"
    },
    "collapsed": false
   },
   "outputs": [],
   "source": [
    "X_scaled = scaler.fit_transform(X)"
   ]
  },
  {
   "cell_type": "code",
   "execution_count": 80,
   "id": "83fec6bf4fa8cfa3",
   "metadata": {
    "ExecuteTime": {
     "end_time": "2024-01-12T04:13:11.598178400Z",
     "start_time": "2024-01-12T04:13:10.496150Z"
    },
    "collapsed": false
   },
   "outputs": [
    {
     "name": "stdout",
     "output_type": "stream",
     "text": [
      "61/61 [==============================] - 0s 956us/step\n"
     ]
    },
    {
     "data": {
      "text/html": [
       "<div>\n",
       "<style scoped>\n",
       "    .dataframe tbody tr th:only-of-type {\n",
       "        vertical-align: middle;\n",
       "    }\n",
       "\n",
       "    .dataframe tbody tr th {\n",
       "        vertical-align: top;\n",
       "    }\n",
       "\n",
       "    .dataframe thead th {\n",
       "        text-align: right;\n",
       "    }\n",
       "</style>\n",
       "<table border=\"1\" class=\"dataframe\">\n",
       "  <thead>\n",
       "    <tr style=\"text-align: right;\">\n",
       "      <th></th>\n",
       "      <th>True Values</th>\n",
       "      <th>Predicted Values</th>\n",
       "    </tr>\n",
       "  </thead>\n",
       "  <tbody>\n",
       "    <tr>\n",
       "      <th>0</th>\n",
       "      <td>75.930</td>\n",
       "      <td>73.889076</td>\n",
       "    </tr>\n",
       "    <tr>\n",
       "      <th>1</th>\n",
       "      <td>64.500</td>\n",
       "      <td>65.118088</td>\n",
       "    </tr>\n",
       "    <tr>\n",
       "      <th>2</th>\n",
       "      <td>49.230</td>\n",
       "      <td>53.815186</td>\n",
       "    </tr>\n",
       "    <tr>\n",
       "      <th>3</th>\n",
       "      <td>36.000</td>\n",
       "      <td>38.014969</td>\n",
       "    </tr>\n",
       "    <tr>\n",
       "      <th>4</th>\n",
       "      <td>62.800</td>\n",
       "      <td>64.104645</td>\n",
       "    </tr>\n",
       "    <tr>\n",
       "      <th>...</th>\n",
       "      <td>...</td>\n",
       "      <td>...</td>\n",
       "    </tr>\n",
       "    <tr>\n",
       "      <th>1932</th>\n",
       "      <td>42.350</td>\n",
       "      <td>52.475189</td>\n",
       "    </tr>\n",
       "    <tr>\n",
       "      <th>1933</th>\n",
       "      <td>38.236</td>\n",
       "      <td>43.790672</td>\n",
       "    </tr>\n",
       "    <tr>\n",
       "      <th>1934</th>\n",
       "      <td>46.827</td>\n",
       "      <td>52.599541</td>\n",
       "    </tr>\n",
       "    <tr>\n",
       "      <th>1935</th>\n",
       "      <td>47.069</td>\n",
       "      <td>47.741886</td>\n",
       "    </tr>\n",
       "    <tr>\n",
       "      <th>1936</th>\n",
       "      <td>60.021</td>\n",
       "      <td>52.511292</td>\n",
       "    </tr>\n",
       "  </tbody>\n",
       "</table>\n",
       "<p>1937 rows × 2 columns</p>\n",
       "</div>"
      ],
      "text/plain": [
       "      True Values  Predicted Values\n",
       "0          75.930         73.889076\n",
       "1          64.500         65.118088\n",
       "2          49.230         53.815186\n",
       "3          36.000         38.014969\n",
       "4          62.800         64.104645\n",
       "...           ...               ...\n",
       "1932       42.350         52.475189\n",
       "1933       38.236         43.790672\n",
       "1934       46.827         52.599541\n",
       "1935       47.069         47.741886\n",
       "1936       60.021         52.511292\n",
       "\n",
       "[1937 rows x 2 columns]"
      ]
     },
     "execution_count": 80,
     "metadata": {},
     "output_type": "execute_result"
    }
   ],
   "source": [
    "y_pred = model_sgd.predict(X_scaled)\n",
    "df_predictions = pd.DataFrame({'True Values': Y.values.flatten(), 'Predicted Values': y_pred.flatten()})\n",
    "df_predictions"
   ]
  },
  {
   "cell_type": "code",
   "execution_count": 81,
   "id": "6819c503636e12c",
   "metadata": {
    "ExecuteTime": {
     "end_time": "2024-01-12T04:13:11.599163600Z",
     "start_time": "2024-01-12T04:13:10.637962700Z"
    },
    "collapsed": false
   },
   "outputs": [
    {
     "data": {
      "text/html": [
       "<div>\n",
       "<style scoped>\n",
       "    .dataframe tbody tr th:only-of-type {\n",
       "        vertical-align: middle;\n",
       "    }\n",
       "\n",
       "    .dataframe tbody tr th {\n",
       "        vertical-align: top;\n",
       "    }\n",
       "\n",
       "    .dataframe thead th {\n",
       "        text-align: right;\n",
       "    }\n",
       "</style>\n",
       "<table border=\"1\" class=\"dataframe\">\n",
       "  <thead>\n",
       "    <tr style=\"text-align: right;\">\n",
       "      <th></th>\n",
       "      <th>True Values</th>\n",
       "      <th>Predicted Values</th>\n",
       "      <th>Difference</th>\n",
       "    </tr>\n",
       "  </thead>\n",
       "  <tbody>\n",
       "    <tr>\n",
       "      <th>0</th>\n",
       "      <td>75.930</td>\n",
       "      <td>73.889076</td>\n",
       "      <td>2.040924</td>\n",
       "    </tr>\n",
       "    <tr>\n",
       "      <th>1</th>\n",
       "      <td>64.500</td>\n",
       "      <td>65.118088</td>\n",
       "      <td>-0.618088</td>\n",
       "    </tr>\n",
       "    <tr>\n",
       "      <th>2</th>\n",
       "      <td>49.230</td>\n",
       "      <td>53.815186</td>\n",
       "      <td>-4.585186</td>\n",
       "    </tr>\n",
       "    <tr>\n",
       "      <th>3</th>\n",
       "      <td>36.000</td>\n",
       "      <td>38.014969</td>\n",
       "      <td>-2.014969</td>\n",
       "    </tr>\n",
       "    <tr>\n",
       "      <th>4</th>\n",
       "      <td>62.800</td>\n",
       "      <td>64.104645</td>\n",
       "      <td>-1.304645</td>\n",
       "    </tr>\n",
       "    <tr>\n",
       "      <th>...</th>\n",
       "      <td>...</td>\n",
       "      <td>...</td>\n",
       "      <td>...</td>\n",
       "    </tr>\n",
       "    <tr>\n",
       "      <th>1932</th>\n",
       "      <td>42.350</td>\n",
       "      <td>52.475189</td>\n",
       "      <td>-10.125189</td>\n",
       "    </tr>\n",
       "    <tr>\n",
       "      <th>1933</th>\n",
       "      <td>38.236</td>\n",
       "      <td>43.790672</td>\n",
       "      <td>-5.554672</td>\n",
       "    </tr>\n",
       "    <tr>\n",
       "      <th>1934</th>\n",
       "      <td>46.827</td>\n",
       "      <td>52.599541</td>\n",
       "      <td>-5.772541</td>\n",
       "    </tr>\n",
       "    <tr>\n",
       "      <th>1935</th>\n",
       "      <td>47.069</td>\n",
       "      <td>47.741886</td>\n",
       "      <td>-0.672886</td>\n",
       "    </tr>\n",
       "    <tr>\n",
       "      <th>1936</th>\n",
       "      <td>60.021</td>\n",
       "      <td>52.511292</td>\n",
       "      <td>7.509708</td>\n",
       "    </tr>\n",
       "  </tbody>\n",
       "</table>\n",
       "<p>1937 rows × 3 columns</p>\n",
       "</div>"
      ],
      "text/plain": [
       "      True Values  Predicted Values  Difference\n",
       "0          75.930         73.889076    2.040924\n",
       "1          64.500         65.118088   -0.618088\n",
       "2          49.230         53.815186   -4.585186\n",
       "3          36.000         38.014969   -2.014969\n",
       "4          62.800         64.104645   -1.304645\n",
       "...           ...               ...         ...\n",
       "1932       42.350         52.475189  -10.125189\n",
       "1933       38.236         43.790672   -5.554672\n",
       "1934       46.827         52.599541   -5.772541\n",
       "1935       47.069         47.741886   -0.672886\n",
       "1936       60.021         52.511292    7.509708\n",
       "\n",
       "[1937 rows x 3 columns]"
      ]
     },
     "execution_count": 81,
     "metadata": {},
     "output_type": "execute_result"
    }
   ],
   "source": [
    "df_predictions['Difference'] = df_predictions['True Values'] - df_predictions['Predicted Values']\n",
    "df_predictions"
   ]
  },
  {
   "cell_type": "code",
   "execution_count": 82,
   "id": "43b0b71ddd84c6f3",
   "metadata": {
    "ExecuteTime": {
     "end_time": "2024-01-12T04:13:11.705504500Z",
     "start_time": "2024-01-12T04:13:10.645914500Z"
    },
    "collapsed": false
   },
   "outputs": [
    {
     "data": {
      "image/png": "[encoded data removed]",
      "text/plain": [
       "<Figure size 500x500 with 1 Axes>"
      ]
     },
     "metadata": {},
     "output_type": "display_data"
    }
   ],
   "source": [
    "r2 = r2_score(df_predictions['True Values'], df_predictions['Predicted Values'])\n",
    "adj_r2 = adj_r2_score(X_scaled, Y, y_pred)\n",
    "rmse = mean_squared_error(df_predictions['True Values'], df_predictions['Predicted Values'], squared=False)\n",
    "\n",
    "# Create the lmplot\n",
    "sns.set(style=\"whitegrid\")\n",
    "lm_plot = sns.lmplot(data=df_predictions, x='True Values', y='Predicted Values', ci=True, line_kws={'color': 'red'})\n",
    "\n",
    "# Annotate the plot with R2 and RMSE\n",
    "plt.text(0.05, 0.95, f'ADJ_R2: {adj_r2:.3f}', transform=plt.gca().transAxes)\n",
    "plt.text(0.05, 0.9, f'RMSE: {rmse:.3f}', transform=plt.gca().transAxes)\n",
    "\n",
    "# Display the plot\n",
    "plt.show()"
   ]
  }
 ],
 "metadata": {
  "kernelspec": {
   "display_name": "Python 3",
   "language": "python",
   "name": "python3"
  },
  "language_info": {
   "codemirror_mode": {
    "name": "ipython",
    "version": 2
   },
   "file_extension": ".py",
   "mimetype": "text/x-python",
   "name": "python",
   "nbconvert_exporter": "python",
   "pygments_lexer": "ipython2",
   "version": "2.7.6"
  }
 },
 "nbformat": 4,
 "nbformat_minor": 5
}
