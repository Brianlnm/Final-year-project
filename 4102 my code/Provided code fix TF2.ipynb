{
 "cells": [
  {
   "cell_type": "code",
   "execution_count": 1,
   "id": "initial_id",
   "metadata": {
    "collapsed": true,
    "ExecuteTime": {
     "end_time": "2024-04-03T06:38:06.629946800Z",
     "start_time": "2024-04-03T06:38:01.575692300Z"
    }
   },
   "outputs": [],
   "source": [
    "import pandas as pd\n",
    "import numpy as np\n",
    "import matplotlib.pyplot as plt\n",
    "plt.style.use('fivethirtyeight')\n",
    "from sklearn.preprocessing import StandardScaler, MinMaxScaler\n",
    "from sklearn.model_selection import train_test_split, KFold\n",
    "from sklearn.metrics import r2_score\n",
    "\n",
    "import tensorflow as tf\n",
    "\n",
    "import pickle\n",
    "import os, sys, time\n",
    "import shap"
   ]
  },
  {
   "cell_type": "code",
   "execution_count": 2,
   "outputs": [],
   "source": [
    "All = pd.ExcelFile('allData.xls')\n",
    "data = pd.read_excel(All, 'Data')\n",
    "Excess_col_indices = list(range(0, 4)) + list(range(20, 27)) + [33]\n",
    "semi_df = data.iloc[:, [col for col in range(data.shape[1]) if col not in Excess_col_indices]]\n",
    "filtered_row = semi_df[semi_df['Average 28-day compressive strength (Mpa)'] > 400]\n",
    "value_to_divide = filtered_row['Average 28-day compressive strength (Mpa)'].values[0]\n",
    "updated_value = value_to_divide / 10\n",
    "semi_df.loc[semi_df['Average 28-day compressive strength (Mpa)'] > 400, 'Average 28-day compressive strength (Mpa)'] = updated_value\n"
   ],
   "metadata": {
    "collapsed": false,
    "ExecuteTime": {
     "end_time": "2024-04-03T06:38:06.746242100Z",
     "start_time": "2024-04-03T06:38:06.629946800Z"
    }
   },
   "id": "75065ca1fcadbcb5"
  },
  {
   "cell_type": "code",
   "execution_count": 3,
   "outputs": [
    {
     "name": "stderr",
     "output_type": "stream",
     "text": [
      "\n",
      "A value is trying to be set on a copy of a slice from a DataFrame.\n",
      "Try using .loc[row_indexer,col_indexer] = value instead\n",
      "\n",
      "See the caveats in the documentation: https://pandas.pydata.org/pandas-docs/stable/user_guide/indexing.html#returning-a-view-versus-a-copy\n"
     ]
    }
   ],
   "source": [
    "conversion_factors = {\n",
    "    '150*150*150': 1.0,\n",
    "    '200h*100r': {\n",
    "        (15, 44): 1.21,\n",
    "        (45, 54): 1.17,\n",
    "        (55, 64): 1.12,\n",
    "        (65, 74): 1.10,\n",
    "        (75, 84): 1.08,\n",
    "        (85, 94): 1.06,\n",
    "        (95, 104): 1.04,  # Guess, out of range\n",
    "        (105, 114): 1.02,\n",
    "    },\n",
    "    '100*100*100': 0.95,\n",
    "    '100*100*300': {},  # No suitable conversion index available\n",
    "    '300h*150r': {\n",
    "        (15, 44): 1.32,\n",
    "        (45, 54): 1.32,\n",
    "        (55, 64): 1.28,\n",
    "        (65, 74): 1.25,\n",
    "        (75, 84): 1.22,\n",
    "        (85, 94): 1.19,\n",
    "        (95, 104): 1.16,\n",
    "        (105, 114): 1.13,\n",
    "    },\n",
    "    '100h*100r': {},  # No suitable conversion index available\n",
    "}\n",
    "\n",
    "def convert_strength(row):\n",
    "    size = row['Specimen size']\n",
    "    strength = row['Average 28-day compressive strength (Mpa)']\n",
    "\n",
    "    original_size = size  # Store the original size\n",
    "\n",
    "    if size in conversion_factors:\n",
    "        factor = conversion_factors[size]\n",
    "\n",
    "        if isinstance(factor, dict):\n",
    "            for range_, conversion_factor in factor.items():\n",
    "                lower_bound, upper_bound = range_\n",
    "                if lower_bound <= strength < upper_bound:\n",
    "                    return strength * conversion_factor\n",
    "        else:\n",
    "            return strength * factor\n",
    "\n",
    "    return strength\n",
    "\n",
    "\n",
    "# Apply the conversion function to the DataFrame\n",
    "semi_df['Converted Strength'] = semi_df.apply(convert_strength, axis=1)\n",
    "semi_df = semi_df.drop(['Average 28-day compressive strength (Mpa)', 'Specimen size'], axis = 1)"
   ],
   "metadata": {
    "collapsed": false,
    "ExecuteTime": {
     "end_time": "2024-04-03T06:38:06.764107Z",
     "start_time": "2024-04-03T06:38:06.746242100Z"
    }
   },
   "id": "31310c084fa298f8"
  },
  {
   "cell_type": "code",
   "execution_count": 4,
   "outputs": [
    {
     "name": "stdout",
     "output_type": "stream",
     "text": [
      "<class 'pandas.core.frame.DataFrame'>\n",
      "Int64Index: 1980 entries, 0 to 1987\n",
      "Data columns (total 24 columns):\n",
      " #   Column                                                 Non-Null Count  Dtype  \n",
      "---  ------                                                 --------------  -----  \n",
      " 0   ASTM type 1 ordinary Portland Cement content (kg/m^3)  1980 non-null   float64\n",
      " 1   CEM I 42.5N ordinary Portland Cement content (kg/m^3)  1980 non-null   float64\n",
      " 2   CEM I 52.5N ordinary Portland Cement content (kg/m^3)  1980 non-null   float64\n",
      " 3   Class C Fly ash content (kg/m^3)                       1980 non-null   float64\n",
      " 4   Class F Fly ash content (kg/m^3)                       1980 non-null   float64\n",
      " 5   Slag content (kg/m^3)                                  1980 non-null   float64\n",
      " 6   Silica fume content (kg/m^3)                           1980 non-null   float64\n",
      " 7   Water content (kg/m^3)                                 1980 non-null   float64\n",
      " 8   Superplasticizer content (kg/m^3)                      1980 non-null   float64\n",
      " 9   Maximum coarse aggregate size (mm)                     1980 non-null   float64\n",
      " 10  Coarse aggregate content (kg/m^3)                      1975 non-null   float64\n",
      " 11  Fine aggregate content (kg/m^3)                        1975 non-null   float64\n",
      " 12  Curing temperature (Celsius degree)                    1980 non-null   float64\n",
      " 13  Curing humidity (%)                                    1980 non-null   float64\n",
      " 14  Curing day                                             1978 non-null   float64\n",
      " 15  Slump (mm)                                             812 non-null    float64\n",
      " 16  Average 28-day split strength (Mpa)                    62 non-null     float64\n",
      " 17  Chloride diffusion coefficient (10-12 m2/s)            66 non-null     float64\n",
      " 18  Average carbonation coefficient (mm/year^0.5)          1095 non-null   float64\n",
      " 19  Converted Strength                                     1942 non-null   float64\n",
      " 20  Air                                                    1980 non-null   uint8  \n",
      " 21  Moist                                                  1980 non-null   uint8  \n",
      " 22  Sealed                                                 1980 non-null   uint8  \n",
      " 23  Submerged                                              1980 non-null   uint8  \n",
      "dtypes: float64(20), uint8(4)\n",
      "memory usage: 332.6 KB\n"
     ]
    }
   ],
   "source": [
    "semi_df = semi_df.dropna(subset = ['Curing method'])\n",
    "new_df = pd.concat([semi_df, pd.get_dummies(semi_df['Curing method'])], axis=1)\n",
    "new_df= new_df.drop(['Curing method'], axis=1)\n",
    "new_df.info()"
   ],
   "metadata": {
    "collapsed": false,
    "ExecuteTime": {
     "end_time": "2024-04-03T06:38:06.828341800Z",
     "start_time": "2024-04-03T06:38:06.768839400Z"
    }
   },
   "id": "c09c14db7deb2191"
  },
  {
   "cell_type": "code",
   "execution_count": 5,
   "outputs": [],
   "source": [
    "targets = new_df.iloc[:, 15:20]\n",
    "features = new_df.iloc[:, list(range(0,15)) + list(range(20,24))]"
   ],
   "metadata": {
    "collapsed": false,
    "ExecuteTime": {
     "end_time": "2024-04-03T06:38:06.828849800Z",
     "start_time": "2024-04-03T06:38:06.778623800Z"
    }
   },
   "id": "c3a9399d3860eb80"
  },
  {
   "cell_type": "code",
   "execution_count": 6,
   "outputs": [
    {
     "data": {
      "text/plain": "      ASTM type 1 ordinary Portland Cement content (kg/m^3)  \\\n0                                                   0.0       \n1                                                   0.0       \n2                                                   0.0       \n3                                                   0.0       \n4                                                   0.0       \n...                                                 ...       \n1983                                              350.0       \n1984                                              380.0       \n1985                                              370.0       \n1986                                              360.0       \n1987                                              350.0       \n\n      CEM I 42.5N ordinary Portland Cement content (kg/m^3)  \\\n0                                                   0.0       \n1                                                   0.0       \n2                                                   0.0       \n3                                                   0.0       \n4                                                   0.0       \n...                                                 ...       \n1983                                                0.0       \n1984                                                0.0       \n1985                                                0.0       \n1986                                                0.0       \n1987                                                0.0       \n\n      CEM I 52.5N ordinary Portland Cement content (kg/m^3)  \\\n0                                                 450.0       \n1                                                 400.0       \n2                                                 350.0       \n3                                                 300.0       \n4                                                 315.0       \n...                                                 ...       \n1983                                                0.0       \n1984                                                0.0       \n1985                                                0.0       \n1986                                                0.0       \n1987                                                0.0       \n\n      Class C Fly ash content (kg/m^3)  Class F Fly ash content (kg/m^3)  \\\n0                                  0.0                               0.0   \n1                                  0.0                               0.0   \n2                                  0.0                               0.0   \n3                                  0.0                               0.0   \n4                                  0.0                             135.0   \n...                                ...                               ...   \n1983                               0.0                               0.0   \n1984                               0.0                               0.0   \n1985                               0.0                               0.0   \n1986                               0.0                               0.0   \n1987                               0.0                               0.0   \n\n      Slag content (kg/m^3)  Silica fume content (kg/m^3)  \\\n0                       0.0                           0.0   \n1                       0.0                           0.0   \n2                       0.0                           0.0   \n3                       0.0                           0.0   \n4                       0.0                           0.0   \n...                     ...                           ...   \n1983                    0.0                          50.0   \n1984                    0.0                          20.0   \n1985                    0.0                          30.0   \n1986                    0.0                          40.0   \n1987                    0.0                          50.0   \n\n      Water content (kg/m^3)  Superplasticizer content (kg/m^3)  \\\n0                      180.0                               4.00   \n1                      200.0                               3.25   \n2                      210.0                               0.00   \n3                      225.0                               0.00   \n4                      180.0                               1.75   \n...                      ...                                ...   \n1983                   180.0                               2.00   \n1984                   200.0                               0.80   \n1985                   200.0                               1.20   \n1986                   200.0                               1.80   \n1987                   200.0                               2.00   \n\n      Maximum coarse aggregate size (mm)  Coarse aggregate content (kg/m^3)  \\\n0                                   20.0                              990.0   \n1                                   20.0                              990.0   \n2                                   20.0                             1015.0   \n3                                   20.0                             1050.0   \n4                                   20.0                              990.0   \n...                                  ...                                ...   \n1983                                20.0                              983.0   \n1984                                20.0                              991.0   \n1985                                20.0                              959.0   \n1986                                20.0                             1020.0   \n1987                                20.0                              955.0   \n\n      Fine aggregate content (kg/m^3)  Curing temperature (Celsius degree)  \\\n0                               800.0                                 20.0   \n1                               877.0                                 20.0   \n2                               869.0                                 20.0   \n3                               810.0                                 20.0   \n4                               800.0                                 20.0   \n...                               ...                                  ...   \n1983                            806.0                                 21.0   \n1984                            793.0                                 21.0   \n1985                            784.0                                 21.0   \n1986                            820.0                                 21.0   \n1987                            782.0                                 21.0   \n\n      Curing humidity (%)  Curing day  Air  Moist  Sealed  Submerged  \n0                   100.0         3.0    0      0       0          1  \n1                   100.0         3.0    0      0       0          1  \n2                   100.0         3.0    0      0       0          1  \n3                   100.0         3.0    0      0       0          1  \n4                   100.0         3.0    0      0       0          1  \n...                   ...         ...  ...    ...     ...        ...  \n1983                100.0        28.0    0      0       0          1  \n1984                100.0        28.0    0      0       0          1  \n1985                100.0        28.0    0      0       0          1  \n1986                100.0        28.0    0      0       0          1  \n1987                100.0        28.0    0      0       0          1  \n\n[1980 rows x 19 columns]",
      "text/html": "<div>\n<style scoped>\n    .dataframe tbody tr th:only-of-type {\n        vertical-align: middle;\n    }\n\n    .dataframe tbody tr th {\n        vertical-align: top;\n    }\n\n    .dataframe thead th {\n        text-align: right;\n    }\n</style>\n<table border=\"1\" class=\"dataframe\">\n  <thead>\n    <tr style=\"text-align: right;\">\n      <th></th>\n      <th>ASTM type 1 ordinary Portland Cement content (kg/m^3)</th>\n      <th>CEM I 42.5N ordinary Portland Cement content (kg/m^3)</th>\n      <th>CEM I 52.5N ordinary Portland Cement content (kg/m^3)</th>\n      <th>Class C Fly ash content (kg/m^3)</th>\n      <th>Class F Fly ash content (kg/m^3)</th>\n      <th>Slag content (kg/m^3)</th>\n      <th>Silica fume content (kg/m^3)</th>\n      <th>Water content (kg/m^3)</th>\n      <th>Superplasticizer content (kg/m^3)</th>\n      <th>Maximum coarse aggregate size (mm)</th>\n      <th>Coarse aggregate content (kg/m^3)</th>\n      <th>Fine aggregate content (kg/m^3)</th>\n      <th>Curing temperature (Celsius degree)</th>\n      <th>Curing humidity (%)</th>\n      <th>Curing day</th>\n      <th>Air</th>\n      <th>Moist</th>\n      <th>Sealed</th>\n      <th>Submerged</th>\n    </tr>\n  </thead>\n  <tbody>\n    <tr>\n      <th>0</th>\n      <td>0.0</td>\n      <td>0.0</td>\n      <td>450.0</td>\n      <td>0.0</td>\n      <td>0.0</td>\n      <td>0.0</td>\n      <td>0.0</td>\n      <td>180.0</td>\n      <td>4.00</td>\n      <td>20.0</td>\n      <td>990.0</td>\n      <td>800.0</td>\n      <td>20.0</td>\n      <td>100.0</td>\n      <td>3.0</td>\n      <td>0</td>\n      <td>0</td>\n      <td>0</td>\n      <td>1</td>\n    </tr>\n    <tr>\n      <th>1</th>\n      <td>0.0</td>\n      <td>0.0</td>\n      <td>400.0</td>\n      <td>0.0</td>\n      <td>0.0</td>\n      <td>0.0</td>\n      <td>0.0</td>\n      <td>200.0</td>\n      <td>3.25</td>\n      <td>20.0</td>\n      <td>990.0</td>\n      <td>877.0</td>\n      <td>20.0</td>\n      <td>100.0</td>\n      <td>3.0</td>\n      <td>0</td>\n      <td>0</td>\n      <td>0</td>\n      <td>1</td>\n    </tr>\n    <tr>\n      <th>2</th>\n      <td>0.0</td>\n      <td>0.0</td>\n      <td>350.0</td>\n      <td>0.0</td>\n      <td>0.0</td>\n      <td>0.0</td>\n      <td>0.0</td>\n      <td>210.0</td>\n      <td>0.00</td>\n      <td>20.0</td>\n      <td>1015.0</td>\n      <td>869.0</td>\n      <td>20.0</td>\n      <td>100.0</td>\n      <td>3.0</td>\n      <td>0</td>\n      <td>0</td>\n      <td>0</td>\n      <td>1</td>\n    </tr>\n    <tr>\n      <th>3</th>\n      <td>0.0</td>\n      <td>0.0</td>\n      <td>300.0</td>\n      <td>0.0</td>\n      <td>0.0</td>\n      <td>0.0</td>\n      <td>0.0</td>\n      <td>225.0</td>\n      <td>0.00</td>\n      <td>20.0</td>\n      <td>1050.0</td>\n      <td>810.0</td>\n      <td>20.0</td>\n      <td>100.0</td>\n      <td>3.0</td>\n      <td>0</td>\n      <td>0</td>\n      <td>0</td>\n      <td>1</td>\n    </tr>\n    <tr>\n      <th>4</th>\n      <td>0.0</td>\n      <td>0.0</td>\n      <td>315.0</td>\n      <td>0.0</td>\n      <td>135.0</td>\n      <td>0.0</td>\n      <td>0.0</td>\n      <td>180.0</td>\n      <td>1.75</td>\n      <td>20.0</td>\n      <td>990.0</td>\n      <td>800.0</td>\n      <td>20.0</td>\n      <td>100.0</td>\n      <td>3.0</td>\n      <td>0</td>\n      <td>0</td>\n      <td>0</td>\n      <td>1</td>\n    </tr>\n    <tr>\n      <th>...</th>\n      <td>...</td>\n      <td>...</td>\n      <td>...</td>\n      <td>...</td>\n      <td>...</td>\n      <td>...</td>\n      <td>...</td>\n      <td>...</td>\n      <td>...</td>\n      <td>...</td>\n      <td>...</td>\n      <td>...</td>\n      <td>...</td>\n      <td>...</td>\n      <td>...</td>\n      <td>...</td>\n      <td>...</td>\n      <td>...</td>\n      <td>...</td>\n    </tr>\n    <tr>\n      <th>1983</th>\n      <td>350.0</td>\n      <td>0.0</td>\n      <td>0.0</td>\n      <td>0.0</td>\n      <td>0.0</td>\n      <td>0.0</td>\n      <td>50.0</td>\n      <td>180.0</td>\n      <td>2.00</td>\n      <td>20.0</td>\n      <td>983.0</td>\n      <td>806.0</td>\n      <td>21.0</td>\n      <td>100.0</td>\n      <td>28.0</td>\n      <td>0</td>\n      <td>0</td>\n      <td>0</td>\n      <td>1</td>\n    </tr>\n    <tr>\n      <th>1984</th>\n      <td>380.0</td>\n      <td>0.0</td>\n      <td>0.0</td>\n      <td>0.0</td>\n      <td>0.0</td>\n      <td>0.0</td>\n      <td>20.0</td>\n      <td>200.0</td>\n      <td>0.80</td>\n      <td>20.0</td>\n      <td>991.0</td>\n      <td>793.0</td>\n      <td>21.0</td>\n      <td>100.0</td>\n      <td>28.0</td>\n      <td>0</td>\n      <td>0</td>\n      <td>0</td>\n      <td>1</td>\n    </tr>\n    <tr>\n      <th>1985</th>\n      <td>370.0</td>\n      <td>0.0</td>\n      <td>0.0</td>\n      <td>0.0</td>\n      <td>0.0</td>\n      <td>0.0</td>\n      <td>30.0</td>\n      <td>200.0</td>\n      <td>1.20</td>\n      <td>20.0</td>\n      <td>959.0</td>\n      <td>784.0</td>\n      <td>21.0</td>\n      <td>100.0</td>\n      <td>28.0</td>\n      <td>0</td>\n      <td>0</td>\n      <td>0</td>\n      <td>1</td>\n    </tr>\n    <tr>\n      <th>1986</th>\n      <td>360.0</td>\n      <td>0.0</td>\n      <td>0.0</td>\n      <td>0.0</td>\n      <td>0.0</td>\n      <td>0.0</td>\n      <td>40.0</td>\n      <td>200.0</td>\n      <td>1.80</td>\n      <td>20.0</td>\n      <td>1020.0</td>\n      <td>820.0</td>\n      <td>21.0</td>\n      <td>100.0</td>\n      <td>28.0</td>\n      <td>0</td>\n      <td>0</td>\n      <td>0</td>\n      <td>1</td>\n    </tr>\n    <tr>\n      <th>1987</th>\n      <td>350.0</td>\n      <td>0.0</td>\n      <td>0.0</td>\n      <td>0.0</td>\n      <td>0.0</td>\n      <td>0.0</td>\n      <td>50.0</td>\n      <td>200.0</td>\n      <td>2.00</td>\n      <td>20.0</td>\n      <td>955.0</td>\n      <td>782.0</td>\n      <td>21.0</td>\n      <td>100.0</td>\n      <td>28.0</td>\n      <td>0</td>\n      <td>0</td>\n      <td>0</td>\n      <td>1</td>\n    </tr>\n  </tbody>\n</table>\n<p>1980 rows × 19 columns</p>\n</div>"
     },
     "execution_count": 6,
     "metadata": {},
     "output_type": "execute_result"
    }
   ],
   "source": [
    "features"
   ],
   "metadata": {
    "collapsed": false,
    "ExecuteTime": {
     "end_time": "2024-04-03T06:38:06.828849800Z",
     "start_time": "2024-04-03T06:38:06.784420700Z"
    }
   },
   "id": "c378d7d280a191ea"
  },
  {
   "cell_type": "code",
   "execution_count": 7,
   "outputs": [
    {
     "data": {
      "text/plain": "      Slump (mm)  Average 28-day split strength (Mpa)  \\\n0           30.0                                  NaN   \n1           60.0                                  NaN   \n2          100.0                                  NaN   \n3          140.0                                  NaN   \n4           40.0                                  NaN   \n...          ...                                  ...   \n1983         NaN                                  NaN   \n1984         NaN                                  NaN   \n1985         NaN                                  NaN   \n1986         NaN                                  NaN   \n1987         NaN                                  NaN   \n\n      Chloride diffusion coefficient (10-12 m2/s)  \\\n0                                             NaN   \n1                                             NaN   \n2                                             NaN   \n3                                             NaN   \n4                                             NaN   \n...                                           ...   \n1983                                        1.550   \n1984                                        3.375   \n1985                                        1.000   \n1986                                        0.500   \n1987                                        0.825   \n\n      Average carbonation coefficient (mm/year^0.5)  Converted Strength  \n0                                             3.139               75.93  \n1                                             4.022               64.50  \n2                                             6.670               49.23  \n3                                             7.945               36.00  \n4                                             6.052               62.80  \n...                                             ...                 ...  \n1983                                            NaN                 NaN  \n1984                                            NaN                 NaN  \n1985                                            NaN                 NaN  \n1986                                            NaN                 NaN  \n1987                                            NaN                 NaN  \n\n[1980 rows x 5 columns]",
      "text/html": "<div>\n<style scoped>\n    .dataframe tbody tr th:only-of-type {\n        vertical-align: middle;\n    }\n\n    .dataframe tbody tr th {\n        vertical-align: top;\n    }\n\n    .dataframe thead th {\n        text-align: right;\n    }\n</style>\n<table border=\"1\" class=\"dataframe\">\n  <thead>\n    <tr style=\"text-align: right;\">\n      <th></th>\n      <th>Slump (mm)</th>\n      <th>Average 28-day split strength (Mpa)</th>\n      <th>Chloride diffusion coefficient (10-12 m2/s)</th>\n      <th>Average carbonation coefficient (mm/year^0.5)</th>\n      <th>Converted Strength</th>\n    </tr>\n  </thead>\n  <tbody>\n    <tr>\n      <th>0</th>\n      <td>30.0</td>\n      <td>NaN</td>\n      <td>NaN</td>\n      <td>3.139</td>\n      <td>75.93</td>\n    </tr>\n    <tr>\n      <th>1</th>\n      <td>60.0</td>\n      <td>NaN</td>\n      <td>NaN</td>\n      <td>4.022</td>\n      <td>64.50</td>\n    </tr>\n    <tr>\n      <th>2</th>\n      <td>100.0</td>\n      <td>NaN</td>\n      <td>NaN</td>\n      <td>6.670</td>\n      <td>49.23</td>\n    </tr>\n    <tr>\n      <th>3</th>\n      <td>140.0</td>\n      <td>NaN</td>\n      <td>NaN</td>\n      <td>7.945</td>\n      <td>36.00</td>\n    </tr>\n    <tr>\n      <th>4</th>\n      <td>40.0</td>\n      <td>NaN</td>\n      <td>NaN</td>\n      <td>6.052</td>\n      <td>62.80</td>\n    </tr>\n    <tr>\n      <th>...</th>\n      <td>...</td>\n      <td>...</td>\n      <td>...</td>\n      <td>...</td>\n      <td>...</td>\n    </tr>\n    <tr>\n      <th>1983</th>\n      <td>NaN</td>\n      <td>NaN</td>\n      <td>1.550</td>\n      <td>NaN</td>\n      <td>NaN</td>\n    </tr>\n    <tr>\n      <th>1984</th>\n      <td>NaN</td>\n      <td>NaN</td>\n      <td>3.375</td>\n      <td>NaN</td>\n      <td>NaN</td>\n    </tr>\n    <tr>\n      <th>1985</th>\n      <td>NaN</td>\n      <td>NaN</td>\n      <td>1.000</td>\n      <td>NaN</td>\n      <td>NaN</td>\n    </tr>\n    <tr>\n      <th>1986</th>\n      <td>NaN</td>\n      <td>NaN</td>\n      <td>0.500</td>\n      <td>NaN</td>\n      <td>NaN</td>\n    </tr>\n    <tr>\n      <th>1987</th>\n      <td>NaN</td>\n      <td>NaN</td>\n      <td>0.825</td>\n      <td>NaN</td>\n      <td>NaN</td>\n    </tr>\n  </tbody>\n</table>\n<p>1980 rows × 5 columns</p>\n</div>"
     },
     "execution_count": 7,
     "metadata": {},
     "output_type": "execute_result"
    }
   ],
   "source": [
    "targets"
   ],
   "metadata": {
    "collapsed": false,
    "ExecuteTime": {
     "end_time": "2024-04-03T06:38:06.848100400Z",
     "start_time": "2024-04-03T06:38:06.806081900Z"
    }
   },
   "id": "178fb5f6df085385"
  },
  {
   "cell_type": "code",
   "execution_count": 8,
   "outputs": [],
   "source": [
    "slump_data = pd.concat([features, targets.iloc[:, 0]], axis=1).dropna(axis=0, how='any').values\n",
    "split_str_data = pd.concat([features, targets.iloc[:, 1]], axis=1).dropna(axis=0, how='any').values\n",
    "chloride_data = pd.concat([features, targets.iloc[:, 2]], axis=1).dropna(axis=0, how='any').values\n",
    "carbon_data = pd.concat([features, targets.iloc[:, 3]], axis=1).dropna(axis=0, how='any').values\n",
    "comp_str_data = pd.concat([features, targets.iloc[:, 4]], axis=1).dropna(axis=0, how='any').values\n",
    "\n",
    "# Put all the information in collections\n",
    "X = [\n",
    "    slump_data[:,:-1],\n",
    "    split_str_data[:,:-1],\n",
    "    chloride_data[:,:-1],\n",
    "    carbon_data[:,:-1],\n",
    "    comp_str_data[:,:-1],\n",
    "]\n",
    "\n",
    "Y = [\n",
    "    slump_data[:, -1:],\n",
    "    split_str_data[:, -1:],\n",
    "    chloride_data[:, -1:],\n",
    "    carbon_data[:, -1:],\n",
    "    comp_str_data[:, -1:]\n",
    "]"
   ],
   "metadata": {
    "collapsed": false,
    "ExecuteTime": {
     "end_time": "2024-04-03T06:38:06.858111700Z",
     "start_time": "2024-04-03T06:38:06.815935800Z"
    }
   },
   "id": "14b1dd031ddf9f9d"
  },
  {
   "cell_type": "code",
   "execution_count": 9,
   "outputs": [],
   "source": [
    "T = len(Y)  # number of tasks\n",
    "O = [y.shape[1] for y in Y]  # number of outputs for every task\n",
    "D = [x.shape[1] for x in X]"
   ],
   "metadata": {
    "collapsed": false,
    "ExecuteTime": {
     "end_time": "2024-04-03T06:38:06.858111700Z",
     "start_time": "2024-04-03T06:38:06.831860200Z"
    }
   },
   "id": "422bd5c70c7c0c0"
  },
  {
   "cell_type": "code",
   "execution_count": 10,
   "outputs": [],
   "source": [
    "X_train = []; Y_train = []; X_test = []; Y_test = []\n",
    "for i in range(T):\n",
    "    x_train, x_test, y_train, y_test = train_test_split(X[i], Y[i], test_size = 0.2, random_state=42)\n",
    "    X_train.append(x_train)\n",
    "    Y_train.append(y_train)\n",
    "    X_test.append(x_test)\n",
    "    Y_test.append(y_test)"
   ],
   "metadata": {
    "collapsed": false,
    "ExecuteTime": {
     "end_time": "2024-04-03T06:38:06.858111700Z",
     "start_time": "2024-04-03T06:38:06.834738700Z"
    }
   },
   "id": "96e4d499d5613923"
  },
  {
   "cell_type": "code",
   "execution_count": 11,
   "outputs": [],
   "source": [
    "scaler = StandardScaler()\n",
    "for task_features in X_train:\n",
    "    scaler.fit_transform(task_features)\n",
    "for task_features in X_test:\n",
    "    scaler.transform(task_features)"
   ],
   "metadata": {
    "collapsed": false,
    "ExecuteTime": {
     "end_time": "2024-04-03T06:38:11.370475100Z",
     "start_time": "2024-04-03T06:38:11.348237300Z"
    }
   },
   "id": "d96c884e2500665a"
  },
  {
   "cell_type": "code",
   "execution_count": 13,
   "outputs": [],
   "source": [
    "def custom_loss(y_true, y_pred, trace_proportion=0):\n",
    "    mse_loss = tf.reduce_mean(tf.square(y_true - y_pred))\n",
    "    trace_norm = sum(tf.linalg.norm(w, ord='euclidean') for w in model.trainable_weights)\n",
    "    return mse_loss + trace_proportion * trace_norm"
   ],
   "metadata": {
    "collapsed": false,
    "ExecuteTime": {
     "end_time": "2024-04-03T03:48:50.410597300Z",
     "start_time": "2024-04-03T03:48:50.367821100Z"
    }
   },
   "id": "43642b30d5683e4b"
  },
  {
   "cell_type": "code",
   "execution_count": 16,
   "outputs": [],
   "source": [
    "from tensorflow.keras.layers import Dense"
   ],
   "metadata": {
    "collapsed": false,
    "ExecuteTime": {
     "end_time": "2024-04-03T03:52:20.096838500Z",
     "start_time": "2024-04-03T03:52:20.019846800Z"
    }
   },
   "id": "ed3246907ca63e4b"
  },
  {
   "cell_type": "code",
   "execution_count": 18,
   "outputs": [
    {
     "ename": "ValueError",
     "evalue": "setting an array element with a sequence. The requested array has an inhomogeneous shape after 1 dimensions. The detected shape was (5,) + inhomogeneous part.",
     "output_type": "error",
     "traceback": [
      "\u001B[1;31m---------------------------------------------------------------------------\u001B[0m",
      "\u001B[1;31mValueError\u001B[0m                                Traceback (most recent call last)",
      "Cell \u001B[1;32mIn[18], line 2\u001B[0m\n\u001B[0;32m      1\u001B[0m \u001B[38;5;66;03m# Convert lists of features to NumPy arrays\u001B[39;00m\n\u001B[1;32m----> 2\u001B[0m X_train_array \u001B[38;5;241m=\u001B[39m np\u001B[38;5;241m.\u001B[39marray(X_train)\n\u001B[0;32m      3\u001B[0m X_test_array \u001B[38;5;241m=\u001B[39m np\u001B[38;5;241m.\u001B[39marray(X_test)\n\u001B[0;32m      5\u001B[0m \u001B[38;5;66;03m# Convert lists of target values to NumPy arrays\u001B[39;00m\n",
      "\u001B[1;31mValueError\u001B[0m: setting an array element with a sequence. The requested array has an inhomogeneous shape after 1 dimensions. The detected shape was (5,) + inhomogeneous part."
     ]
    }
   ],
   "source": [
    "# Convert lists of features to NumPy arrays\n",
    "X_train_array = np.array(X_train)\n",
    "X_test_array = np.array(X_test)\n",
    "\n",
    "# Convert lists of target values to NumPy arrays\n",
    "Y_train_array = [np.array(y_train) for y_train in Y_train]\n",
    "Y_test_array = [np.array(y_test) for y_test in Y_test]\n",
    "\n",
    "inputs = tf.keras.Input(shape=(X_train_array.shape[1],))\n",
    "shared_layer = Dense(64, activation='sigmoid')(inputs)\n",
    "outputs = []"
   ],
   "metadata": {
    "collapsed": false,
    "ExecuteTime": {
     "end_time": "2024-04-03T03:57:50.937587200Z",
     "start_time": "2024-04-03T03:57:50.883437Z"
    }
   },
   "id": "e767cd548cb8b649"
  },
  {
   "cell_type": "code",
   "execution_count": null,
   "outputs": [],
   "source": [
    "for _ in range(T):\n",
    "    task_specific_layer = Dense(32, activation='sigmoid')(shared_layer)\n",
    "    task_output = Dense(1)(task_specific_layer)\n",
    "    outputs.append(task_output)\n",
    "\n",
    "model = Model(inputs=inputs, outputs=outputs)\n",
    "\n",
    "# Compile the model with custom loss function\n",
    "optimizer = tf.keras.optimizers.Adam(learning_rate=0.01)\n",
    "model.compile(optimizer=optimizer, loss=custom_loss)\n",
    "\n",
    "# Train the model\n",
    "history = model.fit(X_train, [y_train for y_train in Y_train], epochs=epoch_number, batch_size=32, validation_data=(X_test, [y_test for y_test in Y_test]))\n",
    "\n",
    "# Plot loss curve\n",
    "plt.plot(history.history['loss'], label='Train Loss')\n",
    "plt.plot(history.history['val_loss'], label='Validation Loss')\n",
    "plt.xlabel('Epochs')\n",
    "plt.ylabel('Loss')\n",
    "plt.legend()\n",
    "plt.show()"
   ],
   "metadata": {
    "collapsed": false
   },
   "id": "871c9659e260645b"
  },
  {
   "cell_type": "code",
   "execution_count": null,
   "outputs": [],
   "source": [],
   "metadata": {
    "collapsed": false
   },
   "id": "41e88fc36941175"
  },
  {
   "cell_type": "code",
   "execution_count": 19,
   "outputs": [],
   "source": [
    "all_X_train = [sample for sublist in X_train for sample in sublist]\n",
    "all_Y_train = [sample for sublist in Y_train for sample in sublist]\n",
    "all_X_test = [sample for sublist in X_test for sample in sublist]\n",
    "all_Y_test = [sample for sublist in Y_test for sample in sublist]\n",
    "\n",
    "# Convert concatenated lists to NumPy arrays\n",
    "X_train_array = np.array(all_X_train)\n",
    "Y_train_array = np.array(all_Y_train)\n",
    "X_test_array = np.array(all_X_test)\n",
    "Y_test_array = np.array(all_Y_test)\n",
    "\n",
    "# Scale the features using StandardScaler\n",
    "scaler = StandardScaler()\n",
    "X_train_scaled = scaler.fit_transform(X_train_array)\n",
    "X_test_scaled = scaler.transform(X_test_array)\n"
   ],
   "metadata": {
    "collapsed": false,
    "ExecuteTime": {
     "end_time": "2024-04-03T04:00:10.537035600Z",
     "start_time": "2024-04-03T04:00:10.492356Z"
    }
   },
   "id": "3e2412d64602ef08"
  },
  {
   "cell_type": "code",
   "execution_count": 20,
   "outputs": [
    {
     "ename": "IndexError",
     "evalue": "index 1 is out of bounds for axis 1 with size 1",
     "output_type": "error",
     "traceback": [
      "\u001B[1;31m---------------------------------------------------------------------------\u001B[0m",
      "\u001B[1;31mIndexError\u001B[0m                                Traceback (most recent call last)",
      "Cell \u001B[1;32mIn[20], line 23\u001B[0m\n\u001B[0;32m     20\u001B[0m model\u001B[38;5;241m.\u001B[39mcompile(optimizer\u001B[38;5;241m=\u001B[39moptimizer, loss\u001B[38;5;241m=\u001B[39mcustom_loss)\n\u001B[0;32m     22\u001B[0m \u001B[38;5;66;03m# Train the model\u001B[39;00m\n\u001B[1;32m---> 23\u001B[0m history \u001B[38;5;241m=\u001B[39m model\u001B[38;5;241m.\u001B[39mfit(X_train_scaled, [Y_train_array[:,i] \u001B[38;5;28;01mfor\u001B[39;00m i \u001B[38;5;129;01min\u001B[39;00m \u001B[38;5;28mrange\u001B[39m(T)], epochs\u001B[38;5;241m=\u001B[39mepoch_number, batch_size\u001B[38;5;241m=\u001B[39m\u001B[38;5;241m32\u001B[39m, validation_data\u001B[38;5;241m=\u001B[39m(X_test_scaled, [Y_test_array[:,i] \u001B[38;5;28;01mfor\u001B[39;00m i \u001B[38;5;129;01min\u001B[39;00m \u001B[38;5;28mrange\u001B[39m(T)]))\n\u001B[0;32m     25\u001B[0m \u001B[38;5;66;03m# Plot loss curve\u001B[39;00m\n\u001B[0;32m     26\u001B[0m plt\u001B[38;5;241m.\u001B[39mplot(history\u001B[38;5;241m.\u001B[39mhistory[\u001B[38;5;124m'\u001B[39m\u001B[38;5;124mloss\u001B[39m\u001B[38;5;124m'\u001B[39m], label\u001B[38;5;241m=\u001B[39m\u001B[38;5;124m'\u001B[39m\u001B[38;5;124mTrain Loss\u001B[39m\u001B[38;5;124m'\u001B[39m)\n",
      "Cell \u001B[1;32mIn[20], line 23\u001B[0m, in \u001B[0;36m<listcomp>\u001B[1;34m(.0)\u001B[0m\n\u001B[0;32m     20\u001B[0m model\u001B[38;5;241m.\u001B[39mcompile(optimizer\u001B[38;5;241m=\u001B[39moptimizer, loss\u001B[38;5;241m=\u001B[39mcustom_loss)\n\u001B[0;32m     22\u001B[0m \u001B[38;5;66;03m# Train the model\u001B[39;00m\n\u001B[1;32m---> 23\u001B[0m history \u001B[38;5;241m=\u001B[39m model\u001B[38;5;241m.\u001B[39mfit(X_train_scaled, [Y_train_array[:,i] \u001B[38;5;28;01mfor\u001B[39;00m i \u001B[38;5;129;01min\u001B[39;00m \u001B[38;5;28mrange\u001B[39m(T)], epochs\u001B[38;5;241m=\u001B[39mepoch_number, batch_size\u001B[38;5;241m=\u001B[39m\u001B[38;5;241m32\u001B[39m, validation_data\u001B[38;5;241m=\u001B[39m(X_test_scaled, [Y_test_array[:,i] \u001B[38;5;28;01mfor\u001B[39;00m i \u001B[38;5;129;01min\u001B[39;00m \u001B[38;5;28mrange\u001B[39m(T)]))\n\u001B[0;32m     25\u001B[0m \u001B[38;5;66;03m# Plot loss curve\u001B[39;00m\n\u001B[0;32m     26\u001B[0m plt\u001B[38;5;241m.\u001B[39mplot(history\u001B[38;5;241m.\u001B[39mhistory[\u001B[38;5;124m'\u001B[39m\u001B[38;5;124mloss\u001B[39m\u001B[38;5;124m'\u001B[39m], label\u001B[38;5;241m=\u001B[39m\u001B[38;5;124m'\u001B[39m\u001B[38;5;124mTrain Loss\u001B[39m\u001B[38;5;124m'\u001B[39m)\n",
      "\u001B[1;31mIndexError\u001B[0m: index 1 is out of bounds for axis 1 with size 1"
     ]
    }
   ],
   "source": [
    "# Define custom loss function with trace norm regularization\n",
    "def custom_loss(y_true, y_pred, trace_proportion=0):\n",
    "    mse_loss = tf.reduce_mean(tf.square(y_true - y_pred))\n",
    "    trace_norm = sum(tf.linalg.norm(w, ord='euclidean') for w in model.trainable_weights)\n",
    "    return mse_loss + trace_proportion * trace_norm\n",
    "\n",
    "# Define the model architecture using Keras Functional API\n",
    "inputs = tf.keras.Input(shape=(X_train_scaled.shape[1],))\n",
    "shared_layer = Dense(64, activation='sigmoid')(inputs)  # Shared layer\n",
    "outputs = []\n",
    "for _ in range(T):\n",
    "    task_specific_layer = Dense(32, activation='sigmoid')(shared_layer)\n",
    "    task_output = Dense(1)(task_specific_layer)\n",
    "    outputs.append(task_output)\n",
    "\n",
    "model = tf.keras.Model(inputs=inputs, outputs=outputs)\n",
    "\n",
    "# Compile the model with custom loss function\n",
    "optimizer = tf.keras.optimizers.Adam(learning_rate=0.01)\n",
    "model.compile(optimizer=optimizer, loss=custom_loss)\n",
    "\n",
    "# Train the model\n",
    "history = model.fit(X_train_scaled, [Y_train_array[:,i] for i in range(T)], epochs=epoch_number, batch_size=32, validation_data=(X_test_scaled, [Y_test_array[:,i] for i in range(T)]))\n",
    "\n",
    "# Plot loss curve\n",
    "plt.plot(history.history['loss'], label='Train Loss')\n",
    "plt.plot(history.history['val_loss'], label='Validation Loss')\n",
    "plt.xlabel('Epochs')\n",
    "plt.ylabel('Loss')\n",
    "plt.legend()\n",
    "plt.show()"
   ],
   "metadata": {
    "collapsed": false,
    "ExecuteTime": {
     "end_time": "2024-04-03T04:02:15.029437400Z",
     "start_time": "2024-04-03T04:02:14.742017600Z"
    }
   },
   "id": "8b53533866f09c4a"
  },
  {
   "cell_type": "code",
   "execution_count": 21,
   "outputs": [
    {
     "ename": "ValueError",
     "evalue": "setting an array element with a sequence. The requested array has an inhomogeneous shape after 1 dimensions. The detected shape was (5,) + inhomogeneous part.",
     "output_type": "error",
     "traceback": [
      "\u001B[1;31m---------------------------------------------------------------------------\u001B[0m",
      "\u001B[1;31mValueError\u001B[0m                                Traceback (most recent call last)",
      "Cell \u001B[1;32mIn[21], line 1\u001B[0m\n\u001B[1;32m----> 1\u001B[0m Y_train_array \u001B[38;5;241m=\u001B[39m np\u001B[38;5;241m.\u001B[39marray(Y_train)\n\u001B[0;32m      2\u001B[0m Y_test_array \u001B[38;5;241m=\u001B[39m np\u001B[38;5;241m.\u001B[39marray(Y_test)\n\u001B[0;32m      4\u001B[0m \u001B[38;5;66;03m# Train the model\u001B[39;00m\n",
      "\u001B[1;31mValueError\u001B[0m: setting an array element with a sequence. The requested array has an inhomogeneous shape after 1 dimensions. The detected shape was (5,) + inhomogeneous part."
     ]
    }
   ],
   "source": [
    "Y_train_array = np.array(Y_train)\n",
    "Y_test_array = np.array(Y_test)\n",
    "\n",
    "# Train the model\n",
    "history = model.fit(X_train_scaled, Y_train_array, epochs=8000, batch_size=32, validation_data=(X_test_scaled, Y_test_array))"
   ],
   "metadata": {
    "collapsed": false,
    "ExecuteTime": {
     "end_time": "2024-04-03T04:03:27.178812500Z",
     "start_time": "2024-04-03T04:03:27.132764200Z"
    }
   },
   "id": "68b215c672d000bf"
  },
  {
   "cell_type": "code",
   "execution_count": null,
   "outputs": [],
   "source": [],
   "metadata": {
    "collapsed": false
   },
   "id": "88dddb91ac4c40c7"
  },
  {
   "cell_type": "code",
   "execution_count": null,
   "outputs": [],
   "source": [],
   "metadata": {
    "collapsed": false
   },
   "id": "a455c3d00af9c7b3"
  },
  {
   "cell_type": "code",
   "execution_count": null,
   "outputs": [],
   "source": [],
   "metadata": {
    "collapsed": false
   },
   "id": "bb8f2ce6b1e71011"
  },
  {
   "cell_type": "code",
   "execution_count": null,
   "outputs": [],
   "source": [],
   "metadata": {
    "collapsed": false
   },
   "id": "f0f586fad6761f44"
  },
  {
   "cell_type": "code",
   "execution_count": 12,
   "outputs": [],
   "source": [
    "H1 = 64\n",
    "H2 = 32\n",
    "trace_proportion = 0\n",
    "epoch_number = 8000\n",
    "traceNormalizationMethod = 'LAF'\n",
    "save_pic_path = 'C:/Users/leeno/Desktop/Dataspell/4102/Check/Pic'\n",
    "save_model_path = 'C:/Users/leeno/Desktop/Dataspell/4102/Check'"
   ],
   "metadata": {
    "collapsed": false,
    "ExecuteTime": {
     "end_time": "2024-04-03T03:08:52.741612700Z",
     "start_time": "2024-04-03T03:08:52.609649400Z"
    }
   },
   "id": "aeeb9df1ac34a966"
  },
  {
   "cell_type": "code",
   "execution_count": 13,
   "outputs": [
    {
     "name": "stdout",
     "output_type": "stream",
     "text": [
      "WARNING:tensorflow:From C:\\Users\\leeno\\AppData\\Local\\Temp\\ipykernel_8964\\4095321993.py:2: The name tf.disable_v2_behavior is deprecated. Please use tf.compat.v1.disable_v2_behavior instead.\n",
      "\n",
      "WARNING:tensorflow:From C:\\Users\\leeno\\anaconda3\\Lib\\site-packages\\tensorflow\\python\\compat\\v2_compat.py:108: disable_resource_variables (from tensorflow.python.ops.variable_scope) is deprecated and will be removed in a future version.\n",
      "Instructions for updating:\n",
      "non-resource variables are not supported in the long term\n"
     ]
    }
   ],
   "source": [
    "import tensorflow.compat.v1 as tf\n",
    "tf.disable_v2_behavior()\n",
    "\n",
    "from tensorflow.python.framework import function, dtypes"
   ],
   "metadata": {
    "collapsed": false,
    "ExecuteTime": {
     "end_time": "2024-04-03T03:08:53.926667700Z",
     "start_time": "2024-04-03T03:08:53.771216700Z"
    }
   },
   "id": "5cc1c85f92db6208"
  },
  {
   "cell_type": "code",
   "execution_count": 14,
   "outputs": [],
   "source": [
    "@function.Defun(dtypes.float32, dtypes.float32)\n",
    "def nuclear_norm_grad(x, dy):\n",
    "    _, U, V = tf.svd(x, full_matrices=False, compute_uv=True)\n",
    "    grad = tf.matmul(U, tf.transpose(V))\n",
    "    return dy * grad\n",
    "\n",
    "\n",
    "@function.Defun(dtypes.float32, grad_func=nuclear_norm_grad)\n",
    "def nuclear_norm(x):\n",
    "    sigma = tf.svd(x, full_matrices=False, compute_uv=False)\n",
    "    norm = tf.reduce_sum(sigma)\n",
    "    return norm\n",
    "\n",
    "\n",
    "def TensorUnfold(A, k):\n",
    "    tmp_arr = np.arange(A.get_shape().ndims)\n",
    "    A = tf.transpose(A, [tmp_arr[k]] + np.delete(tmp_arr, k).tolist())\n",
    "    shapeA = A.get_shape().as_list()\n",
    "    A = tf.reshape(A, [shapeA[0], np.prod(shapeA[1:])])\n",
    "    return A\n",
    "\n",
    "\n",
    "def TensorTraceNorm(X, method='Tucker'):\n",
    "    shapeX = X.get_shape().as_list()\n",
    "    dimX = len(shapeX)\n",
    "    if method == 'Tucker':\n",
    "        re = [nuclear_norm(i) for i in [TensorUnfold(X, j) for j in range(dimX)]]\n",
    "    elif method == 'TT':\n",
    "        re = [nuclear_norm(i) for i in\n",
    "              [tf.reshape(X, [np.prod(shapeX[:j]), np.prod(shapeX[j:])]) for j in range(1, dimX)]]\n",
    "    elif method == 'LAF':\n",
    "        re = [nuclear_norm(TensorUnfold(X, -1))]\n",
    "    return tf.stack(re)"
   ],
   "metadata": {
    "collapsed": false,
    "ExecuteTime": {
     "end_time": "2024-04-03T03:08:54.486020100Z",
     "start_time": "2024-04-03T03:08:54.470963200Z"
    }
   },
   "id": "466ec164d7cf65b9"
  },
  {
   "cell_type": "code",
   "execution_count": 15,
   "outputs": [
    {
     "name": "stdout",
     "output_type": "stream",
     "text": [
      "WARNING:tensorflow:From C:\\Users\\leeno\\AppData\\Local\\Temp\\ipykernel_8964\\1637107328.py:27: The name tf.nn.xw_plus_b is deprecated. Please use tf.compat.v1.nn.xw_plus_b instead.\n",
      "WARNING:tensorflow:From C:\\Users\\leeno\\AppData\\Local\\Temp\\ipykernel_8964\\1637107328.py:46: The name tf.train.AdamOptimizer is deprecated. Please use tf.compat.v1.train.AdamOptimizer instead.\n",
      "Epoch: 0\n",
      "Train loss: 3489.159\n",
      "Test loss: 3518.5195\n",
      "Best loss: 3518.5195\n",
      "Epoch: 1000\n",
      "Train loss: 584.1162\n",
      "Test loss: 601.30164\n",
      "Best loss: 597.13446\n",
      "Epoch: 2000\n",
      "Train loss: 415.10245\n",
      "Test loss: 444.42783\n",
      "Best loss: 429.28638\n",
      "Epoch: 3000\n",
      "Train loss: 369.69055\n",
      "Test loss: 384.46033\n",
      "Best loss: 383.8072\n",
      "Epoch: 4000\n",
      "Train loss: 315.93784\n",
      "Test loss: 355.4289\n",
      "Best loss: 351.8341\n",
      "Epoch: 5000\n",
      "Train loss: 303.05756\n",
      "Test loss: 359.01007\n",
      "Best loss: 351.8341\n",
      "Epoch: 6000\n",
      "Train loss: 377.12628\n",
      "Test loss: 433.65912\n",
      "Best loss: 350.88687\n",
      "Epoch: 7000\n",
      "Train loss: 376.11963\n",
      "Test loss: 404.3413\n",
      "Best loss: 350.88687\n"
     ]
    }
   ],
   "source": [
    "sess = tf.InteractiveSession()\n",
    "# a total of 12 variables including 6 weight matrices and 6 bias vectors\n",
    "# Here we use \"TensorTraceNorm\" to get the trace norm of shareable layer's parameter (tensor)\n",
    "########################################################################################################################\n",
    "# Input to hidden 1\n",
    "W_input_to_hidden_1 = [tf.Variable(tf.truncated_normal(shape=[d, H1])) for d in D]\n",
    "b_input_to_hidden_1 = [tf.Variable(tf.zeros(shape=[H1])) for _ in range(T)]\n",
    "\n",
    "# Hidden 1 to hidden 2\n",
    "W_input_to_hidden_2 = tf.Variable(tf.truncated_normal(shape=[H1, H2, T]))\n",
    "Trace_norm_input_to_hidden = TensorTraceNorm(W_input_to_hidden_2, traceNormalizationMethod)\n",
    "W_input_to_hidden_2 = [W_input_to_hidden_2[:,:,i] for i in range(T)]\n",
    "\n",
    "# Nothing changes for bias terms or unshared parameters\n",
    "b_input_to_hidden_2 = [tf.Variable(tf.zeros(shape=[H2])) for _ in range(T)]\n",
    "W_hidden_to_output = [tf.Variable(tf.truncated_normal(shape=[H2, o])) for o in O]\n",
    "b_hidden_to_output = [tf.Variable(tf.zeros(shape=[o])) for o in O]\n",
    "\n",
    "# Build the network as usual\n",
    "X_placeholder = [tf.placeholder(tf.float32, shape=[None, d]) for d in D]\n",
    "Y_placeholder = [tf.placeholder(tf.float32, shape=[None, o]) for o in O]\n",
    "# Add test placeholders\n",
    "X_test_placeholder = [tf.placeholder(tf.float32, shape=[None, d]) for d in D]\n",
    "Y_test_placeholder = [tf.placeholder(tf.float32, shape=[None, o]) for o in O]\n",
    "\n",
    "# Calculate train predictions\n",
    "Y_hat = [tf.nn.xw_plus_b(tf.nn.sigmoid(tf.nn.xw_plus_b(tf.nn.sigmoid(tf.nn.xw_plus_b(x,w0,b0)),w1,b1)),w2,b2)\n",
    "         for x,w0,b0,w1,b1,w2,b2 in zip(X_placeholder, W_input_to_hidden_1, b_input_to_hidden_1, W_input_to_hidden_2, \\\n",
    "                                        b_input_to_hidden_2, W_hidden_to_output, b_hidden_to_output)]\n",
    "# Calculate test predictions\n",
    "Y_test_hat = [tf.nn.xw_plus_b(tf.nn.sigmoid(tf.nn.xw_plus_b(tf.nn.sigmoid(tf.nn.xw_plus_b(x,w0,b0)),w1,b1)),w2,b2)\n",
    "              for x,w0,b0,w1,b1,w2,b2 in zip(X_test_placeholder, W_input_to_hidden_1, b_input_to_hidden_1, W_input_to_hidden_2, \\\n",
    "                                             b_input_to_hidden_2, W_hidden_to_output, b_hidden_to_output)]\n",
    "\n",
    "train_feed_dict = dict(list(zip(X_placeholder, X_train)) + list(zip(Y_placeholder, Y_train)))\n",
    "test_feed_dict = dict(list(zip(X_test_placeholder, X_test)) + list(zip(Y_test_placeholder, Y_test)))\n",
    "\n",
    "# Calculate MSE\n",
    "MSE = [tf.reduce_mean(tf.squared_difference(y, y_hat)) for y, y_hat in zip(Y_placeholder,Y_hat)]\n",
    "test_MSE = [tf.reduce_mean(tf.squared_difference(y, y_hat)) for y, y_hat in zip(Y_test_placeholder, Y_test_hat)]\n",
    "\n",
    "# Here we add trace norm as part of losses\n",
    "loss = tf.reduce_mean(MSE) + trace_proportion * tf.reduce_sum(Trace_norm_input_to_hidden)\n",
    "test_loss = tf.reduce_mean(test_MSE) + trace_proportion * tf.reduce_sum(Trace_norm_input_to_hidden)\n",
    "\n",
    "opt = tf.train.AdamOptimizer(learning_rate=0.01)\n",
    "train = opt.minimize(loss)\n",
    "\n",
    "# Train the model\n",
    "init_op = tf.global_variables_initializer() # Workaround: https://github.com/tensorflow/tensorflow/issues/6804\n",
    "sess.run(init_op)\n",
    "\n",
    "best_loss = np.inf\n",
    "best_epoch = 0\n",
    "saver = tf.train.Saver(max_to_keep=1)\n",
    "for epoch in range(epoch_number):\n",
    "    train.run(feed_dict=train_feed_dict)\n",
    "    train_loss_value = loss.eval(feed_dict=train_feed_dict)\n",
    "    test_loss_value = test_loss.eval(feed_dict=test_feed_dict)\n",
    "    if test_loss_value < best_loss:\n",
    "        if epoch > 5000 and epoch - best_epoch > 10:\n",
    "            saver.save(sess, save_model_path)\n",
    "        best_loss = test_loss_value\n",
    "        best_epoch = epoch\n",
    "    if epoch % 1000 == 0:\n",
    "        print(\"Epoch:\", epoch)\n",
    "        print(\"Train loss:\", train_loss_value)\n",
    "        print(\"Test loss:\", test_loss_value)\n",
    "        print(\"Best loss:\", best_loss)"
   ],
   "metadata": {
    "collapsed": false,
    "ExecuteTime": {
     "end_time": "2024-04-03T03:09:39.256129Z",
     "start_time": "2024-04-03T03:08:55.311785900Z"
    }
   },
   "id": "f80882cc023c4c71"
  },
  {
   "cell_type": "code",
   "execution_count": 16,
   "outputs": [
    {
     "name": "stdout",
     "output_type": "stream",
     "text": [
      "INFO:tensorflow:Restoring parameters from C:/Users/leeno/Desktop/Dataspell/4102/Check\n"
     ]
    },
    {
     "data": {
      "text/plain": "<Figure size 640x480 with 1 Axes>",
      "image/png": "[encoded data removed]"
     },
     "metadata": {},
     "output_type": "display_data"
    }
   ],
   "source": [
    "# Start validating\n",
    "saver = tf.train.Saver()\n",
    "sess = tf.Session()\n",
    "saver.restore(sess, save_model_path)\n",
    "\n",
    "# Calculate predicted values after training\n",
    "predicted_values = sess.run(Y_test_hat, feed_dict=test_feed_dict)\n",
    "\n",
    "# Plot actual vs predicted values with R^2 in the legend\n",
    "for i in range(T):\n",
    "    X_plot_values = Y_test[i] # 实际值\n",
    "    Y_plot_values = predicted_values[i] # 预测值\n",
    "    # Calculate R^2 score for each task\n",
    "    r2 = r2_score(X_plot_values, Y_plot_values)\n",
    "    # Plot scatters\n",
    "    plt.scatter(X_plot_values, Y_plot_values, label=f\"Task {i + 1} (R^2: {r2:.4f})\")\n",
    "    plt.xlabel(\"Actual values\")\n",
    "    plt.ylabel(\"Predicted values\")\n",
    "    # Calculate axis limits\n",
    "    min_limit = min(X_plot_values.min(), Y_plot_values.min())\n",
    "    max_limit = max(X_plot_values.max(), Y_plot_values.max())\n",
    "    # Plot a diagonal\n",
    "    plt.plot([min_limit, max_limit], [min_limit, max_limit], 'k--', lw=2, label=\"Diagonal\")\n",
    "    # Set axis limits and equal aspect ratio\n",
    "    plt.xlim(min_limit, max_limit)\n",
    "    plt.ylim(min_limit, max_limit)\n",
    "    plt.gca().set_aspect('equal', adjustable='box')\n",
    "    # assert X_plot_values.shape == Y_plot_values.shape\n",
    "    # for j in range(X_plot_values.shape[0]):\n",
    "    #     print(f\"Task {i} Sample {j}: actual:{X_plot_values[j]},predicted:{Y_plot_values[j]}\")\n",
    "    plt.legend()\n",
    "    # plt.savefig(save_pic_path + 'task_' + str(i) + '.png')\n",
    "    # plt.savefig(save_pic_path + 'task_' + str(i) + '_R2=' + str(r2) + '.png')\n",
    "plt.show()"
   ],
   "metadata": {
    "collapsed": false,
    "ExecuteTime": {
     "end_time": "2024-04-03T03:09:39.623325500Z",
     "start_time": "2024-04-03T03:09:39.276258Z"
    }
   },
   "id": "272bec52702098d7"
  }
 ],
 "metadata": {
  "kernelspec": {
   "display_name": "Python 3",
   "language": "python",
   "name": "python3"
  },
  "language_info": {
   "codemirror_mode": {
    "name": "ipython",
    "version": 2
   },
   "file_extension": ".py",
   "mimetype": "text/x-python",
   "name": "python",
   "nbconvert_exporter": "python",
   "pygments_lexer": "ipython2",
   "version": "2.7.6"
  }
 },
 "nbformat": 4,
 "nbformat_minor": 5
}
