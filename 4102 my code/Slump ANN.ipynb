{
 "cells": [
  {
   "cell_type": "markdown",
   "source": [
    "# Import necessary libraries "
   ],
   "metadata": {
    "collapsed": false
   },
   "id": "ff4afeeecc2ce123"
  },
  {
   "cell_type": "code",
   "execution_count": 1,
   "outputs": [
    {
     "name": "stdout",
     "output_type": "stream",
     "text": [
      "WARNING:tensorflow:From C:\\Users\\leeno\\anaconda3\\Lib\\site-packages\\keras\\src\\losses.py:2976: The name tf.losses.sparse_softmax_cross_entropy is deprecated. Please use tf.compat.v1.losses.sparse_softmax_cross_entropy instead.\n"
     ]
    },
    {
     "name": "stderr",
     "output_type": "stream",
     "text": [
      "Using `tqdm.autonotebook.tqdm` in notebook mode. Use `tqdm.tqdm` instead to force console mode (e.g. in jupyter console)\n"
     ]
    }
   ],
   "source": [
    "# Libraries to help with reading and manipulating data\n",
    "import numpy as np\n",
    "import pandas as pd\n",
    "# libaries to help with data visualization\n",
    "import plotly.express as px\n",
    "import plotly.graph_objects as go\n",
    "import matplotlib.pyplot as plt\n",
    "import seaborn as sns\n",
    "# Library to split data\n",
    "from sklearn.model_selection import train_test_split\n",
    "# library to import to standardize the data\n",
    "from sklearn.preprocessing import MinMaxScaler\n",
    "#To import different metrics\n",
    "from sklearn.metrics import explained_variance_score, mean_squared_error, r2_score, mean_absolute_error\n",
    "#Importing classback API\n",
    "from keras import callbacks\n",
    "# Importing tensorflow library\n",
    "import tensorflow as tf\n",
    "# importing different functions to build models\n",
    "from tensorflow.keras.layers import Dense, Dropout,InputLayer\n",
    "from tensorflow.keras.models import Sequential\n",
    "# Importing Batch Normalization\n",
    "from keras.layers import BatchNormalization\n",
    "# Importing backend\n",
    "from tensorflow.keras import backend\n",
    "# Importing shffule\n",
    "import random\n",
    "from random import shuffle\n",
    "from keras.callbacks import ModelCheckpoint\n",
    "# Importing optimizers\n",
    "from tensorflow.keras.optimizers import Adam\n",
    "from tensorflow.keras.optimizers import RMSprop\n",
    "from  tensorflow.keras.optimizers import SGD\n",
    "#Import Shap\n",
    "import shap\n",
    "\n",
    "# Library to avoid the warnings\n",
    "import warnings\n",
    "warnings.filterwarnings(\"ignore\")"
   ],
   "metadata": {
    "collapsed": false,
    "ExecuteTime": {
     "end_time": "2024-01-10T07:12:38.235680100Z",
     "start_time": "2024-01-10T07:12:33.818616200Z"
    }
   },
   "id": "bc482ce2a6bf34e0"
  },
  {
   "cell_type": "markdown",
   "source": [
    "# Load data"
   ],
   "metadata": {
    "collapsed": false
   },
   "id": "44a603387e12de12"
  },
  {
   "cell_type": "code",
   "execution_count": 2,
   "outputs": [
    {
     "data": {
      "text/plain": "      Number          Data source Selected Mix number in literature  \\\n0        NaN       2. Yunusa 2014      NaN                    PC-40   \n1        NaN       2. Yunusa 2014      NaN                    PC-50   \n2        NaN       2. Yunusa 2014      NaN                    PC-60   \n3        NaN       2. Yunusa 2014      NaN                    PC-75   \n4        NaN       2. Yunusa 2014      NaN                    FA-40   \n...      ...                  ...      ...                      ...   \n1983     NaN  J48. Farahani, 2015      NaN                     W3-4   \n1984     NaN  J48. Farahani, 2015      NaN                     W4-1   \n1985     NaN  J48. Farahani, 2015      NaN                     W4-2   \n1986     NaN  J48. Farahani, 2015      NaN                     W4-3   \n1987     NaN  J48. Farahani, 2015      NaN                     W4-4   \n\n      ASTM type 1 ordinary Portland Cement content (kg/m^3)  \\\n0                                                   0.0       \n1                                                   0.0       \n2                                                   0.0       \n3                                                   0.0       \n4                                                   0.0       \n...                                                 ...       \n1983                                              350.0       \n1984                                              380.0       \n1985                                              370.0       \n1986                                              360.0       \n1987                                              350.0       \n\n      CEM I 42.5N ordinary Portland Cement content (kg/m^3)  \\\n0                                                   0.0       \n1                                                   0.0       \n2                                                   0.0       \n3                                                   0.0       \n4                                                   0.0       \n...                                                 ...       \n1983                                                0.0       \n1984                                                0.0       \n1985                                                0.0       \n1986                                                0.0       \n1987                                                0.0       \n\n      CEM I 52.5N ordinary Portland Cement content (kg/m^3)  \\\n0                                                 450.0       \n1                                                 400.0       \n2                                                 350.0       \n3                                                 300.0       \n4                                                 315.0       \n...                                                 ...       \n1983                                                0.0       \n1984                                                0.0       \n1985                                                0.0       \n1986                                                0.0       \n1987                                                0.0       \n\n      Class C Fly ash content (kg/m^3)  Class F Fly ash content (kg/m^3)  \\\n0                                  0.0                               0.0   \n1                                  0.0                               0.0   \n2                                  0.0                               0.0   \n3                                  0.0                               0.0   \n4                                  0.0                             135.0   \n...                                ...                               ...   \n1983                               0.0                               0.0   \n1984                               0.0                               0.0   \n1985                               0.0                               0.0   \n1986                               0.0                               0.0   \n1987                               0.0                               0.0   \n\n      Slag content (kg/m^3)  ...  \\\n0                       0.0  ...   \n1                       0.0  ...   \n2                       0.0  ...   \n3                       0.0  ...   \n4                       0.0  ...   \n...                     ...  ...   \n1983                    0.0  ...   \n1984                    0.0  ...   \n1985                    0.0  ...   \n1986                    0.0  ...   \n1987                    0.0  ...   \n\n      Annual average temperature of exposed environment (Celsius degree)  \\\n0                                                  24.3                    \n1                                                  24.3                    \n2                                                  24.3                    \n3                                                  24.3                    \n4                                                  24.3                    \n...                                                 ...                    \n1983                                                NaN                    \n1984                                                NaN                    \n1985                                                NaN                    \n1986                                                NaN                    \n1987                                                NaN                    \n\n      Annual wetting times/rainy days of exposed environment (d)  \\\n0                                                   0.0            \n1                                                   0.0            \n2                                                   0.0            \n3                                                   0.0            \n4                                                   0.0            \n...                                                 ...            \n1983                                                NaN            \n1984                                                NaN            \n1985                                                NaN            \n1986                                                NaN            \n1987                                                NaN            \n\n      Annual average precipitation of exposed environment (mm)  Slump (mm)  \\\n0                                                   0.0               30.0   \n1                                                   0.0               60.0   \n2                                                   0.0              100.0   \n3                                                   0.0              140.0   \n4                                                   0.0               40.0   \n...                                                 ...                ...   \n1983                                                NaN                NaN   \n1984                                                NaN                NaN   \n1985                                                NaN                NaN   \n1986                                                NaN                NaN   \n1987                                                NaN                NaN   \n\n      Average 28-day compressive strength (Mpa)  \\\n0                                         75.93   \n1                                         64.50   \n2                                         49.23   \n3                                         36.00   \n4                                         62.80   \n...                                         ...   \n1983                                        NaN   \n1984                                        NaN   \n1985                                        NaN   \n1986                                        NaN   \n1987                                        NaN   \n\n      Average 28-day split strength (Mpa)  \\\n0                                     NaN   \n1                                     NaN   \n2                                     NaN   \n3                                     NaN   \n4                                     NaN   \n...                                   ...   \n1983                                  NaN   \n1984                                  NaN   \n1985                                  NaN   \n1986                                  NaN   \n1987                                  NaN   \n\n     Chloride diffusion coefficient (10-12 m2/s)  \\\n0                                            NaN   \n1                                            NaN   \n2                                            NaN   \n3                                            NaN   \n4                                            NaN   \n...                                          ...   \n1983                                       1.550   \n1984                                       3.375   \n1985                                       1.000   \n1986                                       0.500   \n1987                                       0.825   \n\n      Average carbonation coefficient (mm/year^0.5)  Specimen size  \\\n0                                             3.139            NaN   \n1                                             4.022            NaN   \n2                                             6.670            NaN   \n3                                             7.945            NaN   \n4                                             6.052            NaN   \n...                                             ...            ...   \n1983                                            NaN    150*150*150   \n1984                                            NaN    150*150*150   \n1985                                            NaN    150*150*150   \n1986                                            NaN    150*150*150   \n1987                                            NaN    150*150*150   \n\n                                                   Note  \n0     No significant effect of initial water curing ...  \n1                                                   NaN  \n2                                                   NaN  \n3                                                   NaN  \n4                                                   NaN  \n...                                                 ...  \n1983                                                NaN  \n1984                                                NaN  \n1985                                                NaN  \n1986                                                NaN  \n1987                                                NaN  \n\n[1988 rows x 34 columns]",
      "text/html": "<div>\n<style scoped>\n    .dataframe tbody tr th:only-of-type {\n        vertical-align: middle;\n    }\n\n    .dataframe tbody tr th {\n        vertical-align: top;\n    }\n\n    .dataframe thead th {\n        text-align: right;\n    }\n</style>\n<table border=\"1\" class=\"dataframe\">\n  <thead>\n    <tr style=\"text-align: right;\">\n      <th></th>\n      <th>Number</th>\n      <th>Data source</th>\n      <th>Selected</th>\n      <th>Mix number in literature</th>\n      <th>ASTM type 1 ordinary Portland Cement content (kg/m^3)</th>\n      <th>CEM I 42.5N ordinary Portland Cement content (kg/m^3)</th>\n      <th>CEM I 52.5N ordinary Portland Cement content (kg/m^3)</th>\n      <th>Class C Fly ash content (kg/m^3)</th>\n      <th>Class F Fly ash content (kg/m^3)</th>\n      <th>Slag content (kg/m^3)</th>\n      <th>...</th>\n      <th>Annual average temperature of exposed environment (Celsius degree)</th>\n      <th>Annual wetting times/rainy days of exposed environment (d)</th>\n      <th>Annual average precipitation of exposed environment (mm)</th>\n      <th>Slump (mm)</th>\n      <th>Average 28-day compressive strength (Mpa)</th>\n      <th>Average 28-day split strength (Mpa)</th>\n      <th>Chloride diffusion coefficient (10-12 m2/s)</th>\n      <th>Average carbonation coefficient (mm/year^0.5)</th>\n      <th>Specimen size</th>\n      <th>Note</th>\n    </tr>\n  </thead>\n  <tbody>\n    <tr>\n      <th>0</th>\n      <td>NaN</td>\n      <td>2. Yunusa 2014</td>\n      <td>NaN</td>\n      <td>PC-40</td>\n      <td>0.0</td>\n      <td>0.0</td>\n      <td>450.0</td>\n      <td>0.0</td>\n      <td>0.0</td>\n      <td>0.0</td>\n      <td>...</td>\n      <td>24.3</td>\n      <td>0.0</td>\n      <td>0.0</td>\n      <td>30.0</td>\n      <td>75.93</td>\n      <td>NaN</td>\n      <td>NaN</td>\n      <td>3.139</td>\n      <td>NaN</td>\n      <td>No significant effect of initial water curing ...</td>\n    </tr>\n    <tr>\n      <th>1</th>\n      <td>NaN</td>\n      <td>2. Yunusa 2014</td>\n      <td>NaN</td>\n      <td>PC-50</td>\n      <td>0.0</td>\n      <td>0.0</td>\n      <td>400.0</td>\n      <td>0.0</td>\n      <td>0.0</td>\n      <td>0.0</td>\n      <td>...</td>\n      <td>24.3</td>\n      <td>0.0</td>\n      <td>0.0</td>\n      <td>60.0</td>\n      <td>64.50</td>\n      <td>NaN</td>\n      <td>NaN</td>\n      <td>4.022</td>\n      <td>NaN</td>\n      <td>NaN</td>\n    </tr>\n    <tr>\n      <th>2</th>\n      <td>NaN</td>\n      <td>2. Yunusa 2014</td>\n      <td>NaN</td>\n      <td>PC-60</td>\n      <td>0.0</td>\n      <td>0.0</td>\n      <td>350.0</td>\n      <td>0.0</td>\n      <td>0.0</td>\n      <td>0.0</td>\n      <td>...</td>\n      <td>24.3</td>\n      <td>0.0</td>\n      <td>0.0</td>\n      <td>100.0</td>\n      <td>49.23</td>\n      <td>NaN</td>\n      <td>NaN</td>\n      <td>6.670</td>\n      <td>NaN</td>\n      <td>NaN</td>\n    </tr>\n    <tr>\n      <th>3</th>\n      <td>NaN</td>\n      <td>2. Yunusa 2014</td>\n      <td>NaN</td>\n      <td>PC-75</td>\n      <td>0.0</td>\n      <td>0.0</td>\n      <td>300.0</td>\n      <td>0.0</td>\n      <td>0.0</td>\n      <td>0.0</td>\n      <td>...</td>\n      <td>24.3</td>\n      <td>0.0</td>\n      <td>0.0</td>\n      <td>140.0</td>\n      <td>36.00</td>\n      <td>NaN</td>\n      <td>NaN</td>\n      <td>7.945</td>\n      <td>NaN</td>\n      <td>NaN</td>\n    </tr>\n    <tr>\n      <th>4</th>\n      <td>NaN</td>\n      <td>2. Yunusa 2014</td>\n      <td>NaN</td>\n      <td>FA-40</td>\n      <td>0.0</td>\n      <td>0.0</td>\n      <td>315.0</td>\n      <td>0.0</td>\n      <td>135.0</td>\n      <td>0.0</td>\n      <td>...</td>\n      <td>24.3</td>\n      <td>0.0</td>\n      <td>0.0</td>\n      <td>40.0</td>\n      <td>62.80</td>\n      <td>NaN</td>\n      <td>NaN</td>\n      <td>6.052</td>\n      <td>NaN</td>\n      <td>NaN</td>\n    </tr>\n    <tr>\n      <th>...</th>\n      <td>...</td>\n      <td>...</td>\n      <td>...</td>\n      <td>...</td>\n      <td>...</td>\n      <td>...</td>\n      <td>...</td>\n      <td>...</td>\n      <td>...</td>\n      <td>...</td>\n      <td>...</td>\n      <td>...</td>\n      <td>...</td>\n      <td>...</td>\n      <td>...</td>\n      <td>...</td>\n      <td>...</td>\n      <td>...</td>\n      <td>...</td>\n      <td>...</td>\n      <td>...</td>\n    </tr>\n    <tr>\n      <th>1983</th>\n      <td>NaN</td>\n      <td>J48. Farahani, 2015</td>\n      <td>NaN</td>\n      <td>W3-4</td>\n      <td>350.0</td>\n      <td>0.0</td>\n      <td>0.0</td>\n      <td>0.0</td>\n      <td>0.0</td>\n      <td>0.0</td>\n      <td>...</td>\n      <td>NaN</td>\n      <td>NaN</td>\n      <td>NaN</td>\n      <td>NaN</td>\n      <td>NaN</td>\n      <td>NaN</td>\n      <td>1.550</td>\n      <td>NaN</td>\n      <td>150*150*150</td>\n      <td>NaN</td>\n    </tr>\n    <tr>\n      <th>1984</th>\n      <td>NaN</td>\n      <td>J48. Farahani, 2015</td>\n      <td>NaN</td>\n      <td>W4-1</td>\n      <td>380.0</td>\n      <td>0.0</td>\n      <td>0.0</td>\n      <td>0.0</td>\n      <td>0.0</td>\n      <td>0.0</td>\n      <td>...</td>\n      <td>NaN</td>\n      <td>NaN</td>\n      <td>NaN</td>\n      <td>NaN</td>\n      <td>NaN</td>\n      <td>NaN</td>\n      <td>3.375</td>\n      <td>NaN</td>\n      <td>150*150*150</td>\n      <td>NaN</td>\n    </tr>\n    <tr>\n      <th>1985</th>\n      <td>NaN</td>\n      <td>J48. Farahani, 2015</td>\n      <td>NaN</td>\n      <td>W4-2</td>\n      <td>370.0</td>\n      <td>0.0</td>\n      <td>0.0</td>\n      <td>0.0</td>\n      <td>0.0</td>\n      <td>0.0</td>\n      <td>...</td>\n      <td>NaN</td>\n      <td>NaN</td>\n      <td>NaN</td>\n      <td>NaN</td>\n      <td>NaN</td>\n      <td>NaN</td>\n      <td>1.000</td>\n      <td>NaN</td>\n      <td>150*150*150</td>\n      <td>NaN</td>\n    </tr>\n    <tr>\n      <th>1986</th>\n      <td>NaN</td>\n      <td>J48. Farahani, 2015</td>\n      <td>NaN</td>\n      <td>W4-3</td>\n      <td>360.0</td>\n      <td>0.0</td>\n      <td>0.0</td>\n      <td>0.0</td>\n      <td>0.0</td>\n      <td>0.0</td>\n      <td>...</td>\n      <td>NaN</td>\n      <td>NaN</td>\n      <td>NaN</td>\n      <td>NaN</td>\n      <td>NaN</td>\n      <td>NaN</td>\n      <td>0.500</td>\n      <td>NaN</td>\n      <td>150*150*150</td>\n      <td>NaN</td>\n    </tr>\n    <tr>\n      <th>1987</th>\n      <td>NaN</td>\n      <td>J48. Farahani, 2015</td>\n      <td>NaN</td>\n      <td>W4-4</td>\n      <td>350.0</td>\n      <td>0.0</td>\n      <td>0.0</td>\n      <td>0.0</td>\n      <td>0.0</td>\n      <td>0.0</td>\n      <td>...</td>\n      <td>NaN</td>\n      <td>NaN</td>\n      <td>NaN</td>\n      <td>NaN</td>\n      <td>NaN</td>\n      <td>NaN</td>\n      <td>0.825</td>\n      <td>NaN</td>\n      <td>150*150*150</td>\n      <td>NaN</td>\n    </tr>\n  </tbody>\n</table>\n<p>1988 rows × 34 columns</p>\n</div>"
     },
     "execution_count": 2,
     "metadata": {},
     "output_type": "execute_result"
    }
   ],
   "source": [
    "All = pd.ExcelFile('allData.xls')\n",
    "data = pd.read_excel(All, 'Data')\n",
    "data"
   ],
   "metadata": {
    "collapsed": false,
    "ExecuteTime": {
     "end_time": "2024-01-10T07:12:38.397449200Z",
     "start_time": "2024-01-10T07:12:38.233660100Z"
    }
   },
   "id": "eecb133a779f9004"
  },
  {
   "cell_type": "code",
   "execution_count": 3,
   "outputs": [
    {
     "data": {
      "text/plain": "                                                     count         mean  \\\nNumber                                                 0.0          NaN   \nASTM type 1 ordinary Portland Cement content (k...  1988.0    39.317656   \nCEM I 42.5N ordinary Portland Cement content (k...  1988.0    95.567020   \nCEM I 52.5N ordinary Portland Cement content (k...  1988.0   147.092807   \nClass C Fly ash content (kg/m^3)                    1988.0     6.120221   \nClass F Fly ash content (kg/m^3)                    1988.0    35.497918   \nSlag content (kg/m^3)                               1988.0    34.629970   \nSilica fume content (kg/m^3)                        1988.0     7.592819   \nWater content (kg/m^3)                              1988.0   172.241112   \nSuperplasticizer content (kg/m^3)                   1988.0     2.335606   \nMaximum coarse aggregate size (mm)                  1988.0    18.122485   \nCoarse aggregate content (kg/m^3)                   1983.0  1005.263947   \nFine aggregate content (kg/m^3)                     1983.0   814.084454   \nCuring temperature (Celsius degree)                 1980.0    21.535354   \nCuring humidity (%)                                 1980.0    95.006566   \nCuring day                                          1978.0    25.849343   \nAnnual average CO2 concentration of exposed env...  1107.0     0.038797   \nAnnual average humidity of exposed environment (%)  1225.0    66.540408   \nAnnual average temperature of exposed environme...  1428.0    20.539706   \nAnnual wetting times/rainy days of exposed envi...  1107.0    89.622403   \nAnnual average precipitation of exposed environ...  1107.0   860.356820   \nSlump (mm)                                           820.0   105.309756   \nAverage 28-day compressive strength (Mpa)           1942.0    51.545375   \nAverage 28-day split strength (Mpa)                   62.0     3.679032   \nChloride diffusion coefficient (10-12 m2/s)           66.0     5.239591   \nAverage carbonation coefficient (mm/year^0.5)       1095.0     3.718963   \n\n                                                           std     min  \\\nNumber                                                     NaN     NaN   \nASTM type 1 ordinary Portland Cement content (k...  106.825528    0.00   \nCEM I 42.5N ordinary Portland Cement content (k...  146.591457    0.00   \nCEM I 52.5N ordinary Portland Cement content (k...  152.375401    0.00   \nClass C Fly ash content (kg/m^3)                     28.791545    0.00   \nClass F Fly ash content (kg/m^3)                     65.744896    0.00   \nSlag content (kg/m^3)                                73.837709    0.00   \nSilica fume content (kg/m^3)                         21.082168    0.00   \nWater content (kg/m^3)                               28.371606  105.00   \nSuperplasticizer content (kg/m^3)                     4.726357    0.00   \nMaximum coarse aggregate size (mm)                    3.828674    9.50   \nCoarse aggregate content (kg/m^3)                   163.277663  276.00   \nFine aggregate content (kg/m^3)                     142.479664  279.00   \nCuring temperature (Celsius degree)                   2.892248   13.00   \nCuring humidity (%)                                  12.285983   25.00   \nCuring day                                           23.381716    1.00   \nAnnual average CO2 concentration of exposed env...    0.008814    0.01   \nAnnual average humidity of exposed environment (%)   10.979263   30.00   \nAnnual average temperature of exposed environme...    6.432118    6.40   \nAnnual wetting times/rainy days of exposed envi...   55.766192    0.00   \nAnnual average precipitation of exposed environ...  584.884613    0.00   \nSlump (mm)                                           57.098701    0.00   \nAverage 28-day compressive strength (Mpa)            20.912439    5.00   \nAverage 28-day split strength (Mpa)                   1.113884    0.96   \nChloride diffusion coefficient (10-12 m2/s)           6.094627    0.50   \nAverage carbonation coefficient (mm/year^0.5)         2.691309    0.00   \n\n                                                           25%          50%  \\\nNumber                                                     NaN          NaN   \nASTM type 1 ordinary Portland Cement content (k...    0.000000     0.000000   \nCEM I 42.5N ordinary Portland Cement content (k...    0.000000     0.000000   \nCEM I 52.5N ordinary Portland Cement content (k...    0.000000   155.000000   \nClass C Fly ash content (kg/m^3)                      0.000000     0.000000   \nClass F Fly ash content (kg/m^3)                      0.000000     0.000000   \nSlag content (kg/m^3)                                 0.000000     0.000000   \nSilica fume content (kg/m^3)                          0.000000     0.000000   \nWater content (kg/m^3)                              153.000000   170.000000   \nSuperplasticizer content (kg/m^3)                     0.000000     0.000000   \nMaximum coarse aggregate size (mm)                   16.000000    20.000000   \nCoarse aggregate content (kg/m^3)                   879.000000  1015.000000   \nFine aggregate content (kg/m^3)                     696.000000   800.000000   \nCuring temperature (Celsius degree)                  20.000000    20.000000   \nCuring humidity (%)                                  95.000000   100.000000   \nCuring day                                           14.000000    28.000000   \nAnnual average CO2 concentration of exposed env...    0.035000     0.040000   \nAnnual average humidity of exposed environment (%)   65.000000    70.000000   \nAnnual average temperature of exposed environme...   17.000000    20.000000   \nAnnual wetting times/rainy days of exposed envi...   44.000000    93.000000   \nAnnual average precipitation of exposed environ...  214.000000  1000.000000   \nSlump (mm)                                           70.000000   100.000000   \nAverage 28-day compressive strength (Mpa)            37.500000    49.428571   \nAverage 28-day split strength (Mpa)                   2.910000     3.570000   \nChloride diffusion coefficient (10-12 m2/s)           2.093750     3.143500   \nAverage carbonation coefficient (mm/year^0.5)         1.719319     3.193376   \n\n                                                            75%        max  \nNumber                                                      NaN        NaN  \nASTM type 1 ordinary Portland Cement content (k...     0.000000   702.0000  \nCEM I 42.5N ordinary Portland Cement content (k...   210.000000   547.0000  \nCEM I 52.5N ordinary Portland Cement content (k...   280.000000   660.0000  \nClass C Fly ash content (kg/m^3)                       0.000000   225.0000  \nClass F Fly ash content (kg/m^3)                      56.500000   544.0000  \nSlag content (kg/m^3)                                  0.000000   440.0000  \nSilica fume content (kg/m^3)                           0.000000   150.0000  \nWater content (kg/m^3)                               186.000000   295.0000  \nSuperplasticizer content (kg/m^3)                      2.702500    35.1000  \nMaximum coarse aggregate size (mm)                    20.000000    30.0000  \nCoarse aggregate content (kg/m^3)                   1115.000000  1388.6000  \nFine aggregate content (kg/m^3)                      928.500000  1293.0000  \nCuring temperature (Celsius degree)                   22.000000    38.0000  \nCuring humidity (%)                                  100.000000   100.0000  \nCuring day                                            28.000000   191.0000  \nAnnual average CO2 concentration of exposed env...     0.041000     0.0625  \nAnnual average humidity of exposed environment (%)    73.200000    83.0000  \nAnnual average temperature of exposed environme...    25.000000    36.0000  \nAnnual wetting times/rainy days of exposed envi...   142.000000   192.0000  \nAnnual average precipitation of exposed environ...  1400.000000  2305.0000  \nSlump (mm)                                           130.000000   260.0000  \nAverage 28-day compressive strength (Mpa)             62.800000   443.0000  \nAverage 28-day split strength (Mpa)                    4.390000     6.1800  \nChloride diffusion coefficient (10-12 m2/s)            5.920000    37.0300  \nAverage carbonation coefficient (mm/year^0.5)          5.097573    18.4770  ",
      "text/html": "<div>\n<style scoped>\n    .dataframe tbody tr th:only-of-type {\n        vertical-align: middle;\n    }\n\n    .dataframe tbody tr th {\n        vertical-align: top;\n    }\n\n    .dataframe thead th {\n        text-align: right;\n    }\n</style>\n<table border=\"1\" class=\"dataframe\">\n  <thead>\n    <tr style=\"text-align: right;\">\n      <th></th>\n      <th>count</th>\n      <th>mean</th>\n      <th>std</th>\n      <th>min</th>\n      <th>25%</th>\n      <th>50%</th>\n      <th>75%</th>\n      <th>max</th>\n    </tr>\n  </thead>\n  <tbody>\n    <tr>\n      <th>Number</th>\n      <td>0.0</td>\n      <td>NaN</td>\n      <td>NaN</td>\n      <td>NaN</td>\n      <td>NaN</td>\n      <td>NaN</td>\n      <td>NaN</td>\n      <td>NaN</td>\n    </tr>\n    <tr>\n      <th>ASTM type 1 ordinary Portland Cement content (kg/m^3)</th>\n      <td>1988.0</td>\n      <td>39.317656</td>\n      <td>106.825528</td>\n      <td>0.00</td>\n      <td>0.000000</td>\n      <td>0.000000</td>\n      <td>0.000000</td>\n      <td>702.0000</td>\n    </tr>\n    <tr>\n      <th>CEM I 42.5N ordinary Portland Cement content (kg/m^3)</th>\n      <td>1988.0</td>\n      <td>95.567020</td>\n      <td>146.591457</td>\n      <td>0.00</td>\n      <td>0.000000</td>\n      <td>0.000000</td>\n      <td>210.000000</td>\n      <td>547.0000</td>\n    </tr>\n    <tr>\n      <th>CEM I 52.5N ordinary Portland Cement content (kg/m^3)</th>\n      <td>1988.0</td>\n      <td>147.092807</td>\n      <td>152.375401</td>\n      <td>0.00</td>\n      <td>0.000000</td>\n      <td>155.000000</td>\n      <td>280.000000</td>\n      <td>660.0000</td>\n    </tr>\n    <tr>\n      <th>Class C Fly ash content (kg/m^3)</th>\n      <td>1988.0</td>\n      <td>6.120221</td>\n      <td>28.791545</td>\n      <td>0.00</td>\n      <td>0.000000</td>\n      <td>0.000000</td>\n      <td>0.000000</td>\n      <td>225.0000</td>\n    </tr>\n    <tr>\n      <th>Class F Fly ash content (kg/m^3)</th>\n      <td>1988.0</td>\n      <td>35.497918</td>\n      <td>65.744896</td>\n      <td>0.00</td>\n      <td>0.000000</td>\n      <td>0.000000</td>\n      <td>56.500000</td>\n      <td>544.0000</td>\n    </tr>\n    <tr>\n      <th>Slag content (kg/m^3)</th>\n      <td>1988.0</td>\n      <td>34.629970</td>\n      <td>73.837709</td>\n      <td>0.00</td>\n      <td>0.000000</td>\n      <td>0.000000</td>\n      <td>0.000000</td>\n      <td>440.0000</td>\n    </tr>\n    <tr>\n      <th>Silica fume content (kg/m^3)</th>\n      <td>1988.0</td>\n      <td>7.592819</td>\n      <td>21.082168</td>\n      <td>0.00</td>\n      <td>0.000000</td>\n      <td>0.000000</td>\n      <td>0.000000</td>\n      <td>150.0000</td>\n    </tr>\n    <tr>\n      <th>Water content (kg/m^3)</th>\n      <td>1988.0</td>\n      <td>172.241112</td>\n      <td>28.371606</td>\n      <td>105.00</td>\n      <td>153.000000</td>\n      <td>170.000000</td>\n      <td>186.000000</td>\n      <td>295.0000</td>\n    </tr>\n    <tr>\n      <th>Superplasticizer content (kg/m^3)</th>\n      <td>1988.0</td>\n      <td>2.335606</td>\n      <td>4.726357</td>\n      <td>0.00</td>\n      <td>0.000000</td>\n      <td>0.000000</td>\n      <td>2.702500</td>\n      <td>35.1000</td>\n    </tr>\n    <tr>\n      <th>Maximum coarse aggregate size (mm)</th>\n      <td>1988.0</td>\n      <td>18.122485</td>\n      <td>3.828674</td>\n      <td>9.50</td>\n      <td>16.000000</td>\n      <td>20.000000</td>\n      <td>20.000000</td>\n      <td>30.0000</td>\n    </tr>\n    <tr>\n      <th>Coarse aggregate content (kg/m^3)</th>\n      <td>1983.0</td>\n      <td>1005.263947</td>\n      <td>163.277663</td>\n      <td>276.00</td>\n      <td>879.000000</td>\n      <td>1015.000000</td>\n      <td>1115.000000</td>\n      <td>1388.6000</td>\n    </tr>\n    <tr>\n      <th>Fine aggregate content (kg/m^3)</th>\n      <td>1983.0</td>\n      <td>814.084454</td>\n      <td>142.479664</td>\n      <td>279.00</td>\n      <td>696.000000</td>\n      <td>800.000000</td>\n      <td>928.500000</td>\n      <td>1293.0000</td>\n    </tr>\n    <tr>\n      <th>Curing temperature (Celsius degree)</th>\n      <td>1980.0</td>\n      <td>21.535354</td>\n      <td>2.892248</td>\n      <td>13.00</td>\n      <td>20.000000</td>\n      <td>20.000000</td>\n      <td>22.000000</td>\n      <td>38.0000</td>\n    </tr>\n    <tr>\n      <th>Curing humidity (%)</th>\n      <td>1980.0</td>\n      <td>95.006566</td>\n      <td>12.285983</td>\n      <td>25.00</td>\n      <td>95.000000</td>\n      <td>100.000000</td>\n      <td>100.000000</td>\n      <td>100.0000</td>\n    </tr>\n    <tr>\n      <th>Curing day</th>\n      <td>1978.0</td>\n      <td>25.849343</td>\n      <td>23.381716</td>\n      <td>1.00</td>\n      <td>14.000000</td>\n      <td>28.000000</td>\n      <td>28.000000</td>\n      <td>191.0000</td>\n    </tr>\n    <tr>\n      <th>Annual average CO2 concentration of exposed environment (%)</th>\n      <td>1107.0</td>\n      <td>0.038797</td>\n      <td>0.008814</td>\n      <td>0.01</td>\n      <td>0.035000</td>\n      <td>0.040000</td>\n      <td>0.041000</td>\n      <td>0.0625</td>\n    </tr>\n    <tr>\n      <th>Annual average humidity of exposed environment (%)</th>\n      <td>1225.0</td>\n      <td>66.540408</td>\n      <td>10.979263</td>\n      <td>30.00</td>\n      <td>65.000000</td>\n      <td>70.000000</td>\n      <td>73.200000</td>\n      <td>83.0000</td>\n    </tr>\n    <tr>\n      <th>Annual average temperature of exposed environment (Celsius degree)</th>\n      <td>1428.0</td>\n      <td>20.539706</td>\n      <td>6.432118</td>\n      <td>6.40</td>\n      <td>17.000000</td>\n      <td>20.000000</td>\n      <td>25.000000</td>\n      <td>36.0000</td>\n    </tr>\n    <tr>\n      <th>Annual wetting times/rainy days of exposed environment (d)</th>\n      <td>1107.0</td>\n      <td>89.622403</td>\n      <td>55.766192</td>\n      <td>0.00</td>\n      <td>44.000000</td>\n      <td>93.000000</td>\n      <td>142.000000</td>\n      <td>192.0000</td>\n    </tr>\n    <tr>\n      <th>Annual average precipitation of exposed environment (mm)</th>\n      <td>1107.0</td>\n      <td>860.356820</td>\n      <td>584.884613</td>\n      <td>0.00</td>\n      <td>214.000000</td>\n      <td>1000.000000</td>\n      <td>1400.000000</td>\n      <td>2305.0000</td>\n    </tr>\n    <tr>\n      <th>Slump (mm)</th>\n      <td>820.0</td>\n      <td>105.309756</td>\n      <td>57.098701</td>\n      <td>0.00</td>\n      <td>70.000000</td>\n      <td>100.000000</td>\n      <td>130.000000</td>\n      <td>260.0000</td>\n    </tr>\n    <tr>\n      <th>Average 28-day compressive strength (Mpa)</th>\n      <td>1942.0</td>\n      <td>51.545375</td>\n      <td>20.912439</td>\n      <td>5.00</td>\n      <td>37.500000</td>\n      <td>49.428571</td>\n      <td>62.800000</td>\n      <td>443.0000</td>\n    </tr>\n    <tr>\n      <th>Average 28-day split strength (Mpa)</th>\n      <td>62.0</td>\n      <td>3.679032</td>\n      <td>1.113884</td>\n      <td>0.96</td>\n      <td>2.910000</td>\n      <td>3.570000</td>\n      <td>4.390000</td>\n      <td>6.1800</td>\n    </tr>\n    <tr>\n      <th>Chloride diffusion coefficient (10-12 m2/s)</th>\n      <td>66.0</td>\n      <td>5.239591</td>\n      <td>6.094627</td>\n      <td>0.50</td>\n      <td>2.093750</td>\n      <td>3.143500</td>\n      <td>5.920000</td>\n      <td>37.0300</td>\n    </tr>\n    <tr>\n      <th>Average carbonation coefficient (mm/year^0.5)</th>\n      <td>1095.0</td>\n      <td>3.718963</td>\n      <td>2.691309</td>\n      <td>0.00</td>\n      <td>1.719319</td>\n      <td>3.193376</td>\n      <td>5.097573</td>\n      <td>18.4770</td>\n    </tr>\n  </tbody>\n</table>\n</div>"
     },
     "execution_count": 3,
     "metadata": {},
     "output_type": "execute_result"
    }
   ],
   "source": [
    "data.describe().T"
   ],
   "metadata": {
    "collapsed": false,
    "ExecuteTime": {
     "end_time": "2024-01-10T07:12:38.540396700Z",
     "start_time": "2024-01-10T07:12:38.394448500Z"
    }
   },
   "id": "807faf5bb3767fe9"
  },
  {
   "cell_type": "code",
   "execution_count": 4,
   "outputs": [
    {
     "name": "stdout",
     "output_type": "stream",
     "text": [
      "<class 'pandas.core.frame.DataFrame'>\n",
      "RangeIndex: 1988 entries, 0 to 1987\n",
      "Data columns (total 22 columns):\n",
      " #   Column                                                 Non-Null Count  Dtype  \n",
      "---  ------                                                 --------------  -----  \n",
      " 0   ASTM type 1 ordinary Portland Cement content (kg/m^3)  1988 non-null   float64\n",
      " 1   CEM I 42.5N ordinary Portland Cement content (kg/m^3)  1988 non-null   float64\n",
      " 2   CEM I 52.5N ordinary Portland Cement content (kg/m^3)  1988 non-null   float64\n",
      " 3   Class C Fly ash content (kg/m^3)                       1988 non-null   float64\n",
      " 4   Class F Fly ash content (kg/m^3)                       1988 non-null   float64\n",
      " 5   Slag content (kg/m^3)                                  1988 non-null   float64\n",
      " 6   Silica fume content (kg/m^3)                           1988 non-null   float64\n",
      " 7   Water content (kg/m^3)                                 1988 non-null   float64\n",
      " 8   Superplasticizer content (kg/m^3)                      1988 non-null   float64\n",
      " 9   Maximum coarse aggregate size (mm)                     1988 non-null   float64\n",
      " 10  Coarse aggregate content (kg/m^3)                      1983 non-null   float64\n",
      " 11  Fine aggregate content (kg/m^3)                        1983 non-null   float64\n",
      " 12  Curing method                                          1980 non-null   object \n",
      " 13  Curing temperature (Celsius degree)                    1980 non-null   float64\n",
      " 14  Curing humidity (%)                                    1980 non-null   float64\n",
      " 15  Curing day                                             1978 non-null   float64\n",
      " 16  Slump (mm)                                             820 non-null    float64\n",
      " 17  Average 28-day compressive strength (Mpa)              1942 non-null   float64\n",
      " 18  Average 28-day split strength (Mpa)                    62 non-null     float64\n",
      " 19  Chloride diffusion coefficient (10-12 m2/s)            66 non-null     float64\n",
      " 20  Average carbonation coefficient (mm/year^0.5)          1095 non-null   float64\n",
      " 21  Specimen size                                          873 non-null    object \n",
      "dtypes: float64(20), object(2)\n",
      "memory usage: 341.8+ KB\n"
     ]
    }
   ],
   "source": [
    "data.isnull().sum()\n",
    "Excess_col_indices = list(range(0, 4)) + list(range(20, 27)) + [33]\n",
    "semi_df = data.iloc[:, [col for col in range(data.shape[1]) if col not in Excess_col_indices]]\n",
    "semi_df.info()"
   ],
   "metadata": {
    "collapsed": false,
    "ExecuteTime": {
     "end_time": "2024-01-10T07:12:38.541394200Z",
     "start_time": "2024-01-10T07:12:38.451211400Z"
    }
   },
   "id": "4eab7ad8c8484954"
  },
  {
   "cell_type": "markdown",
   "source": [
    "# Feature Engineering"
   ],
   "metadata": {
    "collapsed": false
   },
   "id": "12c6cbd886bca97a"
  },
  {
   "cell_type": "markdown",
   "source": [
    "## Quick fix"
   ],
   "metadata": {
    "collapsed": false
   },
   "id": "fbe5f0f7c2bb950a"
  },
  {
   "cell_type": "code",
   "execution_count": 5,
   "outputs": [],
   "source": [
    "# function to plot a boxplot and a histogram along the same scale.\n",
    "\n",
    "def hist_boxplot(data, feature, figsize = (12,7),kde = True, bins=None):\n",
    "    f2, (ax_box2, ax_hist2) = plt.subplots(\n",
    "        nrows = 2,\n",
    "        sharex= True,\n",
    "        gridspec_kw ={'height_ratios': (0.25,0.75)},\n",
    "        figsize = figsize)\n",
    "    sns.boxplot(data=data, x =feature, ax = ax_box2, showmeans = True, color = 'violet')\n",
    "\n",
    "    if bins:\n",
    "        sns.histplot(data=data, x =feature, kde = kde, ax = ax_hist2, bins=bins, palette = 'winter')\n",
    "\n",
    "    else:\n",
    "        sns.histplot(data=data, x =feature, kde = kde, ax = ax_hist2, palette = 'winter')\n",
    "    ax_hist2.axvline(data[feature].mean(), color = 'green', linestyle = \"--\")\n",
    "    ax_hist2.axvline(data[feature].median(), color = 'black', linestyle = \"-\")"
   ],
   "metadata": {
    "collapsed": false,
    "ExecuteTime": {
     "end_time": "2024-01-10T07:12:38.541394200Z",
     "start_time": "2024-01-10T07:12:38.459962400Z"
    }
   },
   "id": "7a1d6f4720932c55"
  },
  {
   "cell_type": "code",
   "execution_count": 6,
   "outputs": [
    {
     "data": {
      "text/plain": "<Figure size 1200x700 with 2 Axes>",
      "image/png": "[encoded data removed]"
     },
     "metadata": {},
     "output_type": "display_data"
    }
   ],
   "source": [
    "# Quick fix \n",
    "\n",
    "filtered_row = semi_df[semi_df['Average 28-day compressive strength (Mpa)'] > 400]\n",
    "\n",
    "if len(filtered_row) == 1:\n",
    "    value_to_divide = filtered_row['Average 28-day compressive strength (Mpa)'].values[0]\n",
    "    updated_value = value_to_divide / 10\n",
    "\n",
    "    # Update the value in the DataFrame\n",
    "    semi_df.loc[semi_df['Average 28-day compressive strength (Mpa)'] > 400, 'Average 28-day compressive strength (Mpa)'] = updated_value\n",
    "else:\n",
    "    print(\"No rows or multiple rows matching the condition.\")\n",
    "\n",
    "hist_boxplot(semi_df, 'Average 28-day compressive strength (Mpa)')"
   ],
   "metadata": {
    "collapsed": false,
    "ExecuteTime": {
     "end_time": "2024-01-10T07:12:38.898442Z",
     "start_time": "2024-01-10T07:12:38.465971400Z"
    }
   },
   "id": "6cff61271debee9"
  },
  {
   "cell_type": "markdown",
   "source": [
    "## Curing method"
   ],
   "metadata": {
    "collapsed": false
   },
   "id": "96b5ba8a2f660746"
  },
  {
   "cell_type": "code",
   "execution_count": 7,
   "outputs": [],
   "source": [
    "num_df = semi_df.select_dtypes(include=np.number)\n",
    "obj_df = semi_df.select_dtypes(include=['object'])"
   ],
   "metadata": {
    "collapsed": false,
    "ExecuteTime": {
     "end_time": "2024-01-10T07:12:38.898442Z",
     "start_time": "2024-01-10T07:12:38.841938800Z"
    }
   },
   "id": "20587edac9b1cf39"
  },
  {
   "cell_type": "code",
   "execution_count": 8,
   "outputs": [
    {
     "name": "stdout",
     "output_type": "stream",
     "text": [
      "Column 'Curing method':\n",
      "Submerged    837\n",
      "Moist        503\n",
      "Sealed       456\n",
      "Air          184\n",
      "Name: Curing method, dtype: int64\n",
      "\n",
      "Column 'Specimen size':\n",
      "150*150*150    461\n",
      "200h*100r      215\n",
      "100*100*100    158\n",
      "100*100*300     22\n",
      "300h*150r       12\n",
      "100h*100r        5\n",
      "Name: Specimen size, dtype: int64\n"
     ]
    }
   ],
   "source": [
    "for col in obj_df.columns:\n",
    "    value_counts = obj_df[col].value_counts()\n",
    "    print(f\"Column '{col}':\")\n",
    "    print(value_counts)\n",
    "    print()"
   ],
   "metadata": {
    "collapsed": false,
    "ExecuteTime": {
     "end_time": "2024-01-10T07:12:38.899442800Z",
     "start_time": "2024-01-10T07:12:38.848805600Z"
    }
   },
   "id": "ae596f738b80d1da"
  },
  {
   "cell_type": "code",
   "execution_count": 9,
   "outputs": [
    {
     "data": {
      "text/plain": "8"
     },
     "execution_count": 9,
     "metadata": {},
     "output_type": "execute_result"
    }
   ],
   "source": [
    "semi_df['Curing method'].isnull().sum()"
   ],
   "metadata": {
    "collapsed": false,
    "ExecuteTime": {
     "end_time": "2024-01-10T07:12:38.900441Z",
     "start_time": "2024-01-10T07:12:38.854766700Z"
    }
   },
   "id": "e1008b65c39843b6"
  },
  {
   "cell_type": "code",
   "execution_count": 10,
   "outputs": [
    {
     "data": {
      "text/plain": "      ASTM type 1 ordinary Portland Cement content (kg/m^3)  \\\n1946                                                0.0       \n1947                                                0.0       \n1948                                                0.0       \n1949                                                0.0       \n1950                                                0.0       \n1951                                                0.0       \n1952                                                0.0       \n1953                                                0.0       \n\n      CEM I 42.5N ordinary Portland Cement content (kg/m^3)  \\\n1946                                              450.0       \n1947                                              405.0       \n1948                                              337.5       \n1949                                              292.5       \n1950                                              225.0       \n1951                                              180.0       \n1952                                              135.0       \n1953                                               90.0       \n\n      CEM I 52.5N ordinary Portland Cement content (kg/m^3)  \\\n1946                                                0.0       \n1947                                                0.0       \n1948                                                0.0       \n1949                                                0.0       \n1950                                                0.0       \n1951                                                0.0       \n1952                                                0.0       \n1953                                                0.0       \n\n      Class C Fly ash content (kg/m^3)  Class F Fly ash content (kg/m^3)  \\\n1946                               0.0                               0.0   \n1947                               0.0                               0.0   \n1948                               0.0                               0.0   \n1949                               0.0                               0.0   \n1950                               0.0                               0.0   \n1951                               0.0                               0.0   \n1952                               0.0                               0.0   \n1953                               0.0                               0.0   \n\n      Slag content (kg/m^3)  Silica fume content (kg/m^3)  \\\n1946                    0.0                           0.0   \n1947                    0.0                          45.0   \n1948                  112.5                           0.0   \n1949                  112.5                          45.0   \n1950                  225.0                           0.0   \n1951                  225.0                          45.0   \n1952                  315.0                           0.0   \n1953                  315.0                          45.0   \n\n      Water content (kg/m^3)  Superplasticizer content (kg/m^3)  \\\n1946                   171.0                              5.130   \n1947                   171.0                              5.850   \n1948                   171.0                              5.850   \n1949                   171.0                              5.895   \n1950                   171.0                              5.400   \n1951                   171.0                              5.850   \n1952                   171.0                              4.230   \n1953                   171.0                              5.850   \n\n      Maximum coarse aggregate size (mm)  ...  Curing method  \\\n1946                                 9.5  ...            NaN   \n1947                                 9.5  ...            NaN   \n1948                                 9.5  ...            NaN   \n1949                                 9.5  ...            NaN   \n1950                                 9.5  ...            NaN   \n1951                                 9.5  ...            NaN   \n1952                                 9.5  ...            NaN   \n1953                                 9.5  ...            NaN   \n\n      Curing temperature (Celsius degree) Curing humidity (%)  Curing day  \\\n1946                                  NaN                 NaN         NaN   \n1947                                  NaN                 NaN         NaN   \n1948                                  NaN                 NaN         NaN   \n1949                                  NaN                 NaN         NaN   \n1950                                  NaN                 NaN         NaN   \n1951                                  NaN                 NaN         NaN   \n1952                                  NaN                 NaN         NaN   \n1953                                  NaN                 NaN         NaN   \n\n      Slump (mm)  Average 28-day compressive strength (Mpa)  \\\n1946        65.0                                        NaN   \n1947        85.0                                        NaN   \n1948       200.0                                        NaN   \n1949        90.0                                        NaN   \n1950        35.0                                        NaN   \n1951       130.0                                        NaN   \n1952       155.0                                        NaN   \n1953       110.0                                        NaN   \n\n      Average 28-day split strength (Mpa)  \\\n1946                                  NaN   \n1947                                  NaN   \n1948                                  NaN   \n1949                                  NaN   \n1950                                  NaN   \n1951                                  NaN   \n1952                                  NaN   \n1953                                  NaN   \n\n      Chloride diffusion coefficient (10-12 m2/s)  \\\n1946                                          NaN   \n1947                                          NaN   \n1948                                          NaN   \n1949                                          NaN   \n1950                                          NaN   \n1951                                          NaN   \n1952                                          NaN   \n1953                                          NaN   \n\n      Average carbonation coefficient (mm/year^0.5)  Specimen size  \n1946                                            NaN            NaN  \n1947                                            NaN            NaN  \n1948                                            NaN            NaN  \n1949                                            NaN            NaN  \n1950                                            NaN            NaN  \n1951                                            NaN            NaN  \n1952                                            NaN            NaN  \n1953                                            NaN            NaN  \n\n[8 rows x 22 columns]",
      "text/html": "<div>\n<style scoped>\n    .dataframe tbody tr th:only-of-type {\n        vertical-align: middle;\n    }\n\n    .dataframe tbody tr th {\n        vertical-align: top;\n    }\n\n    .dataframe thead th {\n        text-align: right;\n    }\n</style>\n<table border=\"1\" class=\"dataframe\">\n  <thead>\n    <tr style=\"text-align: right;\">\n      <th></th>\n      <th>ASTM type 1 ordinary Portland Cement content (kg/m^3)</th>\n      <th>CEM I 42.5N ordinary Portland Cement content (kg/m^3)</th>\n      <th>CEM I 52.5N ordinary Portland Cement content (kg/m^3)</th>\n      <th>Class C Fly ash content (kg/m^3)</th>\n      <th>Class F Fly ash content (kg/m^3)</th>\n      <th>Slag content (kg/m^3)</th>\n      <th>Silica fume content (kg/m^3)</th>\n      <th>Water content (kg/m^3)</th>\n      <th>Superplasticizer content (kg/m^3)</th>\n      <th>Maximum coarse aggregate size (mm)</th>\n      <th>...</th>\n      <th>Curing method</th>\n      <th>Curing temperature (Celsius degree)</th>\n      <th>Curing humidity (%)</th>\n      <th>Curing day</th>\n      <th>Slump (mm)</th>\n      <th>Average 28-day compressive strength (Mpa)</th>\n      <th>Average 28-day split strength (Mpa)</th>\n      <th>Chloride diffusion coefficient (10-12 m2/s)</th>\n      <th>Average carbonation coefficient (mm/year^0.5)</th>\n      <th>Specimen size</th>\n    </tr>\n  </thead>\n  <tbody>\n    <tr>\n      <th>1946</th>\n      <td>0.0</td>\n      <td>450.0</td>\n      <td>0.0</td>\n      <td>0.0</td>\n      <td>0.0</td>\n      <td>0.0</td>\n      <td>0.0</td>\n      <td>171.0</td>\n      <td>5.130</td>\n      <td>9.5</td>\n      <td>...</td>\n      <td>NaN</td>\n      <td>NaN</td>\n      <td>NaN</td>\n      <td>NaN</td>\n      <td>65.0</td>\n      <td>NaN</td>\n      <td>NaN</td>\n      <td>NaN</td>\n      <td>NaN</td>\n      <td>NaN</td>\n    </tr>\n    <tr>\n      <th>1947</th>\n      <td>0.0</td>\n      <td>405.0</td>\n      <td>0.0</td>\n      <td>0.0</td>\n      <td>0.0</td>\n      <td>0.0</td>\n      <td>45.0</td>\n      <td>171.0</td>\n      <td>5.850</td>\n      <td>9.5</td>\n      <td>...</td>\n      <td>NaN</td>\n      <td>NaN</td>\n      <td>NaN</td>\n      <td>NaN</td>\n      <td>85.0</td>\n      <td>NaN</td>\n      <td>NaN</td>\n      <td>NaN</td>\n      <td>NaN</td>\n      <td>NaN</td>\n    </tr>\n    <tr>\n      <th>1948</th>\n      <td>0.0</td>\n      <td>337.5</td>\n      <td>0.0</td>\n      <td>0.0</td>\n      <td>0.0</td>\n      <td>112.5</td>\n      <td>0.0</td>\n      <td>171.0</td>\n      <td>5.850</td>\n      <td>9.5</td>\n      <td>...</td>\n      <td>NaN</td>\n      <td>NaN</td>\n      <td>NaN</td>\n      <td>NaN</td>\n      <td>200.0</td>\n      <td>NaN</td>\n      <td>NaN</td>\n      <td>NaN</td>\n      <td>NaN</td>\n      <td>NaN</td>\n    </tr>\n    <tr>\n      <th>1949</th>\n      <td>0.0</td>\n      <td>292.5</td>\n      <td>0.0</td>\n      <td>0.0</td>\n      <td>0.0</td>\n      <td>112.5</td>\n      <td>45.0</td>\n      <td>171.0</td>\n      <td>5.895</td>\n      <td>9.5</td>\n      <td>...</td>\n      <td>NaN</td>\n      <td>NaN</td>\n      <td>NaN</td>\n      <td>NaN</td>\n      <td>90.0</td>\n      <td>NaN</td>\n      <td>NaN</td>\n      <td>NaN</td>\n      <td>NaN</td>\n      <td>NaN</td>\n    </tr>\n    <tr>\n      <th>1950</th>\n      <td>0.0</td>\n      <td>225.0</td>\n      <td>0.0</td>\n      <td>0.0</td>\n      <td>0.0</td>\n      <td>225.0</td>\n      <td>0.0</td>\n      <td>171.0</td>\n      <td>5.400</td>\n      <td>9.5</td>\n      <td>...</td>\n      <td>NaN</td>\n      <td>NaN</td>\n      <td>NaN</td>\n      <td>NaN</td>\n      <td>35.0</td>\n      <td>NaN</td>\n      <td>NaN</td>\n      <td>NaN</td>\n      <td>NaN</td>\n      <td>NaN</td>\n    </tr>\n    <tr>\n      <th>1951</th>\n      <td>0.0</td>\n      <td>180.0</td>\n      <td>0.0</td>\n      <td>0.0</td>\n      <td>0.0</td>\n      <td>225.0</td>\n      <td>45.0</td>\n      <td>171.0</td>\n      <td>5.850</td>\n      <td>9.5</td>\n      <td>...</td>\n      <td>NaN</td>\n      <td>NaN</td>\n      <td>NaN</td>\n      <td>NaN</td>\n      <td>130.0</td>\n      <td>NaN</td>\n      <td>NaN</td>\n      <td>NaN</td>\n      <td>NaN</td>\n      <td>NaN</td>\n    </tr>\n    <tr>\n      <th>1952</th>\n      <td>0.0</td>\n      <td>135.0</td>\n      <td>0.0</td>\n      <td>0.0</td>\n      <td>0.0</td>\n      <td>315.0</td>\n      <td>0.0</td>\n      <td>171.0</td>\n      <td>4.230</td>\n      <td>9.5</td>\n      <td>...</td>\n      <td>NaN</td>\n      <td>NaN</td>\n      <td>NaN</td>\n      <td>NaN</td>\n      <td>155.0</td>\n      <td>NaN</td>\n      <td>NaN</td>\n      <td>NaN</td>\n      <td>NaN</td>\n      <td>NaN</td>\n    </tr>\n    <tr>\n      <th>1953</th>\n      <td>0.0</td>\n      <td>90.0</td>\n      <td>0.0</td>\n      <td>0.0</td>\n      <td>0.0</td>\n      <td>315.0</td>\n      <td>45.0</td>\n      <td>171.0</td>\n      <td>5.850</td>\n      <td>9.5</td>\n      <td>...</td>\n      <td>NaN</td>\n      <td>NaN</td>\n      <td>NaN</td>\n      <td>NaN</td>\n      <td>110.0</td>\n      <td>NaN</td>\n      <td>NaN</td>\n      <td>NaN</td>\n      <td>NaN</td>\n      <td>NaN</td>\n    </tr>\n  </tbody>\n</table>\n<p>8 rows × 22 columns</p>\n</div>"
     },
     "execution_count": 10,
     "metadata": {},
     "output_type": "execute_result"
    }
   ],
   "source": [
    "missing = semi_df['Curing method'].isnull()\n",
    "semi_df[missing]"
   ],
   "metadata": {
    "collapsed": false,
    "ExecuteTime": {
     "end_time": "2024-01-10T07:12:38.901440700Z",
     "start_time": "2024-01-10T07:12:38.862450700Z"
    }
   },
   "id": "c1056af63f527b52"
  },
  {
   "cell_type": "code",
   "execution_count": 11,
   "outputs": [
    {
     "data": {
      "text/plain": "0"
     },
     "execution_count": 11,
     "metadata": {},
     "output_type": "execute_result"
    }
   ],
   "source": [
    "semi_df = semi_df.dropna(subset = ['Curing method'])\n",
    "semi_df['Curing method'].isnull().sum()"
   ],
   "metadata": {
    "collapsed": false,
    "ExecuteTime": {
     "end_time": "2024-01-10T07:12:38.901440700Z",
     "start_time": "2024-01-10T07:12:38.884598400Z"
    }
   },
   "id": "239c0f07c80faf99"
  },
  {
   "cell_type": "code",
   "execution_count": 12,
   "outputs": [
    {
     "data": {
      "text/plain": "   ASTM type 1 ordinary Portland Cement content (kg/m^3)  \\\n0                                                0.0       \n1                                                0.0       \n2                                                0.0       \n3                                                0.0       \n4                                                0.0       \n\n   CEM I 42.5N ordinary Portland Cement content (kg/m^3)  \\\n0                                                0.0       \n1                                                0.0       \n2                                                0.0       \n3                                                0.0       \n4                                                0.0       \n\n   CEM I 52.5N ordinary Portland Cement content (kg/m^3)  \\\n0                                              450.0       \n1                                              400.0       \n2                                              350.0       \n3                                              300.0       \n4                                              315.0       \n\n   Class C Fly ash content (kg/m^3)  Class F Fly ash content (kg/m^3)  \\\n0                               0.0                               0.0   \n1                               0.0                               0.0   \n2                               0.0                               0.0   \n3                               0.0                               0.0   \n4                               0.0                             135.0   \n\n   Slag content (kg/m^3)  Silica fume content (kg/m^3)  \\\n0                    0.0                           0.0   \n1                    0.0                           0.0   \n2                    0.0                           0.0   \n3                    0.0                           0.0   \n4                    0.0                           0.0   \n\n   Water content (kg/m^3)  Superplasticizer content (kg/m^3)  \\\n0                   180.0                               4.00   \n1                   200.0                               3.25   \n2                   210.0                               0.00   \n3                   225.0                               0.00   \n4                   180.0                               1.75   \n\n   Maximum coarse aggregate size (mm)  ...  Slump (mm)  \\\n0                                20.0  ...        30.0   \n1                                20.0  ...        60.0   \n2                                20.0  ...       100.0   \n3                                20.0  ...       140.0   \n4                                20.0  ...        40.0   \n\n   Average 28-day compressive strength (Mpa)  \\\n0                                      75.93   \n1                                      64.50   \n2                                      49.23   \n3                                      36.00   \n4                                      62.80   \n\n  Average 28-day split strength (Mpa)  \\\n0                                 NaN   \n1                                 NaN   \n2                                 NaN   \n3                                 NaN   \n4                                 NaN   \n\n   Chloride diffusion coefficient (10-12 m2/s)  \\\n0                                          NaN   \n1                                          NaN   \n2                                          NaN   \n3                                          NaN   \n4                                          NaN   \n\n   Average carbonation coefficient (mm/year^0.5)  Specimen size  Air  Moist  \\\n0                                          3.139            NaN    0      0   \n1                                          4.022            NaN    0      0   \n2                                          6.670            NaN    0      0   \n3                                          7.945            NaN    0      0   \n4                                          6.052            NaN    0      0   \n\n   Sealed  Submerged  \n0       0          1  \n1       0          1  \n2       0          1  \n3       0          1  \n4       0          1  \n\n[5 rows x 26 columns]",
      "text/html": "<div>\n<style scoped>\n    .dataframe tbody tr th:only-of-type {\n        vertical-align: middle;\n    }\n\n    .dataframe tbody tr th {\n        vertical-align: top;\n    }\n\n    .dataframe thead th {\n        text-align: right;\n    }\n</style>\n<table border=\"1\" class=\"dataframe\">\n  <thead>\n    <tr style=\"text-align: right;\">\n      <th></th>\n      <th>ASTM type 1 ordinary Portland Cement content (kg/m^3)</th>\n      <th>CEM I 42.5N ordinary Portland Cement content (kg/m^3)</th>\n      <th>CEM I 52.5N ordinary Portland Cement content (kg/m^3)</th>\n      <th>Class C Fly ash content (kg/m^3)</th>\n      <th>Class F Fly ash content (kg/m^3)</th>\n      <th>Slag content (kg/m^3)</th>\n      <th>Silica fume content (kg/m^3)</th>\n      <th>Water content (kg/m^3)</th>\n      <th>Superplasticizer content (kg/m^3)</th>\n      <th>Maximum coarse aggregate size (mm)</th>\n      <th>...</th>\n      <th>Slump (mm)</th>\n      <th>Average 28-day compressive strength (Mpa)</th>\n      <th>Average 28-day split strength (Mpa)</th>\n      <th>Chloride diffusion coefficient (10-12 m2/s)</th>\n      <th>Average carbonation coefficient (mm/year^0.5)</th>\n      <th>Specimen size</th>\n      <th>Air</th>\n      <th>Moist</th>\n      <th>Sealed</th>\n      <th>Submerged</th>\n    </tr>\n  </thead>\n  <tbody>\n    <tr>\n      <th>0</th>\n      <td>0.0</td>\n      <td>0.0</td>\n      <td>450.0</td>\n      <td>0.0</td>\n      <td>0.0</td>\n      <td>0.0</td>\n      <td>0.0</td>\n      <td>180.0</td>\n      <td>4.00</td>\n      <td>20.0</td>\n      <td>...</td>\n      <td>30.0</td>\n      <td>75.93</td>\n      <td>NaN</td>\n      <td>NaN</td>\n      <td>3.139</td>\n      <td>NaN</td>\n      <td>0</td>\n      <td>0</td>\n      <td>0</td>\n      <td>1</td>\n    </tr>\n    <tr>\n      <th>1</th>\n      <td>0.0</td>\n      <td>0.0</td>\n      <td>400.0</td>\n      <td>0.0</td>\n      <td>0.0</td>\n      <td>0.0</td>\n      <td>0.0</td>\n      <td>200.0</td>\n      <td>3.25</td>\n      <td>20.0</td>\n      <td>...</td>\n      <td>60.0</td>\n      <td>64.50</td>\n      <td>NaN</td>\n      <td>NaN</td>\n      <td>4.022</td>\n      <td>NaN</td>\n      <td>0</td>\n      <td>0</td>\n      <td>0</td>\n      <td>1</td>\n    </tr>\n    <tr>\n      <th>2</th>\n      <td>0.0</td>\n      <td>0.0</td>\n      <td>350.0</td>\n      <td>0.0</td>\n      <td>0.0</td>\n      <td>0.0</td>\n      <td>0.0</td>\n      <td>210.0</td>\n      <td>0.00</td>\n      <td>20.0</td>\n      <td>...</td>\n      <td>100.0</td>\n      <td>49.23</td>\n      <td>NaN</td>\n      <td>NaN</td>\n      <td>6.670</td>\n      <td>NaN</td>\n      <td>0</td>\n      <td>0</td>\n      <td>0</td>\n      <td>1</td>\n    </tr>\n    <tr>\n      <th>3</th>\n      <td>0.0</td>\n      <td>0.0</td>\n      <td>300.0</td>\n      <td>0.0</td>\n      <td>0.0</td>\n      <td>0.0</td>\n      <td>0.0</td>\n      <td>225.0</td>\n      <td>0.00</td>\n      <td>20.0</td>\n      <td>...</td>\n      <td>140.0</td>\n      <td>36.00</td>\n      <td>NaN</td>\n      <td>NaN</td>\n      <td>7.945</td>\n      <td>NaN</td>\n      <td>0</td>\n      <td>0</td>\n      <td>0</td>\n      <td>1</td>\n    </tr>\n    <tr>\n      <th>4</th>\n      <td>0.0</td>\n      <td>0.0</td>\n      <td>315.0</td>\n      <td>0.0</td>\n      <td>135.0</td>\n      <td>0.0</td>\n      <td>0.0</td>\n      <td>180.0</td>\n      <td>1.75</td>\n      <td>20.0</td>\n      <td>...</td>\n      <td>40.0</td>\n      <td>62.80</td>\n      <td>NaN</td>\n      <td>NaN</td>\n      <td>6.052</td>\n      <td>NaN</td>\n      <td>0</td>\n      <td>0</td>\n      <td>0</td>\n      <td>1</td>\n    </tr>\n  </tbody>\n</table>\n<p>5 rows × 26 columns</p>\n</div>"
     },
     "execution_count": 12,
     "metadata": {},
     "output_type": "execute_result"
    }
   ],
   "source": [
    "new_df = semi_df.copy()\n",
    "new_df = pd.concat([semi_df, pd.get_dummies(semi_df['Curing method'])], axis=1)\n",
    "new_df.head()"
   ],
   "metadata": {
    "collapsed": false,
    "ExecuteTime": {
     "end_time": "2024-01-10T07:12:39.138496400Z",
     "start_time": "2024-01-10T07:12:38.896923200Z"
    }
   },
   "id": "2a0ecc0a671b79d4"
  },
  {
   "cell_type": "code",
   "execution_count": 13,
   "outputs": [
    {
     "name": "stdout",
     "output_type": "stream",
     "text": [
      "<class 'pandas.core.frame.DataFrame'>\n",
      "Int64Index: 1980 entries, 0 to 1987\n",
      "Data columns (total 18 columns):\n",
      " #   Column                                                 Non-Null Count  Dtype  \n",
      "---  ------                                                 --------------  -----  \n",
      " 0   ASTM type 1 ordinary Portland Cement content (kg/m^3)  1980 non-null   float64\n",
      " 1   CEM I 42.5N ordinary Portland Cement content (kg/m^3)  1980 non-null   float64\n",
      " 2   CEM I 52.5N ordinary Portland Cement content (kg/m^3)  1980 non-null   float64\n",
      " 3   Class C Fly ash content (kg/m^3)                       1980 non-null   float64\n",
      " 4   Class F Fly ash content (kg/m^3)                       1980 non-null   float64\n",
      " 5   Slag content (kg/m^3)                                  1980 non-null   float64\n",
      " 6   Silica fume content (kg/m^3)                           1980 non-null   float64\n",
      " 7   Water content (kg/m^3)                                 1980 non-null   float64\n",
      " 8   Superplasticizer content (kg/m^3)                      1980 non-null   float64\n",
      " 9   Maximum coarse aggregate size (mm)                     1980 non-null   float64\n",
      " 10  Coarse aggregate content (kg/m^3)                      1975 non-null   float64\n",
      " 11  Fine aggregate content (kg/m^3)                        1975 non-null   float64\n",
      " 12  Curing temperature (Celsius degree)                    1980 non-null   float64\n",
      " 13  Slump (mm)                                             812 non-null    float64\n",
      " 14  Air                                                    1980 non-null   uint8  \n",
      " 15  Moist                                                  1980 non-null   uint8  \n",
      " 16  Sealed                                                 1980 non-null   uint8  \n",
      " 17  Submerged                                              1980 non-null   uint8  \n",
      "dtypes: float64(14), uint8(4)\n",
      "memory usage: 239.8 KB\n"
     ]
    }
   ],
   "source": [
    "new_df = new_df.drop(['Curing humidity (%)', 'Curing day','Average carbonation coefficient (mm/year^0.5)', 'Chloride diffusion coefficient (10-12 m2/s)', 'Average 28-day split strength (Mpa)', 'Average 28-day compressive strength (Mpa)', 'Curing method', 'Specimen size',], axis = 1)\n",
    "new_df.info()"
   ],
   "metadata": {
    "collapsed": false,
    "ExecuteTime": {
     "end_time": "2024-01-10T07:12:39.298190900Z",
     "start_time": "2024-01-10T07:12:38.927557700Z"
    }
   },
   "id": "a1c0ecc0df81d1b"
  },
  {
   "cell_type": "code",
   "execution_count": 14,
   "outputs": [
    {
     "data": {
      "text/plain": "ASTM type 1 ordinary Portland Cement content (kg/m^3)    0\nCEM I 42.5N ordinary Portland Cement content (kg/m^3)    0\nCEM I 52.5N ordinary Portland Cement content (kg/m^3)    0\nClass C Fly ash content (kg/m^3)                         0\nClass F Fly ash content (kg/m^3)                         0\nSlag content (kg/m^3)                                    0\nSilica fume content (kg/m^3)                             0\nWater content (kg/m^3)                                   0\nSuperplasticizer content (kg/m^3)                        0\nMaximum coarse aggregate size (mm)                       0\nCoarse aggregate content (kg/m^3)                        0\nFine aggregate content (kg/m^3)                          0\nCuring temperature (Celsius degree)                      0\nSlump (mm)                                               0\nAir                                                      0\nMoist                                                    0\nSealed                                                   0\nSubmerged                                                0\ndtype: int64"
     },
     "execution_count": 14,
     "metadata": {},
     "output_type": "execute_result"
    }
   ],
   "source": [
    "new_df = new_df.dropna()\n",
    "new_df.isnull().sum()"
   ],
   "metadata": {
    "collapsed": false,
    "ExecuteTime": {
     "end_time": "2024-01-10T07:12:39.298190900Z",
     "start_time": "2024-01-10T07:12:38.938853900Z"
    }
   },
   "id": "57e364f89c9ab862"
  },
  {
   "cell_type": "markdown",
   "source": [
    "# Train test split"
   ],
   "metadata": {
    "collapsed": false
   },
   "id": "cdc526730dc2c81"
  },
  {
   "cell_type": "code",
   "execution_count": 15,
   "outputs": [],
   "source": [
    "X = new_df.drop('Slump (mm)', axis=1)\n",
    "Y = new_df[['Slump (mm)']]"
   ],
   "metadata": {
    "collapsed": false,
    "ExecuteTime": {
     "end_time": "2024-01-10T07:12:39.299322500Z",
     "start_time": "2024-01-10T07:12:38.950095400Z"
    }
   },
   "id": "7d6bebac18daa5a3"
  },
  {
   "cell_type": "code",
   "execution_count": 16,
   "outputs": [],
   "source": [
    "X_big, X_test, y_big, y_test = train_test_split(X,Y, test_size = 0.1, random_state = 42,shuffle = True)\n",
    "X_train, X_val, y_train, y_val = train_test_split(X_big,y_big, test_size = 0.2, random_state = 42,shuffle = True)"
   ],
   "metadata": {
    "collapsed": false,
    "ExecuteTime": {
     "end_time": "2024-01-10T07:12:39.299322500Z",
     "start_time": "2024-01-10T07:12:38.954002200Z"
    }
   },
   "id": "15dde676354b03d4"
  },
  {
   "cell_type": "code",
   "execution_count": 17,
   "outputs": [
    {
     "name": "stdout",
     "output_type": "stream",
     "text": [
      "(580, 17)\n",
      "(146, 17)\n",
      "(81, 17)\n"
     ]
    }
   ],
   "source": [
    "print(X_train.shape)\n",
    "print(X_val.shape)\n",
    "print(X_test.shape)"
   ],
   "metadata": {
    "collapsed": false,
    "ExecuteTime": {
     "end_time": "2024-01-10T07:12:39.299652700Z",
     "start_time": "2024-01-10T07:12:38.962210900Z"
    }
   },
   "id": "d3cd24b509338916"
  },
  {
   "cell_type": "markdown",
   "source": [
    "## Min Max Scaler"
   ],
   "metadata": {
    "collapsed": false
   },
   "id": "7790d893e5c525b7"
  },
  {
   "cell_type": "code",
   "execution_count": 18,
   "outputs": [],
   "source": [
    "scaler = MinMaxScaler()\n",
    "X_train_scaled = scaler.fit_transform(X_train)\n",
    "X_val_scaled = scaler.fit_transform(X_val)\n",
    "X_test_scaled = scaler.fit_transform(X_test)"
   ],
   "metadata": {
    "collapsed": false,
    "ExecuteTime": {
     "end_time": "2024-01-10T07:12:39.325474800Z",
     "start_time": "2024-01-10T07:12:38.968515200Z"
    }
   },
   "id": "c96bc21e9158aa36"
  },
  {
   "cell_type": "markdown",
   "source": [
    "# Model Evaluation"
   ],
   "metadata": {
    "collapsed": false
   },
   "id": "bf50bf0ad4663805"
  },
  {
   "cell_type": "code",
   "execution_count": 19,
   "outputs": [],
   "source": [
    "def adj_r2_score(predictors, targets, predictions):\n",
    "    r2 = r2_score(targets, predictions)\n",
    "    n = predictors.shape[0]\n",
    "    k = predictors.shape[1]\n",
    "    return 1 - ((1 - r2) * (n - 1) / (n - k - 1))\n",
    "def model_performance_regression(predictors,target,pred):\n",
    "    r2 = r2_score(target, pred)  # to compute R-squared\n",
    "    adjr2 = adj_r2_score(predictors, target, pred)  # to compute adjusted R-squared\n",
    "    rmse = np.sqrt(mean_squared_error(target, pred))  # to compute RMSE\n",
    "    mae = mean_absolute_error(target, pred)  # to compute MAE\n",
    "\n",
    "    df_perf = pd.DataFrame(\n",
    "        {\n",
    "            \"RMSE\": rmse,\n",
    "            \"MAE\": mae,\n",
    "            \"R-squared\": r2,\n",
    "            \"Adj. R-squared\": adjr2,\n",
    "        },\n",
    "        index=[0],\n",
    "    )\n",
    "\n",
    "    return df_perf"
   ],
   "metadata": {
    "collapsed": false,
    "ExecuteTime": {
     "end_time": "2024-01-10T07:12:39.326473800Z",
     "start_time": "2024-01-10T07:12:38.985343300Z"
    }
   },
   "id": "2bf6937b9ace4b67"
  },
  {
   "cell_type": "markdown",
   "source": [
    "# Model 1"
   ],
   "metadata": {
    "collapsed": false
   },
   "id": "f12e8798946ec7e2"
  },
  {
   "cell_type": "code",
   "execution_count": 20,
   "outputs": [
    {
     "name": "stdout",
     "output_type": "stream",
     "text": [
      "WARNING:tensorflow:From C:\\Users\\leeno\\anaconda3\\Lib\\site-packages\\keras\\src\\backend.py:277: The name tf.reset_default_graph is deprecated. Please use tf.compat.v1.reset_default_graph instead.\n"
     ]
    }
   ],
   "source": [
    "backend.clear_session()\n",
    "#Fixing the seed for random number generators so that we can ensure we receive the same output everytime\n",
    "np.random.seed(42)\n",
    "random.seed(42)\n",
    "tf.random.set_seed(42)"
   ],
   "metadata": {
    "collapsed": false,
    "ExecuteTime": {
     "end_time": "2024-01-10T07:12:39.377616100Z",
     "start_time": "2024-01-10T07:12:38.988864400Z"
    }
   },
   "id": "bb6e76c296ff354b"
  },
  {
   "cell_type": "code",
   "execution_count": 21,
   "outputs": [
    {
     "name": "stdout",
     "output_type": "stream",
     "text": [
      "Model: \"sequential\"\n",
      "_________________________________________________________________\n",
      " Layer (type)                Output Shape              Param #   \n",
      "=================================================================\n",
      " dense (Dense)               (None, 64)                1152      \n",
      "                                                                 \n",
      " dense_1 (Dense)             (None, 32)                2080      \n",
      "                                                                 \n",
      " dense_2 (Dense)             (None, 32)                1056      \n",
      "                                                                 \n",
      " dense_3 (Dense)             (None, 1)                 33        \n",
      "                                                                 \n",
      "=================================================================\n",
      "Total params: 4321 (16.88 KB)\n",
      "Trainable params: 4321 (16.88 KB)\n",
      "Non-trainable params: 0 (0.00 Byte)\n",
      "_________________________________________________________________\n"
     ]
    }
   ],
   "source": [
    "model = Sequential()\n",
    "model.add(Dense(64, activation='relu',kernel_initializer='he_uniform', input_shape=(17,)))\n",
    "\n",
    "model.add(Dense(32, activation='relu',kernel_initializer='he_uniform'))\n",
    "\n",
    "model.add(Dense(32, activation='relu',kernel_initializer='he_uniform'))\n",
    "\n",
    "model.add(Dense(1, activation='linear'))\n",
    "\n",
    "model.summary()"
   ],
   "metadata": {
    "collapsed": false,
    "ExecuteTime": {
     "end_time": "2024-01-10T07:12:39.501802900Z",
     "start_time": "2024-01-10T07:12:39.186391500Z"
    }
   },
   "id": "ea71963fae281088"
  },
  {
   "cell_type": "code",
   "execution_count": 22,
   "outputs": [
    {
     "name": "stdout",
     "output_type": "stream",
     "text": [
      "Epoch 1/100\n",
      "WARNING:tensorflow:From C:\\Users\\leeno\\anaconda3\\Lib\\site-packages\\keras\\src\\utils\\tf_utils.py:492: The name tf.ragged.RaggedTensorValue is deprecated. Please use tf.compat.v1.ragged.RaggedTensorValue instead.\n",
      "\n",
      "WARNING:tensorflow:From C:\\Users\\leeno\\anaconda3\\Lib\\site-packages\\keras\\src\\engine\\base_layer_utils.py:384: The name tf.executing_eagerly_outside_functions is deprecated. Please use tf.compat.v1.executing_eagerly_outside_functions instead.\n",
      "19/19 [==============================] - 1s 12ms/step - loss: 14148.4482 - mae: 104.0365 - val_loss: 14010.0576 - val_mae: 102.0903\n",
      "Epoch 2/100\n",
      "19/19 [==============================] - 0s 4ms/step - loss: 13197.9893 - mae: 99.4013 - val_loss: 12839.3730 - val_mae: 96.3174\n",
      "Epoch 3/100\n",
      "19/19 [==============================] - 0s 4ms/step - loss: 11691.4326 - mae: 91.7719 - val_loss: 10888.2295 - val_mae: 86.8422\n",
      "Epoch 4/100\n",
      "19/19 [==============================] - 0s 4ms/step - loss: 9417.3213 - mae: 80.0644 - val_loss: 8337.9756 - val_mae: 73.4205\n",
      "Epoch 5/100\n",
      "19/19 [==============================] - 0s 4ms/step - loss: 6842.5337 - mae: 65.8152 - val_loss: 5615.3594 - val_mae: 56.8108\n",
      "Epoch 6/100\n",
      "19/19 [==============================] - 0s 4ms/step - loss: 4583.8623 - mae: 51.2961 - val_loss: 3907.3464 - val_mae: 46.1290\n",
      "Epoch 7/100\n",
      "19/19 [==============================] - 0s 4ms/step - loss: 3527.5640 - mae: 44.3260 - val_loss: 3402.8450 - val_mae: 45.0520\n",
      "Epoch 8/100\n",
      "19/19 [==============================] - 0s 4ms/step - loss: 3275.4263 - mae: 44.2487 - val_loss: 3262.3457 - val_mae: 45.0518\n",
      "Epoch 9/100\n",
      "19/19 [==============================] - 0s 4ms/step - loss: 3149.3340 - mae: 44.1311 - val_loss: 3200.8584 - val_mae: 44.1980\n",
      "Epoch 10/100\n",
      "19/19 [==============================] - 0s 4ms/step - loss: 3041.0042 - mae: 43.6871 - val_loss: 3099.8308 - val_mae: 44.4657\n",
      "Epoch 11/100\n",
      "19/19 [==============================] - 0s 4ms/step - loss: 2951.5029 - mae: 43.6727 - val_loss: 3029.6416 - val_mae: 45.7633\n",
      "Epoch 12/100\n",
      "19/19 [==============================] - 0s 4ms/step - loss: 2884.5266 - mae: 43.8896 - val_loss: 3029.5938 - val_mae: 43.7359\n",
      "Epoch 13/100\n",
      "19/19 [==============================] - 0s 4ms/step - loss: 2829.5911 - mae: 43.0883 - val_loss: 2971.5916 - val_mae: 43.7051\n",
      "Epoch 14/100\n",
      "19/19 [==============================] - 0s 4ms/step - loss: 2780.2842 - mae: 42.8749 - val_loss: 2946.3611 - val_mae: 43.2133\n",
      "Epoch 15/100\n",
      "19/19 [==============================] - 0s 4ms/step - loss: 2723.9524 - mae: 42.2594 - val_loss: 2866.4109 - val_mae: 43.6965\n",
      "Epoch 16/100\n",
      "19/19 [==============================] - 0s 4ms/step - loss: 2663.9917 - mae: 42.1799 - val_loss: 2822.2388 - val_mae: 43.0808\n",
      "Epoch 17/100\n",
      "19/19 [==============================] - 0s 4ms/step - loss: 2618.8896 - mae: 41.6209 - val_loss: 2790.7163 - val_mae: 42.4265\n",
      "Epoch 18/100\n",
      "19/19 [==============================] - 0s 4ms/step - loss: 2578.3625 - mae: 40.9842 - val_loss: 2743.9363 - val_mae: 43.5549\n",
      "Epoch 19/100\n",
      "19/19 [==============================] - 0s 4ms/step - loss: 2523.5886 - mae: 40.9174 - val_loss: 2701.3748 - val_mae: 42.3180\n",
      "Epoch 20/100\n",
      "19/19 [==============================] - 0s 4ms/step - loss: 2474.7271 - mae: 40.5184 - val_loss: 2667.4004 - val_mae: 41.8073\n",
      "Epoch 21/100\n",
      "19/19 [==============================] - 0s 4ms/step - loss: 2440.6201 - mae: 40.0997 - val_loss: 2620.7419 - val_mae: 41.6936\n",
      "Epoch 22/100\n",
      "19/19 [==============================] - 0s 4ms/step - loss: 2379.4570 - mae: 39.7361 - val_loss: 2601.9385 - val_mae: 40.9420\n",
      "Epoch 23/100\n",
      "19/19 [==============================] - 0s 4ms/step - loss: 2320.7422 - mae: 38.9783 - val_loss: 2620.6082 - val_mae: 40.2906\n",
      "Epoch 24/100\n",
      "19/19 [==============================] - 0s 4ms/step - loss: 2278.1245 - mae: 38.3614 - val_loss: 2515.7683 - val_mae: 39.9990\n",
      "Epoch 25/100\n",
      "19/19 [==============================] - 0s 4ms/step - loss: 2212.7446 - mae: 37.8318 - val_loss: 2461.7664 - val_mae: 40.0088\n",
      "Epoch 26/100\n",
      "19/19 [==============================] - 0s 4ms/step - loss: 2161.6233 - mae: 37.3824 - val_loss: 2422.4290 - val_mae: 39.5578\n",
      "Epoch 27/100\n",
      "19/19 [==============================] - 0s 4ms/step - loss: 2096.4861 - mae: 36.8786 - val_loss: 2401.8252 - val_mae: 39.6581\n",
      "Epoch 28/100\n",
      "19/19 [==============================] - 0s 4ms/step - loss: 2047.3046 - mae: 36.4400 - val_loss: 2348.6675 - val_mae: 38.8897\n",
      "Epoch 29/100\n",
      "19/19 [==============================] - 0s 4ms/step - loss: 1992.4535 - mae: 35.8367 - val_loss: 2317.6589 - val_mae: 37.8096\n",
      "Epoch 30/100\n",
      "19/19 [==============================] - 0s 3ms/step - loss: 1936.3666 - mae: 35.0666 - val_loss: 2280.6189 - val_mae: 38.0705\n",
      "Epoch 31/100\n",
      "19/19 [==============================] - 0s 4ms/step - loss: 1877.9727 - mae: 34.7141 - val_loss: 2221.7954 - val_mae: 37.1082\n",
      "Epoch 32/100\n",
      "19/19 [==============================] - 0s 4ms/step - loss: 1809.1427 - mae: 33.8671 - val_loss: 2181.2849 - val_mae: 36.4797\n",
      "Epoch 33/100\n",
      "19/19 [==============================] - 0s 4ms/step - loss: 1747.2915 - mae: 33.2014 - val_loss: 2205.0369 - val_mae: 36.0282\n",
      "Epoch 34/100\n",
      "19/19 [==============================] - 0s 3ms/step - loss: 1702.4287 - mae: 32.5174 - val_loss: 2098.0251 - val_mae: 35.1044\n",
      "Epoch 35/100\n",
      "19/19 [==============================] - 0s 4ms/step - loss: 1640.6991 - mae: 31.6440 - val_loss: 2076.4756 - val_mae: 34.7842\n",
      "Epoch 36/100\n",
      "19/19 [==============================] - 0s 4ms/step - loss: 1588.9198 - mae: 31.2989 - val_loss: 2099.9148 - val_mae: 34.8049\n",
      "Epoch 37/100\n",
      "19/19 [==============================] - 0s 4ms/step - loss: 1560.8655 - mae: 30.9208 - val_loss: 2027.3429 - val_mae: 33.9149\n",
      "Epoch 38/100\n",
      "19/19 [==============================] - 0s 3ms/step - loss: 1501.3898 - mae: 30.0877 - val_loss: 2015.6147 - val_mae: 33.4087\n",
      "Epoch 39/100\n",
      "19/19 [==============================] - 0s 4ms/step - loss: 1455.1826 - mae: 29.4500 - val_loss: 2069.0801 - val_mae: 34.1817\n",
      "Epoch 40/100\n",
      "19/19 [==============================] - 0s 4ms/step - loss: 1438.7698 - mae: 29.2434 - val_loss: 1977.0281 - val_mae: 32.9363\n",
      "Epoch 41/100\n",
      "19/19 [==============================] - 0s 4ms/step - loss: 1385.3260 - mae: 28.4744 - val_loss: 1967.2241 - val_mae: 32.4795\n",
      "Epoch 42/100\n",
      "19/19 [==============================] - 0s 4ms/step - loss: 1351.2513 - mae: 27.9839 - val_loss: 1945.4054 - val_mae: 32.1784\n",
      "Epoch 43/100\n",
      "19/19 [==============================] - 0s 4ms/step - loss: 1317.3682 - mae: 27.3880 - val_loss: 1961.3628 - val_mae: 32.2829\n",
      "Epoch 44/100\n",
      "19/19 [==============================] - 0s 4ms/step - loss: 1287.8966 - mae: 27.0584 - val_loss: 1907.9362 - val_mae: 31.3918\n",
      "Epoch 45/100\n",
      "19/19 [==============================] - 0s 4ms/step - loss: 1250.4398 - mae: 26.4192 - val_loss: 1875.6989 - val_mae: 31.1843\n",
      "Epoch 46/100\n",
      "19/19 [==============================] - 0s 4ms/step - loss: 1222.0565 - mae: 26.1605 - val_loss: 1888.9349 - val_mae: 30.5215\n",
      "Epoch 47/100\n",
      "19/19 [==============================] - 0s 4ms/step - loss: 1195.6838 - mae: 25.6806 - val_loss: 1846.9302 - val_mae: 30.0313\n",
      "Epoch 48/100\n",
      "19/19 [==============================] - 0s 4ms/step - loss: 1166.9120 - mae: 25.1097 - val_loss: 1845.3190 - val_mae: 30.6379\n",
      "Epoch 49/100\n",
      "19/19 [==============================] - 0s 4ms/step - loss: 1135.8678 - mae: 24.9140 - val_loss: 1791.5111 - val_mae: 29.8301\n",
      "Epoch 50/100\n",
      "19/19 [==============================] - 0s 4ms/step - loss: 1112.5967 - mae: 24.5675 - val_loss: 1780.7849 - val_mae: 29.6297\n",
      "Epoch 51/100\n",
      "19/19 [==============================] - 0s 4ms/step - loss: 1078.9274 - mae: 23.9783 - val_loss: 1753.6233 - val_mae: 28.9328\n",
      "Epoch 52/100\n",
      "19/19 [==============================] - 0s 3ms/step - loss: 1066.4784 - mae: 23.8644 - val_loss: 1726.9307 - val_mae: 28.5138\n",
      "Epoch 53/100\n",
      "19/19 [==============================] - 0s 4ms/step - loss: 1029.4475 - mae: 23.1334 - val_loss: 1756.1042 - val_mae: 28.7217\n",
      "Epoch 54/100\n",
      "19/19 [==============================] - 0s 4ms/step - loss: 1023.0204 - mae: 23.1329 - val_loss: 1745.1653 - val_mae: 28.7240\n",
      "Epoch 55/100\n",
      "19/19 [==============================] - 0s 4ms/step - loss: 991.1470 - mae: 22.4312 - val_loss: 1724.0343 - val_mae: 28.6371\n",
      "Epoch 56/100\n",
      "19/19 [==============================] - 0s 4ms/step - loss: 981.4138 - mae: 22.2814 - val_loss: 1678.6649 - val_mae: 27.8030\n",
      "Epoch 57/100\n",
      "19/19 [==============================] - 0s 4ms/step - loss: 954.5482 - mae: 22.0111 - val_loss: 1645.5002 - val_mae: 28.1612\n",
      "Epoch 58/100\n",
      "19/19 [==============================] - 0s 4ms/step - loss: 935.8138 - mae: 21.7338 - val_loss: 1628.7802 - val_mae: 27.1690\n",
      "Epoch 59/100\n",
      "19/19 [==============================] - 0s 4ms/step - loss: 913.5466 - mae: 21.4179 - val_loss: 1667.9840 - val_mae: 27.0676\n",
      "Epoch 60/100\n",
      "19/19 [==============================] - 0s 3ms/step - loss: 919.8354 - mae: 21.4534 - val_loss: 1607.4396 - val_mae: 27.6291\n",
      "Epoch 61/100\n",
      "19/19 [==============================] - 0s 4ms/step - loss: 892.4452 - mae: 21.1066 - val_loss: 1560.0532 - val_mae: 27.2497\n",
      "Epoch 62/100\n",
      "19/19 [==============================] - 0s 4ms/step - loss: 875.0959 - mae: 21.0073 - val_loss: 1550.7943 - val_mae: 26.7132\n",
      "Epoch 63/100\n",
      "19/19 [==============================] - 0s 4ms/step - loss: 858.9498 - mae: 20.6370 - val_loss: 1574.0188 - val_mae: 27.2353\n",
      "Epoch 64/100\n",
      "19/19 [==============================] - 0s 4ms/step - loss: 845.6622 - mae: 20.2086 - val_loss: 1534.7427 - val_mae: 26.7623\n",
      "Epoch 65/100\n",
      "19/19 [==============================] - 0s 4ms/step - loss: 831.7374 - mae: 20.2681 - val_loss: 1561.6888 - val_mae: 26.8419\n",
      "Epoch 66/100\n",
      "19/19 [==============================] - 0s 4ms/step - loss: 821.3231 - mae: 19.9994 - val_loss: 1514.5013 - val_mae: 26.1177\n",
      "Epoch 67/100\n",
      "19/19 [==============================] - 0s 4ms/step - loss: 811.7332 - mae: 19.8002 - val_loss: 1512.2849 - val_mae: 27.2167\n",
      "Epoch 68/100\n",
      "19/19 [==============================] - 0s 3ms/step - loss: 794.5690 - mae: 19.7725 - val_loss: 1532.0728 - val_mae: 26.4833\n",
      "Epoch 69/100\n",
      "19/19 [==============================] - 0s 4ms/step - loss: 777.7055 - mae: 19.2817 - val_loss: 1518.8966 - val_mae: 26.4123\n",
      "Epoch 70/100\n",
      "19/19 [==============================] - 0s 4ms/step - loss: 774.1899 - mae: 19.3640 - val_loss: 1555.5272 - val_mae: 26.4998\n",
      "Epoch 71/100\n",
      "19/19 [==============================] - 0s 4ms/step - loss: 769.1417 - mae: 18.8246 - val_loss: 1485.5966 - val_mae: 26.1644\n",
      "Epoch 72/100\n",
      "19/19 [==============================] - 0s 4ms/step - loss: 750.3870 - mae: 18.7261 - val_loss: 1442.2849 - val_mae: 26.4940\n",
      "Epoch 73/100\n",
      "19/19 [==============================] - 0s 4ms/step - loss: 740.4480 - mae: 18.7847 - val_loss: 1497.7017 - val_mae: 26.3430\n",
      "Epoch 74/100\n",
      "19/19 [==============================] - 0s 4ms/step - loss: 733.1779 - mae: 18.5594 - val_loss: 1453.0066 - val_mae: 26.2149\n",
      "Epoch 75/100\n",
      "19/19 [==============================] - 0s 4ms/step - loss: 724.0067 - mae: 18.3792 - val_loss: 1499.1190 - val_mae: 27.3270\n",
      "Epoch 76/100\n",
      "19/19 [==============================] - 0s 4ms/step - loss: 718.2420 - mae: 18.4810 - val_loss: 1505.6984 - val_mae: 26.7015\n",
      "Epoch 77/100\n",
      "19/19 [==============================] - 0s 4ms/step - loss: 704.5659 - mae: 17.9545 - val_loss: 1458.4225 - val_mae: 26.6645\n",
      "Epoch 78/100\n",
      "19/19 [==============================] - 0s 4ms/step - loss: 696.8011 - mae: 17.9651 - val_loss: 1413.2531 - val_mae: 25.7494\n",
      "Epoch 79/100\n",
      "19/19 [==============================] - 0s 4ms/step - loss: 688.4823 - mae: 17.9213 - val_loss: 1427.6499 - val_mae: 26.5251\n",
      "Epoch 80/100\n",
      "19/19 [==============================] - 0s 4ms/step - loss: 683.2329 - mae: 17.8144 - val_loss: 1475.5327 - val_mae: 26.4052\n",
      "Epoch 81/100\n",
      "19/19 [==============================] - 0s 4ms/step - loss: 675.5321 - mae: 17.4585 - val_loss: 1354.1810 - val_mae: 26.1157\n",
      "Epoch 82/100\n",
      "19/19 [==============================] - 0s 4ms/step - loss: 666.9252 - mae: 17.5168 - val_loss: 1438.8634 - val_mae: 27.3902\n",
      "Epoch 83/100\n",
      "19/19 [==============================] - 0s 4ms/step - loss: 656.9129 - mae: 17.5331 - val_loss: 1427.0400 - val_mae: 26.9399\n",
      "Epoch 84/100\n",
      "19/19 [==============================] - 0s 4ms/step - loss: 640.8116 - mae: 17.2850 - val_loss: 1397.8477 - val_mae: 26.3628\n",
      "Epoch 85/100\n",
      "19/19 [==============================] - 0s 4ms/step - loss: 635.5044 - mae: 17.1554 - val_loss: 1384.3710 - val_mae: 26.8024\n",
      "Epoch 86/100\n",
      "19/19 [==============================] - 0s 4ms/step - loss: 620.2144 - mae: 16.9293 - val_loss: 1307.2129 - val_mae: 26.0065\n",
      "Epoch 87/100\n",
      "19/19 [==============================] - 0s 4ms/step - loss: 627.4412 - mae: 17.1189 - val_loss: 1422.8562 - val_mae: 26.2750\n",
      "Epoch 88/100\n",
      "19/19 [==============================] - 0s 4ms/step - loss: 623.6260 - mae: 16.9676 - val_loss: 1334.1580 - val_mae: 26.3185\n",
      "Epoch 89/100\n",
      "19/19 [==============================] - 0s 4ms/step - loss: 607.6566 - mae: 16.7282 - val_loss: 1405.4534 - val_mae: 26.2467\n",
      "Epoch 90/100\n",
      "19/19 [==============================] - 0s 4ms/step - loss: 614.2461 - mae: 16.8195 - val_loss: 1395.1583 - val_mae: 27.4009\n",
      "Epoch 91/100\n",
      "19/19 [==============================] - 0s 4ms/step - loss: 593.6279 - mae: 16.3212 - val_loss: 1399.7078 - val_mae: 27.7492\n",
      "Epoch 92/100\n",
      "19/19 [==============================] - 0s 3ms/step - loss: 586.1202 - mae: 16.4704 - val_loss: 1343.0206 - val_mae: 26.8652\n",
      "Epoch 93/100\n",
      "19/19 [==============================] - 0s 3ms/step - loss: 581.7183 - mae: 16.3123 - val_loss: 1322.1753 - val_mae: 26.1627\n",
      "Epoch 94/100\n",
      "19/19 [==============================] - 0s 4ms/step - loss: 568.4328 - mae: 16.2914 - val_loss: 1407.5398 - val_mae: 26.1751\n",
      "Epoch 95/100\n",
      "19/19 [==============================] - 0s 4ms/step - loss: 564.8777 - mae: 16.0209 - val_loss: 1444.1282 - val_mae: 26.3219\n",
      "Epoch 96/100\n",
      "19/19 [==============================] - 0s 4ms/step - loss: 569.4185 - mae: 16.2909 - val_loss: 1371.5737 - val_mae: 27.6512\n",
      "Epoch 97/100\n",
      "19/19 [==============================] - 0s 4ms/step - loss: 554.0883 - mae: 16.0898 - val_loss: 1388.2999 - val_mae: 26.4824\n",
      "Epoch 98/100\n",
      "19/19 [==============================] - 0s 4ms/step - loss: 557.7680 - mae: 15.9606 - val_loss: 1330.5306 - val_mae: 26.7012\n",
      "Epoch 99/100\n",
      "19/19 [==============================] - 0s 4ms/step - loss: 550.0456 - mae: 15.8498 - val_loss: 1274.7513 - val_mae: 26.3527\n",
      "Epoch 100/100\n",
      "19/19 [==============================] - 0s 4ms/step - loss: 532.6395 - mae: 15.6735 - val_loss: 1377.6367 - val_mae: 28.0536\n"
     ]
    }
   ],
   "source": [
    "optimizer = RMSprop( learning_rate=0.001)\n",
    "model.compile(loss='mse',\n",
    "              optimizer=optimizer,\n",
    "              metrics=['mae'])\n",
    "history = model.fit(X_train_scaled, y_train, validation_data=(X_val_scaled, y_val), epochs=100)"
   ],
   "metadata": {
    "collapsed": false,
    "ExecuteTime": {
     "end_time": "2024-01-10T07:12:47.492516400Z",
     "start_time": "2024-01-10T07:12:39.291643Z"
    }
   },
   "id": "267af90ac1c656ec"
  },
  {
   "cell_type": "code",
   "execution_count": 23,
   "outputs": [
    {
     "data": {
      "text/plain": "<Figure size 640x480 with 1 Axes>",
      "image/png": "[encoded data removed]"
     },
     "metadata": {},
     "output_type": "display_data"
    }
   ],
   "source": [
    "plt.title('Loss / Mean Squared Error')\n",
    "plt.plot(history.history['loss'], label='train')\n",
    "plt.plot(history.history['val_loss'], label='validate')\n",
    "plt.legend()\n",
    "plt.show()"
   ],
   "metadata": {
    "collapsed": false,
    "ExecuteTime": {
     "end_time": "2024-01-10T07:12:47.650217200Z",
     "start_time": "2024-01-10T07:12:47.452635600Z"
    }
   },
   "id": "4216fff13731a179"
  },
  {
   "cell_type": "code",
   "execution_count": 24,
   "outputs": [
    {
     "name": "stdout",
     "output_type": "stream",
     "text": [
      "5/5 [==============================] - 0s 1ms/step\n",
      "Validation Performance\n"
     ]
    },
    {
     "data": {
      "text/plain": "        RMSE        MAE  R-squared  Adj. R-squared\n0  37.116528  28.053597   0.617891        0.567142",
      "text/html": "<div>\n<style scoped>\n    .dataframe tbody tr th:only-of-type {\n        vertical-align: middle;\n    }\n\n    .dataframe tbody tr th {\n        vertical-align: top;\n    }\n\n    .dataframe thead th {\n        text-align: right;\n    }\n</style>\n<table border=\"1\" class=\"dataframe\">\n  <thead>\n    <tr style=\"text-align: right;\">\n      <th></th>\n      <th>RMSE</th>\n      <th>MAE</th>\n      <th>R-squared</th>\n      <th>Adj. R-squared</th>\n    </tr>\n  </thead>\n  <tbody>\n    <tr>\n      <th>0</th>\n      <td>37.116528</td>\n      <td>28.053597</td>\n      <td>0.617891</td>\n      <td>0.567142</td>\n    </tr>\n  </tbody>\n</table>\n</div>"
     },
     "execution_count": 24,
     "metadata": {},
     "output_type": "execute_result"
    }
   ],
   "source": [
    "y_result = model.predict(X_val_scaled)\n",
    "print(\"Validation Performance\\n\")\n",
    "ANN_train = model_performance_regression(X_val_scaled,y_val, y_result)\n",
    "ANN_train"
   ],
   "metadata": {
    "collapsed": false,
    "ExecuteTime": {
     "end_time": "2024-01-10T07:12:47.808375200Z",
     "start_time": "2024-01-10T07:12:47.630165400Z"
    }
   },
   "id": "92ca149e92296cf0"
  },
  {
   "cell_type": "code",
   "execution_count": 25,
   "outputs": [
    {
     "name": "stdout",
     "output_type": "stream",
     "text": [
      "3/3 [==============================] - 0s 2ms/step\n",
      "Test set Performance\n"
     ]
    },
    {
     "data": {
      "text/plain": "        RMSE        MAE  R-squared  Adj. R-squared\n0  41.811978  29.784734   0.251128        0.049051",
      "text/html": "<div>\n<style scoped>\n    .dataframe tbody tr th:only-of-type {\n        vertical-align: middle;\n    }\n\n    .dataframe tbody tr th {\n        vertical-align: top;\n    }\n\n    .dataframe thead th {\n        text-align: right;\n    }\n</style>\n<table border=\"1\" class=\"dataframe\">\n  <thead>\n    <tr style=\"text-align: right;\">\n      <th></th>\n      <th>RMSE</th>\n      <th>MAE</th>\n      <th>R-squared</th>\n      <th>Adj. R-squared</th>\n    </tr>\n  </thead>\n  <tbody>\n    <tr>\n      <th>0</th>\n      <td>41.811978</td>\n      <td>29.784734</td>\n      <td>0.251128</td>\n      <td>0.049051</td>\n    </tr>\n  </tbody>\n</table>\n</div>"
     },
     "execution_count": 25,
     "metadata": {},
     "output_type": "execute_result"
    }
   ],
   "source": [
    "y_test_result = model.predict(X_test_scaled)\n",
    "ANN_test = model_performance_regression(X_test_scaled, y_test, y_test_result)\n",
    "print(\"Test set Performance\\n\")\n",
    "ANN_test"
   ],
   "metadata": {
    "collapsed": false,
    "ExecuteTime": {
     "end_time": "2024-01-10T07:12:47.891844900Z",
     "start_time": "2024-01-10T07:12:47.778271700Z"
    }
   },
   "id": "6c04290248c209ec"
  },
  {
   "cell_type": "markdown",
   "source": [
    "# Model 2 (Early Stopping) "
   ],
   "metadata": {
    "collapsed": false
   },
   "id": "a454adf07744e1dd"
  },
  {
   "cell_type": "code",
   "execution_count": 26,
   "outputs": [],
   "source": [
    "backend.clear_session()\n",
    "#Fixing the seed for random number generators so that we can ensure we receive the same output everytime\n",
    "np.random.seed(42)\n",
    "random.seed(42)\n",
    "tf.random.set_seed(42)"
   ],
   "metadata": {
    "collapsed": false,
    "ExecuteTime": {
     "end_time": "2024-01-10T07:12:47.891844900Z",
     "start_time": "2024-01-10T07:12:47.857085600Z"
    }
   },
   "id": "d644e2adb8c35ccb"
  },
  {
   "cell_type": "code",
   "execution_count": 27,
   "outputs": [
    {
     "name": "stdout",
     "output_type": "stream",
     "text": [
      "Model: \"sequential\"\n",
      "_________________________________________________________________\n",
      " Layer (type)                Output Shape              Param #   \n",
      "=================================================================\n",
      " dense (Dense)               (None, 64)                1152      \n",
      "                                                                 \n",
      " dense_1 (Dense)             (None, 32)                2080      \n",
      "                                                                 \n",
      " dense_2 (Dense)             (None, 32)                1056      \n",
      "                                                                 \n",
      " dense_3 (Dense)             (None, 1)                 33        \n",
      "                                                                 \n",
      "=================================================================\n",
      "Total params: 4321 (16.88 KB)\n",
      "Trainable params: 4321 (16.88 KB)\n",
      "Non-trainable params: 0 (0.00 Byte)\n",
      "_________________________________________________________________\n"
     ]
    }
   ],
   "source": [
    "# Initializing the model\n",
    "model_ES = Sequential()\n",
    "# Adding input layer with 64 neurons, relu as activation function and, he_uniform as weight initializer.\n",
    "model_ES.add(Dense(64, activation='relu',kernel_initializer='he_uniform', input_shape=(17,)))\n",
    "# Adding the first hidden layer with 32 neurons, relu as activation function and, he_uniform as weight initializer\n",
    "model_ES.add(Dense(32, activation='relu',kernel_initializer='he_uniform'))\n",
    "# Adding the second hidden layer with 32 neurons, relu as activation function and, he_uniform as weight initializer\n",
    "model_ES.add(Dense(32, activation='relu',kernel_initializer='he_uniform'))\n",
    "# Adding the output layer with one neuron and linear as activation\n",
    "model_ES.add(Dense(1, activation='linear'))\n",
    "\n",
    "model_ES.summary()"
   ],
   "metadata": {
    "collapsed": false,
    "ExecuteTime": {
     "end_time": "2024-01-10T07:12:48.201116800Z",
     "start_time": "2024-01-10T07:12:47.868860600Z"
    }
   },
   "id": "7caa8fc01defb77a"
  },
  {
   "cell_type": "code",
   "execution_count": 28,
   "outputs": [
    {
     "name": "stdout",
     "output_type": "stream",
     "text": [
      "Epoch 1/100\n",
      "19/19 [==============================] - 1s 11ms/step - loss: 14346.3682 - mae: 104.9789 - val_loss: 14447.1973 - val_mae: 104.1454\n",
      "Epoch 2/100\n",
      "19/19 [==============================] - 0s 4ms/step - loss: 13824.5361 - mae: 102.4812 - val_loss: 13723.1533 - val_mae: 100.6851\n",
      "Epoch 3/100\n",
      "19/19 [==============================] - 0s 4ms/step - loss: 12802.9668 - mae: 97.3428 - val_loss: 12221.8838 - val_mae: 93.4445\n",
      "Epoch 4/100\n",
      "19/19 [==============================] - 0s 4ms/step - loss: 10706.0850 - mae: 86.9582 - val_loss: 9320.2324 - val_mae: 78.7058\n",
      "Epoch 5/100\n",
      "19/19 [==============================] - 0s 4ms/step - loss: 7317.8071 - mae: 68.5283 - val_loss: 5405.9722 - val_mae: 55.4478\n",
      "Epoch 6/100\n",
      "19/19 [==============================] - 0s 4ms/step - loss: 4133.9590 - mae: 48.3541 - val_loss: 3502.6040 - val_mae: 45.8028\n",
      "Epoch 7/100\n",
      "19/19 [==============================] - 0s 4ms/step - loss: 3386.5823 - mae: 46.0947 - val_loss: 3313.4521 - val_mae: 46.4952\n",
      "Epoch 8/100\n",
      "19/19 [==============================] - 0s 5ms/step - loss: 3203.9929 - mae: 44.6372 - val_loss: 3201.3943 - val_mae: 44.5562\n",
      "Epoch 9/100\n",
      "19/19 [==============================] - 0s 4ms/step - loss: 3072.3171 - mae: 43.9846 - val_loss: 3123.7317 - val_mae: 44.3096\n",
      "Epoch 10/100\n",
      "19/19 [==============================] - 0s 4ms/step - loss: 2969.7556 - mae: 43.2052 - val_loss: 3050.6711 - val_mae: 44.2034\n",
      "Epoch 11/100\n",
      "19/19 [==============================] - 0s 4ms/step - loss: 2885.6560 - mae: 43.4500 - val_loss: 2978.9934 - val_mae: 44.1776\n",
      "Epoch 12/100\n",
      "19/19 [==============================] - 0s 4ms/step - loss: 2816.7805 - mae: 43.4873 - val_loss: 2926.4983 - val_mae: 44.2376\n",
      "Epoch 13/100\n",
      "19/19 [==============================] - 0s 4ms/step - loss: 2741.4536 - mae: 42.4586 - val_loss: 2896.4734 - val_mae: 43.5072\n",
      "Epoch 14/100\n",
      "19/19 [==============================] - 0s 4ms/step - loss: 2685.3445 - mae: 42.0552 - val_loss: 2839.9966 - val_mae: 43.3253\n",
      "Epoch 15/100\n",
      "19/19 [==============================] - 0s 4ms/step - loss: 2629.3516 - mae: 41.6195 - val_loss: 2788.7607 - val_mae: 42.9351\n",
      "Epoch 16/100\n",
      "19/19 [==============================] - 0s 4ms/step - loss: 2574.5225 - mae: 41.6458 - val_loss: 2732.4348 - val_mae: 42.5894\n",
      "Epoch 17/100\n",
      "19/19 [==============================] - 0s 4ms/step - loss: 2517.2490 - mae: 40.7105 - val_loss: 2685.8582 - val_mae: 41.8059\n",
      "Epoch 18/100\n",
      "19/19 [==============================] - 0s 4ms/step - loss: 2460.2021 - mae: 40.1335 - val_loss: 2630.9053 - val_mae: 41.4054\n",
      "Epoch 19/100\n",
      "19/19 [==============================] - 0s 4ms/step - loss: 2427.0552 - mae: 40.4331 - val_loss: 2584.7629 - val_mae: 41.0032\n",
      "Epoch 20/100\n",
      "19/19 [==============================] - 0s 4ms/step - loss: 2355.0154 - mae: 39.2369 - val_loss: 2536.6763 - val_mae: 40.5222\n",
      "Epoch 21/100\n",
      "19/19 [==============================] - 0s 4ms/step - loss: 2295.4141 - mae: 38.7795 - val_loss: 2495.2312 - val_mae: 40.1671\n",
      "Epoch 22/100\n",
      "19/19 [==============================] - 0s 4ms/step - loss: 2238.9097 - mae: 38.3472 - val_loss: 2455.1641 - val_mae: 39.8150\n",
      "Epoch 23/100\n",
      "19/19 [==============================] - 0s 4ms/step - loss: 2178.3989 - mae: 37.4405 - val_loss: 2407.9319 - val_mae: 39.0747\n",
      "Epoch 24/100\n",
      "19/19 [==============================] - 0s 4ms/step - loss: 2111.3328 - mae: 36.7640 - val_loss: 2366.1692 - val_mae: 38.5041\n",
      "Epoch 25/100\n",
      "19/19 [==============================] - 0s 4ms/step - loss: 2053.3264 - mae: 36.2777 - val_loss: 2321.7258 - val_mae: 37.8706\n",
      "Epoch 26/100\n",
      "19/19 [==============================] - 0s 4ms/step - loss: 1988.7855 - mae: 35.5166 - val_loss: 2280.9834 - val_mae: 37.4195\n",
      "Epoch 27/100\n",
      "19/19 [==============================] - 0s 4ms/step - loss: 1922.9631 - mae: 35.0102 - val_loss: 2249.0469 - val_mae: 37.0560\n",
      "Epoch 28/100\n",
      "19/19 [==============================] - 0s 4ms/step - loss: 1863.6132 - mae: 34.4999 - val_loss: 2204.0227 - val_mae: 36.4422\n",
      "Epoch 29/100\n",
      "19/19 [==============================] - 0s 3ms/step - loss: 1795.5901 - mae: 33.6684 - val_loss: 2169.9714 - val_mae: 35.7684\n",
      "Epoch 30/100\n",
      "19/19 [==============================] - 0s 4ms/step - loss: 1744.3431 - mae: 32.8720 - val_loss: 2124.6157 - val_mae: 35.1714\n",
      "Epoch 31/100\n",
      "19/19 [==============================] - 0s 4ms/step - loss: 1681.9331 - mae: 32.4103 - val_loss: 2091.5061 - val_mae: 34.6760\n",
      "Epoch 32/100\n",
      "19/19 [==============================] - 0s 4ms/step - loss: 1625.8258 - mae: 31.5059 - val_loss: 2056.2344 - val_mae: 34.0771\n",
      "Epoch 33/100\n",
      "19/19 [==============================] - 0s 4ms/step - loss: 1566.7692 - mae: 30.9099 - val_loss: 2046.7440 - val_mae: 33.6454\n",
      "Epoch 34/100\n",
      "19/19 [==============================] - 0s 4ms/step - loss: 1516.5311 - mae: 30.1343 - val_loss: 2006.6912 - val_mae: 33.0581\n",
      "Epoch 35/100\n",
      "19/19 [==============================] - 0s 4ms/step - loss: 1465.2620 - mae: 29.4215 - val_loss: 1989.8756 - val_mae: 32.6895\n",
      "Epoch 36/100\n",
      "19/19 [==============================] - 0s 4ms/step - loss: 1427.6433 - mae: 28.9368 - val_loss: 1955.0813 - val_mae: 31.9379\n",
      "Epoch 37/100\n",
      "19/19 [==============================] - 0s 3ms/step - loss: 1372.4775 - mae: 28.0716 - val_loss: 1943.2714 - val_mae: 31.5875\n",
      "Epoch 38/100\n",
      "19/19 [==============================] - 0s 4ms/step - loss: 1332.4307 - mae: 27.4369 - val_loss: 1906.9441 - val_mae: 31.1607\n",
      "Epoch 39/100\n",
      "19/19 [==============================] - 0s 4ms/step - loss: 1306.4619 - mae: 26.8794 - val_loss: 1921.0417 - val_mae: 31.3452\n",
      "Epoch 40/100\n",
      "19/19 [==============================] - 0s 4ms/step - loss: 1290.9720 - mae: 26.8979 - val_loss: 1857.0116 - val_mae: 30.3919\n",
      "Epoch 41/100\n",
      "19/19 [==============================] - 0s 4ms/step - loss: 1235.3604 - mae: 25.9194 - val_loss: 1843.5948 - val_mae: 30.0307\n",
      "Epoch 42/100\n",
      "19/19 [==============================] - 0s 4ms/step - loss: 1202.3037 - mae: 25.3928 - val_loss: 1836.4623 - val_mae: 30.0019\n",
      "Epoch 43/100\n",
      "19/19 [==============================] - 0s 4ms/step - loss: 1176.5731 - mae: 24.9872 - val_loss: 1815.8344 - val_mae: 29.5424\n",
      "Epoch 44/100\n",
      "19/19 [==============================] - 0s 4ms/step - loss: 1149.0271 - mae: 24.7125 - val_loss: 1791.0878 - val_mae: 29.2847\n",
      "Epoch 45/100\n",
      "19/19 [==============================] - 0s 4ms/step - loss: 1117.9110 - mae: 24.1329 - val_loss: 1778.5214 - val_mae: 29.1967\n",
      "Epoch 46/100\n",
      "19/19 [==============================] - 0s 4ms/step - loss: 1086.2236 - mae: 23.8025 - val_loss: 1732.1565 - val_mae: 28.7609\n",
      "Epoch 47/100\n",
      "19/19 [==============================] - 0s 4ms/step - loss: 1063.5763 - mae: 23.4332 - val_loss: 1712.2568 - val_mae: 28.5081\n",
      "Epoch 48/100\n",
      "19/19 [==============================] - 0s 4ms/step - loss: 1045.9772 - mae: 23.0037 - val_loss: 1727.9415 - val_mae: 28.6900\n",
      "Epoch 49/100\n",
      "19/19 [==============================] - 0s 3ms/step - loss: 1037.4548 - mae: 23.3447 - val_loss: 1639.2378 - val_mae: 27.7167\n",
      "Epoch 50/100\n",
      "19/19 [==============================] - 0s 4ms/step - loss: 999.4748 - mae: 22.6527 - val_loss: 1645.4281 - val_mae: 28.1185\n",
      "Epoch 51/100\n",
      "19/19 [==============================] - 0s 4ms/step - loss: 976.4379 - mae: 22.2984 - val_loss: 1640.1381 - val_mae: 28.1020\n",
      "Epoch 52/100\n",
      "19/19 [==============================] - 0s 4ms/step - loss: 958.3077 - mae: 22.0298 - val_loss: 1608.8938 - val_mae: 27.7137\n",
      "Epoch 53/100\n",
      "19/19 [==============================] - 0s 4ms/step - loss: 945.0108 - mae: 21.9891 - val_loss: 1586.1359 - val_mae: 27.2706\n",
      "Epoch 54/100\n",
      "19/19 [==============================] - 0s 4ms/step - loss: 933.0053 - mae: 21.5822 - val_loss: 1613.4519 - val_mae: 27.9075\n",
      "Epoch 55/100\n",
      "19/19 [==============================] - 0s 4ms/step - loss: 911.0106 - mae: 21.1836 - val_loss: 1600.0068 - val_mae: 27.5865\n",
      "Epoch 56/100\n",
      "19/19 [==============================] - 0s 6ms/step - loss: 890.6457 - mae: 20.9188 - val_loss: 1576.2946 - val_mae: 27.4454\n",
      "Epoch 57/100\n",
      "19/19 [==============================] - 0s 5ms/step - loss: 878.2692 - mae: 20.7564 - val_loss: 1547.9904 - val_mae: 27.2691\n",
      "Epoch 58/100\n",
      "19/19 [==============================] - 0s 4ms/step - loss: 865.7990 - mae: 20.7618 - val_loss: 1493.5377 - val_mae: 26.6009\n",
      "Epoch 59/100\n",
      "19/19 [==============================] - 0s 4ms/step - loss: 852.8307 - mae: 20.5062 - val_loss: 1511.6561 - val_mae: 27.1958\n",
      "Epoch 60/100\n",
      "19/19 [==============================] - 0s 5ms/step - loss: 837.9276 - mae: 20.2338 - val_loss: 1495.2169 - val_mae: 27.0148\n",
      "Epoch 61/100\n",
      "19/19 [==============================] - 0s 4ms/step - loss: 827.7401 - mae: 20.1790 - val_loss: 1509.4200 - val_mae: 27.2346\n",
      "Epoch 62/100\n",
      "19/19 [==============================] - 0s 4ms/step - loss: 816.6168 - mae: 20.0288 - val_loss: 1481.2704 - val_mae: 27.0311\n",
      "Epoch 63/100\n",
      "19/19 [==============================] - 0s 4ms/step - loss: 799.8591 - mae: 19.6874 - val_loss: 1486.3296 - val_mae: 27.1964\n",
      "Epoch 64/100\n",
      "19/19 [==============================] - 0s 4ms/step - loss: 795.9588 - mae: 19.6666 - val_loss: 1494.4178 - val_mae: 27.2478\n",
      "Epoch 65/100\n",
      "19/19 [==============================] - 0s 4ms/step - loss: 776.6735 - mae: 19.4736 - val_loss: 1425.7168 - val_mae: 26.2494\n",
      "Epoch 66/100\n",
      "19/19 [==============================] - 0s 4ms/step - loss: 778.4285 - mae: 19.3286 - val_loss: 1443.1799 - val_mae: 26.6840\n",
      "Epoch 67/100\n",
      "19/19 [==============================] - 0s 4ms/step - loss: 758.1725 - mae: 19.0932 - val_loss: 1435.6340 - val_mae: 26.8282\n",
      "Epoch 68/100\n",
      "19/19 [==============================] - 0s 3ms/step - loss: 746.1619 - mae: 19.1394 - val_loss: 1396.9026 - val_mae: 26.2385\n",
      "Epoch 69/100\n",
      "19/19 [==============================] - 0s 4ms/step - loss: 737.8821 - mae: 18.8542 - val_loss: 1448.1351 - val_mae: 26.9801\n",
      "Epoch 70/100\n",
      "19/19 [==============================] - 0s 4ms/step - loss: 715.9127 - mae: 18.5200 - val_loss: 1409.0339 - val_mae: 26.0493\n",
      "Epoch 71/100\n",
      "19/19 [==============================] - 0s 4ms/step - loss: 727.9529 - mae: 18.8517 - val_loss: 1410.6156 - val_mae: 26.6058\n",
      "Epoch 72/100\n",
      "19/19 [==============================] - 0s 4ms/step - loss: 701.9536 - mae: 18.2433 - val_loss: 1409.9987 - val_mae: 26.6912\n",
      "Epoch 73/100\n",
      "19/19 [==============================] - 0s 4ms/step - loss: 696.1213 - mae: 18.2350 - val_loss: 1363.9917 - val_mae: 26.2398\n",
      "Epoch 74/100\n",
      "19/19 [==============================] - 0s 4ms/step - loss: 694.4727 - mae: 18.1745 - val_loss: 1390.1729 - val_mae: 26.5724\n",
      "Epoch 75/100\n",
      "19/19 [==============================] - 0s 4ms/step - loss: 680.1403 - mae: 18.0313 - val_loss: 1408.4297 - val_mae: 27.1744\n",
      "Epoch 76/100\n",
      "19/19 [==============================] - 0s 4ms/step - loss: 683.5002 - mae: 18.2610 - val_loss: 1370.3629 - val_mae: 26.2164\n",
      "Epoch 77/100\n",
      "19/19 [==============================] - 0s 4ms/step - loss: 663.8397 - mae: 17.7137 - val_loss: 1405.7974 - val_mae: 26.8651\n",
      "Epoch 78/100\n",
      "19/19 [==============================] - 0s 4ms/step - loss: 657.4454 - mae: 17.6472 - val_loss: 1384.2538 - val_mae: 26.7948\n"
     ]
    }
   ],
   "source": [
    "# Initializing the Optimizer\n",
    "optimizer = Adam(0.001)\n",
    "# Compiling the model with 'mse' as loss function and metrics\n",
    "model_ES.compile(loss='mse',\n",
    "                 optimizer=optimizer,\n",
    "                 metrics=['mae'])\n",
    "# Defining Early stopping\n",
    "es_cb = callbacks.EarlyStopping(monitor='val_loss', min_delta=0.001, patience=5)\n",
    "# Fitting the model on train and validation with 50 epochs\n",
    "history_ES = model_ES.fit(X_train_scaled, y_train, validation_data=(X_val_scaled, y_val), epochs=100,callbacks=es_cb)"
   ],
   "metadata": {
    "collapsed": false,
    "ExecuteTime": {
     "end_time": "2024-01-10T07:12:54.716562900Z",
     "start_time": "2024-01-10T07:12:47.936136400Z"
    }
   },
   "id": "38a16f2c70cbb9e7"
  },
  {
   "cell_type": "code",
   "execution_count": 29,
   "outputs": [
    {
     "data": {
      "text/plain": "<Figure size 640x480 with 1 Axes>",
      "image/png": "[encoded data removed]"
     },
     "metadata": {},
     "output_type": "display_data"
    }
   ],
   "source": [
    "plt.title('Loss / Mean Squared Error')\n",
    "plt.plot(history_ES.history['loss'], label='train')\n",
    "plt.plot(history_ES.history['val_loss'], label='validate')\n",
    "plt.legend()\n",
    "plt.show()"
   ],
   "metadata": {
    "collapsed": false,
    "ExecuteTime": {
     "end_time": "2024-01-10T07:12:54.853838600Z",
     "start_time": "2024-01-10T07:12:54.666007200Z"
    }
   },
   "id": "abd67a70ff3ff4ba"
  },
  {
   "cell_type": "code",
   "execution_count": 30,
   "outputs": [
    {
     "name": "stdout",
     "output_type": "stream",
     "text": [
      "5/5 [==============================] - 0s 1ms/step\n",
      "Validation Performance\n"
     ]
    },
    {
     "data": {
      "text/plain": "        RMSE        MAE  R-squared  Adj. R-squared\n0  37.205562  26.794821   0.616056        0.565063",
      "text/html": "<div>\n<style scoped>\n    .dataframe tbody tr th:only-of-type {\n        vertical-align: middle;\n    }\n\n    .dataframe tbody tr th {\n        vertical-align: top;\n    }\n\n    .dataframe thead th {\n        text-align: right;\n    }\n</style>\n<table border=\"1\" class=\"dataframe\">\n  <thead>\n    <tr style=\"text-align: right;\">\n      <th></th>\n      <th>RMSE</th>\n      <th>MAE</th>\n      <th>R-squared</th>\n      <th>Adj. R-squared</th>\n    </tr>\n  </thead>\n  <tbody>\n    <tr>\n      <th>0</th>\n      <td>37.205562</td>\n      <td>26.794821</td>\n      <td>0.616056</td>\n      <td>0.565063</td>\n    </tr>\n  </tbody>\n</table>\n</div>"
     },
     "execution_count": 30,
     "metadata": {},
     "output_type": "execute_result"
    }
   ],
   "source": [
    "y_result_ES = model_ES.predict(X_val_scaled)\n",
    "print(\"Validation Performance\\n\")\n",
    "ES_train = model_performance_regression(X_val_scaled,y_val, y_result_ES)\n",
    "ES_train"
   ],
   "metadata": {
    "collapsed": false,
    "ExecuteTime": {
     "end_time": "2024-01-10T07:12:55.003489700Z",
     "start_time": "2024-01-10T07:12:54.854848900Z"
    }
   },
   "id": "761c31d9b0b9f51"
  },
  {
   "cell_type": "code",
   "execution_count": 31,
   "outputs": [
    {
     "name": "stdout",
     "output_type": "stream",
     "text": [
      "3/3 [==============================] - 0s 2ms/step\n",
      "Test set Performance\n"
     ]
    },
    {
     "data": {
      "text/plain": "        RMSE        MAE  R-squared  Adj. R-squared\n0  40.226683  28.870222   0.306838        0.119794",
      "text/html": "<div>\n<style scoped>\n    .dataframe tbody tr th:only-of-type {\n        vertical-align: middle;\n    }\n\n    .dataframe tbody tr th {\n        vertical-align: top;\n    }\n\n    .dataframe thead th {\n        text-align: right;\n    }\n</style>\n<table border=\"1\" class=\"dataframe\">\n  <thead>\n    <tr style=\"text-align: right;\">\n      <th></th>\n      <th>RMSE</th>\n      <th>MAE</th>\n      <th>R-squared</th>\n      <th>Adj. R-squared</th>\n    </tr>\n  </thead>\n  <tbody>\n    <tr>\n      <th>0</th>\n      <td>40.226683</td>\n      <td>28.870222</td>\n      <td>0.306838</td>\n      <td>0.119794</td>\n    </tr>\n  </tbody>\n</table>\n</div>"
     },
     "execution_count": 31,
     "metadata": {},
     "output_type": "execute_result"
    }
   ],
   "source": [
    "y_result_ES_test = model_ES.predict(X_test_scaled)\n",
    "print(\"Test set Performance\\n\")\n",
    "ES_test = model_performance_regression(X_test_scaled,y_test, y_result_ES_test)\n",
    "ES_test"
   ],
   "metadata": {
    "collapsed": false,
    "ExecuteTime": {
     "end_time": "2024-01-10T07:12:55.166806600Z",
     "start_time": "2024-01-10T07:12:54.974450Z"
    }
   },
   "id": "218a12e6e1e6ed55"
  },
  {
   "cell_type": "markdown",
   "source": [
    "# Model 3 (Dropout with early stop)"
   ],
   "metadata": {
    "collapsed": false
   },
   "id": "19c1a5eac2f7a30a"
  },
  {
   "cell_type": "code",
   "execution_count": 32,
   "outputs": [],
   "source": [
    "backend.clear_session()\n",
    "#Fixing the seed for random number generators so that we can ensure we receive the same output everytime\n",
    "np.random.seed(42)\n",
    "random.seed(42)\n",
    "tf.random.set_seed(42)"
   ],
   "metadata": {
    "collapsed": false,
    "ExecuteTime": {
     "end_time": "2024-01-10T07:12:55.167799400Z",
     "start_time": "2024-01-10T07:12:55.064603300Z"
    }
   },
   "id": "a893741c214b9824"
  },
  {
   "cell_type": "code",
   "execution_count": 33,
   "outputs": [
    {
     "name": "stdout",
     "output_type": "stream",
     "text": [
      "Model: \"sequential\"\n",
      "_________________________________________________________________\n",
      " Layer (type)                Output Shape              Param #   \n",
      "=================================================================\n",
      " dense (Dense)               (None, 64)                1152      \n",
      "                                                                 \n",
      " dropout (Dropout)           (None, 64)                0         \n",
      "                                                                 \n",
      " dense_1 (Dense)             (None, 32)                2080      \n",
      "                                                                 \n",
      " dropout_1 (Dropout)         (None, 32)                0         \n",
      "                                                                 \n",
      " dense_2 (Dense)             (None, 32)                1056      \n",
      "                                                                 \n",
      " dense_3 (Dense)             (None, 1)                 33        \n",
      "                                                                 \n",
      "=================================================================\n",
      "Total params: 4321 (16.88 KB)\n",
      "Trainable params: 4321 (16.88 KB)\n",
      "Non-trainable params: 0 (0.00 Byte)\n",
      "_________________________________________________________________\n"
     ]
    }
   ],
   "source": [
    "model_DO = Sequential()\n",
    "model_DO.add(Dense(64, activation='relu',kernel_initializer='he_uniform', input_shape=(17,)))\n",
    "# Adding Dropout with 20%\n",
    "model_DO.add(Dropout(0.2))\n",
    "model_DO.add(Dense(32, activation='relu',kernel_initializer='he_uniform'))\n",
    "model_DO.add(Dropout(0.2))\n",
    "model_DO.add(Dense(32, activation='relu',kernel_initializer='he_uniform'))\n",
    "model_DO.add(Dense(1, activation='linear'))\n",
    "\n",
    "model_DO.summary()"
   ],
   "metadata": {
    "collapsed": false,
    "ExecuteTime": {
     "end_time": "2024-01-10T07:12:55.255417600Z",
     "start_time": "2024-01-10T07:12:55.076787600Z"
    }
   },
   "id": "e43d82ad8d41af"
  },
  {
   "cell_type": "code",
   "execution_count": 34,
   "outputs": [
    {
     "name": "stdout",
     "output_type": "stream",
     "text": [
      "Epoch 1/200\n",
      "19/19 [==============================] - 1s 11ms/step - loss: 14339.3936 - mae: 104.9241 - val_loss: 14454.0928 - val_mae: 104.1763\n",
      "Epoch 2/200\n",
      "19/19 [==============================] - 0s 4ms/step - loss: 13816.9639 - mae: 102.4638 - val_loss: 13754.0400 - val_mae: 100.8180\n",
      "Epoch 3/200\n",
      "19/19 [==============================] - 0s 4ms/step - loss: 12824.1816 - mae: 97.4145 - val_loss: 12285.1074 - val_mae: 93.6931\n",
      "Epoch 4/200\n",
      "19/19 [==============================] - 0s 4ms/step - loss: 10752.6201 - mae: 87.1283 - val_loss: 9340.7090 - val_mae: 78.7887\n",
      "Epoch 5/200\n",
      "19/19 [==============================] - 0s 4ms/step - loss: 7380.2520 - mae: 68.6424 - val_loss: 5297.9844 - val_mae: 54.6391\n",
      "Epoch 6/200\n",
      "19/19 [==============================] - 0s 4ms/step - loss: 4231.7847 - mae: 49.6223 - val_loss: 3451.1262 - val_mae: 45.7220\n",
      "Epoch 7/200\n",
      "19/19 [==============================] - 0s 4ms/step - loss: 3474.4053 - mae: 47.1661 - val_loss: 3266.3784 - val_mae: 45.2890\n",
      "Epoch 8/200\n",
      "19/19 [==============================] - 0s 4ms/step - loss: 3581.5735 - mae: 46.2498 - val_loss: 3208.0557 - val_mae: 43.8367\n",
      "Epoch 9/200\n",
      "19/19 [==============================] - 0s 4ms/step - loss: 3286.5906 - mae: 45.3813 - val_loss: 3123.9736 - val_mae: 43.8082\n",
      "Epoch 10/200\n",
      "19/19 [==============================] - 0s 4ms/step - loss: 3114.4231 - mae: 43.7649 - val_loss: 3048.9844 - val_mae: 43.8523\n",
      "Epoch 11/200\n",
      "19/19 [==============================] - 0s 4ms/step - loss: 3073.4705 - mae: 43.9913 - val_loss: 2995.1816 - val_mae: 43.6285\n",
      "Epoch 12/200\n",
      "19/19 [==============================] - 0s 4ms/step - loss: 3030.7324 - mae: 44.1373 - val_loss: 2939.5945 - val_mae: 43.7282\n",
      "Epoch 13/200\n",
      "19/19 [==============================] - 0s 4ms/step - loss: 3003.2620 - mae: 43.4034 - val_loss: 2954.6995 - val_mae: 42.7547\n",
      "Epoch 14/200\n",
      "19/19 [==============================] - 0s 4ms/step - loss: 2949.1853 - mae: 43.3868 - val_loss: 2856.1675 - val_mae: 42.9509\n",
      "Epoch 15/200\n",
      "19/19 [==============================] - 0s 4ms/step - loss: 2876.0447 - mae: 42.4623 - val_loss: 2815.1121 - val_mae: 42.5181\n",
      "Epoch 16/200\n",
      "19/19 [==============================] - 0s 4ms/step - loss: 2971.5178 - mae: 43.9588 - val_loss: 2749.6821 - val_mae: 42.0872\n",
      "Epoch 17/200\n",
      "19/19 [==============================] - 0s 4ms/step - loss: 2725.2197 - mae: 41.3473 - val_loss: 2700.3320 - val_mae: 41.3570\n",
      "Epoch 18/200\n",
      "19/19 [==============================] - 0s 4ms/step - loss: 2747.7986 - mae: 41.4533 - val_loss: 2624.6187 - val_mae: 41.2347\n",
      "Epoch 19/200\n",
      "19/19 [==============================] - 0s 4ms/step - loss: 2586.2761 - mae: 41.3277 - val_loss: 2580.3987 - val_mae: 40.7672\n",
      "Epoch 20/200\n",
      "19/19 [==============================] - 0s 4ms/step - loss: 2564.7632 - mae: 40.5302 - val_loss: 2527.1082 - val_mae: 40.3677\n",
      "Epoch 21/200\n",
      "19/19 [==============================] - 0s 4ms/step - loss: 2595.6536 - mae: 40.6874 - val_loss: 2470.3806 - val_mae: 40.0426\n",
      "Epoch 22/200\n",
      "19/19 [==============================] - 0s 4ms/step - loss: 2459.0295 - mae: 39.2893 - val_loss: 2427.7144 - val_mae: 39.5599\n",
      "Epoch 23/200\n",
      "19/19 [==============================] - 0s 4ms/step - loss: 2451.6357 - mae: 39.0590 - val_loss: 2395.1697 - val_mae: 38.8317\n",
      "Epoch 24/200\n",
      "19/19 [==============================] - 0s 4ms/step - loss: 2217.1353 - mae: 37.5315 - val_loss: 2331.6926 - val_mae: 38.5301\n",
      "Epoch 25/200\n",
      "19/19 [==============================] - 0s 4ms/step - loss: 2369.4368 - mae: 38.8145 - val_loss: 2299.9485 - val_mae: 37.6883\n",
      "Epoch 26/200\n",
      "19/19 [==============================] - 0s 4ms/step - loss: 2177.0959 - mae: 36.8622 - val_loss: 2245.1843 - val_mae: 37.3715\n",
      "Epoch 27/200\n",
      "19/19 [==============================] - 0s 4ms/step - loss: 2219.5337 - mae: 37.4021 - val_loss: 2210.4458 - val_mae: 36.9506\n",
      "Epoch 28/200\n",
      "19/19 [==============================] - 0s 4ms/step - loss: 2185.7437 - mae: 37.1413 - val_loss: 2173.3022 - val_mae: 36.4921\n",
      "Epoch 29/200\n",
      "19/19 [==============================] - 0s 4ms/step - loss: 2061.4951 - mae: 35.7933 - val_loss: 2129.8953 - val_mae: 36.0695\n",
      "Epoch 30/200\n",
      "19/19 [==============================] - 0s 4ms/step - loss: 1991.7142 - mae: 34.6755 - val_loss: 2102.2961 - val_mae: 35.5692\n",
      "Epoch 31/200\n",
      "19/19 [==============================] - 0s 4ms/step - loss: 1932.0439 - mae: 35.5038 - val_loss: 2046.2639 - val_mae: 35.0834\n",
      "Epoch 32/200\n",
      "19/19 [==============================] - 0s 4ms/step - loss: 1959.6033 - mae: 34.4766 - val_loss: 2035.0892 - val_mae: 34.8011\n",
      "Epoch 33/200\n",
      "19/19 [==============================] - 0s 4ms/step - loss: 1856.3765 - mae: 33.7105 - val_loss: 2015.3000 - val_mae: 34.5229\n",
      "Epoch 34/200\n",
      "19/19 [==============================] - 0s 4ms/step - loss: 1920.4026 - mae: 34.1315 - val_loss: 1998.5730 - val_mae: 34.2366\n",
      "Epoch 35/200\n",
      "19/19 [==============================] - 0s 4ms/step - loss: 1877.6388 - mae: 33.5737 - val_loss: 1976.8138 - val_mae: 33.8793\n",
      "Epoch 36/200\n",
      "19/19 [==============================] - 0s 4ms/step - loss: 1859.3545 - mae: 33.7011 - val_loss: 1949.0728 - val_mae: 33.4374\n",
      "Epoch 37/200\n",
      "19/19 [==============================] - 0s 4ms/step - loss: 1752.0798 - mae: 32.4247 - val_loss: 1978.9285 - val_mae: 33.6687\n",
      "Epoch 38/200\n",
      "19/19 [==============================] - 0s 4ms/step - loss: 1720.1714 - mae: 32.6016 - val_loss: 1906.1125 - val_mae: 32.6475\n",
      "Epoch 39/200\n",
      "19/19 [==============================] - 0s 4ms/step - loss: 1618.2670 - mae: 31.7918 - val_loss: 1900.5214 - val_mae: 32.4921\n",
      "Epoch 40/200\n",
      "19/19 [==============================] - 0s 4ms/step - loss: 1634.4298 - mae: 30.9831 - val_loss: 1877.1282 - val_mae: 32.1112\n",
      "Epoch 41/200\n",
      "19/19 [==============================] - 0s 4ms/step - loss: 1605.8081 - mae: 30.8509 - val_loss: 1862.7252 - val_mae: 31.6864\n",
      "Epoch 42/200\n",
      "19/19 [==============================] - 0s 4ms/step - loss: 1429.1218 - mae: 29.4520 - val_loss: 1860.7423 - val_mae: 31.5190\n",
      "Epoch 43/200\n",
      "19/19 [==============================] - 0s 4ms/step - loss: 1587.9297 - mae: 29.9392 - val_loss: 1854.4171 - val_mae: 31.1216\n",
      "Epoch 44/200\n",
      "19/19 [==============================] - 0s 4ms/step - loss: 1529.7604 - mae: 29.3131 - val_loss: 1830.9144 - val_mae: 30.8821\n",
      "Epoch 45/200\n",
      "19/19 [==============================] - 0s 4ms/step - loss: 1556.8356 - mae: 29.6689 - val_loss: 1799.7384 - val_mae: 30.4207\n",
      "Epoch 46/200\n",
      "19/19 [==============================] - 0s 4ms/step - loss: 1398.1492 - mae: 28.2227 - val_loss: 1794.0369 - val_mae: 30.6989\n",
      "Epoch 47/200\n",
      "19/19 [==============================] - 0s 4ms/step - loss: 1555.6914 - mae: 29.6221 - val_loss: 1770.2228 - val_mae: 30.3181\n",
      "Epoch 48/200\n",
      "19/19 [==============================] - 0s 4ms/step - loss: 1450.1547 - mae: 28.8183 - val_loss: 1797.1364 - val_mae: 30.6513\n",
      "Epoch 49/200\n",
      "19/19 [==============================] - 0s 4ms/step - loss: 1506.8778 - mae: 29.2963 - val_loss: 1720.4591 - val_mae: 29.3913\n",
      "Epoch 50/200\n",
      "19/19 [==============================] - 0s 4ms/step - loss: 1475.0951 - mae: 28.8428 - val_loss: 1728.7347 - val_mae: 29.7802\n",
      "Epoch 51/200\n",
      "19/19 [==============================] - 0s 4ms/step - loss: 1415.1493 - mae: 27.9356 - val_loss: 1710.4225 - val_mae: 29.3562\n",
      "Epoch 52/200\n",
      "19/19 [==============================] - 0s 4ms/step - loss: 1471.2064 - mae: 28.1570 - val_loss: 1684.7393 - val_mae: 29.1273\n",
      "Epoch 53/200\n",
      "19/19 [==============================] - 0s 4ms/step - loss: 1287.0995 - mae: 27.3486 - val_loss: 1662.0316 - val_mae: 28.3277\n",
      "Epoch 54/200\n",
      "19/19 [==============================] - 0s 4ms/step - loss: 1479.2814 - mae: 28.5196 - val_loss: 1695.7151 - val_mae: 29.3842\n",
      "Epoch 55/200\n",
      "19/19 [==============================] - 0s 4ms/step - loss: 1446.5005 - mae: 28.6789 - val_loss: 1689.1011 - val_mae: 28.7909\n",
      "Epoch 56/200\n",
      "19/19 [==============================] - 0s 4ms/step - loss: 1351.5511 - mae: 27.4613 - val_loss: 1675.2952 - val_mae: 29.0478\n",
      "Epoch 57/200\n",
      "19/19 [==============================] - 0s 5ms/step - loss: 1290.6934 - mae: 27.1733 - val_loss: 1610.7142 - val_mae: 27.9411\n",
      "Epoch 58/200\n",
      "19/19 [==============================] - 0s 4ms/step - loss: 1379.1250 - mae: 27.6204 - val_loss: 1645.6730 - val_mae: 28.7773\n",
      "Epoch 59/200\n",
      "19/19 [==============================] - 0s 4ms/step - loss: 1290.7157 - mae: 27.1290 - val_loss: 1638.6188 - val_mae: 28.3534\n",
      "Epoch 60/200\n",
      "19/19 [==============================] - 0s 4ms/step - loss: 1393.4526 - mae: 28.0332 - val_loss: 1637.5636 - val_mae: 28.4558\n",
      "Epoch 61/200\n",
      "19/19 [==============================] - 0s 4ms/step - loss: 1273.8773 - mae: 25.9789 - val_loss: 1609.1816 - val_mae: 28.3123\n",
      "Epoch 62/200\n",
      "19/19 [==============================] - 0s 4ms/step - loss: 1382.2506 - mae: 27.6430 - val_loss: 1576.2999 - val_mae: 27.7970\n",
      "Epoch 63/200\n",
      "19/19 [==============================] - 0s 4ms/step - loss: 1178.1619 - mae: 26.3016 - val_loss: 1575.0542 - val_mae: 27.7458\n",
      "Epoch 64/200\n",
      "19/19 [==============================] - 0s 4ms/step - loss: 1179.1760 - mae: 25.4593 - val_loss: 1586.5620 - val_mae: 27.8892\n",
      "Epoch 65/200\n",
      "19/19 [==============================] - 0s 4ms/step - loss: 1232.2240 - mae: 26.4822 - val_loss: 1543.5469 - val_mae: 27.1910\n",
      "Epoch 66/200\n",
      "19/19 [==============================] - 0s 4ms/step - loss: 1272.2448 - mae: 26.7371 - val_loss: 1547.4971 - val_mae: 27.3045\n",
      "Epoch 67/200\n",
      "19/19 [==============================] - 0s 4ms/step - loss: 1261.1711 - mae: 25.9570 - val_loss: 1546.8923 - val_mae: 27.4971\n",
      "Epoch 68/200\n",
      "19/19 [==============================] - 0s 4ms/step - loss: 1163.2457 - mae: 25.5077 - val_loss: 1488.5579 - val_mae: 26.6957\n",
      "Epoch 69/200\n",
      "19/19 [==============================] - 0s 4ms/step - loss: 1199.1521 - mae: 25.6807 - val_loss: 1488.7802 - val_mae: 26.6756\n",
      "Epoch 70/200\n",
      "19/19 [==============================] - 0s 4ms/step - loss: 1175.4987 - mae: 25.5268 - val_loss: 1453.3555 - val_mae: 25.9376\n",
      "Epoch 71/200\n",
      "19/19 [==============================] - 0s 4ms/step - loss: 1243.1071 - mae: 26.1976 - val_loss: 1501.8079 - val_mae: 26.9296\n",
      "Epoch 72/200\n",
      "19/19 [==============================] - 0s 4ms/step - loss: 1139.8152 - mae: 25.5774 - val_loss: 1529.5653 - val_mae: 27.1413\n",
      "Epoch 73/200\n",
      "19/19 [==============================] - 0s 4ms/step - loss: 1222.2498 - mae: 26.3996 - val_loss: 1509.5966 - val_mae: 27.0274\n",
      "Epoch 74/200\n",
      "19/19 [==============================] - 0s 4ms/step - loss: 1217.2601 - mae: 26.2914 - val_loss: 1489.3934 - val_mae: 26.5438\n",
      "Epoch 75/200\n",
      "19/19 [==============================] - 0s 4ms/step - loss: 1203.2278 - mae: 25.3436 - val_loss: 1491.0612 - val_mae: 26.8192\n"
     ]
    }
   ],
   "source": [
    "optimizer = Adam(0.001)\n",
    "model_DO.compile(loss='mse',\n",
    "                 optimizer=optimizer,\n",
    "                 metrics=['mae'])\n",
    "# Defining Early stopping\n",
    "es_cb = callbacks.EarlyStopping(monitor='val_loss', min_delta=0.001, patience=5)\n",
    "history_DO = model_DO.fit(X_train_scaled, y_train, validation_data=(X_val_scaled, y_val), epochs=200,callbacks=es_cb)"
   ],
   "metadata": {
    "collapsed": false,
    "ExecuteTime": {
     "end_time": "2024-01-10T07:13:01.779266800Z",
     "start_time": "2024-01-10T07:12:55.158800200Z"
    }
   },
   "id": "795f3f9ac5037d07"
  },
  {
   "cell_type": "code",
   "execution_count": 35,
   "outputs": [
    {
     "data": {
      "text/plain": "<Figure size 640x480 with 1 Axes>",
      "image/png": "[encoded data removed]"
     },
     "metadata": {},
     "output_type": "display_data"
    }
   ],
   "source": [
    "plt.title('Loss / Mean Squared Error')\n",
    "plt.plot(history_DO.history['loss'], label='train')\n",
    "plt.plot(history_DO.history['val_loss'], label='validate')\n",
    "plt.legend()\n",
    "plt.show()"
   ],
   "metadata": {
    "collapsed": false,
    "ExecuteTime": {
     "end_time": "2024-01-10T07:13:01.959095100Z",
     "start_time": "2024-01-10T07:13:01.749611300Z"
    }
   },
   "id": "b293e3d4404d5b48"
  },
  {
   "cell_type": "code",
   "execution_count": 36,
   "outputs": [
    {
     "data": {
      "text/plain": "<Figure size 640x480 with 1 Axes>",
      "image/png": "[encoded data removed]"
     },
     "metadata": {},
     "output_type": "display_data"
    }
   ],
   "source": [
    "plt.title('Loss / Mean Squared Error')\n",
    "plt.plot(history_DO.history['loss'], label='train')\n",
    "plt.plot(history_DO.history['val_loss'], label='validate')\n",
    "plt.yscale('log')  # Set y-axis to logarithmic scale\n",
    "plt.legend()\n",
    "plt.show()"
   ],
   "metadata": {
    "collapsed": false,
    "ExecuteTime": {
     "end_time": "2024-01-10T07:13:02.220837100Z",
     "start_time": "2024-01-10T07:13:01.940168700Z"
    }
   },
   "id": "23c3f1fa487a0277"
  },
  {
   "cell_type": "code",
   "execution_count": 37,
   "outputs": [
    {
     "name": "stdout",
     "output_type": "stream",
     "text": [
      "5/5 [==============================] - 0s 2ms/step\n",
      "Validation Performance\n"
     ]
    },
    {
     "data": {
      "text/plain": "        RMSE        MAE  R-squared  Adj. R-squared\n0  38.614262  26.819207   0.586431        0.531504",
      "text/html": "<div>\n<style scoped>\n    .dataframe tbody tr th:only-of-type {\n        vertical-align: middle;\n    }\n\n    .dataframe tbody tr th {\n        vertical-align: top;\n    }\n\n    .dataframe thead th {\n        text-align: right;\n    }\n</style>\n<table border=\"1\" class=\"dataframe\">\n  <thead>\n    <tr style=\"text-align: right;\">\n      <th></th>\n      <th>RMSE</th>\n      <th>MAE</th>\n      <th>R-squared</th>\n      <th>Adj. R-squared</th>\n    </tr>\n  </thead>\n  <tbody>\n    <tr>\n      <th>0</th>\n      <td>38.614262</td>\n      <td>26.819207</td>\n      <td>0.586431</td>\n      <td>0.531504</td>\n    </tr>\n  </tbody>\n</table>\n</div>"
     },
     "execution_count": 37,
     "metadata": {},
     "output_type": "execute_result"
    }
   ],
   "source": [
    "y_result_DO = model_DO.predict(X_val_scaled)\n",
    "print(\"Validation Performance\\n\")\n",
    "DO_train = model_performance_regression(X_val_scaled,y_val, y_result_DO)\n",
    "DO_train"
   ],
   "metadata": {
    "collapsed": false,
    "ExecuteTime": {
     "end_time": "2024-01-10T07:13:02.420258300Z",
     "start_time": "2024-01-10T07:13:02.216824800Z"
    }
   },
   "id": "3b46e244320361c6"
  },
  {
   "cell_type": "code",
   "execution_count": 38,
   "outputs": [
    {
     "name": "stdout",
     "output_type": "stream",
     "text": [
      "3/3 [==============================] - 0s 1ms/step\n",
      "Test set Performance\n"
     ]
    },
    {
     "data": {
      "text/plain": "        RMSE        MAE  R-squared  Adj. R-squared\n0  37.100662  25.917334   0.410383        0.251281",
      "text/html": "<div>\n<style scoped>\n    .dataframe tbody tr th:only-of-type {\n        vertical-align: middle;\n    }\n\n    .dataframe tbody tr th {\n        vertical-align: top;\n    }\n\n    .dataframe thead th {\n        text-align: right;\n    }\n</style>\n<table border=\"1\" class=\"dataframe\">\n  <thead>\n    <tr style=\"text-align: right;\">\n      <th></th>\n      <th>RMSE</th>\n      <th>MAE</th>\n      <th>R-squared</th>\n      <th>Adj. R-squared</th>\n    </tr>\n  </thead>\n  <tbody>\n    <tr>\n      <th>0</th>\n      <td>37.100662</td>\n      <td>25.917334</td>\n      <td>0.410383</td>\n      <td>0.251281</td>\n    </tr>\n  </tbody>\n</table>\n</div>"
     },
     "execution_count": 38,
     "metadata": {},
     "output_type": "execute_result"
    }
   ],
   "source": [
    "y_result_DO_test = model_DO.predict(X_test_scaled)\n",
    "print(\"Test set Performance\\n\")\n",
    "DO_test = model_performance_regression(X_test_scaled,y_test, y_result_DO_test)\n",
    "DO_test"
   ],
   "metadata": {
    "collapsed": false,
    "ExecuteTime": {
     "end_time": "2024-01-10T07:13:02.549565300Z",
     "start_time": "2024-01-10T07:13:02.358587200Z"
    }
   },
   "id": "9118ac7d5f9525f"
  },
  {
   "cell_type": "markdown",
   "source": [
    "**Try SGD**"
   ],
   "metadata": {
    "collapsed": false
   },
   "id": "1b7177a846af7bf7"
  },
  {
   "cell_type": "code",
   "execution_count": 39,
   "outputs": [],
   "source": [
    "backend.clear_session()\n",
    "#Fixing the seed for random number generators so that we can ensure we receive the same output everytime\n",
    "np.random.seed(42)\n",
    "random.seed(42)\n",
    "tf.random.set_seed(42)"
   ],
   "metadata": {
    "collapsed": false,
    "ExecuteTime": {
     "end_time": "2024-01-10T07:13:02.551606300Z",
     "start_time": "2024-01-10T07:13:02.445138900Z"
    }
   },
   "id": "7d7ef811e52a936"
  },
  {
   "cell_type": "code",
   "execution_count": 40,
   "outputs": [
    {
     "name": "stdout",
     "output_type": "stream",
     "text": [
      "Model: \"sequential\"\n",
      "_________________________________________________________________\n",
      " Layer (type)                Output Shape              Param #   \n",
      "=================================================================\n",
      " dense (Dense)               (None, 64)                1152      \n",
      "                                                                 \n",
      " dropout (Dropout)           (None, 64)                0         \n",
      "                                                                 \n",
      " dense_1 (Dense)             (None, 32)                2080      \n",
      "                                                                 \n",
      " dropout_1 (Dropout)         (None, 32)                0         \n",
      "                                                                 \n",
      " dense_2 (Dense)             (None, 32)                1056      \n",
      "                                                                 \n",
      " dense_3 (Dense)             (None, 1)                 33        \n",
      "                                                                 \n",
      "=================================================================\n",
      "Total params: 4321 (16.88 KB)\n",
      "Trainable params: 4321 (16.88 KB)\n",
      "Non-trainable params: 0 (0.00 Byte)\n",
      "_________________________________________________________________\n"
     ]
    }
   ],
   "source": [
    "model_DO_SGD = Sequential()\n",
    "model_DO_SGD.add(Dense(64, activation='relu',kernel_initializer='he_uniform', input_shape=(17,)))\n",
    "# Adding Dropout with 20%\n",
    "model_DO_SGD.add(Dropout(0.2))\n",
    "model_DO_SGD.add(Dense(32, activation='relu',kernel_initializer='he_uniform'))\n",
    "model_DO_SGD.add(Dropout(0.2))\n",
    "model_DO_SGD.add(Dense(32, activation='relu',kernel_initializer='he_uniform'))\n",
    "model_DO_SGD.add(Dense(1, activation='linear'))\n",
    "\n",
    "model_DO_SGD.summary()"
   ],
   "metadata": {
    "collapsed": false,
    "ExecuteTime": {
     "end_time": "2024-01-10T07:13:02.787011300Z",
     "start_time": "2024-01-10T07:13:02.457721600Z"
    }
   },
   "id": "12a99c8e4b619f3a"
  },
  {
   "cell_type": "code",
   "execution_count": 41,
   "outputs": [
    {
     "name": "stdout",
     "output_type": "stream",
     "text": [
      "Epoch 1/200\n",
      "19/19 [==============================] - 0s 8ms/step - loss: 1160.4003 - mae: 25.6092 - val_loss: 1452.7759 - val_mae: 26.3585\n",
      "Epoch 2/200\n",
      "19/19 [==============================] - 0s 4ms/step - loss: 1074.8278 - mae: 24.4718 - val_loss: 1443.3544 - val_mae: 26.3178\n",
      "Epoch 3/200\n",
      "19/19 [==============================] - 0s 4ms/step - loss: 1100.4583 - mae: 24.4889 - val_loss: 1420.4373 - val_mae: 25.9423\n",
      "Epoch 4/200\n",
      "19/19 [==============================] - 0s 4ms/step - loss: 1104.1162 - mae: 24.8549 - val_loss: 1434.4939 - val_mae: 25.8898\n",
      "Epoch 5/200\n",
      "19/19 [==============================] - 0s 4ms/step - loss: 1142.8333 - mae: 25.1716 - val_loss: 1497.1079 - val_mae: 26.7054\n",
      "Epoch 6/200\n",
      "19/19 [==============================] - 0s 4ms/step - loss: 1053.3141 - mae: 23.5267 - val_loss: 1496.7704 - val_mae: 26.6513\n",
      "Epoch 7/200\n",
      "19/19 [==============================] - 0s 4ms/step - loss: 1111.5381 - mae: 24.6471 - val_loss: 1423.8187 - val_mae: 25.9138\n",
      "Epoch 8/200\n",
      "19/19 [==============================] - 0s 4ms/step - loss: 1082.9327 - mae: 24.5192 - val_loss: 1364.2523 - val_mae: 25.3981\n",
      "Epoch 9/200\n",
      "19/19 [==============================] - 0s 4ms/step - loss: 1080.8811 - mae: 24.5606 - val_loss: 1408.9762 - val_mae: 26.0464\n",
      "Epoch 10/200\n",
      "19/19 [==============================] - 0s 5ms/step - loss: 1140.2943 - mae: 24.5680 - val_loss: 1407.7140 - val_mae: 25.7770\n",
      "Epoch 11/200\n",
      "19/19 [==============================] - 0s 4ms/step - loss: 1099.0330 - mae: 24.3247 - val_loss: 1398.7554 - val_mae: 25.6702\n",
      "Epoch 12/200\n",
      "19/19 [==============================] - 0s 5ms/step - loss: 1047.3171 - mae: 23.8516 - val_loss: 1422.4890 - val_mae: 26.1950\n",
      "Epoch 13/200\n",
      "19/19 [==============================] - 0s 4ms/step - loss: 1077.4059 - mae: 24.6310 - val_loss: 1391.1506 - val_mae: 25.7806\n"
     ]
    }
   ],
   "source": [
    "optimizer = SGD(0.001)\n",
    "model_DO_SGD.compile(loss='mse',\n",
    "                 optimizer=optimizer,\n",
    "                 metrics=['mae'])\n",
    "# Defining Early stopping\n",
    "es_cb = callbacks.EarlyStopping(monitor='val_loss', min_delta=0.001, patience=5)\n",
    "history_DO_SGD = model_DO.fit(X_train_scaled, y_train, validation_data=(X_val_scaled, y_val), epochs=200,callbacks=es_cb)"
   ],
   "metadata": {
    "collapsed": false,
    "ExecuteTime": {
     "end_time": "2024-01-10T07:13:04.014651100Z",
     "start_time": "2024-01-10T07:13:02.534819900Z"
    }
   },
   "id": "c66fe87ba76c8d6"
  },
  {
   "cell_type": "code",
   "execution_count": 42,
   "outputs": [
    {
     "data": {
      "text/plain": "<Figure size 640x480 with 1 Axes>",
      "image/png": "[encoded data removed]"
     },
     "metadata": {},
     "output_type": "display_data"
    }
   ],
   "source": [
    "plt.title('Loss / Mean Squared Error')\n",
    "plt.plot(history_DO_SGD.history['loss'], label='train')\n",
    "plt.plot(history_DO_SGD.history['val_loss'], label='validate')\n",
    "plt.legend()\n",
    "plt.show()"
   ],
   "metadata": {
    "collapsed": false,
    "ExecuteTime": {
     "end_time": "2024-01-10T07:13:04.251549600Z",
     "start_time": "2024-01-10T07:13:03.888470200Z"
    }
   },
   "id": "469c556e825ee129"
  },
  {
   "cell_type": "code",
   "execution_count": 43,
   "outputs": [
    {
     "name": "stdout",
     "output_type": "stream",
     "text": [
      "5/5 [==============================] - 0s 2ms/step\n",
      "Validation Performance\n"
     ]
    },
    {
     "data": {
      "text/plain": "         RMSE         MAE  R-squared  Adj. R-squared\n0  121.781642  105.970157  -3.113544       -3.659874",
      "text/html": "<div>\n<style scoped>\n    .dataframe tbody tr th:only-of-type {\n        vertical-align: middle;\n    }\n\n    .dataframe tbody tr th {\n        vertical-align: top;\n    }\n\n    .dataframe thead th {\n        text-align: right;\n    }\n</style>\n<table border=\"1\" class=\"dataframe\">\n  <thead>\n    <tr style=\"text-align: right;\">\n      <th></th>\n      <th>RMSE</th>\n      <th>MAE</th>\n      <th>R-squared</th>\n      <th>Adj. R-squared</th>\n    </tr>\n  </thead>\n  <tbody>\n    <tr>\n      <th>0</th>\n      <td>121.781642</td>\n      <td>105.970157</td>\n      <td>-3.113544</td>\n      <td>-3.659874</td>\n    </tr>\n  </tbody>\n</table>\n</div>"
     },
     "execution_count": 43,
     "metadata": {},
     "output_type": "execute_result"
    }
   ],
   "source": [
    "y_result_DO_SGD = model_DO_SGD.predict(X_val_scaled)\n",
    "print(\"Validation Performance\\n\")\n",
    "DO_train_SGD = model_performance_regression(X_val_scaled,y_val, y_result_DO_SGD)\n",
    "DO_train_SGD"
   ],
   "metadata": {
    "collapsed": false,
    "ExecuteTime": {
     "end_time": "2024-01-10T07:13:04.388814Z",
     "start_time": "2024-01-10T07:13:04.227138200Z"
    }
   },
   "id": "66e4cae6d3b6bea1"
  },
  {
   "cell_type": "markdown",
   "source": [
    "* Try RMSprop"
   ],
   "metadata": {
    "collapsed": false
   },
   "id": "9198b254b19b9b98"
  },
  {
   "cell_type": "code",
   "execution_count": 44,
   "outputs": [],
   "source": [
    "backend.clear_session()\n",
    "#Fixing the seed for random number generators so that we can ensure we receive the same output everytime\n",
    "np.random.seed(42)\n",
    "random.seed(42)\n",
    "tf.random.set_seed(42)"
   ],
   "metadata": {
    "collapsed": false,
    "ExecuteTime": {
     "end_time": "2024-01-10T07:13:04.388814Z",
     "start_time": "2024-01-10T07:13:04.355895100Z"
    }
   },
   "id": "1ca544e6eae411b9"
  },
  {
   "cell_type": "code",
   "execution_count": 45,
   "outputs": [
    {
     "name": "stdout",
     "output_type": "stream",
     "text": [
      "Model: \"sequential\"\n",
      "_________________________________________________________________\n",
      " Layer (type)                Output Shape              Param #   \n",
      "=================================================================\n",
      " dense (Dense)               (None, 64)                1152      \n",
      "                                                                 \n",
      " dropout (Dropout)           (None, 64)                0         \n",
      "                                                                 \n",
      " dense_1 (Dense)             (None, 32)                2080      \n",
      "                                                                 \n",
      " dropout_1 (Dropout)         (None, 32)                0         \n",
      "                                                                 \n",
      " dense_2 (Dense)             (None, 32)                1056      \n",
      "                                                                 \n",
      " dense_3 (Dense)             (None, 1)                 33        \n",
      "                                                                 \n",
      "=================================================================\n",
      "Total params: 4321 (16.88 KB)\n",
      "Trainable params: 4321 (16.88 KB)\n",
      "Non-trainable params: 0 (0.00 Byte)\n",
      "_________________________________________________________________\n"
     ]
    }
   ],
   "source": [
    "model_DO_RMS = Sequential()\n",
    "model_DO_RMS.add(Dense(64, activation='relu',kernel_initializer='he_uniform', input_shape=(17,)))\n",
    "# Adding Dropout with 20%\n",
    "model_DO_RMS.add(Dropout(0.2))\n",
    "model_DO_RMS.add(Dense(32, activation='relu',kernel_initializer='he_uniform'))\n",
    "model_DO_RMS.add(Dropout(0.2))\n",
    "model_DO_RMS.add(Dense(32, activation='relu',kernel_initializer='he_uniform'))\n",
    "model_DO_RMS.add(Dense(1, activation='linear'))\n",
    "\n",
    "model_DO_RMS.summary()"
   ],
   "metadata": {
    "collapsed": false,
    "ExecuteTime": {
     "end_time": "2024-01-10T07:13:04.542195200Z",
     "start_time": "2024-01-10T07:13:04.367289200Z"
    }
   },
   "id": "88592403b35fd236"
  },
  {
   "cell_type": "code",
   "execution_count": 46,
   "outputs": [
    {
     "name": "stdout",
     "output_type": "stream",
     "text": [
      "Epoch 1/200\n",
      "19/19 [==============================] - 1s 11ms/step - loss: 14159.7793 - mae: 104.0584 - val_loss: 14062.5820 - val_mae: 102.3234\n",
      "Epoch 2/200\n",
      "19/19 [==============================] - 0s 4ms/step - loss: 13219.8604 - mae: 99.5524 - val_loss: 12904.7344 - val_mae: 96.5895\n",
      "Epoch 3/200\n",
      "19/19 [==============================] - 0s 4ms/step - loss: 11745.0430 - mae: 91.9850 - val_loss: 10965.3271 - val_mae: 87.2228\n",
      "Epoch 4/200\n",
      "19/19 [==============================] - 0s 4ms/step - loss: 9478.0254 - mae: 80.3574 - val_loss: 8338.7246 - val_mae: 73.4321\n",
      "Epoch 5/200\n",
      "19/19 [==============================] - 0s 4ms/step - loss: 6884.4316 - mae: 65.7343 - val_loss: 5559.1836 - val_mae: 56.3887\n",
      "Epoch 6/200\n",
      "19/19 [==============================] - 0s 4ms/step - loss: 4619.6655 - mae: 51.4303 - val_loss: 3829.0774 - val_mae: 45.4048\n",
      "Epoch 7/200\n",
      "19/19 [==============================] - 0s 4ms/step - loss: 3560.0322 - mae: 45.5591 - val_loss: 3365.7256 - val_mae: 44.4330\n",
      "Epoch 8/200\n",
      "19/19 [==============================] - 0s 4ms/step - loss: 3655.5850 - mae: 46.4064 - val_loss: 3242.4805 - val_mae: 44.3283\n",
      "Epoch 9/200\n",
      "19/19 [==============================] - 0s 4ms/step - loss: 3356.2007 - mae: 45.5598 - val_loss: 3209.6013 - val_mae: 43.6297\n",
      "Epoch 10/200\n",
      "19/19 [==============================] - 0s 4ms/step - loss: 3179.9854 - mae: 44.1584 - val_loss: 3116.2795 - val_mae: 43.7913\n",
      "Epoch 11/200\n",
      "19/19 [==============================] - 0s 4ms/step - loss: 3154.8171 - mae: 44.2744 - val_loss: 3023.2207 - val_mae: 45.0353\n",
      "Epoch 12/200\n",
      "19/19 [==============================] - 0s 5ms/step - loss: 3093.7432 - mae: 44.5653 - val_loss: 3087.8438 - val_mae: 43.0900\n",
      "Epoch 13/200\n",
      "19/19 [==============================] - 0s 4ms/step - loss: 3091.0208 - mae: 44.0268 - val_loss: 2988.9973 - val_mae: 43.5748\n",
      "Epoch 14/200\n",
      "19/19 [==============================] - 0s 4ms/step - loss: 3048.9365 - mae: 44.0039 - val_loss: 3002.6348 - val_mae: 42.7771\n",
      "Epoch 15/200\n",
      "19/19 [==============================] - 0s 4ms/step - loss: 2988.8240 - mae: 43.2380 - val_loss: 2915.1296 - val_mae: 43.0320\n",
      "Epoch 16/200\n",
      "19/19 [==============================] - 0s 4ms/step - loss: 3077.3159 - mae: 44.5151 - val_loss: 2914.4326 - val_mae: 42.1711\n",
      "Epoch 17/200\n",
      "19/19 [==============================] - 0s 4ms/step - loss: 2859.1426 - mae: 42.3113 - val_loss: 2837.0386 - val_mae: 42.2643\n",
      "Epoch 18/200\n",
      "19/19 [==============================] - 0s 4ms/step - loss: 2892.5308 - mae: 42.3061 - val_loss: 2760.7227 - val_mae: 43.1798\n",
      "Epoch 19/200\n",
      "19/19 [==============================] - 0s 4ms/step - loss: 2731.9324 - mae: 42.1604 - val_loss: 2744.5637 - val_mae: 41.8741\n",
      "Epoch 20/200\n",
      "19/19 [==============================] - 0s 4ms/step - loss: 2751.3105 - mae: 42.0114 - val_loss: 2704.5173 - val_mae: 41.7831\n",
      "Epoch 21/200\n",
      "19/19 [==============================] - 0s 4ms/step - loss: 2793.8447 - mae: 41.8716 - val_loss: 2654.1584 - val_mae: 41.5258\n",
      "Epoch 22/200\n",
      "19/19 [==============================] - 0s 4ms/step - loss: 2656.3838 - mae: 40.7898 - val_loss: 2674.7261 - val_mae: 40.6948\n",
      "Epoch 23/200\n",
      "19/19 [==============================] - 0s 4ms/step - loss: 2677.1335 - mae: 40.8681 - val_loss: 2700.2710 - val_mae: 40.2601\n",
      "Epoch 24/200\n",
      "19/19 [==============================] - 0s 4ms/step - loss: 2455.8091 - mae: 39.4732 - val_loss: 2581.2378 - val_mae: 40.1792\n",
      "Epoch 25/200\n",
      "19/19 [==============================] - 0s 5ms/step - loss: 2574.9343 - mae: 40.1765 - val_loss: 2506.4172 - val_mae: 39.9453\n",
      "Epoch 26/200\n",
      "19/19 [==============================] - 0s 4ms/step - loss: 2432.6765 - mae: 39.1660 - val_loss: 2472.9504 - val_mae: 39.6585\n",
      "Epoch 27/200\n",
      "19/19 [==============================] - 0s 4ms/step - loss: 2472.4700 - mae: 39.4481 - val_loss: 2410.8389 - val_mae: 39.3970\n",
      "Epoch 28/200\n",
      "19/19 [==============================] - 0s 4ms/step - loss: 2434.4817 - mae: 39.2981 - val_loss: 2381.8120 - val_mae: 38.8879\n",
      "Epoch 29/200\n",
      "19/19 [==============================] - 0s 4ms/step - loss: 2349.0281 - mae: 38.3584 - val_loss: 2388.8899 - val_mae: 38.2332\n",
      "Epoch 30/200\n",
      "19/19 [==============================] - 0s 4ms/step - loss: 2269.4531 - mae: 37.4383 - val_loss: 2301.3376 - val_mae: 38.2471\n",
      "Epoch 31/200\n",
      "19/19 [==============================] - 0s 4ms/step - loss: 2210.0464 - mae: 37.9733 - val_loss: 2270.2576 - val_mae: 37.2549\n",
      "Epoch 32/200\n",
      "19/19 [==============================] - 0s 4ms/step - loss: 2215.9285 - mae: 36.8795 - val_loss: 2232.9253 - val_mae: 36.8274\n",
      "Epoch 33/200\n",
      "19/19 [==============================] - 0s 4ms/step - loss: 2126.0874 - mae: 36.4820 - val_loss: 2351.1140 - val_mae: 37.0606\n",
      "Epoch 34/200\n",
      "19/19 [==============================] - 0s 4ms/step - loss: 2197.1562 - mae: 36.9914 - val_loss: 2179.2954 - val_mae: 35.9673\n",
      "Epoch 35/200\n",
      "19/19 [==============================] - 0s 4ms/step - loss: 2123.6946 - mae: 35.9818 - val_loss: 2148.2573 - val_mae: 35.6981\n",
      "Epoch 36/200\n",
      "19/19 [==============================] - 0s 4ms/step - loss: 2118.8943 - mae: 36.3352 - val_loss: 2161.1379 - val_mae: 35.6129\n",
      "Epoch 37/200\n",
      "19/19 [==============================] - 0s 4ms/step - loss: 2019.1000 - mae: 35.3744 - val_loss: 2092.7654 - val_mae: 35.1070\n",
      "Epoch 38/200\n",
      "19/19 [==============================] - 0s 4ms/step - loss: 1999.8593 - mae: 35.4701 - val_loss: 2056.2976 - val_mae: 34.8038\n",
      "Epoch 39/200\n",
      "19/19 [==============================] - 0s 4ms/step - loss: 1886.1965 - mae: 34.6305 - val_loss: 2131.4062 - val_mae: 35.1237\n",
      "Epoch 40/200\n",
      "19/19 [==============================] - 0s 4ms/step - loss: 1900.0938 - mae: 34.0309 - val_loss: 2039.3179 - val_mae: 34.3487\n",
      "Epoch 41/200\n",
      "19/19 [==============================] - 0s 4ms/step - loss: 1828.1853 - mae: 33.5480 - val_loss: 1986.6549 - val_mae: 33.7466\n",
      "Epoch 42/200\n",
      "19/19 [==============================] - 0s 4ms/step - loss: 1667.9929 - mae: 32.3754 - val_loss: 1971.9452 - val_mae: 33.5453\n",
      "Epoch 43/200\n",
      "19/19 [==============================] - 0s 4ms/step - loss: 1792.1473 - mae: 32.3302 - val_loss: 2014.7367 - val_mae: 33.8180\n",
      "Epoch 44/200\n",
      "19/19 [==============================] - 0s 4ms/step - loss: 1745.7793 - mae: 32.0258 - val_loss: 1937.7444 - val_mae: 32.9678\n",
      "Epoch 45/200\n",
      "19/19 [==============================] - 0s 4ms/step - loss: 1759.9352 - mae: 32.2183 - val_loss: 1917.2731 - val_mae: 32.7973\n",
      "Epoch 46/200\n",
      "19/19 [==============================] - 0s 4ms/step - loss: 1606.4675 - mae: 30.8062 - val_loss: 1879.7461 - val_mae: 32.0185\n",
      "Epoch 47/200\n",
      "19/19 [==============================] - 0s 4ms/step - loss: 1751.7596 - mae: 31.5457 - val_loss: 1862.5707 - val_mae: 31.8348\n",
      "Epoch 48/200\n",
      "19/19 [==============================] - 0s 4ms/step - loss: 1643.5427 - mae: 31.2052 - val_loss: 1961.7162 - val_mae: 32.9510\n",
      "Epoch 49/200\n",
      "19/19 [==============================] - 0s 4ms/step - loss: 1691.8962 - mae: 31.6486 - val_loss: 1846.3142 - val_mae: 31.5842\n",
      "Epoch 50/200\n",
      "19/19 [==============================] - 0s 4ms/step - loss: 1657.3947 - mae: 31.1392 - val_loss: 1855.1338 - val_mae: 31.7330\n",
      "Epoch 51/200\n",
      "19/19 [==============================] - 0s 4ms/step - loss: 1581.6375 - mae: 29.9669 - val_loss: 1790.6633 - val_mae: 30.5675\n",
      "Epoch 52/200\n",
      "19/19 [==============================] - 0s 4ms/step - loss: 1632.6675 - mae: 30.0744 - val_loss: 1805.3951 - val_mae: 30.7416\n",
      "Epoch 53/200\n",
      "19/19 [==============================] - 0s 4ms/step - loss: 1423.6642 - mae: 28.9047 - val_loss: 1775.1313 - val_mae: 29.9889\n",
      "Epoch 54/200\n",
      "19/19 [==============================] - 0s 4ms/step - loss: 1616.3231 - mae: 30.2279 - val_loss: 1784.6034 - val_mae: 30.5260\n",
      "Epoch 55/200\n",
      "19/19 [==============================] - 0s 4ms/step - loss: 1559.7601 - mae: 29.9574 - val_loss: 1752.5100 - val_mae: 29.9540\n",
      "Epoch 56/200\n",
      "19/19 [==============================] - 0s 4ms/step - loss: 1464.7661 - mae: 29.1433 - val_loss: 1741.9933 - val_mae: 29.8643\n",
      "Epoch 57/200\n",
      "19/19 [==============================] - 0s 4ms/step - loss: 1412.3461 - mae: 28.6790 - val_loss: 1706.7854 - val_mae: 29.0321\n",
      "Epoch 58/200\n",
      "19/19 [==============================] - 0s 4ms/step - loss: 1500.2520 - mae: 28.8682 - val_loss: 1718.2000 - val_mae: 28.6842\n",
      "Epoch 59/200\n",
      "19/19 [==============================] - 0s 4ms/step - loss: 1427.4622 - mae: 28.7094 - val_loss: 1706.9122 - val_mae: 28.6026\n",
      "Epoch 60/200\n",
      "19/19 [==============================] - 0s 4ms/step - loss: 1546.0646 - mae: 29.7387 - val_loss: 1725.7654 - val_mae: 29.4879\n",
      "Epoch 61/200\n",
      "19/19 [==============================] - 0s 4ms/step - loss: 1396.2166 - mae: 27.3639 - val_loss: 1684.6340 - val_mae: 29.1949\n",
      "Epoch 62/200\n",
      "19/19 [==============================] - 0s 4ms/step - loss: 1495.0453 - mae: 28.8001 - val_loss: 1670.3312 - val_mae: 28.2829\n",
      "Epoch 63/200\n",
      "19/19 [==============================] - 0s 4ms/step - loss: 1271.2100 - mae: 27.4334 - val_loss: 1671.2251 - val_mae: 28.8078\n",
      "Epoch 64/200\n",
      "19/19 [==============================] - 0s 4ms/step - loss: 1321.0771 - mae: 26.9786 - val_loss: 1687.0590 - val_mae: 29.0535\n",
      "Epoch 65/200\n",
      "19/19 [==============================] - 0s 4ms/step - loss: 1348.9113 - mae: 27.7787 - val_loss: 1629.9122 - val_mae: 28.0414\n",
      "Epoch 66/200\n",
      "19/19 [==============================] - 0s 4ms/step - loss: 1409.4800 - mae: 28.3459 - val_loss: 1607.4397 - val_mae: 27.6627\n",
      "Epoch 67/200\n",
      "19/19 [==============================] - 0s 4ms/step - loss: 1369.0284 - mae: 27.2362 - val_loss: 1650.9977 - val_mae: 28.8332\n",
      "Epoch 68/200\n",
      "19/19 [==============================] - 0s 5ms/step - loss: 1268.0472 - mae: 26.7040 - val_loss: 1603.7864 - val_mae: 27.3962\n",
      "Epoch 69/200\n",
      "19/19 [==============================] - 0s 4ms/step - loss: 1303.5891 - mae: 27.0348 - val_loss: 1616.3264 - val_mae: 27.3868\n",
      "Epoch 70/200\n",
      "19/19 [==============================] - 0s 4ms/step - loss: 1343.5713 - mae: 27.2354 - val_loss: 1579.1177 - val_mae: 26.4865\n",
      "Epoch 71/200\n",
      "19/19 [==============================] - 0s 4ms/step - loss: 1332.5973 - mae: 27.0607 - val_loss: 1585.5540 - val_mae: 27.4777\n",
      "Epoch 72/200\n",
      "19/19 [==============================] - 0s 4ms/step - loss: 1250.4152 - mae: 26.9363 - val_loss: 1608.1083 - val_mae: 28.2684\n",
      "Epoch 73/200\n",
      "19/19 [==============================] - 0s 4ms/step - loss: 1314.3241 - mae: 27.1791 - val_loss: 1608.1796 - val_mae: 27.4162\n",
      "Epoch 74/200\n",
      "19/19 [==============================] - 0s 4ms/step - loss: 1305.8380 - mae: 27.0041 - val_loss: 1560.9432 - val_mae: 26.8341\n",
      "Epoch 75/200\n",
      "19/19 [==============================] - 0s 4ms/step - loss: 1312.1611 - mae: 26.7547 - val_loss: 1645.5781 - val_mae: 28.6206\n",
      "Epoch 76/200\n",
      "19/19 [==============================] - 0s 4ms/step - loss: 1270.4609 - mae: 26.6226 - val_loss: 1553.0254 - val_mae: 26.7551\n",
      "Epoch 77/200\n",
      "19/19 [==============================] - 0s 4ms/step - loss: 1190.2699 - mae: 25.4451 - val_loss: 1530.7683 - val_mae: 26.6741\n",
      "Epoch 78/200\n",
      "19/19 [==============================] - 0s 4ms/step - loss: 1293.9004 - mae: 26.5353 - val_loss: 1559.6390 - val_mae: 27.3192\n",
      "Epoch 79/200\n",
      "19/19 [==============================] - 0s 4ms/step - loss: 1174.6881 - mae: 25.1225 - val_loss: 1571.6726 - val_mae: 27.4280\n",
      "Epoch 80/200\n",
      "19/19 [==============================] - 0s 4ms/step - loss: 1249.6500 - mae: 26.3286 - val_loss: 1542.6965 - val_mae: 27.1707\n",
      "Epoch 81/200\n",
      "19/19 [==============================] - 0s 4ms/step - loss: 1120.4662 - mae: 25.1123 - val_loss: 1506.5125 - val_mae: 26.9569\n",
      "Epoch 82/200\n",
      "19/19 [==============================] - 0s 4ms/step - loss: 1225.4600 - mae: 25.3128 - val_loss: 1535.8418 - val_mae: 27.2217\n",
      "Epoch 83/200\n",
      "19/19 [==============================] - 0s 4ms/step - loss: 1295.0302 - mae: 26.5237 - val_loss: 1522.4728 - val_mae: 26.9451\n",
      "Epoch 84/200\n",
      "19/19 [==============================] - 0s 4ms/step - loss: 1178.8451 - mae: 25.7217 - val_loss: 1523.0850 - val_mae: 26.7639\n",
      "Epoch 85/200\n",
      "19/19 [==============================] - 0s 4ms/step - loss: 1204.9575 - mae: 26.0482 - val_loss: 1506.4048 - val_mae: 26.9792\n",
      "Epoch 86/200\n",
      "19/19 [==============================] - 0s 4ms/step - loss: 1180.7344 - mae: 25.6396 - val_loss: 1504.4824 - val_mae: 26.9698\n",
      "Epoch 87/200\n",
      "19/19 [==============================] - 0s 4ms/step - loss: 1119.5549 - mae: 25.3682 - val_loss: 1471.2817 - val_mae: 25.7869\n",
      "Epoch 88/200\n",
      "19/19 [==============================] - 0s 4ms/step - loss: 1060.4862 - mae: 24.0378 - val_loss: 1418.0150 - val_mae: 25.7745\n",
      "Epoch 89/200\n",
      "19/19 [==============================] - 0s 4ms/step - loss: 1170.7639 - mae: 25.6359 - val_loss: 1456.6781 - val_mae: 25.6021\n",
      "Epoch 90/200\n",
      "19/19 [==============================] - 0s 4ms/step - loss: 1080.2268 - mae: 24.4705 - val_loss: 1455.8218 - val_mae: 25.9027\n",
      "Epoch 91/200\n",
      "19/19 [==============================] - 0s 4ms/step - loss: 1179.2975 - mae: 25.4196 - val_loss: 1552.9076 - val_mae: 27.9153\n",
      "Epoch 92/200\n",
      "19/19 [==============================] - 0s 4ms/step - loss: 1089.6635 - mae: 25.0145 - val_loss: 1399.9603 - val_mae: 25.2716\n",
      "Epoch 93/200\n",
      "19/19 [==============================] - 0s 4ms/step - loss: 1168.0476 - mae: 25.4296 - val_loss: 1423.0475 - val_mae: 25.6142\n",
      "Epoch 94/200\n",
      "19/19 [==============================] - 0s 4ms/step - loss: 1184.7418 - mae: 25.1345 - val_loss: 1450.9202 - val_mae: 25.4990\n",
      "Epoch 95/200\n",
      "19/19 [==============================] - 0s 4ms/step - loss: 1171.7290 - mae: 25.0695 - val_loss: 1502.8030 - val_mae: 25.6915\n",
      "Epoch 96/200\n",
      "19/19 [==============================] - 0s 4ms/step - loss: 1161.4399 - mae: 25.2445 - val_loss: 1441.5515 - val_mae: 25.9912\n",
      "Epoch 97/200\n",
      "19/19 [==============================] - 0s 4ms/step - loss: 1107.8486 - mae: 24.8139 - val_loss: 1443.8357 - val_mae: 25.5229\n"
     ]
    }
   ],
   "source": [
    "optimizer = RMSprop(0.001)\n",
    "model_DO_RMS.compile(loss='mse',\n",
    "                     optimizer=optimizer,\n",
    "                     metrics=['mae'])\n",
    "# Defining Early stopping\n",
    "es_cb = callbacks.EarlyStopping(monitor='val_loss', min_delta=0.001, patience=5)\n",
    "history_DO_RMS = model_DO_RMS.fit(X_train_scaled, y_train, validation_data=(X_val_scaled, y_val), epochs=200,callbacks=es_cb)"
   ],
   "metadata": {
    "collapsed": false,
    "ExecuteTime": {
     "end_time": "2024-01-10T07:13:12.760694400Z",
     "start_time": "2024-01-10T07:13:04.444393300Z"
    }
   },
   "id": "6114cb8a822c8ead"
  },
  {
   "cell_type": "code",
   "execution_count": 47,
   "outputs": [
    {
     "data": {
      "text/plain": "<Figure size 640x480 with 1 Axes>",
      "image/png": "[encoded data removed]"
     },
     "metadata": {},
     "output_type": "display_data"
    }
   ],
   "source": [
    "plt.title('Loss / Mean Squared Error')\n",
    "plt.plot(history_DO_RMS.history['loss'], label='train')\n",
    "plt.plot(history_DO_RMS.history['val_loss'], label='validate')\n",
    "plt.legend()\n",
    "plt.show()"
   ],
   "metadata": {
    "collapsed": false,
    "ExecuteTime": {
     "end_time": "2024-01-10T07:13:12.896554500Z",
     "start_time": "2024-01-10T07:13:12.629681500Z"
    }
   },
   "id": "e3aebc35eda5f537"
  },
  {
   "cell_type": "code",
   "execution_count": 48,
   "outputs": [
    {
     "name": "stdout",
     "output_type": "stream",
     "text": [
      "5/5 [==============================] - 0s 2ms/step\n",
      "Validation Performance\n"
     ]
    },
    {
     "data": {
      "text/plain": "        RMSE        MAE  R-squared  Adj. R-squared\n0  37.997838  25.522919    0.59953        0.546342",
      "text/html": "<div>\n<style scoped>\n    .dataframe tbody tr th:only-of-type {\n        vertical-align: middle;\n    }\n\n    .dataframe tbody tr th {\n        vertical-align: top;\n    }\n\n    .dataframe thead th {\n        text-align: right;\n    }\n</style>\n<table border=\"1\" class=\"dataframe\">\n  <thead>\n    <tr style=\"text-align: right;\">\n      <th></th>\n      <th>RMSE</th>\n      <th>MAE</th>\n      <th>R-squared</th>\n      <th>Adj. R-squared</th>\n    </tr>\n  </thead>\n  <tbody>\n    <tr>\n      <th>0</th>\n      <td>37.997838</td>\n      <td>25.522919</td>\n      <td>0.59953</td>\n      <td>0.546342</td>\n    </tr>\n  </tbody>\n</table>\n</div>"
     },
     "execution_count": 48,
     "metadata": {},
     "output_type": "execute_result"
    }
   ],
   "source": [
    "y_result_DO_RMS = model_DO_RMS.predict(X_val_scaled)\n",
    "print(\"Validation Performance\\n\")\n",
    "DO_train_RMS = model_performance_regression(X_val_scaled,y_val, y_result_DO_RMS)\n",
    "DO_train_RMS"
   ],
   "metadata": {
    "collapsed": false,
    "ExecuteTime": {
     "end_time": "2024-01-10T07:13:13.008868700Z",
     "start_time": "2024-01-10T07:13:12.805742Z"
    }
   },
   "id": "9fb238c9f0459b6d"
  },
  {
   "cell_type": "code",
   "execution_count": 49,
   "outputs": [
    {
     "name": "stdout",
     "output_type": "stream",
     "text": [
      "3/3 [==============================] - 0s 1ms/step\n",
      "Test set Performance\n"
     ]
    },
    {
     "data": {
      "text/plain": "        RMSE      MAE  R-squared  Adj. R-squared\n0  42.318576  29.8999   0.232871        0.130987",
      "text/html": "<div>\n<style scoped>\n    .dataframe tbody tr th:only-of-type {\n        vertical-align: middle;\n    }\n\n    .dataframe tbody tr th {\n        vertical-align: top;\n    }\n\n    .dataframe thead th {\n        text-align: right;\n    }\n</style>\n<table border=\"1\" class=\"dataframe\">\n  <thead>\n    <tr style=\"text-align: right;\">\n      <th></th>\n      <th>RMSE</th>\n      <th>MAE</th>\n      <th>R-squared</th>\n      <th>Adj. R-squared</th>\n    </tr>\n  </thead>\n  <tbody>\n    <tr>\n      <th>0</th>\n      <td>42.318576</td>\n      <td>29.8999</td>\n      <td>0.232871</td>\n      <td>0.130987</td>\n    </tr>\n  </tbody>\n</table>\n</div>"
     },
     "execution_count": 49,
     "metadata": {},
     "output_type": "execute_result"
    }
   ],
   "source": [
    "y_result_DO_RMS_test = model_DO_RMS.predict(X_test_scaled)\n",
    "print(\"Test set Performance\\n\")\n",
    "DO_test_RMS = model_performance_regression(X_val_scaled,y_test, y_result_DO_RMS_test)\n",
    "DO_test_RMS"
   ],
   "metadata": {
    "collapsed": false,
    "ExecuteTime": {
     "end_time": "2024-01-10T07:13:13.139555200Z",
     "start_time": "2024-01-10T07:13:12.936378500Z"
    }
   },
   "id": "b2c1b424db22cec3"
  },
  {
   "cell_type": "markdown",
   "source": [
    "# Model 4 (Batch Normalization)"
   ],
   "metadata": {
    "collapsed": false
   },
   "id": "9b9125d327d289bf"
  },
  {
   "cell_type": "code",
   "execution_count": 50,
   "outputs": [],
   "source": [
    "backend.clear_session()\n",
    "#Fixing the seed for random number generators so that we can ensure we receive the same output everytime\n",
    "np.random.seed(42)\n",
    "random.seed(42)\n",
    "tf.random.set_seed(42)"
   ],
   "metadata": {
    "collapsed": false,
    "ExecuteTime": {
     "end_time": "2024-01-10T07:13:13.142087700Z",
     "start_time": "2024-01-10T07:13:13.015511900Z"
    }
   },
   "id": "4d3a87742031e2f6"
  },
  {
   "cell_type": "code",
   "execution_count": 51,
   "outputs": [
    {
     "name": "stdout",
     "output_type": "stream",
     "text": [
      "Model: \"sequential\"\n",
      "_________________________________________________________________\n",
      " Layer (type)                Output Shape              Param #   \n",
      "=================================================================\n",
      " dense (Dense)               (None, 64)                1152      \n",
      "                                                                 \n",
      " batch_normalization (Batch  (None, 64)                256       \n",
      " Normalization)                                                  \n",
      "                                                                 \n",
      " dense_1 (Dense)             (None, 32)                2080      \n",
      "                                                                 \n",
      " batch_normalization_1 (Bat  (None, 32)                128       \n",
      " chNormalization)                                                \n",
      "                                                                 \n",
      " dense_2 (Dense)             (None, 32)                1056      \n",
      "                                                                 \n",
      " batch_normalization_2 (Bat  (None, 32)                128       \n",
      " chNormalization)                                                \n",
      "                                                                 \n",
      " dense_3 (Dense)             (None, 1)                 33        \n",
      "                                                                 \n",
      "=================================================================\n",
      "Total params: 4833 (18.88 KB)\n",
      "Trainable params: 4577 (17.88 KB)\n",
      "Non-trainable params: 256 (1.00 KB)\n",
      "_________________________________________________________________\n"
     ]
    }
   ],
   "source": [
    "model_BN = Sequential()\n",
    "model_BN.add(Dense(64, activation='relu', kernel_initializer='he_uniform', input_shape=(17,)))\n",
    "model_BN.add(BatchNormalization())\n",
    "model_BN.add(Dense(32, activation='relu', kernel_initializer='he_uniform'))\n",
    "model_BN.add(BatchNormalization())\n",
    "model_BN.add(Dense(32, activation='relu', kernel_initializer='he_uniform'))\n",
    "model_BN.add(BatchNormalization())\n",
    "model_BN.add(Dense(1, activation='linear'))\n",
    "\n",
    "model_BN.summary()"
   ],
   "metadata": {
    "collapsed": false,
    "ExecuteTime": {
     "end_time": "2024-01-10T07:13:13.350008800Z",
     "start_time": "2024-01-10T07:13:13.025178800Z"
    }
   },
   "id": "a67d5c3387e65078"
  },
  {
   "cell_type": "code",
   "execution_count": 52,
   "outputs": [
    {
     "name": "stdout",
     "output_type": "stream",
     "text": [
      "Epoch 1/200\n",
      "19/19 [==============================] - 1s 12ms/step - loss: 14518.4844 - mae: 105.9195 - val_loss: 14806.3906 - val_mae: 105.8915\n",
      "Epoch 2/200\n",
      "19/19 [==============================] - 0s 4ms/step - loss: 14388.0771 - mae: 105.7721 - val_loss: 14774.9688 - val_mae: 105.7992\n",
      "Epoch 3/200\n",
      "19/19 [==============================] - 0s 5ms/step - loss: 14257.3271 - mae: 105.6212 - val_loss: 14731.8496 - val_mae: 105.6928\n",
      "Epoch 4/200\n",
      "19/19 [==============================] - 0s 4ms/step - loss: 14135.5654 - mae: 105.4389 - val_loss: 14669.6699 - val_mae: 105.5345\n",
      "Epoch 5/200\n",
      "19/19 [==============================] - 0s 5ms/step - loss: 14007.0352 - mae: 105.2451 - val_loss: 14603.2842 - val_mae: 105.3951\n",
      "Epoch 6/200\n",
      "19/19 [==============================] - 0s 4ms/step - loss: 13858.1807 - mae: 104.9592 - val_loss: 14508.1680 - val_mae: 105.1734\n",
      "Epoch 7/200\n",
      "19/19 [==============================] - 0s 4ms/step - loss: 13699.5049 - mae: 104.6744 - val_loss: 14419.8428 - val_mae: 105.0042\n",
      "Epoch 8/200\n",
      "19/19 [==============================] - 0s 5ms/step - loss: 13542.7305 - mae: 104.3089 - val_loss: 14334.8428 - val_mae: 104.8853\n",
      "Epoch 9/200\n",
      "19/19 [==============================] - 0s 5ms/step - loss: 13365.7275 - mae: 103.8980 - val_loss: 14191.3506 - val_mae: 104.5460\n",
      "Epoch 10/200\n",
      "19/19 [==============================] - 0s 4ms/step - loss: 13153.5615 - mae: 103.4371 - val_loss: 14114.4023 - val_mae: 104.4952\n",
      "Epoch 11/200\n",
      "19/19 [==============================] - 0s 5ms/step - loss: 12938.2051 - mae: 102.8777 - val_loss: 14012.6387 - val_mae: 104.4411\n",
      "Epoch 12/200\n",
      "19/19 [==============================] - 0s 5ms/step - loss: 12716.2314 - mae: 102.3151 - val_loss: 13908.0596 - val_mae: 104.2900\n",
      "Epoch 13/200\n",
      "19/19 [==============================] - 0s 4ms/step - loss: 12484.1289 - mae: 101.6434 - val_loss: 13710.8047 - val_mae: 103.7743\n",
      "Epoch 14/200\n",
      "19/19 [==============================] - 0s 5ms/step - loss: 12255.4746 - mae: 101.0315 - val_loss: 13516.5244 - val_mae: 103.3272\n",
      "Epoch 15/200\n",
      "19/19 [==============================] - 0s 5ms/step - loss: 11946.2207 - mae: 100.2671 - val_loss: 13315.0156 - val_mae: 102.8771\n",
      "Epoch 16/200\n",
      "19/19 [==============================] - 0s 4ms/step - loss: 11680.4492 - mae: 99.5185 - val_loss: 13227.3613 - val_mae: 102.9547\n",
      "Epoch 17/200\n",
      "19/19 [==============================] - 0s 4ms/step - loss: 11411.5674 - mae: 98.6515 - val_loss: 12939.6748 - val_mae: 102.3166\n",
      "Epoch 18/200\n",
      "19/19 [==============================] - 0s 4ms/step - loss: 11157.8750 - mae: 97.8132 - val_loss: 12656.3066 - val_mae: 101.6771\n",
      "Epoch 19/200\n",
      "19/19 [==============================] - 0s 5ms/step - loss: 10884.3916 - mae: 96.8905 - val_loss: 12429.8301 - val_mae: 100.9430\n",
      "Epoch 20/200\n",
      "19/19 [==============================] - 0s 4ms/step - loss: 10572.5400 - mae: 95.9475 - val_loss: 12330.2842 - val_mae: 101.0489\n",
      "Epoch 21/200\n",
      "19/19 [==============================] - 0s 5ms/step - loss: 10365.1953 - mae: 94.9639 - val_loss: 12042.7793 - val_mae: 100.4219\n",
      "Epoch 22/200\n",
      "19/19 [==============================] - 0s 5ms/step - loss: 10026.1221 - mae: 93.9436 - val_loss: 11625.6006 - val_mae: 98.6785\n",
      "Epoch 23/200\n",
      "19/19 [==============================] - 0s 4ms/step - loss: 9729.8994 - mae: 92.8706 - val_loss: 11207.3086 - val_mae: 97.2865\n",
      "Epoch 24/200\n",
      "19/19 [==============================] - 0s 5ms/step - loss: 9404.8564 - mae: 91.7963 - val_loss: 10964.9736 - val_mae: 96.5223\n",
      "Epoch 25/200\n",
      "19/19 [==============================] - 0s 5ms/step - loss: 9180.2168 - mae: 90.7060 - val_loss: 11214.9375 - val_mae: 97.8307\n",
      "Epoch 26/200\n",
      "19/19 [==============================] - 0s 5ms/step - loss: 8935.4297 - mae: 89.5936 - val_loss: 10839.3193 - val_mae: 96.1444\n",
      "Epoch 27/200\n",
      "19/19 [==============================] - 0s 4ms/step - loss: 8618.3184 - mae: 88.4290 - val_loss: 10439.3945 - val_mae: 94.7369\n",
      "Epoch 28/200\n",
      "19/19 [==============================] - 0s 4ms/step - loss: 8339.4600 - mae: 87.1212 - val_loss: 10296.2568 - val_mae: 94.1957\n",
      "Epoch 29/200\n",
      "19/19 [==============================] - 0s 4ms/step - loss: 8193.8848 - mae: 85.9069 - val_loss: 10167.2734 - val_mae: 93.5579\n",
      "Epoch 30/200\n",
      "19/19 [==============================] - 0s 4ms/step - loss: 7859.1929 - mae: 84.6884 - val_loss: 9609.1631 - val_mae: 90.6400\n",
      "Epoch 31/200\n",
      "19/19 [==============================] - 0s 4ms/step - loss: 7512.2207 - mae: 83.3845 - val_loss: 9368.2490 - val_mae: 89.3919\n",
      "Epoch 32/200\n",
      "19/19 [==============================] - 0s 4ms/step - loss: 7271.7129 - mae: 82.1557 - val_loss: 9133.6865 - val_mae: 88.1766\n",
      "Epoch 33/200\n",
      "19/19 [==============================] - 0s 4ms/step - loss: 7036.0503 - mae: 80.8235 - val_loss: 8944.6045 - val_mae: 86.7051\n",
      "Epoch 34/200\n",
      "19/19 [==============================] - 0s 5ms/step - loss: 6822.0854 - mae: 79.3530 - val_loss: 8836.0713 - val_mae: 85.7111\n",
      "Epoch 35/200\n",
      "19/19 [==============================] - 0s 4ms/step - loss: 6624.4873 - mae: 77.9849 - val_loss: 8708.3857 - val_mae: 85.1197\n",
      "Epoch 36/200\n",
      "19/19 [==============================] - 0s 4ms/step - loss: 6358.3530 - mae: 76.7625 - val_loss: 8818.8115 - val_mae: 84.6517\n",
      "Epoch 37/200\n",
      "19/19 [==============================] - 0s 4ms/step - loss: 6266.4180 - mae: 75.2676 - val_loss: 8809.3086 - val_mae: 84.0730\n",
      "Epoch 38/200\n",
      "19/19 [==============================] - 0s 4ms/step - loss: 5963.6362 - mae: 74.2938 - val_loss: 8842.7588 - val_mae: 82.2438\n",
      "Epoch 39/200\n",
      "19/19 [==============================] - 0s 5ms/step - loss: 5745.3271 - mae: 72.5912 - val_loss: 8284.6797 - val_mae: 80.2101\n",
      "Epoch 40/200\n",
      "19/19 [==============================] - 0s 4ms/step - loss: 5513.1802 - mae: 71.2166 - val_loss: 8464.0391 - val_mae: 80.1449\n",
      "Epoch 41/200\n",
      "19/19 [==============================] - 0s 4ms/step - loss: 5311.8369 - mae: 69.8625 - val_loss: 8121.9365 - val_mae: 78.5438\n",
      "Epoch 42/200\n",
      "19/19 [==============================] - 0s 4ms/step - loss: 5021.3389 - mae: 68.3912 - val_loss: 7756.3296 - val_mae: 75.9748\n",
      "Epoch 43/200\n",
      "19/19 [==============================] - 0s 4ms/step - loss: 4913.7109 - mae: 67.0200 - val_loss: 7240.3730 - val_mae: 72.9795\n",
      "Epoch 44/200\n",
      "19/19 [==============================] - 0s 4ms/step - loss: 4627.5337 - mae: 65.5781 - val_loss: 6979.2534 - val_mae: 70.8565\n",
      "Epoch 45/200\n",
      "19/19 [==============================] - 0s 4ms/step - loss: 4490.4292 - mae: 64.1991 - val_loss: 7115.7603 - val_mae: 71.0934\n",
      "Epoch 46/200\n",
      "19/19 [==============================] - 0s 4ms/step - loss: 4377.4390 - mae: 62.7960 - val_loss: 7595.3623 - val_mae: 72.4524\n",
      "Epoch 47/200\n",
      "19/19 [==============================] - 0s 4ms/step - loss: 4176.5991 - mae: 61.1643 - val_loss: 7394.0513 - val_mae: 71.6029\n",
      "Epoch 48/200\n",
      "19/19 [==============================] - 0s 5ms/step - loss: 3954.4202 - mae: 59.6743 - val_loss: 7194.0190 - val_mae: 70.9075\n",
      "Epoch 49/200\n",
      "19/19 [==============================] - 0s 4ms/step - loss: 3730.1919 - mae: 58.1962 - val_loss: 6894.9370 - val_mae: 68.3671\n",
      "Epoch 50/200\n",
      "19/19 [==============================] - 0s 4ms/step - loss: 3636.6025 - mae: 56.8267 - val_loss: 6535.4033 - val_mae: 66.5414\n",
      "Epoch 51/200\n",
      "19/19 [==============================] - 0s 4ms/step - loss: 3399.9961 - mae: 55.1596 - val_loss: 6613.3247 - val_mae: 66.0693\n",
      "Epoch 52/200\n",
      "19/19 [==============================] - 0s 5ms/step - loss: 3350.3484 - mae: 53.7245 - val_loss: 6035.6318 - val_mae: 63.6097\n",
      "Epoch 53/200\n",
      "19/19 [==============================] - 0s 4ms/step - loss: 3097.4897 - mae: 52.1600 - val_loss: 5855.5146 - val_mae: 62.8223\n",
      "Epoch 54/200\n",
      "19/19 [==============================] - 0s 4ms/step - loss: 3025.9880 - mae: 51.0002 - val_loss: 6180.9580 - val_mae: 62.5581\n",
      "Epoch 55/200\n",
      "19/19 [==============================] - 0s 4ms/step - loss: 2792.9702 - mae: 49.3355 - val_loss: 6135.0571 - val_mae: 61.1718\n",
      "Epoch 56/200\n",
      "19/19 [==============================] - 0s 5ms/step - loss: 2593.7039 - mae: 47.7094 - val_loss: 6169.6436 - val_mae: 61.7135\n",
      "Epoch 57/200\n",
      "19/19 [==============================] - 0s 4ms/step - loss: 2476.6418 - mae: 46.4383 - val_loss: 5269.2930 - val_mae: 57.8351\n",
      "Epoch 58/200\n",
      "19/19 [==============================] - 0s 4ms/step - loss: 2303.7112 - mae: 44.8452 - val_loss: 5792.5942 - val_mae: 59.6947\n",
      "Epoch 59/200\n",
      "19/19 [==============================] - 0s 5ms/step - loss: 2253.5493 - mae: 43.2908 - val_loss: 5405.1299 - val_mae: 58.5771\n",
      "Epoch 60/200\n",
      "19/19 [==============================] - 0s 5ms/step - loss: 2071.0002 - mae: 42.0418 - val_loss: 5368.7964 - val_mae: 58.0087\n",
      "Epoch 61/200\n",
      "19/19 [==============================] - 0s 4ms/step - loss: 1908.2041 - mae: 40.5648 - val_loss: 5096.0415 - val_mae: 56.4792\n",
      "Epoch 62/200\n",
      "19/19 [==============================] - 0s 4ms/step - loss: 1898.0177 - mae: 39.3667 - val_loss: 4837.8530 - val_mae: 53.4856\n",
      "Epoch 63/200\n",
      "19/19 [==============================] - 0s 4ms/step - loss: 1749.7716 - mae: 37.9246 - val_loss: 4668.1138 - val_mae: 51.9046\n",
      "Epoch 64/200\n",
      "19/19 [==============================] - 0s 4ms/step - loss: 1614.7864 - mae: 36.4034 - val_loss: 4653.4023 - val_mae: 52.1432\n",
      "Epoch 65/200\n",
      "19/19 [==============================] - 0s 4ms/step - loss: 1505.1912 - mae: 35.0639 - val_loss: 4467.4780 - val_mae: 50.2644\n",
      "Epoch 66/200\n",
      "19/19 [==============================] - 0s 4ms/step - loss: 1506.1520 - mae: 34.1346 - val_loss: 4401.6938 - val_mae: 50.2991\n",
      "Epoch 67/200\n",
      "19/19 [==============================] - 0s 4ms/step - loss: 1360.1504 - mae: 32.4433 - val_loss: 4241.0444 - val_mae: 47.6747\n",
      "Epoch 68/200\n",
      "19/19 [==============================] - 0s 4ms/step - loss: 1238.1484 - mae: 31.0645 - val_loss: 4221.0474 - val_mae: 47.3598\n",
      "Epoch 69/200\n",
      "19/19 [==============================] - 0s 4ms/step - loss: 1136.7916 - mae: 29.8735 - val_loss: 3772.6636 - val_mae: 44.8894\n",
      "Epoch 70/200\n",
      "19/19 [==============================] - 0s 5ms/step - loss: 1170.8673 - mae: 29.5593 - val_loss: 3835.5234 - val_mae: 43.6703\n",
      "Epoch 71/200\n",
      "19/19 [==============================] - 0s 4ms/step - loss: 1018.9361 - mae: 27.3792 - val_loss: 3556.3506 - val_mae: 42.2550\n",
      "Epoch 72/200\n",
      "19/19 [==============================] - 0s 4ms/step - loss: 930.8320 - mae: 26.2912 - val_loss: 3301.7612 - val_mae: 41.0748\n",
      "Epoch 73/200\n",
      "19/19 [==============================] - 0s 4ms/step - loss: 938.7081 - mae: 25.7840 - val_loss: 3198.1956 - val_mae: 38.7877\n",
      "Epoch 74/200\n",
      "19/19 [==============================] - 0s 7ms/step - loss: 948.7858 - mae: 25.1948 - val_loss: 3135.6848 - val_mae: 38.4561\n",
      "Epoch 75/200\n",
      "19/19 [==============================] - 0s 5ms/step - loss: 918.5568 - mae: 24.4752 - val_loss: 3135.4775 - val_mae: 37.0963\n",
      "Epoch 76/200\n",
      "19/19 [==============================] - 0s 4ms/step - loss: 832.6151 - mae: 23.3976 - val_loss: 3263.5750 - val_mae: 37.0737\n",
      "Epoch 77/200\n",
      "19/19 [==============================] - 0s 6ms/step - loss: 739.8709 - mae: 22.0182 - val_loss: 2956.1433 - val_mae: 35.2070\n",
      "Epoch 78/200\n",
      "19/19 [==============================] - 0s 5ms/step - loss: 669.0172 - mae: 21.1590 - val_loss: 2861.0503 - val_mae: 35.3402\n",
      "Epoch 79/200\n",
      "19/19 [==============================] - 0s 4ms/step - loss: 664.1840 - mae: 20.7557 - val_loss: 2952.9756 - val_mae: 35.9936\n",
      "Epoch 80/200\n",
      "19/19 [==============================] - 0s 4ms/step - loss: 600.6905 - mae: 19.8322 - val_loss: 2991.9092 - val_mae: 35.2756\n",
      "Epoch 81/200\n",
      "19/19 [==============================] - 0s 5ms/step - loss: 542.4502 - mae: 18.7405 - val_loss: 2870.6665 - val_mae: 34.6047\n",
      "Epoch 82/200\n",
      "19/19 [==============================] - 0s 4ms/step - loss: 600.9985 - mae: 19.1107 - val_loss: 2795.3916 - val_mae: 34.1658\n",
      "Epoch 83/200\n",
      "19/19 [==============================] - 0s 4ms/step - loss: 558.9180 - mae: 18.1827 - val_loss: 2883.1609 - val_mae: 33.5412\n",
      "Epoch 84/200\n",
      "19/19 [==============================] - 0s 5ms/step - loss: 495.8008 - mae: 17.4547 - val_loss: 2655.5718 - val_mae: 33.0060\n",
      "Epoch 85/200\n",
      "19/19 [==============================] - 0s 5ms/step - loss: 531.6456 - mae: 17.9368 - val_loss: 2662.6084 - val_mae: 32.6655\n",
      "Epoch 86/200\n",
      "19/19 [==============================] - 0s 4ms/step - loss: 439.8339 - mae: 15.7232 - val_loss: 2450.2183 - val_mae: 32.3359\n",
      "Epoch 87/200\n",
      "19/19 [==============================] - 0s 4ms/step - loss: 526.2850 - mae: 17.8067 - val_loss: 2468.3528 - val_mae: 31.4718\n",
      "Epoch 88/200\n",
      "19/19 [==============================] - 0s 4ms/step - loss: 416.4369 - mae: 15.7276 - val_loss: 2576.1870 - val_mae: 31.4281\n",
      "Epoch 89/200\n",
      "19/19 [==============================] - 0s 4ms/step - loss: 426.6146 - mae: 15.2247 - val_loss: 2962.2561 - val_mae: 35.0686\n",
      "Epoch 90/200\n",
      "19/19 [==============================] - 0s 4ms/step - loss: 444.4284 - mae: 15.2087 - val_loss: 2760.2107 - val_mae: 33.1931\n",
      "Epoch 91/200\n",
      "19/19 [==============================] - 0s 4ms/step - loss: 459.9405 - mae: 16.0824 - val_loss: 2607.6399 - val_mae: 32.3800\n",
      "Epoch 92/200\n",
      "19/19 [==============================] - 0s 4ms/step - loss: 367.5891 - mae: 14.5849 - val_loss: 2659.3296 - val_mae: 31.2750\n",
      "Epoch 93/200\n",
      "19/19 [==============================] - 0s 4ms/step - loss: 454.7361 - mae: 15.9066 - val_loss: 2351.0454 - val_mae: 30.0369\n",
      "Epoch 94/200\n",
      "19/19 [==============================] - 0s 5ms/step - loss: 375.5262 - mae: 13.7891 - val_loss: 2262.0303 - val_mae: 29.3623\n",
      "Epoch 95/200\n",
      "19/19 [==============================] - 0s 4ms/step - loss: 389.7294 - mae: 14.7556 - val_loss: 2499.1377 - val_mae: 31.4029\n",
      "Epoch 96/200\n",
      "19/19 [==============================] - 0s 4ms/step - loss: 364.6448 - mae: 13.8860 - val_loss: 2476.1709 - val_mae: 31.0894\n",
      "Epoch 97/200\n",
      "19/19 [==============================] - 0s 5ms/step - loss: 288.6299 - mae: 12.4587 - val_loss: 2184.1267 - val_mae: 29.1249\n",
      "Epoch 98/200\n",
      "19/19 [==============================] - 0s 5ms/step - loss: 320.9669 - mae: 13.4500 - val_loss: 2172.8027 - val_mae: 29.2168\n",
      "Epoch 99/200\n",
      "19/19 [==============================] - 0s 4ms/step - loss: 325.6252 - mae: 13.4032 - val_loss: 2516.8027 - val_mae: 31.1579\n",
      "Epoch 100/200\n",
      "19/19 [==============================] - 0s 4ms/step - loss: 320.8572 - mae: 13.2009 - val_loss: 2423.6936 - val_mae: 29.3710\n",
      "Epoch 101/200\n",
      "19/19 [==============================] - 0s 5ms/step - loss: 375.8410 - mae: 14.6215 - val_loss: 2138.7778 - val_mae: 28.3438\n",
      "Epoch 102/200\n",
      "19/19 [==============================] - 0s 5ms/step - loss: 277.9596 - mae: 12.4341 - val_loss: 2088.7769 - val_mae: 28.0883\n",
      "Epoch 103/200\n",
      "19/19 [==============================] - 0s 4ms/step - loss: 444.6649 - mae: 16.0992 - val_loss: 2070.6702 - val_mae: 28.2365\n",
      "Epoch 104/200\n",
      "19/19 [==============================] - 0s 4ms/step - loss: 370.4020 - mae: 14.1714 - val_loss: 1991.9829 - val_mae: 28.7657\n",
      "Epoch 105/200\n",
      "19/19 [==============================] - 0s 4ms/step - loss: 296.4260 - mae: 12.6772 - val_loss: 2158.4583 - val_mae: 29.8724\n",
      "Epoch 106/200\n",
      "19/19 [==============================] - 0s 4ms/step - loss: 319.4243 - mae: 13.4962 - val_loss: 2168.3984 - val_mae: 29.1850\n",
      "Epoch 107/200\n",
      "19/19 [==============================] - 0s 4ms/step - loss: 319.7138 - mae: 12.7201 - val_loss: 2118.9719 - val_mae: 28.0419\n",
      "Epoch 108/200\n",
      "19/19 [==============================] - 0s 5ms/step - loss: 389.9200 - mae: 14.9422 - val_loss: 2141.9465 - val_mae: 28.2461\n",
      "Epoch 109/200\n",
      "19/19 [==============================] - 0s 5ms/step - loss: 312.0673 - mae: 12.6361 - val_loss: 1957.1610 - val_mae: 26.3909\n",
      "Epoch 110/200\n",
      "19/19 [==============================] - 0s 4ms/step - loss: 345.0991 - mae: 13.1695 - val_loss: 1778.4332 - val_mae: 26.1234\n",
      "Epoch 111/200\n",
      "19/19 [==============================] - 0s 4ms/step - loss: 358.4066 - mae: 13.7494 - val_loss: 1974.5875 - val_mae: 26.6045\n",
      "Epoch 112/200\n",
      "19/19 [==============================] - 0s 4ms/step - loss: 311.8409 - mae: 12.7217 - val_loss: 2097.4453 - val_mae: 27.0057\n",
      "Epoch 113/200\n",
      "19/19 [==============================] - 0s 4ms/step - loss: 364.7154 - mae: 14.2387 - val_loss: 2090.3245 - val_mae: 26.5747\n",
      "Epoch 114/200\n",
      "19/19 [==============================] - 0s 4ms/step - loss: 377.1713 - mae: 14.9345 - val_loss: 2123.5864 - val_mae: 26.2994\n",
      "Epoch 115/200\n",
      "19/19 [==============================] - 0s 5ms/step - loss: 335.6383 - mae: 13.8312 - val_loss: 2097.0627 - val_mae: 25.2566\n",
      "Epoch 116/200\n",
      "19/19 [==============================] - 0s 5ms/step - loss: 388.9940 - mae: 14.7180 - val_loss: 2224.7563 - val_mae: 26.7750\n",
      "Epoch 117/200\n",
      "19/19 [==============================] - 0s 4ms/step - loss: 367.3633 - mae: 14.2139 - val_loss: 2251.3157 - val_mae: 27.8737\n",
      "Epoch 118/200\n",
      "19/19 [==============================] - 0s 4ms/step - loss: 271.7171 - mae: 11.7864 - val_loss: 2263.9150 - val_mae: 27.8953\n",
      "Epoch 119/200\n",
      "19/19 [==============================] - 0s 5ms/step - loss: 272.2253 - mae: 11.6269 - val_loss: 2085.3904 - val_mae: 27.5477\n",
      "Epoch 120/200\n",
      "19/19 [==============================] - 0s 5ms/step - loss: 327.0645 - mae: 12.8846 - val_loss: 2041.5437 - val_mae: 26.8901\n",
      "Epoch 121/200\n",
      "19/19 [==============================] - 0s 4ms/step - loss: 303.0520 - mae: 13.0446 - val_loss: 1908.2662 - val_mae: 26.3730\n",
      "Epoch 122/200\n",
      "19/19 [==============================] - 0s 5ms/step - loss: 307.4125 - mae: 12.5240 - val_loss: 1933.1472 - val_mae: 26.2121\n",
      "Epoch 123/200\n",
      "19/19 [==============================] - 0s 4ms/step - loss: 323.0486 - mae: 13.1209 - val_loss: 2172.2192 - val_mae: 27.8537\n",
      "Epoch 124/200\n",
      "19/19 [==============================] - 0s 5ms/step - loss: 289.6143 - mae: 12.7061 - val_loss: 2201.1865 - val_mae: 28.7708\n",
      "Epoch 125/200\n",
      "19/19 [==============================] - 0s 5ms/step - loss: 391.9406 - mae: 14.3376 - val_loss: 2127.4812 - val_mae: 28.3861\n",
      "Epoch 126/200\n",
      "19/19 [==============================] - 0s 4ms/step - loss: 286.5961 - mae: 12.5184 - val_loss: 2034.5187 - val_mae: 27.9571\n",
      "Epoch 127/200\n",
      "19/19 [==============================] - 0s 4ms/step - loss: 363.5562 - mae: 14.4150 - val_loss: 2142.9226 - val_mae: 27.3298\n",
      "Epoch 128/200\n",
      "19/19 [==============================] - 0s 4ms/step - loss: 441.2121 - mae: 15.9724 - val_loss: 2384.1482 - val_mae: 30.0712\n",
      "Epoch 129/200\n",
      "19/19 [==============================] - 0s 4ms/step - loss: 330.2583 - mae: 13.2173 - val_loss: 2129.6379 - val_mae: 27.0320\n",
      "Epoch 130/200\n",
      "19/19 [==============================] - 0s 4ms/step - loss: 374.3635 - mae: 14.6084 - val_loss: 2223.2363 - val_mae: 27.3481\n",
      "Epoch 131/200\n",
      "19/19 [==============================] - 0s 4ms/step - loss: 351.1622 - mae: 14.1244 - val_loss: 2359.9810 - val_mae: 27.6139\n",
      "Epoch 132/200\n",
      "19/19 [==============================] - 0s 5ms/step - loss: 333.7653 - mae: 13.2654 - val_loss: 2464.0381 - val_mae: 27.9990\n",
      "Epoch 133/200\n",
      "19/19 [==============================] - 0s 4ms/step - loss: 321.4474 - mae: 12.9120 - val_loss: 2277.8201 - val_mae: 27.2335\n",
      "Epoch 134/200\n",
      "19/19 [==============================] - 0s 4ms/step - loss: 302.1175 - mae: 12.7534 - val_loss: 2241.8789 - val_mae: 27.3474\n",
      "Epoch 135/200\n",
      "19/19 [==============================] - 0s 4ms/step - loss: 329.1611 - mae: 14.0521 - val_loss: 2285.1726 - val_mae: 27.8760\n",
      "Epoch 136/200\n",
      "19/19 [==============================] - 0s 4ms/step - loss: 255.6566 - mae: 11.0379 - val_loss: 2281.0408 - val_mae: 27.8177\n",
      "Epoch 137/200\n",
      "19/19 [==============================] - 0s 4ms/step - loss: 268.2167 - mae: 11.9474 - val_loss: 2431.6255 - val_mae: 28.0486\n",
      "Epoch 138/200\n",
      "19/19 [==============================] - 0s 4ms/step - loss: 267.9186 - mae: 11.9326 - val_loss: 2393.1851 - val_mae: 27.7554\n",
      "Epoch 139/200\n",
      "19/19 [==============================] - 0s 5ms/step - loss: 292.6008 - mae: 11.9863 - val_loss: 2349.5618 - val_mae: 26.9693\n",
      "Epoch 140/200\n",
      "19/19 [==============================] - 0s 4ms/step - loss: 304.3028 - mae: 12.3204 - val_loss: 2231.7063 - val_mae: 26.6910\n",
      "Epoch 141/200\n",
      "19/19 [==============================] - 0s 4ms/step - loss: 309.4844 - mae: 13.4811 - val_loss: 2316.5383 - val_mae: 27.2362\n",
      "Epoch 142/200\n",
      "19/19 [==============================] - 0s 5ms/step - loss: 282.3580 - mae: 12.0968 - val_loss: 2275.3081 - val_mae: 26.4639\n",
      "Epoch 143/200\n",
      "19/19 [==============================] - 0s 4ms/step - loss: 275.3936 - mae: 12.2518 - val_loss: 2486.6562 - val_mae: 29.1734\n",
      "Epoch 144/200\n",
      "19/19 [==============================] - 0s 4ms/step - loss: 299.9524 - mae: 11.8759 - val_loss: 2721.6062 - val_mae: 30.5251\n",
      "Epoch 145/200\n",
      "19/19 [==============================] - 0s 4ms/step - loss: 342.2044 - mae: 13.9636 - val_loss: 2440.7969 - val_mae: 27.5275\n",
      "Epoch 146/200\n",
      "19/19 [==============================] - 0s 4ms/step - loss: 252.3617 - mae: 11.5984 - val_loss: 2471.9314 - val_mae: 28.3351\n",
      "Epoch 147/200\n",
      "19/19 [==============================] - 0s 4ms/step - loss: 307.6521 - mae: 13.3652 - val_loss: 2424.3220 - val_mae: 27.6357\n",
      "Epoch 148/200\n",
      "19/19 [==============================] - 0s 4ms/step - loss: 294.9099 - mae: 12.7499 - val_loss: 2481.5808 - val_mae: 28.7827\n",
      "Epoch 149/200\n",
      "19/19 [==============================] - 0s 4ms/step - loss: 257.9321 - mae: 11.0841 - val_loss: 2424.0972 - val_mae: 27.9522\n",
      "Epoch 150/200\n",
      "19/19 [==============================] - 0s 4ms/step - loss: 297.9055 - mae: 12.3827 - val_loss: 2459.5278 - val_mae: 28.4445\n",
      "Epoch 151/200\n",
      "19/19 [==============================] - 0s 5ms/step - loss: 324.3304 - mae: 13.5048 - val_loss: 2431.6616 - val_mae: 27.7922\n",
      "Epoch 152/200\n",
      "19/19 [==============================] - 0s 4ms/step - loss: 231.1560 - mae: 10.8689 - val_loss: 2638.7869 - val_mae: 28.5914\n",
      "Epoch 153/200\n",
      "19/19 [==============================] - 0s 4ms/step - loss: 304.7632 - mae: 12.8184 - val_loss: 2525.2014 - val_mae: 29.0869\n",
      "Epoch 154/200\n",
      "19/19 [==============================] - 0s 4ms/step - loss: 326.3301 - mae: 12.7254 - val_loss: 2439.2861 - val_mae: 28.7182\n",
      "Epoch 155/200\n",
      "19/19 [==============================] - 0s 4ms/step - loss: 357.7226 - mae: 13.4648 - val_loss: 2537.3398 - val_mae: 28.2784\n",
      "Epoch 156/200\n",
      "19/19 [==============================] - 0s 5ms/step - loss: 341.9027 - mae: 14.0189 - val_loss: 2359.8835 - val_mae: 26.5909\n",
      "Epoch 157/200\n",
      "19/19 [==============================] - 0s 4ms/step - loss: 327.0440 - mae: 13.1809 - val_loss: 2396.0957 - val_mae: 26.7622\n",
      "Epoch 158/200\n",
      "19/19 [==============================] - 0s 4ms/step - loss: 292.2209 - mae: 13.1590 - val_loss: 2446.8733 - val_mae: 26.4723\n",
      "Epoch 159/200\n",
      "19/19 [==============================] - 0s 5ms/step - loss: 415.8555 - mae: 15.5591 - val_loss: 2477.7126 - val_mae: 27.3151\n",
      "Epoch 160/200\n",
      "19/19 [==============================] - 0s 4ms/step - loss: 312.1315 - mae: 13.2087 - val_loss: 2350.2766 - val_mae: 26.8035\n",
      "Epoch 161/200\n",
      "19/19 [==============================] - 0s 4ms/step - loss: 255.9133 - mae: 12.1157 - val_loss: 2403.4175 - val_mae: 27.0447\n",
      "Epoch 162/200\n",
      "19/19 [==============================] - 0s 5ms/step - loss: 298.2937 - mae: 12.9520 - val_loss: 2403.3650 - val_mae: 27.4292\n",
      "Epoch 163/200\n",
      "19/19 [==============================] - 0s 4ms/step - loss: 339.3610 - mae: 13.4004 - val_loss: 2341.1541 - val_mae: 27.6232\n",
      "Epoch 164/200\n",
      "19/19 [==============================] - 0s 5ms/step - loss: 353.0999 - mae: 13.5707 - val_loss: 2533.9487 - val_mae: 28.4392\n",
      "Epoch 165/200\n",
      "19/19 [==============================] - 0s 4ms/step - loss: 329.2189 - mae: 13.4249 - val_loss: 2484.4421 - val_mae: 27.8107\n",
      "Epoch 166/200\n",
      "19/19 [==============================] - 0s 5ms/step - loss: 324.2266 - mae: 13.5734 - val_loss: 2580.4424 - val_mae: 28.0332\n",
      "Epoch 167/200\n",
      "19/19 [==============================] - 0s 4ms/step - loss: 307.8124 - mae: 13.2775 - val_loss: 2547.9265 - val_mae: 27.6595\n",
      "Epoch 168/200\n",
      "19/19 [==============================] - 0s 5ms/step - loss: 270.1267 - mae: 12.0067 - val_loss: 2793.7524 - val_mae: 28.0464\n",
      "Epoch 169/200\n",
      "19/19 [==============================] - 0s 5ms/step - loss: 307.4319 - mae: 12.2722 - val_loss: 2807.6355 - val_mae: 27.7791\n",
      "Epoch 170/200\n",
      "19/19 [==============================] - 0s 5ms/step - loss: 329.7447 - mae: 13.3047 - val_loss: 2676.1597 - val_mae: 26.7229\n",
      "Epoch 171/200\n",
      "19/19 [==============================] - 0s 5ms/step - loss: 312.5150 - mae: 13.0924 - val_loss: 2739.8171 - val_mae: 28.7868\n",
      "Epoch 172/200\n",
      "19/19 [==============================] - 0s 5ms/step - loss: 317.3282 - mae: 13.1118 - val_loss: 2658.0703 - val_mae: 27.9769\n",
      "Epoch 173/200\n",
      "19/19 [==============================] - 0s 5ms/step - loss: 284.5334 - mae: 12.1887 - val_loss: 2697.1641 - val_mae: 28.5679\n",
      "Epoch 174/200\n",
      "19/19 [==============================] - 0s 5ms/step - loss: 315.3835 - mae: 12.5903 - val_loss: 2816.3604 - val_mae: 28.3454\n",
      "Epoch 175/200\n",
      "19/19 [==============================] - 0s 5ms/step - loss: 352.1029 - mae: 13.6176 - val_loss: 2674.7585 - val_mae: 27.0746\n",
      "Epoch 176/200\n",
      "19/19 [==============================] - 0s 4ms/step - loss: 294.0679 - mae: 12.6343 - val_loss: 2746.6748 - val_mae: 29.2653\n",
      "Epoch 177/200\n",
      "19/19 [==============================] - 0s 4ms/step - loss: 360.0089 - mae: 13.8565 - val_loss: 2648.2615 - val_mae: 26.6680\n",
      "Epoch 178/200\n",
      "19/19 [==============================] - 0s 4ms/step - loss: 295.9761 - mae: 12.8635 - val_loss: 2672.5942 - val_mae: 27.7145\n",
      "Epoch 179/200\n",
      "19/19 [==============================] - 0s 4ms/step - loss: 334.0531 - mae: 13.9753 - val_loss: 2664.0447 - val_mae: 28.1242\n",
      "Epoch 180/200\n",
      "19/19 [==============================] - 0s 5ms/step - loss: 271.5123 - mae: 11.9481 - val_loss: 2568.4631 - val_mae: 28.1274\n",
      "Epoch 181/200\n",
      "19/19 [==============================] - 0s 4ms/step - loss: 289.9229 - mae: 12.5601 - val_loss: 2694.3689 - val_mae: 29.1388\n",
      "Epoch 182/200\n",
      "19/19 [==============================] - 0s 4ms/step - loss: 321.4185 - mae: 13.3993 - val_loss: 2756.5198 - val_mae: 29.4166\n",
      "Epoch 183/200\n",
      "19/19 [==============================] - 0s 4ms/step - loss: 364.5164 - mae: 14.5140 - val_loss: 2637.0613 - val_mae: 28.8608\n",
      "Epoch 184/200\n",
      "19/19 [==============================] - 0s 5ms/step - loss: 249.1762 - mae: 11.6018 - val_loss: 2550.5859 - val_mae: 28.4781\n",
      "Epoch 185/200\n",
      "19/19 [==============================] - 0s 4ms/step - loss: 292.2625 - mae: 12.1162 - val_loss: 2463.5295 - val_mae: 28.1658\n",
      "Epoch 186/200\n",
      "19/19 [==============================] - 0s 4ms/step - loss: 270.6842 - mae: 11.9341 - val_loss: 2648.8027 - val_mae: 28.5672\n",
      "Epoch 187/200\n",
      "19/19 [==============================] - 0s 4ms/step - loss: 269.3628 - mae: 12.1855 - val_loss: 2477.5681 - val_mae: 28.7621\n",
      "Epoch 188/200\n",
      "19/19 [==============================] - 0s 4ms/step - loss: 290.4238 - mae: 12.6562 - val_loss: 2355.8943 - val_mae: 26.9093\n",
      "Epoch 189/200\n",
      "19/19 [==============================] - 0s 4ms/step - loss: 278.7311 - mae: 12.1277 - val_loss: 2261.3752 - val_mae: 26.3798\n",
      "Epoch 190/200\n",
      "19/19 [==============================] - 0s 5ms/step - loss: 223.9962 - mae: 10.9848 - val_loss: 2422.3025 - val_mae: 27.5024\n",
      "Epoch 191/200\n",
      "19/19 [==============================] - 0s 4ms/step - loss: 288.9480 - mae: 12.7813 - val_loss: 2460.6841 - val_mae: 27.3444\n",
      "Epoch 192/200\n",
      "19/19 [==============================] - 0s 4ms/step - loss: 335.1655 - mae: 13.8904 - val_loss: 2421.0273 - val_mae: 26.4402\n",
      "Epoch 193/200\n",
      "19/19 [==============================] - 0s 5ms/step - loss: 235.2738 - mae: 10.9511 - val_loss: 2403.4470 - val_mae: 27.0377\n",
      "Epoch 194/200\n",
      "19/19 [==============================] - 0s 4ms/step - loss: 239.8523 - mae: 11.5611 - val_loss: 2400.6104 - val_mae: 27.4998\n",
      "Epoch 195/200\n",
      "19/19 [==============================] - 0s 4ms/step - loss: 230.8812 - mae: 11.6261 - val_loss: 2368.3604 - val_mae: 27.1270\n",
      "Epoch 196/200\n",
      "19/19 [==============================] - 0s 4ms/step - loss: 345.2786 - mae: 13.4110 - val_loss: 2247.8833 - val_mae: 26.3511\n",
      "Epoch 197/200\n",
      "19/19 [==============================] - 0s 4ms/step - loss: 288.5337 - mae: 12.3429 - val_loss: 2234.1680 - val_mae: 26.0617\n",
      "Epoch 198/200\n",
      "19/19 [==============================] - 0s 4ms/step - loss: 281.3231 - mae: 12.1008 - val_loss: 2313.8557 - val_mae: 26.7130\n",
      "Epoch 199/200\n",
      "19/19 [==============================] - 0s 4ms/step - loss: 294.4336 - mae: 12.3975 - val_loss: 2435.8447 - val_mae: 27.6056\n",
      "Epoch 200/200\n",
      "19/19 [==============================] - 0s 4ms/step - loss: 254.6068 - mae: 11.8728 - val_loss: 2345.9766 - val_mae: 26.6499\n"
     ]
    }
   ],
   "source": [
    "# Initializing the Optimizer\n",
    "optimizer = Adam(0.001)\n",
    "# Compiling the model with 'mse' as loss function and metrics\n",
    "model_BN.compile(loss='mse',\n",
    "                 optimizer=optimizer,\n",
    "                 metrics=['mae'])\n",
    "# Fitting the model on train and validation with 50 epochs\n",
    "history_BN = model_BN.fit(X_train_scaled, y_train, validation_data=(X_val_scaled, y_val), epochs=200)"
   ],
   "metadata": {
    "collapsed": false,
    "ExecuteTime": {
     "end_time": "2024-01-10T07:13:31.832122200Z",
     "start_time": "2024-01-10T07:13:13.151915300Z"
    }
   },
   "id": "708df0f2531735fc"
  },
  {
   "cell_type": "code",
   "execution_count": 53,
   "outputs": [
    {
     "data": {
      "text/plain": "<Figure size 640x480 with 1 Axes>",
      "image/png": "[encoded data removed]"
     },
     "metadata": {},
     "output_type": "display_data"
    }
   ],
   "source": [
    "plt.title('Loss / Mean Squared Error')\n",
    "plt.plot(history_BN.history['loss'], label='train')\n",
    "plt.plot(history_BN.history['val_loss'], label='validate')\n",
    "plt.legend()\n",
    "plt.show()"
   ],
   "metadata": {
    "collapsed": false,
    "ExecuteTime": {
     "end_time": "2024-01-10T07:13:31.946981800Z",
     "start_time": "2024-01-10T07:13:31.614442200Z"
    }
   },
   "id": "e4902b1a81e591db"
  },
  {
   "cell_type": "code",
   "execution_count": 54,
   "outputs": [
    {
     "name": "stdout",
     "output_type": "stream",
     "text": [
      "5/5 [==============================] - 0s 2ms/step\n",
      "Validation Performance\n"
     ]
    },
    {
     "data": {
      "text/plain": "        RMSE        MAE  R-squared  Adj. R-squared\n0  48.435282  26.649943   0.349307        0.262887",
      "text/html": "<div>\n<style scoped>\n    .dataframe tbody tr th:only-of-type {\n        vertical-align: middle;\n    }\n\n    .dataframe tbody tr th {\n        vertical-align: top;\n    }\n\n    .dataframe thead th {\n        text-align: right;\n    }\n</style>\n<table border=\"1\" class=\"dataframe\">\n  <thead>\n    <tr style=\"text-align: right;\">\n      <th></th>\n      <th>RMSE</th>\n      <th>MAE</th>\n      <th>R-squared</th>\n      <th>Adj. R-squared</th>\n    </tr>\n  </thead>\n  <tbody>\n    <tr>\n      <th>0</th>\n      <td>48.435282</td>\n      <td>26.649943</td>\n      <td>0.349307</td>\n      <td>0.262887</td>\n    </tr>\n  </tbody>\n</table>\n</div>"
     },
     "execution_count": 54,
     "metadata": {},
     "output_type": "execute_result"
    }
   ],
   "source": [
    "y_result_BN = model_BN.predict(X_val_scaled)\n",
    "print(\"Validation Performance\\n\")\n",
    "BN_train = model_performance_regression(X_val_scaled,y_val, y_result_BN)\n",
    "BN_train"
   ],
   "metadata": {
    "collapsed": false,
    "ExecuteTime": {
     "end_time": "2024-01-10T07:13:32.026762200Z",
     "start_time": "2024-01-10T07:13:31.794321300Z"
    }
   },
   "id": "1b86e519429edece"
  },
  {
   "cell_type": "code",
   "execution_count": 55,
   "outputs": [
    {
     "name": "stdout",
     "output_type": "stream",
     "text": [
      "3/3 [==============================] - 0s 2ms/step\n",
      "Test set Performance\n"
     ]
    },
    {
     "data": {
      "text/plain": "        RMSE        MAE  R-squared  Adj. R-squared\n0  37.304853  22.442382   0.403875        0.243016",
      "text/html": "<div>\n<style scoped>\n    .dataframe tbody tr th:only-of-type {\n        vertical-align: middle;\n    }\n\n    .dataframe tbody tr th {\n        vertical-align: top;\n    }\n\n    .dataframe thead th {\n        text-align: right;\n    }\n</style>\n<table border=\"1\" class=\"dataframe\">\n  <thead>\n    <tr style=\"text-align: right;\">\n      <th></th>\n      <th>RMSE</th>\n      <th>MAE</th>\n      <th>R-squared</th>\n      <th>Adj. R-squared</th>\n    </tr>\n  </thead>\n  <tbody>\n    <tr>\n      <th>0</th>\n      <td>37.304853</td>\n      <td>22.442382</td>\n      <td>0.403875</td>\n      <td>0.243016</td>\n    </tr>\n  </tbody>\n</table>\n</div>"
     },
     "execution_count": 55,
     "metadata": {},
     "output_type": "execute_result"
    }
   ],
   "source": [
    "y_result_BN_test = model_BN.predict(X_test_scaled)\n",
    "print(\"Test set Performance\\n\")\n",
    "BN_test = model_performance_regression(X_test_scaled,y_test, y_result_BN_test)\n",
    "BN_test"
   ],
   "metadata": {
    "collapsed": false,
    "ExecuteTime": {
     "end_time": "2024-01-10T07:13:32.233584700Z",
     "start_time": "2024-01-10T07:13:31.961039500Z"
    }
   },
   "id": "852ca7c3a6bd474c"
  },
  {
   "cell_type": "markdown",
   "source": [
    "# Model 5 (Model 3 with deeper layers)"
   ],
   "metadata": {
    "collapsed": false
   },
   "id": "6f41e858e073ade7"
  },
  {
   "cell_type": "code",
   "execution_count": 56,
   "outputs": [],
   "source": [
    "backend.clear_session()\n",
    "#Fixing the seed for random number generators so that we can ensure we receive the same output everytime\n",
    "np.random.seed(42)\n",
    "random.seed(42)\n",
    "tf.random.set_seed(42)"
   ],
   "metadata": {
    "collapsed": false,
    "ExecuteTime": {
     "end_time": "2024-01-10T07:13:32.233584700Z",
     "start_time": "2024-01-10T07:13:32.037967400Z"
    }
   },
   "id": "d726b4852439167f"
  },
  {
   "cell_type": "code",
   "execution_count": 57,
   "outputs": [
    {
     "name": "stdout",
     "output_type": "stream",
     "text": [
      "Model: \"sequential\"\n",
      "_________________________________________________________________\n",
      " Layer (type)                Output Shape              Param #   \n",
      "=================================================================\n",
      " dense (Dense)               (None, 64)                1152      \n",
      "                                                                 \n",
      " dropout (Dropout)           (None, 64)                0         \n",
      "                                                                 \n",
      " dense_1 (Dense)             (None, 32)                2080      \n",
      "                                                                 \n",
      " dropout_1 (Dropout)         (None, 32)                0         \n",
      "                                                                 \n",
      " dense_2 (Dense)             (None, 16)                528       \n",
      "                                                                 \n",
      " dense_3 (Dense)             (None, 8)                 136       \n",
      "                                                                 \n",
      " dense_4 (Dense)             (None, 1)                 9         \n",
      "                                                                 \n",
      "=================================================================\n",
      "Total params: 3905 (15.25 KB)\n",
      "Trainable params: 3905 (15.25 KB)\n",
      "Non-trainable params: 0 (0.00 Byte)\n",
      "_________________________________________________________________\n"
     ]
    }
   ],
   "source": [
    "model_Final = Sequential()\n",
    "# Adding input layer with 64 neurons, relu as activation function and, he_uniform as weight initializer.\n",
    "model_Final.add(Dense(64, activation='relu',kernel_initializer='he_uniform', input_shape=(17,)))\n",
    "# Adding dropout with ratio of 0.2\n",
    "model_Final.add(Dropout(0.2))\n",
    "# Adding the first hidden layer with 32 neurons, relu as activation function and, he_uniform as weight initializer\n",
    "model_Final.add(Dense(32, activation='relu',kernel_initializer='he_uniform'))\n",
    "# Adding dropout with ratio of 0.2\n",
    "model_Final.add(Dropout(0.2))\n",
    "# Adding the second hidden layer with 16 neurons, relu as activation function and, he_uniform as weight initializer\n",
    "model_Final.add(Dense(16, activation='relu',kernel_initializer='he_uniform'))\n",
    "# Adding the third hidden layer with 8 neurons, relu as activation function and, he_uniform as weight initializer\n",
    "model_Final.add(Dense(8, activation='relu',kernel_initializer='he_uniform'))\n",
    "# Adding the output layer with one neuron and linear as activation\n",
    "model_Final.add(Dense(1, activation='linear'))\n",
    "\n",
    "model_Final.summary()"
   ],
   "metadata": {
    "collapsed": false,
    "ExecuteTime": {
     "end_time": "2024-01-10T07:13:32.318390300Z",
     "start_time": "2024-01-10T07:13:32.051842500Z"
    }
   },
   "id": "a6da0c93a1435aaa"
  },
  {
   "cell_type": "code",
   "execution_count": 58,
   "outputs": [
    {
     "name": "stdout",
     "output_type": "stream",
     "text": [
      "Epoch 1/100\n",
      "19/19 [==============================] - 1s 11ms/step - loss: 14481.4668 - mae: 105.6423 - val_loss: 14671.9004 - val_mae: 105.2378\n",
      "Epoch 2/100\n",
      "19/19 [==============================] - 0s 4ms/step - loss: 14231.6650 - mae: 104.4700 - val_loss: 14391.3926 - val_mae: 103.9312\n",
      "Epoch 3/100\n",
      "19/19 [==============================] - 0s 4ms/step - loss: 13839.7998 - mae: 102.5570 - val_loss: 13873.0996 - val_mae: 101.4614\n",
      "Epoch 4/100\n",
      "19/19 [==============================] - 0s 4ms/step - loss: 13058.9502 - mae: 98.6679 - val_loss: 12680.4980 - val_mae: 95.6684\n",
      "Epoch 5/100\n",
      "19/19 [==============================] - 0s 4ms/step - loss: 11148.5762 - mae: 88.9388 - val_loss: 9679.9287 - val_mae: 80.6392\n",
      "Epoch 6/100\n",
      "19/19 [==============================] - 0s 4ms/step - loss: 7481.7656 - mae: 69.5142 - val_loss: 5129.8149 - val_mae: 53.5562\n",
      "Epoch 7/100\n",
      "19/19 [==============================] - 0s 4ms/step - loss: 3995.0928 - mae: 48.4987 - val_loss: 3431.3789 - val_mae: 46.5478\n",
      "Epoch 8/100\n",
      "19/19 [==============================] - 0s 4ms/step - loss: 3796.7043 - mae: 48.4959 - val_loss: 3275.4331 - val_mae: 44.3306\n",
      "Epoch 9/100\n",
      "19/19 [==============================] - 0s 4ms/step - loss: 3465.6858 - mae: 46.2435 - val_loss: 3243.9219 - val_mae: 43.3522\n",
      "Epoch 10/100\n",
      "19/19 [==============================] - 0s 4ms/step - loss: 3346.2563 - mae: 44.8552 - val_loss: 3123.6821 - val_mae: 43.7466\n",
      "Epoch 11/100\n",
      "19/19 [==============================] - 0s 4ms/step - loss: 3212.4558 - mae: 45.0800 - val_loss: 3064.0327 - val_mae: 43.6607\n",
      "Epoch 12/100\n",
      "19/19 [==============================] - 0s 4ms/step - loss: 3182.0081 - mae: 44.7402 - val_loss: 3012.1096 - val_mae: 43.9087\n",
      "Epoch 13/100\n",
      "19/19 [==============================] - 0s 4ms/step - loss: 3140.7061 - mae: 44.4233 - val_loss: 3024.3433 - val_mae: 43.1471\n",
      "Epoch 14/100\n",
      "19/19 [==============================] - 0s 4ms/step - loss: 3163.8406 - mae: 44.6596 - val_loss: 2947.8806 - val_mae: 43.3077\n",
      "Epoch 15/100\n",
      "19/19 [==============================] - 0s 4ms/step - loss: 2965.3306 - mae: 42.9869 - val_loss: 2910.6079 - val_mae: 43.0117\n",
      "Epoch 16/100\n",
      "19/19 [==============================] - 0s 4ms/step - loss: 3019.4072 - mae: 43.7622 - val_loss: 2838.7944 - val_mae: 42.9486\n",
      "Epoch 17/100\n",
      "19/19 [==============================] - 0s 4ms/step - loss: 2834.7417 - mae: 41.7354 - val_loss: 2810.3523 - val_mae: 42.2417\n",
      "Epoch 18/100\n",
      "19/19 [==============================] - 0s 4ms/step - loss: 2832.4399 - mae: 41.7853 - val_loss: 2744.2930 - val_mae: 42.0213\n",
      "Epoch 19/100\n",
      "19/19 [==============================] - 0s 4ms/step - loss: 2777.3840 - mae: 42.5520 - val_loss: 2696.7119 - val_mae: 41.7653\n",
      "Epoch 20/100\n",
      "19/19 [==============================] - 0s 4ms/step - loss: 2781.4907 - mae: 42.0190 - val_loss: 2650.5828 - val_mae: 41.3997\n",
      "Epoch 21/100\n",
      "19/19 [==============================] - 0s 4ms/step - loss: 2703.9431 - mae: 41.3694 - val_loss: 2586.3350 - val_mae: 41.0095\n",
      "Epoch 22/100\n",
      "19/19 [==============================] - 0s 4ms/step - loss: 2631.5405 - mae: 40.5804 - val_loss: 2533.0886 - val_mae: 40.6358\n",
      "Epoch 23/100\n",
      "19/19 [==============================] - 0s 4ms/step - loss: 2626.4226 - mae: 40.5870 - val_loss: 2493.6929 - val_mae: 39.8831\n",
      "Epoch 24/100\n",
      "19/19 [==============================] - 0s 4ms/step - loss: 2374.6501 - mae: 39.0525 - val_loss: 2435.4915 - val_mae: 39.4857\n",
      "Epoch 25/100\n",
      "19/19 [==============================] - 0s 4ms/step - loss: 2368.0110 - mae: 38.6162 - val_loss: 2390.7815 - val_mae: 38.5634\n",
      "Epoch 26/100\n",
      "19/19 [==============================] - 0s 4ms/step - loss: 2241.8901 - mae: 37.6478 - val_loss: 2328.1436 - val_mae: 38.1948\n",
      "Epoch 27/100\n",
      "19/19 [==============================] - 0s 4ms/step - loss: 2267.0000 - mae: 37.8841 - val_loss: 2289.8308 - val_mae: 37.4505\n",
      "Epoch 28/100\n",
      "19/19 [==============================] - 0s 4ms/step - loss: 2282.5505 - mae: 37.8946 - val_loss: 2241.1523 - val_mae: 36.9054\n",
      "Epoch 29/100\n",
      "19/19 [==============================] - 0s 4ms/step - loss: 2141.8345 - mae: 36.1087 - val_loss: 2188.4763 - val_mae: 36.3972\n",
      "Epoch 30/100\n",
      "19/19 [==============================] - 0s 4ms/step - loss: 1994.6785 - mae: 34.6644 - val_loss: 2143.5564 - val_mae: 35.6333\n",
      "Epoch 31/100\n",
      "19/19 [==============================] - 0s 4ms/step - loss: 2027.8176 - mae: 36.1932 - val_loss: 2091.1467 - val_mae: 34.9173\n",
      "Epoch 32/100\n",
      "19/19 [==============================] - 0s 4ms/step - loss: 2002.1326 - mae: 34.8942 - val_loss: 2069.9966 - val_mae: 34.4713\n",
      "Epoch 33/100\n",
      "19/19 [==============================] - 0s 4ms/step - loss: 1935.0464 - mae: 34.3944 - val_loss: 2039.8789 - val_mae: 34.1803\n",
      "Epoch 34/100\n",
      "19/19 [==============================] - 0s 4ms/step - loss: 1924.6659 - mae: 33.9207 - val_loss: 2014.4031 - val_mae: 33.9163\n",
      "Epoch 35/100\n",
      "19/19 [==============================] - 0s 4ms/step - loss: 1948.0588 - mae: 33.6813 - val_loss: 1988.3378 - val_mae: 33.5344\n",
      "Epoch 36/100\n",
      "19/19 [==============================] - 0s 4ms/step - loss: 1842.3007 - mae: 33.7476 - val_loss: 1950.4307 - val_mae: 33.1327\n",
      "Epoch 37/100\n",
      "19/19 [==============================] - 0s 4ms/step - loss: 1766.0762 - mae: 32.1404 - val_loss: 1953.2622 - val_mae: 33.0487\n",
      "Epoch 38/100\n",
      "19/19 [==============================] - 0s 4ms/step - loss: 1727.9098 - mae: 32.5235 - val_loss: 1890.5813 - val_mae: 32.2899\n",
      "Epoch 39/100\n",
      "19/19 [==============================] - 0s 4ms/step - loss: 1646.2479 - mae: 31.5729 - val_loss: 1878.3031 - val_mae: 32.0314\n",
      "Epoch 40/100\n",
      "19/19 [==============================] - 0s 7ms/step - loss: 1646.7928 - mae: 31.5639 - val_loss: 1839.6622 - val_mae: 31.4748\n",
      "Epoch 41/100\n",
      "19/19 [==============================] - 0s 5ms/step - loss: 1625.5382 - mae: 30.8717 - val_loss: 1842.4901 - val_mae: 31.3846\n",
      "Epoch 42/100\n",
      "19/19 [==============================] - 0s 5ms/step - loss: 1521.2670 - mae: 29.8386 - val_loss: 1835.7139 - val_mae: 31.2892\n",
      "Epoch 43/100\n",
      "19/19 [==============================] - 0s 6ms/step - loss: 1664.2480 - mae: 30.4315 - val_loss: 1811.6937 - val_mae: 30.9451\n",
      "Epoch 44/100\n",
      "19/19 [==============================] - 0s 4ms/step - loss: 1561.9435 - mae: 29.9110 - val_loss: 1766.9634 - val_mae: 30.3847\n",
      "Epoch 45/100\n",
      "19/19 [==============================] - 0s 4ms/step - loss: 1553.9708 - mae: 29.7843 - val_loss: 1747.1700 - val_mae: 30.1778\n",
      "Epoch 46/100\n",
      "19/19 [==============================] - 0s 4ms/step - loss: 1506.4843 - mae: 29.2528 - val_loss: 1720.3553 - val_mae: 30.0979\n",
      "Epoch 47/100\n",
      "19/19 [==============================] - 0s 4ms/step - loss: 1529.9792 - mae: 29.3421 - val_loss: 1698.4388 - val_mae: 29.9112\n",
      "Epoch 48/100\n",
      "19/19 [==============================] - 0s 4ms/step - loss: 1459.8613 - mae: 29.1022 - val_loss: 1723.9696 - val_mae: 30.0877\n",
      "Epoch 49/100\n",
      "19/19 [==============================] - 0s 4ms/step - loss: 1527.4352 - mae: 29.5755 - val_loss: 1663.5784 - val_mae: 29.2966\n",
      "Epoch 50/100\n",
      "19/19 [==============================] - 0s 4ms/step - loss: 1378.9752 - mae: 28.1023 - val_loss: 1662.4396 - val_mae: 29.3054\n",
      "Epoch 51/100\n",
      "19/19 [==============================] - 0s 4ms/step - loss: 1504.4839 - mae: 29.1779 - val_loss: 1666.1184 - val_mae: 29.3047\n",
      "Epoch 52/100\n",
      "19/19 [==============================] - 0s 4ms/step - loss: 1430.2629 - mae: 28.1383 - val_loss: 1630.1406 - val_mae: 28.7593\n",
      "Epoch 53/100\n",
      "19/19 [==============================] - 0s 4ms/step - loss: 1284.0338 - mae: 27.0782 - val_loss: 1624.2734 - val_mae: 28.4399\n",
      "Epoch 54/100\n",
      "19/19 [==============================] - 0s 4ms/step - loss: 1426.2535 - mae: 28.3403 - val_loss: 1659.1680 - val_mae: 29.4263\n",
      "Epoch 55/100\n",
      "19/19 [==============================] - 0s 4ms/step - loss: 1379.7528 - mae: 28.2125 - val_loss: 1630.6248 - val_mae: 28.8705\n",
      "Epoch 56/100\n",
      "19/19 [==============================] - 0s 4ms/step - loss: 1316.0850 - mae: 27.1810 - val_loss: 1640.7247 - val_mae: 29.2016\n",
      "Epoch 57/100\n",
      "19/19 [==============================] - 0s 4ms/step - loss: 1305.2832 - mae: 27.0579 - val_loss: 1604.4224 - val_mae: 28.5823\n",
      "Epoch 58/100\n",
      "19/19 [==============================] - 0s 4ms/step - loss: 1335.4150 - mae: 26.9373 - val_loss: 1621.6976 - val_mae: 29.0113\n",
      "Epoch 59/100\n",
      "19/19 [==============================] - 0s 4ms/step - loss: 1331.1202 - mae: 27.4961 - val_loss: 1584.8365 - val_mae: 28.5139\n",
      "Epoch 60/100\n",
      "19/19 [==============================] - 0s 4ms/step - loss: 1407.9844 - mae: 28.0150 - val_loss: 1576.8517 - val_mae: 28.5494\n",
      "Epoch 61/100\n",
      "19/19 [==============================] - 0s 4ms/step - loss: 1258.8700 - mae: 26.2600 - val_loss: 1562.3473 - val_mae: 28.3278\n",
      "Epoch 62/100\n",
      "19/19 [==============================] - 0s 4ms/step - loss: 1442.0804 - mae: 28.2576 - val_loss: 1563.4961 - val_mae: 28.4779\n",
      "Epoch 63/100\n",
      "19/19 [==============================] - 0s 4ms/step - loss: 1199.9548 - mae: 26.2066 - val_loss: 1500.2686 - val_mae: 27.6350\n",
      "Epoch 64/100\n",
      "19/19 [==============================] - 0s 4ms/step - loss: 1216.8170 - mae: 25.9407 - val_loss: 1536.2200 - val_mae: 28.0658\n",
      "Epoch 65/100\n",
      "19/19 [==============================] - 0s 4ms/step - loss: 1253.4791 - mae: 26.2018 - val_loss: 1498.3971 - val_mae: 27.5441\n",
      "Epoch 66/100\n",
      "19/19 [==============================] - 0s 4ms/step - loss: 1324.9790 - mae: 26.7123 - val_loss: 1491.3425 - val_mae: 27.5048\n",
      "Epoch 67/100\n",
      "19/19 [==============================] - 0s 4ms/step - loss: 1262.9482 - mae: 26.3093 - val_loss: 1492.8579 - val_mae: 27.6971\n",
      "Epoch 68/100\n",
      "19/19 [==============================] - 0s 4ms/step - loss: 1254.5502 - mae: 26.6249 - val_loss: 1425.6035 - val_mae: 26.7418\n",
      "Epoch 69/100\n",
      "19/19 [==============================] - 0s 4ms/step - loss: 1247.3295 - mae: 26.6706 - val_loss: 1435.7087 - val_mae: 26.9051\n",
      "Epoch 70/100\n",
      "19/19 [==============================] - 0s 4ms/step - loss: 1177.4094 - mae: 25.1483 - val_loss: 1375.4542 - val_mae: 25.8189\n",
      "Epoch 71/100\n",
      "19/19 [==============================] - 0s 4ms/step - loss: 1218.2424 - mae: 26.1202 - val_loss: 1447.3802 - val_mae: 27.1420\n",
      "Epoch 72/100\n",
      "19/19 [==============================] - 0s 4ms/step - loss: 1192.6669 - mae: 26.1562 - val_loss: 1494.2401 - val_mae: 27.5213\n",
      "Epoch 73/100\n",
      "19/19 [==============================] - 0s 4ms/step - loss: 1203.0294 - mae: 25.2551 - val_loss: 1468.4165 - val_mae: 27.2272\n",
      "Epoch 74/100\n",
      "19/19 [==============================] - 0s 4ms/step - loss: 1177.2611 - mae: 25.4858 - val_loss: 1469.4640 - val_mae: 27.2425\n",
      "Epoch 75/100\n",
      "19/19 [==============================] - 0s 4ms/step - loss: 1215.3365 - mae: 25.7528 - val_loss: 1480.8319 - val_mae: 27.5272\n"
     ]
    }
   ],
   "source": [
    "# Initializing the Optimizer\n",
    "optimizer = Adam(0.001)\n",
    "# Compiling the model with 'mse' as loss function and metrics\n",
    "model_Final.compile(loss='mse',\n",
    "                    optimizer=optimizer,\n",
    "                    metrics=['mae'])\n",
    "# Adding the callbacks\n",
    "es_cb = callbacks.EarlyStopping(monitor='val_loss', min_delta=0.001, patience=5)\n",
    "# Fitting the model on train and validation with 50 epochs\n",
    "history_Final = model_Final.fit(X_train_scaled, y_train, validation_data=(X_val_scaled, y_val), epochs=100,callbacks=es_cb)"
   ],
   "metadata": {
    "collapsed": false,
    "ExecuteTime": {
     "end_time": "2024-01-10T07:13:39.074300400Z",
     "start_time": "2024-01-10T07:13:32.130640200Z"
    }
   },
   "id": "4c92a8a2abefd8c6"
  },
  {
   "cell_type": "code",
   "execution_count": 59,
   "outputs": [
    {
     "data": {
      "text/plain": "<Figure size 640x480 with 1 Axes>",
      "image/png": "[encoded data removed]"
     },
     "metadata": {},
     "output_type": "display_data"
    }
   ],
   "source": [
    "plt.title('Loss / Mean Squared Error')\n",
    "plt.plot(history_Final.history['loss'], label='train')\n",
    "plt.plot(history_Final.history['val_loss'], label='validate')\n",
    "plt.legend()\n",
    "plt.show()"
   ],
   "metadata": {
    "collapsed": false,
    "ExecuteTime": {
     "end_time": "2024-01-10T07:13:39.432553600Z",
     "start_time": "2024-01-10T07:13:38.930480600Z"
    }
   },
   "id": "dc0c3030b9823f3"
  },
  {
   "cell_type": "code",
   "execution_count": 60,
   "outputs": [
    {
     "name": "stdout",
     "output_type": "stream",
     "text": [
      "5/5 [==============================] - 0s 2ms/step\n",
      "Validation Performance\n"
     ]
    },
    {
     "data": {
      "text/plain": "        RMSE        MAE  R-squared  Adj. R-squared\n0  38.481578  27.527246   0.589268        0.534718",
      "text/html": "<div>\n<style scoped>\n    .dataframe tbody tr th:only-of-type {\n        vertical-align: middle;\n    }\n\n    .dataframe tbody tr th {\n        vertical-align: top;\n    }\n\n    .dataframe thead th {\n        text-align: right;\n    }\n</style>\n<table border=\"1\" class=\"dataframe\">\n  <thead>\n    <tr style=\"text-align: right;\">\n      <th></th>\n      <th>RMSE</th>\n      <th>MAE</th>\n      <th>R-squared</th>\n      <th>Adj. R-squared</th>\n    </tr>\n  </thead>\n  <tbody>\n    <tr>\n      <th>0</th>\n      <td>38.481578</td>\n      <td>27.527246</td>\n      <td>0.589268</td>\n      <td>0.534718</td>\n    </tr>\n  </tbody>\n</table>\n</div>"
     },
     "execution_count": 60,
     "metadata": {},
     "output_type": "execute_result"
    }
   ],
   "source": [
    "y_result_final = model_Final.predict(X_val_scaled)\n",
    "print(\"Validation Performance\\n\")\n",
    "final_train = model_performance_regression(X_val_scaled,y_val, y_result_final)\n",
    "final_train"
   ],
   "metadata": {
    "collapsed": false,
    "ExecuteTime": {
     "end_time": "2024-01-10T07:13:39.434325600Z",
     "start_time": "2024-01-10T07:13:39.107734400Z"
    }
   },
   "id": "79fc2b762cf90ab1"
  },
  {
   "cell_type": "code",
   "execution_count": 61,
   "outputs": [
    {
     "name": "stdout",
     "output_type": "stream",
     "text": [
      "3/3 [==============================] - 0s 2ms/step\n",
      "Validation Performance\n"
     ]
    },
    {
     "data": {
      "text/plain": "        RMSE        MAE  R-squared  Adj. R-squared\n0  37.361698  26.588446   0.402057        0.240708",
      "text/html": "<div>\n<style scoped>\n    .dataframe tbody tr th:only-of-type {\n        vertical-align: middle;\n    }\n\n    .dataframe tbody tr th {\n        vertical-align: top;\n    }\n\n    .dataframe thead th {\n        text-align: right;\n    }\n</style>\n<table border=\"1\" class=\"dataframe\">\n  <thead>\n    <tr style=\"text-align: right;\">\n      <th></th>\n      <th>RMSE</th>\n      <th>MAE</th>\n      <th>R-squared</th>\n      <th>Adj. R-squared</th>\n    </tr>\n  </thead>\n  <tbody>\n    <tr>\n      <th>0</th>\n      <td>37.361698</td>\n      <td>26.588446</td>\n      <td>0.402057</td>\n      <td>0.240708</td>\n    </tr>\n  </tbody>\n</table>\n</div>"
     },
     "execution_count": 61,
     "metadata": {},
     "output_type": "execute_result"
    }
   ],
   "source": [
    "y_result_final_test = model_Final.predict(X_test_scaled)\n",
    "print(\"Validation Performance\\n\")\n",
    "final_test = model_performance_regression(X_test_scaled,y_test, y_result_final_test)\n",
    "final_test"
   ],
   "metadata": {
    "collapsed": false,
    "ExecuteTime": {
     "end_time": "2024-01-10T07:13:39.441334900Z",
     "start_time": "2024-01-10T07:13:39.243179600Z"
    }
   },
   "id": "541cdd2a5a13c506"
  },
  {
   "cell_type": "markdown",
   "source": [
    "# Summary"
   ],
   "metadata": {
    "collapsed": false
   },
   "id": "aef13827bc14c3ae"
  },
  {
   "cell_type": "code",
   "execution_count": 62,
   "outputs": [
    {
     "name": "stdout",
     "output_type": "stream",
     "text": [
      "Training performance comparison:\n"
     ]
    },
    {
     "data": {
      "text/plain": "                      ANN  Early drop    Dropout  Batch Normalization  \\\nRMSE            37.116528   37.205562  38.614262            48.435282   \nMAE             28.053597   26.794821  26.819207            26.649943   \nR-squared        0.617891    0.616056   0.586431             0.349307   \nAdj. R-squared   0.567142    0.565063   0.531504             0.262887   \n\n                    Final  \nRMSE            38.481578  \nMAE             27.527246  \nR-squared        0.589268  \nAdj. R-squared   0.534718  ",
      "text/html": "<div>\n<style scoped>\n    .dataframe tbody tr th:only-of-type {\n        vertical-align: middle;\n    }\n\n    .dataframe tbody tr th {\n        vertical-align: top;\n    }\n\n    .dataframe thead th {\n        text-align: right;\n    }\n</style>\n<table border=\"1\" class=\"dataframe\">\n  <thead>\n    <tr style=\"text-align: right;\">\n      <th></th>\n      <th>ANN</th>\n      <th>Early drop</th>\n      <th>Dropout</th>\n      <th>Batch Normalization</th>\n      <th>Final</th>\n    </tr>\n  </thead>\n  <tbody>\n    <tr>\n      <th>RMSE</th>\n      <td>37.116528</td>\n      <td>37.205562</td>\n      <td>38.614262</td>\n      <td>48.435282</td>\n      <td>38.481578</td>\n    </tr>\n    <tr>\n      <th>MAE</th>\n      <td>28.053597</td>\n      <td>26.794821</td>\n      <td>26.819207</td>\n      <td>26.649943</td>\n      <td>27.527246</td>\n    </tr>\n    <tr>\n      <th>R-squared</th>\n      <td>0.617891</td>\n      <td>0.616056</td>\n      <td>0.586431</td>\n      <td>0.349307</td>\n      <td>0.589268</td>\n    </tr>\n    <tr>\n      <th>Adj. R-squared</th>\n      <td>0.567142</td>\n      <td>0.565063</td>\n      <td>0.531504</td>\n      <td>0.262887</td>\n      <td>0.534718</td>\n    </tr>\n  </tbody>\n</table>\n</div>"
     },
     "execution_count": 62,
     "metadata": {},
     "output_type": "execute_result"
    }
   ],
   "source": [
    "models_train_comp_df = pd.concat(\n",
    "    [\n",
    "        ANN_train.T,\n",
    "        ES_train.T,\n",
    "        DO_train.T,\n",
    "        BN_train.T,\n",
    "        final_train.T\n",
    "    ],\n",
    "    axis=1,\n",
    ")\n",
    "\n",
    "models_train_comp_df.columns = [\n",
    "    'ANN',\n",
    "    'Early drop',\n",
    "    'Dropout',\n",
    "    'Batch Normalization',\n",
    "    'Final'\n",
    "]\n",
    "\n",
    "print(\"Training performance comparison:\")\n",
    "models_train_comp_df"
   ],
   "metadata": {
    "collapsed": false,
    "ExecuteTime": {
     "end_time": "2024-01-10T07:13:39.441334900Z",
     "start_time": "2024-01-10T07:13:39.329692900Z"
    }
   },
   "id": "cccb1fefe0de8814"
  },
  {
   "cell_type": "code",
   "execution_count": 63,
   "outputs": [
    {
     "name": "stdout",
     "output_type": "stream",
     "text": [
      "Testing performance comparison:\n"
     ]
    },
    {
     "data": {
      "text/plain": "                      ANN  Early drop    Dropout  Batch Normalization  \\\nRMSE            41.811978   40.226683  37.100662            37.304853   \nMAE             29.784734   28.870222  25.917334            22.442382   \nR-squared        0.251128    0.306838   0.410383             0.403875   \nAdj. R-squared   0.049051    0.119794   0.251281             0.243016   \n\n                    Final  \nRMSE            37.361698  \nMAE             26.588446  \nR-squared        0.402057  \nAdj. R-squared   0.240708  ",
      "text/html": "<div>\n<style scoped>\n    .dataframe tbody tr th:only-of-type {\n        vertical-align: middle;\n    }\n\n    .dataframe tbody tr th {\n        vertical-align: top;\n    }\n\n    .dataframe thead th {\n        text-align: right;\n    }\n</style>\n<table border=\"1\" class=\"dataframe\">\n  <thead>\n    <tr style=\"text-align: right;\">\n      <th></th>\n      <th>ANN</th>\n      <th>Early drop</th>\n      <th>Dropout</th>\n      <th>Batch Normalization</th>\n      <th>Final</th>\n    </tr>\n  </thead>\n  <tbody>\n    <tr>\n      <th>RMSE</th>\n      <td>41.811978</td>\n      <td>40.226683</td>\n      <td>37.100662</td>\n      <td>37.304853</td>\n      <td>37.361698</td>\n    </tr>\n    <tr>\n      <th>MAE</th>\n      <td>29.784734</td>\n      <td>28.870222</td>\n      <td>25.917334</td>\n      <td>22.442382</td>\n      <td>26.588446</td>\n    </tr>\n    <tr>\n      <th>R-squared</th>\n      <td>0.251128</td>\n      <td>0.306838</td>\n      <td>0.410383</td>\n      <td>0.403875</td>\n      <td>0.402057</td>\n    </tr>\n    <tr>\n      <th>Adj. R-squared</th>\n      <td>0.049051</td>\n      <td>0.119794</td>\n      <td>0.251281</td>\n      <td>0.243016</td>\n      <td>0.240708</td>\n    </tr>\n  </tbody>\n</table>\n</div>"
     },
     "execution_count": 63,
     "metadata": {},
     "output_type": "execute_result"
    }
   ],
   "source": [
    "models_test_comp_df = pd.concat(\n",
    "    [\n",
    "        ANN_test.T,\n",
    "        ES_test.T,\n",
    "        DO_test.T,\n",
    "        BN_test.T,\n",
    "        final_test.T\n",
    "    ],\n",
    "    axis=1,\n",
    ")\n",
    "\n",
    "models_test_comp_df.columns = [\n",
    "    'ANN',\n",
    "    'Early drop',\n",
    "    'Dropout',\n",
    "    'Batch Normalization',\n",
    "    'Final'\n",
    "]\n",
    "\n",
    "print(\"Testing performance comparison:\")\n",
    "models_test_comp_df"
   ],
   "metadata": {
    "collapsed": false,
    "ExecuteTime": {
     "end_time": "2024-01-10T07:13:39.442849200Z",
     "start_time": "2024-01-10T07:13:39.341039900Z"
    }
   },
   "id": "bea9934eb721d844"
  },
  {
   "cell_type": "markdown",
   "source": [
    "# Overall result"
   ],
   "metadata": {
    "collapsed": false
   },
   "id": "335b79d9b69d35c3"
  },
  {
   "cell_type": "code",
   "execution_count": 64,
   "outputs": [],
   "source": [
    "X_scaled = scaler.fit_transform(X)"
   ],
   "metadata": {
    "collapsed": false,
    "ExecuteTime": {
     "end_time": "2024-01-10T07:13:39.442849200Z",
     "start_time": "2024-01-10T07:13:39.351721400Z"
    }
   },
   "id": "b3070909a7b816cf"
  },
  {
   "cell_type": "code",
   "execution_count": 65,
   "outputs": [
    {
     "name": "stdout",
     "output_type": "stream",
     "text": [
      "26/26 [==============================] - 0s 1ms/step\n"
     ]
    },
    {
     "data": {
      "text/plain": "     True Values  Predicted Values\n0           30.0         43.842819\n1           60.0         47.854801\n2          100.0         66.838310\n3          140.0         86.209221\n4           40.0         64.694283\n..           ...               ...\n802         90.0         71.684563\n803        110.0        102.572060\n804         65.0         73.047821\n805        100.0         91.792160\n806         50.0         72.954956\n\n[807 rows x 2 columns]",
      "text/html": "<div>\n<style scoped>\n    .dataframe tbody tr th:only-of-type {\n        vertical-align: middle;\n    }\n\n    .dataframe tbody tr th {\n        vertical-align: top;\n    }\n\n    .dataframe thead th {\n        text-align: right;\n    }\n</style>\n<table border=\"1\" class=\"dataframe\">\n  <thead>\n    <tr style=\"text-align: right;\">\n      <th></th>\n      <th>True Values</th>\n      <th>Predicted Values</th>\n    </tr>\n  </thead>\n  <tbody>\n    <tr>\n      <th>0</th>\n      <td>30.0</td>\n      <td>43.842819</td>\n    </tr>\n    <tr>\n      <th>1</th>\n      <td>60.0</td>\n      <td>47.854801</td>\n    </tr>\n    <tr>\n      <th>2</th>\n      <td>100.0</td>\n      <td>66.838310</td>\n    </tr>\n    <tr>\n      <th>3</th>\n      <td>140.0</td>\n      <td>86.209221</td>\n    </tr>\n    <tr>\n      <th>4</th>\n      <td>40.0</td>\n      <td>64.694283</td>\n    </tr>\n    <tr>\n      <th>...</th>\n      <td>...</td>\n      <td>...</td>\n    </tr>\n    <tr>\n      <th>802</th>\n      <td>90.0</td>\n      <td>71.684563</td>\n    </tr>\n    <tr>\n      <th>803</th>\n      <td>110.0</td>\n      <td>102.572060</td>\n    </tr>\n    <tr>\n      <th>804</th>\n      <td>65.0</td>\n      <td>73.047821</td>\n    </tr>\n    <tr>\n      <th>805</th>\n      <td>100.0</td>\n      <td>91.792160</td>\n    </tr>\n    <tr>\n      <th>806</th>\n      <td>50.0</td>\n      <td>72.954956</td>\n    </tr>\n  </tbody>\n</table>\n<p>807 rows × 2 columns</p>\n</div>"
     },
     "execution_count": 65,
     "metadata": {},
     "output_type": "execute_result"
    }
   ],
   "source": [
    "y_pred = model_Final.predict(X_scaled)\n",
    "df_predictions = pd.DataFrame({'True Values': Y.values.flatten(), 'Predicted Values': y_pred.flatten()})\n",
    "df_predictions"
   ],
   "metadata": {
    "collapsed": false,
    "ExecuteTime": {
     "end_time": "2024-01-10T07:13:39.908289600Z",
     "start_time": "2024-01-10T07:13:39.360701100Z"
    }
   },
   "id": "df51a2b830edb593"
  },
  {
   "cell_type": "code",
   "execution_count": 66,
   "outputs": [
    {
     "data": {
      "text/plain": "     True Values  Predicted Values  Difference\n0           30.0         43.842819  -13.842819\n1           60.0         47.854801   12.145199\n2          100.0         66.838310   33.161690\n3          140.0         86.209221   53.790779\n4           40.0         64.694283  -24.694283\n..           ...               ...         ...\n802         90.0         71.684563   18.315437\n803        110.0        102.572060    7.427940\n804         65.0         73.047821   -8.047821\n805        100.0         91.792160    8.207840\n806         50.0         72.954956  -22.954956\n\n[807 rows x 3 columns]",
      "text/html": "<div>\n<style scoped>\n    .dataframe tbody tr th:only-of-type {\n        vertical-align: middle;\n    }\n\n    .dataframe tbody tr th {\n        vertical-align: top;\n    }\n\n    .dataframe thead th {\n        text-align: right;\n    }\n</style>\n<table border=\"1\" class=\"dataframe\">\n  <thead>\n    <tr style=\"text-align: right;\">\n      <th></th>\n      <th>True Values</th>\n      <th>Predicted Values</th>\n      <th>Difference</th>\n    </tr>\n  </thead>\n  <tbody>\n    <tr>\n      <th>0</th>\n      <td>30.0</td>\n      <td>43.842819</td>\n      <td>-13.842819</td>\n    </tr>\n    <tr>\n      <th>1</th>\n      <td>60.0</td>\n      <td>47.854801</td>\n      <td>12.145199</td>\n    </tr>\n    <tr>\n      <th>2</th>\n      <td>100.0</td>\n      <td>66.838310</td>\n      <td>33.161690</td>\n    </tr>\n    <tr>\n      <th>3</th>\n      <td>140.0</td>\n      <td>86.209221</td>\n      <td>53.790779</td>\n    </tr>\n    <tr>\n      <th>4</th>\n      <td>40.0</td>\n      <td>64.694283</td>\n      <td>-24.694283</td>\n    </tr>\n    <tr>\n      <th>...</th>\n      <td>...</td>\n      <td>...</td>\n      <td>...</td>\n    </tr>\n    <tr>\n      <th>802</th>\n      <td>90.0</td>\n      <td>71.684563</td>\n      <td>18.315437</td>\n    </tr>\n    <tr>\n      <th>803</th>\n      <td>110.0</td>\n      <td>102.572060</td>\n      <td>7.427940</td>\n    </tr>\n    <tr>\n      <th>804</th>\n      <td>65.0</td>\n      <td>73.047821</td>\n      <td>-8.047821</td>\n    </tr>\n    <tr>\n      <th>805</th>\n      <td>100.0</td>\n      <td>91.792160</td>\n      <td>8.207840</td>\n    </tr>\n    <tr>\n      <th>806</th>\n      <td>50.0</td>\n      <td>72.954956</td>\n      <td>-22.954956</td>\n    </tr>\n  </tbody>\n</table>\n<p>807 rows × 3 columns</p>\n</div>"
     },
     "execution_count": 66,
     "metadata": {},
     "output_type": "execute_result"
    }
   ],
   "source": [
    "df_predictions['Difference'] = df_predictions['True Values'] - df_predictions['Predicted Values']\n",
    "df_predictions"
   ],
   "metadata": {
    "collapsed": false,
    "ExecuteTime": {
     "end_time": "2024-01-10T07:13:39.908289600Z",
     "start_time": "2024-01-10T07:13:39.478874200Z"
    }
   },
   "id": "228e24e298f86dbf"
  },
  {
   "cell_type": "code",
   "execution_count": 67,
   "outputs": [
    {
     "data": {
      "text/plain": "<Figure size 500x500 with 1 Axes>",
      "image/png": "[encoded data removed]"
     },
     "metadata": {},
     "output_type": "display_data"
    }
   ],
   "source": [
    "r2 = r2_score(df_predictions['True Values'], df_predictions['Predicted Values'])\n",
    "adj_r2 = adj_r2_score(X_scaled, Y, y_pred)\n",
    "rmse = mean_squared_error(df_predictions['True Values'], df_predictions['Predicted Values'], squared=False)\n",
    "\n",
    "# Create the lmplot\n",
    "sns.set(style=\"whitegrid\")\n",
    "lm_plot = sns.lmplot(data=df_predictions, x='True Values', y='Predicted Values', ci=True, line_kws={'color': 'red'})\n",
    "\n",
    "# Annotate the plot with R2 and RMSE\n",
    "plt.text(0.05, 0.95, f'ADJ_R2: {adj_r2:.3f}', transform=plt.gca().transAxes)\n",
    "plt.text(0.05, 0.9, f'RMSE: {rmse:.3f}', transform=plt.gca().transAxes)\n",
    "\n",
    "# Display the plot\n",
    "plt.show()"
   ],
   "metadata": {
    "collapsed": false,
    "ExecuteTime": {
     "end_time": "2024-01-10T07:13:40.093896300Z",
     "start_time": "2024-01-10T07:13:39.492122100Z"
    }
   },
   "id": "ae39893fca7900eb"
  }
 ],
 "metadata": {
  "kernelspec": {
   "display_name": "Python 3",
   "language": "python",
   "name": "python3"
  },
  "language_info": {
   "codemirror_mode": {
    "name": "ipython",
    "version": 2
   },
   "file_extension": ".py",
   "mimetype": "text/x-python",
   "name": "python",
   "nbconvert_exporter": "python",
   "pygments_lexer": "ipython2",
   "version": "2.7.6"
  }
 },
 "nbformat": 4,
 "nbformat_minor": 5
}
